{
 "cells": [
  {
   "metadata": {},
   "cell_type": "markdown",
   "source": [
    "Write a Python program to find all the numbers from 0-9 from a string:\n",
    "\n",
    "input: '89ADFRE41'\n",
    "\n",
    "Output :[8941]\n",
    "\n",
    "Write a Python program to find two elements once in a list where every element appears exactly n times in the list. \n",
    "Input : [1, 2, 1, 3, 2, 5], 2    (n=2)\n",
    "Output :[5, 3]\n",
    "\n",
    " Write a Python program to reverse the digits of an integer. \n",
    "Input : 234\n",
    "Input : -234\n",
    "Output: 432\n",
    "Output : -432"
   ],
   "id": "d194d8fc0c04464d"
  },
  {
   "metadata": {
    "ExecuteTime": {
     "end_time": "2024-05-12T09:59:14.894881Z",
     "start_time": "2024-05-12T09:59:14.890140Z"
    }
   },
   "cell_type": "code",
   "source": [
    "'''\n",
    "Write a Python program to find all the numbers from 0-9 from a string:\n",
    "input: '89ADFRE41'\n",
    "Output :[8941]\n",
    "'''\n",
    "\n",
    "\n",
    "def find_numbers(s: str) -> list[int]:\n",
    "    result = []\n",
    "\n",
    "    for i in range(len(s)):\n",
    "        if s[i].isnumeric():\n",
    "            result.append(int(s[i]))\n",
    "\n",
    "    return result\n",
    "\n",
    "\n",
    "print(find_numbers('89ADFRE41'))"
   ],
   "id": "cd08625549d03034",
   "outputs": [
    {
     "name": "stdout",
     "output_type": "stream",
     "text": [
      "[8, 9, 4, 1]\n"
     ]
    }
   ],
   "execution_count": 2
  },
  {
   "metadata": {
    "ExecuteTime": {
     "end_time": "2024-05-12T10:04:46.556488Z",
     "start_time": "2024-05-12T10:04:46.541896Z"
    }
   },
   "cell_type": "code",
   "source": [
    "'''\n",
    "Write a Python program to find two elements once in a list where every element appears exactly n times in the list. \n",
    "Input : [1, 2, 1, 3, 2, 5], 2 (n=2) \n",
    "Output :[5, 3]\n",
    "'''\n",
    "\n",
    "\n",
    "def find_two(nums: list[int], n: int) -> list[int]:\n",
    "    result = []\n",
    "    mapping = {}\n",
    "\n",
    "    for i in range(len(nums)):\n",
    "        mapping[nums[i]] = mapping.get(nums[i], 0) + 1\n",
    "\n",
    "    for key, value in mapping.items():\n",
    "        if value < n:\n",
    "            result.append(key)\n",
    "\n",
    "    return result\n",
    "\n",
    "\n",
    "print(find_two([1, 2, 1, 3, 2, 5], 2))"
   ],
   "id": "9910542f436ddfb2",
   "outputs": [
    {
     "name": "stdout",
     "output_type": "stream",
     "text": [
      "[3, 5]\n"
     ]
    }
   ],
   "execution_count": 5
  },
  {
   "metadata": {
    "ExecuteTime": {
     "end_time": "2024-05-12T10:09:23.268314Z",
     "start_time": "2024-05-12T10:09:23.255646Z"
    }
   },
   "cell_type": "code",
   "source": [
    "'''\n",
    "Write a Python program to reverse the digits of an integer. \n",
    "Input : 234 Input : -234 \n",
    "Output: 432 Output : -432\n",
    "'''\n",
    "\n",
    "\n",
    "def reverse_digits(num: int) -> int:\n",
    "    sign = 1\n",
    "\n",
    "    if num < 0:\n",
    "        sign = -1\n",
    "        num *= -1\n",
    "\n",
    "    num = int(str(num)[::-1])\n",
    "\n",
    "    return num * sign\n",
    "\n",
    "\n",
    "print(reverse_digits(234))\n",
    "print(reverse_digits(-234))"
   ],
   "id": "72ba915abdbdfcc",
   "outputs": [
    {
     "name": "stdout",
     "output_type": "stream",
     "text": [
      "432 1 432\n",
      "432\n",
      "432 -1 -432\n",
      "-432\n"
     ]
    }
   ],
   "execution_count": 15
  },
  {
   "metadata": {},
   "cell_type": "code",
   "outputs": [],
   "execution_count": null,
   "source": "",
   "id": "1f370413b2a310ea"
  }
 ],
 "metadata": {
  "kernelspec": {
   "display_name": "Python 3",
   "language": "python",
   "name": "python3"
  },
  "language_info": {
   "codemirror_mode": {
    "name": "ipython",
    "version": 2
   },
   "file_extension": ".py",
   "mimetype": "text/x-python",
   "name": "python",
   "nbconvert_exporter": "python",
   "pygments_lexer": "ipython2",
   "version": "2.7.6"
  }
 },
 "nbformat": 4,
 "nbformat_minor": 5
}
