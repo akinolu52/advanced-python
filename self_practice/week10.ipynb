{
 "cells": [
  {
   "metadata": {},
   "cell_type": "markdown",
   "source": [
    "Q1) Given two non-negative integers num1 and num2 represented as strings, return the product of num1 and num2, also represented as a string.\n",
    "\n",
    "Note: You must not use any built-in BigInteger library or convert the inputs to integer directly.\n",
    "\n",
    " \n",
    "\n",
    "Example 1:\n",
    "\n",
    "Input: num1 = \"2\", num2 = \"3\"\n",
    "\n",
    "Output: \"6\"\n",
    "\n",
    "\n",
    "Q2) The count-and-say sequence is a sequence of digit strings defined by the recursive formula:\n",
    "\n",
    "countAndSay(1) = \"1\"\n",
    "countAndSay(n) is the way you would \"say\" the digit string from countAndSay(n-1), which is then converted into a different digit string.\n",
    "To determine how you \"say\" a digit string, split it into the minimal number of substrings such that each substring contains exactly one unique digit. Then for each substring, say the number of digits, then say the digit. Finally, concatenate every said digit."
   ],
   "id": "8f7ff59f6dd0d244"
  },
  {
   "metadata": {
    "ExecuteTime": {
     "end_time": "2024-05-13T10:59:09.016241Z",
     "start_time": "2024-05-13T10:59:08.993528Z"
    }
   },
   "cell_type": "code",
   "source": [
    "'''\n",
    "Given two non-negative integers num1 and num2 represented as strings, return the product of num1 and num2,\n",
    "also represented as a string.\n",
    "\n",
    "Note: You must not use any built-in BigInteger library or convert the inputs to integer directly.\n",
    "\n",
    "\n",
    "Example 1:\n",
    "\n",
    "Input: num1 = \"2\", num2 = \"3\"\n",
    "\n",
    "Output: \"6\"\n",
    "'''\n",
    "\n",
    "\n",
    "def multiply(num1: str, num2: str) -> str:\n",
    "    result = \"\"\n",
    "\n",
    "    # fail fast for string with 0 in it\n",
    "    if \"0\" in [num1, num2]:\n",
    "        return \"0\"\n",
    "\n",
    "    # swap element if num2 ie grater\n",
    "    if num2 > num1:\n",
    "        num1, num2 = num2, num1\n",
    "\n",
    "    m, n = len(num1), len(num2)\n",
    "    result = [0] * (m + n)\n",
    "\n",
    "    for i in range(m - 1, -1, -1):\n",
    "        for j in range(n - 1, -1, -1):\n",
    "            mul = int(num1[i]) * int(num2[j])\n",
    "\n",
    "            pos1, pos2 = i + j, i + j + 1\n",
    "            total = mul + result[pos2]\n",
    "            result[pos2] = total % 10\n",
    "            result[pos1] += total // 10\n",
    "\n",
    "    result_str = ''.join(map(str, result)).lstrip('0')\n",
    "    return result_str if result_str else \"0\"\n",
    "\n",
    "\n",
    "print(multiply('2', '3'))\n",
    "print(multiply('0', '1'))\n",
    "print(multiply('12', '12'))\n",
    "print(multiply('4123', '456'))"
   ],
   "id": "56194cc30902c7da",
   "execution_count": 36,
   "outputs": []
  },
  {
   "metadata": {},
   "cell_type": "code",
   "execution_count": null,
   "source": "",
   "id": "c303d96d82271fba",
   "outputs": []
  }
 ],
 "metadata": {
  "kernelspec": {
   "display_name": "Python 3",
   "language": "python",
   "name": "python3"
  },
  "language_info": {
   "codemirror_mode": {
    "name": "ipython",
    "version": 2
   },
   "file_extension": ".py",
   "mimetype": "text/x-python",
   "name": "python",
   "nbconvert_exporter": "python",
   "pygments_lexer": "ipython2",
   "version": "2.7.6"
  }
 },
 "nbformat": 4,
 "nbformat_minor": 5
}
