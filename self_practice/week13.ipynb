{
 "cells": [
  {
   "cell_type": "code",
   "execution_count": null,
   "id": "initial_id",
   "metadata": {
    "collapsed": true
   },
   "outputs": [],
   "source": [
    "# Q1Given a signed 32-bit integer x, return x with its digits reversed. If reversing x causes the value to go outside the signed 32-bit integer range [-231, 231 - 1], then return 0.\n",
    "# \n",
    "# Assume the environment does not allow you to store 64-bit integers (signed or unsigned).\n",
    "# \n",
    "# Example 1:\n",
    "# \n",
    "# Input: x = 123\n",
    "# \n",
    "# Output: 321\n",
    "# \n",
    "# Q2 You are given an n x n 2D matrix representing an image, rotate the image by 90 degrees (clockwise).\n",
    "# \n",
    "# You have to rotate the image in-place, which means you have to modify the input 2D matrix directly. DO NOT allocate another 2D matrix and do the rotation.\n",
    "# \n",
    "#  \n",
    "# \n",
    "# Example 1:\n",
    "# \n",
    "# \n",
    "# \n",
    "# Input: matrix = [[1,2,3],[4,5,6],[7,8,9]]\n",
    "# \n",
    "# Output: [[7,4,1],[8,5,2],[9,6,3]]\n",
    "# \n",
    "# Q3 Given an m x n grid of characters board and a string word, return true if word exists in the grid.\n",
    "# \n",
    "# The word can be constructed from letters of sequentially adjacent cells, where adjacent cells are horizontally or vertically neighboring. The same letter cell may not be used more than once.\n",
    "# \n",
    "#  \n",
    "# \n",
    "# Example 1:\n",
    "# \n",
    "# \n",
    "# \n",
    "# Input: board = [[\"A\",\"B\",\"C\",\"E\"],[\"S\",\"F\",\"C\",\"S\"],[\"A\",\"D\",\"E\",\"E\"]], word = \"ABCCED\"\n",
    "# \n",
    "# Output: true\n",
    "#"
   ]
  },
  {
   "metadata": {
    "ExecuteTime": {
     "end_time": "2024-08-05T02:35:34.188153Z",
     "start_time": "2024-08-05T02:35:34.183561Z"
    }
   },
   "cell_type": "code",
   "source": [
    "# Q1\n",
    "def reverse(x):\n",
    "    if x < 0:\n",
    "        x = -int(str(x)[:0:-1])\n",
    "    else:\n",
    "        x = int(str(x)[::-1])\n",
    "    if x < -2 ** 31 or x > 2 ** 31 - 1:\n",
    "        return 0\n",
    "    return x\n",
    "\n",
    "\n",
    "print(reverse(123))"
   ],
   "id": "2407dfeac50862f8",
   "outputs": [
    {
     "name": "stdout",
     "output_type": "stream",
     "text": [
      "321\n"
     ]
    }
   ],
   "execution_count": 1
  },
  {
   "metadata": {
    "ExecuteTime": {
     "end_time": "2024-08-05T02:36:42.082520Z",
     "start_time": "2024-08-05T02:36:42.079542Z"
    }
   },
   "cell_type": "code",
   "source": "-int(str('-123')[:0:-1])",
   "id": "e6355ab46b56a9a",
   "outputs": [
    {
     "data": {
      "text/plain": [
       "-321"
      ]
     },
     "execution_count": 3,
     "metadata": {},
     "output_type": "execute_result"
    }
   ],
   "execution_count": 3
  },
  {
   "metadata": {
    "ExecuteTime": {
     "end_time": "2024-08-05T02:37:14.700612Z",
     "start_time": "2024-08-05T02:37:14.695348Z"
    }
   },
   "cell_type": "code",
   "source": [
    "# Q2\n",
    "def rotate(matrix):\n",
    "    n = len(matrix)\n",
    "    for i in range(n):\n",
    "        for j in range(i, n):\n",
    "            matrix[i][j], matrix[j][i] = matrix[j][i], matrix[i][j]\n",
    "    for row in matrix:\n",
    "        row.reverse()\n",
    "    return matrix\n",
    "\n",
    "\n",
    "print(rotate([[1, 2, 3], [4, 5, 6], [7, 8, 9]]))"
   ],
   "id": "c43df7cb090ed161",
   "outputs": [
    {
     "name": "stdout",
     "output_type": "stream",
     "text": [
      "[[7, 4, 1], [8, 5, 2], [9, 6, 3]]\n"
     ]
    }
   ],
   "execution_count": 4
  },
  {
   "metadata": {
    "ExecuteTime": {
     "end_time": "2024-08-05T02:37:33.032289Z",
     "start_time": "2024-08-05T02:37:33.026196Z"
    }
   },
   "cell_type": "code",
   "source": [
    "# Q3\n",
    "def exist(board, word):\n",
    "    def dfs(i, j, k):\n",
    "        if not 0 <= i < len(board) or not 0 <= j < len(board[0]) or board[i][j] != word[k]:\n",
    "            return False\n",
    "        if k == len(word) - 1:\n",
    "            return True\n",
    "        tmp, board[i][j] = board[i][j], '/'\n",
    "        res = dfs(i + 1, j, k + 1) or dfs(i - 1, j, k + 1) or dfs(i, j + 1, k + 1) or dfs(i, j - 1, k + 1)\n",
    "        board[i][j] = tmp\n",
    "        return res\n",
    "\n",
    "    for i in range(len(board)):\n",
    "        for j in range(len(board[0])):\n",
    "            if dfs(i, j, 0):\n",
    "                return True\n",
    "    return False\n",
    "\n",
    "\n",
    "print(exist([[\"A\", \"B\", \"C\", \"E\"], [\"S\", \"F\", \"C\", \"S\"], [\"A\", \"D\", \"E\", \"E\"]], \"ABCCED\"))"
   ],
   "id": "c74b6e179d31bb67",
   "outputs": [
    {
     "name": "stdout",
     "output_type": "stream",
     "text": [
      "True\n"
     ]
    }
   ],
   "execution_count": 5
  },
  {
   "metadata": {},
   "cell_type": "code",
   "outputs": [],
   "execution_count": null,
   "source": "",
   "id": "43fcf0b906ae7d1b"
  }
 ],
 "metadata": {
  "kernelspec": {
   "display_name": "Python 3",
   "language": "python",
   "name": "python3"
  },
  "language_info": {
   "codemirror_mode": {
    "name": "ipython",
    "version": 2
   },
   "file_extension": ".py",
   "mimetype": "text/x-python",
   "name": "python",
   "nbconvert_exporter": "python",
   "pygments_lexer": "ipython2",
   "version": "2.7.6"
  }
 },
 "nbformat": 4,
 "nbformat_minor": 5
}
