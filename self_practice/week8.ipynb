{
 "cells": [
  {
   "cell_type": "markdown",
   "id": "c20bfc3ba390d6eb",
   "metadata": {},
   "source": [
    "Q1. Write a function to find the longest common prefix string amongst an array of strings.\n",
    "\n",
    "If there is no common prefix, return an empty string \"\".\n",
    "\n",
    " \n",
    "\n",
    "Example 1:\n",
    "\n",
    "Input: strs = [\"flower\",\"flow\",\"flight\"]\n",
    "\n",
    "Output: \"fl\"\n",
    "\n",
    "Q2. Given an array nums of size n, return the majority element.\n",
    "\n",
    "The majority element is the element that appears more than ⌊n / 2⌋ times. You may assume that the majority element always exists in the array.\n",
    "\n",
    " \n",
    "\n",
    "Example 1:\n",
    "\n",
    "Input: nums = [3,2,3]\n",
    "\n",
    "Output: 3"
   ]
  },
  {
   "cell_type": "code",
   "execution_count": 10,
   "id": "155b010c3352e7b",
   "metadata": {
    "ExecuteTime": {
     "end_time": "2024-05-12T12:01:29.975837Z",
     "start_time": "2024-05-12T12:01:29.972900Z"
    }
   },
   "outputs": [
    {
     "name": "stdout",
     "output_type": "stream",
     "text": [
      "fl\n"
     ]
    }
   ],
   "source": [
    "'''\n",
    "Write a function to find the longest common prefix string amongst an array of strings.\n",
    "If there is no common prefix, return an empty string \"\".\n",
    "\n",
    "Example 1:\n",
    "\n",
    "Input: strs = [\"flower\",\"flow\",\"flight\"]\n",
    "Output: \"fl\"\n",
    "'''\n",
    "\n",
    "\n",
    "def longest_common_prefix(strs: list[str]) -> str:\n",
    "    if len(strs) == 0:\n",
    "        return ''\n",
    "\n",
    "    strs = list(set(strs))\n",
    "    shortest_string = min(strs, key=len)\n",
    "    strs.remove(shortest_string)\n",
    "\n",
    "    for s in strs:\n",
    "        while len(shortest_string) > 0:\n",
    "            if s.startswith(shortest_string):\n",
    "                break\n",
    "            shortest_string = shortest_string[:-1]\n",
    "\n",
    "    return shortest_string\n",
    "\n",
    "\n",
    "print(longest_common_prefix([\"flower\", \"flow\", \"flight\"]))"
   ]
  },
  {
   "cell_type": "code",
   "execution_count": 19,
   "id": "66ec32f221620bab",
   "metadata": {
    "ExecuteTime": {
     "end_time": "2024-05-12T12:06:24.035217Z",
     "start_time": "2024-05-12T12:06:24.033806Z"
    }
   },
   "outputs": [],
   "source": [
    "'''\n",
    "Q2. Given an array nums of size n, return the majority element.\n",
    "\n",
    "The majority element is the element that appears more than ⌊n / 2⌋ times. \n",
    "You may assume that the majority element always exists in the array.\n",
    "\n",
    "Example 1:\n",
    "Input: nums = [3,2,3]\n",
    "Output: 3\n",
    "'''\n",
    "\n",
    "\n",
    "def majority_element(nums: list[int]) -> int:\n",
    "    mapping = {}\n",
    "\n",
    "    for num in nums:\n",
    "        mapping[num] = mapping.get(num, 0) + 1\n",
    "\n",
    "    max_value = 0\n",
    "    max_key = None\n",
    "    for key, value in mapping.items():\n",
    "        if value > max_value:\n",
    "            max_value = value\n",
    "            max_key = key\n",
    "\n",
    "    return max_key\n",
    "\n",
    "\n",
    "print(majority_element([3, 2, 3]))"
   ]
  },
  {
   "cell_type": "code",
   "execution_count": 1,
   "id": "49070a5a50d2145f",
   "metadata": {},
   "outputs": [
    {
     "name": "stdout",
     "output_type": "stream",
     "text": [
      "flow\n",
      "flow\n"
     ]
    }
   ],
   "source": [
    "def longest_common_prefix(strs: list[str]) -> str:\n",
    "    shortest_str = min(strs, key=len)\n",
    "    \n",
    "    print(shortest_str)\n",
    "    \n",
    "    return shortest_str\n",
    "\n",
    "\n",
    "\n",
    "print(longest_common_prefix([\"flower\", \"flow\", \"flight\"]))"
   ]
  },
  {
   "cell_type": "code",
   "execution_count": null,
   "id": "e81c4b42",
   "metadata": {},
   "outputs": [],
   "source": []
  }
 ],
 "metadata": {
  "kernelspec": {
   "display_name": "Python 3 (ipykernel)",
   "language": "python",
   "name": "python3"
  },
  "language_info": {
   "codemirror_mode": {
    "name": "ipython",
    "version": 3
   },
   "file_extension": ".py",
   "mimetype": "text/x-python",
   "name": "python",
   "nbconvert_exporter": "python",
   "pygments_lexer": "ipython3",
   "version": "3.11.5"
  }
 },
 "nbformat": 4,
 "nbformat_minor": 5
}
