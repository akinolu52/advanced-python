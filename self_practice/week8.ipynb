{
 "cells": [
  {
   "metadata": {},
   "cell_type": "markdown",
   "source": [
    "Q1. Write a function to find the longest common prefix string amongst an array of strings.\n",
    "\n",
    "If there is no common prefix, return an empty string \"\".\n",
    "\n",
    " \n",
    "\n",
    "Example 1:\n",
    "\n",
    "Input: strs = [\"flower\",\"flow\",\"flight\"]\n",
    "\n",
    "Output: \"fl\"\n",
    "\n",
    "Q2. Given an array nums of size n, return the majority element.\n",
    "\n",
    "The majority element is the element that appears more than ⌊n / 2⌋ times. You may assume that the majority element always exists in the array.\n",
    "\n",
    " \n",
    "\n",
    "Example 1:\n",
    "\n",
    "Input: nums = [3,2,3]\n",
    "\n",
    "Output: 3"
   ],
   "id": "c20bfc3ba390d6eb"
  },
  {
   "metadata": {
    "ExecuteTime": {
     "end_time": "2024-05-12T12:01:29.975837Z",
     "start_time": "2024-05-12T12:01:29.972900Z"
    }
   },
   "cell_type": "code",
   "source": [
    "'''\n",
    "Write a function to find the longest common prefix string amongst an array of strings.\n",
    "If there is no common prefix, return an empty string \"\".\n",
    "\n",
    "Example 1:\n",
    "\n",
    "Input: strs = [\"flower\",\"flow\",\"flight\"]\n",
    "Output: \"fl\"\n",
    "'''\n",
    "\n",
    "\n",
    "def longest_common_prefix(strs: list[str]) -> str:\n",
    "    if len(strs) == 0:\n",
    "        return ''\n",
    "\n",
    "    strs = list(set(strs))\n",
    "    shortest_string = min(strs, key=len)\n",
    "    strs.remove(shortest_string)\n",
    "\n",
    "    for s in strs:\n",
    "        while len(shortest_string) > 0:\n",
    "            if s.startswith(shortest_string):\n",
    "                break\n",
    "            shortest_string = shortest_string[:-1]\n",
    "\n",
    "    return shortest_string\n",
    "\n",
    "\n",
    "print(longest_common_prefix([\"flower\", \"flow\", \"flight\"]))"
   ],
   "id": "155b010c3352e7b",
   "outputs": [
    {
     "name": "stdout",
     "output_type": "stream",
     "text": [
      "fl\n"
     ]
    }
   ],
   "execution_count": 10
  },
  {
   "metadata": {
    "ExecuteTime": {
     "end_time": "2024-05-12T12:06:24.035217Z",
     "start_time": "2024-05-12T12:06:24.033806Z"
    }
   },
   "cell_type": "code",
   "source": "",
   "id": "66ec32f221620bab",
   "outputs": [],
   "execution_count": 19
  },
  {
   "metadata": {},
   "cell_type": "code",
   "outputs": [],
   "execution_count": null,
   "source": "",
   "id": "49070a5a50d2145f"
  }
 ],
 "metadata": {
  "kernelspec": {
   "display_name": "Python 3",
   "language": "python",
   "name": "python3"
  },
  "language_info": {
   "codemirror_mode": {
    "name": "ipython",
    "version": 2
   },
   "file_extension": ".py",
   "mimetype": "text/x-python",
   "name": "python",
   "nbconvert_exporter": "python",
   "pygments_lexer": "ipython2",
   "version": "2.7.6"
  }
 },
 "nbformat": 4,
 "nbformat_minor": 5
}
