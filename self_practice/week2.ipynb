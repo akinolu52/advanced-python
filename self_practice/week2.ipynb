{
 "cells": [
  {
   "metadata": {},
   "cell_type": "markdown",
   "source": [
    "### QUESTIONS\n",
    "\n",
    "Do not use any of Python functions:\n",
    "\n",
    "A- Write a Python program to check if a number is a perfect square\n",
    "\n",
    "B- Write a Python program to find a missing number from a list. \n",
    "Input : [1,2,3,4,6,7,8]\n",
    "Output : 5\n",
    "\n",
    "C- Write a Python program to find the single number in a list that doesn't occur twice.\n",
    "Input : [5, 3, 4, 3, 4]\n",
    "Output : 5"
   ],
   "id": "6743e4dfd446334c"
  },
  {
   "metadata": {
    "ExecuteTime": {
     "end_time": "2024-05-11T12:41:43.679371Z",
     "start_time": "2024-05-11T12:41:43.674416Z"
    }
   },
   "cell_type": "code",
   "source": [
    "'''\n",
    "    Write a Python program to check if a number is a perfect square\n",
    "    \n",
    "    THOUGHT PROCESS\n",
    "    a perfect square is a square number i.e \n",
    "    4 => 2 * 2, 9 => 3 * 3\n",
    "    loop and increment through every number check if the product is a perfect square\n",
    "'''\n",
    "\n",
    "\n",
    "def is_perfect_square(num: int) -> bool:\n",
    "    if num < 1:\n",
    "        return False\n",
    "\n",
    "    count = 0\n",
    "    while count * count <= num:\n",
    "        if count * count == num:\n",
    "            return True\n",
    "        else:\n",
    "            count += 1\n",
    "\n",
    "    return False\n",
    "\n",
    "\n",
    "print(is_perfect_square(10))\n",
    "print(is_perfect_square(100))\n",
    "print(is_perfect_square(25))\n",
    "print(is_perfect_square(50))\n",
    "print(is_perfect_square(64))\n"
   ],
   "id": "c6872725bfbee998",
   "execution_count": 1,
   "outputs": []
  },
  {
   "metadata": {
    "ExecuteTime": {
     "end_time": "2024-05-11T13:16:59.997735Z",
     "start_time": "2024-05-11T13:16:59.977155Z"
    }
   },
   "cell_type": "code",
   "source": [
    "'''\n",
    "    Write a Python program to find a missing number from a list. \n",
    "    Input : [1,2,3,4,6,7,8]\n",
    "    Output : 5\n",
    "    \n",
    "    THOUGHT PROCESS:\n",
    "    since the number have a start and endpoint\n",
    "    find the sum of the range of the start and endpoint + 1\n",
    "    then the result is the difference between the sum of the range and the sum of the input numbers\n",
    "'''\n",
    "\n",
    "\n",
    "def check_missing_number(nums: list[int]) -> int:\n",
    "    if len(nums) < 1:\n",
    "        return -1\n",
    "\n",
    "    start = min(nums)\n",
    "    end = max(nums) + 1\n",
    "\n",
    "    return sum(range(start, end)) - sum(nums)\n",
    "\n",
    "\n",
    "print(check_missing_number([1, 2, 3, 4, 6, 7, 8]))\n",
    "print(check_missing_number([10, 11, 13, 14, 15, 16, 17, 18, 19, 20]))"
   ],
   "id": "eb56d0920aeeeebd",
   "execution_count": 31,
   "outputs": []
  },
  {
   "metadata": {
    "ExecuteTime": {
     "end_time": "2024-05-11T13:09:42.146324Z",
     "start_time": "2024-05-11T13:09:42.137501Z"
    }
   },
   "cell_type": "code",
   "source": [
    "'''\n",
    "    Write a Python program to find the single number in a list that doesn't occur twice. \n",
    "    Input : [5, 3, 4, 3, 4] \n",
    "    Output : 5\n",
    "    \n",
    "    THOUGHT PROCESS:\n",
    "    sort the number in ascending order \n",
    "    then pick value in the current index and check if it's the same as the value in the next index\n",
    "    if it's not the same return the value of the current index\n",
    "'''\n",
    "\n",
    "\n",
    "def find_single_number(nums: list[int]) -> int:\n",
    "    if len(nums) < 1:\n",
    "        return -1\n",
    "\n",
    "    nums = sorted(nums)\n",
    "    nums_len = len(nums)\n",
    "\n",
    "    num_1 = nums[0]\n",
    "\n",
    "    for index in range(0, nums_len, 2):\n",
    "        num_1 = nums[index]\n",
    "\n",
    "        if index < nums_len - 1:\n",
    "            num_2 = nums[index + 1]\n",
    "\n",
    "            if num_1 != num_2:\n",
    "                return num_2\n",
    "\n",
    "    return num_1\n",
    "\n",
    "\n",
    "print(find_single_number([5, 3, 4, 3, 4]))\n",
    "print(find_single_number([6, 6, 8, 8, 9, 10, 10]))"
   ],
   "id": "9ecbfb6bf505523c",
   "execution_count": 30,
   "outputs": []
  },
  {
   "metadata": {},
   "cell_type": "code",
   "execution_count": null,
   "source": "",
   "id": "4f59182623c173c0",
   "outputs": []
  }
 ],
 "metadata": {
  "kernelspec": {
   "display_name": "Python 3",
   "language": "python",
   "name": "python3"
  },
  "language_info": {
   "codemirror_mode": {
    "name": "ipython",
    "version": 2
   },
   "file_extension": ".py",
   "mimetype": "text/x-python",
   "name": "python",
   "nbconvert_exporter": "python",
   "pygments_lexer": "ipython2",
   "version": "2.7.6"
  }
 },
 "nbformat": 4,
 "nbformat_minor": 5
}
