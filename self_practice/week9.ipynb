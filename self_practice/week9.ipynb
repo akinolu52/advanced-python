{
 "cells": [
  {
   "cell_type": "markdown",
   "id": "dab494b27ab1a281",
   "metadata": {},
   "source": [
    "Q1: A phrase is a palindrome if, after converting all uppercase letters into lowercase letters and removing all non-alphanumeric characters, it reads the same forward and backward. Alphanumeric characters include letters and numbers. Given a string s, return true if it is a palindrome, or false otherwise.\n",
    "\n",
    "Example 1:\n",
    "\n",
    "Input: s = \"A man, a plan, a canal: Panama\"\n",
    "\n",
    "Output: true\n",
    "\n",
    "Explanation: \"amanaplanacanalpanama\" is a palindrome.\n",
    "\n",
    "Example 2:\n",
    "\n",
    "Input: s = \"race a car\"\n",
    "\n",
    "Output: false\n",
    "\n",
    "Explanation: \"raceacar\" is not a palindrome.\n",
    "\n",
    " \n",
    "\n",
    "Q2 Given an array nums of size n, return the majority element. The majority element is the element that appears more than ⌊n / 2⌋ times. You may assume that the majority element always exists in the array.\n",
    "\n",
    "Example 1:\n",
    "\n",
    "Input: nums = [3,2,3]\n",
    "\n",
    "Output: 3\n",
    "\n",
    "Example 2:\n",
    "\n",
    "Input: nums = [2,2,1,1,1,2,2]\n",
    "\n",
    "Output: 2\n",
    "\n",
    "Q3 Write an algorithm to determine if a number n is happy. A happy number is a number defined by the following process:\n",
    "\n",
    "Starting with any positive integer, replace the number by the sum of the squares of its digits.\n",
    "Repeat the process until the number equals 1 (where it will stay), or it loops endlessly in a cycle which does not include 1.\n",
    "Those numbers for which this process ends in 1 are happy.\n",
    "Return true if n is a happy number, and false if not.\n",
    "\n",
    " Example 1:\n",
    "\n",
    "Input: n = 19\n",
    "\n",
    "Output: true\n",
    "\n",
    "Explanation:\n",
    "\n",
    "12 + 92 = 82\n",
    "\n",
    "82 + 22 = 68\n",
    "\n",
    "62 + 82 = 100\n",
    "\n",
    "12 + 02 + 02 = 1\n",
    "\n",
    "Example 2:\n",
    "\n",
    "Input: n = 2\n",
    "\n",
    "Output: false"
   ]
  },
  {
   "cell_type": "code",
   "execution_count": 5,
   "id": "1ad30f421acdfb85",
   "metadata": {
    "ExecuteTime": {
     "end_time": "2024-05-13T09:51:32.878577Z",
     "start_time": "2024-05-13T09:51:32.873751Z"
    }
   },
   "outputs": [
    {
     "name": "stdout",
     "output_type": "stream",
     "text": [
      "True\n",
      "False\n"
     ]
    }
   ],
   "source": [
    "'''\n",
    "A phrase is a palindrome if, after converting all uppercase letters into lowercase letters and removing all non-alphanumeric characters, it reads the same forward and backward. \n",
    "Alphanumeric characters include letters and numbers. Given a string s, return true if it is a palindrome, or false otherwise.\n",
    "\n",
    "Example 1:\n",
    "\n",
    "Input: s = \"A man, a plan, a canal: Panama\"\n",
    "\n",
    "Output: true\n",
    "\n",
    "Explanation: \"amanaplanacanalpanama\" is a palindrome.\n",
    "\n",
    "'''\n",
    "\n",
    "\n",
    "def is_palindrome(s: str) -> bool:\n",
    "    # remove all non-alphanumeric characters\n",
    "    s_list = list()\n",
    "    for ch in s:\n",
    "        if ch.isalnum():\n",
    "            s_list.append(ch.lower())\n",
    "\n",
    "    return s_list == s_list[::-1]\n",
    "\n",
    "\n",
    "print(is_palindrome('A man, a plan, a canal: Panama'))\n",
    "print(is_palindrome(\"race a car\"))"
   ]
  },
  {
   "cell_type": "code",
   "execution_count": 7,
   "id": "21183c80768e98d",
   "metadata": {
    "ExecuteTime": {
     "end_time": "2024-05-13T09:54:22.650017Z",
     "start_time": "2024-05-13T09:54:22.647361Z"
    }
   },
   "outputs": [
    {
     "name": "stdout",
     "output_type": "stream",
     "text": [
      "3\n",
      "2\n"
     ]
    }
   ],
   "source": [
    "'''\n",
    "Given an array nums of size n, return the majority element. The majority element is the element that appears more than ⌊n / 2⌋ times. You may assume that the majority element always exists in the array.\n",
    "\n",
    "Example 1:\n",
    "\n",
    "Input: nums = [3,2,3]\n",
    "\n",
    "Output: 3\n",
    "\n",
    "Example 2:\n",
    "\n",
    "Input: nums = [2,2,1,1,1,2,2]\n",
    "\n",
    "Output: 2\n",
    "'''\n",
    "\n",
    "\n",
    "def majority(nums: list[int]) -> int:\n",
    "    mapping = {}\n",
    "\n",
    "    for num in nums:\n",
    "        mapping[num] = mapping.get(num, 0) + 1\n",
    "\n",
    "    max_count = 0\n",
    "    max_key = None\n",
    "    for key, value in mapping.items():\n",
    "        if value > max_count:\n",
    "            max_count = value\n",
    "            max_key = key\n",
    "\n",
    "    return max_key\n",
    "\n",
    "\n",
    "print(majority([3, 2, 3]))\n",
    "print(majority([2, 2, 1, 1, 1, 2, 2]))"
   ]
  },
  {
   "cell_type": "code",
   "execution_count": 3,
   "id": "53f144fedf99bfa1",
   "metadata": {
    "ExecuteTime": {
     "end_time": "2024-05-13T10:03:30.879259Z",
     "start_time": "2024-05-13T10:03:30.872452Z"
    }
   },
   "outputs": [
    {
     "name": "stdout",
     "output_type": "stream",
     "text": [
      "True\n",
      "False\n",
      "False\n"
     ]
    }
   ],
   "source": [
    "\n",
    "'''\n",
    "Write an algorithm to determine if a number n is happy. A happy number is a number defined by the following process:\n",
    "\n",
    "Starting with any positive integer, replace the number by the sum of the squares of its digits.\n",
    "Repeat the process until the number equals 1 (where it will stay), or it loops endlessly in a cycle which does not include 1.\n",
    "Those numbers for which this process ends in 1 are happy.\n",
    "Return true if n is a happy number, and false if not.\n",
    "\n",
    " Example 1:\n",
    "\n",
    "Input: n = 19\n",
    "\n",
    "Output: true\n",
    "'''\n",
    "\n",
    "\n",
    "def is_happy(n: int) -> bool:\n",
    "    if n == 1:\n",
    "        return True\n",
    "    elif str(n) == 1:\n",
    "        return False\n",
    "\n",
    "    def loop_number(num: str) -> str:\n",
    "        res = 0\n",
    "        for ch in num:\n",
    "            res += int(ch) ** 2\n",
    "        return str(res)\n",
    "\n",
    "    result = str(n)\n",
    "    while True:\n",
    "        result = loop_number(result)\n",
    "\n",
    "        if len(result) == 1:\n",
    "            break\n",
    "    \n",
    "    return int(result) == 1\n",
    "\n",
    "\n",
    "print(is_happy(19))\n",
    "print(is_happy(20))\n",
    "print(is_happy(2))"
   ]
  },
  {
   "cell_type": "code",
   "execution_count": null,
   "id": "71d02ee6",
   "metadata": {},
   "outputs": [],
   "source": []
  }
 ],
 "metadata": {
  "kernelspec": {
   "display_name": "Python 3 (ipykernel)",
   "language": "python",
   "name": "python3"
  },
  "language_info": {
   "codemirror_mode": {
    "name": "ipython",
    "version": 3
   },
   "file_extension": ".py",
   "mimetype": "text/x-python",
   "name": "python",
   "nbconvert_exporter": "python",
   "pygments_lexer": "ipython3",
   "version": "3.11.5"
  }
 },
 "nbformat": 4,
 "nbformat_minor": 5
}
