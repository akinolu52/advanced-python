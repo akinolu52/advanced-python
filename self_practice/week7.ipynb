{
 "cells": [
  {
   "cell_type": "markdown",
   "id": "e428a92b040f9ec8",
   "metadata": {},
   "source": [
    "Q1 )\n",
    "\n",
    "Given an integer x, return true if x is palindrome integer.\n",
    "\n",
    "An integer is a palindrome when it reads the same backward as forward.\n",
    "\n",
    "For example, 121 is a palindrome while 123 is not.\n",
    " \n",
    "\n",
    "Q2)\n",
    "\n",
    "Roman numerals are represented by seven different symbols: I, V, X, L, C, D and M.\n",
    "\n",
    "Symbol       Value\n",
    "\n",
    "I             1\n",
    "\n",
    "V             5\n",
    "\n",
    "X             10\n",
    "\n",
    "L             50\n",
    "\n",
    "C             100\n",
    "\n",
    "D             500\n",
    "\n",
    "M             1000\n",
    "\n",
    "For example, 2 is written as II in Roman numeral, just two ones added together. 12 is written as XII, which is simply X + II. The number 27 is written as XXVII, which is XX + V + II.\n",
    "\n",
    "Roman numerals are usually written largest to smallest from left to right. However, the numeral for four is not IIII. Instead, the number four is written as IV. Because the one is before the five we subtract it making four. The same principle applies to the number nine, which is written as IX. There are six instances where subtraction is used:\n",
    "\n",
    "I can be placed before V (5) and X (10) to make 4 and 9. \n",
    "X can be placed before L (50) and C (100) to make 40 and 90. \n",
    "C can be placed before D (500) and M (1000) to make 400 and 900.\n",
    "Given a roman numeral, convert it to an integer.\n",
    "\n",
    " \n",
    "\n",
    "Example 1:\n",
    "\n",
    "Input: s = \"III\"\n",
    "\n",
    "Output: 3\n",
    "\n",
    "Explanation: III = 3.\n",
    "\n",
    " \n",
    "\n",
    "Input: s = \"LVIII\"\n",
    "\n",
    "Output: 58\n",
    "\n",
    "Explanation: L = 50, V= 5, III = 3."
   ]
  },
  {
   "cell_type": "code",
   "execution_count": 5,
   "id": "b28b83f603ae6f5e",
   "metadata": {
    "ExecuteTime": {
     "end_time": "2024-05-12T10:29:09.816035Z",
     "start_time": "2024-05-12T10:29:09.813794Z"
    }
   },
   "outputs": [
    {
     "name": "stdout",
     "output_type": "stream",
     "text": [
      "False\n",
      "True\n",
      "False\n"
     ]
    }
   ],
   "source": [
    "'''\n",
    "Given an integer x, return true if x is palindrome integer.\n",
    "An integer is a palindrome when it reads the same backward as forward.\n",
    "For example, 121 is a palindrome while 123 is not.\n",
    "'''\n",
    "\n",
    "\n",
    "def is_palindrome(num: int) -> bool:\n",
    "    return str(num) == str(num)[::-1]\n",
    "\n",
    "\n",
    "print(is_palindrome(10))\n",
    "print(is_palindrome(121))\n",
    "print(is_palindrome(123))"
   ]
  },
  {
   "cell_type": "code",
   "execution_count": 6,
   "id": "c69b26a5c612608b",
   "metadata": {
    "ExecuteTime": {
     "end_time": "2024-05-12T11:50:40.817895Z",
     "start_time": "2024-05-12T11:50:40.786648Z"
    }
   },
   "outputs": [
    {
     "name": "stdout",
     "output_type": "stream",
     "text": [
      "1\n",
      "4\n",
      "5\n",
      "50\n",
      "100\n",
      "1994\n",
      "994\n",
      "58\n",
      "7\n"
     ]
    }
   ],
   "source": [
    "def roman_to_int(roman: str) -> int:\n",
    "    mapping = {\n",
    "        'I': 1,\n",
    "        'V': 5,\n",
    "        'X': 10,\n",
    "        'L': 50,\n",
    "        'C': 100,\n",
    "        'D': 500,\n",
    "        'M': 1000,\n",
    "    }\n",
    "    result = 0\n",
    "    previous = None\n",
    "\n",
    "    for ch in roman:\n",
    "        value = mapping.get(ch)\n",
    "        if previous and previous < value:\n",
    "            result -= previous\n",
    "            value -= previous\n",
    "        result += value\n",
    "        previous = value\n",
    "\n",
    "    return result\n",
    "\n",
    "\n",
    "print(roman_to_int('I'))\n",
    "print(roman_to_int('IV'))\n",
    "print(roman_to_int('V'))\n",
    "print(roman_to_int('L'))\n",
    "print(roman_to_int('C'))\n",
    "print(roman_to_int('MCMXCIV'))\n",
    "print(roman_to_int('CMXCIV'))\n",
    "print(roman_to_int('LVIII'))\n",
    "print(roman_to_int('VII'))"
   ]
  },
  {
   "cell_type": "code",
   "execution_count": null,
   "id": "1f4acbf090fb4d03",
   "metadata": {},
   "outputs": [],
   "source": []
  }
 ],
 "metadata": {
  "kernelspec": {
   "display_name": "Python 3 (ipykernel)",
   "language": "python",
   "name": "python3"
  },
  "language_info": {
   "codemirror_mode": {
    "name": "ipython",
    "version": 3
   },
   "file_extension": ".py",
   "mimetype": "text/x-python",
   "name": "python",
   "nbconvert_exporter": "python",
   "pygments_lexer": "ipython3",
   "version": "3.11.5"
  }
 },
 "nbformat": 4,
 "nbformat_minor": 5
}
