{
 "cells": [
  {
   "metadata": {},
   "cell_type": "markdown",
   "source": [
    "### QUESTIONS\n",
    "\n",
    "Write a Python program to find the single element in a list where every element appears multiple times except for one.\n",
    "Input : [5, 3, 4, 3, 5, 5, 3],\n",
    "Output : 4\n",
    "\n",
    "\n",
    "Write a Python program to compute and return the square root of a given 'integer'. \n",
    "Input : 16\n",
    "Output : 4\n",
    "Note : The returned value will be an 'integer', do not use square root functions from python.\n",
    "\n",
    "\n",
    "Write a Python program to check a sequence of numbers is a geometric progression or not. \n",
    "Input : [2, 6, 18, 54]\n",
    "Output : True"
   ],
   "id": "aec9ebd9c6a65b5"
  },
  {
   "metadata": {
    "ExecuteTime": {
     "end_time": "2024-05-11T14:46:03.023727Z",
     "start_time": "2024-05-11T14:46:03.018372Z"
    }
   },
   "cell_type": "code",
   "source": [
    "'''\n",
    "Write a Python program to find the single element in a list where every element appears multiple times except for one.\n",
    "Input : [5, 3, 4, 3, 5, 5, 3],\n",
    "Output : 4\n",
    "'''\n",
    "\n",
    "\n",
    "def find_single_element(nums: list[int]) -> int:\n",
    "    mapping = {}\n",
    "\n",
    "    for num in nums:\n",
    "        mapping[num] = mapping.get(num, 0) + 1\n",
    "\n",
    "    for key, value in mapping.items():\n",
    "        if value == 1:\n",
    "            return key\n",
    "\n",
    "    return -1"
   ],
   "id": "440c007515478505",
   "outputs": [],
   "execution_count": 2
  },
  {
   "metadata": {
    "ExecuteTime": {
     "end_time": "2024-05-11T14:56:37.220009Z",
     "start_time": "2024-05-11T14:56:37.217330Z"
    }
   },
   "cell_type": "code",
   "source": [
    "'''\n",
    "Write a Python program to compute and return the square root of a given 'integer'. \n",
    "Input : 16\n",
    "Output : 4\n",
    "Note : The returned value will be an 'integer', do not use square root functions from python.\n",
    "'''\n",
    "\n",
    "\n",
    "def square_root(num: int) -> int:\n",
    "    if num < 1:\n",
    "        return -1\n",
    "\n",
    "    count = 0\n",
    "    while count * count <= num:\n",
    "        if count * count == num:\n",
    "            return count\n",
    "        count += 1\n",
    "    return -1\n",
    "\n",
    "\n",
    "print(square_root(16))\n",
    "print(square_root(4))\n",
    "print(square_root(5))"
   ],
   "id": "fb8c8aa760c90cb",
   "outputs": [
    {
     "name": "stdout",
     "output_type": "stream",
     "text": [
      "4\n",
      "2\n",
      "-1\n"
     ]
    }
   ],
   "execution_count": 6
  },
  {
   "metadata": {
    "ExecuteTime": {
     "end_time": "2024-05-12T09:56:09.946227Z",
     "start_time": "2024-05-12T09:56:09.941327Z"
    }
   },
   "cell_type": "code",
   "source": [
    "'''\n",
    "Write a Python program to check a sequence of numbers is a geometric progression or not. \n",
    "Input : [2, 6, 18, 54]\n",
    "Output : True\n",
    "'''\n",
    "\n",
    "\n",
    "def is_geometric_progression(nums: list[int]) -> bool:\n",
    "    n = len(nums)\n",
    "\n",
    "    if n < 2:\n",
    "        return False\n",
    "\n",
    "    ratio = nums[1] / nums[0]\n",
    "\n",
    "    for i in range(1, n):\n",
    "        if nums[i] / nums[i - 1] != ratio:\n",
    "            return False\n",
    "\n",
    "    return True\n",
    "\n",
    "\n",
    "print(is_geometric_progression([2, 6, 18, 54]))"
   ],
   "id": "65460248d8be046a",
   "outputs": [
    {
     "name": "stdout",
     "output_type": "stream",
     "text": [
      "True\n"
     ]
    }
   ],
   "execution_count": 8
  },
  {
   "metadata": {},
   "cell_type": "code",
   "outputs": [],
   "execution_count": null,
   "source": "",
   "id": "5d734c49c20cf6a3"
  }
 ],
 "metadata": {
  "kernelspec": {
   "display_name": "Python 3",
   "language": "python",
   "name": "python3"
  },
  "language_info": {
   "codemirror_mode": {
    "name": "ipython",
    "version": 2
   },
   "file_extension": ".py",
   "mimetype": "text/x-python",
   "name": "python",
   "nbconvert_exporter": "python",
   "pygments_lexer": "ipython2",
   "version": "2.7.6"
  }
 },
 "nbformat": 4,
 "nbformat_minor": 5
}
