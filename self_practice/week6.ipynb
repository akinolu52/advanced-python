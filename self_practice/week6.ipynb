{
 "cells": [
  {
   "metadata": {},
   "cell_type": "markdown",
   "source": [
    "1-Write a Python program to check a sequence of numbers is an arithmetic progression or not. \n",
    "Input : [5, 7, 9, 11]\n",
    "Output : True\n",
    "In mathematics, an arithmetic progression or arithmetic sequence is a sequence of numbers such that the difference between the consecutive terms is constant.\n",
    "For example, the sequence 5, 7, 9, 11, 13, 15 ... is an arithmetic progression with common difference of 2.\n",
    "\n",
    " \n",
    "\n",
    "2-Write a Python program to check whether a given number is an ugly number. \n",
    "Input : 12\n",
    "Output : True\n",
    "Ugly numbers are positive numbers whose only prime factors are 2, 3 or 5. The sequence 1, 2, 3, 4, 5, 6, 8, 9, 10, 12, ...\n",
    "shows the first 10 ugly numbers.\n",
    "Note: 1 is typically treated as an ugly number\n",
    "\n",
    " \n",
    "\n",
    "3-Write a Python Function to find the single number in a list that doesn't occur n times.\n",
    "Input : [5, 3,3,4, 4, 3, 4], N=3\n",
    "Output : 5"
   ],
   "id": "80dcfcd400c32b89"
  },
  {
   "metadata": {
    "ExecuteTime": {
     "end_time": "2024-05-12T10:12:08.213150Z",
     "start_time": "2024-05-12T10:12:08.207258Z"
    }
   },
   "cell_type": "code",
   "source": [
    "'''\n",
    "Write a Python program to check a sequence of numbers is an arithmetic progression or not. \n",
    "Input : [5, 7, 9, 11]\n",
    "Output : True\n",
    "'''\n",
    "\n",
    "\n",
    "def is_arithmetic_progression(nums: list[int]) -> bool:\n",
    "    diff = nums[1] - nums[0]\n",
    "\n",
    "    for i in range(1, len(nums)):\n",
    "        if nums[i] - nums[i - 1] != diff:\n",
    "            return False\n",
    "\n",
    "    return True\n",
    "\n",
    "\n",
    "print(is_arithmetic_progression([5, 7, 9, 11]))\n",
    "print(is_arithmetic_progression([5, 7, 9, 13]))"
   ],
   "id": "3a936bf643f99688",
   "outputs": [
    {
     "name": "stdout",
     "output_type": "stream",
     "text": [
      "True\n",
      "False\n"
     ]
    }
   ],
   "execution_count": 3
  },
  {
   "metadata": {
    "ExecuteTime": {
     "end_time": "2024-05-12T10:25:05.488766Z",
     "start_time": "2024-05-12T10:25:05.474464Z"
    }
   },
   "cell_type": "code",
   "source": [
    "'''\n",
    "Write a Python program to check whether a given number is an ugly number. \n",
    "Input : 12\n",
    "Output : True\n",
    "'''\n",
    "\n",
    "\n",
    "def is_ugly_number(num: int) -> bool:\n",
    "    while num > 1:\n",
    "        if num % 2 == 0:\n",
    "            num /= 2\n",
    "        elif num % 3 == 0:\n",
    "            num /= 3\n",
    "        elif num % 5 == 0:\n",
    "            num /= 5\n",
    "        else:\n",
    "            return False\n",
    "\n",
    "    return num == 1\n",
    "\n",
    "\n",
    "print(is_ugly_number(12))\n",
    "print(is_ugly_number(14))"
   ],
   "id": "d4323df670f5f2a7",
   "outputs": [
    {
     "name": "stdout",
     "output_type": "stream",
     "text": [
      "True\n",
      "False\n"
     ]
    }
   ],
   "execution_count": 12
  },
  {
   "metadata": {
    "ExecuteTime": {
     "end_time": "2024-05-12T10:14:44.687765Z",
     "start_time": "2024-05-12T10:14:44.682037Z"
    }
   },
   "cell_type": "code",
   "source": [
    "'''\n",
    "Write a Python Function to find the single number in a list that doesn't occur n times. \n",
    "Input : [5, 3, 3, 4, 4, 3, 4], N=3 Output : 5\n",
    "'''\n",
    "\n",
    "\n",
    "def single_number(nums: list[int], n: int) -> int:\n",
    "    mapping = {}\n",
    "\n",
    "    for num in nums:\n",
    "        mapping[num] = mapping.get(num, 0) + 1\n",
    "\n",
    "    for key, value in mapping.items():\n",
    "        if value != n:\n",
    "            return key\n",
    "\n",
    "    return -1\n",
    "\n",
    "\n",
    "print(single_number([5, 3, 3, 4, 4, 3, 4], 3))"
   ],
   "id": "2912f82b7df9a3e6",
   "outputs": [
    {
     "name": "stdout",
     "output_type": "stream",
     "text": [
      "5\n"
     ]
    }
   ],
   "execution_count": 8
  },
  {
   "metadata": {},
   "cell_type": "code",
   "outputs": [],
   "execution_count": null,
   "source": "",
   "id": "b583fc0f19e2fc35"
  }
 ],
 "metadata": {
  "kernelspec": {
   "display_name": "Python 3",
   "language": "python",
   "name": "python3"
  },
  "language_info": {
   "codemirror_mode": {
    "name": "ipython",
    "version": 2
   },
   "file_extension": ".py",
   "mimetype": "text/x-python",
   "name": "python",
   "nbconvert_exporter": "python",
   "pygments_lexer": "ipython2",
   "version": "2.7.6"
  }
 },
 "nbformat": 4,
 "nbformat_minor": 5
}
