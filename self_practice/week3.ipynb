{
 "cells": [
  {
   "metadata": {},
   "cell_type": "markdown",
   "source": [
    "### QUESTIONS\n",
    "\n",
    "1-Write a Python program to find 4 numbers from an array such that the sum of 4 numbers equal to a given number.\n",
    "Input : [1, 0, -1, 0, -2, 2,10,11], 0)\n",
    "Output : [[-2, -1, 1, 2], [-2, 0, 0, 2], [-1, 0, 0, 1]]\n",
    "\n",
    "2-Write a Python program to find the single element appears once in a list where every element appears multiple times except for one. \n",
    "Input : [1, 1, 1, 2, 2, 2, 3]\n",
    "Output : 3\n",
    "\n",
    "3-Write a Python program to add the digits of a positive integer repeatedly until the result has a single digit. \n",
    "Input : 48\n",
    "Output : 3\n",
    "For example given number is 59, the result will be 5.\n",
    "Step 1: 5 + 9 = 14\n",
    "Step 1: 1 + 4 = 5"
   ],
   "id": "2c3c1cd811800622"
  },
  {
   "metadata": {
    "ExecuteTime": {
     "end_time": "2024-05-11T14:29:35.081141Z",
     "start_time": "2024-05-11T14:29:35.077299Z"
    }
   },
   "cell_type": "code",
   "source": [
    "'''\n",
    "Write a Python program to find 4 numbers from an array such that the sum of 4 numbers equal to a given number.\n",
    "Input : [1, 0, -1, 0, -2, 2, 10, 11], 0)\n",
    "Output : [[-2, -1, 1, 2], [-2, 0, 0, 2], [-1, 0, 0, 1]]\n",
    "'''\n",
    "\n",
    "\n",
    "def sum_of_four_nums(arr: list[int], target: int) -> list[list[int]]:\n",
    "    arr.sort()\n",
    "    n = len(arr)\n",
    "\n",
    "    result = set()\n",
    "\n",
    "    for i in range(n):\n",
    "        for j in range(i + 1, n):\n",
    "            left = j + 1\n",
    "            right = len(arr) - 1\n",
    "\n",
    "            while left < right:\n",
    "                total = arr[i] + arr[j] + arr[left] + arr[right]\n",
    "\n",
    "                if total == target:\n",
    "                    result.add(tuple(sorted([arr[i], arr[j], arr[left], arr[right]])))\n",
    "                    left += 1\n",
    "                    right -= 1\n",
    "                elif total < target:\n",
    "                    left += 1\n",
    "                else:\n",
    "                    right -= 1\n",
    "\n",
    "    return list(result)\n",
    "\n",
    "\n",
    "print(sum_of_four_nums([1, 0, -1, 0, -2, -2, 10, 11], 0))\n",
    "print(sum_of_four_nums([2, 2, 2, 2, 2], 8))\n"
   ],
   "id": "a33d899a704d7426",
   "outputs": [
    {
     "name": "stdout",
     "output_type": "stream",
     "text": [
      "[(-1, 0, 0, 1)]\n",
      "[(2, 2, 2, 2)]\n"
     ]
    }
   ],
   "execution_count": 17
  },
  {
   "metadata": {
    "ExecuteTime": {
     "end_time": "2024-05-11T14:33:19.092601Z",
     "start_time": "2024-05-11T14:33:19.086218Z"
    }
   },
   "cell_type": "code",
   "source": [
    "'''\n",
    "Write a Python program to find the single element appears once in a list where every element appears multiple times except for one. \n",
    "Input : [1, 1, 1, 2, 2, 2, 3]\n",
    "Output : 3\n",
    "'''\n",
    "\n",
    "\n",
    "def get_element_appears_once(nums: list[int]) -> int:\n",
    "    mapping = {}\n",
    "\n",
    "    for num in nums:\n",
    "        mapping[num] = mapping.get(num, 0) + 1\n",
    "\n",
    "    for key, value in mapping.items():\n",
    "        if value == 1:\n",
    "            return key\n",
    "\n",
    "    return -1\n",
    "\n",
    "\n",
    "print(get_element_appears_once([1, 1, 1, 2, 2, 2, 3]))\n"
   ],
   "id": "b2236ba52e3df7e5",
   "outputs": [
    {
     "name": "stdout",
     "output_type": "stream",
     "text": [
      "3\n"
     ]
    }
   ],
   "execution_count": 20
  },
  {
   "metadata": {
    "ExecuteTime": {
     "end_time": "2024-05-11T14:40:31.333156Z",
     "start_time": "2024-05-11T14:40:31.329164Z"
    }
   },
   "cell_type": "code",
   "source": [
    "'''\n",
    "Write a Python program to add the digits of a positive integer repeatedly until the result has a single digit. \n",
    "Input : 48 \n",
    "Output : 3 \n",
    "For example given number is 59, \n",
    "the result will be 5. \n",
    "Step 1: 5 + 9 = 14\n",
    "Step 1: 1 + 4 = 5\n",
    "'''\n",
    "\n",
    "\n",
    "def add_digits(num: int) -> int:\n",
    "    result = num\n",
    "\n",
    "    while True:\n",
    "        result_str = str(result)\n",
    "        a, b = result_str[0], result_str[1]\n",
    "\n",
    "        result = int(a) + int(b)\n",
    "\n",
    "        if len(str(result)) == 1:\n",
    "            break\n",
    "\n",
    "    return result\n",
    "\n",
    "\n",
    "print(add_digits(48))\n",
    "print(add_digits(59))\n"
   ],
   "id": "563c0d7ac14deb4d",
   "outputs": [
    {
     "name": "stdout",
     "output_type": "stream",
     "text": [
      "3\n",
      "5\n"
     ]
    }
   ],
   "execution_count": 27
  }
 ],
 "metadata": {
  "kernelspec": {
   "display_name": "Python 3",
   "language": "python",
   "name": "python3"
  },
  "language_info": {
   "codemirror_mode": {
    "name": "ipython",
    "version": 2
   },
   "file_extension": ".py",
   "mimetype": "text/x-python",
   "name": "python",
   "nbconvert_exporter": "python",
   "pygments_lexer": "ipython2",
   "version": "2.7.6"
  }
 },
 "nbformat": 4,
 "nbformat_minor": 5
}
