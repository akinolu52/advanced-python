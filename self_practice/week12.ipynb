{
 "cells": [
  {
   "cell_type": "code",
   "execution_count": null,
   "id": "initial_id",
   "metadata": {
    "collapsed": true
   },
   "outputs": [],
   "source": [
    "# Q1 You are given a large integer represented as an integer array digits, where each digits[i] is the ith digit of the integer. The digits are ordered from most significant to least significant in left-to-right order. The large integer does not contain any leading 0's.\n",
    "# \n",
    "# Increment the large integer by one and return the resulting array of digits.\n",
    "# \n",
    "#  Example 1:\n",
    "# \n",
    "# Input: digits = [1,2,3]\n",
    "# \n",
    "# Output: [1,2,4]\n",
    "# \n",
    "# Explanation: The array represents the integer 123.\n",
    "# \n",
    "# Incrementing by one gives 123 + 1 = 124.\n",
    "# \n",
    "# Thus, the result should be [1,2,4].\n",
    "# \n",
    "# Q2 Given two strings ransomNote and magazine, return true if ransomNote can be constructed by using the letters from magazine and false otherwise.\n",
    "# \n",
    "# Each letter in magazine can only be used once in ransomNote.\n",
    "# \n",
    "#  Example 1:\n",
    "# \n",
    "# Input: ransomNote = \"a\", magazine = \"b\"\n",
    "# \n",
    "# Output: false\n",
    "# \n",
    "# Example 2:\n",
    "# \n",
    "# Input: ransomNote = \"aa\", magazine = \"ab\"\n",
    "# \n",
    "# Output: false\n",
    "# \n",
    "# Q3 A permutation of an array of integers is an arrangement of its members into a sequence or linear order.\n",
    "# \n",
    "# For example, for arr = [1,2,3], the following are considered permutations of arr: [1,2,3], [1,3,2], [3,1,2], [2,3,1].\n",
    "# The next permutation of an array of integers is the next lexicographically greater permutation of its integer. More formally, if all the permutations of the array are sorted in one container according to their lexicographical order, then the next permutation of that array is the permutation that follows it in the sorted container. If such arrangement is not possible, the array must be rearranged as the lowest possible order (i.e., sorted in ascending order).\n",
    "# \n",
    "# For example, the next permutation of arr = [1,2,3] is [1,3,2].\n",
    "# Similarly, the next permutation of arr = [2,3,1] is [3,1,2].\n",
    "# While the next permutation of arr = [3,2,1] is [1,2,3] because [3,2,1] does not have a lexicographical larger rearrangement.\n",
    "# Given an array of integers nums, find the next permutation of nums.\n",
    "# \n",
    "# The replacement must be in place and use only constant extra memory.\n",
    "# \n",
    "#  Example 1:\n",
    "# \n",
    "# Input: nums = [1,2,3]\n",
    "# Output: [1,3,2]"
   ]
  },
  {
   "metadata": {
    "ExecuteTime": {
     "end_time": "2024-08-05T02:31:42.378724Z",
     "start_time": "2024-08-05T02:31:42.373828Z"
    }
   },
   "cell_type": "code",
   "source": [
    "# Q1\n",
    "def plus_one(digits):\n",
    "    n = len(digits)\n",
    "    for i in range(n - 1, -1, -1):\n",
    "        if digits[i] < 9:\n",
    "            digits[i] += 1\n",
    "            return digits\n",
    "        digits[i] = 0\n",
    "    return [1] + digits\n",
    "\n",
    "\n",
    "print(plus_one([1, 2, 3]))"
   ],
   "id": "2af31f1176f95784",
   "outputs": [
    {
     "name": "stdout",
     "output_type": "stream",
     "text": [
      "[1, 2, 4]\n"
     ]
    }
   ],
   "execution_count": 1
  },
  {
   "metadata": {
    "ExecuteTime": {
     "end_time": "2024-08-05T02:32:58.215957Z",
     "start_time": "2024-08-05T02:32:58.208674Z"
    }
   },
   "cell_type": "code",
   "source": [
    "# Q2\n",
    "def can_construct(ransom_note, magazine):\n",
    "    for i in ransom_note:\n",
    "        if i not in magazine:\n",
    "            return False\n",
    "        magazine = magazine.replace(i, \"\", 1)\n",
    "    return True\n",
    "\n",
    "\n",
    "print(can_construct(\"a\", \"b\"))\n",
    "print(can_construct(\"aa\", \"ab\"))"
   ],
   "id": "e5302a6d97fd61d9",
   "outputs": [
    {
     "name": "stdout",
     "output_type": "stream",
     "text": [
      "False\n",
      "False\n"
     ]
    }
   ],
   "execution_count": 4
  },
  {
   "metadata": {
    "ExecuteTime": {
     "end_time": "2024-08-05T02:33:45.925394Z",
     "start_time": "2024-08-05T02:33:45.906457Z"
    }
   },
   "cell_type": "code",
   "source": [
    "# Q3\n",
    "def next_permutation(nums):\n",
    "    i = len(nums) - 2\n",
    "    while i >= 0 and nums[i] >= nums[i + 1]:\n",
    "        i -= 1\n",
    "    if i >= 0:\n",
    "        j = len(nums) - 1\n",
    "        while j >= 0 and nums[j] <= nums[i]:\n",
    "            j -= 1\n",
    "        nums[i], nums[j] = nums[j], nums[i]\n",
    "    nums[i + 1:] = reversed(nums[i + 1:])\n",
    "    return nums\n",
    "\n",
    "\n",
    "print(next_permutation([1, 2, 3]))"
   ],
   "id": "aca5923f9915c53",
   "outputs": [
    {
     "name": "stdout",
     "output_type": "stream",
     "text": [
      "[1, 2, 3]\n"
     ]
    }
   ],
   "execution_count": 6
  },
  {
   "metadata": {},
   "cell_type": "code",
   "outputs": [],
   "execution_count": null,
   "source": "",
   "id": "7b86f92955a6ee0a"
  }
 ],
 "metadata": {
  "kernelspec": {
   "display_name": "Python 3",
   "language": "python",
   "name": "python3"
  },
  "language_info": {
   "codemirror_mode": {
    "name": "ipython",
    "version": 2
   },
   "file_extension": ".py",
   "mimetype": "text/x-python",
   "name": "python",
   "nbconvert_exporter": "python",
   "pygments_lexer": "ipython2",
   "version": "2.7.6"
  }
 },
 "nbformat": 4,
 "nbformat_minor": 5
}
