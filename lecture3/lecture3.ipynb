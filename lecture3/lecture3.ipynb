{
 "cells": [
  {
   "cell_type": "code",
   "id": "9851b494eb892d90",
   "metadata": {
    "collapsed": true,
    "ExecuteTime": {
     "end_time": "2024-05-22T01:34:48.701830Z",
     "start_time": "2024-05-22T01:34:48.695677Z"
    }
   },
   "source": [
    "\n",
    "from pymongo import MongoClient"
   ],
   "execution_count": 118,
   "outputs": []
  },
  {
   "metadata": {
    "ExecuteTime": {
     "end_time": "2024-05-22T01:34:48.814658Z",
     "start_time": "2024-05-22T01:34:48.802810Z"
    }
   },
   "cell_type": "code",
   "source": "client = MongoClient('localhost', 27017, serverSelectionTimeoutMS=5000)",
   "id": "initial_id",
   "execution_count": 119,
   "outputs": []
  },
  {
   "metadata": {
    "ExecuteTime": {
     "end_time": "2024-05-22T01:34:48.853602Z",
     "start_time": "2024-05-22T01:34:48.851607Z"
    }
   },
   "cell_type": "code",
   "source": "db = client.test",
   "id": "8b5ca204eec467e3",
   "execution_count": 120,
   "outputs": []
  },
  {
   "metadata": {
    "ExecuteTime": {
     "end_time": "2024-05-22T01:34:48.872879Z",
     "start_time": "2024-05-22T01:34:48.870795Z"
    }
   },
   "cell_type": "code",
   "source": [
    "# creating an employee collection\n",
    "\n",
    "employee = db.employee"
   ],
   "id": "858a58f7dc08a32a",
   "execution_count": 121,
   "outputs": []
  },
  {
   "metadata": {
    "ExecuteTime": {
     "end_time": "2024-05-22T01:34:48.904315Z",
     "start_time": "2024-05-22T01:34:48.896553Z"
    }
   },
   "cell_type": "code",
   "source": "print(client.list_database_names())",
   "id": "7bbd9eb3bbd57e81",
   "execution_count": 122,
   "outputs": []
  },
  {
   "metadata": {
    "ExecuteTime": {
     "end_time": "2024-05-22T01:34:48.909675Z",
     "start_time": "2024-05-22T01:34:48.907039Z"
    }
   },
   "cell_type": "code",
   "source": [
    "dblist = client.list_database_names()\n",
    "if \"test\" in dblist:\n",
    "    print(\"The {} database exist!\".format('test'))"
   ],
   "id": "a749d04f914594e4",
   "execution_count": 123,
   "outputs": []
  },
  {
   "metadata": {
    "ExecuteTime": {
     "end_time": "2024-05-22T01:34:48.924499Z",
     "start_time": "2024-05-22T01:34:48.919506Z"
    }
   },
   "cell_type": "code",
   "source": "print(db.list_collection_names())",
   "id": "104eefbbd521345e",
   "execution_count": 124,
   "outputs": []
  },
  {
   "metadata": {
    "ExecuteTime": {
     "end_time": "2024-05-22T01:34:48.933499Z",
     "start_time": "2024-05-22T01:34:48.930680Z"
    }
   },
   "cell_type": "code",
   "source": [
    "col_list = db.list_collection_names()\n",
    "\n",
    "if \"employee\" in col_list:\n",
    "    print(\"The employee collection exists.\")"
   ],
   "id": "c8b8f64482e3a4a4",
   "execution_count": 125,
   "outputs": []
  },
  {
   "metadata": {
    "ExecuteTime": {
     "end_time": "2024-05-22T01:34:48.954416Z",
     "start_time": "2024-05-22T01:34:48.949838Z"
    }
   },
   "cell_type": "code",
   "source": [
    "# insert one record\n",
    "\n",
    "employee_details = {\n",
    "    'Name': 'Emmanuel Akinyemi',\n",
    "    'Address': '5 Anipole Street, NG',\n",
    "    'Age': '28'\n",
    "}\n",
    "\n",
    "result = employee.insert_one(employee_details)"
   ],
   "id": "4bdf2c60798833f9",
   "execution_count": 126,
   "outputs": []
  },
  {
   "metadata": {
    "ExecuteTime": {
     "end_time": "2024-05-22T01:34:48.979150Z",
     "start_time": "2024-05-22T01:34:48.976418Z"
    }
   },
   "cell_type": "code",
   "source": [
    "dblist = client.list_database_names()\n",
    "if \"test\" in dblist:\n",
    "    print(\"The '{}' database exit\".format('test'))"
   ],
   "id": "6578ddbf3d6e8f1",
   "execution_count": 127,
   "outputs": []
  },
  {
   "metadata": {
    "ExecuteTime": {
     "end_time": "2024-05-22T01:34:49.017501Z",
     "start_time": "2024-05-22T01:34:49.014588Z"
    }
   },
   "cell_type": "code",
   "source": [
    "col_list = db.list_collection_names()\n",
    "\n",
    "if \"employee\" in col_list:\n",
    "    print(\"The employee collection exists.\")"
   ],
   "id": "269d11010ca55c90",
   "execution_count": 128,
   "outputs": []
  },
  {
   "metadata": {
    "ExecuteTime": {
     "end_time": "2024-05-22T01:34:49.031483Z",
     "start_time": "2024-05-22T01:34:49.029531Z"
    }
   },
   "cell_type": "code",
   "source": "print(result.inserted_id)",
   "id": "ca46aae26527415e",
   "execution_count": 129,
   "outputs": []
  },
  {
   "metadata": {
    "ExecuteTime": {
     "end_time": "2024-05-22T01:34:49.134935Z",
     "start_time": "2024-05-22T01:34:49.073845Z"
    }
   },
   "cell_type": "code",
   "source": [
    "mylist = [{\"_id\": 1, \"name\": \"John\", \"address\": \"Highway 37\"},\n",
    "          {\"_id\": 2, \"name\": \"Peter\", \"address\": \"Lowstreet 27\"},\n",
    "          {\"_id\": 3, \"name\": \"Amy\", \"address\": \"Close st 652\"},\n",
    "          {\"_id\": 4, \"name\": \"Hannah\", \"address\": \"Mountain 21\"},\n",
    "          {\"_id\": 5, \"name\": \"Michael\", \"address\": \"Valley 345\"},\n",
    "          {\"_id\": 6, \"name\": \"Vicky\", \"address\": \"Yellow Garden 124\"},\n",
    "          {\"_id\": 7, \"name\": \"Nicky\", \"address\": \"Yellow Garden 23\"},\n",
    "          {\"_id\": 8, \"name\": \"Nancy\", \"address\": \"Younge Ave. 123\"},\n",
    "          {\"_id\": 9, \"name\": \"Viola\", \"address\": \"Sideway Ave\"}]\n",
    "\n",
    "x = employee.insert_many(mylist)\n",
    "print(x.inserted_ids)"
   ],
   "id": "82679d3dfa8cc4aa",
   "execution_count": 130,
   "outputs": []
  },
  {
   "metadata": {},
   "cell_type": "code",
   "source": [
    "# read one record\n",
    "\n",
    "x = employee.find_one()\n",
    "\n",
    "print(x)"
   ],
   "id": "9e7d433817885be0",
   "execution_count": null,
   "outputs": []
  },
  {
   "metadata": {},
   "cell_type": "code",
   "source": [
    "for x in employee.find():\n",
    "    print(x)"
   ],
   "id": "adbe7cf67e6b762",
   "execution_count": null,
   "outputs": []
  },
  {
   "metadata": {},
   "cell_type": "code",
   "source": [
    "# limit read to a find number\n",
    "\n",
    "my_result = employee.find().limit(5)\n",
    "\n",
    "for x in employee.find():\n",
    "    print(x)"
   ],
   "id": "979e6557daf7cbdc",
   "execution_count": null,
   "outputs": []
  },
  {
   "metadata": {
    "ExecuteTime": {
     "end_time": "2024-05-22T01:34:49.160489Z",
     "start_time": "2024-05-22T01:34:49.155829Z"
    }
   },
   "cell_type": "code",
   "source": [
    "for x in employee.find({}, {\"_id\": 0, \"name\": 1, \"address\": 1}):\n",
    "    print(x)"
   ],
   "id": "e9d0274986604186",
   "execution_count": 131,
   "outputs": []
  },
  {
   "metadata": {
    "ExecuteTime": {
     "end_time": "2024-05-22T01:34:49.171653Z",
     "start_time": "2024-05-22T01:34:49.168351Z"
    }
   },
   "cell_type": "code",
   "source": [
    "# print all fields except age\n",
    "\n",
    "for x in employee.find({}, {\"Age\": 0}):\n",
    "    print(x)"
   ],
   "id": "719b1898cb45b00",
   "execution_count": 132,
   "outputs": []
  },
  {
   "metadata": {
    "ExecuteTime": {
     "end_time": "2024-05-22T01:34:49.215512Z",
     "start_time": "2024-05-22T01:34:49.212299Z"
    }
   },
   "cell_type": "code",
   "source": [
    "my_query = {\"address\": \"Highway 37\"}\n",
    "\n",
    "my_doc = employee.find(my_query)\n",
    "\n",
    "for x in my_doc:\n",
    "    print(x)"
   ],
   "id": "e30192fe1a97d655",
   "execution_count": 133,
   "outputs": []
  },
  {
   "metadata": {
    "ExecuteTime": {
     "end_time": "2024-05-22T01:34:49.262951Z",
     "start_time": "2024-05-22T01:34:49.260080Z"
    }
   },
   "cell_type": "code",
   "source": [
    "my_query = {\"Address\": \"5 Anipole Street, NG\"}\n",
    "\n",
    "mmy_doc = employee.find(my_query).sort('_id', -1).limit(2)\n",
    "\n",
    "for x in my_doc:\n",
    "    print(x)"
   ],
   "id": "f5c109d696dea3a",
   "execution_count": 134,
   "outputs": []
  },
  {
   "metadata": {
    "ExecuteTime": {
     "end_time": "2024-05-22T01:34:49.295141Z",
     "start_time": "2024-05-22T01:34:49.287608Z"
    }
   },
   "cell_type": "code",
   "source": [
    "my_query = {\"address\": {\"$regex\": \"V\"}}\n",
    "\n",
    "my_doc = employee.find(my_query)\n",
    "\n",
    "for x in my_doc:\n",
    "    print(x)"
   ],
   "id": "d67ea533d394f7c3",
   "execution_count": 135,
   "outputs": []
  },
  {
   "metadata": {
    "ExecuteTime": {
     "end_time": "2024-05-22T01:34:49.319113Z",
     "start_time": "2024-05-22T01:34:49.316177Z"
    }
   },
   "cell_type": "code",
   "source": [
    "# Challenge question :  write a query that prints all records having the letter  ‘l’ (it’s L in lower case ) in their address field !\n",
    "\n",
    "my_query = {\"address\": {\"$regex\": \"l\"}}\n",
    "\n",
    "my_doc = employee.find(my_query)\n",
    "\n",
    "for x in my_doc:\n",
    "    print(x)"
   ],
   "id": "1d1c1afcefefaed8",
   "execution_count": 136,
   "outputs": []
  },
  {
   "metadata": {
    "ExecuteTime": {
     "end_time": "2024-05-22T01:34:49.337747Z",
     "start_time": "2024-05-22T01:34:49.327082Z"
    }
   },
   "cell_type": "code",
   "source": [
    "# OR in query\n",
    "\n",
    "my_query = {\"$or\": [\n",
    "    {\"address\": {\"$regex\": \"^Y\"}},\n",
    "    {\"address\": {\"$regex\": \"^S\"}}\n",
    "]}\n",
    "\n",
    "my_doc = employee.find(my_query)\n",
    "\n",
    "for x in my_doc:\n",
    "    print(x)"
   ],
   "id": "673ad350f5522b0c",
   "execution_count": 137,
   "outputs": []
  },
  {
   "metadata": {
    "ExecuteTime": {
     "end_time": "2024-05-22T01:34:49.344434Z",
     "start_time": "2024-05-22T01:34:49.338748Z"
    }
   },
   "cell_type": "code",
   "source": [
    "# AND in query\n",
    "\n",
    "my_query = {\"$and\": [\n",
    "    {\"address\": {\"$regex\": \"^Y\"}},\n",
    "    {\"address\": {\"$regex\": \"1\"}}\n",
    "]}\n",
    "\n",
    "my_doc = employee.find(my_query)\n",
    "\n",
    "for x in my_doc:\n",
    "    print(x)"
   ],
   "id": "23de5e7f5628187a",
   "execution_count": 138,
   "outputs": []
  },
  {
   "metadata": {
    "ExecuteTime": {
     "end_time": "2024-05-22T01:34:49.371072Z",
     "start_time": "2024-05-22T01:34:49.366189Z"
    }
   },
   "cell_type": "code",
   "source": [
    "# AND in query\n",
    "\n",
    "my_query = {\"$and\": [\n",
    "    {\"address\": {\"$regex\": \"^Y\"}},\n",
    "    {\"address\": {\"$regex\": \"1\"}},\n",
    "    {\"name\": {\"$regex\": \"^N\"}},\n",
    "]}\n",
    "\n",
    "my_doc = employee.find(my_query)\n",
    "\n",
    "for x in my_doc:\n",
    "    print(x)"
   ],
   "id": "589e76758d3b3920",
   "execution_count": 139,
   "outputs": []
  },
  {
   "metadata": {
    "ExecuteTime": {
     "end_time": "2024-05-22T01:34:49.381311Z",
     "start_time": "2024-05-22T01:34:49.378345Z"
    }
   },
   "cell_type": "code",
   "source": [
    "# NOT EQUAL in query\n",
    "\n",
    "my_query = {\"$and\": [\n",
    "    {\"address\": {\"$regex\": \"^Y\"}},\n",
    "    {\"address\": {\"$regex\": \"1\"}},\n",
    "    {\"name\": {\"$ne\": \"Nicky\"}},\n",
    "]}\n",
    "\n",
    "my_doc = employee.find(my_query)\n",
    "\n",
    "for x in my_doc:\n",
    "    print(x)"
   ],
   "id": "3457b6047fb49930",
   "execution_count": 140,
   "outputs": []
  },
  {
   "metadata": {
    "ExecuteTime": {
     "end_time": "2024-05-22T01:34:49.397009Z",
     "start_time": "2024-05-22T01:34:49.390974Z"
    }
   },
   "cell_type": "code",
   "source": [
    "# GREATER THAN\n",
    "\n",
    "my_query = {\"$and\": [\n",
    "    {\"address\": {\"$gt\": \"S\"}},\n",
    "]}\n",
    "\n",
    "my_doc = employee.find(my_query)\n",
    "\n",
    "for x in my_doc:\n",
    "    print(x)"
   ],
   "id": "2bd8ea3f7c2b2cd5",
   "execution_count": 141,
   "outputs": []
  },
  {
   "metadata": {
    "ExecuteTime": {
     "end_time": "2024-05-22T01:34:49.420020Z",
     "start_time": "2024-05-22T01:34:49.416729Z"
    }
   },
   "cell_type": "code",
   "source": [
    "# LESS THAN\n",
    "\n",
    "my_query = {\"$and\": [\n",
    "    {\"address\": {\"$lt\": \"S\"}},\n",
    "]}\n",
    "\n",
    "my_doc = employee.find(my_query)\n",
    "\n",
    "for x in my_doc:\n",
    "    print(x)"
   ],
   "id": "c6fc61a3e99fc5ab",
   "execution_count": 142,
   "outputs": []
  },
  {
   "metadata": {
    "ExecuteTime": {
     "end_time": "2024-05-22T01:34:49.442761Z",
     "start_time": "2024-05-22T01:34:49.439546Z"
    }
   },
   "cell_type": "code",
   "source": [
    "# SORT METHOD\n",
    "\n",
    "my_doc = employee.find().sort('name')\n",
    "\n",
    "for x in my_doc:\n",
    "    print(x)"
   ],
   "id": "c6478372688e4562",
   "execution_count": 143,
   "outputs": []
  },
  {
   "metadata": {
    "ExecuteTime": {
     "end_time": "2024-05-22T01:34:49.475746Z",
     "start_time": "2024-05-22T01:34:49.472310Z"
    }
   },
   "cell_type": "code",
   "source": [
    "my_doc = employee.find().sort(['name', 'address'])\n",
    "\n",
    "for x in my_doc:\n",
    "    print(x)"
   ],
   "id": "321aaf7937d0ac53",
   "execution_count": 144,
   "outputs": []
  },
  {
   "metadata": {
    "ExecuteTime": {
     "end_time": "2024-05-22T01:34:49.490110Z",
     "start_time": "2024-05-22T01:34:49.487052Z"
    }
   },
   "cell_type": "code",
   "source": [
    "# SORT METHOD\n",
    "\n",
    "# sort in descending order\n",
    "my_doc = employee.find().sort('name', -1)\n",
    "\n",
    "for x in my_doc:\n",
    "    print(x)"
   ],
   "id": "1ea7efbff236e843",
   "execution_count": 145,
   "outputs": []
  },
  {
   "metadata": {
    "ExecuteTime": {
     "end_time": "2024-05-22T01:34:49.503569Z",
     "start_time": "2024-05-22T01:34:49.499585Z"
    }
   },
   "cell_type": "code",
   "source": [
    "# UPDATE ONE record\n",
    "\n",
    "for x in employee.find():\n",
    "    print(x)\n",
    "\n",
    "my_query = {\n",
    "    \"address\": \"Valley 345\"\n",
    "}\n",
    "new_values = {\n",
    "    \"$set\": {\n",
    "        \"address\": \"Canyon 123\"\n",
    "    }\n",
    "}\n",
    "\n",
    "employee.update_one(my_query, new_values)\n",
    "\n",
    "print(\"//////////////////////\\\\\\\\\\\\\\\\\\\\\\\\\\\\\\\\\\\\\\\\\\\\\\\\\\\\\\\\\\\\\\\\\\\\\\\\\")\n",
    "\n",
    "for x in employee.find():\n",
    "    print(x)"
   ],
   "id": "2062b8f9e6c8b0bf",
   "execution_count": 146,
   "outputs": []
  },
  {
   "metadata": {
    "ExecuteTime": {
     "end_time": "2024-05-22T01:34:49.543618Z",
     "start_time": "2024-05-22T01:34:49.539442Z"
    }
   },
   "cell_type": "code",
   "source": [
    "# UPDATE MANY RECORDS\n",
    "\n",
    "my_query = {\n",
    "    \"address\": {\n",
    "        \"$regex\": \"^C\"\n",
    "    }\n",
    "}\n",
    "\n",
    "new_values = {\n",
    "    \"$set\": {\n",
    "        \"name\": \"Minnie\"\n",
    "    }\n",
    "}\n",
    "\n",
    "x = employee.update_many(my_query, new_values)\n",
    "\n",
    "print(x.modified_count, \"documents updated.\")\n",
    "\n",
    "for x in employee.find():\n",
    "    print(x)"
   ],
   "id": "37a298ed5a96a84c",
   "execution_count": 147,
   "outputs": []
  },
  {
   "metadata": {
    "ExecuteTime": {
     "end_time": "2024-05-22T01:41:16.371473Z",
     "start_time": "2024-05-22T01:41:16.365054Z"
    }
   },
   "cell_type": "code",
   "source": [
    "# DELETE ONE RECORD\n",
    "\n",
    "my_query = {\n",
    "    \"address\": \"Mountain 21\"\n",
    "}\n",
    "\n",
    "employee.delete_one(my_query)"
   ],
   "id": "383340fc7166fbbd",
   "execution_count": 149,
   "outputs": []
  },
  {
   "metadata": {
    "ExecuteTime": {
     "end_time": "2024-05-22T01:42:24.155256Z",
     "start_time": "2024-05-22T01:42:24.136074Z"
    }
   },
   "cell_type": "code",
   "source": [
    "# DELETE MANY RECORD\n",
    "\n",
    "my_query = {\n",
    "    \"address\": {\n",
    "        \"$regex\": \"^Y\"\n",
    "    }\n",
    "}\n",
    "\n",
    "x = employee.delete_many(my_query)\n",
    "\n",
    "print(x.deleted_count, \"documents deleted!\")"
   ],
   "id": "a6ab4a08e2970d8c",
   "execution_count": 151,
   "outputs": []
  },
  {
   "metadata": {},
   "cell_type": "code",
   "execution_count": null,
   "source": [
    "# DELETE ALL RECORDS in a collection\n",
    "\n",
    "x = employee.delete_many({})\n",
    "\n",
    "print(x.deleted_count, \"documents deleted!\")"
   ],
   "id": "4d7bac114b4c5255",
   "outputs": []
  },
  {
   "metadata": {},
   "cell_type": "code",
   "execution_count": null,
   "source": [
    "# to drop the whole collection\n",
    "\n",
    "# collection_name.drop()"
   ],
   "id": "4dec4bf74b297568",
   "outputs": []
  },
  {
   "metadata": {
    "ExecuteTime": {
     "end_time": "2024-05-22T01:34:49.576192Z",
     "start_time": "2024-05-22T01:34:49.574615Z"
    }
   },
   "cell_type": "code",
   "source": [
    "# RENAME COLLECTION FROM employee to employee_details\n",
    "# TODO\n",
    "# CHANGE FIELD FROM address TO employee_address\n",
    "# Delete the field name"
   ],
   "id": "e1b8468fe6f18ce3",
   "execution_count": 147,
   "outputs": []
  }
 ],
 "metadata": {
  "kernelspec": {
   "display_name": "Python 3",
   "language": "python",
   "name": "python3"
  },
  "language_info": {
   "codemirror_mode": {
    "name": "ipython",
    "version": 2
   },
   "file_extension": ".py",
   "mimetype": "text/x-python",
   "name": "python",
   "nbconvert_exporter": "python",
   "pygments_lexer": "ipython2",
   "version": "2.7.6"
  }
 },
 "nbformat": 4,
 "nbformat_minor": 5
}
