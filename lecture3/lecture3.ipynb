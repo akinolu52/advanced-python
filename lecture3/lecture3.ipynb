{
 "cells": [
  {
   "cell_type": "code",
   "id": "9851b494eb892d90",
   "metadata": {
    "collapsed": true,
    "ExecuteTime": {
     "end_time": "2024-06-27T04:46:56.148912Z",
     "start_time": "2024-06-27T04:46:55.828553Z"
    }
   },
   "source": [
    "\n",
    "from pymongo import MongoClient"
   ],
   "outputs": [],
   "execution_count": 1
  },
  {
   "metadata": {
    "ExecuteTime": {
     "end_time": "2024-06-27T04:46:57.818316Z",
     "start_time": "2024-06-27T04:46:57.809621Z"
    }
   },
   "cell_type": "code",
   "source": "client = MongoClient('localhost', 27017, serverSelectionTimeoutMS=5000)",
   "id": "initial_id",
   "outputs": [],
   "execution_count": 2
  },
  {
   "metadata": {
    "ExecuteTime": {
     "end_time": "2024-06-27T04:46:58.780944Z",
     "start_time": "2024-06-27T04:46:58.779240Z"
    }
   },
   "cell_type": "code",
   "source": "db = client.test",
   "id": "8b5ca204eec467e3",
   "outputs": [],
   "execution_count": 3
  },
  {
   "metadata": {
    "ExecuteTime": {
     "end_time": "2024-06-27T04:47:03.603350Z",
     "start_time": "2024-06-27T04:47:03.599113Z"
    }
   },
   "cell_type": "code",
   "source": [
    "# creating an employee collection\n",
    "\n",
    "employee = db.employee"
   ],
   "id": "858a58f7dc08a32a",
   "outputs": [],
   "execution_count": 4
  },
  {
   "metadata": {
    "ExecuteTime": {
     "end_time": "2024-06-27T04:47:04.955927Z",
     "start_time": "2024-06-27T04:47:04.862438Z"
    }
   },
   "cell_type": "code",
   "source": "print(client.list_database_names())",
   "id": "7bbd9eb3bbd57e81",
   "outputs": [
    {
     "name": "stdout",
     "output_type": "stream",
     "text": [
      "['admin', 'config', 'local', 'test']\n"
     ]
    }
   ],
   "execution_count": 5
  },
  {
   "metadata": {
    "ExecuteTime": {
     "end_time": "2024-06-27T04:48:37.295715Z",
     "start_time": "2024-06-27T04:48:37.286466Z"
    }
   },
   "cell_type": "code",
   "source": [
    "dblist = client.list_database_names()\n",
    "if \"test\" in dblist:\n",
    "    print(\"The {} database exist!\".format('test'))"
   ],
   "id": "a749d04f914594e4",
   "outputs": [
    {
     "name": "stdout",
     "output_type": "stream",
     "text": [
      "The test database exist!\n"
     ]
    }
   ],
   "execution_count": 6
  },
  {
   "metadata": {
    "ExecuteTime": {
     "end_time": "2024-06-27T04:48:39.699946Z",
     "start_time": "2024-06-27T04:48:39.693508Z"
    }
   },
   "cell_type": "code",
   "source": "print(db.list_collection_names())",
   "id": "104eefbbd521345e",
   "outputs": [
    {
     "name": "stdout",
     "output_type": "stream",
     "text": [
      "['employee']\n"
     ]
    }
   ],
   "execution_count": 7
  },
  {
   "metadata": {
    "ExecuteTime": {
     "end_time": "2024-06-27T04:49:07.055999Z",
     "start_time": "2024-06-27T04:49:07.049855Z"
    }
   },
   "cell_type": "code",
   "source": [
    "col_list = db.list_collection_names()\n",
    "\n",
    "if \"employee\" in col_list:\n",
    "    print(\"The employee collection exists.\")"
   ],
   "id": "c8b8f64482e3a4a4",
   "outputs": [
    {
     "name": "stdout",
     "output_type": "stream",
     "text": [
      "The employee collection exists.\n"
     ]
    }
   ],
   "execution_count": 8
  },
  {
   "metadata": {
    "ExecuteTime": {
     "end_time": "2024-05-22T01:34:48.954416Z",
     "start_time": "2024-05-22T01:34:48.949838Z"
    }
   },
   "cell_type": "code",
   "source": [
    "# insert one record\n",
    "\n",
    "employee_details = {\n",
    "    'Name': 'Emmanuel Akinyemi',\n",
    "    'Address': '5 Anipole Street, NG',\n",
    "    'Age': '28'\n",
    "}\n",
    "\n",
    "result = employee.insert_one(employee_details)"
   ],
   "id": "4bdf2c60798833f9",
   "execution_count": 126,
   "outputs": []
  },
  {
   "metadata": {
    "ExecuteTime": {
     "end_time": "2024-06-27T04:49:13.145586Z",
     "start_time": "2024-06-27T04:49:13.138878Z"
    }
   },
   "cell_type": "code",
   "source": [
    "dblist = client.list_database_names()\n",
    "if \"test\" in dblist:\n",
    "    print(\"The '{}' database exit\".format('test'))"
   ],
   "id": "6578ddbf3d6e8f1",
   "outputs": [
    {
     "name": "stdout",
     "output_type": "stream",
     "text": [
      "The 'test' database exit\n"
     ]
    }
   ],
   "execution_count": 9
  },
  {
   "metadata": {
    "ExecuteTime": {
     "end_time": "2024-06-27T04:49:18.861806Z",
     "start_time": "2024-06-27T04:49:18.857822Z"
    }
   },
   "cell_type": "code",
   "source": [
    "col_list = db.list_collection_names()\n",
    "\n",
    "if \"employee\" in col_list:\n",
    "    print(\"The employee collection exists.\")"
   ],
   "id": "269d11010ca55c90",
   "outputs": [
    {
     "name": "stdout",
     "output_type": "stream",
     "text": [
      "The employee collection exists.\n"
     ]
    }
   ],
   "execution_count": 10
  },
  {
   "metadata": {
    "ExecuteTime": {
     "end_time": "2024-05-22T01:34:49.031483Z",
     "start_time": "2024-05-22T01:34:49.029531Z"
    }
   },
   "cell_type": "code",
   "source": "print(result.inserted_id)",
   "id": "ca46aae26527415e",
   "execution_count": 129,
   "outputs": []
  },
  {
   "metadata": {
    "ExecuteTime": {
     "end_time": "2024-05-22T01:34:49.134935Z",
     "start_time": "2024-05-22T01:34:49.073845Z"
    }
   },
   "cell_type": "code",
   "source": [
    "mylist = [{\"_id\": 1, \"name\": \"John\", \"address\": \"Highway 37\"},\n",
    "          {\"_id\": 2, \"name\": \"Peter\", \"address\": \"Lowstreet 27\"},\n",
    "          {\"_id\": 3, \"name\": \"Amy\", \"address\": \"Close st 652\"},\n",
    "          {\"_id\": 4, \"name\": \"Hannah\", \"address\": \"Mountain 21\"},\n",
    "          {\"_id\": 5, \"name\": \"Michael\", \"address\": \"Valley 345\"},\n",
    "          {\"_id\": 6, \"name\": \"Vicky\", \"address\": \"Yellow Garden 124\"},\n",
    "          {\"_id\": 7, \"name\": \"Nicky\", \"address\": \"Yellow Garden 23\"},\n",
    "          {\"_id\": 8, \"name\": \"Nancy\", \"address\": \"Younge Ave. 123\"},\n",
    "          {\"_id\": 9, \"name\": \"Viola\", \"address\": \"Sideway Ave\"}]\n",
    "\n",
    "x = employee.insert_many(mylist)\n",
    "print(x.inserted_ids)"
   ],
   "id": "82679d3dfa8cc4aa",
   "execution_count": 130,
   "outputs": []
  },
  {
   "metadata": {
    "ExecuteTime": {
     "end_time": "2024-06-27T04:49:30.355596Z",
     "start_time": "2024-06-27T04:49:30.277896Z"
    }
   },
   "cell_type": "code",
   "source": [
    "# read one record\n",
    "\n",
    "x = employee.find_one()\n",
    "\n",
    "print(x)"
   ],
   "id": "9e7d433817885be0",
   "outputs": [
    {
     "name": "stdout",
     "output_type": "stream",
     "text": [
      "{'_id': ObjectId('664d34ca42125d39d1c9b917'), 'Name': 'Emmanuel Akinyemi', 'Address': '5 Anipole Street, NG', 'Age': '28'}\n"
     ]
    }
   ],
   "execution_count": 11
  },
  {
   "metadata": {
    "ExecuteTime": {
     "end_time": "2024-06-27T04:49:39.800297Z",
     "start_time": "2024-06-27T04:49:39.777123Z"
    }
   },
   "cell_type": "code",
   "source": [
    "for x in employee.find():\n",
    "    print(x)"
   ],
   "id": "adbe7cf67e6b762",
   "outputs": [
    {
     "name": "stdout",
     "output_type": "stream",
     "text": [
      "{'_id': ObjectId('664d34ca42125d39d1c9b917'), 'Name': 'Emmanuel Akinyemi', 'Address': '5 Anipole Street, NG', 'Age': '28'}\n",
      "{'_id': 1, 'name': 'John', 'address': 'Highway 37'}\n",
      "{'_id': 2, 'name': 'Peter', 'address': 'Lowstreet 27'}\n",
      "{'_id': 3, 'name': 'Minnie', 'address': 'Close st 652'}\n",
      "{'_id': 5, 'name': 'Minnie', 'address': 'Canyon 123'}\n",
      "{'_id': 9, 'name': 'Viola', 'address': 'Sideway Ave'}\n",
      "{'_id': ObjectId('664d371d42125d39d1c9b919'), 'Name': 'Emmanuel Akinyemi', 'Address': '5 Anipole Street, NG', 'Age': '28'}\n",
      "{'_id': ObjectId('664d4bb842125d39d1c9b91b'), 'Name': 'Emmanuel Akinyemi', 'Address': '5 Anipole Street, NG', 'Age': '28'}\n"
     ]
    }
   ],
   "execution_count": 12
  },
  {
   "metadata": {
    "ExecuteTime": {
     "end_time": "2024-06-27T04:50:15.323495Z",
     "start_time": "2024-06-27T04:50:15.316869Z"
    }
   },
   "cell_type": "code",
   "source": [
    "# limit read to a find number\n",
    "\n",
    "for x in employee.find().limit(5):\n",
    "    print(x)"
   ],
   "id": "979e6557daf7cbdc",
   "outputs": [
    {
     "name": "stdout",
     "output_type": "stream",
     "text": [
      "{'_id': ObjectId('664d34ca42125d39d1c9b917'), 'Name': 'Emmanuel Akinyemi', 'Address': '5 Anipole Street, NG', 'Age': '28'}\n",
      "{'_id': 1, 'name': 'John', 'address': 'Highway 37'}\n",
      "{'_id': 2, 'name': 'Peter', 'address': 'Lowstreet 27'}\n",
      "{'_id': 3, 'name': 'Minnie', 'address': 'Close st 652'}\n",
      "{'_id': 5, 'name': 'Minnie', 'address': 'Canyon 123'}\n"
     ]
    }
   ],
   "execution_count": 14
  },
  {
   "metadata": {
    "ExecuteTime": {
     "end_time": "2024-06-27T04:56:52.857241Z",
     "start_time": "2024-06-27T04:56:52.851275Z"
    }
   },
   "cell_type": "code",
   "source": [
    "# print first 5 records\n",
    "\n",
    "for idx, x in enumerate(employee.find(), start=0):\n",
    "    if idx == 5:\n",
    "        break\n",
    "    print(x)"
   ],
   "id": "fa2743a2637658b0",
   "outputs": [
    {
     "name": "stdout",
     "output_type": "stream",
     "text": [
      "{'_id': ObjectId('664d34ca42125d39d1c9b917'), 'Name': 'Emmanuel Akinyemi', 'Address': '5 Anipole Street, NG', 'Age': '28'}\n",
      "{'_id': 1, 'name': 'John', 'address': 'Highway 37'}\n",
      "{'_id': 2, 'name': 'Peter', 'address': 'Lowstreet 27'}\n",
      "{'_id': 3, 'name': 'Minnie', 'address': 'Close st 652'}\n",
      "{'_id': 5, 'name': 'Minnie', 'address': 'Canyon 123'}\n"
     ]
    }
   ],
   "execution_count": 25
  },
  {
   "metadata": {
    "ExecuteTime": {
     "end_time": "2024-06-27T04:50:44.214671Z",
     "start_time": "2024-06-27T04:50:44.193886Z"
    }
   },
   "cell_type": "code",
   "source": [
    "for x in employee.find({}, {\"_id\": 0, \"name\": 1, \"address\": 1}):\n",
    "    print(x)"
   ],
   "id": "e9d0274986604186",
   "outputs": [
    {
     "name": "stdout",
     "output_type": "stream",
     "text": [
      "{}\n",
      "{'name': 'John', 'address': 'Highway 37'}\n",
      "{'name': 'Peter', 'address': 'Lowstreet 27'}\n",
      "{'name': 'Minnie', 'address': 'Close st 652'}\n",
      "{'name': 'Minnie', 'address': 'Canyon 123'}\n",
      "{'name': 'Viola', 'address': 'Sideway Ave'}\n",
      "{}\n",
      "{}\n"
     ]
    }
   ],
   "execution_count": 16
  },
  {
   "metadata": {
    "ExecuteTime": {
     "end_time": "2024-06-27T04:50:46.979697Z",
     "start_time": "2024-06-27T04:50:46.975653Z"
    }
   },
   "cell_type": "code",
   "source": [
    "# print all fields except age\n",
    "\n",
    "for x in employee.find({}, {\"Age\": 0}):\n",
    "    print(x)"
   ],
   "id": "719b1898cb45b00",
   "outputs": [
    {
     "name": "stdout",
     "output_type": "stream",
     "text": [
      "{'_id': ObjectId('664d34ca42125d39d1c9b917'), 'Name': 'Emmanuel Akinyemi', 'Address': '5 Anipole Street, NG'}\n",
      "{'_id': 1, 'name': 'John', 'address': 'Highway 37'}\n",
      "{'_id': 2, 'name': 'Peter', 'address': 'Lowstreet 27'}\n",
      "{'_id': 3, 'name': 'Minnie', 'address': 'Close st 652'}\n",
      "{'_id': 5, 'name': 'Minnie', 'address': 'Canyon 123'}\n",
      "{'_id': 9, 'name': 'Viola', 'address': 'Sideway Ave'}\n",
      "{'_id': ObjectId('664d371d42125d39d1c9b919'), 'Name': 'Emmanuel Akinyemi', 'Address': '5 Anipole Street, NG'}\n",
      "{'_id': ObjectId('664d4bb842125d39d1c9b91b'), 'Name': 'Emmanuel Akinyemi', 'Address': '5 Anipole Street, NG'}\n"
     ]
    }
   ],
   "execution_count": 17
  },
  {
   "metadata": {
    "ExecuteTime": {
     "end_time": "2024-06-27T05:04:31.332893Z",
     "start_time": "2024-06-27T05:04:31.325752Z"
    }
   },
   "cell_type": "code",
   "source": [
    "my_query = {\"address\": \"Highway 37\"}\n",
    "\n",
    "my_doc = employee.find(my_query)\n",
    "\n",
    "for x in my_doc:\n",
    "    print(x)"
   ],
   "id": "e30192fe1a97d655",
   "outputs": [
    {
     "name": "stdout",
     "output_type": "stream",
     "text": [
      "{'_id': 1, 'name': 'John', 'address': 'Highway 37'}\n"
     ]
    }
   ],
   "execution_count": 27
  },
  {
   "metadata": {
    "ExecuteTime": {
     "end_time": "2024-06-27T05:09:20.371911Z",
     "start_time": "2024-06-27T05:09:20.366488Z"
    }
   },
   "cell_type": "code",
   "source": [
    "# get last 2 record\n",
    "my_query = {\"Address\": \"5 Anipole Street, NG\"}\n",
    "\n",
    "my_doc = employee.find(my_query).sort('_id', -1).limit(2)\n",
    "\n",
    "for x in my_doc:\n",
    "    print(x)"
   ],
   "id": "c33aa18517ae1300",
   "outputs": [
    {
     "name": "stdout",
     "output_type": "stream",
     "text": [
      "{'_id': ObjectId('664d4bb842125d39d1c9b91b'), 'Name': 'Emmanuel Akinyemi', 'Address': '5 Anipole Street, NG', 'Age': '28'}\n",
      "{'_id': ObjectId('664d371d42125d39d1c9b919'), 'Name': 'Emmanuel Akinyemi', 'Address': '5 Anipole Street, NG', 'Age': '28'}\n"
     ]
    }
   ],
   "execution_count": 40
  },
  {
   "metadata": {
    "ExecuteTime": {
     "end_time": "2024-06-27T05:09:28.101511Z",
     "start_time": "2024-06-27T05:09:28.094818Z"
    }
   },
   "cell_type": "code",
   "source": [
    "my_doc = employee.find().sort('_id', -1)\n",
    "\n",
    "for x in my_doc:\n",
    "    print(x)"
   ],
   "id": "264d35f6240c0c34",
   "outputs": [
    {
     "name": "stdout",
     "output_type": "stream",
     "text": [
      "{'_id': ObjectId('664d4bb842125d39d1c9b91b'), 'Name': 'Emmanuel Akinyemi', 'Address': '5 Anipole Street, NG', 'Age': '28'}\n",
      "{'_id': ObjectId('664d371d42125d39d1c9b919'), 'Name': 'Emmanuel Akinyemi', 'Address': '5 Anipole Street, NG', 'Age': '28'}\n",
      "{'_id': ObjectId('664d34ca42125d39d1c9b917'), 'Name': 'Emmanuel Akinyemi', 'Address': '5 Anipole Street, NG', 'Age': '28'}\n",
      "{'_id': 9, 'name': 'Viola', 'address': 'Sideway Ave'}\n",
      "{'_id': 5, 'name': 'Minnie', 'address': 'Canyon 123'}\n",
      "{'_id': 3, 'name': 'Minnie', 'address': 'Close st 652'}\n",
      "{'_id': 2, 'name': 'Peter', 'address': 'Lowstreet 27'}\n",
      "{'_id': 1, 'name': 'John', 'address': 'Highway 37'}\n"
     ]
    }
   ],
   "execution_count": 41
  },
  {
   "metadata": {
    "ExecuteTime": {
     "end_time": "2024-06-27T05:10:27.677878Z",
     "start_time": "2024-06-27T05:10:27.650968Z"
    }
   },
   "cell_type": "code",
   "source": [
    "my_query = {\"Address\": \"5 Anipole Street, NG\"}\n",
    "\n",
    "my_doc = employee.find(my_query).sort('_id', -1).limit(2)\n",
    "\n",
    "for x in my_doc:\n",
    "    print(x)"
   ],
   "id": "f5c109d696dea3a",
   "outputs": [
    {
     "name": "stdout",
     "output_type": "stream",
     "text": [
      "{'_id': ObjectId('664d4bb842125d39d1c9b91b'), 'Name': 'Emmanuel Akinyemi', 'Address': '5 Anipole Street, NG', 'Age': '28'}\n",
      "{'_id': ObjectId('664d371d42125d39d1c9b919'), 'Name': 'Emmanuel Akinyemi', 'Address': '5 Anipole Street, NG', 'Age': '28'}\n"
     ]
    }
   ],
   "execution_count": 43
  },
  {
   "metadata": {
    "ExecuteTime": {
     "end_time": "2024-06-27T05:08:32.266453Z",
     "start_time": "2024-06-27T05:08:32.245636Z"
    }
   },
   "cell_type": "code",
   "source": [
    "my_query = {\"address\": {\"$regex\": \"L\"}}\n",
    "\n",
    "my_doc = employee.find(my_query)\n",
    "\n",
    "for x in my_doc:\n",
    "    print(x)"
   ],
   "id": "d67ea533d394f7c3",
   "outputs": [
    {
     "name": "stdout",
     "output_type": "stream",
     "text": [
      "{'_id': 2, 'name': 'Peter', 'address': 'Lowstreet 27'}\n"
     ]
    }
   ],
   "execution_count": 38
  },
  {
   "metadata": {
    "ExecuteTime": {
     "end_time": "2024-06-27T05:10:53.743208Z",
     "start_time": "2024-06-27T05:10:53.732213Z"
    }
   },
   "cell_type": "code",
   "source": [
    "# Challenge question :  write a query that prints all records having the letter  ‘l’ (it’s L in lower case ) in their address field !\n",
    "\n",
    "my_query = {\"address\": {\"$regex\": \"l\"}}\n",
    "\n",
    "my_doc = employee.find(my_query)\n",
    "\n",
    "for x in my_doc:\n",
    "    print(x)"
   ],
   "id": "1d1c1afcefefaed8",
   "outputs": [
    {
     "name": "stdout",
     "output_type": "stream",
     "text": [
      "{'_id': 3, 'name': 'Minnie', 'address': 'Close st 652'}\n"
     ]
    }
   ],
   "execution_count": 44
  },
  {
   "metadata": {
    "ExecuteTime": {
     "end_time": "2024-06-27T05:11:21.180356Z",
     "start_time": "2024-06-27T05:11:21.100030Z"
    }
   },
   "cell_type": "code",
   "source": [
    "# OR in query\n",
    "\n",
    "# print all address that start with 'Y' or 'S'\n",
    "\n",
    "my_query = {\"$or\": [\n",
    "    {\"address\": {\"$regex\": \"^Y\"}},\n",
    "    {\"address\": {\"$regex\": \"^S\"}}\n",
    "]}\n",
    "\n",
    "my_doc = employee.find(my_query)\n",
    "\n",
    "for x in my_doc:\n",
    "    print(x)"
   ],
   "id": "673ad350f5522b0c",
   "outputs": [
    {
     "name": "stdout",
     "output_type": "stream",
     "text": [
      "{'_id': 9, 'name': 'Viola', 'address': 'Sideway Ave'}\n"
     ]
    }
   ],
   "execution_count": 45
  },
  {
   "metadata": {
    "ExecuteTime": {
     "end_time": "2024-06-27T05:23:51.379172Z",
     "start_time": "2024-06-27T05:23:51.341070Z"
    }
   },
   "cell_type": "code",
   "source": [
    "# print all address that start with 'Y' or 'S'\n",
    "\n",
    "my_query = {\"address\": {\"$regex\": \"^Y|^S\"}}\n",
    "\n",
    "my_doc = employee.find(my_query)\n",
    "\n",
    "for x in my_doc:\n",
    "    print(x)"
   ],
   "id": "fb2b50072f37e1af",
   "outputs": [
    {
     "name": "stdout",
     "output_type": "stream",
     "text": [
      "{'_id': 9, 'name': 'Viola', 'address': 'Sideway Ave'}\n"
     ]
    }
   ],
   "execution_count": 48
  },
  {
   "metadata": {
    "ExecuteTime": {
     "end_time": "2024-06-27T05:25:11.982881Z",
     "start_time": "2024-06-27T05:25:11.962593Z"
    }
   },
   "cell_type": "code",
   "source": [
    "# AND in query\n",
    "\n",
    "# print all address that start with 5 and have N in them\n",
    "my_query = {\"$and\": [\n",
    "    {\"Address\": {\"$regex\": \"^5\"}},\n",
    "    {\"Address\": {\"$regex\": \"N\"}}\n",
    "]}\n",
    "\n",
    "my_doc = employee.find(my_query)\n",
    "\n",
    "for x in my_doc:\n",
    "    print(x)"
   ],
   "id": "23de5e7f5628187a",
   "outputs": [
    {
     "name": "stdout",
     "output_type": "stream",
     "text": [
      "{'_id': ObjectId('664d34ca42125d39d1c9b917'), 'Name': 'Emmanuel Akinyemi', 'Address': '5 Anipole Street, NG', 'Age': '28'}\n",
      "{'_id': ObjectId('664d371d42125d39d1c9b919'), 'Name': 'Emmanuel Akinyemi', 'Address': '5 Anipole Street, NG', 'Age': '28'}\n",
      "{'_id': ObjectId('664d4bb842125d39d1c9b91b'), 'Name': 'Emmanuel Akinyemi', 'Address': '5 Anipole Street, NG', 'Age': '28'}\n"
     ]
    }
   ],
   "execution_count": 54
  },
  {
   "metadata": {
    "ExecuteTime": {
     "end_time": "2024-05-22T01:34:49.371072Z",
     "start_time": "2024-05-22T01:34:49.366189Z"
    }
   },
   "cell_type": "code",
   "source": [
    "# AND in query\n",
    "\n",
    "my_query = {\"$and\": [\n",
    "    {\"address\": {\"$regex\": \"^Y\"}},\n",
    "    {\"address\": {\"$regex\": \"1\"}},\n",
    "    {\"name\": {\"$regex\": \"^N\"}},\n",
    "]}\n",
    "\n",
    "my_doc = employee.find(my_query)\n",
    "\n",
    "for x in my_doc:\n",
    "    print(x)"
   ],
   "id": "589e76758d3b3920",
   "execution_count": 139,
   "outputs": []
  },
  {
   "metadata": {
    "ExecuteTime": {
     "end_time": "2024-06-27T05:27:08.076851Z",
     "start_time": "2024-06-27T05:27:08.063194Z"
    }
   },
   "cell_type": "code",
   "source": [
    "# NOT EQUAL in query\n",
    "\n",
    "my_query = {\"$and\": [\n",
    "    {\"address\": {\"$regex\": \"^Y\"}},\n",
    "    {\"address\": {\"$regex\": \"1\"}},\n",
    "    {\"name\": {\"$ne\": \"Nicky\"}},\n",
    "]}\n",
    "\n",
    "my_doc = employee.find(my_query)\n",
    "\n",
    "for x in my_doc:\n",
    "    print(x)"
   ],
   "id": "3457b6047fb49930",
   "outputs": [],
   "execution_count": 55
  },
  {
   "metadata": {
    "ExecuteTime": {
     "end_time": "2024-06-27T05:27:10.711168Z",
     "start_time": "2024-06-27T05:27:10.707178Z"
    }
   },
   "cell_type": "code",
   "source": [
    "# GREATER THAN\n",
    "\n",
    "my_query = {\"$and\": [\n",
    "    {\"address\": {\"$gt\": \"S\"}},\n",
    "]}\n",
    "\n",
    "my_doc = employee.find(my_query)\n",
    "\n",
    "for x in my_doc:\n",
    "    print(x)"
   ],
   "id": "2bd8ea3f7c2b2cd5",
   "outputs": [
    {
     "name": "stdout",
     "output_type": "stream",
     "text": [
      "{'_id': 9, 'name': 'Viola', 'address': 'Sideway Ave'}\n"
     ]
    }
   ],
   "execution_count": 56
  },
  {
   "metadata": {
    "ExecuteTime": {
     "end_time": "2024-06-27T05:27:13.255728Z",
     "start_time": "2024-06-27T05:27:13.251588Z"
    }
   },
   "cell_type": "code",
   "source": [
    "# LESS THAN\n",
    "\n",
    "my_query = {\"$and\": [\n",
    "    {\"address\": {\"$lt\": \"S\"}},\n",
    "]}\n",
    "\n",
    "my_doc = employee.find(my_query)\n",
    "\n",
    "for x in my_doc:\n",
    "    print(x)"
   ],
   "id": "c6fc61a3e99fc5ab",
   "outputs": [
    {
     "name": "stdout",
     "output_type": "stream",
     "text": [
      "{'_id': 1, 'name': 'John', 'address': 'Highway 37'}\n",
      "{'_id': 2, 'name': 'Peter', 'address': 'Lowstreet 27'}\n",
      "{'_id': 3, 'name': 'Minnie', 'address': 'Close st 652'}\n",
      "{'_id': 5, 'name': 'Minnie', 'address': 'Canyon 123'}\n"
     ]
    }
   ],
   "execution_count": 57
  },
  {
   "metadata": {
    "ExecuteTime": {
     "end_time": "2024-06-27T05:27:15.841823Z",
     "start_time": "2024-06-27T05:27:15.812046Z"
    }
   },
   "cell_type": "code",
   "source": [
    "# SORT METHOD\n",
    "\n",
    "my_doc = employee.find().sort('name')\n",
    "\n",
    "for x in my_doc:\n",
    "    print(x)"
   ],
   "id": "c6478372688e4562",
   "outputs": [
    {
     "name": "stdout",
     "output_type": "stream",
     "text": [
      "{'_id': ObjectId('664d34ca42125d39d1c9b917'), 'Name': 'Emmanuel Akinyemi', 'Address': '5 Anipole Street, NG', 'Age': '28'}\n",
      "{'_id': ObjectId('664d371d42125d39d1c9b919'), 'Name': 'Emmanuel Akinyemi', 'Address': '5 Anipole Street, NG', 'Age': '28'}\n",
      "{'_id': ObjectId('664d4bb842125d39d1c9b91b'), 'Name': 'Emmanuel Akinyemi', 'Address': '5 Anipole Street, NG', 'Age': '28'}\n",
      "{'_id': 1, 'name': 'John', 'address': 'Highway 37'}\n",
      "{'_id': 3, 'name': 'Minnie', 'address': 'Close st 652'}\n",
      "{'_id': 5, 'name': 'Minnie', 'address': 'Canyon 123'}\n",
      "{'_id': 2, 'name': 'Peter', 'address': 'Lowstreet 27'}\n",
      "{'_id': 9, 'name': 'Viola', 'address': 'Sideway Ave'}\n"
     ]
    }
   ],
   "execution_count": 58
  },
  {
   "metadata": {
    "ExecuteTime": {
     "end_time": "2024-06-27T05:27:19.345652Z",
     "start_time": "2024-06-27T05:27:19.336432Z"
    }
   },
   "cell_type": "code",
   "source": [
    "my_doc = employee.find().sort(['name', 'address'])\n",
    "\n",
    "for x in my_doc:\n",
    "    print(x)"
   ],
   "id": "321aaf7937d0ac53",
   "outputs": [
    {
     "name": "stdout",
     "output_type": "stream",
     "text": [
      "{'_id': ObjectId('664d34ca42125d39d1c9b917'), 'Name': 'Emmanuel Akinyemi', 'Address': '5 Anipole Street, NG', 'Age': '28'}\n",
      "{'_id': ObjectId('664d371d42125d39d1c9b919'), 'Name': 'Emmanuel Akinyemi', 'Address': '5 Anipole Street, NG', 'Age': '28'}\n",
      "{'_id': ObjectId('664d4bb842125d39d1c9b91b'), 'Name': 'Emmanuel Akinyemi', 'Address': '5 Anipole Street, NG', 'Age': '28'}\n",
      "{'_id': 1, 'name': 'John', 'address': 'Highway 37'}\n",
      "{'_id': 5, 'name': 'Minnie', 'address': 'Canyon 123'}\n",
      "{'_id': 3, 'name': 'Minnie', 'address': 'Close st 652'}\n",
      "{'_id': 2, 'name': 'Peter', 'address': 'Lowstreet 27'}\n",
      "{'_id': 9, 'name': 'Viola', 'address': 'Sideway Ave'}\n"
     ]
    }
   ],
   "execution_count": 59
  },
  {
   "metadata": {
    "ExecuteTime": {
     "end_time": "2024-06-27T05:27:23.417518Z",
     "start_time": "2024-06-27T05:27:23.413409Z"
    }
   },
   "cell_type": "code",
   "source": [
    "# SORT METHOD\n",
    "\n",
    "# sort in descending order\n",
    "my_doc = employee.find().sort('name', -1)\n",
    "\n",
    "for x in my_doc:\n",
    "    print(x)"
   ],
   "id": "1ea7efbff236e843",
   "outputs": [
    {
     "name": "stdout",
     "output_type": "stream",
     "text": [
      "{'_id': 9, 'name': 'Viola', 'address': 'Sideway Ave'}\n",
      "{'_id': 2, 'name': 'Peter', 'address': 'Lowstreet 27'}\n",
      "{'_id': 3, 'name': 'Minnie', 'address': 'Close st 652'}\n",
      "{'_id': 5, 'name': 'Minnie', 'address': 'Canyon 123'}\n",
      "{'_id': 1, 'name': 'John', 'address': 'Highway 37'}\n",
      "{'_id': ObjectId('664d34ca42125d39d1c9b917'), 'Name': 'Emmanuel Akinyemi', 'Address': '5 Anipole Street, NG', 'Age': '28'}\n",
      "{'_id': ObjectId('664d371d42125d39d1c9b919'), 'Name': 'Emmanuel Akinyemi', 'Address': '5 Anipole Street, NG', 'Age': '28'}\n",
      "{'_id': ObjectId('664d4bb842125d39d1c9b91b'), 'Name': 'Emmanuel Akinyemi', 'Address': '5 Anipole Street, NG', 'Age': '28'}\n"
     ]
    }
   ],
   "execution_count": 60
  },
  {
   "metadata": {
    "ExecuteTime": {
     "end_time": "2024-06-27T05:27:27.095026Z",
     "start_time": "2024-06-27T05:27:27.071751Z"
    }
   },
   "cell_type": "code",
   "source": [
    "# UPDATE ONE record\n",
    "\n",
    "for x in employee.find():\n",
    "    print(x)\n",
    "\n",
    "my_query = {\n",
    "    \"address\": \"Valley 345\"\n",
    "}\n",
    "new_values = {\n",
    "    \"$set\": {\n",
    "        \"address\": \"Canyon 123\"\n",
    "    }\n",
    "}\n",
    "\n",
    "employee.update_one(my_query, new_values)\n",
    "\n",
    "print(\"//////////////////////\\\\\\\\\\\\\\\\\\\\\\\\\\\\\\\\\\\\\\\\\\\\\\\\\\\\\\\\\\\\\\\\\\\\\\\\\")\n",
    "\n",
    "for x in employee.find():\n",
    "    print(x)"
   ],
   "id": "2062b8f9e6c8b0bf",
   "outputs": [
    {
     "name": "stdout",
     "output_type": "stream",
     "text": [
      "{'_id': ObjectId('664d34ca42125d39d1c9b917'), 'Name': 'Emmanuel Akinyemi', 'Address': '5 Anipole Street, NG', 'Age': '28'}\n",
      "{'_id': 1, 'name': 'John', 'address': 'Highway 37'}\n",
      "{'_id': 2, 'name': 'Peter', 'address': 'Lowstreet 27'}\n",
      "{'_id': 3, 'name': 'Minnie', 'address': 'Close st 652'}\n",
      "{'_id': 5, 'name': 'Minnie', 'address': 'Canyon 123'}\n",
      "{'_id': 9, 'name': 'Viola', 'address': 'Sideway Ave'}\n",
      "{'_id': ObjectId('664d371d42125d39d1c9b919'), 'Name': 'Emmanuel Akinyemi', 'Address': '5 Anipole Street, NG', 'Age': '28'}\n",
      "{'_id': ObjectId('664d4bb842125d39d1c9b91b'), 'Name': 'Emmanuel Akinyemi', 'Address': '5 Anipole Street, NG', 'Age': '28'}\n",
      "//////////////////////\\\\\\\\\\\\\\\\\\\\\\\\\\\\\\\\\\\\\n",
      "{'_id': ObjectId('664d34ca42125d39d1c9b917'), 'Name': 'Emmanuel Akinyemi', 'Address': '5 Anipole Street, NG', 'Age': '28'}\n",
      "{'_id': 1, 'name': 'John', 'address': 'Highway 37'}\n",
      "{'_id': 2, 'name': 'Peter', 'address': 'Lowstreet 27'}\n",
      "{'_id': 3, 'name': 'Minnie', 'address': 'Close st 652'}\n",
      "{'_id': 5, 'name': 'Minnie', 'address': 'Canyon 123'}\n",
      "{'_id': 9, 'name': 'Viola', 'address': 'Sideway Ave'}\n",
      "{'_id': ObjectId('664d371d42125d39d1c9b919'), 'Name': 'Emmanuel Akinyemi', 'Address': '5 Anipole Street, NG', 'Age': '28'}\n",
      "{'_id': ObjectId('664d4bb842125d39d1c9b91b'), 'Name': 'Emmanuel Akinyemi', 'Address': '5 Anipole Street, NG', 'Age': '28'}\n"
     ]
    }
   ],
   "execution_count": 61
  },
  {
   "metadata": {
    "ExecuteTime": {
     "end_time": "2024-05-22T01:34:49.543618Z",
     "start_time": "2024-05-22T01:34:49.539442Z"
    }
   },
   "cell_type": "code",
   "source": [
    "# UPDATE MANY RECORDS\n",
    "\n",
    "my_query = {\n",
    "    \"address\": {\n",
    "        \"$regex\": \"^C\"\n",
    "    }\n",
    "}\n",
    "\n",
    "new_values = {\n",
    "    \"$set\": {\n",
    "        \"name\": \"Minnie\"\n",
    "    }\n",
    "}\n",
    "\n",
    "x = employee.update_many(my_query, new_values)\n",
    "\n",
    "print(x.modified_count, \"documents updated.\")\n",
    "\n",
    "for x in employee.find():\n",
    "    print(x)"
   ],
   "id": "37a298ed5a96a84c",
   "execution_count": 147,
   "outputs": []
  },
  {
   "metadata": {
    "ExecuteTime": {
     "end_time": "2024-06-27T05:27:50.082323Z",
     "start_time": "2024-06-27T05:27:50.035785Z"
    }
   },
   "cell_type": "code",
   "source": [
    "# DELETE ONE RECORD\n",
    "\n",
    "my_query = {\n",
    "    \"address\": \"Mountain 21\"\n",
    "}\n",
    "\n",
    "employee.delete_one(my_query)"
   ],
   "id": "383340fc7166fbbd",
   "outputs": [
    {
     "data": {
      "text/plain": [
       "DeleteResult({'n': 0, 'ok': 1.0}, acknowledged=True)"
      ]
     },
     "execution_count": 62,
     "metadata": {},
     "output_type": "execute_result"
    }
   ],
   "execution_count": 62
  },
  {
   "metadata": {
    "ExecuteTime": {
     "end_time": "2024-06-27T05:27:55.041035Z",
     "start_time": "2024-06-27T05:27:55.038108Z"
    }
   },
   "cell_type": "code",
   "source": [
    "# DELETE MANY RECORD\n",
    "\n",
    "my_query = {\n",
    "    \"address\": {\n",
    "        \"$regex\": \"^Y\"\n",
    "    }\n",
    "}\n",
    "\n",
    "x = employee.delete_many(my_query)\n",
    "\n",
    "print(x.deleted_count, \"documents deleted!\")"
   ],
   "id": "a6ab4a08e2970d8c",
   "outputs": [
    {
     "name": "stdout",
     "output_type": "stream",
     "text": [
      "0 documents deleted!\n"
     ]
    }
   ],
   "execution_count": 63
  },
  {
   "metadata": {
    "ExecuteTime": {
     "end_time": "2024-06-27T05:28:05.383616Z",
     "start_time": "2024-06-27T05:28:05.285264Z"
    }
   },
   "cell_type": "code",
   "source": [
    "# DELETE ALL RECORDS in a collection\n",
    "\n",
    "x = employee.delete_many({})\n",
    "\n",
    "print(x.deleted_count, \"documents deleted!\")"
   ],
   "id": "4d7bac114b4c5255",
   "outputs": [
    {
     "name": "stdout",
     "output_type": "stream",
     "text": [
      "8 documents deleted!\n"
     ]
    }
   ],
   "execution_count": 64
  },
  {
   "metadata": {
    "ExecuteTime": {
     "end_time": "2024-05-22T01:34:49.576192Z",
     "start_time": "2024-05-22T01:34:49.574615Z"
    }
   },
   "cell_type": "code",
   "source": [
    "# CHANGE FIELD FROM address TO employee_address\n",
    "employee.update_many({}, {\"$rename\": {\"address\": \"employee_address\"}})"
   ],
   "id": "e1b8468fe6f18ce3",
   "execution_count": 147,
   "outputs": []
  },
  {
   "metadata": {},
   "cell_type": "code",
   "outputs": [],
   "execution_count": null,
   "source": [
    "# RENAME COLLECTION FROM employee to employee_details\n",
    "# db.rename_collection('employee', 'employee_details')"
   ],
   "id": "4cfbcd950da08cf3"
  },
  {
   "metadata": {},
   "cell_type": "code",
   "outputs": [],
   "execution_count": null,
   "source": [
    "# Delete the field name\n",
    "employee.update_many({}, {\"$unset\": {\"name\": \"\"}})"
   ],
   "id": "f3f9e3f1a19d2547"
  },
  {
   "metadata": {},
   "cell_type": "code",
   "outputs": [],
   "execution_count": null,
   "source": [
    "# to drop the whole collection\n",
    "\n",
    "# employee.drop()"
   ],
   "id": "4dec4bf74b297568"
  }
 ],
 "metadata": {
  "kernelspec": {
   "display_name": "Python 3",
   "language": "python",
   "name": "python3"
  },
  "language_info": {
   "codemirror_mode": {
    "name": "ipython",
    "version": 2
   },
   "file_extension": ".py",
   "mimetype": "text/x-python",
   "name": "python",
   "nbconvert_exporter": "python",
   "pygments_lexer": "ipython2",
   "version": "2.7.6"
  }
 },
 "nbformat": 4,
 "nbformat_minor": 5
}
