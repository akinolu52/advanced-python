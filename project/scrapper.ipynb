{
 "cells": [
  {
   "metadata": {
    "ExecuteTime": {
     "end_time": "2024-06-05T03:03:13.251769Z",
     "start_time": "2024-06-05T03:03:10.386209Z"
    }
   },
   "cell_type": "code",
   "source": "!pip install webdriver_manager",
   "id": "3338b9d47352218a",
   "execution_count": 97,
   "outputs": []
  },
  {
   "metadata": {
    "ExecuteTime": {
     "end_time": "2024-06-05T03:03:13.256036Z",
     "start_time": "2024-06-05T03:03:13.253312Z"
    }
   },
   "cell_type": "code",
   "source": [
    "import time\n",
    "\n",
    "import requests\n",
    "from bs4 import BeautifulSoup\n",
    "from selenium import webdriver\n",
    "from selenium.webdriver.chrome.options import Options\n",
    "from selenium.webdriver.common.by import By\n",
    "from textblob import TextBlob"
   ],
   "id": "4172a2f96c6e3891",
   "execution_count": 98,
   "outputs": []
  },
  {
   "metadata": {
    "ExecuteTime": {
     "end_time": "2024-06-05T03:03:13.259094Z",
     "start_time": "2024-06-05T03:03:13.256676Z"
    }
   },
   "cell_type": "code",
   "source": [
    "class Analyzer:\n",
    "    def __init__(self):\n",
    "        pass\n",
    "\n",
    "    def analyze_reviews(self, reviews):\n",
    "        for review in reviews:\n",
    "            review.sentiment = self.get_sentiment(review.text)\n",
    "\n",
    "    def get_sentiment(self, review):\n",
    "        analysis = TextBlob(review)\n",
    "        return analysis.sentiment.polarity\n"
   ],
   "id": "9f6af491dd359ee5",
   "execution_count": 99,
   "outputs": []
  },
  {
   "metadata": {
    "ExecuteTime": {
     "end_time": "2024-06-05T03:03:13.263370Z",
     "start_time": "2024-06-05T03:03:13.260518Z"
    }
   },
   "cell_type": "code",
   "source": [
    "class Formatter:\n",
    "    def __init__(self):\n",
    "        pass\n",
    "\n",
    "    def format_product(self, product):\n",
    "        formatted_reviews = \"\\n\\n\".join(\n",
    "            [f\"Review {idx}: {review.text} - Sentiment: {review.sentiment} \\n\" for idx, review in\n",
    "             enumerate(product.reviews, start=1)])\n",
    "        return f\"Product: {product.name}\\nPrice: {product.price}\\nRating: {product.rating}\\nImage URL: {product.image_url}\\nReviews:\\n{formatted_reviews}\\n\"\n",
    "\n",
    "    def display_results(self, products):\n",
    "        for product in products:\n",
    "            print(self.format_product(product))\n"
   ],
   "id": "6c8b3873ca25c54b",
   "execution_count": 100,
   "outputs": []
  },
  {
   "metadata": {
    "ExecuteTime": {
     "end_time": "2024-06-05T03:03:13.266349Z",
     "start_time": "2024-06-05T03:03:13.263996Z"
    }
   },
   "cell_type": "code",
   "source": [
    "class Product:\n",
    "    def __init__(self, name, price, rating, image_url):\n",
    "        self.name = name\n",
    "        self.price = price\n",
    "        self.rating = rating\n",
    "        self.image_url = image_url\n",
    "        self.reviews = []\n",
    "\n",
    "    def add_review(self, review):\n",
    "        self.reviews.append(review)\n"
   ],
   "id": "bcc94eba1710fcf0",
   "execution_count": 101,
   "outputs": []
  },
  {
   "metadata": {
    "ExecuteTime": {
     "end_time": "2024-06-05T03:03:13.268943Z",
     "start_time": "2024-06-05T03:03:13.267104Z"
    }
   },
   "cell_type": "code",
   "source": [
    "class ReviewSentiment:\n",
    "    def __init__(self, text):\n",
    "        self.text = text\n",
    "        self.sentiment = None"
   ],
   "id": "ea5b9bfdeb572007",
   "execution_count": 102,
   "outputs": []
  },
  {
   "metadata": {
    "ExecuteTime": {
     "end_time": "2024-06-05T03:03:13.273371Z",
     "start_time": "2024-06-05T03:03:13.269653Z"
    }
   },
   "cell_type": "code",
   "source": [
    "class Review:\n",
    "    def __init__(self):\n",
    "        options = Options()\n",
    "        options.headless = True\n",
    "        self.driver = webdriver.Chrome(options=options)\n",
    "\n",
    "    def fetch_reviews(self, product_link):\n",
    "        self.driver.get(product_link)\n",
    "        time.sleep(2)\n",
    "        reviews = []\n",
    "        try:\n",
    "            self.driver.find_element(By.PARTIAL_LINK_TEXT, \"See more reviews\").click()\n",
    "            time.sleep(2)\n",
    "            html_content = self.driver.page_source\n",
    "            reviews.extend(self.parse_review_page(html_content))\n",
    "        except Exception as e:\n",
    "            print(f\"Error fetching reviews: {e}\")\n",
    "        finally:\n",
    "            self.cleanup()\n",
    "        return reviews\n",
    "\n",
    "    def cleanup(self):\n",
    "        self.driver.quit()\n",
    "\n",
    "    def parse_review_page(self, html_content):\n",
    "        soup = BeautifulSoup(html_content, 'html.parser')\n",
    "        review_texts = [tag.get_text(strip=True) for tag in soup.find_all('span', {'data-hook': 'review-body'})]\n",
    "        return [ReviewSentiment(text) for text in review_texts]\n"
   ],
   "id": "bcaba0673c5c8f55",
   "execution_count": 103,
   "outputs": []
  },
  {
   "metadata": {
    "ExecuteTime": {
     "end_time": "2024-06-05T03:03:47.691096Z",
     "start_time": "2024-06-05T03:03:13.274175Z"
    }
   },
   "cell_type": "code",
   "source": [
    "class Scrapper:\n",
    "    def __init__(self):\n",
    "        self.keyword = None\n",
    "        self.product_count: int = 2\n",
    "        self.headers = {\n",
    "            \"User-Agent\": \"Mozilla/5.0 (Windows NT 10.0; Win64; x64) AppleWebKit/537.36 (KHTML, like Gecko) Chrome/91.0.4472.124 Safari/537.36\",\n",
    "            # 'User-Agent':\n",
    "            #     'Mozilla/5.0 (X11; Linux x86_64) AppleWebKit/537.36 (KHTML, like Gecko) Chrome/44.0.2403.157 Safari/537.36',\n",
    "            'Accept-Language': 'en-US, en;q=0.5'\n",
    "        }\n",
    "        self.base_url = \"https://www.amazon.ca\"\n",
    "        self.products = []\n",
    "\n",
    "        # Initialize Selenium WebDriver\n",
    "        options = Options()\n",
    "        options.headless = True\n",
    "        self.driver = webdriver.Chrome(options=options)\n",
    "\n",
    "    def get_user_input(self):\n",
    "        self.keyword = 'television'\n",
    "        # self.keyword = input(\"Enter the product keyword: \")\n",
    "\n",
    "    def search_products(self):\n",
    "        search_url = f\"{self.base_url}/s?k={self.keyword}\"\n",
    "        response = requests.get(search_url, headers=self.headers)\n",
    "\n",
    "        if response.status_code == 200:\n",
    "            # 'html.parser', 'lxml'\n",
    "            soup = BeautifulSoup(response.content, 'lxml')\n",
    "            product_links = [self.base_url + tag['href'] for tag in\n",
    "                             soup.find_all('a', {'class': 'a-link-normal s-no-outline'}, href=True)]\n",
    "            return product_links[: self.product_count]\n",
    "        else:\n",
    "            print(\"Failed to fetch the search results.\")\n",
    "            return []\n",
    "\n",
    "    def extract_product_details(self, product_link):\n",
    "        response = requests.get(product_link, headers=self.headers)\n",
    "        if response.status_code == 200:\n",
    "            # 'html.parser'\n",
    "            soup = BeautifulSoup(response.content, 'lxml')\n",
    "            try:\n",
    "                name = soup.find(id=\"productTitle\").get_text(strip=True)\n",
    "                price_whole = soup.find(\"span\", {\"class\": \"a-price-whole\"}).get_text(strip=True)\n",
    "                price_fraction = soup.find(\"span\", {\"class\": \"a-price-fraction\"}).get_text(strip=True)\n",
    "                price = f\"{price_whole}.{price_fraction}\"\n",
    "                rating = soup.find(\"span\", {\"class\": \"a-icon-alt\"}).get_text(strip=True)\n",
    "                image_url = soup.find(\"img\", {\"id\": \"landingImage\"})['src']\n",
    "                # reviews = soup.find(\"div\", {\"class\": \"reviews-content\"})\n",
    "\n",
    "                return Product(name, price, rating, image_url)\n",
    "            except AttributeError:\n",
    "                print(\"Error parsing product details.\")\n",
    "                return None\n",
    "        else:\n",
    "            print(\"Failed to fetch the product page.\")\n",
    "            return None\n",
    "\n",
    "    def aggregate_data(self):\n",
    "        product_links = self.search_products()\n",
    "\n",
    "        for link in product_links:\n",
    "            product = self.extract_product_details(link)\n",
    "            if product:\n",
    "                self.products.append(product)\n",
    "                review_scraper = Review()\n",
    "                reviews = review_scraper.fetch_reviews(link)\n",
    "                print(reviews)\n",
    "\n",
    "                for review in reviews:\n",
    "                    product.add_review(review)\n",
    "\n",
    "    def cleanup(self):\n",
    "        self.driver.quit()\n",
    "\n",
    "    def run(self):\n",
    "        self.get_user_input()\n",
    "        self.aggregate_data()\n",
    "        sentiment_analyzer = Analyzer()\n",
    "        for product in self.products:\n",
    "            sentiment_analyzer.analyze_reviews(product.reviews)\n",
    "        output_formatter = Formatter()\n",
    "        output_formatter.display_results(self.products)\n",
    "        self.cleanup()\n",
    "\n",
    "\n",
    "if __name__ == \"__main__\":\n",
    "    scraper = Scrapper()\n",
    "    scraper.run()\n"
   ],
   "id": "ddfdd57ab87f8204",
   "execution_count": 104,
   "outputs": []
  },
  {
   "metadata": {},
   "cell_type": "code",
   "source": "",
   "id": "5aa97e96a941973f",
   "execution_count": 104,
   "outputs": []
  }
 ],
 "metadata": {
  "kernelspec": {
   "display_name": "Python 3",
   "language": "python",
   "name": "python3"
  },
  "language_info": {
   "codemirror_mode": {
    "name": "ipython",
    "version": 2
   },
   "file_extension": ".py",
   "mimetype": "text/x-python",
   "name": "python",
   "nbconvert_exporter": "python",
   "pygments_lexer": "ipython2",
   "version": "2.7.6"
  }
 },
 "nbformat": 4,
 "nbformat_minor": 5
}
