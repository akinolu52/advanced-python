{
 "cells": [
  {
   "cell_type": "code",
   "id": "initial_id",
   "metadata": {
    "collapsed": true,
    "ExecuteTime": {
     "end_time": "2024-06-05T01:34:51.866180Z",
     "start_time": "2024-06-05T01:34:51.864040Z"
    }
   },
   "source": "import pandas as pd",
   "execution_count": 128,
   "outputs": []
  },
  {
   "metadata": {
    "ExecuteTime": {
     "end_time": "2024-06-05T01:34:52.232073Z",
     "start_time": "2024-06-05T01:34:52.221148Z"
    }
   },
   "cell_type": "code",
   "source": [
    "df = pd.read_csv('../lecture5/titanic.csv')\n",
    "df.shape"
   ],
   "id": "2b0f2dc6a238bac8",
   "execution_count": 129,
   "outputs": []
  },
  {
   "metadata": {
    "ExecuteTime": {
     "end_time": "2024-06-05T01:34:52.273015Z",
     "start_time": "2024-06-05T01:34:52.267883Z"
    }
   },
   "cell_type": "code",
   "source": "df.head(4)",
   "id": "8c894b59205a5fce",
   "execution_count": 130,
   "outputs": []
  },
  {
   "metadata": {
    "ExecuteTime": {
     "end_time": "2024-06-05T01:34:52.302584Z",
     "start_time": "2024-06-05T01:34:52.298812Z"
    }
   },
   "cell_type": "code",
   "source": "df.isna().sum()",
   "id": "27c4aa0405576234",
   "execution_count": 131,
   "outputs": []
  },
  {
   "metadata": {
    "ExecuteTime": {
     "end_time": "2024-06-05T01:34:52.337065Z",
     "start_time": "2024-06-05T01:34:52.327187Z"
    }
   },
   "cell_type": "code",
   "source": "df.describe()",
   "id": "227a7c1ebcd5ef54",
   "execution_count": 132,
   "outputs": []
  },
  {
   "metadata": {
    "ExecuteTime": {
     "end_time": "2024-06-05T01:34:52.384702Z",
     "start_time": "2024-06-05T01:34:52.376385Z"
    }
   },
   "cell_type": "code",
   "source": "df.describe(percentiles=[0.01, .1, .2, 0.3, 0.4, 0.5, 0.6, 0.7, 0.8, 0.9, 0.99])",
   "id": "102d1be58ec87207",
   "execution_count": 133,
   "outputs": []
  },
  {
   "metadata": {
    "ExecuteTime": {
     "end_time": "2024-06-05T01:34:52.398420Z",
     "start_time": "2024-06-05T01:34:52.395402Z"
    }
   },
   "cell_type": "code",
   "source": "df['age'].quantile(0.01)",
   "id": "c2876980a3ce493c",
   "execution_count": 134,
   "outputs": []
  },
  {
   "metadata": {
    "ExecuteTime": {
     "end_time": "2024-06-05T01:34:52.468026Z",
     "start_time": "2024-06-05T01:34:52.463432Z"
    }
   },
   "cell_type": "code",
   "source": [
    "# remove unnecessary column\n",
    "\n",
    "df.drop('ticketno', axis=1).head(1)"
   ],
   "id": "7cc9c5d05efde681",
   "execution_count": 135,
   "outputs": []
  },
  {
   "metadata": {
    "ExecuteTime": {
     "end_time": "2024-06-05T01:34:52.531197Z",
     "start_time": "2024-06-05T01:34:52.529488Z"
    }
   },
   "cell_type": "code",
   "source": [
    "# remove unnecessary column (A better way)\n",
    "\n",
    "del df['ticketno']"
   ],
   "id": "d3d6a7564c6d3d19",
   "execution_count": 136,
   "outputs": []
  },
  {
   "metadata": {},
   "cell_type": "markdown",
   "source": "Navigating dataframe",
   "id": "a8840c5c68103230"
  },
  {
   "metadata": {
    "ExecuteTime": {
     "end_time": "2024-06-05T01:34:52.631399Z",
     "start_time": "2024-06-05T01:34:52.629005Z"
    }
   },
   "cell_type": "code",
   "source": [
    "# select specific data\n",
    "\n",
    "df.at[0, 'age']"
   ],
   "id": "46dcc3b0036f6c27",
   "execution_count": 137,
   "outputs": []
  },
  {
   "metadata": {
    "ExecuteTime": {
     "end_time": "2024-06-05T01:34:52.724622Z",
     "start_time": "2024-06-05T01:34:52.723121Z"
    }
   },
   "cell_type": "code",
   "source": [
    "# get the index name\n",
    "df.index.name"
   ],
   "id": "12d758f56ab59bc1",
   "execution_count": 138,
   "outputs": []
  },
  {
   "metadata": {
    "ExecuteTime": {
     "end_time": "2024-06-05T01:34:52.817324Z",
     "start_time": "2024-06-05T01:34:52.812961Z"
    }
   },
   "cell_type": "code",
   "source": "df.iloc[1:4]",
   "id": "57e1846013cb214",
   "execution_count": 139,
   "outputs": []
  },
  {
   "metadata": {
    "ExecuteTime": {
     "end_time": "2024-06-05T01:34:52.849691Z",
     "start_time": "2024-06-05T01:34:52.845047Z"
    }
   },
   "cell_type": "code",
   "source": "df.loc[1:4]",
   "id": "b520afd07ef6fdca",
   "execution_count": 140,
   "outputs": []
  },
  {
   "metadata": {
    "ExecuteTime": {
     "end_time": "2024-06-05T01:34:52.887814Z",
     "start_time": "2024-06-05T01:34:52.884813Z"
    }
   },
   "cell_type": "code",
   "source": [
    "# change the index to a string column 'name' and use .loc and .iloc\n",
    "\n",
    "df = df.set_index(df['name'])\n",
    "\n",
    "df.index.name"
   ],
   "id": "915a5f0a6fbff4e2",
   "execution_count": 141,
   "outputs": []
  },
  {
   "metadata": {
    "ExecuteTime": {
     "end_time": "2024-06-05T01:34:52.926083Z",
     "start_time": "2024-06-05T01:34:52.923260Z"
    }
   },
   "cell_type": "code",
   "source": "df.loc['Abbott, Mr. Eugene Joseph']",
   "id": "a734099c9f39bc71",
   "execution_count": 142,
   "outputs": []
  },
  {
   "metadata": {
    "ExecuteTime": {
     "end_time": "2024-06-05T01:34:53.029767Z",
     "start_time": "2024-06-05T01:34:53.013393Z"
    }
   },
   "cell_type": "code",
   "source": [
    "# does not work cause of string index\n",
    "\n",
    "df.iloc['Abbott, Mr. Eugene Joseph']"
   ],
   "id": "79fbabc5f6792ede",
   "execution_count": 143,
   "outputs": []
  },
  {
   "metadata": {
    "ExecuteTime": {
     "end_time": "2024-06-05T01:34:53.100947Z",
     "start_time": "2024-06-05T01:34:53.068602Z"
    }
   },
   "cell_type": "code",
   "source": "df.loc[1:4]",
   "id": "5324e68d40a653d8",
   "execution_count": 144,
   "outputs": []
  },
  {
   "metadata": {
    "ExecuteTime": {
     "end_time": "2024-06-05T01:34:53.203325Z",
     "start_time": "2024-06-05T01:34:53.198958Z"
    }
   },
   "cell_type": "code",
   "source": "df.iloc[1:4]",
   "id": "3e5395d7f899a220",
   "execution_count": 145,
   "outputs": []
  },
  {
   "metadata": {
    "ExecuteTime": {
     "end_time": "2024-06-05T01:34:53.399624Z",
     "start_time": "2024-06-05T01:34:53.395406Z"
    }
   },
   "cell_type": "code",
   "source": [
    "df.reset_index(drop=True, inplace=True)\n",
    "\n",
    "df.head(1)"
   ],
   "id": "2e758c387478b6e",
   "execution_count": 146,
   "outputs": []
  },
  {
   "metadata": {},
   "cell_type": "markdown",
   "source": "conditional navigation",
   "id": "dbd8389df3a43ba9"
  },
  {
   "metadata": {
    "ExecuteTime": {
     "end_time": "2024-06-05T01:34:53.461779Z",
     "start_time": "2024-06-05T01:34:53.458059Z"
    }
   },
   "cell_type": "code",
   "source": "df[df['gender'] == 'female'].shape",
   "id": "7435da81622c954e",
   "execution_count": 147,
   "outputs": []
  },
  {
   "metadata": {
    "ExecuteTime": {
     "end_time": "2024-06-05T01:34:53.481360Z",
     "start_time": "2024-06-05T01:34:53.478164Z"
    }
   },
   "cell_type": "code",
   "source": [
    "# create a sub-table\n",
    "\n",
    "female_df = df[df['gender'] == 'female']\n",
    "female_df.shape"
   ],
   "id": "224b74440890fb31",
   "execution_count": 148,
   "outputs": []
  },
  {
   "metadata": {
    "ExecuteTime": {
     "end_time": "2024-06-05T01:34:53.543912Z",
     "start_time": "2024-06-05T01:34:53.540511Z"
    }
   },
   "cell_type": "code",
   "source": [
    "# create a sub-table with multiple condition using logical 'and'\n",
    "\n",
    "female_df = df[(df['gender'] == 'female') & (df['age'] > 50)]\n",
    "female_df.shape"
   ],
   "id": "61470bff9a68a326",
   "execution_count": 149,
   "outputs": []
  },
  {
   "metadata": {
    "ExecuteTime": {
     "end_time": "2024-06-05T01:34:53.676056Z",
     "start_time": "2024-06-05T01:34:53.672606Z"
    }
   },
   "cell_type": "code",
   "source": [
    "# create a sub-table with multiple condition using logical 'or'\n",
    "\n",
    "female_df = df[(df['gender'] == 'female') | (df['age'] > 50)]\n",
    "female_df.shape"
   ],
   "id": "39fdb5a76f6518f8",
   "execution_count": 150,
   "outputs": []
  },
  {
   "metadata": {
    "ExecuteTime": {
     "end_time": "2024-06-05T01:34:53.766623Z",
     "start_time": "2024-06-05T01:34:53.763309Z"
    }
   },
   "cell_type": "code",
   "source": [
    "# create a sub-table with multiple condition using logical 'or', and\n",
    "\n",
    "df[\n",
    "    ((df['gender'] == 'female') & (df['age'] > 50)) |\n",
    "    (df['gender'] == 'male') & (df['age'] < 20)\n",
    "    ].shape"
   ],
   "id": "b42a60c580bd0f86",
   "execution_count": 151,
   "outputs": []
  },
  {
   "metadata": {
    "ExecuteTime": {
     "end_time": "2024-06-05T01:34:53.807146Z",
     "start_time": "2024-06-05T01:34:53.803151Z"
    }
   },
   "cell_type": "code",
   "source": [
    "# replace values with new labels in a categorical column\n",
    "\n",
    "df['gender'].replace(['female', 'male'], ['W', 'M']).head(5)"
   ],
   "id": "61570df0c8343386",
   "execution_count": 152,
   "outputs": []
  },
  {
   "metadata": {
    "ExecuteTime": {
     "end_time": "2024-06-05T01:34:53.870233Z",
     "start_time": "2024-06-05T01:34:53.863173Z"
    }
   },
   "cell_type": "code",
   "source": [
    "# create a new columns\n",
    "\n",
    "df['sex'] = df['gender'].replace(['female', 'male'], [1, 0])\n",
    "# does not count null, NAN values\n",
    "df['sex'].value_counts()"
   ],
   "id": "e6114ab32e5706dc",
   "execution_count": 153,
   "outputs": []
  },
  {
   "metadata": {
    "ExecuteTime": {
     "end_time": "2024-06-05T01:34:53.914327Z",
     "start_time": "2024-06-05T01:34:53.911451Z"
    }
   },
   "cell_type": "code",
   "source": [
    "# get the count of unique values in a categorical column\n",
    "\n",
    "df['gender'].value_counts(dropna=False)"
   ],
   "id": "4ca06d23a7c23be6",
   "execution_count": 154,
   "outputs": []
  },
  {
   "metadata": {
    "ExecuteTime": {
     "end_time": "2024-06-05T01:34:53.942935Z",
     "start_time": "2024-06-05T01:34:53.939284Z"
    }
   },
   "cell_type": "code",
   "source": [
    "df['survived_indicator'] = df['survived'].replace(['yes', 'no'], [1, 0])\n",
    "\n",
    "df.survived_indicator.value_counts(dropna=False)"
   ],
   "id": "4a0e0aa588378290",
   "execution_count": 155,
   "outputs": []
  },
  {
   "metadata": {},
   "cell_type": "markdown",
   "source": [
    "### CrossTabs\n",
    "\n",
    "cross tabulation - is a useful analysis tool used to compare result of one variable with another result of another variable"
   ],
   "id": "f6a7ef5d9b3ba353"
  },
  {
   "metadata": {
    "ExecuteTime": {
     "end_time": "2024-06-05T01:34:53.985720Z",
     "start_time": "2024-06-05T01:34:53.968870Z"
    }
   },
   "cell_type": "code",
   "source": "pd.crosstab(df['sex'], df['gender'], margins=True, margins_name='total')",
   "id": "9fc4628f9f16ac8e",
   "execution_count": 156,
   "outputs": []
  },
  {
   "metadata": {
    "ExecuteTime": {
     "end_time": "2024-06-05T01:34:54.017372Z",
     "start_time": "2024-06-05T01:34:54.015807Z"
    }
   },
   "cell_type": "code",
   "source": [
    "# crosstab = pd.crosstab(\n",
    "#             df[\"survived\"],[df[\"gender\"],df[\"class\"]],margins=True,margins_name=\"total\")"
   ],
   "id": "19b7a3da96d472a2",
   "execution_count": 157,
   "outputs": []
  },
  {
   "metadata": {
    "ExecuteTime": {
     "end_time": "2024-06-05T01:34:54.046956Z",
     "start_time": "2024-06-05T01:34:54.031423Z"
    }
   },
   "cell_type": "code",
   "source": [
    "crosstab = pd.crosstab(df['survived'], [df['gender'], df['class']], margins=True, margins_name='total')\n",
    "\n",
    "crosstab.to_csv('./crosstab.csv')"
   ],
   "id": "e0c9c7b4c0b315ae",
   "execution_count": 158,
   "outputs": []
  },
  {
   "metadata": {
    "ExecuteTime": {
     "end_time": "2024-06-05T01:34:54.063420Z",
     "start_time": "2024-06-05T01:34:54.061840Z"
    }
   },
   "cell_type": "code",
   "source": "del crosstab",
   "id": "c4b74dafc6cc84fc",
   "execution_count": 159,
   "outputs": []
  },
  {
   "metadata": {
    "ExecuteTime": {
     "end_time": "2024-06-05T01:34:54.101082Z",
     "start_time": "2024-06-05T01:34:54.096061Z"
    }
   },
   "cell_type": "code",
   "source": [
    "# rename a column\n",
    "\n",
    "# column => old_name: new_name\n",
    "df.rename(columns={'class': 'passenger_class'}, inplace=True)\n",
    "df.head(1)"
   ],
   "id": "1f81d83721089d7c",
   "execution_count": 160,
   "outputs": []
  },
  {
   "metadata": {},
   "cell_type": "markdown",
   "source": "",
   "id": "797df6fdd3d8b331"
  },
  {
   "metadata": {
    "ExecuteTime": {
     "end_time": "2024-06-05T01:34:54.147328Z",
     "start_time": "2024-06-05T01:34:54.144814Z"
    }
   },
   "cell_type": "code",
   "source": [
    "# count the missing values in a given column\n",
    "\n",
    "df[df['age'].isna()].shape[0]"
   ],
   "id": "494f080250d08380",
   "execution_count": 161,
   "outputs": []
  },
  {
   "metadata": {
    "ExecuteTime": {
     "end_time": "2024-06-05T01:34:54.203343Z",
     "start_time": "2024-06-05T01:34:54.199177Z"
    }
   },
   "cell_type": "code",
   "source": [
    "print(type(df[df['age'].notna()].shape))\n",
    "print(df[df['age'].notna()].shape)\n",
    "print(df[df['age'].notna()].shape[0])"
   ],
   "id": "3f52f289a238885",
   "execution_count": 162,
   "outputs": []
  },
  {
   "metadata": {},
   "cell_type": "markdown",
   "source": "Unique values",
   "id": "45f549f699ca1d54"
  },
  {
   "metadata": {
    "ExecuteTime": {
     "end_time": "2024-06-05T01:34:54.250727Z",
     "start_time": "2024-06-05T01:34:54.248311Z"
    }
   },
   "cell_type": "code",
   "source": [
    "# count unique countries in dataframe\n",
    "\n",
    "df['country'].nunique()"
   ],
   "id": "cf15dc88cff76a0a",
   "execution_count": 163,
   "outputs": []
  },
  {
   "metadata": {
    "ExecuteTime": {
     "end_time": "2024-06-05T01:34:54.299993Z",
     "start_time": "2024-06-05T01:34:54.297601Z"
    }
   },
   "cell_type": "code",
   "source": "df['country'].unique()",
   "id": "cfa3fff46752463d",
   "execution_count": 164,
   "outputs": []
  },
  {
   "metadata": {
    "ExecuteTime": {
     "end_time": "2024-06-05T01:34:54.319734Z",
     "start_time": "2024-06-05T01:34:54.316791Z"
    }
   },
   "cell_type": "code",
   "source": "df['country'].value_counts(dropna=False)",
   "id": "fefa7b7bb61870a0",
   "execution_count": 165,
   "outputs": []
  },
  {
   "metadata": {
    "ExecuteTime": {
     "end_time": "2024-06-05T01:34:54.379352Z",
     "start_time": "2024-06-05T01:34:54.376792Z"
    }
   },
   "cell_type": "code",
   "source": "df['country'].value_counts(dropna=False).sum()",
   "id": "605ad21964a170c3",
   "execution_count": 166,
   "outputs": []
  },
  {
   "metadata": {
    "ExecuteTime": {
     "end_time": "2024-06-05T01:34:54.441734Z",
     "start_time": "2024-06-05T01:34:54.428826Z"
    }
   },
   "cell_type": "code",
   "source": "pd.crosstab(df['country'], df['survived_indicator'], margins=True, margins_name='total')",
   "id": "4e78781490218a84",
   "execution_count": 167,
   "outputs": []
  },
  {
   "metadata": {
    "ExecuteTime": {
     "end_time": "2024-06-05T01:34:54.489104Z",
     "start_time": "2024-06-05T01:34:54.474933Z"
    }
   },
   "cell_type": "code",
   "source": [
    "# create a new df with 3 columns -> survived and country, % of survival\n",
    "# sort based on population total\n",
    "# probability of survival\n",
    "\n",
    "survival_prob = pd.crosstab(df['country'], df['survived_indicator'], margins=True, margins_name='Total')\n",
    "\n",
    "survival_prob['percent_Survived'] = round(survival_prob[1] / survival_prob['Total'] * 100)\n",
    "survival_prob.sort_values(by='percent_Survived', ascending=False)"
   ],
   "id": "e0effa92b36bf245",
   "execution_count": 168,
   "outputs": []
  },
  {
   "metadata": {},
   "cell_type": "markdown",
   "source": "Grouping",
   "id": "d006d7f50ec7ecc6"
  },
  {
   "metadata": {
    "ExecuteTime": {
     "end_time": "2024-06-05T01:34:54.509687Z",
     "start_time": "2024-06-05T01:34:54.504527Z"
    }
   },
   "cell_type": "code",
   "source": [
    "df['company'] = df['sibsp'] + df['parch']\n",
    "df.groupby('gender')['company'].mean()"
   ],
   "id": "2503ebadb5df2c90",
   "execution_count": 169,
   "outputs": []
  },
  {
   "metadata": {
    "ExecuteTime": {
     "end_time": "2024-06-05T01:34:54.576305Z",
     "start_time": "2024-06-05T01:34:54.572636Z"
    }
   },
   "cell_type": "code",
   "source": "df.groupby('gender')['age'].mean()",
   "id": "f7bb9e93cde3c9e3",
   "execution_count": 170,
   "outputs": []
  },
  {
   "metadata": {
    "ExecuteTime": {
     "end_time": "2024-06-05T01:34:54.656815Z",
     "start_time": "2024-06-05T01:34:54.652476Z"
    }
   },
   "cell_type": "code",
   "source": "pd.DataFrame(df.groupby(['gender', 'survived_indicator'])['age'].mean())",
   "id": "95ff46c687cd0025",
   "execution_count": 171,
   "outputs": []
  },
  {
   "metadata": {
    "ExecuteTime": {
     "end_time": "2024-06-05T01:34:54.800780Z",
     "start_time": "2024-06-05T01:34:54.797712Z"
    }
   },
   "cell_type": "code",
   "source": "df.groupby('gender')['age'].count()",
   "id": "86483b9cfc80909",
   "execution_count": 172,
   "outputs": []
  },
  {
   "metadata": {
    "ExecuteTime": {
     "end_time": "2024-06-05T01:34:54.824074Z",
     "start_time": "2024-06-05T01:34:54.820913Z"
    }
   },
   "cell_type": "code",
   "source": "df.groupby('gender')['name'].count()",
   "id": "20ea1da2602d5d7d",
   "execution_count": 173,
   "outputs": []
  },
  {
   "metadata": {
    "ExecuteTime": {
     "end_time": "2024-06-05T01:34:54.889852Z",
     "start_time": "2024-06-05T01:34:54.884615Z"
    }
   },
   "cell_type": "code",
   "source": "df.groupby('gender').count()",
   "id": "aed40c869c64528a",
   "execution_count": 174,
   "outputs": []
  },
  {
   "metadata": {
    "ExecuteTime": {
     "end_time": "2024-06-05T01:34:54.920525Z",
     "start_time": "2024-06-05T01:34:54.913752Z"
    }
   },
   "cell_type": "code",
   "source": "df.groupby('gender').apply(lambda col: col.count())",
   "id": "eb31913190b0c32b",
   "execution_count": 175,
   "outputs": []
  },
  {
   "metadata": {
    "ExecuteTime": {
     "end_time": "2024-06-05T01:34:54.999758Z",
     "start_time": "2024-06-05T01:34:54.998194Z"
    }
   },
   "cell_type": "code",
   "source": [
    "def uppercase(s):\n",
    "    return s.upper()"
   ],
   "id": "64f875c734f112fe",
   "execution_count": 176,
   "outputs": []
  },
  {
   "metadata": {
    "ExecuteTime": {
     "end_time": "2024-06-05T01:34:55.070225Z",
     "start_time": "2024-06-05T01:34:55.066934Z"
    }
   },
   "cell_type": "code",
   "source": [
    "df['new_col'] = df['name'].apply(uppercase)\n",
    "df['new_col'].head()"
   ],
   "id": "525b15e13cb60d64",
   "execution_count": 177,
   "outputs": []
  },
  {
   "metadata": {
    "ExecuteTime": {
     "end_time": "2024-06-05T01:34:55.134277Z",
     "start_time": "2024-06-05T01:34:55.132187Z"
    }
   },
   "cell_type": "code",
   "source": [
    "for x in df['name'][:3]:\n",
    "    print(x.upper())"
   ],
   "id": "150f0e7d644fbc99",
   "execution_count": 178,
   "outputs": []
  },
  {
   "metadata": {
    "ExecuteTime": {
     "end_time": "2024-06-05T01:34:55.191156Z",
     "start_time": "2024-06-05T01:34:55.188635Z"
    }
   },
   "cell_type": "code",
   "source": "[w.upper() for w in df['name'][:2]]",
   "id": "4b3afde495cafa15",
   "execution_count": 179,
   "outputs": []
  },
  {
   "metadata": {},
   "cell_type": "markdown",
   "source": "### Concatenating two DataFrames",
   "id": "9f40151bf1cb8b06"
  },
  {
   "metadata": {
    "ExecuteTime": {
     "end_time": "2024-06-05T01:34:55.269989Z",
     "start_time": "2024-06-05T01:34:55.267589Z"
    }
   },
   "cell_type": "code",
   "source": [
    "data_a = {\n",
    "    'id': ['1', '2', '3'],\n",
    "    'first': ['Alex', 'Amy', 'Allen'],\n",
    "    'last': ['Anderson', 'Ackerman', 'Ali']\n",
    "}\n",
    "\n",
    "dataframe_a = pd.DataFrame(data_a, columns=['id', 'first', 'last'])"
   ],
   "id": "1b0fa33d52ae48",
   "execution_count": 180,
   "outputs": []
  },
  {
   "metadata": {
    "ExecuteTime": {
     "end_time": "2024-06-05T01:35:32.175487Z",
     "start_time": "2024-06-05T01:35:32.172012Z"
    }
   },
   "cell_type": "code",
   "source": [
    "data_b = {\n",
    "    'id': ['4', '5', '6'],\n",
    "    'first': ['Billy', 'Brian', 'Bran'],\n",
    "    'last': ['Blonder', 'Black', 'Balwner']\n",
    "}\n",
    "\n",
    "# try with this\n",
    "# data_b = {\n",
    "#     'student_id': ['4', '5', '6'],\n",
    "#     'first': ['Billy', 'Brian', 'Bran'],\n",
    "#     'last': ['Blonder', 'Black', 'Balwner']\n",
    "# }\n",
    "\n",
    "dataframe_b = pd.DataFrame(data_b, columns=['id', 'first', 'last'])"
   ],
   "id": "a17b4065171e1f36",
   "execution_count": 186,
   "outputs": []
  },
  {
   "metadata": {
    "ExecuteTime": {
     "end_time": "2024-06-05T01:35:32.548077Z",
     "start_time": "2024-06-05T01:35:32.543988Z"
    }
   },
   "cell_type": "code",
   "source": "pd.concat([dataframe_a, dataframe_b])",
   "id": "c9970422578af9af",
   "execution_count": 187,
   "outputs": []
  },
  {
   "metadata": {
    "ExecuteTime": {
     "end_time": "2024-06-05T01:35:32.922819Z",
     "start_time": "2024-06-05T01:35:32.919430Z"
    }
   },
   "cell_type": "code",
   "source": [
    "x = pd.concat([dataframe_a, dataframe_b], axis=0)\n",
    "x"
   ],
   "id": "bc5a3bc972df28b3",
   "execution_count": 188,
   "outputs": []
  },
  {
   "metadata": {
    "ExecuteTime": {
     "end_time": "2024-06-05T01:35:33.113049Z",
     "start_time": "2024-06-05T01:35:33.109298Z"
    }
   },
   "cell_type": "code",
   "source": [
    "y = pd.concat([dataframe_a, dataframe_b], axis=1)\n",
    "y"
   ],
   "id": "33e0338a8ac69a7",
   "execution_count": 189,
   "outputs": []
  },
  {
   "metadata": {},
   "cell_type": "markdown",
   "source": "MERGE (JOIN)",
   "id": "12dad9d3512c58c6"
  },
  {
   "metadata": {
    "ExecuteTime": {
     "end_time": "2024-06-05T01:40:46.991689Z",
     "start_time": "2024-06-05T01:40:46.987165Z"
    }
   },
   "cell_type": "code",
   "source": [
    "employee_data = {\n",
    "    'employee_id': ['1', '2', '3', '4'],\n",
    "    'name': ['Amy Jones', 'Allen Keys', 'Alice Bees', 'Tim Hortons']\n",
    "}\n",
    "\n",
    "employee_dataframe = pd.DataFrame(employee_data, columns=['employee_id', 'name'])\n",
    "\n",
    "employee_dataframe"
   ],
   "id": "4b1739c998e8c395",
   "execution_count": 191,
   "outputs": []
  },
  {
   "metadata": {
    "ExecuteTime": {
     "end_time": "2024-06-05T01:42:04.127144Z",
     "start_time": "2024-06-05T01:42:04.116776Z"
    }
   },
   "cell_type": "code",
   "source": [
    "sales_data = {\n",
    "    'employee_id': ['3', '4', '5', '6'],\n",
    "    'total_sales': [23456, 2512, 2345, 1445]\n",
    "}\n",
    "\n",
    "sales_dataframe = pd.DataFrame(sales_data, columns=['employee_id', 'total_sales'])\n",
    "\n",
    "sales_dataframe"
   ],
   "id": "4004c488b08a7f72",
   "execution_count": 192,
   "outputs": []
  },
  {
   "metadata": {
    "ExecuteTime": {
     "end_time": "2024-06-05T01:43:16.973820Z",
     "start_time": "2024-06-05T01:43:16.953064Z"
    }
   },
   "cell_type": "code",
   "source": "pd.merge(employee_dataframe, sales_dataframe, on='employee_id')",
   "id": "817c4c133eda98cb",
   "execution_count": 193,
   "outputs": []
  },
  {
   "metadata": {},
   "cell_type": "markdown",
   "source": [
    "if name is different on both column\n",
    "\n",
    "left_on, right_on\n",
    "\n",
    "if you don't specify the type of join then the default is inner-join"
   ],
   "id": "47eb6c9e4d60cfbb"
  },
  {
   "metadata": {
    "ExecuteTime": {
     "end_time": "2024-06-05T01:44:28.063817Z",
     "start_time": "2024-06-05T01:44:28.050668Z"
    }
   },
   "cell_type": "code",
   "source": "pd.merge(employee_dataframe, sales_dataframe, on='employee_id', how='outer')",
   "id": "466c73bf1c5f1aac",
   "execution_count": 194,
   "outputs": []
  },
  {
   "metadata": {
    "ExecuteTime": {
     "end_time": "2024-06-05T01:49:42.932455Z",
     "start_time": "2024-06-05T01:49:42.920836Z"
    }
   },
   "cell_type": "code",
   "source": "pd.merge(employee_dataframe, sales_dataframe, left_on='employee_id', right_on='employee_id')",
   "id": "dcd0113434425311",
   "execution_count": 197,
   "outputs": []
  },
  {
   "metadata": {},
   "cell_type": "code",
   "execution_count": null,
   "source": "",
   "id": "5835eec9d3ff320",
   "outputs": []
  },
  {
   "metadata": {
    "ExecuteTime": {
     "end_time": "2024-06-05T01:48:43.053396Z",
     "start_time": "2024-06-05T01:48:43.050128Z"
    }
   },
   "cell_type": "code",
   "source": [
    "# TODO\n",
    "\n",
    "# use set index on both dataframes and make sure the index is the employee_id\n",
    "# use left_index and right_index on the dataframe to merge"
   ],
   "id": "84d41cf02884c70d",
   "execution_count": 196,
   "outputs": []
  }
 ],
 "metadata": {
  "kernelspec": {
   "display_name": "Python 3",
   "language": "python",
   "name": "python3"
  },
  "language_info": {
   "codemirror_mode": {
    "name": "ipython",
    "version": 2
   },
   "file_extension": ".py",
   "mimetype": "text/x-python",
   "name": "python",
   "nbconvert_exporter": "python",
   "pygments_lexer": "ipython2",
   "version": "2.7.6"
  }
 },
 "nbformat": 4,
 "nbformat_minor": 5
}
