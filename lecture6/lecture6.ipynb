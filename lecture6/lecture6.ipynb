{
 "cells": [
  {
   "cell_type": "code",
   "id": "initial_id",
   "metadata": {
    "collapsed": true,
    "ExecuteTime": {
     "end_time": "2024-06-27T06:33:49.405172Z",
     "start_time": "2024-06-27T06:33:48.860578Z"
    }
   },
   "source": "import pandas as pd",
   "outputs": [],
   "execution_count": 1
  },
  {
   "metadata": {
    "ExecuteTime": {
     "end_time": "2024-06-27T06:33:49.416718Z",
     "start_time": "2024-06-27T06:33:49.406108Z"
    }
   },
   "cell_type": "code",
   "source": [
    "df = pd.read_csv('../lecture5/titanic.csv')\n",
    "df.shape"
   ],
   "id": "2b0f2dc6a238bac8",
   "outputs": [
    {
     "data": {
      "text/plain": [
       "(2207, 11)"
      ]
     },
     "execution_count": 2,
     "metadata": {},
     "output_type": "execute_result"
    }
   ],
   "execution_count": 2
  },
  {
   "metadata": {
    "ExecuteTime": {
     "end_time": "2024-06-27T06:33:49.504818Z",
     "start_time": "2024-06-27T06:33:49.497548Z"
    }
   },
   "cell_type": "code",
   "source": "df.head(4)",
   "id": "8c894b59205a5fce",
   "outputs": [
    {
     "data": {
      "text/plain": [
       "                             name  gender   age class embarked        country  \\\n",
       "0             Abbing, Mr. Anthony    male  42.0   3rd        S  United States   \n",
       "1       Abbott, Mr. Eugene Joseph    male  13.0   3rd        S  United States   \n",
       "2     Abbott, Mr. Rossmore Edward    male  16.0   3rd        S  United States   \n",
       "3  Abbott, Mrs. Rhoda Mary 'Rosa'  female  39.0   3rd        S        England   \n",
       "\n",
       "   ticketno   fare  sibsp  parch survived  \n",
       "0    5547.0   7.11    0.0    0.0       no  \n",
       "1    2673.0  20.05    0.0    2.0       no  \n",
       "2    2673.0  20.05    1.0    1.0       no  \n",
       "3    2673.0  20.05    1.0    1.0      yes  "
      ],
      "text/html": [
       "<div>\n",
       "<style scoped>\n",
       "    .dataframe tbody tr th:only-of-type {\n",
       "        vertical-align: middle;\n",
       "    }\n",
       "\n",
       "    .dataframe tbody tr th {\n",
       "        vertical-align: top;\n",
       "    }\n",
       "\n",
       "    .dataframe thead th {\n",
       "        text-align: right;\n",
       "    }\n",
       "</style>\n",
       "<table border=\"1\" class=\"dataframe\">\n",
       "  <thead>\n",
       "    <tr style=\"text-align: right;\">\n",
       "      <th></th>\n",
       "      <th>name</th>\n",
       "      <th>gender</th>\n",
       "      <th>age</th>\n",
       "      <th>class</th>\n",
       "      <th>embarked</th>\n",
       "      <th>country</th>\n",
       "      <th>ticketno</th>\n",
       "      <th>fare</th>\n",
       "      <th>sibsp</th>\n",
       "      <th>parch</th>\n",
       "      <th>survived</th>\n",
       "    </tr>\n",
       "  </thead>\n",
       "  <tbody>\n",
       "    <tr>\n",
       "      <th>0</th>\n",
       "      <td>Abbing, Mr. Anthony</td>\n",
       "      <td>male</td>\n",
       "      <td>42.0</td>\n",
       "      <td>3rd</td>\n",
       "      <td>S</td>\n",
       "      <td>United States</td>\n",
       "      <td>5547.0</td>\n",
       "      <td>7.11</td>\n",
       "      <td>0.0</td>\n",
       "      <td>0.0</td>\n",
       "      <td>no</td>\n",
       "    </tr>\n",
       "    <tr>\n",
       "      <th>1</th>\n",
       "      <td>Abbott, Mr. Eugene Joseph</td>\n",
       "      <td>male</td>\n",
       "      <td>13.0</td>\n",
       "      <td>3rd</td>\n",
       "      <td>S</td>\n",
       "      <td>United States</td>\n",
       "      <td>2673.0</td>\n",
       "      <td>20.05</td>\n",
       "      <td>0.0</td>\n",
       "      <td>2.0</td>\n",
       "      <td>no</td>\n",
       "    </tr>\n",
       "    <tr>\n",
       "      <th>2</th>\n",
       "      <td>Abbott, Mr. Rossmore Edward</td>\n",
       "      <td>male</td>\n",
       "      <td>16.0</td>\n",
       "      <td>3rd</td>\n",
       "      <td>S</td>\n",
       "      <td>United States</td>\n",
       "      <td>2673.0</td>\n",
       "      <td>20.05</td>\n",
       "      <td>1.0</td>\n",
       "      <td>1.0</td>\n",
       "      <td>no</td>\n",
       "    </tr>\n",
       "    <tr>\n",
       "      <th>3</th>\n",
       "      <td>Abbott, Mrs. Rhoda Mary 'Rosa'</td>\n",
       "      <td>female</td>\n",
       "      <td>39.0</td>\n",
       "      <td>3rd</td>\n",
       "      <td>S</td>\n",
       "      <td>England</td>\n",
       "      <td>2673.0</td>\n",
       "      <td>20.05</td>\n",
       "      <td>1.0</td>\n",
       "      <td>1.0</td>\n",
       "      <td>yes</td>\n",
       "    </tr>\n",
       "  </tbody>\n",
       "</table>\n",
       "</div>"
      ]
     },
     "execution_count": 3,
     "metadata": {},
     "output_type": "execute_result"
    }
   ],
   "execution_count": 3
  },
  {
   "metadata": {
    "ExecuteTime": {
     "end_time": "2024-06-27T06:33:50.841369Z",
     "start_time": "2024-06-27T06:33:50.837065Z"
    }
   },
   "cell_type": "code",
   "source": "df.isna().sum()",
   "id": "27c4aa0405576234",
   "outputs": [
    {
     "data": {
      "text/plain": [
       "name          0\n",
       "gender        0\n",
       "age           2\n",
       "class         0\n",
       "embarked      0\n",
       "country      81\n",
       "ticketno    891\n",
       "fare        916\n",
       "sibsp       900\n",
       "parch       900\n",
       "survived      0\n",
       "dtype: int64"
      ]
     },
     "execution_count": 4,
     "metadata": {},
     "output_type": "execute_result"
    }
   ],
   "execution_count": 4
  },
  {
   "metadata": {
    "ExecuteTime": {
     "end_time": "2024-06-27T06:33:51.598253Z",
     "start_time": "2024-06-27T06:33:51.588675Z"
    }
   },
   "cell_type": "code",
   "source": "df.describe()",
   "id": "227a7c1ebcd5ef54",
   "outputs": [
    {
     "data": {
      "text/plain": [
       "               age      ticketno         fare        sibsp        parch\n",
       "count  2205.000000  1.316000e+03  1291.000000  1307.000000  1307.000000\n",
       "mean     30.444444  2.842157e+05    33.404760     0.499617     0.385616\n",
       "std      12.151764  6.334726e+05    52.227592     1.042273     0.866092\n",
       "min       0.166667  2.000000e+00     3.030500     0.000000     0.000000\n",
       "25%      22.000000  1.426225e+04     7.180600     0.000000     0.000000\n",
       "50%      29.000000  1.114265e+05    14.090200     0.000000     0.000000\n",
       "75%      38.000000  3.470770e+05    31.060750     1.000000     0.000000\n",
       "max      74.000000  3.101317e+06   512.060700     8.000000     9.000000"
      ],
      "text/html": [
       "<div>\n",
       "<style scoped>\n",
       "    .dataframe tbody tr th:only-of-type {\n",
       "        vertical-align: middle;\n",
       "    }\n",
       "\n",
       "    .dataframe tbody tr th {\n",
       "        vertical-align: top;\n",
       "    }\n",
       "\n",
       "    .dataframe thead th {\n",
       "        text-align: right;\n",
       "    }\n",
       "</style>\n",
       "<table border=\"1\" class=\"dataframe\">\n",
       "  <thead>\n",
       "    <tr style=\"text-align: right;\">\n",
       "      <th></th>\n",
       "      <th>age</th>\n",
       "      <th>ticketno</th>\n",
       "      <th>fare</th>\n",
       "      <th>sibsp</th>\n",
       "      <th>parch</th>\n",
       "    </tr>\n",
       "  </thead>\n",
       "  <tbody>\n",
       "    <tr>\n",
       "      <th>count</th>\n",
       "      <td>2205.000000</td>\n",
       "      <td>1.316000e+03</td>\n",
       "      <td>1291.000000</td>\n",
       "      <td>1307.000000</td>\n",
       "      <td>1307.000000</td>\n",
       "    </tr>\n",
       "    <tr>\n",
       "      <th>mean</th>\n",
       "      <td>30.444444</td>\n",
       "      <td>2.842157e+05</td>\n",
       "      <td>33.404760</td>\n",
       "      <td>0.499617</td>\n",
       "      <td>0.385616</td>\n",
       "    </tr>\n",
       "    <tr>\n",
       "      <th>std</th>\n",
       "      <td>12.151764</td>\n",
       "      <td>6.334726e+05</td>\n",
       "      <td>52.227592</td>\n",
       "      <td>1.042273</td>\n",
       "      <td>0.866092</td>\n",
       "    </tr>\n",
       "    <tr>\n",
       "      <th>min</th>\n",
       "      <td>0.166667</td>\n",
       "      <td>2.000000e+00</td>\n",
       "      <td>3.030500</td>\n",
       "      <td>0.000000</td>\n",
       "      <td>0.000000</td>\n",
       "    </tr>\n",
       "    <tr>\n",
       "      <th>25%</th>\n",
       "      <td>22.000000</td>\n",
       "      <td>1.426225e+04</td>\n",
       "      <td>7.180600</td>\n",
       "      <td>0.000000</td>\n",
       "      <td>0.000000</td>\n",
       "    </tr>\n",
       "    <tr>\n",
       "      <th>50%</th>\n",
       "      <td>29.000000</td>\n",
       "      <td>1.114265e+05</td>\n",
       "      <td>14.090200</td>\n",
       "      <td>0.000000</td>\n",
       "      <td>0.000000</td>\n",
       "    </tr>\n",
       "    <tr>\n",
       "      <th>75%</th>\n",
       "      <td>38.000000</td>\n",
       "      <td>3.470770e+05</td>\n",
       "      <td>31.060750</td>\n",
       "      <td>1.000000</td>\n",
       "      <td>0.000000</td>\n",
       "    </tr>\n",
       "    <tr>\n",
       "      <th>max</th>\n",
       "      <td>74.000000</td>\n",
       "      <td>3.101317e+06</td>\n",
       "      <td>512.060700</td>\n",
       "      <td>8.000000</td>\n",
       "      <td>9.000000</td>\n",
       "    </tr>\n",
       "  </tbody>\n",
       "</table>\n",
       "</div>"
      ]
     },
     "execution_count": 5,
     "metadata": {},
     "output_type": "execute_result"
    }
   ],
   "execution_count": 5
  },
  {
   "metadata": {
    "ExecuteTime": {
     "end_time": "2024-06-27T06:33:52.993171Z",
     "start_time": "2024-06-27T06:33:52.977706Z"
    }
   },
   "cell_type": "code",
   "source": "df.describe(percentiles=[0.01, .1, .2, 0.3, 0.4, 0.5, 0.6, 0.7, 0.8, 0.9, 0.99])",
   "id": "102d1be58ec87207",
   "outputs": [
    {
     "data": {
      "text/plain": [
       "               age      ticketno         fare        sibsp        parch\n",
       "count  2205.000000  1.316000e+03  1291.000000  1307.000000  1307.000000\n",
       "mean     30.444444  2.842157e+05    33.404760     0.499617     0.385616\n",
       "std      12.151764  6.334726e+05    52.227592     1.042273     0.866092\n",
       "min       0.166667  2.000000e+00     3.030500     0.000000     0.000000\n",
       "1%        2.000000  7.668500e+02     6.150000     0.000000     0.000000\n",
       "10%      18.000000  2.668000e+03     7.140800     0.000000     0.000000\n",
       "20%      21.000000  1.166800e+04     7.170600     0.000000     0.000000\n",
       "30%      24.000000  1.758100e+04     8.010000     0.000000     0.000000\n",
       "40%      26.000000  2.840300e+04    11.020800     0.000000     0.000000\n",
       "50%      29.000000  1.114265e+05    14.090200     0.000000     0.000000\n",
       "60%      32.000000  2.376680e+05    22.070200     0.000000     0.000000\n",
       "70%      36.000000  3.309755e+05    27.140500     1.000000     0.000000\n",
       "80%      40.000000  3.492170e+05    42.080000     1.000000     1.000000\n",
       "90%      46.000000  3.686375e+05    78.050400     1.000000     2.000000\n",
       "99%      63.000000  3.101304e+06   262.070600     5.000000     4.000000\n",
       "max      74.000000  3.101317e+06   512.060700     8.000000     9.000000"
      ],
      "text/html": [
       "<div>\n",
       "<style scoped>\n",
       "    .dataframe tbody tr th:only-of-type {\n",
       "        vertical-align: middle;\n",
       "    }\n",
       "\n",
       "    .dataframe tbody tr th {\n",
       "        vertical-align: top;\n",
       "    }\n",
       "\n",
       "    .dataframe thead th {\n",
       "        text-align: right;\n",
       "    }\n",
       "</style>\n",
       "<table border=\"1\" class=\"dataframe\">\n",
       "  <thead>\n",
       "    <tr style=\"text-align: right;\">\n",
       "      <th></th>\n",
       "      <th>age</th>\n",
       "      <th>ticketno</th>\n",
       "      <th>fare</th>\n",
       "      <th>sibsp</th>\n",
       "      <th>parch</th>\n",
       "    </tr>\n",
       "  </thead>\n",
       "  <tbody>\n",
       "    <tr>\n",
       "      <th>count</th>\n",
       "      <td>2205.000000</td>\n",
       "      <td>1.316000e+03</td>\n",
       "      <td>1291.000000</td>\n",
       "      <td>1307.000000</td>\n",
       "      <td>1307.000000</td>\n",
       "    </tr>\n",
       "    <tr>\n",
       "      <th>mean</th>\n",
       "      <td>30.444444</td>\n",
       "      <td>2.842157e+05</td>\n",
       "      <td>33.404760</td>\n",
       "      <td>0.499617</td>\n",
       "      <td>0.385616</td>\n",
       "    </tr>\n",
       "    <tr>\n",
       "      <th>std</th>\n",
       "      <td>12.151764</td>\n",
       "      <td>6.334726e+05</td>\n",
       "      <td>52.227592</td>\n",
       "      <td>1.042273</td>\n",
       "      <td>0.866092</td>\n",
       "    </tr>\n",
       "    <tr>\n",
       "      <th>min</th>\n",
       "      <td>0.166667</td>\n",
       "      <td>2.000000e+00</td>\n",
       "      <td>3.030500</td>\n",
       "      <td>0.000000</td>\n",
       "      <td>0.000000</td>\n",
       "    </tr>\n",
       "    <tr>\n",
       "      <th>1%</th>\n",
       "      <td>2.000000</td>\n",
       "      <td>7.668500e+02</td>\n",
       "      <td>6.150000</td>\n",
       "      <td>0.000000</td>\n",
       "      <td>0.000000</td>\n",
       "    </tr>\n",
       "    <tr>\n",
       "      <th>10%</th>\n",
       "      <td>18.000000</td>\n",
       "      <td>2.668000e+03</td>\n",
       "      <td>7.140800</td>\n",
       "      <td>0.000000</td>\n",
       "      <td>0.000000</td>\n",
       "    </tr>\n",
       "    <tr>\n",
       "      <th>20%</th>\n",
       "      <td>21.000000</td>\n",
       "      <td>1.166800e+04</td>\n",
       "      <td>7.170600</td>\n",
       "      <td>0.000000</td>\n",
       "      <td>0.000000</td>\n",
       "    </tr>\n",
       "    <tr>\n",
       "      <th>30%</th>\n",
       "      <td>24.000000</td>\n",
       "      <td>1.758100e+04</td>\n",
       "      <td>8.010000</td>\n",
       "      <td>0.000000</td>\n",
       "      <td>0.000000</td>\n",
       "    </tr>\n",
       "    <tr>\n",
       "      <th>40%</th>\n",
       "      <td>26.000000</td>\n",
       "      <td>2.840300e+04</td>\n",
       "      <td>11.020800</td>\n",
       "      <td>0.000000</td>\n",
       "      <td>0.000000</td>\n",
       "    </tr>\n",
       "    <tr>\n",
       "      <th>50%</th>\n",
       "      <td>29.000000</td>\n",
       "      <td>1.114265e+05</td>\n",
       "      <td>14.090200</td>\n",
       "      <td>0.000000</td>\n",
       "      <td>0.000000</td>\n",
       "    </tr>\n",
       "    <tr>\n",
       "      <th>60%</th>\n",
       "      <td>32.000000</td>\n",
       "      <td>2.376680e+05</td>\n",
       "      <td>22.070200</td>\n",
       "      <td>0.000000</td>\n",
       "      <td>0.000000</td>\n",
       "    </tr>\n",
       "    <tr>\n",
       "      <th>70%</th>\n",
       "      <td>36.000000</td>\n",
       "      <td>3.309755e+05</td>\n",
       "      <td>27.140500</td>\n",
       "      <td>1.000000</td>\n",
       "      <td>0.000000</td>\n",
       "    </tr>\n",
       "    <tr>\n",
       "      <th>80%</th>\n",
       "      <td>40.000000</td>\n",
       "      <td>3.492170e+05</td>\n",
       "      <td>42.080000</td>\n",
       "      <td>1.000000</td>\n",
       "      <td>1.000000</td>\n",
       "    </tr>\n",
       "    <tr>\n",
       "      <th>90%</th>\n",
       "      <td>46.000000</td>\n",
       "      <td>3.686375e+05</td>\n",
       "      <td>78.050400</td>\n",
       "      <td>1.000000</td>\n",
       "      <td>2.000000</td>\n",
       "    </tr>\n",
       "    <tr>\n",
       "      <th>99%</th>\n",
       "      <td>63.000000</td>\n",
       "      <td>3.101304e+06</td>\n",
       "      <td>262.070600</td>\n",
       "      <td>5.000000</td>\n",
       "      <td>4.000000</td>\n",
       "    </tr>\n",
       "    <tr>\n",
       "      <th>max</th>\n",
       "      <td>74.000000</td>\n",
       "      <td>3.101317e+06</td>\n",
       "      <td>512.060700</td>\n",
       "      <td>8.000000</td>\n",
       "      <td>9.000000</td>\n",
       "    </tr>\n",
       "  </tbody>\n",
       "</table>\n",
       "</div>"
      ]
     },
     "execution_count": 6,
     "metadata": {},
     "output_type": "execute_result"
    }
   ],
   "execution_count": 6
  },
  {
   "metadata": {
    "ExecuteTime": {
     "end_time": "2024-06-27T06:33:54.292663Z",
     "start_time": "2024-06-27T06:33:54.289042Z"
    }
   },
   "cell_type": "code",
   "source": "df['age'].quantile(0.01)",
   "id": "c2876980a3ce493c",
   "outputs": [
    {
     "data": {
      "text/plain": [
       "2.0"
      ]
     },
     "execution_count": 7,
     "metadata": {},
     "output_type": "execute_result"
    }
   ],
   "execution_count": 7
  },
  {
   "metadata": {
    "ExecuteTime": {
     "end_time": "2024-06-27T06:33:56.282195Z",
     "start_time": "2024-06-27T06:33:56.276590Z"
    }
   },
   "cell_type": "code",
   "source": [
    "# remove unnecessary column\n",
    "\n",
    "df.drop('ticketno', axis=1).head(1)"
   ],
   "id": "7cc9c5d05efde681",
   "outputs": [
    {
     "data": {
      "text/plain": [
       "                  name gender   age class embarked        country  fare  \\\n",
       "0  Abbing, Mr. Anthony   male  42.0   3rd        S  United States  7.11   \n",
       "\n",
       "   sibsp  parch survived  \n",
       "0    0.0    0.0       no  "
      ],
      "text/html": [
       "<div>\n",
       "<style scoped>\n",
       "    .dataframe tbody tr th:only-of-type {\n",
       "        vertical-align: middle;\n",
       "    }\n",
       "\n",
       "    .dataframe tbody tr th {\n",
       "        vertical-align: top;\n",
       "    }\n",
       "\n",
       "    .dataframe thead th {\n",
       "        text-align: right;\n",
       "    }\n",
       "</style>\n",
       "<table border=\"1\" class=\"dataframe\">\n",
       "  <thead>\n",
       "    <tr style=\"text-align: right;\">\n",
       "      <th></th>\n",
       "      <th>name</th>\n",
       "      <th>gender</th>\n",
       "      <th>age</th>\n",
       "      <th>class</th>\n",
       "      <th>embarked</th>\n",
       "      <th>country</th>\n",
       "      <th>fare</th>\n",
       "      <th>sibsp</th>\n",
       "      <th>parch</th>\n",
       "      <th>survived</th>\n",
       "    </tr>\n",
       "  </thead>\n",
       "  <tbody>\n",
       "    <tr>\n",
       "      <th>0</th>\n",
       "      <td>Abbing, Mr. Anthony</td>\n",
       "      <td>male</td>\n",
       "      <td>42.0</td>\n",
       "      <td>3rd</td>\n",
       "      <td>S</td>\n",
       "      <td>United States</td>\n",
       "      <td>7.11</td>\n",
       "      <td>0.0</td>\n",
       "      <td>0.0</td>\n",
       "      <td>no</td>\n",
       "    </tr>\n",
       "  </tbody>\n",
       "</table>\n",
       "</div>"
      ]
     },
     "execution_count": 8,
     "metadata": {},
     "output_type": "execute_result"
    }
   ],
   "execution_count": 8
  },
  {
   "metadata": {
    "ExecuteTime": {
     "end_time": "2024-06-27T06:34:17.305604Z",
     "start_time": "2024-06-27T06:34:17.288239Z"
    }
   },
   "cell_type": "code",
   "source": [
    "# remove unnecessary column (A better way)\n",
    "\n",
    "del df['ticketno']"
   ],
   "id": "d3d6a7564c6d3d19",
   "outputs": [],
   "execution_count": 9
  },
  {
   "metadata": {},
   "cell_type": "markdown",
   "source": "Navigating dataframe",
   "id": "a8840c5c68103230"
  },
  {
   "metadata": {
    "ExecuteTime": {
     "end_time": "2024-06-27T06:34:24.641644Z",
     "start_time": "2024-06-27T06:34:24.632833Z"
    }
   },
   "cell_type": "code",
   "source": [
    "# select specific data\n",
    "\n",
    "df.at[0, 'age']"
   ],
   "id": "46dcc3b0036f6c27",
   "outputs": [
    {
     "data": {
      "text/plain": [
       "42.0"
      ]
     },
     "execution_count": 10,
     "metadata": {},
     "output_type": "execute_result"
    }
   ],
   "execution_count": 10
  },
  {
   "metadata": {
    "ExecuteTime": {
     "end_time": "2024-06-27T06:34:25.429440Z",
     "start_time": "2024-06-27T06:34:25.427684Z"
    }
   },
   "cell_type": "code",
   "source": [
    "# get the index name\n",
    "df.index.name"
   ],
   "id": "12d758f56ab59bc1",
   "outputs": [],
   "execution_count": 11
  },
  {
   "metadata": {
    "ExecuteTime": {
     "end_time": "2024-06-27T06:34:38.285914Z",
     "start_time": "2024-06-27T06:34:38.274124Z"
    }
   },
   "cell_type": "code",
   "source": "df.iloc[1:4]",
   "id": "57e1846013cb214",
   "outputs": [
    {
     "data": {
      "text/plain": [
       "                             name  gender   age class embarked        country  \\\n",
       "1       Abbott, Mr. Eugene Joseph    male  13.0   3rd        S  United States   \n",
       "2     Abbott, Mr. Rossmore Edward    male  16.0   3rd        S  United States   \n",
       "3  Abbott, Mrs. Rhoda Mary 'Rosa'  female  39.0   3rd        S        England   \n",
       "\n",
       "    fare  sibsp  parch survived  \n",
       "1  20.05    0.0    2.0       no  \n",
       "2  20.05    1.0    1.0       no  \n",
       "3  20.05    1.0    1.0      yes  "
      ],
      "text/html": [
       "<div>\n",
       "<style scoped>\n",
       "    .dataframe tbody tr th:only-of-type {\n",
       "        vertical-align: middle;\n",
       "    }\n",
       "\n",
       "    .dataframe tbody tr th {\n",
       "        vertical-align: top;\n",
       "    }\n",
       "\n",
       "    .dataframe thead th {\n",
       "        text-align: right;\n",
       "    }\n",
       "</style>\n",
       "<table border=\"1\" class=\"dataframe\">\n",
       "  <thead>\n",
       "    <tr style=\"text-align: right;\">\n",
       "      <th></th>\n",
       "      <th>name</th>\n",
       "      <th>gender</th>\n",
       "      <th>age</th>\n",
       "      <th>class</th>\n",
       "      <th>embarked</th>\n",
       "      <th>country</th>\n",
       "      <th>fare</th>\n",
       "      <th>sibsp</th>\n",
       "      <th>parch</th>\n",
       "      <th>survived</th>\n",
       "    </tr>\n",
       "  </thead>\n",
       "  <tbody>\n",
       "    <tr>\n",
       "      <th>1</th>\n",
       "      <td>Abbott, Mr. Eugene Joseph</td>\n",
       "      <td>male</td>\n",
       "      <td>13.0</td>\n",
       "      <td>3rd</td>\n",
       "      <td>S</td>\n",
       "      <td>United States</td>\n",
       "      <td>20.05</td>\n",
       "      <td>0.0</td>\n",
       "      <td>2.0</td>\n",
       "      <td>no</td>\n",
       "    </tr>\n",
       "    <tr>\n",
       "      <th>2</th>\n",
       "      <td>Abbott, Mr. Rossmore Edward</td>\n",
       "      <td>male</td>\n",
       "      <td>16.0</td>\n",
       "      <td>3rd</td>\n",
       "      <td>S</td>\n",
       "      <td>United States</td>\n",
       "      <td>20.05</td>\n",
       "      <td>1.0</td>\n",
       "      <td>1.0</td>\n",
       "      <td>no</td>\n",
       "    </tr>\n",
       "    <tr>\n",
       "      <th>3</th>\n",
       "      <td>Abbott, Mrs. Rhoda Mary 'Rosa'</td>\n",
       "      <td>female</td>\n",
       "      <td>39.0</td>\n",
       "      <td>3rd</td>\n",
       "      <td>S</td>\n",
       "      <td>England</td>\n",
       "      <td>20.05</td>\n",
       "      <td>1.0</td>\n",
       "      <td>1.0</td>\n",
       "      <td>yes</td>\n",
       "    </tr>\n",
       "  </tbody>\n",
       "</table>\n",
       "</div>"
      ]
     },
     "execution_count": 12,
     "metadata": {},
     "output_type": "execute_result"
    }
   ],
   "execution_count": 12
  },
  {
   "metadata": {
    "ExecuteTime": {
     "end_time": "2024-06-27T06:34:43.826997Z",
     "start_time": "2024-06-27T06:34:43.808634Z"
    }
   },
   "cell_type": "code",
   "source": "df.loc[1:4]",
   "id": "b520afd07ef6fdca",
   "outputs": [
    {
     "data": {
      "text/plain": [
       "                             name  gender   age class embarked        country  \\\n",
       "1       Abbott, Mr. Eugene Joseph    male  13.0   3rd        S  United States   \n",
       "2     Abbott, Mr. Rossmore Edward    male  16.0   3rd        S  United States   \n",
       "3  Abbott, Mrs. Rhoda Mary 'Rosa'  female  39.0   3rd        S        England   \n",
       "4     Abelseth, Miss. Karen Marie  female  16.0   3rd        S         Norway   \n",
       "\n",
       "    fare  sibsp  parch survived  \n",
       "1  20.05    0.0    2.0       no  \n",
       "2  20.05    1.0    1.0       no  \n",
       "3  20.05    1.0    1.0      yes  \n",
       "4   7.13    0.0    0.0      yes  "
      ],
      "text/html": [
       "<div>\n",
       "<style scoped>\n",
       "    .dataframe tbody tr th:only-of-type {\n",
       "        vertical-align: middle;\n",
       "    }\n",
       "\n",
       "    .dataframe tbody tr th {\n",
       "        vertical-align: top;\n",
       "    }\n",
       "\n",
       "    .dataframe thead th {\n",
       "        text-align: right;\n",
       "    }\n",
       "</style>\n",
       "<table border=\"1\" class=\"dataframe\">\n",
       "  <thead>\n",
       "    <tr style=\"text-align: right;\">\n",
       "      <th></th>\n",
       "      <th>name</th>\n",
       "      <th>gender</th>\n",
       "      <th>age</th>\n",
       "      <th>class</th>\n",
       "      <th>embarked</th>\n",
       "      <th>country</th>\n",
       "      <th>fare</th>\n",
       "      <th>sibsp</th>\n",
       "      <th>parch</th>\n",
       "      <th>survived</th>\n",
       "    </tr>\n",
       "  </thead>\n",
       "  <tbody>\n",
       "    <tr>\n",
       "      <th>1</th>\n",
       "      <td>Abbott, Mr. Eugene Joseph</td>\n",
       "      <td>male</td>\n",
       "      <td>13.0</td>\n",
       "      <td>3rd</td>\n",
       "      <td>S</td>\n",
       "      <td>United States</td>\n",
       "      <td>20.05</td>\n",
       "      <td>0.0</td>\n",
       "      <td>2.0</td>\n",
       "      <td>no</td>\n",
       "    </tr>\n",
       "    <tr>\n",
       "      <th>2</th>\n",
       "      <td>Abbott, Mr. Rossmore Edward</td>\n",
       "      <td>male</td>\n",
       "      <td>16.0</td>\n",
       "      <td>3rd</td>\n",
       "      <td>S</td>\n",
       "      <td>United States</td>\n",
       "      <td>20.05</td>\n",
       "      <td>1.0</td>\n",
       "      <td>1.0</td>\n",
       "      <td>no</td>\n",
       "    </tr>\n",
       "    <tr>\n",
       "      <th>3</th>\n",
       "      <td>Abbott, Mrs. Rhoda Mary 'Rosa'</td>\n",
       "      <td>female</td>\n",
       "      <td>39.0</td>\n",
       "      <td>3rd</td>\n",
       "      <td>S</td>\n",
       "      <td>England</td>\n",
       "      <td>20.05</td>\n",
       "      <td>1.0</td>\n",
       "      <td>1.0</td>\n",
       "      <td>yes</td>\n",
       "    </tr>\n",
       "    <tr>\n",
       "      <th>4</th>\n",
       "      <td>Abelseth, Miss. Karen Marie</td>\n",
       "      <td>female</td>\n",
       "      <td>16.0</td>\n",
       "      <td>3rd</td>\n",
       "      <td>S</td>\n",
       "      <td>Norway</td>\n",
       "      <td>7.13</td>\n",
       "      <td>0.0</td>\n",
       "      <td>0.0</td>\n",
       "      <td>yes</td>\n",
       "    </tr>\n",
       "  </tbody>\n",
       "</table>\n",
       "</div>"
      ]
     },
     "execution_count": 13,
     "metadata": {},
     "output_type": "execute_result"
    }
   ],
   "execution_count": 13
  },
  {
   "metadata": {
    "ExecuteTime": {
     "end_time": "2024-06-27T06:35:01.471462Z",
     "start_time": "2024-06-27T06:35:01.462439Z"
    }
   },
   "cell_type": "code",
   "source": [
    "# change the index to a string column 'name' and use .loc and .iloc\n",
    "\n",
    "df = df.set_index(df['name'])\n",
    "\n",
    "df.index.name"
   ],
   "id": "915a5f0a6fbff4e2",
   "outputs": [
    {
     "data": {
      "text/plain": [
       "'name'"
      ]
     },
     "execution_count": 14,
     "metadata": {},
     "output_type": "execute_result"
    }
   ],
   "execution_count": 14
  },
  {
   "metadata": {
    "ExecuteTime": {
     "end_time": "2024-06-27T06:35:11.610601Z",
     "start_time": "2024-06-27T06:35:11.605446Z"
    }
   },
   "cell_type": "code",
   "source": "df.loc['Abbott, Mr. Eugene Joseph']",
   "id": "a734099c9f39bc71",
   "outputs": [
    {
     "data": {
      "text/plain": [
       "name        Abbott, Mr. Eugene Joseph\n",
       "gender                           male\n",
       "age                              13.0\n",
       "class                             3rd\n",
       "embarked                            S\n",
       "country                 United States\n",
       "fare                            20.05\n",
       "sibsp                             0.0\n",
       "parch                             2.0\n",
       "survived                           no\n",
       "Name: Abbott, Mr. Eugene Joseph, dtype: object"
      ]
     },
     "execution_count": 15,
     "metadata": {},
     "output_type": "execute_result"
    }
   ],
   "execution_count": 15
  },
  {
   "metadata": {
    "ExecuteTime": {
     "end_time": "2024-06-27T06:35:21.139300Z",
     "start_time": "2024-06-27T06:35:20.665916Z"
    }
   },
   "cell_type": "code",
   "source": [
    "# does not work cause of string index\n",
    "\n",
    "df.iloc['Abbott, Mr. Eugene Joseph']"
   ],
   "id": "79fbabc5f6792ede",
   "outputs": [
    {
     "ename": "TypeError",
     "evalue": "Cannot index by location index with a non-integer key",
     "output_type": "error",
     "traceback": [
      "\u001B[0;31m---------------------------------------------------------------------------\u001B[0m",
      "\u001B[0;31mTypeError\u001B[0m                                 Traceback (most recent call last)",
      "Cell \u001B[0;32mIn[16], line 3\u001B[0m\n\u001B[1;32m      1\u001B[0m \u001B[38;5;66;03m# does not work cause of string index\u001B[39;00m\n\u001B[0;32m----> 3\u001B[0m df\u001B[38;5;241m.\u001B[39miloc[\u001B[38;5;124m'\u001B[39m\u001B[38;5;124mAbbott, Mr. Eugene Joseph\u001B[39m\u001B[38;5;124m'\u001B[39m]\n",
      "File \u001B[0;32m~/anaconda3/lib/python3.11/site-packages/pandas/core/indexing.py:1103\u001B[0m, in \u001B[0;36m_LocationIndexer.__getitem__\u001B[0;34m(self, key)\u001B[0m\n\u001B[1;32m   1100\u001B[0m axis \u001B[38;5;241m=\u001B[39m \u001B[38;5;28mself\u001B[39m\u001B[38;5;241m.\u001B[39maxis \u001B[38;5;129;01mor\u001B[39;00m \u001B[38;5;241m0\u001B[39m\n\u001B[1;32m   1102\u001B[0m maybe_callable \u001B[38;5;241m=\u001B[39m com\u001B[38;5;241m.\u001B[39mapply_if_callable(key, \u001B[38;5;28mself\u001B[39m\u001B[38;5;241m.\u001B[39mobj)\n\u001B[0;32m-> 1103\u001B[0m \u001B[38;5;28;01mreturn\u001B[39;00m \u001B[38;5;28mself\u001B[39m\u001B[38;5;241m.\u001B[39m_getitem_axis(maybe_callable, axis\u001B[38;5;241m=\u001B[39maxis)\n",
      "File \u001B[0;32m~/anaconda3/lib/python3.11/site-packages/pandas/core/indexing.py:1653\u001B[0m, in \u001B[0;36m_iLocIndexer._getitem_axis\u001B[0;34m(self, key, axis)\u001B[0m\n\u001B[1;32m   1651\u001B[0m key \u001B[38;5;241m=\u001B[39m item_from_zerodim(key)\n\u001B[1;32m   1652\u001B[0m \u001B[38;5;28;01mif\u001B[39;00m \u001B[38;5;129;01mnot\u001B[39;00m is_integer(key):\n\u001B[0;32m-> 1653\u001B[0m     \u001B[38;5;28;01mraise\u001B[39;00m \u001B[38;5;167;01mTypeError\u001B[39;00m(\u001B[38;5;124m\"\u001B[39m\u001B[38;5;124mCannot index by location index with a non-integer key\u001B[39m\u001B[38;5;124m\"\u001B[39m)\n\u001B[1;32m   1655\u001B[0m \u001B[38;5;66;03m# validate the location\u001B[39;00m\n\u001B[1;32m   1656\u001B[0m \u001B[38;5;28mself\u001B[39m\u001B[38;5;241m.\u001B[39m_validate_integer(key, axis)\n",
      "\u001B[0;31mTypeError\u001B[0m: Cannot index by location index with a non-integer key"
     ]
    }
   ],
   "execution_count": 16
  },
  {
   "metadata": {
    "ExecuteTime": {
     "end_time": "2024-06-27T06:35:23.139961Z",
     "start_time": "2024-06-27T06:35:22.684105Z"
    }
   },
   "cell_type": "code",
   "source": "df.loc[1:4]",
   "id": "5324e68d40a653d8",
   "outputs": [
    {
     "ename": "TypeError",
     "evalue": "cannot do slice indexing on Index with these indexers [1] of type int",
     "output_type": "error",
     "traceback": [
      "\u001B[0;31m---------------------------------------------------------------------------\u001B[0m",
      "\u001B[0;31mTypeError\u001B[0m                                 Traceback (most recent call last)",
      "Cell \u001B[0;32mIn[17], line 1\u001B[0m\n\u001B[0;32m----> 1\u001B[0m df\u001B[38;5;241m.\u001B[39mloc[\u001B[38;5;241m1\u001B[39m:\u001B[38;5;241m4\u001B[39m]\n",
      "File \u001B[0;32m~/anaconda3/lib/python3.11/site-packages/pandas/core/indexing.py:1103\u001B[0m, in \u001B[0;36m_LocationIndexer.__getitem__\u001B[0;34m(self, key)\u001B[0m\n\u001B[1;32m   1100\u001B[0m axis \u001B[38;5;241m=\u001B[39m \u001B[38;5;28mself\u001B[39m\u001B[38;5;241m.\u001B[39maxis \u001B[38;5;129;01mor\u001B[39;00m \u001B[38;5;241m0\u001B[39m\n\u001B[1;32m   1102\u001B[0m maybe_callable \u001B[38;5;241m=\u001B[39m com\u001B[38;5;241m.\u001B[39mapply_if_callable(key, \u001B[38;5;28mself\u001B[39m\u001B[38;5;241m.\u001B[39mobj)\n\u001B[0;32m-> 1103\u001B[0m \u001B[38;5;28;01mreturn\u001B[39;00m \u001B[38;5;28mself\u001B[39m\u001B[38;5;241m.\u001B[39m_getitem_axis(maybe_callable, axis\u001B[38;5;241m=\u001B[39maxis)\n",
      "File \u001B[0;32m~/anaconda3/lib/python3.11/site-packages/pandas/core/indexing.py:1323\u001B[0m, in \u001B[0;36m_LocIndexer._getitem_axis\u001B[0;34m(self, key, axis)\u001B[0m\n\u001B[1;32m   1321\u001B[0m \u001B[38;5;28;01mif\u001B[39;00m \u001B[38;5;28misinstance\u001B[39m(key, \u001B[38;5;28mslice\u001B[39m):\n\u001B[1;32m   1322\u001B[0m     \u001B[38;5;28mself\u001B[39m\u001B[38;5;241m.\u001B[39m_validate_key(key, axis)\n\u001B[0;32m-> 1323\u001B[0m     \u001B[38;5;28;01mreturn\u001B[39;00m \u001B[38;5;28mself\u001B[39m\u001B[38;5;241m.\u001B[39m_get_slice_axis(key, axis\u001B[38;5;241m=\u001B[39maxis)\n\u001B[1;32m   1324\u001B[0m \u001B[38;5;28;01melif\u001B[39;00m com\u001B[38;5;241m.\u001B[39mis_bool_indexer(key):\n\u001B[1;32m   1325\u001B[0m     \u001B[38;5;28;01mreturn\u001B[39;00m \u001B[38;5;28mself\u001B[39m\u001B[38;5;241m.\u001B[39m_getbool_axis(key, axis\u001B[38;5;241m=\u001B[39maxis)\n",
      "File \u001B[0;32m~/anaconda3/lib/python3.11/site-packages/pandas/core/indexing.py:1355\u001B[0m, in \u001B[0;36m_LocIndexer._get_slice_axis\u001B[0;34m(self, slice_obj, axis)\u001B[0m\n\u001B[1;32m   1352\u001B[0m     \u001B[38;5;28;01mreturn\u001B[39;00m obj\u001B[38;5;241m.\u001B[39mcopy(deep\u001B[38;5;241m=\u001B[39m\u001B[38;5;28;01mFalse\u001B[39;00m)\n\u001B[1;32m   1354\u001B[0m labels \u001B[38;5;241m=\u001B[39m obj\u001B[38;5;241m.\u001B[39m_get_axis(axis)\n\u001B[0;32m-> 1355\u001B[0m indexer \u001B[38;5;241m=\u001B[39m labels\u001B[38;5;241m.\u001B[39mslice_indexer(slice_obj\u001B[38;5;241m.\u001B[39mstart, slice_obj\u001B[38;5;241m.\u001B[39mstop, slice_obj\u001B[38;5;241m.\u001B[39mstep)\n\u001B[1;32m   1357\u001B[0m \u001B[38;5;28;01mif\u001B[39;00m \u001B[38;5;28misinstance\u001B[39m(indexer, \u001B[38;5;28mslice\u001B[39m):\n\u001B[1;32m   1358\u001B[0m     \u001B[38;5;28;01mreturn\u001B[39;00m \u001B[38;5;28mself\u001B[39m\u001B[38;5;241m.\u001B[39mobj\u001B[38;5;241m.\u001B[39m_slice(indexer, axis\u001B[38;5;241m=\u001B[39maxis)\n",
      "File \u001B[0;32m~/anaconda3/lib/python3.11/site-packages/pandas/core/indexes/base.py:6344\u001B[0m, in \u001B[0;36mIndex.slice_indexer\u001B[0;34m(self, start, end, step)\u001B[0m\n\u001B[1;32m   6300\u001B[0m \u001B[38;5;28;01mdef\u001B[39;00m \u001B[38;5;21mslice_indexer\u001B[39m(\n\u001B[1;32m   6301\u001B[0m     \u001B[38;5;28mself\u001B[39m,\n\u001B[1;32m   6302\u001B[0m     start: Hashable \u001B[38;5;241m|\u001B[39m \u001B[38;5;28;01mNone\u001B[39;00m \u001B[38;5;241m=\u001B[39m \u001B[38;5;28;01mNone\u001B[39;00m,\n\u001B[1;32m   6303\u001B[0m     end: Hashable \u001B[38;5;241m|\u001B[39m \u001B[38;5;28;01mNone\u001B[39;00m \u001B[38;5;241m=\u001B[39m \u001B[38;5;28;01mNone\u001B[39;00m,\n\u001B[1;32m   6304\u001B[0m     step: \u001B[38;5;28mint\u001B[39m \u001B[38;5;241m|\u001B[39m \u001B[38;5;28;01mNone\u001B[39;00m \u001B[38;5;241m=\u001B[39m \u001B[38;5;28;01mNone\u001B[39;00m,\n\u001B[1;32m   6305\u001B[0m ) \u001B[38;5;241m-\u001B[39m\u001B[38;5;241m>\u001B[39m \u001B[38;5;28mslice\u001B[39m:\n\u001B[1;32m   6306\u001B[0m \u001B[38;5;250m    \u001B[39m\u001B[38;5;124;03m\"\"\"\u001B[39;00m\n\u001B[1;32m   6307\u001B[0m \u001B[38;5;124;03m    Compute the slice indexer for input labels and step.\u001B[39;00m\n\u001B[1;32m   6308\u001B[0m \n\u001B[0;32m   (...)\u001B[0m\n\u001B[1;32m   6342\u001B[0m \u001B[38;5;124;03m    slice(1, 3, None)\u001B[39;00m\n\u001B[1;32m   6343\u001B[0m \u001B[38;5;124;03m    \"\"\"\u001B[39;00m\n\u001B[0;32m-> 6344\u001B[0m     start_slice, end_slice \u001B[38;5;241m=\u001B[39m \u001B[38;5;28mself\u001B[39m\u001B[38;5;241m.\u001B[39mslice_locs(start, end, step\u001B[38;5;241m=\u001B[39mstep)\n\u001B[1;32m   6346\u001B[0m     \u001B[38;5;66;03m# return a slice\u001B[39;00m\n\u001B[1;32m   6347\u001B[0m     \u001B[38;5;28;01mif\u001B[39;00m \u001B[38;5;129;01mnot\u001B[39;00m is_scalar(start_slice):\n",
      "File \u001B[0;32m~/anaconda3/lib/python3.11/site-packages/pandas/core/indexes/base.py:6537\u001B[0m, in \u001B[0;36mIndex.slice_locs\u001B[0;34m(self, start, end, step)\u001B[0m\n\u001B[1;32m   6535\u001B[0m start_slice \u001B[38;5;241m=\u001B[39m \u001B[38;5;28;01mNone\u001B[39;00m\n\u001B[1;32m   6536\u001B[0m \u001B[38;5;28;01mif\u001B[39;00m start \u001B[38;5;129;01mis\u001B[39;00m \u001B[38;5;129;01mnot\u001B[39;00m \u001B[38;5;28;01mNone\u001B[39;00m:\n\u001B[0;32m-> 6537\u001B[0m     start_slice \u001B[38;5;241m=\u001B[39m \u001B[38;5;28mself\u001B[39m\u001B[38;5;241m.\u001B[39mget_slice_bound(start, \u001B[38;5;124m\"\u001B[39m\u001B[38;5;124mleft\u001B[39m\u001B[38;5;124m\"\u001B[39m)\n\u001B[1;32m   6538\u001B[0m \u001B[38;5;28;01mif\u001B[39;00m start_slice \u001B[38;5;129;01mis\u001B[39;00m \u001B[38;5;28;01mNone\u001B[39;00m:\n\u001B[1;32m   6539\u001B[0m     start_slice \u001B[38;5;241m=\u001B[39m \u001B[38;5;241m0\u001B[39m\n",
      "File \u001B[0;32m~/anaconda3/lib/python3.11/site-packages/pandas/core/indexes/base.py:6452\u001B[0m, in \u001B[0;36mIndex.get_slice_bound\u001B[0;34m(self, label, side)\u001B[0m\n\u001B[1;32m   6448\u001B[0m original_label \u001B[38;5;241m=\u001B[39m label\n\u001B[1;32m   6450\u001B[0m \u001B[38;5;66;03m# For datetime indices label may be a string that has to be converted\u001B[39;00m\n\u001B[1;32m   6451\u001B[0m \u001B[38;5;66;03m# to datetime boundary according to its resolution.\u001B[39;00m\n\u001B[0;32m-> 6452\u001B[0m label \u001B[38;5;241m=\u001B[39m \u001B[38;5;28mself\u001B[39m\u001B[38;5;241m.\u001B[39m_maybe_cast_slice_bound(label, side)\n\u001B[1;32m   6454\u001B[0m \u001B[38;5;66;03m# we need to look up the label\u001B[39;00m\n\u001B[1;32m   6455\u001B[0m \u001B[38;5;28;01mtry\u001B[39;00m:\n",
      "File \u001B[0;32m~/anaconda3/lib/python3.11/site-packages/pandas/core/indexes/base.py:6406\u001B[0m, in \u001B[0;36mIndex._maybe_cast_slice_bound\u001B[0;34m(self, label, side)\u001B[0m\n\u001B[1;32m   6404\u001B[0m \u001B[38;5;66;03m# reject them, if index does not contain label\u001B[39;00m\n\u001B[1;32m   6405\u001B[0m \u001B[38;5;28;01mif\u001B[39;00m (is_float(label) \u001B[38;5;129;01mor\u001B[39;00m is_integer(label)) \u001B[38;5;129;01mand\u001B[39;00m label \u001B[38;5;129;01mnot\u001B[39;00m \u001B[38;5;129;01min\u001B[39;00m \u001B[38;5;28mself\u001B[39m:\n\u001B[0;32m-> 6406\u001B[0m     \u001B[38;5;28mself\u001B[39m\u001B[38;5;241m.\u001B[39m_raise_invalid_indexer(\u001B[38;5;124m\"\u001B[39m\u001B[38;5;124mslice\u001B[39m\u001B[38;5;124m\"\u001B[39m, label)\n\u001B[1;32m   6408\u001B[0m \u001B[38;5;28;01mreturn\u001B[39;00m label\n",
      "File \u001B[0;32m~/anaconda3/lib/python3.11/site-packages/pandas/core/indexes/base.py:4152\u001B[0m, in \u001B[0;36mIndex._raise_invalid_indexer\u001B[0;34m(self, form, key, reraise)\u001B[0m\n\u001B[1;32m   4150\u001B[0m \u001B[38;5;28;01mif\u001B[39;00m reraise \u001B[38;5;129;01mis\u001B[39;00m \u001B[38;5;129;01mnot\u001B[39;00m lib\u001B[38;5;241m.\u001B[39mno_default:\n\u001B[1;32m   4151\u001B[0m     \u001B[38;5;28;01mraise\u001B[39;00m \u001B[38;5;167;01mTypeError\u001B[39;00m(msg) \u001B[38;5;28;01mfrom\u001B[39;00m \u001B[38;5;21;01mreraise\u001B[39;00m\n\u001B[0;32m-> 4152\u001B[0m \u001B[38;5;28;01mraise\u001B[39;00m \u001B[38;5;167;01mTypeError\u001B[39;00m(msg)\n",
      "\u001B[0;31mTypeError\u001B[0m: cannot do slice indexing on Index with these indexers [1] of type int"
     ]
    }
   ],
   "execution_count": 17
  },
  {
   "metadata": {
    "ExecuteTime": {
     "end_time": "2024-06-27T06:35:31.424882Z",
     "start_time": "2024-06-27T06:35:31.389376Z"
    }
   },
   "cell_type": "code",
   "source": "df.iloc[1:4]",
   "id": "3e5395d7f899a220",
   "outputs": [
    {
     "data": {
      "text/plain": [
       "                                                          name  gender   age  \\\n",
       "name                                                                           \n",
       "Abbott, Mr. Eugene Joseph            Abbott, Mr. Eugene Joseph    male  13.0   \n",
       "Abbott, Mr. Rossmore Edward        Abbott, Mr. Rossmore Edward    male  16.0   \n",
       "Abbott, Mrs. Rhoda Mary 'Rosa'  Abbott, Mrs. Rhoda Mary 'Rosa'  female  39.0   \n",
       "\n",
       "                               class embarked        country   fare  sibsp  \\\n",
       "name                                                                         \n",
       "Abbott, Mr. Eugene Joseph        3rd        S  United States  20.05    0.0   \n",
       "Abbott, Mr. Rossmore Edward      3rd        S  United States  20.05    1.0   \n",
       "Abbott, Mrs. Rhoda Mary 'Rosa'   3rd        S        England  20.05    1.0   \n",
       "\n",
       "                                parch survived  \n",
       "name                                            \n",
       "Abbott, Mr. Eugene Joseph         2.0       no  \n",
       "Abbott, Mr. Rossmore Edward       1.0       no  \n",
       "Abbott, Mrs. Rhoda Mary 'Rosa'    1.0      yes  "
      ],
      "text/html": [
       "<div>\n",
       "<style scoped>\n",
       "    .dataframe tbody tr th:only-of-type {\n",
       "        vertical-align: middle;\n",
       "    }\n",
       "\n",
       "    .dataframe tbody tr th {\n",
       "        vertical-align: top;\n",
       "    }\n",
       "\n",
       "    .dataframe thead th {\n",
       "        text-align: right;\n",
       "    }\n",
       "</style>\n",
       "<table border=\"1\" class=\"dataframe\">\n",
       "  <thead>\n",
       "    <tr style=\"text-align: right;\">\n",
       "      <th></th>\n",
       "      <th>name</th>\n",
       "      <th>gender</th>\n",
       "      <th>age</th>\n",
       "      <th>class</th>\n",
       "      <th>embarked</th>\n",
       "      <th>country</th>\n",
       "      <th>fare</th>\n",
       "      <th>sibsp</th>\n",
       "      <th>parch</th>\n",
       "      <th>survived</th>\n",
       "    </tr>\n",
       "    <tr>\n",
       "      <th>name</th>\n",
       "      <th></th>\n",
       "      <th></th>\n",
       "      <th></th>\n",
       "      <th></th>\n",
       "      <th></th>\n",
       "      <th></th>\n",
       "      <th></th>\n",
       "      <th></th>\n",
       "      <th></th>\n",
       "      <th></th>\n",
       "    </tr>\n",
       "  </thead>\n",
       "  <tbody>\n",
       "    <tr>\n",
       "      <th>Abbott, Mr. Eugene Joseph</th>\n",
       "      <td>Abbott, Mr. Eugene Joseph</td>\n",
       "      <td>male</td>\n",
       "      <td>13.0</td>\n",
       "      <td>3rd</td>\n",
       "      <td>S</td>\n",
       "      <td>United States</td>\n",
       "      <td>20.05</td>\n",
       "      <td>0.0</td>\n",
       "      <td>2.0</td>\n",
       "      <td>no</td>\n",
       "    </tr>\n",
       "    <tr>\n",
       "      <th>Abbott, Mr. Rossmore Edward</th>\n",
       "      <td>Abbott, Mr. Rossmore Edward</td>\n",
       "      <td>male</td>\n",
       "      <td>16.0</td>\n",
       "      <td>3rd</td>\n",
       "      <td>S</td>\n",
       "      <td>United States</td>\n",
       "      <td>20.05</td>\n",
       "      <td>1.0</td>\n",
       "      <td>1.0</td>\n",
       "      <td>no</td>\n",
       "    </tr>\n",
       "    <tr>\n",
       "      <th>Abbott, Mrs. Rhoda Mary 'Rosa'</th>\n",
       "      <td>Abbott, Mrs. Rhoda Mary 'Rosa'</td>\n",
       "      <td>female</td>\n",
       "      <td>39.0</td>\n",
       "      <td>3rd</td>\n",
       "      <td>S</td>\n",
       "      <td>England</td>\n",
       "      <td>20.05</td>\n",
       "      <td>1.0</td>\n",
       "      <td>1.0</td>\n",
       "      <td>yes</td>\n",
       "    </tr>\n",
       "  </tbody>\n",
       "</table>\n",
       "</div>"
      ]
     },
     "execution_count": 18,
     "metadata": {},
     "output_type": "execute_result"
    }
   ],
   "execution_count": 18
  },
  {
   "metadata": {
    "ExecuteTime": {
     "end_time": "2024-06-27T06:35:34.929384Z",
     "start_time": "2024-06-27T06:35:34.924400Z"
    }
   },
   "cell_type": "code",
   "source": [
    "df.reset_index(drop=True, inplace=True)\n",
    "\n",
    "df.head(1)"
   ],
   "id": "2e758c387478b6e",
   "outputs": [
    {
     "data": {
      "text/plain": [
       "                  name gender   age class embarked        country  fare  \\\n",
       "0  Abbing, Mr. Anthony   male  42.0   3rd        S  United States  7.11   \n",
       "\n",
       "   sibsp  parch survived  \n",
       "0    0.0    0.0       no  "
      ],
      "text/html": [
       "<div>\n",
       "<style scoped>\n",
       "    .dataframe tbody tr th:only-of-type {\n",
       "        vertical-align: middle;\n",
       "    }\n",
       "\n",
       "    .dataframe tbody tr th {\n",
       "        vertical-align: top;\n",
       "    }\n",
       "\n",
       "    .dataframe thead th {\n",
       "        text-align: right;\n",
       "    }\n",
       "</style>\n",
       "<table border=\"1\" class=\"dataframe\">\n",
       "  <thead>\n",
       "    <tr style=\"text-align: right;\">\n",
       "      <th></th>\n",
       "      <th>name</th>\n",
       "      <th>gender</th>\n",
       "      <th>age</th>\n",
       "      <th>class</th>\n",
       "      <th>embarked</th>\n",
       "      <th>country</th>\n",
       "      <th>fare</th>\n",
       "      <th>sibsp</th>\n",
       "      <th>parch</th>\n",
       "      <th>survived</th>\n",
       "    </tr>\n",
       "  </thead>\n",
       "  <tbody>\n",
       "    <tr>\n",
       "      <th>0</th>\n",
       "      <td>Abbing, Mr. Anthony</td>\n",
       "      <td>male</td>\n",
       "      <td>42.0</td>\n",
       "      <td>3rd</td>\n",
       "      <td>S</td>\n",
       "      <td>United States</td>\n",
       "      <td>7.11</td>\n",
       "      <td>0.0</td>\n",
       "      <td>0.0</td>\n",
       "      <td>no</td>\n",
       "    </tr>\n",
       "  </tbody>\n",
       "</table>\n",
       "</div>"
      ]
     },
     "execution_count": 19,
     "metadata": {},
     "output_type": "execute_result"
    }
   ],
   "execution_count": 19
  },
  {
   "metadata": {},
   "cell_type": "markdown",
   "source": "conditional navigation",
   "id": "dbd8389df3a43ba9"
  },
  {
   "metadata": {
    "ExecuteTime": {
     "end_time": "2024-06-27T06:35:39.948974Z",
     "start_time": "2024-06-27T06:35:39.942593Z"
    }
   },
   "cell_type": "code",
   "source": "df[df['gender'] == 'female'].shape",
   "id": "7435da81622c954e",
   "outputs": [
    {
     "data": {
      "text/plain": [
       "(489, 10)"
      ]
     },
     "execution_count": 20,
     "metadata": {},
     "output_type": "execute_result"
    }
   ],
   "execution_count": 20
  },
  {
   "metadata": {
    "ExecuteTime": {
     "end_time": "2024-06-27T06:35:42.613114Z",
     "start_time": "2024-06-27T06:35:42.609851Z"
    }
   },
   "cell_type": "code",
   "source": [
    "# create a sub-table\n",
    "\n",
    "female_df = df[df['gender'] == 'female']\n",
    "female_df.shape"
   ],
   "id": "224b74440890fb31",
   "outputs": [
    {
     "data": {
      "text/plain": [
       "(489, 10)"
      ]
     },
     "execution_count": 21,
     "metadata": {},
     "output_type": "execute_result"
    }
   ],
   "execution_count": 21
  },
  {
   "metadata": {
    "ExecuteTime": {
     "end_time": "2024-06-27T06:35:47.250070Z",
     "start_time": "2024-06-27T06:35:47.221403Z"
    }
   },
   "cell_type": "code",
   "source": [
    "# create a sub-table with multiple condition using logical 'and'\n",
    "\n",
    "female_df = df[(df['gender'] == 'female') & (df['age'] > 50)]\n",
    "female_df.shape"
   ],
   "id": "61470bff9a68a326",
   "outputs": [
    {
     "data": {
      "text/plain": [
       "(36, 10)"
      ]
     },
     "execution_count": 22,
     "metadata": {},
     "output_type": "execute_result"
    }
   ],
   "execution_count": 22
  },
  {
   "metadata": {
    "ExecuteTime": {
     "end_time": "2024-06-27T06:36:00.095778Z",
     "start_time": "2024-06-27T06:36:00.085283Z"
    }
   },
   "cell_type": "code",
   "source": [
    "# create a sub-table with multiple condition using logical 'or'\n",
    "\n",
    "female_df = df[(df['gender'] == 'female') | (df['age'] > 50)]\n",
    "female_df.shape"
   ],
   "id": "39fdb5a76f6518f8",
   "outputs": [
    {
     "data": {
      "text/plain": [
       "(585, 10)"
      ]
     },
     "execution_count": 23,
     "metadata": {},
     "output_type": "execute_result"
    }
   ],
   "execution_count": 23
  },
  {
   "metadata": {
    "ExecuteTime": {
     "end_time": "2024-06-27T06:36:21.127055Z",
     "start_time": "2024-06-27T06:36:21.116937Z"
    }
   },
   "cell_type": "code",
   "source": [
    "# create a sub-table with multiple condition using logical 'or', and\n",
    "\n",
    "df[((df['gender'] == 'female') & (df['age'] > 50)) | (df['gender'] == 'male') & (df['age'] < 20)].shape"
   ],
   "id": "b42a60c580bd0f86",
   "outputs": [
    {
     "data": {
      "text/plain": [
       "(244, 10)"
      ]
     },
     "execution_count": 26,
     "metadata": {},
     "output_type": "execute_result"
    }
   ],
   "execution_count": 26
  },
  {
   "metadata": {
    "ExecuteTime": {
     "end_time": "2024-06-27T06:36:36.957916Z",
     "start_time": "2024-06-27T06:36:36.944485Z"
    }
   },
   "cell_type": "code",
   "source": [
    "# replace values with new labels in a categorical column\n",
    "\n",
    "df['gender'].replace(['female', 'male'], ['W', 'M']).head(5)"
   ],
   "id": "61570df0c8343386",
   "outputs": [
    {
     "data": {
      "text/plain": [
       "0    M\n",
       "1    M\n",
       "2    M\n",
       "3    W\n",
       "4    W\n",
       "Name: gender, dtype: object"
      ]
     },
     "execution_count": 27,
     "metadata": {},
     "output_type": "execute_result"
    }
   ],
   "execution_count": 27
  },
  {
   "metadata": {
    "ExecuteTime": {
     "end_time": "2024-06-27T06:36:48.009261Z",
     "start_time": "2024-06-27T06:36:47.997267Z"
    }
   },
   "cell_type": "code",
   "source": [
    "# create a new columns\n",
    "\n",
    "df['sex'] = df['gender'].replace(['female', 'male'], [1, 0])\n",
    "# does not count null, NAN values\n",
    "df['sex'].value_counts()"
   ],
   "id": "e6114ab32e5706dc",
   "outputs": [
    {
     "data": {
      "text/plain": [
       "sex\n",
       "0    1718\n",
       "1     489\n",
       "Name: count, dtype: int64"
      ]
     },
     "execution_count": 28,
     "metadata": {},
     "output_type": "execute_result"
    }
   ],
   "execution_count": 28
  },
  {
   "metadata": {
    "ExecuteTime": {
     "end_time": "2024-06-27T06:36:53.666132Z",
     "start_time": "2024-06-27T06:36:53.637728Z"
    }
   },
   "cell_type": "code",
   "source": [
    "# get the count of unique values in a categorical column\n",
    "\n",
    "df['gender'].value_counts(dropna=False)"
   ],
   "id": "4ca06d23a7c23be6",
   "outputs": [
    {
     "data": {
      "text/plain": [
       "gender\n",
       "male      1718\n",
       "female     489\n",
       "Name: count, dtype: int64"
      ]
     },
     "execution_count": 29,
     "metadata": {},
     "output_type": "execute_result"
    }
   ],
   "execution_count": 29
  },
  {
   "metadata": {
    "ExecuteTime": {
     "end_time": "2024-06-27T06:37:08.380175Z",
     "start_time": "2024-06-27T06:37:08.356814Z"
    }
   },
   "cell_type": "code",
   "source": [
    "df['survived_indicator'] = df['survived'].replace(['yes', 'no'], [1, 0])\n",
    "\n",
    "df.survived_indicator.value_counts(dropna=False)"
   ],
   "id": "4a0e0aa588378290",
   "outputs": [
    {
     "data": {
      "text/plain": [
       "survived_indicator\n",
       "0    1496\n",
       "1     711\n",
       "Name: count, dtype: int64"
      ]
     },
     "execution_count": 30,
     "metadata": {},
     "output_type": "execute_result"
    }
   ],
   "execution_count": 30
  },
  {
   "metadata": {},
   "cell_type": "markdown",
   "source": [
    "### CrossTabs\n",
    "\n",
    "cross tabulation - is a useful analysis tool used to compare result of one variable with another result of another variable"
   ],
   "id": "f6a7ef5d9b3ba353"
  },
  {
   "metadata": {
    "ExecuteTime": {
     "end_time": "2024-06-27T06:37:18.626399Z",
     "start_time": "2024-06-27T06:37:18.584563Z"
    }
   },
   "cell_type": "code",
   "source": "pd.crosstab(df['sex'], df['gender'], margins=True, margins_name='total')",
   "id": "9fc4628f9f16ac8e",
   "outputs": [
    {
     "data": {
      "text/plain": [
       "gender  female  male  total\n",
       "sex                        \n",
       "0            0  1718   1718\n",
       "1          489     0    489\n",
       "total      489  1718   2207"
      ],
      "text/html": [
       "<div>\n",
       "<style scoped>\n",
       "    .dataframe tbody tr th:only-of-type {\n",
       "        vertical-align: middle;\n",
       "    }\n",
       "\n",
       "    .dataframe tbody tr th {\n",
       "        vertical-align: top;\n",
       "    }\n",
       "\n",
       "    .dataframe thead th {\n",
       "        text-align: right;\n",
       "    }\n",
       "</style>\n",
       "<table border=\"1\" class=\"dataframe\">\n",
       "  <thead>\n",
       "    <tr style=\"text-align: right;\">\n",
       "      <th>gender</th>\n",
       "      <th>female</th>\n",
       "      <th>male</th>\n",
       "      <th>total</th>\n",
       "    </tr>\n",
       "    <tr>\n",
       "      <th>sex</th>\n",
       "      <th></th>\n",
       "      <th></th>\n",
       "      <th></th>\n",
       "    </tr>\n",
       "  </thead>\n",
       "  <tbody>\n",
       "    <tr>\n",
       "      <th>0</th>\n",
       "      <td>0</td>\n",
       "      <td>1718</td>\n",
       "      <td>1718</td>\n",
       "    </tr>\n",
       "    <tr>\n",
       "      <th>1</th>\n",
       "      <td>489</td>\n",
       "      <td>0</td>\n",
       "      <td>489</td>\n",
       "    </tr>\n",
       "    <tr>\n",
       "      <th>total</th>\n",
       "      <td>489</td>\n",
       "      <td>1718</td>\n",
       "      <td>2207</td>\n",
       "    </tr>\n",
       "  </tbody>\n",
       "</table>\n",
       "</div>"
      ]
     },
     "execution_count": 31,
     "metadata": {},
     "output_type": "execute_result"
    }
   ],
   "execution_count": 31
  },
  {
   "metadata": {
    "ExecuteTime": {
     "end_time": "2024-06-05T01:34:54.017372Z",
     "start_time": "2024-06-05T01:34:54.015807Z"
    }
   },
   "cell_type": "code",
   "source": [
    "# crosstab = pd.crosstab(\n",
    "#             df[\"survived\"],[df[\"gender\"],df[\"class\"]],margins=True,margins_name=\"total\")"
   ],
   "id": "19b7a3da96d472a2",
   "execution_count": 157,
   "outputs": []
  },
  {
   "metadata": {
    "ExecuteTime": {
     "end_time": "2024-06-05T01:34:54.046956Z",
     "start_time": "2024-06-05T01:34:54.031423Z"
    }
   },
   "cell_type": "code",
   "source": [
    "crosstab = pd.crosstab(df['survived'], [df['gender'], df['class']], margins=True, margins_name='total')\n",
    "\n",
    "crosstab.to_csv('./crosstab.csv')"
   ],
   "id": "e0c9c7b4c0b315ae",
   "execution_count": 158,
   "outputs": []
  },
  {
   "metadata": {
    "ExecuteTime": {
     "end_time": "2024-06-05T01:34:54.063420Z",
     "start_time": "2024-06-05T01:34:54.061840Z"
    }
   },
   "cell_type": "code",
   "source": "del crosstab",
   "id": "c4b74dafc6cc84fc",
   "execution_count": 159,
   "outputs": []
  },
  {
   "metadata": {
    "ExecuteTime": {
     "end_time": "2024-06-27T06:37:32.704110Z",
     "start_time": "2024-06-27T06:37:32.684072Z"
    }
   },
   "cell_type": "code",
   "source": [
    "# rename a column\n",
    "\n",
    "# column => old_name: new_name\n",
    "df.rename(columns={'class': 'passenger_class'}, inplace=True)\n",
    "df.head(1)"
   ],
   "id": "1f81d83721089d7c",
   "outputs": [
    {
     "data": {
      "text/plain": [
       "                  name gender   age passenger_class embarked        country  \\\n",
       "0  Abbing, Mr. Anthony   male  42.0             3rd        S  United States   \n",
       "\n",
       "   fare  sibsp  parch survived  sex  survived_indicator  \n",
       "0  7.11    0.0    0.0       no    0                   0  "
      ],
      "text/html": [
       "<div>\n",
       "<style scoped>\n",
       "    .dataframe tbody tr th:only-of-type {\n",
       "        vertical-align: middle;\n",
       "    }\n",
       "\n",
       "    .dataframe tbody tr th {\n",
       "        vertical-align: top;\n",
       "    }\n",
       "\n",
       "    .dataframe thead th {\n",
       "        text-align: right;\n",
       "    }\n",
       "</style>\n",
       "<table border=\"1\" class=\"dataframe\">\n",
       "  <thead>\n",
       "    <tr style=\"text-align: right;\">\n",
       "      <th></th>\n",
       "      <th>name</th>\n",
       "      <th>gender</th>\n",
       "      <th>age</th>\n",
       "      <th>passenger_class</th>\n",
       "      <th>embarked</th>\n",
       "      <th>country</th>\n",
       "      <th>fare</th>\n",
       "      <th>sibsp</th>\n",
       "      <th>parch</th>\n",
       "      <th>survived</th>\n",
       "      <th>sex</th>\n",
       "      <th>survived_indicator</th>\n",
       "    </tr>\n",
       "  </thead>\n",
       "  <tbody>\n",
       "    <tr>\n",
       "      <th>0</th>\n",
       "      <td>Abbing, Mr. Anthony</td>\n",
       "      <td>male</td>\n",
       "      <td>42.0</td>\n",
       "      <td>3rd</td>\n",
       "      <td>S</td>\n",
       "      <td>United States</td>\n",
       "      <td>7.11</td>\n",
       "      <td>0.0</td>\n",
       "      <td>0.0</td>\n",
       "      <td>no</td>\n",
       "      <td>0</td>\n",
       "      <td>0</td>\n",
       "    </tr>\n",
       "  </tbody>\n",
       "</table>\n",
       "</div>"
      ]
     },
     "execution_count": 32,
     "metadata": {},
     "output_type": "execute_result"
    }
   ],
   "execution_count": 32
  },
  {
   "metadata": {
    "ExecuteTime": {
     "end_time": "2024-06-27T06:38:06.354333Z",
     "start_time": "2024-06-27T06:38:06.344089Z"
    }
   },
   "cell_type": "code",
   "source": [
    "# count the missing values in a given column\n",
    "\n",
    "df[df['age'].isna()].shape[0]"
   ],
   "id": "494f080250d08380",
   "outputs": [
    {
     "data": {
      "text/plain": [
       "2"
      ]
     },
     "execution_count": 37,
     "metadata": {},
     "output_type": "execute_result"
    }
   ],
   "execution_count": 37
  },
  {
   "metadata": {
    "ExecuteTime": {
     "end_time": "2024-06-27T06:38:09.803093Z",
     "start_time": "2024-06-27T06:38:09.798525Z"
    }
   },
   "cell_type": "code",
   "source": [
    "print(type(df[df['age'].notna()].shape))\n",
    "print(df[df['age'].notna()].shape)\n",
    "print(df[df['age'].notna()].shape[0])"
   ],
   "id": "3f52f289a238885",
   "outputs": [
    {
     "name": "stdout",
     "output_type": "stream",
     "text": [
      "<class 'tuple'>\n",
      "(2205, 12)\n",
      "2205\n"
     ]
    }
   ],
   "execution_count": 38
  },
  {
   "metadata": {},
   "cell_type": "markdown",
   "source": "Unique values",
   "id": "45f549f699ca1d54"
  },
  {
   "metadata": {
    "ExecuteTime": {
     "end_time": "2024-06-27T06:38:18.661576Z",
     "start_time": "2024-06-27T06:38:18.655179Z"
    }
   },
   "cell_type": "code",
   "source": [
    "# count unique countries in dataframe\n",
    "\n",
    "df['country'].nunique()"
   ],
   "id": "cf15dc88cff76a0a",
   "outputs": [
    {
     "data": {
      "text/plain": [
       "48"
      ]
     },
     "execution_count": 39,
     "metadata": {},
     "output_type": "execute_result"
    }
   ],
   "execution_count": 39
  },
  {
   "metadata": {
    "ExecuteTime": {
     "end_time": "2024-06-27T06:38:21.190897Z",
     "start_time": "2024-06-27T06:38:21.187668Z"
    }
   },
   "cell_type": "code",
   "source": "df['country'].unique()",
   "id": "cfa3fff46752463d",
   "outputs": [
    {
     "data": {
      "text/plain": [
       "array(['United States', 'England', 'Norway', 'France', 'Lebanon',\n",
       "       'Finland', 'Sweden', 'Argentina', 'Canada', 'Denmark',\n",
       "       'Northern Ireland', 'Bulgaria', 'Switzerland', 'Channel Islands',\n",
       "       'Bosnia', 'Hungary', nan, 'Ireland', 'Italy', 'India', 'Wales',\n",
       "       'South Africa', 'Croatia (Modern)', 'Scotland', 'Siam', 'Uruguay',\n",
       "       'Belgium', 'Poland', 'Australia', 'Peru', 'Spain', 'Egypt',\n",
       "       'Japan', 'Syria', 'Russia', 'Slovenia', 'Greece', 'Turkey',\n",
       "       'China/Hong Kong', 'Austria', 'Latvia', 'Yugoslavia',\n",
       "       'Slovakia (Modern day)', 'Germany', 'Croatia', 'Cuba',\n",
       "       'Netherlands', 'Mexico', 'Guyana'], dtype=object)"
      ]
     },
     "execution_count": 40,
     "metadata": {},
     "output_type": "execute_result"
    }
   ],
   "execution_count": 40
  },
  {
   "metadata": {
    "ExecuteTime": {
     "end_time": "2024-06-27T06:38:26.223734Z",
     "start_time": "2024-06-27T06:38:26.214568Z"
    }
   },
   "cell_type": "code",
   "source": "df['country'].value_counts(dropna=False)",
   "id": "fefa7b7bb61870a0",
   "outputs": [
    {
     "data": {
      "text/plain": [
       "country\n",
       "England                  1125\n",
       "United States             264\n",
       "Ireland                   137\n",
       "Sweden                    105\n",
       "NaN                        81\n",
       "Lebanon                    71\n",
       "Finland                    54\n",
       "Scotland                   36\n",
       "Canada                     34\n",
       "France                     26\n",
       "Norway                     26\n",
       "Belgium                    22\n",
       "Northern Ireland           21\n",
       "Wales                      20\n",
       "Bulgaria                   19\n",
       "Switzerland                18\n",
       "Channel Islands            17\n",
       "Croatia (Modern)           12\n",
       "Croatia                    11\n",
       "Italy                      11\n",
       "Spain                       9\n",
       "India                       8\n",
       "Hungary                     7\n",
       "Denmark                     7\n",
       "Argentina                   7\n",
       "South Africa                6\n",
       "Germany                     6\n",
       "Turkey                      6\n",
       "Australia                   5\n",
       "Slovenia                    4\n",
       "Bosnia                      4\n",
       "Poland                      3\n",
       "Austria                     3\n",
       "Netherlands                 2\n",
       "Greece                      2\n",
       "Siam                        2\n",
       "Russia                      2\n",
       "Peru                        2\n",
       "Uruguay                     2\n",
       "Syria                       1\n",
       "China/Hong Kong             1\n",
       "Japan                       1\n",
       "Latvia                      1\n",
       "Yugoslavia                  1\n",
       "Slovakia (Modern day)       1\n",
       "Egypt                       1\n",
       "Cuba                        1\n",
       "Mexico                      1\n",
       "Guyana                      1\n",
       "Name: count, dtype: int64"
      ]
     },
     "execution_count": 41,
     "metadata": {},
     "output_type": "execute_result"
    }
   ],
   "execution_count": 41
  },
  {
   "metadata": {
    "ExecuteTime": {
     "end_time": "2024-06-27T06:38:30.079234Z",
     "start_time": "2024-06-27T06:38:30.062667Z"
    }
   },
   "cell_type": "code",
   "source": "df['country'].value_counts(dropna=False).sum()",
   "id": "605ad21964a170c3",
   "outputs": [
    {
     "data": {
      "text/plain": [
       "2207"
      ]
     },
     "execution_count": 42,
     "metadata": {},
     "output_type": "execute_result"
    }
   ],
   "execution_count": 42
  },
  {
   "metadata": {
    "ExecuteTime": {
     "end_time": "2024-06-27T06:38:37.348203Z",
     "start_time": "2024-06-27T06:38:37.308981Z"
    }
   },
   "cell_type": "code",
   "source": "pd.crosstab(df['country'], df['survived_indicator'], margins=True, margins_name='total')",
   "id": "4e78781490218a84",
   "outputs": [
    {
     "data": {
      "text/plain": [
       "survived_indicator        0    1  total\n",
       "country                                \n",
       "Argentina                 7    0      7\n",
       "Australia                 5    0      5\n",
       "Austria                   2    1      3\n",
       "Belgium                  17    5     22\n",
       "Bosnia                    4    0      4\n",
       "Bulgaria                 19    0     19\n",
       "Canada                   19   15     34\n",
       "Channel Islands           9    8     17\n",
       "China/Hong Kong           0    1      1\n",
       "Croatia                  11    0     11\n",
       "Croatia (Modern)         10    2     12\n",
       "Cuba                      1    0      1\n",
       "Denmark                   6    1      7\n",
       "Egypt                     0    1      1\n",
       "England                 831  294   1125\n",
       "Finland                  37   17     54\n",
       "France                   11   15     26\n",
       "Germany                   3    3      6\n",
       "Greece                    2    0      2\n",
       "Guyana                    1    0      1\n",
       "Hungary                   6    1      7\n",
       "India                     2    6      8\n",
       "Ireland                  90   47    137\n",
       "Italy                     9    2     11\n",
       "Japan                     0    1      1\n",
       "Latvia                    1    0      1\n",
       "Lebanon                  40   31     71\n",
       "Mexico                    1    0      1\n",
       "Netherlands               2    0      2\n",
       "Northern Ireland         17    4     21\n",
       "Norway                   19    7     26\n",
       "Peru                      1    1      2\n",
       "Poland                    1    2      3\n",
       "Russia                    1    1      2\n",
       "Scotland                 28    8     36\n",
       "Siam                      0    2      2\n",
       "Slovakia (Modern day)     1    0      1\n",
       "Slovenia                  3    1      4\n",
       "South Africa              4    2      6\n",
       "Spain                     2    7      9\n",
       "Sweden                   77   28    105\n",
       "Switzerland               7   11     18\n",
       "Syria                     0    1      1\n",
       "Turkey                    4    2      6\n",
       "United States           112  152    264\n",
       "Uruguay                   2    0      2\n",
       "Wales                    17    3     20\n",
       "Yugoslavia                1    0      1\n",
       "total                  1443  683   2126"
      ],
      "text/html": [
       "<div>\n",
       "<style scoped>\n",
       "    .dataframe tbody tr th:only-of-type {\n",
       "        vertical-align: middle;\n",
       "    }\n",
       "\n",
       "    .dataframe tbody tr th {\n",
       "        vertical-align: top;\n",
       "    }\n",
       "\n",
       "    .dataframe thead th {\n",
       "        text-align: right;\n",
       "    }\n",
       "</style>\n",
       "<table border=\"1\" class=\"dataframe\">\n",
       "  <thead>\n",
       "    <tr style=\"text-align: right;\">\n",
       "      <th>survived_indicator</th>\n",
       "      <th>0</th>\n",
       "      <th>1</th>\n",
       "      <th>total</th>\n",
       "    </tr>\n",
       "    <tr>\n",
       "      <th>country</th>\n",
       "      <th></th>\n",
       "      <th></th>\n",
       "      <th></th>\n",
       "    </tr>\n",
       "  </thead>\n",
       "  <tbody>\n",
       "    <tr>\n",
       "      <th>Argentina</th>\n",
       "      <td>7</td>\n",
       "      <td>0</td>\n",
       "      <td>7</td>\n",
       "    </tr>\n",
       "    <tr>\n",
       "      <th>Australia</th>\n",
       "      <td>5</td>\n",
       "      <td>0</td>\n",
       "      <td>5</td>\n",
       "    </tr>\n",
       "    <tr>\n",
       "      <th>Austria</th>\n",
       "      <td>2</td>\n",
       "      <td>1</td>\n",
       "      <td>3</td>\n",
       "    </tr>\n",
       "    <tr>\n",
       "      <th>Belgium</th>\n",
       "      <td>17</td>\n",
       "      <td>5</td>\n",
       "      <td>22</td>\n",
       "    </tr>\n",
       "    <tr>\n",
       "      <th>Bosnia</th>\n",
       "      <td>4</td>\n",
       "      <td>0</td>\n",
       "      <td>4</td>\n",
       "    </tr>\n",
       "    <tr>\n",
       "      <th>Bulgaria</th>\n",
       "      <td>19</td>\n",
       "      <td>0</td>\n",
       "      <td>19</td>\n",
       "    </tr>\n",
       "    <tr>\n",
       "      <th>Canada</th>\n",
       "      <td>19</td>\n",
       "      <td>15</td>\n",
       "      <td>34</td>\n",
       "    </tr>\n",
       "    <tr>\n",
       "      <th>Channel Islands</th>\n",
       "      <td>9</td>\n",
       "      <td>8</td>\n",
       "      <td>17</td>\n",
       "    </tr>\n",
       "    <tr>\n",
       "      <th>China/Hong Kong</th>\n",
       "      <td>0</td>\n",
       "      <td>1</td>\n",
       "      <td>1</td>\n",
       "    </tr>\n",
       "    <tr>\n",
       "      <th>Croatia</th>\n",
       "      <td>11</td>\n",
       "      <td>0</td>\n",
       "      <td>11</td>\n",
       "    </tr>\n",
       "    <tr>\n",
       "      <th>Croatia (Modern)</th>\n",
       "      <td>10</td>\n",
       "      <td>2</td>\n",
       "      <td>12</td>\n",
       "    </tr>\n",
       "    <tr>\n",
       "      <th>Cuba</th>\n",
       "      <td>1</td>\n",
       "      <td>0</td>\n",
       "      <td>1</td>\n",
       "    </tr>\n",
       "    <tr>\n",
       "      <th>Denmark</th>\n",
       "      <td>6</td>\n",
       "      <td>1</td>\n",
       "      <td>7</td>\n",
       "    </tr>\n",
       "    <tr>\n",
       "      <th>Egypt</th>\n",
       "      <td>0</td>\n",
       "      <td>1</td>\n",
       "      <td>1</td>\n",
       "    </tr>\n",
       "    <tr>\n",
       "      <th>England</th>\n",
       "      <td>831</td>\n",
       "      <td>294</td>\n",
       "      <td>1125</td>\n",
       "    </tr>\n",
       "    <tr>\n",
       "      <th>Finland</th>\n",
       "      <td>37</td>\n",
       "      <td>17</td>\n",
       "      <td>54</td>\n",
       "    </tr>\n",
       "    <tr>\n",
       "      <th>France</th>\n",
       "      <td>11</td>\n",
       "      <td>15</td>\n",
       "      <td>26</td>\n",
       "    </tr>\n",
       "    <tr>\n",
       "      <th>Germany</th>\n",
       "      <td>3</td>\n",
       "      <td>3</td>\n",
       "      <td>6</td>\n",
       "    </tr>\n",
       "    <tr>\n",
       "      <th>Greece</th>\n",
       "      <td>2</td>\n",
       "      <td>0</td>\n",
       "      <td>2</td>\n",
       "    </tr>\n",
       "    <tr>\n",
       "      <th>Guyana</th>\n",
       "      <td>1</td>\n",
       "      <td>0</td>\n",
       "      <td>1</td>\n",
       "    </tr>\n",
       "    <tr>\n",
       "      <th>Hungary</th>\n",
       "      <td>6</td>\n",
       "      <td>1</td>\n",
       "      <td>7</td>\n",
       "    </tr>\n",
       "    <tr>\n",
       "      <th>India</th>\n",
       "      <td>2</td>\n",
       "      <td>6</td>\n",
       "      <td>8</td>\n",
       "    </tr>\n",
       "    <tr>\n",
       "      <th>Ireland</th>\n",
       "      <td>90</td>\n",
       "      <td>47</td>\n",
       "      <td>137</td>\n",
       "    </tr>\n",
       "    <tr>\n",
       "      <th>Italy</th>\n",
       "      <td>9</td>\n",
       "      <td>2</td>\n",
       "      <td>11</td>\n",
       "    </tr>\n",
       "    <tr>\n",
       "      <th>Japan</th>\n",
       "      <td>0</td>\n",
       "      <td>1</td>\n",
       "      <td>1</td>\n",
       "    </tr>\n",
       "    <tr>\n",
       "      <th>Latvia</th>\n",
       "      <td>1</td>\n",
       "      <td>0</td>\n",
       "      <td>1</td>\n",
       "    </tr>\n",
       "    <tr>\n",
       "      <th>Lebanon</th>\n",
       "      <td>40</td>\n",
       "      <td>31</td>\n",
       "      <td>71</td>\n",
       "    </tr>\n",
       "    <tr>\n",
       "      <th>Mexico</th>\n",
       "      <td>1</td>\n",
       "      <td>0</td>\n",
       "      <td>1</td>\n",
       "    </tr>\n",
       "    <tr>\n",
       "      <th>Netherlands</th>\n",
       "      <td>2</td>\n",
       "      <td>0</td>\n",
       "      <td>2</td>\n",
       "    </tr>\n",
       "    <tr>\n",
       "      <th>Northern Ireland</th>\n",
       "      <td>17</td>\n",
       "      <td>4</td>\n",
       "      <td>21</td>\n",
       "    </tr>\n",
       "    <tr>\n",
       "      <th>Norway</th>\n",
       "      <td>19</td>\n",
       "      <td>7</td>\n",
       "      <td>26</td>\n",
       "    </tr>\n",
       "    <tr>\n",
       "      <th>Peru</th>\n",
       "      <td>1</td>\n",
       "      <td>1</td>\n",
       "      <td>2</td>\n",
       "    </tr>\n",
       "    <tr>\n",
       "      <th>Poland</th>\n",
       "      <td>1</td>\n",
       "      <td>2</td>\n",
       "      <td>3</td>\n",
       "    </tr>\n",
       "    <tr>\n",
       "      <th>Russia</th>\n",
       "      <td>1</td>\n",
       "      <td>1</td>\n",
       "      <td>2</td>\n",
       "    </tr>\n",
       "    <tr>\n",
       "      <th>Scotland</th>\n",
       "      <td>28</td>\n",
       "      <td>8</td>\n",
       "      <td>36</td>\n",
       "    </tr>\n",
       "    <tr>\n",
       "      <th>Siam</th>\n",
       "      <td>0</td>\n",
       "      <td>2</td>\n",
       "      <td>2</td>\n",
       "    </tr>\n",
       "    <tr>\n",
       "      <th>Slovakia (Modern day)</th>\n",
       "      <td>1</td>\n",
       "      <td>0</td>\n",
       "      <td>1</td>\n",
       "    </tr>\n",
       "    <tr>\n",
       "      <th>Slovenia</th>\n",
       "      <td>3</td>\n",
       "      <td>1</td>\n",
       "      <td>4</td>\n",
       "    </tr>\n",
       "    <tr>\n",
       "      <th>South Africa</th>\n",
       "      <td>4</td>\n",
       "      <td>2</td>\n",
       "      <td>6</td>\n",
       "    </tr>\n",
       "    <tr>\n",
       "      <th>Spain</th>\n",
       "      <td>2</td>\n",
       "      <td>7</td>\n",
       "      <td>9</td>\n",
       "    </tr>\n",
       "    <tr>\n",
       "      <th>Sweden</th>\n",
       "      <td>77</td>\n",
       "      <td>28</td>\n",
       "      <td>105</td>\n",
       "    </tr>\n",
       "    <tr>\n",
       "      <th>Switzerland</th>\n",
       "      <td>7</td>\n",
       "      <td>11</td>\n",
       "      <td>18</td>\n",
       "    </tr>\n",
       "    <tr>\n",
       "      <th>Syria</th>\n",
       "      <td>0</td>\n",
       "      <td>1</td>\n",
       "      <td>1</td>\n",
       "    </tr>\n",
       "    <tr>\n",
       "      <th>Turkey</th>\n",
       "      <td>4</td>\n",
       "      <td>2</td>\n",
       "      <td>6</td>\n",
       "    </tr>\n",
       "    <tr>\n",
       "      <th>United States</th>\n",
       "      <td>112</td>\n",
       "      <td>152</td>\n",
       "      <td>264</td>\n",
       "    </tr>\n",
       "    <tr>\n",
       "      <th>Uruguay</th>\n",
       "      <td>2</td>\n",
       "      <td>0</td>\n",
       "      <td>2</td>\n",
       "    </tr>\n",
       "    <tr>\n",
       "      <th>Wales</th>\n",
       "      <td>17</td>\n",
       "      <td>3</td>\n",
       "      <td>20</td>\n",
       "    </tr>\n",
       "    <tr>\n",
       "      <th>Yugoslavia</th>\n",
       "      <td>1</td>\n",
       "      <td>0</td>\n",
       "      <td>1</td>\n",
       "    </tr>\n",
       "    <tr>\n",
       "      <th>total</th>\n",
       "      <td>1443</td>\n",
       "      <td>683</td>\n",
       "      <td>2126</td>\n",
       "    </tr>\n",
       "  </tbody>\n",
       "</table>\n",
       "</div>"
      ]
     },
     "execution_count": 43,
     "metadata": {},
     "output_type": "execute_result"
    }
   ],
   "execution_count": 43
  },
  {
   "metadata": {
    "ExecuteTime": {
     "end_time": "2024-06-27T06:38:47.011919Z",
     "start_time": "2024-06-27T06:38:46.934725Z"
    }
   },
   "cell_type": "code",
   "source": [
    "# create a new df with 3 columns -> survived and country, % of survival\n",
    "# sort based on population total\n",
    "# probability of survival\n",
    "\n",
    "survival_prob = pd.crosstab(df['country'], df['survived_indicator'], margins=True, margins_name='Total')\n",
    "\n",
    "survival_prob['percent_Survived'] = round(survival_prob[1] / survival_prob['Total'] * 100)\n",
    "survival_prob.sort_values(by='percent_Survived', ascending=False)"
   ],
   "id": "e0effa92b36bf245",
   "outputs": [
    {
     "data": {
      "text/plain": [
       "survived_indicator        0    1  Total  percent_Survived\n",
       "country                                                  \n",
       "Japan                     0    1      1             100.0\n",
       "Syria                     0    1      1             100.0\n",
       "Egypt                     0    1      1             100.0\n",
       "Siam                      0    2      2             100.0\n",
       "China/Hong Kong           0    1      1             100.0\n",
       "Spain                     2    7      9              78.0\n",
       "India                     2    6      8              75.0\n",
       "Poland                    1    2      3              67.0\n",
       "Switzerland               7   11     18              61.0\n",
       "United States           112  152    264              58.0\n",
       "France                   11   15     26              58.0\n",
       "Russia                    1    1      2              50.0\n",
       "Germany                   3    3      6              50.0\n",
       "Peru                      1    1      2              50.0\n",
       "Channel Islands           9    8     17              47.0\n",
       "Canada                   19   15     34              44.0\n",
       "Lebanon                  40   31     71              44.0\n",
       "Ireland                  90   47    137              34.0\n",
       "Turkey                    4    2      6              33.0\n",
       "South Africa              4    2      6              33.0\n",
       "Austria                   2    1      3              33.0\n",
       "Total                  1443  683   2126              32.0\n",
       "Finland                  37   17     54              31.0\n",
       "Sweden                   77   28    105              27.0\n",
       "Norway                   19    7     26              27.0\n",
       "England                 831  294   1125              26.0\n",
       "Slovenia                  3    1      4              25.0\n",
       "Belgium                  17    5     22              23.0\n",
       "Scotland                 28    8     36              22.0\n",
       "Northern Ireland         17    4     21              19.0\n",
       "Italy                     9    2     11              18.0\n",
       "Croatia (Modern)         10    2     12              17.0\n",
       "Wales                    17    3     20              15.0\n",
       "Hungary                   6    1      7              14.0\n",
       "Denmark                   6    1      7              14.0\n",
       "Greece                    2    0      2               0.0\n",
       "Slovakia (Modern day)     1    0      1               0.0\n",
       "Netherlands               2    0      2               0.0\n",
       "Cuba                      1    0      1               0.0\n",
       "Mexico                    1    0      1               0.0\n",
       "Guyana                    1    0      1               0.0\n",
       "Croatia                  11    0     11               0.0\n",
       "Bulgaria                 19    0     19               0.0\n",
       "Bosnia                    4    0      4               0.0\n",
       "Latvia                    1    0      1               0.0\n",
       "Uruguay                   2    0      2               0.0\n",
       "Australia                 5    0      5               0.0\n",
       "Yugoslavia                1    0      1               0.0\n",
       "Argentina                 7    0      7               0.0"
      ],
      "text/html": [
       "<div>\n",
       "<style scoped>\n",
       "    .dataframe tbody tr th:only-of-type {\n",
       "        vertical-align: middle;\n",
       "    }\n",
       "\n",
       "    .dataframe tbody tr th {\n",
       "        vertical-align: top;\n",
       "    }\n",
       "\n",
       "    .dataframe thead th {\n",
       "        text-align: right;\n",
       "    }\n",
       "</style>\n",
       "<table border=\"1\" class=\"dataframe\">\n",
       "  <thead>\n",
       "    <tr style=\"text-align: right;\">\n",
       "      <th>survived_indicator</th>\n",
       "      <th>0</th>\n",
       "      <th>1</th>\n",
       "      <th>Total</th>\n",
       "      <th>percent_Survived</th>\n",
       "    </tr>\n",
       "    <tr>\n",
       "      <th>country</th>\n",
       "      <th></th>\n",
       "      <th></th>\n",
       "      <th></th>\n",
       "      <th></th>\n",
       "    </tr>\n",
       "  </thead>\n",
       "  <tbody>\n",
       "    <tr>\n",
       "      <th>Japan</th>\n",
       "      <td>0</td>\n",
       "      <td>1</td>\n",
       "      <td>1</td>\n",
       "      <td>100.0</td>\n",
       "    </tr>\n",
       "    <tr>\n",
       "      <th>Syria</th>\n",
       "      <td>0</td>\n",
       "      <td>1</td>\n",
       "      <td>1</td>\n",
       "      <td>100.0</td>\n",
       "    </tr>\n",
       "    <tr>\n",
       "      <th>Egypt</th>\n",
       "      <td>0</td>\n",
       "      <td>1</td>\n",
       "      <td>1</td>\n",
       "      <td>100.0</td>\n",
       "    </tr>\n",
       "    <tr>\n",
       "      <th>Siam</th>\n",
       "      <td>0</td>\n",
       "      <td>2</td>\n",
       "      <td>2</td>\n",
       "      <td>100.0</td>\n",
       "    </tr>\n",
       "    <tr>\n",
       "      <th>China/Hong Kong</th>\n",
       "      <td>0</td>\n",
       "      <td>1</td>\n",
       "      <td>1</td>\n",
       "      <td>100.0</td>\n",
       "    </tr>\n",
       "    <tr>\n",
       "      <th>Spain</th>\n",
       "      <td>2</td>\n",
       "      <td>7</td>\n",
       "      <td>9</td>\n",
       "      <td>78.0</td>\n",
       "    </tr>\n",
       "    <tr>\n",
       "      <th>India</th>\n",
       "      <td>2</td>\n",
       "      <td>6</td>\n",
       "      <td>8</td>\n",
       "      <td>75.0</td>\n",
       "    </tr>\n",
       "    <tr>\n",
       "      <th>Poland</th>\n",
       "      <td>1</td>\n",
       "      <td>2</td>\n",
       "      <td>3</td>\n",
       "      <td>67.0</td>\n",
       "    </tr>\n",
       "    <tr>\n",
       "      <th>Switzerland</th>\n",
       "      <td>7</td>\n",
       "      <td>11</td>\n",
       "      <td>18</td>\n",
       "      <td>61.0</td>\n",
       "    </tr>\n",
       "    <tr>\n",
       "      <th>United States</th>\n",
       "      <td>112</td>\n",
       "      <td>152</td>\n",
       "      <td>264</td>\n",
       "      <td>58.0</td>\n",
       "    </tr>\n",
       "    <tr>\n",
       "      <th>France</th>\n",
       "      <td>11</td>\n",
       "      <td>15</td>\n",
       "      <td>26</td>\n",
       "      <td>58.0</td>\n",
       "    </tr>\n",
       "    <tr>\n",
       "      <th>Russia</th>\n",
       "      <td>1</td>\n",
       "      <td>1</td>\n",
       "      <td>2</td>\n",
       "      <td>50.0</td>\n",
       "    </tr>\n",
       "    <tr>\n",
       "      <th>Germany</th>\n",
       "      <td>3</td>\n",
       "      <td>3</td>\n",
       "      <td>6</td>\n",
       "      <td>50.0</td>\n",
       "    </tr>\n",
       "    <tr>\n",
       "      <th>Peru</th>\n",
       "      <td>1</td>\n",
       "      <td>1</td>\n",
       "      <td>2</td>\n",
       "      <td>50.0</td>\n",
       "    </tr>\n",
       "    <tr>\n",
       "      <th>Channel Islands</th>\n",
       "      <td>9</td>\n",
       "      <td>8</td>\n",
       "      <td>17</td>\n",
       "      <td>47.0</td>\n",
       "    </tr>\n",
       "    <tr>\n",
       "      <th>Canada</th>\n",
       "      <td>19</td>\n",
       "      <td>15</td>\n",
       "      <td>34</td>\n",
       "      <td>44.0</td>\n",
       "    </tr>\n",
       "    <tr>\n",
       "      <th>Lebanon</th>\n",
       "      <td>40</td>\n",
       "      <td>31</td>\n",
       "      <td>71</td>\n",
       "      <td>44.0</td>\n",
       "    </tr>\n",
       "    <tr>\n",
       "      <th>Ireland</th>\n",
       "      <td>90</td>\n",
       "      <td>47</td>\n",
       "      <td>137</td>\n",
       "      <td>34.0</td>\n",
       "    </tr>\n",
       "    <tr>\n",
       "      <th>Turkey</th>\n",
       "      <td>4</td>\n",
       "      <td>2</td>\n",
       "      <td>6</td>\n",
       "      <td>33.0</td>\n",
       "    </tr>\n",
       "    <tr>\n",
       "      <th>South Africa</th>\n",
       "      <td>4</td>\n",
       "      <td>2</td>\n",
       "      <td>6</td>\n",
       "      <td>33.0</td>\n",
       "    </tr>\n",
       "    <tr>\n",
       "      <th>Austria</th>\n",
       "      <td>2</td>\n",
       "      <td>1</td>\n",
       "      <td>3</td>\n",
       "      <td>33.0</td>\n",
       "    </tr>\n",
       "    <tr>\n",
       "      <th>Total</th>\n",
       "      <td>1443</td>\n",
       "      <td>683</td>\n",
       "      <td>2126</td>\n",
       "      <td>32.0</td>\n",
       "    </tr>\n",
       "    <tr>\n",
       "      <th>Finland</th>\n",
       "      <td>37</td>\n",
       "      <td>17</td>\n",
       "      <td>54</td>\n",
       "      <td>31.0</td>\n",
       "    </tr>\n",
       "    <tr>\n",
       "      <th>Sweden</th>\n",
       "      <td>77</td>\n",
       "      <td>28</td>\n",
       "      <td>105</td>\n",
       "      <td>27.0</td>\n",
       "    </tr>\n",
       "    <tr>\n",
       "      <th>Norway</th>\n",
       "      <td>19</td>\n",
       "      <td>7</td>\n",
       "      <td>26</td>\n",
       "      <td>27.0</td>\n",
       "    </tr>\n",
       "    <tr>\n",
       "      <th>England</th>\n",
       "      <td>831</td>\n",
       "      <td>294</td>\n",
       "      <td>1125</td>\n",
       "      <td>26.0</td>\n",
       "    </tr>\n",
       "    <tr>\n",
       "      <th>Slovenia</th>\n",
       "      <td>3</td>\n",
       "      <td>1</td>\n",
       "      <td>4</td>\n",
       "      <td>25.0</td>\n",
       "    </tr>\n",
       "    <tr>\n",
       "      <th>Belgium</th>\n",
       "      <td>17</td>\n",
       "      <td>5</td>\n",
       "      <td>22</td>\n",
       "      <td>23.0</td>\n",
       "    </tr>\n",
       "    <tr>\n",
       "      <th>Scotland</th>\n",
       "      <td>28</td>\n",
       "      <td>8</td>\n",
       "      <td>36</td>\n",
       "      <td>22.0</td>\n",
       "    </tr>\n",
       "    <tr>\n",
       "      <th>Northern Ireland</th>\n",
       "      <td>17</td>\n",
       "      <td>4</td>\n",
       "      <td>21</td>\n",
       "      <td>19.0</td>\n",
       "    </tr>\n",
       "    <tr>\n",
       "      <th>Italy</th>\n",
       "      <td>9</td>\n",
       "      <td>2</td>\n",
       "      <td>11</td>\n",
       "      <td>18.0</td>\n",
       "    </tr>\n",
       "    <tr>\n",
       "      <th>Croatia (Modern)</th>\n",
       "      <td>10</td>\n",
       "      <td>2</td>\n",
       "      <td>12</td>\n",
       "      <td>17.0</td>\n",
       "    </tr>\n",
       "    <tr>\n",
       "      <th>Wales</th>\n",
       "      <td>17</td>\n",
       "      <td>3</td>\n",
       "      <td>20</td>\n",
       "      <td>15.0</td>\n",
       "    </tr>\n",
       "    <tr>\n",
       "      <th>Hungary</th>\n",
       "      <td>6</td>\n",
       "      <td>1</td>\n",
       "      <td>7</td>\n",
       "      <td>14.0</td>\n",
       "    </tr>\n",
       "    <tr>\n",
       "      <th>Denmark</th>\n",
       "      <td>6</td>\n",
       "      <td>1</td>\n",
       "      <td>7</td>\n",
       "      <td>14.0</td>\n",
       "    </tr>\n",
       "    <tr>\n",
       "      <th>Greece</th>\n",
       "      <td>2</td>\n",
       "      <td>0</td>\n",
       "      <td>2</td>\n",
       "      <td>0.0</td>\n",
       "    </tr>\n",
       "    <tr>\n",
       "      <th>Slovakia (Modern day)</th>\n",
       "      <td>1</td>\n",
       "      <td>0</td>\n",
       "      <td>1</td>\n",
       "      <td>0.0</td>\n",
       "    </tr>\n",
       "    <tr>\n",
       "      <th>Netherlands</th>\n",
       "      <td>2</td>\n",
       "      <td>0</td>\n",
       "      <td>2</td>\n",
       "      <td>0.0</td>\n",
       "    </tr>\n",
       "    <tr>\n",
       "      <th>Cuba</th>\n",
       "      <td>1</td>\n",
       "      <td>0</td>\n",
       "      <td>1</td>\n",
       "      <td>0.0</td>\n",
       "    </tr>\n",
       "    <tr>\n",
       "      <th>Mexico</th>\n",
       "      <td>1</td>\n",
       "      <td>0</td>\n",
       "      <td>1</td>\n",
       "      <td>0.0</td>\n",
       "    </tr>\n",
       "    <tr>\n",
       "      <th>Guyana</th>\n",
       "      <td>1</td>\n",
       "      <td>0</td>\n",
       "      <td>1</td>\n",
       "      <td>0.0</td>\n",
       "    </tr>\n",
       "    <tr>\n",
       "      <th>Croatia</th>\n",
       "      <td>11</td>\n",
       "      <td>0</td>\n",
       "      <td>11</td>\n",
       "      <td>0.0</td>\n",
       "    </tr>\n",
       "    <tr>\n",
       "      <th>Bulgaria</th>\n",
       "      <td>19</td>\n",
       "      <td>0</td>\n",
       "      <td>19</td>\n",
       "      <td>0.0</td>\n",
       "    </tr>\n",
       "    <tr>\n",
       "      <th>Bosnia</th>\n",
       "      <td>4</td>\n",
       "      <td>0</td>\n",
       "      <td>4</td>\n",
       "      <td>0.0</td>\n",
       "    </tr>\n",
       "    <tr>\n",
       "      <th>Latvia</th>\n",
       "      <td>1</td>\n",
       "      <td>0</td>\n",
       "      <td>1</td>\n",
       "      <td>0.0</td>\n",
       "    </tr>\n",
       "    <tr>\n",
       "      <th>Uruguay</th>\n",
       "      <td>2</td>\n",
       "      <td>0</td>\n",
       "      <td>2</td>\n",
       "      <td>0.0</td>\n",
       "    </tr>\n",
       "    <tr>\n",
       "      <th>Australia</th>\n",
       "      <td>5</td>\n",
       "      <td>0</td>\n",
       "      <td>5</td>\n",
       "      <td>0.0</td>\n",
       "    </tr>\n",
       "    <tr>\n",
       "      <th>Yugoslavia</th>\n",
       "      <td>1</td>\n",
       "      <td>0</td>\n",
       "      <td>1</td>\n",
       "      <td>0.0</td>\n",
       "    </tr>\n",
       "    <tr>\n",
       "      <th>Argentina</th>\n",
       "      <td>7</td>\n",
       "      <td>0</td>\n",
       "      <td>7</td>\n",
       "      <td>0.0</td>\n",
       "    </tr>\n",
       "  </tbody>\n",
       "</table>\n",
       "</div>"
      ]
     },
     "execution_count": 44,
     "metadata": {},
     "output_type": "execute_result"
    }
   ],
   "execution_count": 44
  },
  {
   "metadata": {},
   "cell_type": "markdown",
   "source": "Grouping",
   "id": "d006d7f50ec7ecc6"
  },
  {
   "metadata": {
    "ExecuteTime": {
     "end_time": "2024-06-27T06:38:53.709564Z",
     "start_time": "2024-06-27T06:38:53.689436Z"
    }
   },
   "cell_type": "code",
   "source": [
    "df['company'] = df['sibsp'] + df['parch']\n",
    "df.groupby('gender')['company'].mean()"
   ],
   "id": "2503ebadb5df2c90",
   "outputs": [
    {
     "data": {
      "text/plain": [
       "gender\n",
       "female    1.285408\n",
       "male      0.663496\n",
       "Name: company, dtype: float64"
      ]
     },
     "execution_count": 45,
     "metadata": {},
     "output_type": "execute_result"
    }
   ],
   "execution_count": 45
  },
  {
   "metadata": {
    "ExecuteTime": {
     "end_time": "2024-06-27T06:38:55.397167Z",
     "start_time": "2024-06-27T06:38:55.393745Z"
    }
   },
   "cell_type": "code",
   "source": "df.groupby('gender')['age'].mean()",
   "id": "f7bb9e93cde3c9e3",
   "outputs": [
    {
     "data": {
      "text/plain": [
       "gender\n",
       "female    29.042434\n",
       "male      30.843969\n",
       "Name: age, dtype: float64"
      ]
     },
     "execution_count": 46,
     "metadata": {},
     "output_type": "execute_result"
    }
   ],
   "execution_count": 46
  },
  {
   "metadata": {
    "ExecuteTime": {
     "end_time": "2024-06-27T06:38:57.697373Z",
     "start_time": "2024-06-27T06:38:57.690563Z"
    }
   },
   "cell_type": "code",
   "source": "pd.DataFrame(df.groupby(['gender', 'survived_indicator'])['age'].mean())",
   "id": "95ff46c687cd0025",
   "outputs": [
    {
     "data": {
      "text/plain": [
       "                                 age\n",
       "gender survived_indicator           \n",
       "female 0                   26.053846\n",
       "       1                   30.124652\n",
       "male   0                   31.292461\n",
       "       1                   29.106061"
      ],
      "text/html": [
       "<div>\n",
       "<style scoped>\n",
       "    .dataframe tbody tr th:only-of-type {\n",
       "        vertical-align: middle;\n",
       "    }\n",
       "\n",
       "    .dataframe tbody tr th {\n",
       "        vertical-align: top;\n",
       "    }\n",
       "\n",
       "    .dataframe thead th {\n",
       "        text-align: right;\n",
       "    }\n",
       "</style>\n",
       "<table border=\"1\" class=\"dataframe\">\n",
       "  <thead>\n",
       "    <tr style=\"text-align: right;\">\n",
       "      <th></th>\n",
       "      <th></th>\n",
       "      <th>age</th>\n",
       "    </tr>\n",
       "    <tr>\n",
       "      <th>gender</th>\n",
       "      <th>survived_indicator</th>\n",
       "      <th></th>\n",
       "    </tr>\n",
       "  </thead>\n",
       "  <tbody>\n",
       "    <tr>\n",
       "      <th rowspan=\"2\" valign=\"top\">female</th>\n",
       "      <th>0</th>\n",
       "      <td>26.053846</td>\n",
       "    </tr>\n",
       "    <tr>\n",
       "      <th>1</th>\n",
       "      <td>30.124652</td>\n",
       "    </tr>\n",
       "    <tr>\n",
       "      <th rowspan=\"2\" valign=\"top\">male</th>\n",
       "      <th>0</th>\n",
       "      <td>31.292461</td>\n",
       "    </tr>\n",
       "    <tr>\n",
       "      <th>1</th>\n",
       "      <td>29.106061</td>\n",
       "    </tr>\n",
       "  </tbody>\n",
       "</table>\n",
       "</div>"
      ]
     },
     "execution_count": 47,
     "metadata": {},
     "output_type": "execute_result"
    }
   ],
   "execution_count": 47
  },
  {
   "metadata": {
    "ExecuteTime": {
     "end_time": "2024-06-27T06:40:24.508154Z",
     "start_time": "2024-06-27T06:40:24.497557Z"
    }
   },
   "cell_type": "code",
   "source": "df.groupby(['gender'])['age'].count()",
   "id": "86483b9cfc80909",
   "outputs": [
    {
     "data": {
      "text/plain": [
       "gender\n",
       "female     489\n",
       "male      1716\n",
       "Name: age, dtype: int64"
      ]
     },
     "execution_count": 51,
     "metadata": {},
     "output_type": "execute_result"
    }
   ],
   "execution_count": 51
  },
  {
   "metadata": {
    "ExecuteTime": {
     "end_time": "2024-06-27T06:40:27.427780Z",
     "start_time": "2024-06-27T06:40:27.422753Z"
    }
   },
   "cell_type": "code",
   "source": "df.groupby('gender')['name'].count()",
   "id": "20ea1da2602d5d7d",
   "outputs": [
    {
     "data": {
      "text/plain": [
       "gender\n",
       "female     489\n",
       "male      1718\n",
       "Name: name, dtype: int64"
      ]
     },
     "execution_count": 52,
     "metadata": {},
     "output_type": "execute_result"
    }
   ],
   "execution_count": 52
  },
  {
   "metadata": {
    "ExecuteTime": {
     "end_time": "2024-06-27T06:40:28.629200Z",
     "start_time": "2024-06-27T06:40:28.612789Z"
    }
   },
   "cell_type": "code",
   "source": "df.groupby('gender').count()",
   "id": "aed40c869c64528a",
   "outputs": [
    {
     "data": {
      "text/plain": [
       "        name   age  passenger_class  embarked  country  fare  sibsp  parch  \\\n",
       "gender                                                                       \n",
       "female   489   489              489       489      464   466    466    466   \n",
       "male    1718  1716             1718      1718     1662   825    841    841   \n",
       "\n",
       "        survived   sex  survived_indicator  company  \n",
       "gender                                               \n",
       "female       489   489                 489      466  \n",
       "male        1718  1718                1718      841  "
      ],
      "text/html": [
       "<div>\n",
       "<style scoped>\n",
       "    .dataframe tbody tr th:only-of-type {\n",
       "        vertical-align: middle;\n",
       "    }\n",
       "\n",
       "    .dataframe tbody tr th {\n",
       "        vertical-align: top;\n",
       "    }\n",
       "\n",
       "    .dataframe thead th {\n",
       "        text-align: right;\n",
       "    }\n",
       "</style>\n",
       "<table border=\"1\" class=\"dataframe\">\n",
       "  <thead>\n",
       "    <tr style=\"text-align: right;\">\n",
       "      <th></th>\n",
       "      <th>name</th>\n",
       "      <th>age</th>\n",
       "      <th>passenger_class</th>\n",
       "      <th>embarked</th>\n",
       "      <th>country</th>\n",
       "      <th>fare</th>\n",
       "      <th>sibsp</th>\n",
       "      <th>parch</th>\n",
       "      <th>survived</th>\n",
       "      <th>sex</th>\n",
       "      <th>survived_indicator</th>\n",
       "      <th>company</th>\n",
       "    </tr>\n",
       "    <tr>\n",
       "      <th>gender</th>\n",
       "      <th></th>\n",
       "      <th></th>\n",
       "      <th></th>\n",
       "      <th></th>\n",
       "      <th></th>\n",
       "      <th></th>\n",
       "      <th></th>\n",
       "      <th></th>\n",
       "      <th></th>\n",
       "      <th></th>\n",
       "      <th></th>\n",
       "      <th></th>\n",
       "    </tr>\n",
       "  </thead>\n",
       "  <tbody>\n",
       "    <tr>\n",
       "      <th>female</th>\n",
       "      <td>489</td>\n",
       "      <td>489</td>\n",
       "      <td>489</td>\n",
       "      <td>489</td>\n",
       "      <td>464</td>\n",
       "      <td>466</td>\n",
       "      <td>466</td>\n",
       "      <td>466</td>\n",
       "      <td>489</td>\n",
       "      <td>489</td>\n",
       "      <td>489</td>\n",
       "      <td>466</td>\n",
       "    </tr>\n",
       "    <tr>\n",
       "      <th>male</th>\n",
       "      <td>1718</td>\n",
       "      <td>1716</td>\n",
       "      <td>1718</td>\n",
       "      <td>1718</td>\n",
       "      <td>1662</td>\n",
       "      <td>825</td>\n",
       "      <td>841</td>\n",
       "      <td>841</td>\n",
       "      <td>1718</td>\n",
       "      <td>1718</td>\n",
       "      <td>1718</td>\n",
       "      <td>841</td>\n",
       "    </tr>\n",
       "  </tbody>\n",
       "</table>\n",
       "</div>"
      ]
     },
     "execution_count": 53,
     "metadata": {},
     "output_type": "execute_result"
    }
   ],
   "execution_count": 53
  },
  {
   "metadata": {
    "ExecuteTime": {
     "end_time": "2024-06-27T06:40:30.239910Z",
     "start_time": "2024-06-27T06:40:30.223321Z"
    }
   },
   "cell_type": "code",
   "source": "df.groupby('gender').apply(lambda col: col.count())",
   "id": "eb31913190b0c32b",
   "outputs": [
    {
     "data": {
      "text/plain": [
       "        name  gender   age  passenger_class  embarked  country  fare  sibsp  \\\n",
       "gender                                                                        \n",
       "female   489     489   489              489       489      464   466    466   \n",
       "male    1718    1718  1716             1718      1718     1662   825    841   \n",
       "\n",
       "        parch  survived   sex  survived_indicator  company  \n",
       "gender                                                      \n",
       "female    466       489   489                 489      466  \n",
       "male      841      1718  1718                1718      841  "
      ],
      "text/html": [
       "<div>\n",
       "<style scoped>\n",
       "    .dataframe tbody tr th:only-of-type {\n",
       "        vertical-align: middle;\n",
       "    }\n",
       "\n",
       "    .dataframe tbody tr th {\n",
       "        vertical-align: top;\n",
       "    }\n",
       "\n",
       "    .dataframe thead th {\n",
       "        text-align: right;\n",
       "    }\n",
       "</style>\n",
       "<table border=\"1\" class=\"dataframe\">\n",
       "  <thead>\n",
       "    <tr style=\"text-align: right;\">\n",
       "      <th></th>\n",
       "      <th>name</th>\n",
       "      <th>gender</th>\n",
       "      <th>age</th>\n",
       "      <th>passenger_class</th>\n",
       "      <th>embarked</th>\n",
       "      <th>country</th>\n",
       "      <th>fare</th>\n",
       "      <th>sibsp</th>\n",
       "      <th>parch</th>\n",
       "      <th>survived</th>\n",
       "      <th>sex</th>\n",
       "      <th>survived_indicator</th>\n",
       "      <th>company</th>\n",
       "    </tr>\n",
       "    <tr>\n",
       "      <th>gender</th>\n",
       "      <th></th>\n",
       "      <th></th>\n",
       "      <th></th>\n",
       "      <th></th>\n",
       "      <th></th>\n",
       "      <th></th>\n",
       "      <th></th>\n",
       "      <th></th>\n",
       "      <th></th>\n",
       "      <th></th>\n",
       "      <th></th>\n",
       "      <th></th>\n",
       "      <th></th>\n",
       "    </tr>\n",
       "  </thead>\n",
       "  <tbody>\n",
       "    <tr>\n",
       "      <th>female</th>\n",
       "      <td>489</td>\n",
       "      <td>489</td>\n",
       "      <td>489</td>\n",
       "      <td>489</td>\n",
       "      <td>489</td>\n",
       "      <td>464</td>\n",
       "      <td>466</td>\n",
       "      <td>466</td>\n",
       "      <td>466</td>\n",
       "      <td>489</td>\n",
       "      <td>489</td>\n",
       "      <td>489</td>\n",
       "      <td>466</td>\n",
       "    </tr>\n",
       "    <tr>\n",
       "      <th>male</th>\n",
       "      <td>1718</td>\n",
       "      <td>1718</td>\n",
       "      <td>1716</td>\n",
       "      <td>1718</td>\n",
       "      <td>1718</td>\n",
       "      <td>1662</td>\n",
       "      <td>825</td>\n",
       "      <td>841</td>\n",
       "      <td>841</td>\n",
       "      <td>1718</td>\n",
       "      <td>1718</td>\n",
       "      <td>1718</td>\n",
       "      <td>841</td>\n",
       "    </tr>\n",
       "  </tbody>\n",
       "</table>\n",
       "</div>"
      ]
     },
     "execution_count": 54,
     "metadata": {},
     "output_type": "execute_result"
    }
   ],
   "execution_count": 54
  },
  {
   "metadata": {
    "ExecuteTime": {
     "end_time": "2024-06-27T06:40:38.464339Z",
     "start_time": "2024-06-27T06:40:38.462021Z"
    }
   },
   "cell_type": "code",
   "source": [
    "def uppercase(s):\n",
    "    return s.upper()"
   ],
   "id": "64f875c734f112fe",
   "outputs": [],
   "execution_count": 55
  },
  {
   "metadata": {
    "ExecuteTime": {
     "end_time": "2024-06-27T06:40:40.538812Z",
     "start_time": "2024-06-27T06:40:40.529982Z"
    }
   },
   "cell_type": "code",
   "source": [
    "df['new_col'] = df['name'].apply(uppercase)\n",
    "df['new_col'].head()"
   ],
   "id": "525b15e13cb60d64",
   "outputs": [
    {
     "data": {
      "text/plain": [
       "0               ABBING, MR. ANTHONY\n",
       "1         ABBOTT, MR. EUGENE JOSEPH\n",
       "2       ABBOTT, MR. ROSSMORE EDWARD\n",
       "3    ABBOTT, MRS. RHODA MARY 'ROSA'\n",
       "4       ABELSETH, MISS. KAREN MARIE\n",
       "Name: new_col, dtype: object"
      ]
     },
     "execution_count": 56,
     "metadata": {},
     "output_type": "execute_result"
    }
   ],
   "execution_count": 56
  },
  {
   "metadata": {
    "ExecuteTime": {
     "end_time": "2024-06-27T06:40:44.344750Z",
     "start_time": "2024-06-27T06:40:44.341612Z"
    }
   },
   "cell_type": "code",
   "source": [
    "for x in df['name'][:3]:\n",
    "    print(x.upper())"
   ],
   "id": "150f0e7d644fbc99",
   "outputs": [
    {
     "name": "stdout",
     "output_type": "stream",
     "text": [
      "ABBING, MR. ANTHONY\n",
      "ABBOTT, MR. EUGENE JOSEPH\n",
      "ABBOTT, MR. ROSSMORE EDWARD\n"
     ]
    }
   ],
   "execution_count": 57
  },
  {
   "metadata": {
    "ExecuteTime": {
     "end_time": "2024-06-27T06:40:47.903100Z",
     "start_time": "2024-06-27T06:40:47.900114Z"
    }
   },
   "cell_type": "code",
   "source": "[w.upper() for w in df['name'][:2]]",
   "id": "4b3afde495cafa15",
   "outputs": [
    {
     "data": {
      "text/plain": [
       "['ABBING, MR. ANTHONY', 'ABBOTT, MR. EUGENE JOSEPH']"
      ]
     },
     "execution_count": 58,
     "metadata": {},
     "output_type": "execute_result"
    }
   ],
   "execution_count": 58
  },
  {
   "metadata": {},
   "cell_type": "markdown",
   "source": "### Concatenating two DataFrames",
   "id": "9f40151bf1cb8b06"
  },
  {
   "metadata": {
    "ExecuteTime": {
     "end_time": "2024-06-27T06:40:58.136988Z",
     "start_time": "2024-06-27T06:40:58.129926Z"
    }
   },
   "cell_type": "code",
   "source": [
    "data_a = {\n",
    "    'id': ['1', '2', '3'],\n",
    "    'first': ['Alex', 'Amy', 'Allen'],\n",
    "    'last': ['Anderson', 'Ackerman', 'Ali']\n",
    "}\n",
    "\n",
    "dataframe_a = pd.DataFrame(data_a, columns=['id', 'first', 'last'])"
   ],
   "id": "1b0fa33d52ae48",
   "outputs": [],
   "execution_count": 59
  },
  {
   "metadata": {
    "ExecuteTime": {
     "end_time": "2024-06-27T06:40:58.537735Z",
     "start_time": "2024-06-27T06:40:58.534774Z"
    }
   },
   "cell_type": "code",
   "source": [
    "data_b = {\n",
    "    'id': ['4', '5', '6'],\n",
    "    'first': ['Billy', 'Brian', 'Bran'],\n",
    "    'last': ['Blonder', 'Black', 'Balwner']\n",
    "}\n",
    "\n",
    "# try with this\n",
    "# data_b = {\n",
    "#     'student_id': ['4', '5', '6'],\n",
    "#     'first': ['Billy', 'Brian', 'Bran'],\n",
    "#     'last': ['Blonder', 'Black', 'Balwner']\n",
    "# }\n",
    "\n",
    "dataframe_b = pd.DataFrame(data_b, columns=['id', 'first', 'last'])"
   ],
   "id": "a17b4065171e1f36",
   "outputs": [],
   "execution_count": 60
  },
  {
   "metadata": {
    "ExecuteTime": {
     "end_time": "2024-06-27T06:41:03.055759Z",
     "start_time": "2024-06-27T06:41:03.034596Z"
    }
   },
   "cell_type": "code",
   "source": "pd.concat([dataframe_a, dataframe_b])",
   "id": "c9970422578af9af",
   "outputs": [
    {
     "data": {
      "text/plain": [
       "  id  first      last\n",
       "0  1   Alex  Anderson\n",
       "1  2    Amy  Ackerman\n",
       "2  3  Allen       Ali\n",
       "0  4  Billy   Blonder\n",
       "1  5  Brian     Black\n",
       "2  6   Bran   Balwner"
      ],
      "text/html": [
       "<div>\n",
       "<style scoped>\n",
       "    .dataframe tbody tr th:only-of-type {\n",
       "        vertical-align: middle;\n",
       "    }\n",
       "\n",
       "    .dataframe tbody tr th {\n",
       "        vertical-align: top;\n",
       "    }\n",
       "\n",
       "    .dataframe thead th {\n",
       "        text-align: right;\n",
       "    }\n",
       "</style>\n",
       "<table border=\"1\" class=\"dataframe\">\n",
       "  <thead>\n",
       "    <tr style=\"text-align: right;\">\n",
       "      <th></th>\n",
       "      <th>id</th>\n",
       "      <th>first</th>\n",
       "      <th>last</th>\n",
       "    </tr>\n",
       "  </thead>\n",
       "  <tbody>\n",
       "    <tr>\n",
       "      <th>0</th>\n",
       "      <td>1</td>\n",
       "      <td>Alex</td>\n",
       "      <td>Anderson</td>\n",
       "    </tr>\n",
       "    <tr>\n",
       "      <th>1</th>\n",
       "      <td>2</td>\n",
       "      <td>Amy</td>\n",
       "      <td>Ackerman</td>\n",
       "    </tr>\n",
       "    <tr>\n",
       "      <th>2</th>\n",
       "      <td>3</td>\n",
       "      <td>Allen</td>\n",
       "      <td>Ali</td>\n",
       "    </tr>\n",
       "    <tr>\n",
       "      <th>0</th>\n",
       "      <td>4</td>\n",
       "      <td>Billy</td>\n",
       "      <td>Blonder</td>\n",
       "    </tr>\n",
       "    <tr>\n",
       "      <th>1</th>\n",
       "      <td>5</td>\n",
       "      <td>Brian</td>\n",
       "      <td>Black</td>\n",
       "    </tr>\n",
       "    <tr>\n",
       "      <th>2</th>\n",
       "      <td>6</td>\n",
       "      <td>Bran</td>\n",
       "      <td>Balwner</td>\n",
       "    </tr>\n",
       "  </tbody>\n",
       "</table>\n",
       "</div>"
      ]
     },
     "execution_count": 61,
     "metadata": {},
     "output_type": "execute_result"
    }
   ],
   "execution_count": 61
  },
  {
   "metadata": {
    "ExecuteTime": {
     "end_time": "2024-06-27T06:41:06.216714Z",
     "start_time": "2024-06-27T06:41:06.207444Z"
    }
   },
   "cell_type": "code",
   "source": [
    "x = pd.concat([dataframe_a, dataframe_b], axis=0)\n",
    "x"
   ],
   "id": "bc5a3bc972df28b3",
   "outputs": [
    {
     "data": {
      "text/plain": [
       "  id  first      last\n",
       "0  1   Alex  Anderson\n",
       "1  2    Amy  Ackerman\n",
       "2  3  Allen       Ali\n",
       "0  4  Billy   Blonder\n",
       "1  5  Brian     Black\n",
       "2  6   Bran   Balwner"
      ],
      "text/html": [
       "<div>\n",
       "<style scoped>\n",
       "    .dataframe tbody tr th:only-of-type {\n",
       "        vertical-align: middle;\n",
       "    }\n",
       "\n",
       "    .dataframe tbody tr th {\n",
       "        vertical-align: top;\n",
       "    }\n",
       "\n",
       "    .dataframe thead th {\n",
       "        text-align: right;\n",
       "    }\n",
       "</style>\n",
       "<table border=\"1\" class=\"dataframe\">\n",
       "  <thead>\n",
       "    <tr style=\"text-align: right;\">\n",
       "      <th></th>\n",
       "      <th>id</th>\n",
       "      <th>first</th>\n",
       "      <th>last</th>\n",
       "    </tr>\n",
       "  </thead>\n",
       "  <tbody>\n",
       "    <tr>\n",
       "      <th>0</th>\n",
       "      <td>1</td>\n",
       "      <td>Alex</td>\n",
       "      <td>Anderson</td>\n",
       "    </tr>\n",
       "    <tr>\n",
       "      <th>1</th>\n",
       "      <td>2</td>\n",
       "      <td>Amy</td>\n",
       "      <td>Ackerman</td>\n",
       "    </tr>\n",
       "    <tr>\n",
       "      <th>2</th>\n",
       "      <td>3</td>\n",
       "      <td>Allen</td>\n",
       "      <td>Ali</td>\n",
       "    </tr>\n",
       "    <tr>\n",
       "      <th>0</th>\n",
       "      <td>4</td>\n",
       "      <td>Billy</td>\n",
       "      <td>Blonder</td>\n",
       "    </tr>\n",
       "    <tr>\n",
       "      <th>1</th>\n",
       "      <td>5</td>\n",
       "      <td>Brian</td>\n",
       "      <td>Black</td>\n",
       "    </tr>\n",
       "    <tr>\n",
       "      <th>2</th>\n",
       "      <td>6</td>\n",
       "      <td>Bran</td>\n",
       "      <td>Balwner</td>\n",
       "    </tr>\n",
       "  </tbody>\n",
       "</table>\n",
       "</div>"
      ]
     },
     "execution_count": 62,
     "metadata": {},
     "output_type": "execute_result"
    }
   ],
   "execution_count": 62
  },
  {
   "metadata": {
    "ExecuteTime": {
     "end_time": "2024-06-27T06:41:12.825607Z",
     "start_time": "2024-06-27T06:41:12.821429Z"
    }
   },
   "cell_type": "code",
   "source": [
    "y = pd.concat([dataframe_a, dataframe_b], axis=1)\n",
    "y"
   ],
   "id": "33e0338a8ac69a7",
   "outputs": [
    {
     "data": {
      "text/plain": [
       "  id  first      last id  first     last\n",
       "0  1   Alex  Anderson  4  Billy  Blonder\n",
       "1  2    Amy  Ackerman  5  Brian    Black\n",
       "2  3  Allen       Ali  6   Bran  Balwner"
      ],
      "text/html": [
       "<div>\n",
       "<style scoped>\n",
       "    .dataframe tbody tr th:only-of-type {\n",
       "        vertical-align: middle;\n",
       "    }\n",
       "\n",
       "    .dataframe tbody tr th {\n",
       "        vertical-align: top;\n",
       "    }\n",
       "\n",
       "    .dataframe thead th {\n",
       "        text-align: right;\n",
       "    }\n",
       "</style>\n",
       "<table border=\"1\" class=\"dataframe\">\n",
       "  <thead>\n",
       "    <tr style=\"text-align: right;\">\n",
       "      <th></th>\n",
       "      <th>id</th>\n",
       "      <th>first</th>\n",
       "      <th>last</th>\n",
       "      <th>id</th>\n",
       "      <th>first</th>\n",
       "      <th>last</th>\n",
       "    </tr>\n",
       "  </thead>\n",
       "  <tbody>\n",
       "    <tr>\n",
       "      <th>0</th>\n",
       "      <td>1</td>\n",
       "      <td>Alex</td>\n",
       "      <td>Anderson</td>\n",
       "      <td>4</td>\n",
       "      <td>Billy</td>\n",
       "      <td>Blonder</td>\n",
       "    </tr>\n",
       "    <tr>\n",
       "      <th>1</th>\n",
       "      <td>2</td>\n",
       "      <td>Amy</td>\n",
       "      <td>Ackerman</td>\n",
       "      <td>5</td>\n",
       "      <td>Brian</td>\n",
       "      <td>Black</td>\n",
       "    </tr>\n",
       "    <tr>\n",
       "      <th>2</th>\n",
       "      <td>3</td>\n",
       "      <td>Allen</td>\n",
       "      <td>Ali</td>\n",
       "      <td>6</td>\n",
       "      <td>Bran</td>\n",
       "      <td>Balwner</td>\n",
       "    </tr>\n",
       "  </tbody>\n",
       "</table>\n",
       "</div>"
      ]
     },
     "execution_count": 63,
     "metadata": {},
     "output_type": "execute_result"
    }
   ],
   "execution_count": 63
  },
  {
   "metadata": {},
   "cell_type": "markdown",
   "source": "MERGE (JOIN)",
   "id": "12dad9d3512c58c6"
  },
  {
   "metadata": {
    "ExecuteTime": {
     "end_time": "2024-06-27T06:41:27.928428Z",
     "start_time": "2024-06-27T06:41:27.916892Z"
    }
   },
   "cell_type": "code",
   "source": [
    "employee_data = {\n",
    "    'employee_id': ['1', '2', '3', '4'],\n",
    "    'name': ['Amy Jones', 'Allen Keys', 'Alice Bees', 'Tim Hortons']\n",
    "}\n",
    "\n",
    "employee_dataframe = pd.DataFrame(employee_data, columns=['employee_id', 'name'])\n",
    "\n",
    "employee_dataframe"
   ],
   "id": "4b1739c998e8c395",
   "outputs": [
    {
     "data": {
      "text/plain": [
       "  employee_id         name\n",
       "0           1    Amy Jones\n",
       "1           2   Allen Keys\n",
       "2           3   Alice Bees\n",
       "3           4  Tim Hortons"
      ],
      "text/html": [
       "<div>\n",
       "<style scoped>\n",
       "    .dataframe tbody tr th:only-of-type {\n",
       "        vertical-align: middle;\n",
       "    }\n",
       "\n",
       "    .dataframe tbody tr th {\n",
       "        vertical-align: top;\n",
       "    }\n",
       "\n",
       "    .dataframe thead th {\n",
       "        text-align: right;\n",
       "    }\n",
       "</style>\n",
       "<table border=\"1\" class=\"dataframe\">\n",
       "  <thead>\n",
       "    <tr style=\"text-align: right;\">\n",
       "      <th></th>\n",
       "      <th>employee_id</th>\n",
       "      <th>name</th>\n",
       "    </tr>\n",
       "  </thead>\n",
       "  <tbody>\n",
       "    <tr>\n",
       "      <th>0</th>\n",
       "      <td>1</td>\n",
       "      <td>Amy Jones</td>\n",
       "    </tr>\n",
       "    <tr>\n",
       "      <th>1</th>\n",
       "      <td>2</td>\n",
       "      <td>Allen Keys</td>\n",
       "    </tr>\n",
       "    <tr>\n",
       "      <th>2</th>\n",
       "      <td>3</td>\n",
       "      <td>Alice Bees</td>\n",
       "    </tr>\n",
       "    <tr>\n",
       "      <th>3</th>\n",
       "      <td>4</td>\n",
       "      <td>Tim Hortons</td>\n",
       "    </tr>\n",
       "  </tbody>\n",
       "</table>\n",
       "</div>"
      ]
     },
     "execution_count": 64,
     "metadata": {},
     "output_type": "execute_result"
    }
   ],
   "execution_count": 64
  },
  {
   "metadata": {
    "ExecuteTime": {
     "end_time": "2024-06-27T06:41:30.606971Z",
     "start_time": "2024-06-27T06:41:30.577572Z"
    }
   },
   "cell_type": "code",
   "source": [
    "sales_data = {\n",
    "    'employee_id': ['3', '4', '5', '6'],\n",
    "    'total_sales': [23456, 2512, 2345, 1445]\n",
    "}\n",
    "\n",
    "sales_dataframe = pd.DataFrame(sales_data, columns=['employee_id', 'total_sales'])\n",
    "\n",
    "sales_dataframe"
   ],
   "id": "4004c488b08a7f72",
   "outputs": [
    {
     "data": {
      "text/plain": [
       "  employee_id  total_sales\n",
       "0           3        23456\n",
       "1           4         2512\n",
       "2           5         2345\n",
       "3           6         1445"
      ],
      "text/html": [
       "<div>\n",
       "<style scoped>\n",
       "    .dataframe tbody tr th:only-of-type {\n",
       "        vertical-align: middle;\n",
       "    }\n",
       "\n",
       "    .dataframe tbody tr th {\n",
       "        vertical-align: top;\n",
       "    }\n",
       "\n",
       "    .dataframe thead th {\n",
       "        text-align: right;\n",
       "    }\n",
       "</style>\n",
       "<table border=\"1\" class=\"dataframe\">\n",
       "  <thead>\n",
       "    <tr style=\"text-align: right;\">\n",
       "      <th></th>\n",
       "      <th>employee_id</th>\n",
       "      <th>total_sales</th>\n",
       "    </tr>\n",
       "  </thead>\n",
       "  <tbody>\n",
       "    <tr>\n",
       "      <th>0</th>\n",
       "      <td>3</td>\n",
       "      <td>23456</td>\n",
       "    </tr>\n",
       "    <tr>\n",
       "      <th>1</th>\n",
       "      <td>4</td>\n",
       "      <td>2512</td>\n",
       "    </tr>\n",
       "    <tr>\n",
       "      <th>2</th>\n",
       "      <td>5</td>\n",
       "      <td>2345</td>\n",
       "    </tr>\n",
       "    <tr>\n",
       "      <th>3</th>\n",
       "      <td>6</td>\n",
       "      <td>1445</td>\n",
       "    </tr>\n",
       "  </tbody>\n",
       "</table>\n",
       "</div>"
      ]
     },
     "execution_count": 65,
     "metadata": {},
     "output_type": "execute_result"
    }
   ],
   "execution_count": 65
  },
  {
   "metadata": {
    "ExecuteTime": {
     "end_time": "2024-06-27T06:41:33.370282Z",
     "start_time": "2024-06-27T06:41:33.360292Z"
    }
   },
   "cell_type": "code",
   "source": "pd.merge(employee_dataframe, sales_dataframe, on='employee_id')",
   "id": "817c4c133eda98cb",
   "outputs": [
    {
     "data": {
      "text/plain": [
       "  employee_id         name  total_sales\n",
       "0           3   Alice Bees        23456\n",
       "1           4  Tim Hortons         2512"
      ],
      "text/html": [
       "<div>\n",
       "<style scoped>\n",
       "    .dataframe tbody tr th:only-of-type {\n",
       "        vertical-align: middle;\n",
       "    }\n",
       "\n",
       "    .dataframe tbody tr th {\n",
       "        vertical-align: top;\n",
       "    }\n",
       "\n",
       "    .dataframe thead th {\n",
       "        text-align: right;\n",
       "    }\n",
       "</style>\n",
       "<table border=\"1\" class=\"dataframe\">\n",
       "  <thead>\n",
       "    <tr style=\"text-align: right;\">\n",
       "      <th></th>\n",
       "      <th>employee_id</th>\n",
       "      <th>name</th>\n",
       "      <th>total_sales</th>\n",
       "    </tr>\n",
       "  </thead>\n",
       "  <tbody>\n",
       "    <tr>\n",
       "      <th>0</th>\n",
       "      <td>3</td>\n",
       "      <td>Alice Bees</td>\n",
       "      <td>23456</td>\n",
       "    </tr>\n",
       "    <tr>\n",
       "      <th>1</th>\n",
       "      <td>4</td>\n",
       "      <td>Tim Hortons</td>\n",
       "      <td>2512</td>\n",
       "    </tr>\n",
       "  </tbody>\n",
       "</table>\n",
       "</div>"
      ]
     },
     "execution_count": 66,
     "metadata": {},
     "output_type": "execute_result"
    }
   ],
   "execution_count": 66
  },
  {
   "metadata": {},
   "cell_type": "markdown",
   "source": [
    "if name is different on both column\n",
    "\n",
    "left_on, right_on\n",
    "\n",
    "if you don't specify the type of join then the default is inner-join"
   ],
   "id": "47eb6c9e4d60cfbb"
  },
  {
   "metadata": {
    "ExecuteTime": {
     "end_time": "2024-06-27T06:41:48.361426Z",
     "start_time": "2024-06-27T06:41:48.342677Z"
    }
   },
   "cell_type": "code",
   "source": "pd.merge(employee_dataframe, sales_dataframe, on='employee_id', how='outer')",
   "id": "466c73bf1c5f1aac",
   "outputs": [
    {
     "data": {
      "text/plain": [
       "  employee_id         name  total_sales\n",
       "0           1    Amy Jones          NaN\n",
       "1           2   Allen Keys          NaN\n",
       "2           3   Alice Bees      23456.0\n",
       "3           4  Tim Hortons       2512.0\n",
       "4           5          NaN       2345.0\n",
       "5           6          NaN       1445.0"
      ],
      "text/html": [
       "<div>\n",
       "<style scoped>\n",
       "    .dataframe tbody tr th:only-of-type {\n",
       "        vertical-align: middle;\n",
       "    }\n",
       "\n",
       "    .dataframe tbody tr th {\n",
       "        vertical-align: top;\n",
       "    }\n",
       "\n",
       "    .dataframe thead th {\n",
       "        text-align: right;\n",
       "    }\n",
       "</style>\n",
       "<table border=\"1\" class=\"dataframe\">\n",
       "  <thead>\n",
       "    <tr style=\"text-align: right;\">\n",
       "      <th></th>\n",
       "      <th>employee_id</th>\n",
       "      <th>name</th>\n",
       "      <th>total_sales</th>\n",
       "    </tr>\n",
       "  </thead>\n",
       "  <tbody>\n",
       "    <tr>\n",
       "      <th>0</th>\n",
       "      <td>1</td>\n",
       "      <td>Amy Jones</td>\n",
       "      <td>NaN</td>\n",
       "    </tr>\n",
       "    <tr>\n",
       "      <th>1</th>\n",
       "      <td>2</td>\n",
       "      <td>Allen Keys</td>\n",
       "      <td>NaN</td>\n",
       "    </tr>\n",
       "    <tr>\n",
       "      <th>2</th>\n",
       "      <td>3</td>\n",
       "      <td>Alice Bees</td>\n",
       "      <td>23456.0</td>\n",
       "    </tr>\n",
       "    <tr>\n",
       "      <th>3</th>\n",
       "      <td>4</td>\n",
       "      <td>Tim Hortons</td>\n",
       "      <td>2512.0</td>\n",
       "    </tr>\n",
       "    <tr>\n",
       "      <th>4</th>\n",
       "      <td>5</td>\n",
       "      <td>NaN</td>\n",
       "      <td>2345.0</td>\n",
       "    </tr>\n",
       "    <tr>\n",
       "      <th>5</th>\n",
       "      <td>6</td>\n",
       "      <td>NaN</td>\n",
       "      <td>1445.0</td>\n",
       "    </tr>\n",
       "  </tbody>\n",
       "</table>\n",
       "</div>"
      ]
     },
     "execution_count": 67,
     "metadata": {},
     "output_type": "execute_result"
    }
   ],
   "execution_count": 67
  },
  {
   "metadata": {
    "ExecuteTime": {
     "end_time": "2024-06-27T06:41:50.018127Z",
     "start_time": "2024-06-27T06:41:50.009705Z"
    }
   },
   "cell_type": "code",
   "source": "pd.merge(employee_dataframe, sales_dataframe, left_on='employee_id', right_on='employee_id')",
   "id": "dcd0113434425311",
   "outputs": [
    {
     "data": {
      "text/plain": [
       "  employee_id         name  total_sales\n",
       "0           3   Alice Bees        23456\n",
       "1           4  Tim Hortons         2512"
      ],
      "text/html": [
       "<div>\n",
       "<style scoped>\n",
       "    .dataframe tbody tr th:only-of-type {\n",
       "        vertical-align: middle;\n",
       "    }\n",
       "\n",
       "    .dataframe tbody tr th {\n",
       "        vertical-align: top;\n",
       "    }\n",
       "\n",
       "    .dataframe thead th {\n",
       "        text-align: right;\n",
       "    }\n",
       "</style>\n",
       "<table border=\"1\" class=\"dataframe\">\n",
       "  <thead>\n",
       "    <tr style=\"text-align: right;\">\n",
       "      <th></th>\n",
       "      <th>employee_id</th>\n",
       "      <th>name</th>\n",
       "      <th>total_sales</th>\n",
       "    </tr>\n",
       "  </thead>\n",
       "  <tbody>\n",
       "    <tr>\n",
       "      <th>0</th>\n",
       "      <td>3</td>\n",
       "      <td>Alice Bees</td>\n",
       "      <td>23456</td>\n",
       "    </tr>\n",
       "    <tr>\n",
       "      <th>1</th>\n",
       "      <td>4</td>\n",
       "      <td>Tim Hortons</td>\n",
       "      <td>2512</td>\n",
       "    </tr>\n",
       "  </tbody>\n",
       "</table>\n",
       "</div>"
      ]
     },
     "execution_count": 68,
     "metadata": {},
     "output_type": "execute_result"
    }
   ],
   "execution_count": 68
  },
  {
   "metadata": {},
   "cell_type": "code",
   "execution_count": null,
   "source": "",
   "id": "5835eec9d3ff320",
   "outputs": []
  },
  {
   "metadata": {
    "ExecuteTime": {
     "end_time": "2024-06-05T01:48:43.053396Z",
     "start_time": "2024-06-05T01:48:43.050128Z"
    }
   },
   "cell_type": "code",
   "source": [
    "# TODO\n",
    "\n",
    "# use set index on both dataframes and make sure the index is the employee_id\n",
    "# use left_index and right_index on the dataframe to merge"
   ],
   "id": "84d41cf02884c70d",
   "execution_count": 196,
   "outputs": []
  }
 ],
 "metadata": {
  "kernelspec": {
   "display_name": "Python 3",
   "language": "python",
   "name": "python3"
  },
  "language_info": {
   "codemirror_mode": {
    "name": "ipython",
    "version": 2
   },
   "file_extension": ".py",
   "mimetype": "text/x-python",
   "name": "python",
   "nbconvert_exporter": "python",
   "pygments_lexer": "ipython2",
   "version": "2.7.6"
  }
 },
 "nbformat": 4,
 "nbformat_minor": 5
}
