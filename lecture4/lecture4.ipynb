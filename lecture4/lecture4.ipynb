{
 "cells": [
  {
   "cell_type": "code",
   "id": "initial_id",
   "metadata": {
    "collapsed": true,
    "ExecuteTime": {
     "end_time": "2024-05-28T23:11:03.208847Z",
     "start_time": "2024-05-28T23:11:03.207327Z"
    }
   },
   "source": "import numpy as np",
   "outputs": [],
   "execution_count": 1
  },
  {
   "metadata": {},
   "cell_type": "markdown",
   "source": "Vector => 1 dimensional array",
   "id": "cc6a5788e7a89a18"
  },
  {
   "metadata": {
    "ExecuteTime": {
     "end_time": "2024-05-28T23:20:23.947619Z",
     "start_time": "2024-05-28T23:20:23.943066Z"
    }
   },
   "cell_type": "code",
   "source": [
    "# create a numpy array\n",
    "vector = np.array([1, 2, 3, 4, 5, 6, 3])"
   ],
   "id": "8d215dc6374fe65",
   "outputs": [],
   "execution_count": 17
  },
  {
   "metadata": {
    "ExecuteTime": {
     "end_time": "2024-05-28T23:23:00.110569Z",
     "start_time": "2024-05-28T23:23:00.103095Z"
    }
   },
   "cell_type": "code",
   "source": "vector",
   "id": "890b0b977a08b956",
   "outputs": [
    {
     "data": {
      "text/plain": [
       "array([1, 2, 3, 4, 5, 6, 3])"
      ]
     },
     "execution_count": 27,
     "metadata": {},
     "output_type": "execute_result"
    }
   ],
   "execution_count": 27
  },
  {
   "metadata": {
    "ExecuteTime": {
     "end_time": "2024-05-28T23:20:23.995Z",
     "start_time": "2024-05-28T23:20:23.992237Z"
    }
   },
   "cell_type": "code",
   "source": [
    "# select an element from the back\n",
    "vector[-4]"
   ],
   "id": "d933ba9d9e046fc2",
   "outputs": [
    {
     "data": {
      "text/plain": [
       "4"
      ]
     },
     "execution_count": 18,
     "metadata": {},
     "output_type": "execute_result"
    }
   ],
   "execution_count": 18
  },
  {
   "metadata": {
    "ExecuteTime": {
     "end_time": "2024-05-28T23:20:24.005966Z",
     "start_time": "2024-05-28T23:20:24.003396Z"
    }
   },
   "cell_type": "code",
   "source": [
    "# select an element from the front\n",
    "vector[2]"
   ],
   "id": "619af1c311586cb7",
   "outputs": [
    {
     "data": {
      "text/plain": [
       "3"
      ]
     },
     "execution_count": 19,
     "metadata": {},
     "output_type": "execute_result"
    }
   ],
   "execution_count": 19
  },
  {
   "metadata": {
    "ExecuteTime": {
     "end_time": "2024-05-28T23:20:24.009652Z",
     "start_time": "2024-05-28T23:20:24.007232Z"
    }
   },
   "cell_type": "code",
   "source": [
    "# forward slicing\n",
    "vector[2:5]"
   ],
   "id": "3d95a5e3dbb44b3",
   "outputs": [
    {
     "data": {
      "text/plain": [
       "array([3, 4, 5])"
      ]
     },
     "execution_count": 20,
     "metadata": {},
     "output_type": "execute_result"
    }
   ],
   "execution_count": 20
  },
  {
   "metadata": {
    "ExecuteTime": {
     "end_time": "2024-05-28T23:20:24.012694Z",
     "start_time": "2024-05-28T23:20:24.010555Z"
    }
   },
   "cell_type": "code",
   "source": [
    "# backward slicing\n",
    "vector[-4:-1]"
   ],
   "id": "c6f719513b4c9ad4",
   "outputs": [
    {
     "data": {
      "text/plain": [
       "array([4, 5, 6])"
      ]
     },
     "execution_count": 21,
     "metadata": {},
     "output_type": "execute_result"
    }
   ],
   "execution_count": 21
  },
  {
   "metadata": {
    "ExecuteTime": {
     "end_time": "2024-05-28T23:20:24.016938Z",
     "start_time": "2024-05-28T23:20:24.014308Z"
    }
   },
   "cell_type": "code",
   "source": [
    "# get the index of value 3\n",
    "np.where(vector == 3)"
   ],
   "id": "f8a4e7912b157e49",
   "outputs": [
    {
     "data": {
      "text/plain": [
       "(array([2, 6]),)"
      ]
     },
     "execution_count": 22,
     "metadata": {},
     "output_type": "execute_result"
    }
   ],
   "execution_count": 22
  },
  {
   "metadata": {
    "ExecuteTime": {
     "end_time": "2024-05-28T23:20:46.010825Z",
     "start_time": "2024-05-28T23:20:46.004835Z"
    }
   },
   "cell_type": "code",
   "source": [
    "# select every other data in the vector\n",
    "vector[0::2]"
   ],
   "id": "7ad15cd55be2e19a",
   "outputs": [
    {
     "data": {
      "text/plain": [
       "array([1, 3, 5, 3])"
      ]
     },
     "execution_count": 24,
     "metadata": {},
     "output_type": "execute_result"
    }
   ],
   "execution_count": 24
  },
  {
   "metadata": {},
   "cell_type": "markdown",
   "source": "Matrix => 2 dimensional array",
   "id": "24cc5359d70180f4"
  },
  {
   "metadata": {
    "ExecuteTime": {
     "end_time": "2024-05-28T23:22:37.457983Z",
     "start_time": "2024-05-28T23:22:37.426096Z"
    }
   },
   "cell_type": "code",
   "source": "matrix = np.array([[1, 2, 3, 4], [5, 6, 7, 8], [9, 10, 11, 12], [13, 14, 15, 16]])",
   "id": "ab2a3b2f283a9bde",
   "outputs": [],
   "execution_count": 25
  },
  {
   "metadata": {
    "ExecuteTime": {
     "end_time": "2024-05-28T23:22:40.846088Z",
     "start_time": "2024-05-28T23:22:40.843485Z"
    }
   },
   "cell_type": "code",
   "source": "matrix",
   "id": "dcb5c80f2127f0ad",
   "outputs": [
    {
     "data": {
      "text/plain": [
       "array([[ 1,  2,  3,  4],\n",
       "       [ 5,  6,  7,  8],\n",
       "       [ 9, 10, 11, 12],\n",
       "       [13, 14, 15, 16]])"
      ]
     },
     "execution_count": 26,
     "metadata": {},
     "output_type": "execute_result"
    }
   ],
   "execution_count": 26
  },
  {
   "metadata": {
    "ExecuteTime": {
     "end_time": "2024-05-28T23:23:07.073160Z",
     "start_time": "2024-05-28T23:23:07.064760Z"
    }
   },
   "cell_type": "code",
   "source": "matrix[1, 1]",
   "id": "8d04fac52a85ba51",
   "outputs": [
    {
     "data": {
      "text/plain": [
       "6"
      ]
     },
     "execution_count": 28,
     "metadata": {},
     "output_type": "execute_result"
    }
   ],
   "execution_count": 28
  },
  {
   "metadata": {
    "ExecuteTime": {
     "end_time": "2024-05-28T23:26:49.647993Z",
     "start_time": "2024-05-28T23:26:49.641518Z"
    }
   },
   "cell_type": "code",
   "source": "matrix[-3, -3]",
   "id": "c464baf13fe405f1",
   "outputs": [
    {
     "data": {
      "text/plain": [
       "6"
      ]
     },
     "execution_count": 31,
     "metadata": {},
     "output_type": "execute_result"
    }
   ],
   "execution_count": 31
  },
  {
   "metadata": {
    "ExecuteTime": {
     "end_time": "2024-05-28T23:35:01.091754Z",
     "start_time": "2024-05-28T23:35:01.079892Z"
    }
   },
   "cell_type": "code",
   "source": "matrix_2 = np.array([[1, 2, 3], [4, 5, 6], [7, 8, 9]])",
   "id": "c76c357cc5b58a67",
   "outputs": [],
   "execution_count": 55
  },
  {
   "metadata": {
    "ExecuteTime": {
     "end_time": "2024-05-28T23:35:04.538321Z",
     "start_time": "2024-05-28T23:35:04.535434Z"
    }
   },
   "cell_type": "code",
   "source": "matrix_2",
   "id": "65b03db794e833c6",
   "outputs": [
    {
     "data": {
      "text/plain": [
       "array([[1, 2, 3],\n",
       "       [4, 5, 6],\n",
       "       [7, 8, 9]])"
      ]
     },
     "execution_count": 56,
     "metadata": {},
     "output_type": "execute_result"
    }
   ],
   "execution_count": 56
  },
  {
   "metadata": {
    "ExecuteTime": {
     "end_time": "2024-05-28T23:35:18.472161Z",
     "start_time": "2024-05-28T23:35:18.464860Z"
    }
   },
   "cell_type": "code",
   "source": "matrix_2[1:, 1:]",
   "id": "73a1db0fbeb54e9d",
   "outputs": [
    {
     "data": {
      "text/plain": [
       "array([[5, 6],\n",
       "       [8, 9]])"
      ]
     },
     "execution_count": 58,
     "metadata": {},
     "output_type": "execute_result"
    }
   ],
   "execution_count": 58
  },
  {
   "metadata": {
    "ExecuteTime": {
     "end_time": "2024-05-28T23:36:52.594648Z",
     "start_time": "2024-05-28T23:36:52.582661Z"
    }
   },
   "cell_type": "code",
   "source": [
    "# find the index of value 6\n",
    "np.where(matrix_2 == 6)"
   ],
   "id": "3d85bc9d2b5c86c8",
   "outputs": [
    {
     "data": {
      "text/plain": [
       "(array([1]), array([2]))"
      ]
     },
     "execution_count": 59,
     "metadata": {},
     "output_type": "execute_result"
    }
   ],
   "execution_count": 59
  },
  {
   "metadata": {
    "ExecuteTime": {
     "end_time": "2024-05-28T23:37:08.995527Z",
     "start_time": "2024-05-28T23:37:08.973881Z"
    }
   },
   "cell_type": "code",
   "source": [
    "# find the index of value 6\n",
    "np.where(matrix == 6)"
   ],
   "id": "c80c360468678ece",
   "outputs": [
    {
     "data": {
      "text/plain": [
       "(array([1]), array([1]))"
      ]
     },
     "execution_count": 60,
     "metadata": {},
     "output_type": "execute_result"
    }
   ],
   "execution_count": 60
  },
  {
   "metadata": {
    "ExecuteTime": {
     "end_time": "2024-05-28T23:38:13.090025Z",
     "start_time": "2024-05-28T23:38:13.075305Z"
    }
   },
   "cell_type": "code",
   "source": "matrix",
   "id": "8dacc465469525cd",
   "outputs": [
    {
     "data": {
      "text/plain": [
       "array([[ 1,  2,  3,  4],\n",
       "       [ 5,  6,  7,  8],\n",
       "       [ 9, 10, 11, 12],\n",
       "       [13, 14, 15, 16]])"
      ]
     },
     "execution_count": 61,
     "metadata": {},
     "output_type": "execute_result"
    }
   ],
   "execution_count": 61
  },
  {
   "metadata": {
    "ExecuteTime": {
     "end_time": "2024-05-28T23:38:56.665540Z",
     "start_time": "2024-05-28T23:38:56.654930Z"
    }
   },
   "cell_type": "code",
   "source": [
    "# slicing in 4 x 4 matrix\n",
    "matrix[1:, 1:]"
   ],
   "id": "3dedf6be81da9c0",
   "outputs": [
    {
     "data": {
      "text/plain": [
       "array([[ 6,  7,  8],\n",
       "       [10, 11, 12],\n",
       "       [14, 15, 16]])"
      ]
     },
     "execution_count": 62,
     "metadata": {},
     "output_type": "execute_result"
    }
   ],
   "execution_count": 62
  },
  {
   "metadata": {
    "ExecuteTime": {
     "end_time": "2024-05-28T23:40:45.886341Z",
     "start_time": "2024-05-28T23:40:45.879170Z"
    }
   },
   "cell_type": "code",
   "source": [
    "# select every other value in the matrix\n",
    "matrix[0::2, 0::2]"
   ],
   "id": "770fde7c0b172d7d",
   "outputs": [
    {
     "data": {
      "text/plain": [
       "array([[ 1,  3],\n",
       "       [ 9, 11]])"
      ]
     },
     "execution_count": 64,
     "metadata": {},
     "output_type": "execute_result"
    }
   ],
   "execution_count": 64
  },
  {
   "metadata": {
    "ExecuteTime": {
     "end_time": "2024-05-28T23:40:30.713658Z",
     "start_time": "2024-05-28T23:40:30.704252Z"
    }
   },
   "cell_type": "code",
   "source": "matrix",
   "id": "a085c0f6d780b46",
   "outputs": [
    {
     "data": {
      "text/plain": [
       "array([[ 1,  2,  3,  4],\n",
       "       [ 5,  6,  7,  8],\n",
       "       [ 9, 10, 11, 12],\n",
       "       [13, 14, 15, 16]])"
      ]
     },
     "execution_count": 63,
     "metadata": {},
     "output_type": "execute_result"
    }
   ],
   "execution_count": 63
  },
  {
   "metadata": {
    "ExecuteTime": {
     "end_time": "2024-05-28T23:41:45.670430Z",
     "start_time": "2024-05-28T23:41:45.663246Z"
    }
   },
   "cell_type": "code",
   "source": [
    "# get the number of rows and columns in a matrix\n",
    "matrix.shape"
   ],
   "id": "3901f16b64627dc0",
   "outputs": [
    {
     "data": {
      "text/plain": [
       "(4, 4)"
      ]
     },
     "execution_count": 65,
     "metadata": {},
     "output_type": "execute_result"
    }
   ],
   "execution_count": 65
  },
  {
   "metadata": {
    "ExecuteTime": {
     "end_time": "2024-05-28T23:41:53.089550Z",
     "start_time": "2024-05-28T23:41:53.081936Z"
    }
   },
   "cell_type": "code",
   "source": [
    "# get total number of element in a matrix\n",
    "matrix.size"
   ],
   "id": "d99a03dbe6251f62",
   "outputs": [
    {
     "data": {
      "text/plain": [
       "16"
      ]
     },
     "execution_count": 66,
     "metadata": {},
     "output_type": "execute_result"
    }
   ],
   "execution_count": 66
  },
  {
   "metadata": {
    "ExecuteTime": {
     "end_time": "2024-05-28T23:42:28.203703Z",
     "start_time": "2024-05-28T23:42:28.189654Z"
    }
   },
   "cell_type": "code",
   "source": [
    "# to get the number of dimension in a matrix\n",
    "matrix.ndim"
   ],
   "id": "e0e2de5dcacad18e",
   "outputs": [
    {
     "data": {
      "text/plain": [
       "2"
      ]
     },
     "execution_count": 67,
     "metadata": {},
     "output_type": "execute_result"
    }
   ],
   "execution_count": 67
  },
  {
   "metadata": {},
   "cell_type": "markdown",
   "source": "Dot Product of two vector",
   "id": "c459113457471f16"
  },
  {
   "metadata": {
    "ExecuteTime": {
     "end_time": "2024-05-28T23:49:58.095047Z",
     "start_time": "2024-05-28T23:49:58.073425Z"
    }
   },
   "cell_type": "code",
   "source": [
    "vector_a = np.array([1, 2, 3])\n",
    "vector_b = np.array([4, 5, 6])"
   ],
   "id": "d4dbd1f691aaa69a",
   "outputs": [],
   "execution_count": 68
  },
  {
   "metadata": {
    "ExecuteTime": {
     "end_time": "2024-05-28T23:50:08.054685Z",
     "start_time": "2024-05-28T23:50:08.047702Z"
    }
   },
   "cell_type": "code",
   "source": "np.dot(vector_a, vector_b)",
   "id": "c85e410e9d01c8f3",
   "outputs": [
    {
     "data": {
      "text/plain": [
       "32"
      ]
     },
     "execution_count": 69,
     "metadata": {},
     "output_type": "execute_result"
    }
   ],
   "execution_count": 69
  },
  {
   "metadata": {},
   "cell_type": "markdown",
   "source": "Add matrix",
   "id": "1e9e1342ba195a63"
  },
  {
   "metadata": {
    "ExecuteTime": {
     "end_time": "2024-05-28T23:51:35.378912Z",
     "start_time": "2024-05-28T23:51:35.368857Z"
    }
   },
   "cell_type": "code",
   "source": [
    "matrix_a = np.array([[1, 1, 1], [1, 1, 1], [1, 1, 2]])\n",
    "matrix_b = np.array([[1, 3, 1], [1, 3, 1], [1, 3, 8]])"
   ],
   "id": "3624349e3b8b781",
   "outputs": [],
   "execution_count": 71
  },
  {
   "metadata": {
    "ExecuteTime": {
     "end_time": "2024-05-28T23:52:15.431300Z",
     "start_time": "2024-05-28T23:52:15.424954Z"
    }
   },
   "cell_type": "code",
   "source": "np.add(matrix_a, matrix_b)",
   "id": "6cd4e84f737cd258",
   "outputs": [
    {
     "data": {
      "text/plain": [
       "array([[ 2,  4,  2],\n",
       "       [ 2,  4,  2],\n",
       "       [ 2,  4, 10]])"
      ]
     },
     "execution_count": 75,
     "metadata": {},
     "output_type": "execute_result"
    }
   ],
   "execution_count": 75
  },
  {
   "metadata": {
    "ExecuteTime": {
     "end_time": "2024-05-28T23:52:15.875272Z",
     "start_time": "2024-05-28T23:52:15.871864Z"
    }
   },
   "cell_type": "code",
   "source": "np.subtract(matrix_a, matrix_a)",
   "id": "8cc89754520b4668",
   "outputs": [
    {
     "data": {
      "text/plain": [
       "array([[0, 0, 0],\n",
       "       [0, 0, 0],\n",
       "       [0, 0, 0]])"
      ]
     },
     "execution_count": 76,
     "metadata": {},
     "output_type": "execute_result"
    }
   ],
   "execution_count": 76
  },
  {
   "metadata": {},
   "cell_type": "markdown",
   "source": "Add a value to a np matrix",
   "id": "e2f12ae22a24c920"
  },
  {
   "metadata": {
    "ExecuteTime": {
     "end_time": "2024-05-29T00:06:05.525950Z",
     "start_time": "2024-05-29T00:06:05.517161Z"
    }
   },
   "cell_type": "code",
   "source": "np.array([[1, 2, 3], [4, 5, 6], [7, 8, 9]]) + 100",
   "id": "48b4efbc4043ecbb",
   "outputs": [
    {
     "data": {
      "text/plain": [
       "array([[101, 102, 103],\n",
       "       [104, 105, 106],\n",
       "       [107, 108, 109]])"
      ]
     },
     "execution_count": 86,
     "metadata": {},
     "output_type": "execute_result"
    }
   ],
   "execution_count": 86
  },
  {
   "metadata": {},
   "cell_type": "markdown",
   "source": "Matrix Multiplication",
   "id": "bce0280e543407ea"
  },
  {
   "metadata": {
    "ExecuteTime": {
     "end_time": "2024-05-28T23:55:48.761145Z",
     "start_time": "2024-05-28T23:55:48.755395Z"
    }
   },
   "cell_type": "code",
   "source": [
    "a = [[1, 2], [2, 3]]\n",
    "b = [[3, 5], [5, 9]]"
   ],
   "id": "e2df60a92daeab7",
   "outputs": [],
   "execution_count": 77
  },
  {
   "metadata": {
    "ExecuteTime": {
     "end_time": "2024-05-28T23:56:09.158502Z",
     "start_time": "2024-05-28T23:56:09.152664Z"
    }
   },
   "cell_type": "code",
   "source": [
    "c = np.matmul(a, b)\n",
    "\n",
    "c"
   ],
   "id": "e1ee1536c7df9655",
   "outputs": [
    {
     "data": {
      "text/plain": [
       "array([[13, 23],\n",
       "       [21, 37]])"
      ]
     },
     "execution_count": 80,
     "metadata": {},
     "output_type": "execute_result"
    }
   ],
   "execution_count": 80
  },
  {
   "metadata": {},
   "cell_type": "code",
   "outputs": [],
   "execution_count": null,
   "source": [
    "# Challenge question: Write an algorithm that check if two matrices can be multiplied\n",
    "# TODO:"
   ],
   "id": "357215b810b1591e"
  },
  {
   "metadata": {},
   "cell_type": "markdown",
   "source": [
    "## Python Lambda\n",
    "\n",
    "Lambda is an small anonymous function"
   ],
   "id": "b0bd2d7e647d20b3"
  },
  {
   "metadata": {
    "ExecuteTime": {
     "end_time": "2024-05-29T00:00:51.838398Z",
     "start_time": "2024-05-29T00:00:51.833569Z"
    }
   },
   "cell_type": "code",
   "source": [
    "x = lambda a: 15 + a\n",
    "\n",
    "print(x(10))"
   ],
   "id": "1f243e3b49435c05",
   "outputs": [
    {
     "name": "stdout",
     "output_type": "stream",
     "text": [
      "25\n"
     ]
    }
   ],
   "execution_count": 84
  },
  {
   "metadata": {
    "ExecuteTime": {
     "end_time": "2024-05-29T00:05:14.426788Z",
     "start_time": "2024-05-29T00:05:14.397767Z"
    }
   },
   "cell_type": "code",
   "source": [
    "x = lambda a, b, c: a * b * c\n",
    "\n",
    "print(x(10, 20, 30))"
   ],
   "id": "a830b2aa392b02d8",
   "outputs": [
    {
     "name": "stdout",
     "output_type": "stream",
     "text": [
      "6000\n"
     ]
    }
   ],
   "execution_count": 85
  },
  {
   "metadata": {},
   "cell_type": "markdown",
   "source": "Adding Operations to Elements",
   "id": "7f97658c7aa3af07"
  },
  {
   "metadata": {
    "ExecuteTime": {
     "end_time": "2024-05-29T00:09:34.128648Z",
     "start_time": "2024-05-29T00:09:34.122166Z"
    }
   },
   "cell_type": "code",
   "source": [
    "matrix = np.array([[1, 2, 3], [4, 5, 6], [7, 8, 9]])\n",
    "print(matrix, '\\n')\n",
    "\n",
    "add_100 = lambda i: i + 100\n",
    "\n",
    "vectorized_100 = np.vectorize(add_100)\n",
    "\n",
    "print(add_100, '\\n')\n",
    "print(vectorized_100(matrix), '\\n')"
   ],
   "id": "6898e854dcd00f0a",
   "outputs": [
    {
     "name": "stdout",
     "output_type": "stream",
     "text": [
      "[[1 2 3]\n",
      " [4 5 6]\n",
      " [7 8 9]] \n",
      "\n",
      "<function <lambda> at 0x144045760> \n",
      "\n",
      "[[101 102 103]\n",
      " [104 105 106]\n",
      " [107 108 109]] \n",
      "\n"
     ]
    }
   ],
   "execution_count": 88
  },
  {
   "metadata": {},
   "cell_type": "markdown",
   "source": "np.vectorize is used to add a function to a numpy matrix",
   "id": "a00a9dda0adedd0d"
  },
  {
   "metadata": {},
   "cell_type": "markdown",
   "source": [
    "## lambda synthax\n",
    "\n",
    "<i>function_name</i> = lambda <i>parameter</i> : <i>expression</i>"
   ],
   "id": "a58bb1d7cff2bcc4"
  },
  {
   "metadata": {},
   "cell_type": "markdown",
   "source": "Finding Maximum and Minimum",
   "id": "e88b46c82762b6cc"
  },
  {
   "metadata": {
    "ExecuteTime": {
     "end_time": "2024-05-29T00:18:41.385933Z",
     "start_time": "2024-05-29T00:18:41.378137Z"
    }
   },
   "cell_type": "code",
   "source": [
    "matrix = np.array([[1, 2, 3], [4, 5, 6], [7, 8, 9]])\n",
    "matrix"
   ],
   "id": "469302bfc7b7513f",
   "outputs": [
    {
     "data": {
      "text/plain": [
       "array([[1, 2, 3],\n",
       "       [4, 5, 6],\n",
       "       [7, 8, 9]])"
      ]
     },
     "execution_count": 90,
     "metadata": {},
     "output_type": "execute_result"
    }
   ],
   "execution_count": 90
  },
  {
   "metadata": {
    "ExecuteTime": {
     "end_time": "2024-05-29T00:18:54.820620Z",
     "start_time": "2024-05-29T00:18:54.796588Z"
    }
   },
   "cell_type": "code",
   "source": "np.max(matrix)",
   "id": "641c9be86e5f5321",
   "outputs": [
    {
     "data": {
      "text/plain": [
       "9"
      ]
     },
     "execution_count": 91,
     "metadata": {},
     "output_type": "execute_result"
    }
   ],
   "execution_count": 91
  },
  {
   "metadata": {
    "ExecuteTime": {
     "end_time": "2024-05-29T00:18:59.025073Z",
     "start_time": "2024-05-29T00:18:59.009098Z"
    }
   },
   "cell_type": "code",
   "source": "np.min(matrix)",
   "id": "487f1467144f2f2d",
   "outputs": [
    {
     "data": {
      "text/plain": [
       "1"
      ]
     },
     "execution_count": 92,
     "metadata": {},
     "output_type": "execute_result"
    }
   ],
   "execution_count": 92
  },
  {
   "metadata": {
    "ExecuteTime": {
     "end_time": "2024-05-29T00:19:19.829842Z",
     "start_time": "2024-05-29T00:19:19.823768Z"
    }
   },
   "cell_type": "code",
   "source": "np.max(matrix, axis=0)",
   "id": "645b09b704fd22d0",
   "outputs": [
    {
     "data": {
      "text/plain": [
       "array([7, 8, 9])"
      ]
     },
     "execution_count": 93,
     "metadata": {},
     "output_type": "execute_result"
    }
   ],
   "execution_count": 93
  },
  {
   "metadata": {
    "ExecuteTime": {
     "end_time": "2024-05-29T00:19:49.526505Z",
     "start_time": "2024-05-29T00:19:49.521392Z"
    }
   },
   "cell_type": "code",
   "source": "np.max(matrix, axis=1)",
   "id": "e82b3b3186a851ed",
   "outputs": [
    {
     "data": {
      "text/plain": [
       "array([3, 6, 9])"
      ]
     },
     "execution_count": 94,
     "metadata": {},
     "output_type": "execute_result"
    }
   ],
   "execution_count": 94
  },
  {
   "metadata": {
    "ExecuteTime": {
     "end_time": "2024-05-29T00:53:13.781055Z",
     "start_time": "2024-05-29T00:53:13.748415Z"
    }
   },
   "cell_type": "code",
   "source": "matrix",
   "id": "eb1d297082bb4aec",
   "outputs": [
    {
     "data": {
      "text/plain": [
       "array([[1, 2, 3],\n",
       "       [4, 5, 6],\n",
       "       [7, 8, 9]])"
      ]
     },
     "execution_count": 107,
     "metadata": {},
     "output_type": "execute_result"
    }
   ],
   "execution_count": 107
  },
  {
   "metadata": {
    "ExecuteTime": {
     "end_time": "2024-05-29T00:53:23.112359Z",
     "start_time": "2024-05-29T00:53:23.104474Z"
    }
   },
   "cell_type": "code",
   "source": [
    "# get mean of matrix\n",
    "np.mean(matrix)"
   ],
   "id": "e1998dbcbfa941d3",
   "outputs": [
    {
     "data": {
      "text/plain": [
       "5.0"
      ]
     },
     "execution_count": 108,
     "metadata": {},
     "output_type": "execute_result"
    }
   ],
   "execution_count": 108
  },
  {
   "metadata": {
    "ExecuteTime": {
     "end_time": "2024-05-29T00:53:44.963207Z",
     "start_time": "2024-05-29T00:53:44.955180Z"
    }
   },
   "cell_type": "code",
   "source": [
    "# get variance of matrix\n",
    "np.var(matrix)"
   ],
   "id": "2bea0a8c4ea52865",
   "outputs": [
    {
     "data": {
      "text/plain": [
       "6.666666666666667"
      ]
     },
     "execution_count": 109,
     "metadata": {},
     "output_type": "execute_result"
    }
   ],
   "execution_count": 109
  },
  {
   "metadata": {
    "ExecuteTime": {
     "end_time": "2024-05-29T00:54:22.747036Z",
     "start_time": "2024-05-29T00:54:22.740854Z"
    }
   },
   "cell_type": "code",
   "source": [
    "# get standard deviation of matrix\n",
    "np.std(matrix)"
   ],
   "id": "408137fda400408d",
   "outputs": [
    {
     "data": {
      "text/plain": [
       "2.581988897471611"
      ]
     },
     "execution_count": 110,
     "metadata": {},
     "output_type": "execute_result"
    }
   ],
   "execution_count": 110
  },
  {
   "metadata": {},
   "cell_type": "markdown",
   "source": "using the axis arguments",
   "id": "57e8ab0a4923c639"
  },
  {
   "metadata": {
    "ExecuteTime": {
     "end_time": "2024-05-29T00:55:05.692875Z",
     "start_time": "2024-05-29T00:55:05.684971Z"
    }
   },
   "cell_type": "code",
   "source": "np.mean(matrix, axis=0)",
   "id": "ef93cff5432f6721",
   "outputs": [
    {
     "data": {
      "text/plain": [
       "array([4., 5., 6.])"
      ]
     },
     "execution_count": 111,
     "metadata": {},
     "output_type": "execute_result"
    }
   ],
   "execution_count": 111
  },
  {
   "metadata": {},
   "cell_type": "markdown",
   "source": "Generating random values",
   "id": "a5ec8e90e7ee865f"
  },
  {
   "metadata": {
    "ExecuteTime": {
     "end_time": "2024-05-29T01:07:40.750517Z",
     "start_time": "2024-05-29T01:07:40.742764Z"
    }
   },
   "cell_type": "code",
   "source": [
    "a = np.random.randint(0, 1100, 3000)\n",
    "\n",
    "len(a)"
   ],
   "id": "ba572310ffd4b846",
   "outputs": [
    {
     "data": {
      "text/plain": [
       "3000"
      ]
     },
     "execution_count": 125,
     "metadata": {},
     "output_type": "execute_result"
    }
   ],
   "execution_count": 125
  },
  {
   "metadata": {
    "ExecuteTime": {
     "end_time": "2024-05-29T01:09:47.025344Z",
     "start_time": "2024-05-29T01:09:46.950161Z"
    }
   },
   "cell_type": "code",
   "source": [
    "import plotly.express as px\n",
    "\n",
    "px.histogram(a, nbins=100)"
   ],
   "id": "9764c0a94ec7390d",
   "outputs": [
    {
     "data": {
      "application/vnd.plotly.v1+json": {
       "data": [
        {
         "alignmentgroup": "True",
         "bingroup": "x",
         "hovertemplate": "variable=0<br>value=%{x}<br>count=%{y}<extra></extra>",
         "legendgroup": "0",
         "marker": {
          "color": "#636efa",
          "pattern": {
           "shape": ""
          }
         },
         "name": "0",
         "nbinsx": 100,
         "offsetgroup": "0",
         "orientation": "v",
         "showlegend": true,
         "x": [
          486,
          529,
          520,
          786,
          372,
          962,
          837,
          734,
          501,
          307,
          80,
          811,
          213,
          560,
          1096,
          1061,
          232,
          682,
          624,
          239,
          106,
          1044,
          29,
          8,
          1049,
          987,
          718,
          869,
          42,
          253,
          138,
          284,
          390,
          1018,
          656,
          174,
          104,
          651,
          920,
          703,
          571,
          365,
          27,
          233,
          820,
          449,
          1060,
          427,
          383,
          1020,
          1041,
          989,
          122,
          33,
          177,
          517,
          481,
          617,
          748,
          513,
          969,
          967,
          69,
          605,
          334,
          458,
          187,
          352,
          200,
          31,
          25,
          443,
          371,
          396,
          596,
          133,
          137,
          763,
          79,
          392,
          660,
          866,
          152,
          960,
          902,
          881,
          642,
          303,
          787,
          917,
          937,
          286,
          211,
          202,
          654,
          884,
          306,
          89,
          449,
          439,
          768,
          108,
          862,
          27,
          374,
          574,
          500,
          715,
          727,
          342,
          930,
          770,
          7,
          739,
          702,
          1093,
          955,
          478,
          68,
          68,
          971,
          503,
          978,
          477,
          329,
          13,
          953,
          178,
          1039,
          330,
          617,
          193,
          787,
          628,
          585,
          773,
          325,
          872,
          958,
          603,
          28,
          770,
          1041,
          562,
          804,
          976,
          407,
          282,
          526,
          169,
          863,
          263,
          228,
          416,
          798,
          316,
          317,
          444,
          26,
          3,
          764,
          231,
          765,
          565,
          629,
          51,
          239,
          211,
          341,
          1071,
          779,
          427,
          735,
          230,
          907,
          788,
          745,
          510,
          1044,
          31,
          638,
          592,
          328,
          422,
          348,
          946,
          253,
          886,
          254,
          394,
          266,
          72,
          778,
          556,
          107,
          455,
          1057,
          166,
          6,
          970,
          38,
          140,
          455,
          816,
          816,
          202,
          865,
          69,
          703,
          580,
          235,
          942,
          535,
          953,
          552,
          737,
          29,
          25,
          486,
          175,
          890,
          753,
          761,
          1019,
          51,
          367,
          933,
          821,
          582,
          111,
          700,
          339,
          921,
          779,
          410,
          79,
          53,
          851,
          94,
          245,
          43,
          17,
          1034,
          316,
          856,
          546,
          943,
          414,
          755,
          884,
          374,
          1087,
          586,
          131,
          168,
          22,
          219,
          824,
          450,
          591,
          803,
          160,
          1035,
          494,
          798,
          329,
          495,
          290,
          847,
          778,
          957,
          186,
          513,
          934,
          142,
          352,
          134,
          128,
          947,
          603,
          873,
          976,
          821,
          731,
          135,
          1086,
          352,
          132,
          605,
          206,
          120,
          146,
          841,
          499,
          964,
          612,
          76,
          349,
          413,
          1073,
          515,
          912,
          664,
          1019,
          856,
          977,
          740,
          898,
          844,
          614,
          372,
          285,
          1006,
          1069,
          190,
          923,
          1073,
          554,
          496,
          278,
          503,
          417,
          1019,
          704,
          696,
          83,
          199,
          773,
          641,
          266,
          927,
          1024,
          4,
          73,
          103,
          812,
          144,
          693,
          460,
          931,
          122,
          657,
          234,
          482,
          1089,
          1053,
          19,
          929,
          846,
          233,
          1067,
          972,
          403,
          712,
          566,
          1029,
          366,
          781,
          857,
          558,
          35,
          1016,
          71,
          601,
          553,
          929,
          615,
          834,
          40,
          283,
          581,
          659,
          666,
          479,
          875,
          639,
          150,
          712,
          719,
          455,
          532,
          880,
          529,
          103,
          368,
          370,
          507,
          1074,
          802,
          848,
          839,
          134,
          878,
          969,
          847,
          405,
          87,
          1073,
          839,
          619,
          564,
          804,
          511,
          499,
          728,
          792,
          113,
          375,
          868,
          37,
          1040,
          208,
          341,
          407,
          8,
          507,
          620,
          672,
          182,
          830,
          1095,
          701,
          554,
          201,
          955,
          176,
          49,
          174,
          399,
          791,
          873,
          201,
          6,
          714,
          933,
          276,
          362,
          896,
          608,
          254,
          828,
          29,
          352,
          369,
          375,
          899,
          855,
          408,
          758,
          880,
          161,
          769,
          320,
          47,
          583,
          1023,
          525,
          859,
          927,
          621,
          130,
          311,
          942,
          857,
          95,
          1040,
          257,
          451,
          545,
          608,
          367,
          1098,
          13,
          717,
          103,
          724,
          37,
          284,
          618,
          542,
          346,
          619,
          255,
          851,
          153,
          430,
          146,
          628,
          117,
          928,
          684,
          625,
          886,
          1034,
          234,
          140,
          801,
          145,
          375,
          518,
          379,
          1074,
          409,
          77,
          401,
          874,
          86,
          485,
          372,
          240,
          1078,
          526,
          95,
          906,
          199,
          322,
          607,
          436,
          987,
          618,
          346,
          944,
          682,
          781,
          670,
          674,
          782,
          674,
          931,
          1000,
          390,
          449,
          822,
          1079,
          176,
          179,
          25,
          1034,
          417,
          1031,
          1083,
          413,
          356,
          581,
          534,
          925,
          398,
          304,
          782,
          687,
          747,
          197,
          170,
          271,
          168,
          39,
          1012,
          846,
          506,
          514,
          1097,
          710,
          808,
          664,
          329,
          204,
          1046,
          719,
          108,
          851,
          824,
          983,
          89,
          1031,
          81,
          570,
          166,
          354,
          738,
          31,
          442,
          632,
          128,
          649,
          680,
          914,
          1048,
          1035,
          721,
          354,
          255,
          861,
          1080,
          126,
          27,
          674,
          41,
          605,
          627,
          527,
          285,
          911,
          173,
          16,
          924,
          310,
          114,
          563,
          600,
          891,
          312,
          126,
          675,
          559,
          57,
          212,
          838,
          535,
          478,
          807,
          400,
          568,
          78,
          984,
          572,
          815,
          542,
          923,
          168,
          127,
          153,
          209,
          803,
          821,
          1005,
          626,
          799,
          826,
          738,
          407,
          1034,
          508,
          907,
          39,
          239,
          767,
          900,
          392,
          1038,
          987,
          408,
          421,
          246,
          113,
          381,
          937,
          53,
          898,
          336,
          141,
          240,
          946,
          952,
          649,
          621,
          561,
          180,
          337,
          296,
          446,
          173,
          850,
          29,
          98,
          150,
          1011,
          1028,
          181,
          1001,
          845,
          593,
          241,
          220,
          941,
          296,
          1078,
          302,
          758,
          275,
          1031,
          564,
          923,
          116,
          257,
          598,
          152,
          997,
          1027,
          80,
          549,
          259,
          694,
          1031,
          654,
          1077,
          314,
          84,
          296,
          670,
          247,
          764,
          345,
          802,
          481,
          196,
          772,
          9,
          258,
          673,
          932,
          933,
          599,
          577,
          943,
          158,
          239,
          559,
          274,
          625,
          676,
          929,
          1072,
          835,
          180,
          104,
          40,
          537,
          1080,
          192,
          862,
          366,
          325,
          161,
          267,
          907,
          87,
          1054,
          398,
          996,
          583,
          385,
          1081,
          55,
          1006,
          902,
          1062,
          337,
          215,
          1057,
          57,
          459,
          456,
          882,
          894,
          208,
          693,
          928,
          284,
          441,
          669,
          571,
          359,
          773,
          836,
          73,
          935,
          945,
          6,
          628,
          71,
          887,
          634,
          34,
          858,
          220,
          781,
          144,
          314,
          728,
          384,
          415,
          415,
          648,
          509,
          688,
          671,
          941,
          578,
          942,
          279,
          633,
          85,
          229,
          191,
          297,
          589,
          926,
          411,
          604,
          263,
          220,
          424,
          940,
          128,
          212,
          60,
          831,
          674,
          1045,
          983,
          927,
          641,
          676,
          35,
          769,
          457,
          976,
          466,
          877,
          455,
          140,
          48,
          169,
          701,
          239,
          205,
          13,
          121,
          326,
          436,
          225,
          245,
          355,
          118,
          415,
          482,
          1090,
          363,
          830,
          814,
          888,
          523,
          206,
          647,
          327,
          779,
          85,
          317,
          509,
          669,
          1068,
          14,
          431,
          853,
          487,
          313,
          223,
          416,
          588,
          959,
          535,
          1029,
          570,
          433,
          617,
          247,
          591,
          699,
          240,
          433,
          953,
          3,
          270,
          396,
          516,
          439,
          22,
          653,
          336,
          1077,
          130,
          78,
          567,
          84,
          7,
          889,
          1044,
          258,
          933,
          1051,
          147,
          415,
          144,
          783,
          329,
          594,
          765,
          367,
          42,
          33,
          466,
          823,
          873,
          486,
          60,
          1013,
          706,
          649,
          1050,
          44,
          246,
          295,
          845,
          1043,
          1099,
          796,
          757,
          591,
          1043,
          716,
          695,
          1069,
          162,
          1053,
          622,
          249,
          464,
          901,
          274,
          737,
          1053,
          991,
          570,
          456,
          279,
          918,
          712,
          286,
          987,
          873,
          727,
          116,
          1039,
          813,
          241,
          1097,
          256,
          471,
          716,
          127,
          636,
          205,
          251,
          4,
          951,
          265,
          682,
          663,
          16,
          661,
          619,
          585,
          701,
          376,
          149,
          464,
          189,
          1044,
          763,
          502,
          273,
          737,
          515,
          263,
          17,
          993,
          576,
          50,
          138,
          175,
          606,
          426,
          472,
          36,
          988,
          782,
          443,
          625,
          136,
          524,
          697,
          950,
          392,
          688,
          820,
          178,
          163,
          936,
          782,
          188,
          136,
          524,
          390,
          291,
          863,
          57,
          368,
          785,
          291,
          878,
          203,
          23,
          189,
          602,
          683,
          263,
          755,
          266,
          370,
          983,
          573,
          741,
          608,
          34,
          777,
          635,
          457,
          624,
          1066,
          218,
          696,
          292,
          123,
          618,
          190,
          590,
          328,
          806,
          34,
          476,
          896,
          618,
          217,
          475,
          588,
          312,
          559,
          29,
          653,
          1091,
          837,
          992,
          91,
          1068,
          48,
          884,
          991,
          635,
          515,
          107,
          231,
          960,
          1079,
          358,
          741,
          342,
          734,
          685,
          698,
          836,
          413,
          1067,
          34,
          530,
          309,
          221,
          865,
          985,
          919,
          712,
          683,
          36,
          48,
          461,
          495,
          430,
          687,
          616,
          546,
          48,
          545,
          275,
          982,
          143,
          831,
          974,
          459,
          203,
          822,
          1014,
          39,
          195,
          567,
          43,
          383,
          95,
          8,
          889,
          1032,
          81,
          949,
          995,
          545,
          979,
          181,
          440,
          427,
          972,
          535,
          106,
          430,
          389,
          931,
          1092,
          509,
          751,
          1070,
          658,
          473,
          1003,
          901,
          1050,
          221,
          862,
          800,
          1015,
          782,
          1039,
          293,
          284,
          417,
          495,
          568,
          660,
          479,
          463,
          328,
          806,
          321,
          682,
          121,
          529,
          80,
          708,
          262,
          484,
          993,
          662,
          263,
          1068,
          225,
          413,
          499,
          937,
          55,
          866,
          905,
          57,
          14,
          281,
          513,
          443,
          762,
          357,
          773,
          377,
          609,
          671,
          635,
          922,
          934,
          359,
          491,
          452,
          534,
          200,
          470,
          478,
          165,
          1002,
          349,
          215,
          27,
          864,
          597,
          492,
          1044,
          462,
          429,
          845,
          63,
          535,
          965,
          896,
          126,
          481,
          193,
          421,
          426,
          375,
          184,
          281,
          1046,
          520,
          354,
          1038,
          88,
          1025,
          1024,
          835,
          452,
          545,
          677,
          1000,
          1071,
          906,
          122,
          216,
          1076,
          14,
          1000,
          232,
          884,
          107,
          570,
          255,
          462,
          917,
          95,
          766,
          1092,
          996,
          499,
          61,
          1033,
          575,
          881,
          28,
          668,
          842,
          811,
          1002,
          164,
          759,
          135,
          984,
          510,
          962,
          397,
          18,
          270,
          539,
          902,
          163,
          295,
          90,
          281,
          543,
          188,
          1020,
          832,
          419,
          781,
          887,
          313,
          1077,
          85,
          983,
          811,
          687,
          906,
          861,
          257,
          382,
          694,
          985,
          399,
          1017,
          724,
          357,
          66,
          787,
          315,
          660,
          466,
          165,
          567,
          480,
          979,
          730,
          279,
          1077,
          972,
          750,
          93,
          945,
          37,
          1069,
          968,
          350,
          793,
          487,
          0,
          399,
          148,
          1002,
          35,
          470,
          766,
          219,
          447,
          299,
          207,
          507,
          707,
          376,
          512,
          166,
          538,
          636,
          738,
          912,
          31,
          403,
          854,
          725,
          415,
          970,
          826,
          860,
          869,
          634,
          679,
          5,
          985,
          462,
          825,
          270,
          950,
          811,
          310,
          382,
          797,
          128,
          393,
          218,
          995,
          635,
          880,
          674,
          596,
          880,
          474,
          452,
          872,
          515,
          1093,
          227,
          869,
          658,
          582,
          186,
          985,
          852,
          183,
          250,
          791,
          430,
          667,
          439,
          143,
          1010,
          947,
          2,
          702,
          957,
          485,
          832,
          839,
          501,
          416,
          390,
          510,
          988,
          921,
          941,
          117,
          282,
          1086,
          377,
          894,
          349,
          828,
          634,
          594,
          838,
          252,
          655,
          92,
          889,
          494,
          872,
          883,
          1042,
          1049,
          796,
          973,
          633,
          699,
          1011,
          130,
          220,
          47,
          597,
          827,
          294,
          983,
          248,
          391,
          729,
          623,
          772,
          715,
          840,
          1087,
          356,
          641,
          704,
          936,
          126,
          1019,
          313,
          827,
          460,
          27,
          161,
          1035,
          16,
          812,
          50,
          537,
          1017,
          537,
          1012,
          221,
          48,
          128,
          74,
          283,
          154,
          1063,
          541,
          1037,
          204,
          66,
          878,
          71,
          79,
          814,
          931,
          132,
          224,
          39,
          1053,
          556,
          1002,
          21,
          697,
          158,
          121,
          575,
          461,
          338,
          137,
          524,
          238,
          909,
          839,
          863,
          74,
          548,
          887,
          450,
          522,
          1025,
          552,
          521,
          1098,
          1090,
          382,
          604,
          533,
          891,
          992,
          258,
          525,
          42,
          136,
          25,
          52,
          393,
          161,
          672,
          488,
          707,
          324,
          469,
          47,
          962,
          774,
          1043,
          378,
          745,
          583,
          599,
          66,
          1080,
          82,
          389,
          186,
          774,
          423,
          299,
          541,
          175,
          826,
          20,
          825,
          836,
          646,
          733,
          1055,
          350,
          1082,
          1069,
          14,
          304,
          1086,
          324,
          37,
          986,
          767,
          788,
          173,
          936,
          150,
          124,
          211,
          919,
          164,
          346,
          749,
          210,
          883,
          596,
          478,
          129,
          422,
          1096,
          341,
          304,
          331,
          715,
          1094,
          216,
          46,
          379,
          614,
          429,
          1033,
          969,
          879,
          107,
          1035,
          653,
          776,
          411,
          513,
          360,
          639,
          611,
          11,
          1076,
          674,
          611,
          224,
          498,
          80,
          273,
          658,
          363,
          692,
          365,
          881,
          250,
          408,
          68,
          50,
          155,
          1092,
          934,
          258,
          768,
          388,
          310,
          475,
          878,
          15,
          454,
          980,
          49,
          785,
          505,
          287,
          908,
          803,
          300,
          698,
          976,
          423,
          1053,
          422,
          496,
          978,
          941,
          123,
          492,
          973,
          1081,
          172,
          813,
          132,
          287,
          890,
          1025,
          618,
          835,
          1082,
          7,
          650,
          298,
          594,
          1073,
          532,
          610,
          785,
          245,
          76,
          445,
          382,
          946,
          976,
          23,
          557,
          87,
          505,
          884,
          205,
          552,
          175,
          1038,
          419,
          149,
          370,
          1061,
          107,
          303,
          22,
          1068,
          351,
          58,
          780,
          340,
          437,
          473,
          416,
          323,
          1031,
          725,
          842,
          651,
          1085,
          344,
          328,
          864,
          788,
          1060,
          640,
          1058,
          414,
          347,
          632,
          1050,
          405,
          672,
          890,
          633,
          183,
          332,
          991,
          862,
          214,
          785,
          545,
          1012,
          771,
          160,
          632,
          992,
          232,
          509,
          1039,
          662,
          640,
          844,
          936,
          23,
          360,
          200,
          597,
          297,
          986,
          820,
          1009,
          922,
          425,
          269,
          280,
          742,
          171,
          530,
          1036,
          37,
          326,
          951,
          938,
          455,
          623,
          355,
          700,
          123,
          228,
          989,
          689,
          1001,
          774,
          92,
          168,
          236,
          845,
          837,
          655,
          499,
          22,
          685,
          1051,
          484,
          596,
          691,
          239,
          989,
          480,
          707,
          249,
          161,
          280,
          650,
          649,
          449,
          622,
          916,
          958,
          963,
          190,
          888,
          711,
          408,
          425,
          162,
          538,
          697,
          170,
          799,
          132,
          235,
          1026,
          852,
          594,
          537,
          954,
          463,
          961,
          908,
          317,
          253,
          178,
          178,
          776,
          258,
          1027,
          507,
          886,
          836,
          406,
          228,
          758,
          152,
          234,
          144,
          620,
          473,
          530,
          514,
          450,
          9,
          335,
          44,
          310,
          514,
          713,
          636,
          339,
          292,
          748,
          169,
          474,
          129,
          294,
          906,
          435,
          113,
          542,
          871,
          728,
          22,
          913,
          259,
          228,
          35,
          493,
          471,
          589,
          696,
          545,
          217,
          1003,
          179,
          3,
          963,
          26,
          758,
          226,
          337,
          495,
          633,
          234,
          829,
          652,
          186,
          50,
          318,
          1013,
          162,
          50,
          876,
          349,
          284,
          949,
          514,
          910,
          1070,
          986,
          537,
          151,
          719,
          694,
          754,
          1011,
          68,
          218,
          735,
          638,
          268,
          406,
          286,
          550,
          789,
          238,
          514,
          999,
          721,
          763,
          952,
          374,
          215,
          668,
          0,
          248,
          401,
          131,
          498,
          1079,
          537,
          783,
          986,
          629,
          50,
          65,
          849,
          429,
          519,
          608,
          538,
          931,
          470,
          783,
          774,
          928,
          700,
          1087,
          161,
          927,
          297,
          14,
          132,
          861,
          310,
          4,
          1040,
          551,
          605,
          825,
          615,
          475,
          773,
          952,
          778,
          739,
          720,
          461,
          684,
          324,
          16,
          614,
          585,
          711,
          914,
          875,
          301,
          626,
          131,
          777,
          587,
          46,
          394,
          832,
          901,
          203,
          387,
          1074,
          413,
          284,
          868,
          719,
          98,
          981,
          526,
          583,
          58,
          792,
          881,
          1061,
          437,
          585,
          521,
          825,
          113,
          175,
          35,
          702,
          867,
          320,
          232,
          919,
          842,
          61,
          1087,
          678,
          763,
          56,
          1041,
          750,
          752,
          826,
          250,
          529,
          1048,
          77,
          779,
          853,
          620,
          146,
          1068,
          597,
          690,
          777,
          12,
          308,
          946,
          857,
          1060,
          260,
          1006,
          801,
          211,
          851,
          11,
          359,
          322,
          439,
          231,
          193,
          152,
          651,
          580,
          825,
          374,
          1096,
          1051,
          319,
          247,
          502,
          763,
          1088,
          534,
          684,
          293,
          799,
          195,
          43,
          182,
          219,
          671,
          99,
          141,
          502,
          1041,
          156,
          966,
          28,
          141,
          586,
          1083,
          147,
          1004,
          549,
          661,
          1063,
          114,
          141,
          949,
          821,
          875,
          986,
          1042,
          617,
          266,
          786,
          731,
          638,
          980,
          650,
          593,
          540,
          134,
          663,
          415,
          432,
          844,
          134,
          780,
          146,
          649,
          61,
          697,
          689,
          334,
          221,
          800,
          128,
          12,
          875,
          933,
          1046,
          90,
          163,
          300,
          84,
          596,
          186,
          3,
          940,
          313,
          50,
          306,
          685,
          884,
          942,
          416,
          684,
          829,
          781,
          694,
          598,
          1007,
          968,
          594,
          656,
          919,
          144,
          727,
          11,
          960,
          920,
          713,
          451,
          218,
          123,
          1071,
          1017,
          455,
          808,
          211,
          555,
          351,
          708,
          671,
          948,
          679,
          670,
          24,
          71,
          410,
          880,
          378,
          446,
          526,
          937,
          176,
          975,
          848,
          306,
          106,
          141,
          756,
          780,
          205,
          444,
          251,
          468,
          904,
          455,
          1082,
          318,
          971,
          736,
          617,
          445,
          27,
          812,
          559,
          848,
          727,
          75,
          981,
          667,
          738,
          153,
          456,
          635,
          1024,
          975,
          281,
          1046,
          787,
          464,
          913,
          1033,
          870,
          670,
          523,
          295,
          812,
          859,
          626,
          153,
          263,
          997,
          553,
          857,
          934,
          92,
          438,
          470,
          783,
          675,
          930,
          134,
          219,
          611,
          598,
          821,
          733,
          739,
          253,
          19,
          886,
          206,
          10,
          824,
          245,
          130,
          189,
          956,
          465,
          541,
          460,
          799,
          651,
          317,
          713,
          125,
          1080,
          372,
          569,
          509,
          444,
          889,
          773,
          401,
          51,
          541,
          762,
          57,
          989,
          100,
          524,
          293,
          1056,
          847,
          487,
          150,
          406,
          778,
          418,
          899,
          671,
          286,
          636,
          827,
          262,
          700,
          933,
          882,
          885,
          77,
          1007,
          645,
          495,
          234,
          1049,
          1092,
          336,
          288,
          431,
          774,
          911,
          196,
          262,
          1079,
          148,
          152,
          891,
          920,
          862,
          297,
          567,
          1096,
          933,
          599,
          24,
          904,
          581,
          181,
          50,
          95,
          617,
          482,
          621,
          601,
          738,
          697,
          328,
          419,
          109,
          459,
          296,
          803,
          590,
          510,
          1035,
          508,
          499,
          0,
          125,
          102,
          995,
          508,
          609,
          248,
          583,
          761,
          506,
          427,
          624,
          684,
          0,
          89,
          893,
          80,
          213,
          838,
          723,
          667,
          967,
          1039,
          733,
          618,
          747,
          717,
          14,
          272,
          260,
          105,
          56,
          236,
          30,
          735,
          838,
          724,
          844,
          517,
          436,
          869,
          414,
          11,
          997,
          416,
          1087,
          31,
          247,
          598,
          810,
          96,
          331,
          364,
          1022,
          833,
          904,
          376,
          197,
          846,
          124,
          72,
          313,
          226,
          313,
          45,
          871,
          199,
          1026,
          781,
          455,
          403,
          837,
          43,
          827,
          28,
          411,
          750,
          387,
          575,
          940,
          667,
          1041,
          914,
          996,
          1034,
          602,
          963,
          370,
          975,
          433,
          867,
          1099,
          629,
          667,
          553,
          255,
          877,
          691,
          843,
          633,
          229,
          254,
          408,
          428,
          854,
          408,
          32,
          380,
          586,
          120,
          793,
          7,
          135,
          744,
          310,
          589,
          87,
          203,
          1086,
          804,
          552,
          519,
          532,
          1090,
          399,
          303,
          895,
          65,
          658,
          564,
          606,
          1042,
          53,
          290,
          860,
          503,
          368,
          921,
          351,
          1051,
          692,
          752,
          114,
          1094,
          542,
          835,
          242,
          694,
          1023,
          115,
          384,
          741,
          1059,
          46,
          671,
          137,
          360,
          118,
          765,
          195,
          515,
          493,
          759,
          58,
          309,
          737,
          499,
          966,
          505,
          430,
          481,
          139,
          348,
          529,
          812,
          918,
          843,
          232,
          66,
          479,
          870,
          806,
          381,
          71,
          185,
          1047,
          228,
          204,
          520,
          658,
          816,
          610,
          921,
          954,
          390,
          239,
          735,
          239,
          781,
          959,
          531,
          115,
          55,
          316,
          25,
          198,
          547,
          640,
          1015,
          852,
          461,
          215,
          386,
          634,
          564,
          404,
          459,
          21,
          661,
          568,
          336,
          211,
          848,
          362,
          215,
          778,
          730,
          467,
          289,
          717,
          604,
          494,
          1014,
          191,
          1078,
          506,
          209,
          882,
          155,
          993,
          159,
          499,
          508,
          549,
          641,
          385,
          875,
          794,
          404,
          471,
          500,
          998,
          188,
          289,
          815,
          723,
          1005,
          951,
          312,
          1002,
          508,
          944,
          901,
          929,
          713,
          174,
          720,
          754,
          355,
          593,
          428,
          757,
          452,
          671,
          846,
          698,
          553,
          693,
          681,
          397,
          604,
          511,
          967,
          679,
          626,
          545,
          839,
          930,
          152,
          543,
          108,
          269,
          320,
          893,
          915,
          4,
          718,
          782,
          143,
          730,
          535,
          802,
          15,
          734,
          42,
          316,
          289,
          1097,
          815,
          938,
          201,
          440,
          733,
          1084,
          588,
          967,
          684,
          365,
          602,
          237,
          164,
          1073,
          689,
          129,
          644,
          199,
          746,
          557,
          265,
          437,
          885,
          581,
          698,
          717,
          690,
          358,
          803,
          168,
          850,
          834,
          760,
          876,
          320,
          400,
          350,
          882,
          1027,
          548,
          862,
          397,
          1038,
          409,
          965,
          234,
          119,
          570,
          14,
          972,
          447,
          516,
          743,
          996,
          1067,
          1051,
          61,
          638,
          205,
          191,
          297,
          37,
          206,
          1064,
          845,
          503,
          688,
          620,
          154,
          440,
          803,
          807,
          354,
          943,
          866,
          132,
          609,
          30,
          224,
          1035,
          791,
          76,
          967,
          154,
          62,
          502,
          853,
          289,
          884,
          292,
          1044,
          622,
          30,
          1072,
          1055,
          1025,
          333,
          320,
          801,
          798,
          646,
          686,
          61,
          733,
          753,
          915,
          133,
          893,
          257,
          286,
          347,
          199,
          79,
          42,
          689,
          9,
          85,
          464,
          133,
          455,
          45,
          1052,
          843,
          55,
          161,
          582,
          591,
          1095,
          749,
          97,
          894,
          785,
          989,
          105,
          699,
          1051,
          769,
          175,
          206,
          435,
          48,
          541,
          805,
          809,
          187,
          323,
          488,
          951,
          399,
          197,
          444,
          350,
          1006,
          710,
          643,
          443,
          496,
          1089,
          507,
          309,
          883,
          354,
          819,
          540,
          553,
          383,
          751,
          951,
          915,
          751,
          990,
          646,
          141,
          33,
          408,
          356,
          232,
          658,
          703,
          1077,
          473,
          725,
          564,
          191,
          717,
          242,
          853,
          954,
          893,
          644,
          634,
          407,
          844,
          387,
          1027,
          366,
          737,
          666,
          725,
          132,
          167,
          924,
          382,
          85,
          49,
          1054,
          301,
          757,
          708,
          1075,
          1054,
          432,
          709,
          431,
          1008,
          917,
          591,
          1038,
          388,
          953,
          570,
          901,
          990,
          116,
          334,
          169,
          932,
          912,
          359,
          1003,
          321,
          1056,
          452,
          28,
          1023,
          923,
          624,
          475,
          657,
          832,
          255,
          79,
          709,
          1097,
          991,
          378,
          1024,
          528,
          753,
          362,
          999,
          440,
          541,
          343,
          903,
          1,
          268,
          780,
          111,
          971,
          194,
          443,
          393,
          646,
          441,
          798,
          360,
          745,
          642,
          50,
          220,
          503,
          890,
          128,
          169,
          1092,
          605,
          456,
          705,
          808,
          817,
          888,
          385,
          741,
          308,
          731,
          57,
          65,
          153,
          968,
          901,
          211,
          238,
          383,
          169,
          408,
          415,
          329,
          53,
          81,
          731,
          548,
          651,
          932,
          315,
          322,
          837,
          564,
          56,
          587,
          76,
          514,
          644,
          736,
          81,
          986,
          782,
          994,
          332,
          882,
          7,
          331,
          434,
          1032,
          967,
          673,
          310,
          1020,
          259,
          116,
          568,
          831,
          584,
          401,
          438,
          53,
          480,
          321,
          428,
          757,
          872,
          883,
          82,
          123,
          316,
          1065,
          996,
          60,
          1,
          904,
          616,
          543,
          1086,
          44,
          699,
          1095,
          1098,
          222,
          551
         ],
         "xaxis": "x",
         "yaxis": "y",
         "type": "histogram"
        }
       ],
       "layout": {
        "template": {
         "data": {
          "histogram2dcontour": [
           {
            "type": "histogram2dcontour",
            "colorbar": {
             "outlinewidth": 0,
             "ticks": ""
            },
            "colorscale": [
             [
              0.0,
              "#0d0887"
             ],
             [
              0.1111111111111111,
              "#46039f"
             ],
             [
              0.2222222222222222,
              "#7201a8"
             ],
             [
              0.3333333333333333,
              "#9c179e"
             ],
             [
              0.4444444444444444,
              "#bd3786"
             ],
             [
              0.5555555555555556,
              "#d8576b"
             ],
             [
              0.6666666666666666,
              "#ed7953"
             ],
             [
              0.7777777777777778,
              "#fb9f3a"
             ],
             [
              0.8888888888888888,
              "#fdca26"
             ],
             [
              1.0,
              "#f0f921"
             ]
            ]
           }
          ],
          "choropleth": [
           {
            "type": "choropleth",
            "colorbar": {
             "outlinewidth": 0,
             "ticks": ""
            }
           }
          ],
          "histogram2d": [
           {
            "type": "histogram2d",
            "colorbar": {
             "outlinewidth": 0,
             "ticks": ""
            },
            "colorscale": [
             [
              0.0,
              "#0d0887"
             ],
             [
              0.1111111111111111,
              "#46039f"
             ],
             [
              0.2222222222222222,
              "#7201a8"
             ],
             [
              0.3333333333333333,
              "#9c179e"
             ],
             [
              0.4444444444444444,
              "#bd3786"
             ],
             [
              0.5555555555555556,
              "#d8576b"
             ],
             [
              0.6666666666666666,
              "#ed7953"
             ],
             [
              0.7777777777777778,
              "#fb9f3a"
             ],
             [
              0.8888888888888888,
              "#fdca26"
             ],
             [
              1.0,
              "#f0f921"
             ]
            ]
           }
          ],
          "heatmap": [
           {
            "type": "heatmap",
            "colorbar": {
             "outlinewidth": 0,
             "ticks": ""
            },
            "colorscale": [
             [
              0.0,
              "#0d0887"
             ],
             [
              0.1111111111111111,
              "#46039f"
             ],
             [
              0.2222222222222222,
              "#7201a8"
             ],
             [
              0.3333333333333333,
              "#9c179e"
             ],
             [
              0.4444444444444444,
              "#bd3786"
             ],
             [
              0.5555555555555556,
              "#d8576b"
             ],
             [
              0.6666666666666666,
              "#ed7953"
             ],
             [
              0.7777777777777778,
              "#fb9f3a"
             ],
             [
              0.8888888888888888,
              "#fdca26"
             ],
             [
              1.0,
              "#f0f921"
             ]
            ]
           }
          ],
          "heatmapgl": [
           {
            "type": "heatmapgl",
            "colorbar": {
             "outlinewidth": 0,
             "ticks": ""
            },
            "colorscale": [
             [
              0.0,
              "#0d0887"
             ],
             [
              0.1111111111111111,
              "#46039f"
             ],
             [
              0.2222222222222222,
              "#7201a8"
             ],
             [
              0.3333333333333333,
              "#9c179e"
             ],
             [
              0.4444444444444444,
              "#bd3786"
             ],
             [
              0.5555555555555556,
              "#d8576b"
             ],
             [
              0.6666666666666666,
              "#ed7953"
             ],
             [
              0.7777777777777778,
              "#fb9f3a"
             ],
             [
              0.8888888888888888,
              "#fdca26"
             ],
             [
              1.0,
              "#f0f921"
             ]
            ]
           }
          ],
          "contourcarpet": [
           {
            "type": "contourcarpet",
            "colorbar": {
             "outlinewidth": 0,
             "ticks": ""
            }
           }
          ],
          "contour": [
           {
            "type": "contour",
            "colorbar": {
             "outlinewidth": 0,
             "ticks": ""
            },
            "colorscale": [
             [
              0.0,
              "#0d0887"
             ],
             [
              0.1111111111111111,
              "#46039f"
             ],
             [
              0.2222222222222222,
              "#7201a8"
             ],
             [
              0.3333333333333333,
              "#9c179e"
             ],
             [
              0.4444444444444444,
              "#bd3786"
             ],
             [
              0.5555555555555556,
              "#d8576b"
             ],
             [
              0.6666666666666666,
              "#ed7953"
             ],
             [
              0.7777777777777778,
              "#fb9f3a"
             ],
             [
              0.8888888888888888,
              "#fdca26"
             ],
             [
              1.0,
              "#f0f921"
             ]
            ]
           }
          ],
          "surface": [
           {
            "type": "surface",
            "colorbar": {
             "outlinewidth": 0,
             "ticks": ""
            },
            "colorscale": [
             [
              0.0,
              "#0d0887"
             ],
             [
              0.1111111111111111,
              "#46039f"
             ],
             [
              0.2222222222222222,
              "#7201a8"
             ],
             [
              0.3333333333333333,
              "#9c179e"
             ],
             [
              0.4444444444444444,
              "#bd3786"
             ],
             [
              0.5555555555555556,
              "#d8576b"
             ],
             [
              0.6666666666666666,
              "#ed7953"
             ],
             [
              0.7777777777777778,
              "#fb9f3a"
             ],
             [
              0.8888888888888888,
              "#fdca26"
             ],
             [
              1.0,
              "#f0f921"
             ]
            ]
           }
          ],
          "mesh3d": [
           {
            "type": "mesh3d",
            "colorbar": {
             "outlinewidth": 0,
             "ticks": ""
            }
           }
          ],
          "scatter": [
           {
            "fillpattern": {
             "fillmode": "overlay",
             "size": 10,
             "solidity": 0.2
            },
            "type": "scatter"
           }
          ],
          "parcoords": [
           {
            "type": "parcoords",
            "line": {
             "colorbar": {
              "outlinewidth": 0,
              "ticks": ""
             }
            }
           }
          ],
          "scatterpolargl": [
           {
            "type": "scatterpolargl",
            "marker": {
             "colorbar": {
              "outlinewidth": 0,
              "ticks": ""
             }
            }
           }
          ],
          "bar": [
           {
            "error_x": {
             "color": "#2a3f5f"
            },
            "error_y": {
             "color": "#2a3f5f"
            },
            "marker": {
             "line": {
              "color": "#E5ECF6",
              "width": 0.5
             },
             "pattern": {
              "fillmode": "overlay",
              "size": 10,
              "solidity": 0.2
             }
            },
            "type": "bar"
           }
          ],
          "scattergeo": [
           {
            "type": "scattergeo",
            "marker": {
             "colorbar": {
              "outlinewidth": 0,
              "ticks": ""
             }
            }
           }
          ],
          "scatterpolar": [
           {
            "type": "scatterpolar",
            "marker": {
             "colorbar": {
              "outlinewidth": 0,
              "ticks": ""
             }
            }
           }
          ],
          "histogram": [
           {
            "marker": {
             "pattern": {
              "fillmode": "overlay",
              "size": 10,
              "solidity": 0.2
             }
            },
            "type": "histogram"
           }
          ],
          "scattergl": [
           {
            "type": "scattergl",
            "marker": {
             "colorbar": {
              "outlinewidth": 0,
              "ticks": ""
             }
            }
           }
          ],
          "scatter3d": [
           {
            "type": "scatter3d",
            "line": {
             "colorbar": {
              "outlinewidth": 0,
              "ticks": ""
             }
            },
            "marker": {
             "colorbar": {
              "outlinewidth": 0,
              "ticks": ""
             }
            }
           }
          ],
          "scattermapbox": [
           {
            "type": "scattermapbox",
            "marker": {
             "colorbar": {
              "outlinewidth": 0,
              "ticks": ""
             }
            }
           }
          ],
          "scatterternary": [
           {
            "type": "scatterternary",
            "marker": {
             "colorbar": {
              "outlinewidth": 0,
              "ticks": ""
             }
            }
           }
          ],
          "scattercarpet": [
           {
            "type": "scattercarpet",
            "marker": {
             "colorbar": {
              "outlinewidth": 0,
              "ticks": ""
             }
            }
           }
          ],
          "carpet": [
           {
            "aaxis": {
             "endlinecolor": "#2a3f5f",
             "gridcolor": "white",
             "linecolor": "white",
             "minorgridcolor": "white",
             "startlinecolor": "#2a3f5f"
            },
            "baxis": {
             "endlinecolor": "#2a3f5f",
             "gridcolor": "white",
             "linecolor": "white",
             "minorgridcolor": "white",
             "startlinecolor": "#2a3f5f"
            },
            "type": "carpet"
           }
          ],
          "table": [
           {
            "cells": {
             "fill": {
              "color": "#EBF0F8"
             },
             "line": {
              "color": "white"
             }
            },
            "header": {
             "fill": {
              "color": "#C8D4E3"
             },
             "line": {
              "color": "white"
             }
            },
            "type": "table"
           }
          ],
          "barpolar": [
           {
            "marker": {
             "line": {
              "color": "#E5ECF6",
              "width": 0.5
             },
             "pattern": {
              "fillmode": "overlay",
              "size": 10,
              "solidity": 0.2
             }
            },
            "type": "barpolar"
           }
          ],
          "pie": [
           {
            "automargin": true,
            "type": "pie"
           }
          ]
         },
         "layout": {
          "autotypenumbers": "strict",
          "colorway": [
           "#636efa",
           "#EF553B",
           "#00cc96",
           "#ab63fa",
           "#FFA15A",
           "#19d3f3",
           "#FF6692",
           "#B6E880",
           "#FF97FF",
           "#FECB52"
          ],
          "font": {
           "color": "#2a3f5f"
          },
          "hovermode": "closest",
          "hoverlabel": {
           "align": "left"
          },
          "paper_bgcolor": "white",
          "plot_bgcolor": "#E5ECF6",
          "polar": {
           "bgcolor": "#E5ECF6",
           "angularaxis": {
            "gridcolor": "white",
            "linecolor": "white",
            "ticks": ""
           },
           "radialaxis": {
            "gridcolor": "white",
            "linecolor": "white",
            "ticks": ""
           }
          },
          "ternary": {
           "bgcolor": "#E5ECF6",
           "aaxis": {
            "gridcolor": "white",
            "linecolor": "white",
            "ticks": ""
           },
           "baxis": {
            "gridcolor": "white",
            "linecolor": "white",
            "ticks": ""
           },
           "caxis": {
            "gridcolor": "white",
            "linecolor": "white",
            "ticks": ""
           }
          },
          "coloraxis": {
           "colorbar": {
            "outlinewidth": 0,
            "ticks": ""
           }
          },
          "colorscale": {
           "sequential": [
            [
             0.0,
             "#0d0887"
            ],
            [
             0.1111111111111111,
             "#46039f"
            ],
            [
             0.2222222222222222,
             "#7201a8"
            ],
            [
             0.3333333333333333,
             "#9c179e"
            ],
            [
             0.4444444444444444,
             "#bd3786"
            ],
            [
             0.5555555555555556,
             "#d8576b"
            ],
            [
             0.6666666666666666,
             "#ed7953"
            ],
            [
             0.7777777777777778,
             "#fb9f3a"
            ],
            [
             0.8888888888888888,
             "#fdca26"
            ],
            [
             1.0,
             "#f0f921"
            ]
           ],
           "sequentialminus": [
            [
             0.0,
             "#0d0887"
            ],
            [
             0.1111111111111111,
             "#46039f"
            ],
            [
             0.2222222222222222,
             "#7201a8"
            ],
            [
             0.3333333333333333,
             "#9c179e"
            ],
            [
             0.4444444444444444,
             "#bd3786"
            ],
            [
             0.5555555555555556,
             "#d8576b"
            ],
            [
             0.6666666666666666,
             "#ed7953"
            ],
            [
             0.7777777777777778,
             "#fb9f3a"
            ],
            [
             0.8888888888888888,
             "#fdca26"
            ],
            [
             1.0,
             "#f0f921"
            ]
           ],
           "diverging": [
            [
             0,
             "#8e0152"
            ],
            [
             0.1,
             "#c51b7d"
            ],
            [
             0.2,
             "#de77ae"
            ],
            [
             0.3,
             "#f1b6da"
            ],
            [
             0.4,
             "#fde0ef"
            ],
            [
             0.5,
             "#f7f7f7"
            ],
            [
             0.6,
             "#e6f5d0"
            ],
            [
             0.7,
             "#b8e186"
            ],
            [
             0.8,
             "#7fbc41"
            ],
            [
             0.9,
             "#4d9221"
            ],
            [
             1,
             "#276419"
            ]
           ]
          },
          "xaxis": {
           "gridcolor": "white",
           "linecolor": "white",
           "ticks": "",
           "title": {
            "standoff": 15
           },
           "zerolinecolor": "white",
           "automargin": true,
           "zerolinewidth": 2
          },
          "yaxis": {
           "gridcolor": "white",
           "linecolor": "white",
           "ticks": "",
           "title": {
            "standoff": 15
           },
           "zerolinecolor": "white",
           "automargin": true,
           "zerolinewidth": 2
          },
          "scene": {
           "xaxis": {
            "backgroundcolor": "#E5ECF6",
            "gridcolor": "white",
            "linecolor": "white",
            "showbackground": true,
            "ticks": "",
            "zerolinecolor": "white",
            "gridwidth": 2
           },
           "yaxis": {
            "backgroundcolor": "#E5ECF6",
            "gridcolor": "white",
            "linecolor": "white",
            "showbackground": true,
            "ticks": "",
            "zerolinecolor": "white",
            "gridwidth": 2
           },
           "zaxis": {
            "backgroundcolor": "#E5ECF6",
            "gridcolor": "white",
            "linecolor": "white",
            "showbackground": true,
            "ticks": "",
            "zerolinecolor": "white",
            "gridwidth": 2
           }
          },
          "shapedefaults": {
           "line": {
            "color": "#2a3f5f"
           }
          },
          "annotationdefaults": {
           "arrowcolor": "#2a3f5f",
           "arrowhead": 0,
           "arrowwidth": 1
          },
          "geo": {
           "bgcolor": "white",
           "landcolor": "#E5ECF6",
           "subunitcolor": "white",
           "showland": true,
           "showlakes": true,
           "lakecolor": "white"
          },
          "title": {
           "x": 0.05
          },
          "mapbox": {
           "style": "light"
          }
         }
        },
        "xaxis": {
         "anchor": "y",
         "domain": [
          0.0,
          1.0
         ],
         "title": {
          "text": "value"
         }
        },
        "yaxis": {
         "anchor": "x",
         "domain": [
          0.0,
          1.0
         ],
         "title": {
          "text": "count"
         }
        },
        "legend": {
         "title": {
          "text": "variable"
         },
         "tracegroupgap": 0
        },
        "margin": {
         "t": 60
        },
        "barmode": "relative"
       },
       "config": {
        "plotlyServerURL": "https://plot.ly"
       }
      },
      "text/html": [
       "<div>                            <div id=\"b62f855e-17f5-445d-81eb-52846ec41bc1\" class=\"plotly-graph-div\" style=\"height:525px; width:100%;\"></div>            <script type=\"text/javascript\">                require([\"plotly\"], function(Plotly) {                    window.PLOTLYENV=window.PLOTLYENV || {};                                    if (document.getElementById(\"b62f855e-17f5-445d-81eb-52846ec41bc1\")) {                    Plotly.newPlot(                        \"b62f855e-17f5-445d-81eb-52846ec41bc1\",                        [{\"alignmentgroup\":\"True\",\"bingroup\":\"x\",\"hovertemplate\":\"variable=0<br>value=%{x}<br>count=%{y}<extra></extra>\",\"legendgroup\":\"0\",\"marker\":{\"color\":\"#636efa\",\"pattern\":{\"shape\":\"\"}},\"name\":\"0\",\"nbinsx\":100,\"offsetgroup\":\"0\",\"orientation\":\"v\",\"showlegend\":true,\"x\":[486,529,520,786,372,962,837,734,501,307,80,811,213,560,1096,1061,232,682,624,239,106,1044,29,8,1049,987,718,869,42,253,138,284,390,1018,656,174,104,651,920,703,571,365,27,233,820,449,1060,427,383,1020,1041,989,122,33,177,517,481,617,748,513,969,967,69,605,334,458,187,352,200,31,25,443,371,396,596,133,137,763,79,392,660,866,152,960,902,881,642,303,787,917,937,286,211,202,654,884,306,89,449,439,768,108,862,27,374,574,500,715,727,342,930,770,7,739,702,1093,955,478,68,68,971,503,978,477,329,13,953,178,1039,330,617,193,787,628,585,773,325,872,958,603,28,770,1041,562,804,976,407,282,526,169,863,263,228,416,798,316,317,444,26,3,764,231,765,565,629,51,239,211,341,1071,779,427,735,230,907,788,745,510,1044,31,638,592,328,422,348,946,253,886,254,394,266,72,778,556,107,455,1057,166,6,970,38,140,455,816,816,202,865,69,703,580,235,942,535,953,552,737,29,25,486,175,890,753,761,1019,51,367,933,821,582,111,700,339,921,779,410,79,53,851,94,245,43,17,1034,316,856,546,943,414,755,884,374,1087,586,131,168,22,219,824,450,591,803,160,1035,494,798,329,495,290,847,778,957,186,513,934,142,352,134,128,947,603,873,976,821,731,135,1086,352,132,605,206,120,146,841,499,964,612,76,349,413,1073,515,912,664,1019,856,977,740,898,844,614,372,285,1006,1069,190,923,1073,554,496,278,503,417,1019,704,696,83,199,773,641,266,927,1024,4,73,103,812,144,693,460,931,122,657,234,482,1089,1053,19,929,846,233,1067,972,403,712,566,1029,366,781,857,558,35,1016,71,601,553,929,615,834,40,283,581,659,666,479,875,639,150,712,719,455,532,880,529,103,368,370,507,1074,802,848,839,134,878,969,847,405,87,1073,839,619,564,804,511,499,728,792,113,375,868,37,1040,208,341,407,8,507,620,672,182,830,1095,701,554,201,955,176,49,174,399,791,873,201,6,714,933,276,362,896,608,254,828,29,352,369,375,899,855,408,758,880,161,769,320,47,583,1023,525,859,927,621,130,311,942,857,95,1040,257,451,545,608,367,1098,13,717,103,724,37,284,618,542,346,619,255,851,153,430,146,628,117,928,684,625,886,1034,234,140,801,145,375,518,379,1074,409,77,401,874,86,485,372,240,1078,526,95,906,199,322,607,436,987,618,346,944,682,781,670,674,782,674,931,1000,390,449,822,1079,176,179,25,1034,417,1031,1083,413,356,581,534,925,398,304,782,687,747,197,170,271,168,39,1012,846,506,514,1097,710,808,664,329,204,1046,719,108,851,824,983,89,1031,81,570,166,354,738,31,442,632,128,649,680,914,1048,1035,721,354,255,861,1080,126,27,674,41,605,627,527,285,911,173,16,924,310,114,563,600,891,312,126,675,559,57,212,838,535,478,807,400,568,78,984,572,815,542,923,168,127,153,209,803,821,1005,626,799,826,738,407,1034,508,907,39,239,767,900,392,1038,987,408,421,246,113,381,937,53,898,336,141,240,946,952,649,621,561,180,337,296,446,173,850,29,98,150,1011,1028,181,1001,845,593,241,220,941,296,1078,302,758,275,1031,564,923,116,257,598,152,997,1027,80,549,259,694,1031,654,1077,314,84,296,670,247,764,345,802,481,196,772,9,258,673,932,933,599,577,943,158,239,559,274,625,676,929,1072,835,180,104,40,537,1080,192,862,366,325,161,267,907,87,1054,398,996,583,385,1081,55,1006,902,1062,337,215,1057,57,459,456,882,894,208,693,928,284,441,669,571,359,773,836,73,935,945,6,628,71,887,634,34,858,220,781,144,314,728,384,415,415,648,509,688,671,941,578,942,279,633,85,229,191,297,589,926,411,604,263,220,424,940,128,212,60,831,674,1045,983,927,641,676,35,769,457,976,466,877,455,140,48,169,701,239,205,13,121,326,436,225,245,355,118,415,482,1090,363,830,814,888,523,206,647,327,779,85,317,509,669,1068,14,431,853,487,313,223,416,588,959,535,1029,570,433,617,247,591,699,240,433,953,3,270,396,516,439,22,653,336,1077,130,78,567,84,7,889,1044,258,933,1051,147,415,144,783,329,594,765,367,42,33,466,823,873,486,60,1013,706,649,1050,44,246,295,845,1043,1099,796,757,591,1043,716,695,1069,162,1053,622,249,464,901,274,737,1053,991,570,456,279,918,712,286,987,873,727,116,1039,813,241,1097,256,471,716,127,636,205,251,4,951,265,682,663,16,661,619,585,701,376,149,464,189,1044,763,502,273,737,515,263,17,993,576,50,138,175,606,426,472,36,988,782,443,625,136,524,697,950,392,688,820,178,163,936,782,188,136,524,390,291,863,57,368,785,291,878,203,23,189,602,683,263,755,266,370,983,573,741,608,34,777,635,457,624,1066,218,696,292,123,618,190,590,328,806,34,476,896,618,217,475,588,312,559,29,653,1091,837,992,91,1068,48,884,991,635,515,107,231,960,1079,358,741,342,734,685,698,836,413,1067,34,530,309,221,865,985,919,712,683,36,48,461,495,430,687,616,546,48,545,275,982,143,831,974,459,203,822,1014,39,195,567,43,383,95,8,889,1032,81,949,995,545,979,181,440,427,972,535,106,430,389,931,1092,509,751,1070,658,473,1003,901,1050,221,862,800,1015,782,1039,293,284,417,495,568,660,479,463,328,806,321,682,121,529,80,708,262,484,993,662,263,1068,225,413,499,937,55,866,905,57,14,281,513,443,762,357,773,377,609,671,635,922,934,359,491,452,534,200,470,478,165,1002,349,215,27,864,597,492,1044,462,429,845,63,535,965,896,126,481,193,421,426,375,184,281,1046,520,354,1038,88,1025,1024,835,452,545,677,1000,1071,906,122,216,1076,14,1000,232,884,107,570,255,462,917,95,766,1092,996,499,61,1033,575,881,28,668,842,811,1002,164,759,135,984,510,962,397,18,270,539,902,163,295,90,281,543,188,1020,832,419,781,887,313,1077,85,983,811,687,906,861,257,382,694,985,399,1017,724,357,66,787,315,660,466,165,567,480,979,730,279,1077,972,750,93,945,37,1069,968,350,793,487,0,399,148,1002,35,470,766,219,447,299,207,507,707,376,512,166,538,636,738,912,31,403,854,725,415,970,826,860,869,634,679,5,985,462,825,270,950,811,310,382,797,128,393,218,995,635,880,674,596,880,474,452,872,515,1093,227,869,658,582,186,985,852,183,250,791,430,667,439,143,1010,947,2,702,957,485,832,839,501,416,390,510,988,921,941,117,282,1086,377,894,349,828,634,594,838,252,655,92,889,494,872,883,1042,1049,796,973,633,699,1011,130,220,47,597,827,294,983,248,391,729,623,772,715,840,1087,356,641,704,936,126,1019,313,827,460,27,161,1035,16,812,50,537,1017,537,1012,221,48,128,74,283,154,1063,541,1037,204,66,878,71,79,814,931,132,224,39,1053,556,1002,21,697,158,121,575,461,338,137,524,238,909,839,863,74,548,887,450,522,1025,552,521,1098,1090,382,604,533,891,992,258,525,42,136,25,52,393,161,672,488,707,324,469,47,962,774,1043,378,745,583,599,66,1080,82,389,186,774,423,299,541,175,826,20,825,836,646,733,1055,350,1082,1069,14,304,1086,324,37,986,767,788,173,936,150,124,211,919,164,346,749,210,883,596,478,129,422,1096,341,304,331,715,1094,216,46,379,614,429,1033,969,879,107,1035,653,776,411,513,360,639,611,11,1076,674,611,224,498,80,273,658,363,692,365,881,250,408,68,50,155,1092,934,258,768,388,310,475,878,15,454,980,49,785,505,287,908,803,300,698,976,423,1053,422,496,978,941,123,492,973,1081,172,813,132,287,890,1025,618,835,1082,7,650,298,594,1073,532,610,785,245,76,445,382,946,976,23,557,87,505,884,205,552,175,1038,419,149,370,1061,107,303,22,1068,351,58,780,340,437,473,416,323,1031,725,842,651,1085,344,328,864,788,1060,640,1058,414,347,632,1050,405,672,890,633,183,332,991,862,214,785,545,1012,771,160,632,992,232,509,1039,662,640,844,936,23,360,200,597,297,986,820,1009,922,425,269,280,742,171,530,1036,37,326,951,938,455,623,355,700,123,228,989,689,1001,774,92,168,236,845,837,655,499,22,685,1051,484,596,691,239,989,480,707,249,161,280,650,649,449,622,916,958,963,190,888,711,408,425,162,538,697,170,799,132,235,1026,852,594,537,954,463,961,908,317,253,178,178,776,258,1027,507,886,836,406,228,758,152,234,144,620,473,530,514,450,9,335,44,310,514,713,636,339,292,748,169,474,129,294,906,435,113,542,871,728,22,913,259,228,35,493,471,589,696,545,217,1003,179,3,963,26,758,226,337,495,633,234,829,652,186,50,318,1013,162,50,876,349,284,949,514,910,1070,986,537,151,719,694,754,1011,68,218,735,638,268,406,286,550,789,238,514,999,721,763,952,374,215,668,0,248,401,131,498,1079,537,783,986,629,50,65,849,429,519,608,538,931,470,783,774,928,700,1087,161,927,297,14,132,861,310,4,1040,551,605,825,615,475,773,952,778,739,720,461,684,324,16,614,585,711,914,875,301,626,131,777,587,46,394,832,901,203,387,1074,413,284,868,719,98,981,526,583,58,792,881,1061,437,585,521,825,113,175,35,702,867,320,232,919,842,61,1087,678,763,56,1041,750,752,826,250,529,1048,77,779,853,620,146,1068,597,690,777,12,308,946,857,1060,260,1006,801,211,851,11,359,322,439,231,193,152,651,580,825,374,1096,1051,319,247,502,763,1088,534,684,293,799,195,43,182,219,671,99,141,502,1041,156,966,28,141,586,1083,147,1004,549,661,1063,114,141,949,821,875,986,1042,617,266,786,731,638,980,650,593,540,134,663,415,432,844,134,780,146,649,61,697,689,334,221,800,128,12,875,933,1046,90,163,300,84,596,186,3,940,313,50,306,685,884,942,416,684,829,781,694,598,1007,968,594,656,919,144,727,11,960,920,713,451,218,123,1071,1017,455,808,211,555,351,708,671,948,679,670,24,71,410,880,378,446,526,937,176,975,848,306,106,141,756,780,205,444,251,468,904,455,1082,318,971,736,617,445,27,812,559,848,727,75,981,667,738,153,456,635,1024,975,281,1046,787,464,913,1033,870,670,523,295,812,859,626,153,263,997,553,857,934,92,438,470,783,675,930,134,219,611,598,821,733,739,253,19,886,206,10,824,245,130,189,956,465,541,460,799,651,317,713,125,1080,372,569,509,444,889,773,401,51,541,762,57,989,100,524,293,1056,847,487,150,406,778,418,899,671,286,636,827,262,700,933,882,885,77,1007,645,495,234,1049,1092,336,288,431,774,911,196,262,1079,148,152,891,920,862,297,567,1096,933,599,24,904,581,181,50,95,617,482,621,601,738,697,328,419,109,459,296,803,590,510,1035,508,499,0,125,102,995,508,609,248,583,761,506,427,624,684,0,89,893,80,213,838,723,667,967,1039,733,618,747,717,14,272,260,105,56,236,30,735,838,724,844,517,436,869,414,11,997,416,1087,31,247,598,810,96,331,364,1022,833,904,376,197,846,124,72,313,226,313,45,871,199,1026,781,455,403,837,43,827,28,411,750,387,575,940,667,1041,914,996,1034,602,963,370,975,433,867,1099,629,667,553,255,877,691,843,633,229,254,408,428,854,408,32,380,586,120,793,7,135,744,310,589,87,203,1086,804,552,519,532,1090,399,303,895,65,658,564,606,1042,53,290,860,503,368,921,351,1051,692,752,114,1094,542,835,242,694,1023,115,384,741,1059,46,671,137,360,118,765,195,515,493,759,58,309,737,499,966,505,430,481,139,348,529,812,918,843,232,66,479,870,806,381,71,185,1047,228,204,520,658,816,610,921,954,390,239,735,239,781,959,531,115,55,316,25,198,547,640,1015,852,461,215,386,634,564,404,459,21,661,568,336,211,848,362,215,778,730,467,289,717,604,494,1014,191,1078,506,209,882,155,993,159,499,508,549,641,385,875,794,404,471,500,998,188,289,815,723,1005,951,312,1002,508,944,901,929,713,174,720,754,355,593,428,757,452,671,846,698,553,693,681,397,604,511,967,679,626,545,839,930,152,543,108,269,320,893,915,4,718,782,143,730,535,802,15,734,42,316,289,1097,815,938,201,440,733,1084,588,967,684,365,602,237,164,1073,689,129,644,199,746,557,265,437,885,581,698,717,690,358,803,168,850,834,760,876,320,400,350,882,1027,548,862,397,1038,409,965,234,119,570,14,972,447,516,743,996,1067,1051,61,638,205,191,297,37,206,1064,845,503,688,620,154,440,803,807,354,943,866,132,609,30,224,1035,791,76,967,154,62,502,853,289,884,292,1044,622,30,1072,1055,1025,333,320,801,798,646,686,61,733,753,915,133,893,257,286,347,199,79,42,689,9,85,464,133,455,45,1052,843,55,161,582,591,1095,749,97,894,785,989,105,699,1051,769,175,206,435,48,541,805,809,187,323,488,951,399,197,444,350,1006,710,643,443,496,1089,507,309,883,354,819,540,553,383,751,951,915,751,990,646,141,33,408,356,232,658,703,1077,473,725,564,191,717,242,853,954,893,644,634,407,844,387,1027,366,737,666,725,132,167,924,382,85,49,1054,301,757,708,1075,1054,432,709,431,1008,917,591,1038,388,953,570,901,990,116,334,169,932,912,359,1003,321,1056,452,28,1023,923,624,475,657,832,255,79,709,1097,991,378,1024,528,753,362,999,440,541,343,903,1,268,780,111,971,194,443,393,646,441,798,360,745,642,50,220,503,890,128,169,1092,605,456,705,808,817,888,385,741,308,731,57,65,153,968,901,211,238,383,169,408,415,329,53,81,731,548,651,932,315,322,837,564,56,587,76,514,644,736,81,986,782,994,332,882,7,331,434,1032,967,673,310,1020,259,116,568,831,584,401,438,53,480,321,428,757,872,883,82,123,316,1065,996,60,1,904,616,543,1086,44,699,1095,1098,222,551],\"xaxis\":\"x\",\"yaxis\":\"y\",\"type\":\"histogram\"}],                        {\"template\":{\"data\":{\"histogram2dcontour\":[{\"type\":\"histogram2dcontour\",\"colorbar\":{\"outlinewidth\":0,\"ticks\":\"\"},\"colorscale\":[[0.0,\"#0d0887\"],[0.1111111111111111,\"#46039f\"],[0.2222222222222222,\"#7201a8\"],[0.3333333333333333,\"#9c179e\"],[0.4444444444444444,\"#bd3786\"],[0.5555555555555556,\"#d8576b\"],[0.6666666666666666,\"#ed7953\"],[0.7777777777777778,\"#fb9f3a\"],[0.8888888888888888,\"#fdca26\"],[1.0,\"#f0f921\"]]}],\"choropleth\":[{\"type\":\"choropleth\",\"colorbar\":{\"outlinewidth\":0,\"ticks\":\"\"}}],\"histogram2d\":[{\"type\":\"histogram2d\",\"colorbar\":{\"outlinewidth\":0,\"ticks\":\"\"},\"colorscale\":[[0.0,\"#0d0887\"],[0.1111111111111111,\"#46039f\"],[0.2222222222222222,\"#7201a8\"],[0.3333333333333333,\"#9c179e\"],[0.4444444444444444,\"#bd3786\"],[0.5555555555555556,\"#d8576b\"],[0.6666666666666666,\"#ed7953\"],[0.7777777777777778,\"#fb9f3a\"],[0.8888888888888888,\"#fdca26\"],[1.0,\"#f0f921\"]]}],\"heatmap\":[{\"type\":\"heatmap\",\"colorbar\":{\"outlinewidth\":0,\"ticks\":\"\"},\"colorscale\":[[0.0,\"#0d0887\"],[0.1111111111111111,\"#46039f\"],[0.2222222222222222,\"#7201a8\"],[0.3333333333333333,\"#9c179e\"],[0.4444444444444444,\"#bd3786\"],[0.5555555555555556,\"#d8576b\"],[0.6666666666666666,\"#ed7953\"],[0.7777777777777778,\"#fb9f3a\"],[0.8888888888888888,\"#fdca26\"],[1.0,\"#f0f921\"]]}],\"heatmapgl\":[{\"type\":\"heatmapgl\",\"colorbar\":{\"outlinewidth\":0,\"ticks\":\"\"},\"colorscale\":[[0.0,\"#0d0887\"],[0.1111111111111111,\"#46039f\"],[0.2222222222222222,\"#7201a8\"],[0.3333333333333333,\"#9c179e\"],[0.4444444444444444,\"#bd3786\"],[0.5555555555555556,\"#d8576b\"],[0.6666666666666666,\"#ed7953\"],[0.7777777777777778,\"#fb9f3a\"],[0.8888888888888888,\"#fdca26\"],[1.0,\"#f0f921\"]]}],\"contourcarpet\":[{\"type\":\"contourcarpet\",\"colorbar\":{\"outlinewidth\":0,\"ticks\":\"\"}}],\"contour\":[{\"type\":\"contour\",\"colorbar\":{\"outlinewidth\":0,\"ticks\":\"\"},\"colorscale\":[[0.0,\"#0d0887\"],[0.1111111111111111,\"#46039f\"],[0.2222222222222222,\"#7201a8\"],[0.3333333333333333,\"#9c179e\"],[0.4444444444444444,\"#bd3786\"],[0.5555555555555556,\"#d8576b\"],[0.6666666666666666,\"#ed7953\"],[0.7777777777777778,\"#fb9f3a\"],[0.8888888888888888,\"#fdca26\"],[1.0,\"#f0f921\"]]}],\"surface\":[{\"type\":\"surface\",\"colorbar\":{\"outlinewidth\":0,\"ticks\":\"\"},\"colorscale\":[[0.0,\"#0d0887\"],[0.1111111111111111,\"#46039f\"],[0.2222222222222222,\"#7201a8\"],[0.3333333333333333,\"#9c179e\"],[0.4444444444444444,\"#bd3786\"],[0.5555555555555556,\"#d8576b\"],[0.6666666666666666,\"#ed7953\"],[0.7777777777777778,\"#fb9f3a\"],[0.8888888888888888,\"#fdca26\"],[1.0,\"#f0f921\"]]}],\"mesh3d\":[{\"type\":\"mesh3d\",\"colorbar\":{\"outlinewidth\":0,\"ticks\":\"\"}}],\"scatter\":[{\"fillpattern\":{\"fillmode\":\"overlay\",\"size\":10,\"solidity\":0.2},\"type\":\"scatter\"}],\"parcoords\":[{\"type\":\"parcoords\",\"line\":{\"colorbar\":{\"outlinewidth\":0,\"ticks\":\"\"}}}],\"scatterpolargl\":[{\"type\":\"scatterpolargl\",\"marker\":{\"colorbar\":{\"outlinewidth\":0,\"ticks\":\"\"}}}],\"bar\":[{\"error_x\":{\"color\":\"#2a3f5f\"},\"error_y\":{\"color\":\"#2a3f5f\"},\"marker\":{\"line\":{\"color\":\"#E5ECF6\",\"width\":0.5},\"pattern\":{\"fillmode\":\"overlay\",\"size\":10,\"solidity\":0.2}},\"type\":\"bar\"}],\"scattergeo\":[{\"type\":\"scattergeo\",\"marker\":{\"colorbar\":{\"outlinewidth\":0,\"ticks\":\"\"}}}],\"scatterpolar\":[{\"type\":\"scatterpolar\",\"marker\":{\"colorbar\":{\"outlinewidth\":0,\"ticks\":\"\"}}}],\"histogram\":[{\"marker\":{\"pattern\":{\"fillmode\":\"overlay\",\"size\":10,\"solidity\":0.2}},\"type\":\"histogram\"}],\"scattergl\":[{\"type\":\"scattergl\",\"marker\":{\"colorbar\":{\"outlinewidth\":0,\"ticks\":\"\"}}}],\"scatter3d\":[{\"type\":\"scatter3d\",\"line\":{\"colorbar\":{\"outlinewidth\":0,\"ticks\":\"\"}},\"marker\":{\"colorbar\":{\"outlinewidth\":0,\"ticks\":\"\"}}}],\"scattermapbox\":[{\"type\":\"scattermapbox\",\"marker\":{\"colorbar\":{\"outlinewidth\":0,\"ticks\":\"\"}}}],\"scatterternary\":[{\"type\":\"scatterternary\",\"marker\":{\"colorbar\":{\"outlinewidth\":0,\"ticks\":\"\"}}}],\"scattercarpet\":[{\"type\":\"scattercarpet\",\"marker\":{\"colorbar\":{\"outlinewidth\":0,\"ticks\":\"\"}}}],\"carpet\":[{\"aaxis\":{\"endlinecolor\":\"#2a3f5f\",\"gridcolor\":\"white\",\"linecolor\":\"white\",\"minorgridcolor\":\"white\",\"startlinecolor\":\"#2a3f5f\"},\"baxis\":{\"endlinecolor\":\"#2a3f5f\",\"gridcolor\":\"white\",\"linecolor\":\"white\",\"minorgridcolor\":\"white\",\"startlinecolor\":\"#2a3f5f\"},\"type\":\"carpet\"}],\"table\":[{\"cells\":{\"fill\":{\"color\":\"#EBF0F8\"},\"line\":{\"color\":\"white\"}},\"header\":{\"fill\":{\"color\":\"#C8D4E3\"},\"line\":{\"color\":\"white\"}},\"type\":\"table\"}],\"barpolar\":[{\"marker\":{\"line\":{\"color\":\"#E5ECF6\",\"width\":0.5},\"pattern\":{\"fillmode\":\"overlay\",\"size\":10,\"solidity\":0.2}},\"type\":\"barpolar\"}],\"pie\":[{\"automargin\":true,\"type\":\"pie\"}]},\"layout\":{\"autotypenumbers\":\"strict\",\"colorway\":[\"#636efa\",\"#EF553B\",\"#00cc96\",\"#ab63fa\",\"#FFA15A\",\"#19d3f3\",\"#FF6692\",\"#B6E880\",\"#FF97FF\",\"#FECB52\"],\"font\":{\"color\":\"#2a3f5f\"},\"hovermode\":\"closest\",\"hoverlabel\":{\"align\":\"left\"},\"paper_bgcolor\":\"white\",\"plot_bgcolor\":\"#E5ECF6\",\"polar\":{\"bgcolor\":\"#E5ECF6\",\"angularaxis\":{\"gridcolor\":\"white\",\"linecolor\":\"white\",\"ticks\":\"\"},\"radialaxis\":{\"gridcolor\":\"white\",\"linecolor\":\"white\",\"ticks\":\"\"}},\"ternary\":{\"bgcolor\":\"#E5ECF6\",\"aaxis\":{\"gridcolor\":\"white\",\"linecolor\":\"white\",\"ticks\":\"\"},\"baxis\":{\"gridcolor\":\"white\",\"linecolor\":\"white\",\"ticks\":\"\"},\"caxis\":{\"gridcolor\":\"white\",\"linecolor\":\"white\",\"ticks\":\"\"}},\"coloraxis\":{\"colorbar\":{\"outlinewidth\":0,\"ticks\":\"\"}},\"colorscale\":{\"sequential\":[[0.0,\"#0d0887\"],[0.1111111111111111,\"#46039f\"],[0.2222222222222222,\"#7201a8\"],[0.3333333333333333,\"#9c179e\"],[0.4444444444444444,\"#bd3786\"],[0.5555555555555556,\"#d8576b\"],[0.6666666666666666,\"#ed7953\"],[0.7777777777777778,\"#fb9f3a\"],[0.8888888888888888,\"#fdca26\"],[1.0,\"#f0f921\"]],\"sequentialminus\":[[0.0,\"#0d0887\"],[0.1111111111111111,\"#46039f\"],[0.2222222222222222,\"#7201a8\"],[0.3333333333333333,\"#9c179e\"],[0.4444444444444444,\"#bd3786\"],[0.5555555555555556,\"#d8576b\"],[0.6666666666666666,\"#ed7953\"],[0.7777777777777778,\"#fb9f3a\"],[0.8888888888888888,\"#fdca26\"],[1.0,\"#f0f921\"]],\"diverging\":[[0,\"#8e0152\"],[0.1,\"#c51b7d\"],[0.2,\"#de77ae\"],[0.3,\"#f1b6da\"],[0.4,\"#fde0ef\"],[0.5,\"#f7f7f7\"],[0.6,\"#e6f5d0\"],[0.7,\"#b8e186\"],[0.8,\"#7fbc41\"],[0.9,\"#4d9221\"],[1,\"#276419\"]]},\"xaxis\":{\"gridcolor\":\"white\",\"linecolor\":\"white\",\"ticks\":\"\",\"title\":{\"standoff\":15},\"zerolinecolor\":\"white\",\"automargin\":true,\"zerolinewidth\":2},\"yaxis\":{\"gridcolor\":\"white\",\"linecolor\":\"white\",\"ticks\":\"\",\"title\":{\"standoff\":15},\"zerolinecolor\":\"white\",\"automargin\":true,\"zerolinewidth\":2},\"scene\":{\"xaxis\":{\"backgroundcolor\":\"#E5ECF6\",\"gridcolor\":\"white\",\"linecolor\":\"white\",\"showbackground\":true,\"ticks\":\"\",\"zerolinecolor\":\"white\",\"gridwidth\":2},\"yaxis\":{\"backgroundcolor\":\"#E5ECF6\",\"gridcolor\":\"white\",\"linecolor\":\"white\",\"showbackground\":true,\"ticks\":\"\",\"zerolinecolor\":\"white\",\"gridwidth\":2},\"zaxis\":{\"backgroundcolor\":\"#E5ECF6\",\"gridcolor\":\"white\",\"linecolor\":\"white\",\"showbackground\":true,\"ticks\":\"\",\"zerolinecolor\":\"white\",\"gridwidth\":2}},\"shapedefaults\":{\"line\":{\"color\":\"#2a3f5f\"}},\"annotationdefaults\":{\"arrowcolor\":\"#2a3f5f\",\"arrowhead\":0,\"arrowwidth\":1},\"geo\":{\"bgcolor\":\"white\",\"landcolor\":\"#E5ECF6\",\"subunitcolor\":\"white\",\"showland\":true,\"showlakes\":true,\"lakecolor\":\"white\"},\"title\":{\"x\":0.05},\"mapbox\":{\"style\":\"light\"}}},\"xaxis\":{\"anchor\":\"y\",\"domain\":[0.0,1.0],\"title\":{\"text\":\"value\"}},\"yaxis\":{\"anchor\":\"x\",\"domain\":[0.0,1.0],\"title\":{\"text\":\"count\"}},\"legend\":{\"title\":{\"text\":\"variable\"},\"tracegroupgap\":0},\"margin\":{\"t\":60},\"barmode\":\"relative\"},                        {\"responsive\": true}                    ).then(function(){\n",
       "                            \n",
       "var gd = document.getElementById('b62f855e-17f5-445d-81eb-52846ec41bc1');\n",
       "var x = new MutationObserver(function (mutations, observer) {{\n",
       "        var display = window.getComputedStyle(gd).display;\n",
       "        if (!display || display === 'none') {{\n",
       "            console.log([gd, 'removed!']);\n",
       "            Plotly.purge(gd);\n",
       "            observer.disconnect();\n",
       "        }}\n",
       "}});\n",
       "\n",
       "// Listen for the removal of the full notebook cells\n",
       "var notebookContainer = gd.closest('#notebook-container');\n",
       "if (notebookContainer) {{\n",
       "    x.observe(notebookContainer, {childList: true});\n",
       "}}\n",
       "\n",
       "// Listen for the clearing of the current output cell\n",
       "var outputEl = gd.closest('.output');\n",
       "if (outputEl) {{\n",
       "    x.observe(outputEl, {childList: true});\n",
       "}}\n",
       "\n",
       "                        })                };                });            </script>        </div>"
      ]
     },
     "metadata": {},
     "output_type": "display_data"
    }
   ],
   "execution_count": 139
  },
  {
   "metadata": {
    "ExecuteTime": {
     "end_time": "2024-05-29T01:11:09.144265Z",
     "start_time": "2024-05-29T01:11:08.814676Z"
    }
   },
   "cell_type": "code",
   "source": [
    "import seaborn as sns\n",
    "\n",
    "sns.distplot(a, bins=2)"
   ],
   "id": "b482ae1612d5d815",
   "outputs": [
    {
     "name": "stderr",
     "output_type": "stream",
     "text": [
      "/var/folders/sb/_wglw_tj2s33qkd3sqbydk480000gn/T/ipykernel_90485/1844050864.py:3: UserWarning:\n",
      "\n",
      "\n",
      "\n",
      "`distplot` is a deprecated function and will be removed in seaborn v0.14.0.\n",
      "\n",
      "Please adapt your code to use either `displot` (a figure-level function with\n",
      "similar flexibility) or `histplot` (an axes-level function for histograms).\n",
      "\n",
      "For a guide to updating your code to use the new functions, please see\n",
      "https://gist.github.com/mwaskom/de44147ed2974457ad6372750bbe5751\n",
      "\n",
      "\n"
     ]
    },
    {
     "data": {
      "text/plain": [
       "<Axes: ylabel='Density'>"
      ]
     },
     "execution_count": 146,
     "metadata": {},
     "output_type": "execute_result"
    },
    {
     "data": {
      "text/plain": [
       "<Figure size 640x480 with 1 Axes>"
      ],
      "image/png": "[encoded data removed]"
     },
     "metadata": {},
     "output_type": "display_data"
    }
   ],
   "execution_count": 146
  },
  {
   "metadata": {
    "ExecuteTime": {
     "end_time": "2024-05-29T01:08:57.485787Z",
     "start_time": "2024-05-29T01:08:57.481990Z"
    }
   },
   "cell_type": "code",
   "source": [
    "b = np.random.normal(0.0, 1.0, 3)\n",
    "b"
   ],
   "id": "1eff6a70ee89f8bc",
   "outputs": [
    {
     "data": {
      "text/plain": [
       "array([-1.30081819, -0.3643113 , -0.43124236])"
      ]
     },
     "execution_count": 135,
     "metadata": {},
     "output_type": "execute_result"
    }
   ],
   "execution_count": 135
  },
  {
   "metadata": {
    "ExecuteTime": {
     "end_time": "2024-05-29T01:08:59.072596Z",
     "start_time": "2024-05-29T01:08:59.027647Z"
    }
   },
   "cell_type": "code",
   "source": "px.histogram(b)",
   "id": "465af11850819a81",
   "outputs": [
    {
     "data": {
      "application/vnd.plotly.v1+json": {
       "data": [
        {
         "alignmentgroup": "True",
         "bingroup": "x",
         "hovertemplate": "variable=0<br>value=%{x}<br>count=%{y}<extra></extra>",
         "legendgroup": "0",
         "marker": {
          "color": "#636efa",
          "pattern": {
           "shape": ""
          }
         },
         "name": "0",
         "offsetgroup": "0",
         "orientation": "v",
         "showlegend": true,
         "x": [
          -1.3008181863469632,
          -0.36431130196558037,
          -0.4312423607326847
         ],
         "xaxis": "x",
         "yaxis": "y",
         "type": "histogram"
        }
       ],
       "layout": {
        "template": {
         "data": {
          "histogram2dcontour": [
           {
            "type": "histogram2dcontour",
            "colorbar": {
             "outlinewidth": 0,
             "ticks": ""
            },
            "colorscale": [
             [
              0.0,
              "#0d0887"
             ],
             [
              0.1111111111111111,
              "#46039f"
             ],
             [
              0.2222222222222222,
              "#7201a8"
             ],
             [
              0.3333333333333333,
              "#9c179e"
             ],
             [
              0.4444444444444444,
              "#bd3786"
             ],
             [
              0.5555555555555556,
              "#d8576b"
             ],
             [
              0.6666666666666666,
              "#ed7953"
             ],
             [
              0.7777777777777778,
              "#fb9f3a"
             ],
             [
              0.8888888888888888,
              "#fdca26"
             ],
             [
              1.0,
              "#f0f921"
             ]
            ]
           }
          ],
          "choropleth": [
           {
            "type": "choropleth",
            "colorbar": {
             "outlinewidth": 0,
             "ticks": ""
            }
           }
          ],
          "histogram2d": [
           {
            "type": "histogram2d",
            "colorbar": {
             "outlinewidth": 0,
             "ticks": ""
            },
            "colorscale": [
             [
              0.0,
              "#0d0887"
             ],
             [
              0.1111111111111111,
              "#46039f"
             ],
             [
              0.2222222222222222,
              "#7201a8"
             ],
             [
              0.3333333333333333,
              "#9c179e"
             ],
             [
              0.4444444444444444,
              "#bd3786"
             ],
             [
              0.5555555555555556,
              "#d8576b"
             ],
             [
              0.6666666666666666,
              "#ed7953"
             ],
             [
              0.7777777777777778,
              "#fb9f3a"
             ],
             [
              0.8888888888888888,
              "#fdca26"
             ],
             [
              1.0,
              "#f0f921"
             ]
            ]
           }
          ],
          "heatmap": [
           {
            "type": "heatmap",
            "colorbar": {
             "outlinewidth": 0,
             "ticks": ""
            },
            "colorscale": [
             [
              0.0,
              "#0d0887"
             ],
             [
              0.1111111111111111,
              "#46039f"
             ],
             [
              0.2222222222222222,
              "#7201a8"
             ],
             [
              0.3333333333333333,
              "#9c179e"
             ],
             [
              0.4444444444444444,
              "#bd3786"
             ],
             [
              0.5555555555555556,
              "#d8576b"
             ],
             [
              0.6666666666666666,
              "#ed7953"
             ],
             [
              0.7777777777777778,
              "#fb9f3a"
             ],
             [
              0.8888888888888888,
              "#fdca26"
             ],
             [
              1.0,
              "#f0f921"
             ]
            ]
           }
          ],
          "heatmapgl": [
           {
            "type": "heatmapgl",
            "colorbar": {
             "outlinewidth": 0,
             "ticks": ""
            },
            "colorscale": [
             [
              0.0,
              "#0d0887"
             ],
             [
              0.1111111111111111,
              "#46039f"
             ],
             [
              0.2222222222222222,
              "#7201a8"
             ],
             [
              0.3333333333333333,
              "#9c179e"
             ],
             [
              0.4444444444444444,
              "#bd3786"
             ],
             [
              0.5555555555555556,
              "#d8576b"
             ],
             [
              0.6666666666666666,
              "#ed7953"
             ],
             [
              0.7777777777777778,
              "#fb9f3a"
             ],
             [
              0.8888888888888888,
              "#fdca26"
             ],
             [
              1.0,
              "#f0f921"
             ]
            ]
           }
          ],
          "contourcarpet": [
           {
            "type": "contourcarpet",
            "colorbar": {
             "outlinewidth": 0,
             "ticks": ""
            }
           }
          ],
          "contour": [
           {
            "type": "contour",
            "colorbar": {
             "outlinewidth": 0,
             "ticks": ""
            },
            "colorscale": [
             [
              0.0,
              "#0d0887"
             ],
             [
              0.1111111111111111,
              "#46039f"
             ],
             [
              0.2222222222222222,
              "#7201a8"
             ],
             [
              0.3333333333333333,
              "#9c179e"
             ],
             [
              0.4444444444444444,
              "#bd3786"
             ],
             [
              0.5555555555555556,
              "#d8576b"
             ],
             [
              0.6666666666666666,
              "#ed7953"
             ],
             [
              0.7777777777777778,
              "#fb9f3a"
             ],
             [
              0.8888888888888888,
              "#fdca26"
             ],
             [
              1.0,
              "#f0f921"
             ]
            ]
           }
          ],
          "surface": [
           {
            "type": "surface",
            "colorbar": {
             "outlinewidth": 0,
             "ticks": ""
            },
            "colorscale": [
             [
              0.0,
              "#0d0887"
             ],
             [
              0.1111111111111111,
              "#46039f"
             ],
             [
              0.2222222222222222,
              "#7201a8"
             ],
             [
              0.3333333333333333,
              "#9c179e"
             ],
             [
              0.4444444444444444,
              "#bd3786"
             ],
             [
              0.5555555555555556,
              "#d8576b"
             ],
             [
              0.6666666666666666,
              "#ed7953"
             ],
             [
              0.7777777777777778,
              "#fb9f3a"
             ],
             [
              0.8888888888888888,
              "#fdca26"
             ],
             [
              1.0,
              "#f0f921"
             ]
            ]
           }
          ],
          "mesh3d": [
           {
            "type": "mesh3d",
            "colorbar": {
             "outlinewidth": 0,
             "ticks": ""
            }
           }
          ],
          "scatter": [
           {
            "fillpattern": {
             "fillmode": "overlay",
             "size": 10,
             "solidity": 0.2
            },
            "type": "scatter"
           }
          ],
          "parcoords": [
           {
            "type": "parcoords",
            "line": {
             "colorbar": {
              "outlinewidth": 0,
              "ticks": ""
             }
            }
           }
          ],
          "scatterpolargl": [
           {
            "type": "scatterpolargl",
            "marker": {
             "colorbar": {
              "outlinewidth": 0,
              "ticks": ""
             }
            }
           }
          ],
          "bar": [
           {
            "error_x": {
             "color": "#2a3f5f"
            },
            "error_y": {
             "color": "#2a3f5f"
            },
            "marker": {
             "line": {
              "color": "#E5ECF6",
              "width": 0.5
             },
             "pattern": {
              "fillmode": "overlay",
              "size": 10,
              "solidity": 0.2
             }
            },
            "type": "bar"
           }
          ],
          "scattergeo": [
           {
            "type": "scattergeo",
            "marker": {
             "colorbar": {
              "outlinewidth": 0,
              "ticks": ""
             }
            }
           }
          ],
          "scatterpolar": [
           {
            "type": "scatterpolar",
            "marker": {
             "colorbar": {
              "outlinewidth": 0,
              "ticks": ""
             }
            }
           }
          ],
          "histogram": [
           {
            "marker": {
             "pattern": {
              "fillmode": "overlay",
              "size": 10,
              "solidity": 0.2
             }
            },
            "type": "histogram"
           }
          ],
          "scattergl": [
           {
            "type": "scattergl",
            "marker": {
             "colorbar": {
              "outlinewidth": 0,
              "ticks": ""
             }
            }
           }
          ],
          "scatter3d": [
           {
            "type": "scatter3d",
            "line": {
             "colorbar": {
              "outlinewidth": 0,
              "ticks": ""
             }
            },
            "marker": {
             "colorbar": {
              "outlinewidth": 0,
              "ticks": ""
             }
            }
           }
          ],
          "scattermapbox": [
           {
            "type": "scattermapbox",
            "marker": {
             "colorbar": {
              "outlinewidth": 0,
              "ticks": ""
             }
            }
           }
          ],
          "scatterternary": [
           {
            "type": "scatterternary",
            "marker": {
             "colorbar": {
              "outlinewidth": 0,
              "ticks": ""
             }
            }
           }
          ],
          "scattercarpet": [
           {
            "type": "scattercarpet",
            "marker": {
             "colorbar": {
              "outlinewidth": 0,
              "ticks": ""
             }
            }
           }
          ],
          "carpet": [
           {
            "aaxis": {
             "endlinecolor": "#2a3f5f",
             "gridcolor": "white",
             "linecolor": "white",
             "minorgridcolor": "white",
             "startlinecolor": "#2a3f5f"
            },
            "baxis": {
             "endlinecolor": "#2a3f5f",
             "gridcolor": "white",
             "linecolor": "white",
             "minorgridcolor": "white",
             "startlinecolor": "#2a3f5f"
            },
            "type": "carpet"
           }
          ],
          "table": [
           {
            "cells": {
             "fill": {
              "color": "#EBF0F8"
             },
             "line": {
              "color": "white"
             }
            },
            "header": {
             "fill": {
              "color": "#C8D4E3"
             },
             "line": {
              "color": "white"
             }
            },
            "type": "table"
           }
          ],
          "barpolar": [
           {
            "marker": {
             "line": {
              "color": "#E5ECF6",
              "width": 0.5
             },
             "pattern": {
              "fillmode": "overlay",
              "size": 10,
              "solidity": 0.2
             }
            },
            "type": "barpolar"
           }
          ],
          "pie": [
           {
            "automargin": true,
            "type": "pie"
           }
          ]
         },
         "layout": {
          "autotypenumbers": "strict",
          "colorway": [
           "#636efa",
           "#EF553B",
           "#00cc96",
           "#ab63fa",
           "#FFA15A",
           "#19d3f3",
           "#FF6692",
           "#B6E880",
           "#FF97FF",
           "#FECB52"
          ],
          "font": {
           "color": "#2a3f5f"
          },
          "hovermode": "closest",
          "hoverlabel": {
           "align": "left"
          },
          "paper_bgcolor": "white",
          "plot_bgcolor": "#E5ECF6",
          "polar": {
           "bgcolor": "#E5ECF6",
           "angularaxis": {
            "gridcolor": "white",
            "linecolor": "white",
            "ticks": ""
           },
           "radialaxis": {
            "gridcolor": "white",
            "linecolor": "white",
            "ticks": ""
           }
          },
          "ternary": {
           "bgcolor": "#E5ECF6",
           "aaxis": {
            "gridcolor": "white",
            "linecolor": "white",
            "ticks": ""
           },
           "baxis": {
            "gridcolor": "white",
            "linecolor": "white",
            "ticks": ""
           },
           "caxis": {
            "gridcolor": "white",
            "linecolor": "white",
            "ticks": ""
           }
          },
          "coloraxis": {
           "colorbar": {
            "outlinewidth": 0,
            "ticks": ""
           }
          },
          "colorscale": {
           "sequential": [
            [
             0.0,
             "#0d0887"
            ],
            [
             0.1111111111111111,
             "#46039f"
            ],
            [
             0.2222222222222222,
             "#7201a8"
            ],
            [
             0.3333333333333333,
             "#9c179e"
            ],
            [
             0.4444444444444444,
             "#bd3786"
            ],
            [
             0.5555555555555556,
             "#d8576b"
            ],
            [
             0.6666666666666666,
             "#ed7953"
            ],
            [
             0.7777777777777778,
             "#fb9f3a"
            ],
            [
             0.8888888888888888,
             "#fdca26"
            ],
            [
             1.0,
             "#f0f921"
            ]
           ],
           "sequentialminus": [
            [
             0.0,
             "#0d0887"
            ],
            [
             0.1111111111111111,
             "#46039f"
            ],
            [
             0.2222222222222222,
             "#7201a8"
            ],
            [
             0.3333333333333333,
             "#9c179e"
            ],
            [
             0.4444444444444444,
             "#bd3786"
            ],
            [
             0.5555555555555556,
             "#d8576b"
            ],
            [
             0.6666666666666666,
             "#ed7953"
            ],
            [
             0.7777777777777778,
             "#fb9f3a"
            ],
            [
             0.8888888888888888,
             "#fdca26"
            ],
            [
             1.0,
             "#f0f921"
            ]
           ],
           "diverging": [
            [
             0,
             "#8e0152"
            ],
            [
             0.1,
             "#c51b7d"
            ],
            [
             0.2,
             "#de77ae"
            ],
            [
             0.3,
             "#f1b6da"
            ],
            [
             0.4,
             "#fde0ef"
            ],
            [
             0.5,
             "#f7f7f7"
            ],
            [
             0.6,
             "#e6f5d0"
            ],
            [
             0.7,
             "#b8e186"
            ],
            [
             0.8,
             "#7fbc41"
            ],
            [
             0.9,
             "#4d9221"
            ],
            [
             1,
             "#276419"
            ]
           ]
          },
          "xaxis": {
           "gridcolor": "white",
           "linecolor": "white",
           "ticks": "",
           "title": {
            "standoff": 15
           },
           "zerolinecolor": "white",
           "automargin": true,
           "zerolinewidth": 2
          },
          "yaxis": {
           "gridcolor": "white",
           "linecolor": "white",
           "ticks": "",
           "title": {
            "standoff": 15
           },
           "zerolinecolor": "white",
           "automargin": true,
           "zerolinewidth": 2
          },
          "scene": {
           "xaxis": {
            "backgroundcolor": "#E5ECF6",
            "gridcolor": "white",
            "linecolor": "white",
            "showbackground": true,
            "ticks": "",
            "zerolinecolor": "white",
            "gridwidth": 2
           },
           "yaxis": {
            "backgroundcolor": "#E5ECF6",
            "gridcolor": "white",
            "linecolor": "white",
            "showbackground": true,
            "ticks": "",
            "zerolinecolor": "white",
            "gridwidth": 2
           },
           "zaxis": {
            "backgroundcolor": "#E5ECF6",
            "gridcolor": "white",
            "linecolor": "white",
            "showbackground": true,
            "ticks": "",
            "zerolinecolor": "white",
            "gridwidth": 2
           }
          },
          "shapedefaults": {
           "line": {
            "color": "#2a3f5f"
           }
          },
          "annotationdefaults": {
           "arrowcolor": "#2a3f5f",
           "arrowhead": 0,
           "arrowwidth": 1
          },
          "geo": {
           "bgcolor": "white",
           "landcolor": "#E5ECF6",
           "subunitcolor": "white",
           "showland": true,
           "showlakes": true,
           "lakecolor": "white"
          },
          "title": {
           "x": 0.05
          },
          "mapbox": {
           "style": "light"
          }
         }
        },
        "xaxis": {
         "anchor": "y",
         "domain": [
          0.0,
          1.0
         ],
         "title": {
          "text": "value"
         }
        },
        "yaxis": {
         "anchor": "x",
         "domain": [
          0.0,
          1.0
         ],
         "title": {
          "text": "count"
         }
        },
        "legend": {
         "title": {
          "text": "variable"
         },
         "tracegroupgap": 0
        },
        "margin": {
         "t": 60
        },
        "barmode": "relative"
       },
       "config": {
        "plotlyServerURL": "https://plot.ly"
       }
      },
      "text/html": [
       "<div>                            <div id=\"e3718d59-c314-4a58-a333-8bdfde56d42c\" class=\"plotly-graph-div\" style=\"height:525px; width:100%;\"></div>            <script type=\"text/javascript\">                require([\"plotly\"], function(Plotly) {                    window.PLOTLYENV=window.PLOTLYENV || {};                                    if (document.getElementById(\"e3718d59-c314-4a58-a333-8bdfde56d42c\")) {                    Plotly.newPlot(                        \"e3718d59-c314-4a58-a333-8bdfde56d42c\",                        [{\"alignmentgroup\":\"True\",\"bingroup\":\"x\",\"hovertemplate\":\"variable=0<br>value=%{x}<br>count=%{y}<extra></extra>\",\"legendgroup\":\"0\",\"marker\":{\"color\":\"#636efa\",\"pattern\":{\"shape\":\"\"}},\"name\":\"0\",\"offsetgroup\":\"0\",\"orientation\":\"v\",\"showlegend\":true,\"x\":[-1.3008181863469632,-0.36431130196558037,-0.4312423607326847],\"xaxis\":\"x\",\"yaxis\":\"y\",\"type\":\"histogram\"}],                        {\"template\":{\"data\":{\"histogram2dcontour\":[{\"type\":\"histogram2dcontour\",\"colorbar\":{\"outlinewidth\":0,\"ticks\":\"\"},\"colorscale\":[[0.0,\"#0d0887\"],[0.1111111111111111,\"#46039f\"],[0.2222222222222222,\"#7201a8\"],[0.3333333333333333,\"#9c179e\"],[0.4444444444444444,\"#bd3786\"],[0.5555555555555556,\"#d8576b\"],[0.6666666666666666,\"#ed7953\"],[0.7777777777777778,\"#fb9f3a\"],[0.8888888888888888,\"#fdca26\"],[1.0,\"#f0f921\"]]}],\"choropleth\":[{\"type\":\"choropleth\",\"colorbar\":{\"outlinewidth\":0,\"ticks\":\"\"}}],\"histogram2d\":[{\"type\":\"histogram2d\",\"colorbar\":{\"outlinewidth\":0,\"ticks\":\"\"},\"colorscale\":[[0.0,\"#0d0887\"],[0.1111111111111111,\"#46039f\"],[0.2222222222222222,\"#7201a8\"],[0.3333333333333333,\"#9c179e\"],[0.4444444444444444,\"#bd3786\"],[0.5555555555555556,\"#d8576b\"],[0.6666666666666666,\"#ed7953\"],[0.7777777777777778,\"#fb9f3a\"],[0.8888888888888888,\"#fdca26\"],[1.0,\"#f0f921\"]]}],\"heatmap\":[{\"type\":\"heatmap\",\"colorbar\":{\"outlinewidth\":0,\"ticks\":\"\"},\"colorscale\":[[0.0,\"#0d0887\"],[0.1111111111111111,\"#46039f\"],[0.2222222222222222,\"#7201a8\"],[0.3333333333333333,\"#9c179e\"],[0.4444444444444444,\"#bd3786\"],[0.5555555555555556,\"#d8576b\"],[0.6666666666666666,\"#ed7953\"],[0.7777777777777778,\"#fb9f3a\"],[0.8888888888888888,\"#fdca26\"],[1.0,\"#f0f921\"]]}],\"heatmapgl\":[{\"type\":\"heatmapgl\",\"colorbar\":{\"outlinewidth\":0,\"ticks\":\"\"},\"colorscale\":[[0.0,\"#0d0887\"],[0.1111111111111111,\"#46039f\"],[0.2222222222222222,\"#7201a8\"],[0.3333333333333333,\"#9c179e\"],[0.4444444444444444,\"#bd3786\"],[0.5555555555555556,\"#d8576b\"],[0.6666666666666666,\"#ed7953\"],[0.7777777777777778,\"#fb9f3a\"],[0.8888888888888888,\"#fdca26\"],[1.0,\"#f0f921\"]]}],\"contourcarpet\":[{\"type\":\"contourcarpet\",\"colorbar\":{\"outlinewidth\":0,\"ticks\":\"\"}}],\"contour\":[{\"type\":\"contour\",\"colorbar\":{\"outlinewidth\":0,\"ticks\":\"\"},\"colorscale\":[[0.0,\"#0d0887\"],[0.1111111111111111,\"#46039f\"],[0.2222222222222222,\"#7201a8\"],[0.3333333333333333,\"#9c179e\"],[0.4444444444444444,\"#bd3786\"],[0.5555555555555556,\"#d8576b\"],[0.6666666666666666,\"#ed7953\"],[0.7777777777777778,\"#fb9f3a\"],[0.8888888888888888,\"#fdca26\"],[1.0,\"#f0f921\"]]}],\"surface\":[{\"type\":\"surface\",\"colorbar\":{\"outlinewidth\":0,\"ticks\":\"\"},\"colorscale\":[[0.0,\"#0d0887\"],[0.1111111111111111,\"#46039f\"],[0.2222222222222222,\"#7201a8\"],[0.3333333333333333,\"#9c179e\"],[0.4444444444444444,\"#bd3786\"],[0.5555555555555556,\"#d8576b\"],[0.6666666666666666,\"#ed7953\"],[0.7777777777777778,\"#fb9f3a\"],[0.8888888888888888,\"#fdca26\"],[1.0,\"#f0f921\"]]}],\"mesh3d\":[{\"type\":\"mesh3d\",\"colorbar\":{\"outlinewidth\":0,\"ticks\":\"\"}}],\"scatter\":[{\"fillpattern\":{\"fillmode\":\"overlay\",\"size\":10,\"solidity\":0.2},\"type\":\"scatter\"}],\"parcoords\":[{\"type\":\"parcoords\",\"line\":{\"colorbar\":{\"outlinewidth\":0,\"ticks\":\"\"}}}],\"scatterpolargl\":[{\"type\":\"scatterpolargl\",\"marker\":{\"colorbar\":{\"outlinewidth\":0,\"ticks\":\"\"}}}],\"bar\":[{\"error_x\":{\"color\":\"#2a3f5f\"},\"error_y\":{\"color\":\"#2a3f5f\"},\"marker\":{\"line\":{\"color\":\"#E5ECF6\",\"width\":0.5},\"pattern\":{\"fillmode\":\"overlay\",\"size\":10,\"solidity\":0.2}},\"type\":\"bar\"}],\"scattergeo\":[{\"type\":\"scattergeo\",\"marker\":{\"colorbar\":{\"outlinewidth\":0,\"ticks\":\"\"}}}],\"scatterpolar\":[{\"type\":\"scatterpolar\",\"marker\":{\"colorbar\":{\"outlinewidth\":0,\"ticks\":\"\"}}}],\"histogram\":[{\"marker\":{\"pattern\":{\"fillmode\":\"overlay\",\"size\":10,\"solidity\":0.2}},\"type\":\"histogram\"}],\"scattergl\":[{\"type\":\"scattergl\",\"marker\":{\"colorbar\":{\"outlinewidth\":0,\"ticks\":\"\"}}}],\"scatter3d\":[{\"type\":\"scatter3d\",\"line\":{\"colorbar\":{\"outlinewidth\":0,\"ticks\":\"\"}},\"marker\":{\"colorbar\":{\"outlinewidth\":0,\"ticks\":\"\"}}}],\"scattermapbox\":[{\"type\":\"scattermapbox\",\"marker\":{\"colorbar\":{\"outlinewidth\":0,\"ticks\":\"\"}}}],\"scatterternary\":[{\"type\":\"scatterternary\",\"marker\":{\"colorbar\":{\"outlinewidth\":0,\"ticks\":\"\"}}}],\"scattercarpet\":[{\"type\":\"scattercarpet\",\"marker\":{\"colorbar\":{\"outlinewidth\":0,\"ticks\":\"\"}}}],\"carpet\":[{\"aaxis\":{\"endlinecolor\":\"#2a3f5f\",\"gridcolor\":\"white\",\"linecolor\":\"white\",\"minorgridcolor\":\"white\",\"startlinecolor\":\"#2a3f5f\"},\"baxis\":{\"endlinecolor\":\"#2a3f5f\",\"gridcolor\":\"white\",\"linecolor\":\"white\",\"minorgridcolor\":\"white\",\"startlinecolor\":\"#2a3f5f\"},\"type\":\"carpet\"}],\"table\":[{\"cells\":{\"fill\":{\"color\":\"#EBF0F8\"},\"line\":{\"color\":\"white\"}},\"header\":{\"fill\":{\"color\":\"#C8D4E3\"},\"line\":{\"color\":\"white\"}},\"type\":\"table\"}],\"barpolar\":[{\"marker\":{\"line\":{\"color\":\"#E5ECF6\",\"width\":0.5},\"pattern\":{\"fillmode\":\"overlay\",\"size\":10,\"solidity\":0.2}},\"type\":\"barpolar\"}],\"pie\":[{\"automargin\":true,\"type\":\"pie\"}]},\"layout\":{\"autotypenumbers\":\"strict\",\"colorway\":[\"#636efa\",\"#EF553B\",\"#00cc96\",\"#ab63fa\",\"#FFA15A\",\"#19d3f3\",\"#FF6692\",\"#B6E880\",\"#FF97FF\",\"#FECB52\"],\"font\":{\"color\":\"#2a3f5f\"},\"hovermode\":\"closest\",\"hoverlabel\":{\"align\":\"left\"},\"paper_bgcolor\":\"white\",\"plot_bgcolor\":\"#E5ECF6\",\"polar\":{\"bgcolor\":\"#E5ECF6\",\"angularaxis\":{\"gridcolor\":\"white\",\"linecolor\":\"white\",\"ticks\":\"\"},\"radialaxis\":{\"gridcolor\":\"white\",\"linecolor\":\"white\",\"ticks\":\"\"}},\"ternary\":{\"bgcolor\":\"#E5ECF6\",\"aaxis\":{\"gridcolor\":\"white\",\"linecolor\":\"white\",\"ticks\":\"\"},\"baxis\":{\"gridcolor\":\"white\",\"linecolor\":\"white\",\"ticks\":\"\"},\"caxis\":{\"gridcolor\":\"white\",\"linecolor\":\"white\",\"ticks\":\"\"}},\"coloraxis\":{\"colorbar\":{\"outlinewidth\":0,\"ticks\":\"\"}},\"colorscale\":{\"sequential\":[[0.0,\"#0d0887\"],[0.1111111111111111,\"#46039f\"],[0.2222222222222222,\"#7201a8\"],[0.3333333333333333,\"#9c179e\"],[0.4444444444444444,\"#bd3786\"],[0.5555555555555556,\"#d8576b\"],[0.6666666666666666,\"#ed7953\"],[0.7777777777777778,\"#fb9f3a\"],[0.8888888888888888,\"#fdca26\"],[1.0,\"#f0f921\"]],\"sequentialminus\":[[0.0,\"#0d0887\"],[0.1111111111111111,\"#46039f\"],[0.2222222222222222,\"#7201a8\"],[0.3333333333333333,\"#9c179e\"],[0.4444444444444444,\"#bd3786\"],[0.5555555555555556,\"#d8576b\"],[0.6666666666666666,\"#ed7953\"],[0.7777777777777778,\"#fb9f3a\"],[0.8888888888888888,\"#fdca26\"],[1.0,\"#f0f921\"]],\"diverging\":[[0,\"#8e0152\"],[0.1,\"#c51b7d\"],[0.2,\"#de77ae\"],[0.3,\"#f1b6da\"],[0.4,\"#fde0ef\"],[0.5,\"#f7f7f7\"],[0.6,\"#e6f5d0\"],[0.7,\"#b8e186\"],[0.8,\"#7fbc41\"],[0.9,\"#4d9221\"],[1,\"#276419\"]]},\"xaxis\":{\"gridcolor\":\"white\",\"linecolor\":\"white\",\"ticks\":\"\",\"title\":{\"standoff\":15},\"zerolinecolor\":\"white\",\"automargin\":true,\"zerolinewidth\":2},\"yaxis\":{\"gridcolor\":\"white\",\"linecolor\":\"white\",\"ticks\":\"\",\"title\":{\"standoff\":15},\"zerolinecolor\":\"white\",\"automargin\":true,\"zerolinewidth\":2},\"scene\":{\"xaxis\":{\"backgroundcolor\":\"#E5ECF6\",\"gridcolor\":\"white\",\"linecolor\":\"white\",\"showbackground\":true,\"ticks\":\"\",\"zerolinecolor\":\"white\",\"gridwidth\":2},\"yaxis\":{\"backgroundcolor\":\"#E5ECF6\",\"gridcolor\":\"white\",\"linecolor\":\"white\",\"showbackground\":true,\"ticks\":\"\",\"zerolinecolor\":\"white\",\"gridwidth\":2},\"zaxis\":{\"backgroundcolor\":\"#E5ECF6\",\"gridcolor\":\"white\",\"linecolor\":\"white\",\"showbackground\":true,\"ticks\":\"\",\"zerolinecolor\":\"white\",\"gridwidth\":2}},\"shapedefaults\":{\"line\":{\"color\":\"#2a3f5f\"}},\"annotationdefaults\":{\"arrowcolor\":\"#2a3f5f\",\"arrowhead\":0,\"arrowwidth\":1},\"geo\":{\"bgcolor\":\"white\",\"landcolor\":\"#E5ECF6\",\"subunitcolor\":\"white\",\"showland\":true,\"showlakes\":true,\"lakecolor\":\"white\"},\"title\":{\"x\":0.05},\"mapbox\":{\"style\":\"light\"}}},\"xaxis\":{\"anchor\":\"y\",\"domain\":[0.0,1.0],\"title\":{\"text\":\"value\"}},\"yaxis\":{\"anchor\":\"x\",\"domain\":[0.0,1.0],\"title\":{\"text\":\"count\"}},\"legend\":{\"title\":{\"text\":\"variable\"},\"tracegroupgap\":0},\"margin\":{\"t\":60},\"barmode\":\"relative\"},                        {\"responsive\": true}                    ).then(function(){\n",
       "                            \n",
       "var gd = document.getElementById('e3718d59-c314-4a58-a333-8bdfde56d42c');\n",
       "var x = new MutationObserver(function (mutations, observer) {{\n",
       "        var display = window.getComputedStyle(gd).display;\n",
       "        if (!display || display === 'none') {{\n",
       "            console.log([gd, 'removed!']);\n",
       "            Plotly.purge(gd);\n",
       "            observer.disconnect();\n",
       "        }}\n",
       "}});\n",
       "\n",
       "// Listen for the removal of the full notebook cells\n",
       "var notebookContainer = gd.closest('#notebook-container');\n",
       "if (notebookContainer) {{\n",
       "    x.observe(notebookContainer, {childList: true});\n",
       "}}\n",
       "\n",
       "// Listen for the clearing of the current output cell\n",
       "var outputEl = gd.closest('.output');\n",
       "if (outputEl) {{\n",
       "    x.observe(outputEl, {childList: true});\n",
       "}}\n",
       "\n",
       "                        })                };                });            </script>        </div>"
      ]
     },
     "metadata": {},
     "output_type": "display_data"
    }
   ],
   "execution_count": 136
  },
  {
   "metadata": {
    "ExecuteTime": {
     "end_time": "2024-05-29T01:18:50.058010Z",
     "start_time": "2024-05-29T01:18:50.015870Z"
    }
   },
   "cell_type": "code",
   "source": [
    "a = np.random.randint(0, 1100, 1_000_000)\n",
    "\n",
    "# (a[0])\n",
    "# filter_value = lambda val: val[0] > 6 or val[0] < -6\n",
    "# \n",
    "# print(len(filter_value(a)))\n",
    "# print(a[0])\n",
    "# TOOD:\n",
    "greater_than_6 = np.where(a > 6)\n",
    "less_than_6 = np.where(a < -6)\n",
    "\n",
    "print(len(x), len(greater_than_6[0]), len(less_than_6[0]))"
   ],
   "id": "4e2b23b2c75ffe38",
   "outputs": [
    {
     "name": "stdout",
     "output_type": "stream",
     "text": [
      "1 993713 0\n"
     ]
    }
   ],
   "execution_count": 163
  },
  {
   "metadata": {
    "ExecuteTime": {
     "end_time": "2024-05-29T01:21:03.877475Z",
     "start_time": "2024-05-29T01:21:03.872228Z"
    }
   },
   "cell_type": "code",
   "source": "d = np.random.logistic(0.0, 1.0, 3000)",
   "id": "711193f25f11efb5",
   "outputs": [],
   "execution_count": 169
  },
  {
   "metadata": {
    "ExecuteTime": {
     "end_time": "2024-05-29T01:21:05.029407Z",
     "start_time": "2024-05-29T01:21:04.737101Z"
    }
   },
   "cell_type": "code",
   "source": "sns.distplot(d)",
   "id": "d6000e30abe91cff",
   "outputs": [
    {
     "name": "stderr",
     "output_type": "stream",
     "text": [
      "/var/folders/sb/_wglw_tj2s33qkd3sqbydk480000gn/T/ipykernel_90485/528219514.py:1: UserWarning:\n",
      "\n",
      "\n",
      "\n",
      "`distplot` is a deprecated function and will be removed in seaborn v0.14.0.\n",
      "\n",
      "Please adapt your code to use either `displot` (a figure-level function with\n",
      "similar flexibility) or `histplot` (an axes-level function for histograms).\n",
      "\n",
      "For a guide to updating your code to use the new functions, please see\n",
      "https://gist.github.com/mwaskom/de44147ed2974457ad6372750bbe5751\n",
      "\n",
      "\n"
     ]
    },
    {
     "data": {
      "text/plain": [
       "<Axes: ylabel='Density'>"
      ]
     },
     "execution_count": 170,
     "metadata": {},
     "output_type": "execute_result"
    },
    {
     "data": {
      "text/plain": [
       "<Figure size 640x480 with 1 Axes>"
      ],
      "image/png": "[encoded data removed]"
     },
     "metadata": {},
     "output_type": "display_data"
    }
   ],
   "execution_count": 170
  },
  {
   "metadata": {
    "ExecuteTime": {
     "end_time": "2024-05-29T01:22:15.807495Z",
     "start_time": "2024-05-29T01:22:15.805101Z"
    }
   },
   "cell_type": "code",
   "source": "e = np.random.uniform(1.0, 2.0, 3000)",
   "id": "d5190b8165de1347",
   "outputs": [],
   "execution_count": 177
  },
  {
   "metadata": {
    "ExecuteTime": {
     "end_time": "2024-05-29T01:22:16.580745Z",
     "start_time": "2024-05-29T01:22:16.393661Z"
    }
   },
   "cell_type": "code",
   "source": "sns.distplot(e)",
   "id": "4e30a839875c2c5e",
   "outputs": [
    {
     "name": "stderr",
     "output_type": "stream",
     "text": [
      "/var/folders/sb/_wglw_tj2s33qkd3sqbydk480000gn/T/ipykernel_90485/749713740.py:1: UserWarning:\n",
      "\n",
      "\n",
      "\n",
      "`distplot` is a deprecated function and will be removed in seaborn v0.14.0.\n",
      "\n",
      "Please adapt your code to use either `displot` (a figure-level function with\n",
      "similar flexibility) or `histplot` (an axes-level function for histograms).\n",
      "\n",
      "For a guide to updating your code to use the new functions, please see\n",
      "https://gist.github.com/mwaskom/de44147ed2974457ad6372750bbe5751\n",
      "\n",
      "\n"
     ]
    },
    {
     "data": {
      "text/plain": [
       "<Axes: ylabel='Density'>"
      ]
     },
     "execution_count": 178,
     "metadata": {},
     "output_type": "execute_result"
    },
    {
     "data": {
      "text/plain": [
       "<Figure size 640x480 with 1 Axes>"
      ],
      "image/png": "[encoded data removed]"
     },
     "metadata": {},
     "output_type": "display_data"
    }
   ],
   "execution_count": 178
  },
  {
   "metadata": {
    "ExecuteTime": {
     "end_time": "2024-05-29T01:27:09.910855Z",
     "start_time": "2024-05-29T01:27:09.908229Z"
    }
   },
   "cell_type": "code",
   "source": [
    "f = np.random.rand(5)\n",
    "\n",
    "f\n",
    "\n",
    "# EXAM question"
   ],
   "id": "d47a34b350054ad",
   "outputs": [
    {
     "data": {
      "text/plain": [
       "array([0.1295073 , 0.17157972, 0.7781631 , 0.15638386, 0.247249  ])"
      ]
     },
     "execution_count": 185,
     "metadata": {},
     "output_type": "execute_result"
    }
   ],
   "execution_count": 185
  },
  {
   "metadata": {
    "ExecuteTime": {
     "end_time": "2024-05-29T01:27:04.668300Z",
     "start_time": "2024-05-29T01:27:04.666621Z"
    }
   },
   "cell_type": "code",
   "source": [
    "# to get same value \n",
    "np.random.seed(25)"
   ],
   "id": "74d24340661a1dca",
   "outputs": [],
   "execution_count": 182
  },
  {
   "metadata": {},
   "cell_type": "markdown",
   "source": "### Reshaping Arrays",
   "id": "b8854e409a03e162"
  },
  {
   "metadata": {
    "ExecuteTime": {
     "end_time": "2024-05-29T01:29:59.088165Z",
     "start_time": "2024-05-29T01:29:59.079256Z"
    }
   },
   "cell_type": "code",
   "source": [
    "matrix = np.array([[1, 2, 3], [4, 5, 6], [7, 8, 9], [10, 11, 12]])\n",
    "matrix"
   ],
   "id": "62d657c3aea999df",
   "outputs": [
    {
     "data": {
      "text/plain": [
       "array([[ 1,  2,  3],\n",
       "       [ 4,  5,  6],\n",
       "       [ 7,  8,  9],\n",
       "       [10, 11, 12]])"
      ]
     },
     "execution_count": 186,
     "metadata": {},
     "output_type": "execute_result"
    }
   ],
   "execution_count": 186
  },
  {
   "metadata": {
    "ExecuteTime": {
     "end_time": "2024-05-29T01:30:11.511442Z",
     "start_time": "2024-05-29T01:30:11.505586Z"
    }
   },
   "cell_type": "code",
   "source": "matrix.reshape(2, 6)",
   "id": "6078c4650c3b3028",
   "outputs": [
    {
     "data": {
      "text/plain": [
       "array([[ 1,  2,  3,  4,  5,  6],\n",
       "       [ 7,  8,  9, 10, 11, 12]])"
      ]
     },
     "execution_count": 188,
     "metadata": {},
     "output_type": "execute_result"
    }
   ],
   "execution_count": 188
  },
  {
   "metadata": {
    "ExecuteTime": {
     "end_time": "2024-05-29T01:31:33.891578Z",
     "start_time": "2024-05-29T01:31:33.874641Z"
    }
   },
   "cell_type": "code",
   "source": "matrix.reshape(-1, 1)",
   "id": "2c660f0683142632",
   "outputs": [
    {
     "data": {
      "text/plain": [
       "array([[ 1],\n",
       "       [ 2],\n",
       "       [ 3],\n",
       "       [ 4],\n",
       "       [ 5],\n",
       "       [ 6],\n",
       "       [ 7],\n",
       "       [ 8],\n",
       "       [ 9],\n",
       "       [10],\n",
       "       [11],\n",
       "       [12]])"
      ]
     },
     "execution_count": 190,
     "metadata": {},
     "output_type": "execute_result"
    }
   ],
   "execution_count": 190
  },
  {
   "metadata": {
    "ExecuteTime": {
     "end_time": "2024-05-29T01:32:05.334405Z",
     "start_time": "2024-05-29T01:32:05.330173Z"
    }
   },
   "cell_type": "code",
   "source": [
    "# .reshape(rows, columns)\n",
    "# if columns or row is -1 means as many as needed"
   ],
   "id": "2a05d509a65f1881",
   "outputs": [],
   "execution_count": 191
  },
  {
   "metadata": {},
   "cell_type": "code",
   "outputs": [],
   "execution_count": null,
   "source": "",
   "id": "26375438382b4082"
  }
 ],
 "metadata": {
  "kernelspec": {
   "display_name": "Python 3",
   "language": "python",
   "name": "python3"
  },
  "language_info": {
   "codemirror_mode": {
    "name": "ipython",
    "version": 2
   },
   "file_extension": ".py",
   "mimetype": "text/x-python",
   "name": "python",
   "nbconvert_exporter": "python",
   "pygments_lexer": "ipython2",
   "version": "2.7.6"
  }
 },
 "nbformat": 4,
 "nbformat_minor": 5
}
