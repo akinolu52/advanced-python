{
 "cells": [
  {
   "cell_type": "code",
   "id": "initial_id",
   "metadata": {
    "collapsed": true,
    "ExecuteTime": {
     "end_time": "2024-05-30T22:27:29.524309Z",
     "start_time": "2024-05-30T22:27:29.521480Z"
    }
   },
   "source": "import numpy as np",
   "execution_count": 3,
   "outputs": []
  },
  {
   "metadata": {},
   "cell_type": "markdown",
   "source": "Vector => 1 dimensional array",
   "id": "cc6a5788e7a89a18"
  },
  {
   "metadata": {
    "ExecuteTime": {
     "end_time": "2024-05-28T23:20:23.947619Z",
     "start_time": "2024-05-28T23:20:23.943066Z"
    }
   },
   "cell_type": "code",
   "source": [
    "# create a numpy array\n",
    "vector = np.array([1, 2, 3, 4, 5, 6, 3])"
   ],
   "id": "8d215dc6374fe65",
   "execution_count": 17,
   "outputs": []
  },
  {
   "metadata": {
    "ExecuteTime": {
     "end_time": "2024-05-28T23:23:00.110569Z",
     "start_time": "2024-05-28T23:23:00.103095Z"
    }
   },
   "cell_type": "code",
   "source": "vector",
   "id": "890b0b977a08b956",
   "execution_count": 27,
   "outputs": []
  },
  {
   "metadata": {
    "ExecuteTime": {
     "end_time": "2024-05-28T23:20:23.995Z",
     "start_time": "2024-05-28T23:20:23.992237Z"
    }
   },
   "cell_type": "code",
   "source": [
    "# select an element from the back\n",
    "vector[-4]"
   ],
   "id": "d933ba9d9e046fc2",
   "execution_count": 18,
   "outputs": []
  },
  {
   "metadata": {
    "ExecuteTime": {
     "end_time": "2024-05-28T23:20:24.005966Z",
     "start_time": "2024-05-28T23:20:24.003396Z"
    }
   },
   "cell_type": "code",
   "source": [
    "# select an element from the front\n",
    "vector[2]"
   ],
   "id": "619af1c311586cb7",
   "execution_count": 19,
   "outputs": []
  },
  {
   "metadata": {
    "ExecuteTime": {
     "end_time": "2024-05-28T23:20:24.009652Z",
     "start_time": "2024-05-28T23:20:24.007232Z"
    }
   },
   "cell_type": "code",
   "source": [
    "# forward slicing\n",
    "vector[2:5]"
   ],
   "id": "3d95a5e3dbb44b3",
   "execution_count": 20,
   "outputs": []
  },
  {
   "metadata": {
    "ExecuteTime": {
     "end_time": "2024-05-28T23:20:24.012694Z",
     "start_time": "2024-05-28T23:20:24.010555Z"
    }
   },
   "cell_type": "code",
   "source": [
    "# backward slicing\n",
    "vector[-4:-1]"
   ],
   "id": "c6f719513b4c9ad4",
   "execution_count": 21,
   "outputs": []
  },
  {
   "metadata": {
    "ExecuteTime": {
     "end_time": "2024-05-28T23:20:24.016938Z",
     "start_time": "2024-05-28T23:20:24.014308Z"
    }
   },
   "cell_type": "code",
   "source": [
    "# get the index of value 3\n",
    "np.where(vector == 3)"
   ],
   "id": "f8a4e7912b157e49",
   "execution_count": 22,
   "outputs": []
  },
  {
   "metadata": {
    "ExecuteTime": {
     "end_time": "2024-05-28T23:20:46.010825Z",
     "start_time": "2024-05-28T23:20:46.004835Z"
    }
   },
   "cell_type": "code",
   "source": [
    "# select every other data in the vector\n",
    "vector[0::2]"
   ],
   "id": "7ad15cd55be2e19a",
   "execution_count": 24,
   "outputs": []
  },
  {
   "metadata": {},
   "cell_type": "markdown",
   "source": "Matrix => 2 dimensional array",
   "id": "24cc5359d70180f4"
  },
  {
   "metadata": {
    "ExecuteTime": {
     "end_time": "2024-05-28T23:22:37.457983Z",
     "start_time": "2024-05-28T23:22:37.426096Z"
    }
   },
   "cell_type": "code",
   "source": "matrix = np.array([[1, 2, 3, 4], [5, 6, 7, 8], [9, 10, 11, 12], [13, 14, 15, 16]])",
   "id": "ab2a3b2f283a9bde",
   "execution_count": 25,
   "outputs": []
  },
  {
   "metadata": {
    "ExecuteTime": {
     "end_time": "2024-05-28T23:22:40.846088Z",
     "start_time": "2024-05-28T23:22:40.843485Z"
    }
   },
   "cell_type": "code",
   "source": "matrix",
   "id": "dcb5c80f2127f0ad",
   "execution_count": 26,
   "outputs": []
  },
  {
   "metadata": {
    "ExecuteTime": {
     "end_time": "2024-05-28T23:23:07.073160Z",
     "start_time": "2024-05-28T23:23:07.064760Z"
    }
   },
   "cell_type": "code",
   "source": "matrix[1, 1]",
   "id": "8d04fac52a85ba51",
   "execution_count": 28,
   "outputs": []
  },
  {
   "metadata": {
    "ExecuteTime": {
     "end_time": "2024-05-28T23:26:49.647993Z",
     "start_time": "2024-05-28T23:26:49.641518Z"
    }
   },
   "cell_type": "code",
   "source": "matrix[-3, -3]",
   "id": "c464baf13fe405f1",
   "execution_count": 31,
   "outputs": []
  },
  {
   "metadata": {
    "ExecuteTime": {
     "end_time": "2024-05-28T23:35:01.091754Z",
     "start_time": "2024-05-28T23:35:01.079892Z"
    }
   },
   "cell_type": "code",
   "source": "matrix_2 = np.array([[1, 2, 3], [4, 5, 6], [7, 8, 9]])",
   "id": "c76c357cc5b58a67",
   "execution_count": 55,
   "outputs": []
  },
  {
   "metadata": {
    "ExecuteTime": {
     "end_time": "2024-05-28T23:35:04.538321Z",
     "start_time": "2024-05-28T23:35:04.535434Z"
    }
   },
   "cell_type": "code",
   "source": "matrix_2",
   "id": "65b03db794e833c6",
   "execution_count": 56,
   "outputs": []
  },
  {
   "metadata": {
    "ExecuteTime": {
     "end_time": "2024-05-28T23:35:18.472161Z",
     "start_time": "2024-05-28T23:35:18.464860Z"
    }
   },
   "cell_type": "code",
   "source": "matrix_2[1:, 1:]",
   "id": "73a1db0fbeb54e9d",
   "execution_count": 58,
   "outputs": []
  },
  {
   "metadata": {
    "ExecuteTime": {
     "end_time": "2024-05-28T23:36:52.594648Z",
     "start_time": "2024-05-28T23:36:52.582661Z"
    }
   },
   "cell_type": "code",
   "source": [
    "# find the index of value 6\n",
    "np.where(matrix_2 == 6)"
   ],
   "id": "3d85bc9d2b5c86c8",
   "execution_count": 59,
   "outputs": []
  },
  {
   "metadata": {
    "ExecuteTime": {
     "end_time": "2024-05-28T23:37:08.995527Z",
     "start_time": "2024-05-28T23:37:08.973881Z"
    }
   },
   "cell_type": "code",
   "source": [
    "# find the index of value 6\n",
    "np.where(matrix == 6)"
   ],
   "id": "c80c360468678ece",
   "execution_count": 60,
   "outputs": []
  },
  {
   "metadata": {
    "ExecuteTime": {
     "end_time": "2024-05-28T23:38:13.090025Z",
     "start_time": "2024-05-28T23:38:13.075305Z"
    }
   },
   "cell_type": "code",
   "source": "matrix",
   "id": "8dacc465469525cd",
   "execution_count": 61,
   "outputs": []
  },
  {
   "metadata": {
    "ExecuteTime": {
     "end_time": "2024-05-28T23:38:56.665540Z",
     "start_time": "2024-05-28T23:38:56.654930Z"
    }
   },
   "cell_type": "code",
   "source": [
    "# slicing in 4 x 4 matrix\n",
    "matrix[1:, 1:]"
   ],
   "id": "3dedf6be81da9c0",
   "execution_count": 62,
   "outputs": []
  },
  {
   "metadata": {
    "ExecuteTime": {
     "end_time": "2024-05-28T23:40:45.886341Z",
     "start_time": "2024-05-28T23:40:45.879170Z"
    }
   },
   "cell_type": "code",
   "source": [
    "# select every other value in the matrix\n",
    "matrix[0::2, 0::2]"
   ],
   "id": "770fde7c0b172d7d",
   "execution_count": 64,
   "outputs": []
  },
  {
   "metadata": {
    "ExecuteTime": {
     "end_time": "2024-05-28T23:40:30.713658Z",
     "start_time": "2024-05-28T23:40:30.704252Z"
    }
   },
   "cell_type": "code",
   "source": "matrix",
   "id": "a085c0f6d780b46",
   "execution_count": 63,
   "outputs": []
  },
  {
   "metadata": {
    "ExecuteTime": {
     "end_time": "2024-05-28T23:41:45.670430Z",
     "start_time": "2024-05-28T23:41:45.663246Z"
    }
   },
   "cell_type": "code",
   "source": [
    "# get the number of rows and columns in a matrix\n",
    "matrix.shape"
   ],
   "id": "3901f16b64627dc0",
   "execution_count": 65,
   "outputs": []
  },
  {
   "metadata": {
    "ExecuteTime": {
     "end_time": "2024-05-28T23:41:53.089550Z",
     "start_time": "2024-05-28T23:41:53.081936Z"
    }
   },
   "cell_type": "code",
   "source": [
    "# get total number of element in a matrix\n",
    "matrix.size"
   ],
   "id": "d99a03dbe6251f62",
   "execution_count": 66,
   "outputs": []
  },
  {
   "metadata": {
    "ExecuteTime": {
     "end_time": "2024-05-28T23:42:28.203703Z",
     "start_time": "2024-05-28T23:42:28.189654Z"
    }
   },
   "cell_type": "code",
   "source": [
    "# to get the number of dimension in a matrix\n",
    "matrix.ndim"
   ],
   "id": "e0e2de5dcacad18e",
   "execution_count": 67,
   "outputs": []
  },
  {
   "metadata": {},
   "cell_type": "markdown",
   "source": "Dot Product of two vector",
   "id": "c459113457471f16"
  },
  {
   "metadata": {
    "ExecuteTime": {
     "end_time": "2024-05-28T23:49:58.095047Z",
     "start_time": "2024-05-28T23:49:58.073425Z"
    }
   },
   "cell_type": "code",
   "source": [
    "vector_a = np.array([1, 2, 3])\n",
    "vector_b = np.array([4, 5, 6])"
   ],
   "id": "d4dbd1f691aaa69a",
   "execution_count": 68,
   "outputs": []
  },
  {
   "metadata": {
    "ExecuteTime": {
     "end_time": "2024-05-28T23:50:08.054685Z",
     "start_time": "2024-05-28T23:50:08.047702Z"
    }
   },
   "cell_type": "code",
   "source": "np.dot(vector_a, vector_b)",
   "id": "c85e410e9d01c8f3",
   "execution_count": 69,
   "outputs": []
  },
  {
   "metadata": {},
   "cell_type": "markdown",
   "source": "Add matrix",
   "id": "1e9e1342ba195a63"
  },
  {
   "metadata": {
    "ExecuteTime": {
     "end_time": "2024-05-28T23:51:35.378912Z",
     "start_time": "2024-05-28T23:51:35.368857Z"
    }
   },
   "cell_type": "code",
   "source": [
    "matrix_a = np.array([[1, 1, 1], [1, 1, 1], [1, 1, 2]])\n",
    "matrix_b = np.array([[1, 3, 1], [1, 3, 1], [1, 3, 8]])"
   ],
   "id": "3624349e3b8b781",
   "execution_count": 71,
   "outputs": []
  },
  {
   "metadata": {
    "ExecuteTime": {
     "end_time": "2024-05-28T23:52:15.431300Z",
     "start_time": "2024-05-28T23:52:15.424954Z"
    }
   },
   "cell_type": "code",
   "source": "np.add(matrix_a, matrix_b)",
   "id": "6cd4e84f737cd258",
   "execution_count": 75,
   "outputs": []
  },
  {
   "metadata": {
    "ExecuteTime": {
     "end_time": "2024-05-28T23:52:15.875272Z",
     "start_time": "2024-05-28T23:52:15.871864Z"
    }
   },
   "cell_type": "code",
   "source": "np.subtract(matrix_a, matrix_a)",
   "id": "8cc89754520b4668",
   "execution_count": 76,
   "outputs": []
  },
  {
   "metadata": {},
   "cell_type": "markdown",
   "source": "Add a value to a np matrix",
   "id": "e2f12ae22a24c920"
  },
  {
   "metadata": {
    "ExecuteTime": {
     "end_time": "2024-05-29T00:06:05.525950Z",
     "start_time": "2024-05-29T00:06:05.517161Z"
    }
   },
   "cell_type": "code",
   "source": "np.array([[1, 2, 3], [4, 5, 6], [7, 8, 9]]) + 100",
   "id": "48b4efbc4043ecbb",
   "execution_count": 86,
   "outputs": []
  },
  {
   "metadata": {},
   "cell_type": "markdown",
   "source": "Matrix Multiplication",
   "id": "bce0280e543407ea"
  },
  {
   "metadata": {
    "ExecuteTime": {
     "end_time": "2024-05-28T23:55:48.761145Z",
     "start_time": "2024-05-28T23:55:48.755395Z"
    }
   },
   "cell_type": "code",
   "source": [
    "a = [[1, 2], [2, 3]]\n",
    "b = [[3, 5], [5, 9]]"
   ],
   "id": "e2df60a92daeab7",
   "execution_count": 77,
   "outputs": []
  },
  {
   "metadata": {
    "ExecuteTime": {
     "end_time": "2024-05-28T23:56:09.158502Z",
     "start_time": "2024-05-28T23:56:09.152664Z"
    }
   },
   "cell_type": "code",
   "source": [
    "c = np.matmul(a, b)\n",
    "\n",
    "c"
   ],
   "id": "e1ee1536c7df9655",
   "execution_count": 80,
   "outputs": []
  },
  {
   "metadata": {},
   "cell_type": "code",
   "execution_count": null,
   "source": [
    "# Challenge question: Write an algorithm that check if two matrices can be multiplied and multiply it, if it can\n",
    "# TODO:"
   ],
   "id": "357215b810b1591e",
   "outputs": []
  },
  {
   "metadata": {},
   "cell_type": "markdown",
   "source": [
    "## Python Lambda\n",
    "\n",
    "Lambda is an small anonymous function"
   ],
   "id": "b0bd2d7e647d20b3"
  },
  {
   "metadata": {
    "ExecuteTime": {
     "end_time": "2024-05-29T00:00:51.838398Z",
     "start_time": "2024-05-29T00:00:51.833569Z"
    }
   },
   "cell_type": "code",
   "source": [
    "x = lambda a: 15 + a\n",
    "\n",
    "print(x(10))"
   ],
   "id": "1f243e3b49435c05",
   "execution_count": 84,
   "outputs": []
  },
  {
   "metadata": {
    "ExecuteTime": {
     "end_time": "2024-05-29T00:05:14.426788Z",
     "start_time": "2024-05-29T00:05:14.397767Z"
    }
   },
   "cell_type": "code",
   "source": [
    "x = lambda a, b, c: a * b * c\n",
    "\n",
    "print(x(10, 20, 30))"
   ],
   "id": "a830b2aa392b02d8",
   "execution_count": 85,
   "outputs": []
  },
  {
   "metadata": {},
   "cell_type": "markdown",
   "source": "Adding Operations to Elements",
   "id": "7f97658c7aa3af07"
  },
  {
   "metadata": {
    "ExecuteTime": {
     "end_time": "2024-05-29T00:09:34.128648Z",
     "start_time": "2024-05-29T00:09:34.122166Z"
    }
   },
   "cell_type": "code",
   "source": [
    "matrix = np.array([[1, 2, 3], [4, 5, 6], [7, 8, 9]])\n",
    "print(matrix, '\\n')\n",
    "\n",
    "add_100 = lambda i: i + 100\n",
    "\n",
    "vectorized_100 = np.vectorize(add_100)\n",
    "\n",
    "print(add_100, '\\n')\n",
    "print(vectorized_100(matrix), '\\n')"
   ],
   "id": "6898e854dcd00f0a",
   "execution_count": 88,
   "outputs": []
  },
  {
   "metadata": {},
   "cell_type": "markdown",
   "source": "np.vectorize is used to add a function to a numpy matrix",
   "id": "a00a9dda0adedd0d"
  },
  {
   "metadata": {},
   "cell_type": "markdown",
   "source": [
    "## lambda synthax\n",
    "\n",
    "<i>function_name</i> = lambda <i>parameter</i> : <i>expression</i>"
   ],
   "id": "a58bb1d7cff2bcc4"
  },
  {
   "metadata": {},
   "cell_type": "markdown",
   "source": "Finding Maximum and Minimum",
   "id": "e88b46c82762b6cc"
  },
  {
   "metadata": {
    "ExecuteTime": {
     "end_time": "2024-05-29T00:18:41.385933Z",
     "start_time": "2024-05-29T00:18:41.378137Z"
    }
   },
   "cell_type": "code",
   "source": [
    "matrix = np.array([[1, 2, 3], [4, 5, 6], [7, 8, 9]])\n",
    "matrix"
   ],
   "id": "469302bfc7b7513f",
   "execution_count": 90,
   "outputs": []
  },
  {
   "metadata": {
    "ExecuteTime": {
     "end_time": "2024-05-29T00:18:54.820620Z",
     "start_time": "2024-05-29T00:18:54.796588Z"
    }
   },
   "cell_type": "code",
   "source": "np.max(matrix)",
   "id": "641c9be86e5f5321",
   "execution_count": 91,
   "outputs": []
  },
  {
   "metadata": {
    "ExecuteTime": {
     "end_time": "2024-05-29T00:18:59.025073Z",
     "start_time": "2024-05-29T00:18:59.009098Z"
    }
   },
   "cell_type": "code",
   "source": "np.min(matrix)",
   "id": "487f1467144f2f2d",
   "execution_count": 92,
   "outputs": []
  },
  {
   "metadata": {
    "ExecuteTime": {
     "end_time": "2024-05-29T00:19:19.829842Z",
     "start_time": "2024-05-29T00:19:19.823768Z"
    }
   },
   "cell_type": "code",
   "source": "np.max(matrix, axis=0)",
   "id": "645b09b704fd22d0",
   "execution_count": 93,
   "outputs": []
  },
  {
   "metadata": {
    "ExecuteTime": {
     "end_time": "2024-05-29T00:19:49.526505Z",
     "start_time": "2024-05-29T00:19:49.521392Z"
    }
   },
   "cell_type": "code",
   "source": "np.max(matrix, axis=1)",
   "id": "e82b3b3186a851ed",
   "execution_count": 94,
   "outputs": []
  },
  {
   "metadata": {
    "ExecuteTime": {
     "end_time": "2024-05-29T00:53:13.781055Z",
     "start_time": "2024-05-29T00:53:13.748415Z"
    }
   },
   "cell_type": "code",
   "source": "matrix",
   "id": "eb1d297082bb4aec",
   "execution_count": 107,
   "outputs": []
  },
  {
   "metadata": {
    "ExecuteTime": {
     "end_time": "2024-05-29T00:53:23.112359Z",
     "start_time": "2024-05-29T00:53:23.104474Z"
    }
   },
   "cell_type": "code",
   "source": [
    "# get mean of matrix\n",
    "np.mean(matrix)"
   ],
   "id": "e1998dbcbfa941d3",
   "execution_count": 108,
   "outputs": []
  },
  {
   "metadata": {
    "ExecuteTime": {
     "end_time": "2024-05-29T00:53:44.963207Z",
     "start_time": "2024-05-29T00:53:44.955180Z"
    }
   },
   "cell_type": "code",
   "source": [
    "# get variance of matrix\n",
    "np.var(matrix)"
   ],
   "id": "2bea0a8c4ea52865",
   "execution_count": 109,
   "outputs": []
  },
  {
   "metadata": {
    "ExecuteTime": {
     "end_time": "2024-05-29T00:54:22.747036Z",
     "start_time": "2024-05-29T00:54:22.740854Z"
    }
   },
   "cell_type": "code",
   "source": [
    "# get standard deviation of matrix\n",
    "np.std(matrix)"
   ],
   "id": "408137fda400408d",
   "execution_count": 110,
   "outputs": []
  },
  {
   "metadata": {},
   "cell_type": "markdown",
   "source": "using the axis arguments",
   "id": "57e8ab0a4923c639"
  },
  {
   "metadata": {
    "ExecuteTime": {
     "end_time": "2024-05-29T00:55:05.692875Z",
     "start_time": "2024-05-29T00:55:05.684971Z"
    }
   },
   "cell_type": "code",
   "source": "np.mean(matrix, axis=0)",
   "id": "ef93cff5432f6721",
   "execution_count": 111,
   "outputs": []
  },
  {
   "metadata": {},
   "cell_type": "markdown",
   "source": "Generating random values",
   "id": "a5ec8e90e7ee865f"
  },
  {
   "metadata": {
    "ExecuteTime": {
     "end_time": "2024-05-29T01:07:40.750517Z",
     "start_time": "2024-05-29T01:07:40.742764Z"
    }
   },
   "cell_type": "code",
   "source": [
    "a = np.random.randint(0, 1100, 3000)\n",
    "\n",
    "len(a)"
   ],
   "id": "ba572310ffd4b846",
   "execution_count": 125,
   "outputs": []
  },
  {
   "metadata": {
    "ExecuteTime": {
     "end_time": "2024-05-29T01:09:47.025344Z",
     "start_time": "2024-05-29T01:09:46.950161Z"
    }
   },
   "cell_type": "code",
   "source": [
    "import plotly.express as px\n",
    "\n",
    "px.histogram(a, nbins=100)"
   ],
   "id": "9764c0a94ec7390d",
   "execution_count": 139,
   "outputs": []
  },
  {
   "metadata": {
    "ExecuteTime": {
     "end_time": "2024-05-29T01:11:09.144265Z",
     "start_time": "2024-05-29T01:11:08.814676Z"
    }
   },
   "cell_type": "code",
   "source": [
    "import seaborn as sns\n",
    "\n",
    "sns.distplot(a, bins=2)"
   ],
   "id": "b482ae1612d5d815",
   "execution_count": 146,
   "outputs": []
  },
  {
   "metadata": {
    "ExecuteTime": {
     "end_time": "2024-05-29T01:08:57.485787Z",
     "start_time": "2024-05-29T01:08:57.481990Z"
    }
   },
   "cell_type": "code",
   "source": [
    "b = np.random.normal(0.0, 1.0, 3)\n",
    "b"
   ],
   "id": "1eff6a70ee89f8bc",
   "execution_count": 135,
   "outputs": []
  },
  {
   "metadata": {
    "ExecuteTime": {
     "end_time": "2024-05-29T01:08:59.072596Z",
     "start_time": "2024-05-29T01:08:59.027647Z"
    }
   },
   "cell_type": "code",
   "source": "px.histogram(b)",
   "id": "465af11850819a81",
   "execution_count": 136,
   "outputs": []
  },
  {
   "metadata": {
    "ExecuteTime": {
     "end_time": "2024-05-30T22:28:01.806101Z",
     "start_time": "2024-05-30T22:28:01.778878Z"
    }
   },
   "cell_type": "code",
   "source": [
    "a = np.random.randint(0, 1100, 1_000_000)\n",
    "\n",
    "less_than_minus_6 = a[a < -6]\n",
    "greater_than_6 = a[a > 6]\n",
    "\n",
    "print(len(greater_than_6), len(less_than_minus_6))"
   ],
   "id": "4e2b23b2c75ffe38",
   "execution_count": 6,
   "outputs": []
  },
  {
   "metadata": {
    "ExecuteTime": {
     "end_time": "2024-05-29T01:21:03.877475Z",
     "start_time": "2024-05-29T01:21:03.872228Z"
    }
   },
   "cell_type": "code",
   "source": "d = np.random.logistic(0.0, 1.0, 3000)",
   "id": "711193f25f11efb5",
   "execution_count": 169,
   "outputs": []
  },
  {
   "metadata": {
    "ExecuteTime": {
     "end_time": "2024-05-29T01:21:05.029407Z",
     "start_time": "2024-05-29T01:21:04.737101Z"
    }
   },
   "cell_type": "code",
   "source": "sns.distplot(d)",
   "id": "d6000e30abe91cff",
   "execution_count": 170,
   "outputs": []
  },
  {
   "metadata": {
    "ExecuteTime": {
     "end_time": "2024-05-29T01:22:15.807495Z",
     "start_time": "2024-05-29T01:22:15.805101Z"
    }
   },
   "cell_type": "code",
   "source": "e = np.random.uniform(1.0, 2.0, 3000)",
   "id": "d5190b8165de1347",
   "execution_count": 177,
   "outputs": []
  },
  {
   "metadata": {
    "ExecuteTime": {
     "end_time": "2024-05-29T01:22:16.580745Z",
     "start_time": "2024-05-29T01:22:16.393661Z"
    }
   },
   "cell_type": "code",
   "source": "sns.distplot(e)",
   "id": "4e30a839875c2c5e",
   "execution_count": 178,
   "outputs": []
  },
  {
   "metadata": {
    "ExecuteTime": {
     "end_time": "2024-05-29T01:27:09.910855Z",
     "start_time": "2024-05-29T01:27:09.908229Z"
    }
   },
   "cell_type": "code",
   "source": [
    "f = np.random.rand(5)\n",
    "\n",
    "f\n",
    "\n",
    "# EXAM question"
   ],
   "id": "d47a34b350054ad",
   "execution_count": 185,
   "outputs": []
  },
  {
   "metadata": {
    "ExecuteTime": {
     "end_time": "2024-05-29T01:27:04.668300Z",
     "start_time": "2024-05-29T01:27:04.666621Z"
    }
   },
   "cell_type": "code",
   "source": [
    "# to get same value \n",
    "np.random.seed(25)"
   ],
   "id": "74d24340661a1dca",
   "execution_count": 182,
   "outputs": []
  },
  {
   "metadata": {},
   "cell_type": "markdown",
   "source": "### Reshaping Arrays",
   "id": "b8854e409a03e162"
  },
  {
   "metadata": {
    "ExecuteTime": {
     "end_time": "2024-05-29T01:29:59.088165Z",
     "start_time": "2024-05-29T01:29:59.079256Z"
    }
   },
   "cell_type": "code",
   "source": [
    "matrix = np.array([[1, 2, 3], [4, 5, 6], [7, 8, 9], [10, 11, 12]])\n",
    "matrix"
   ],
   "id": "62d657c3aea999df",
   "execution_count": 186,
   "outputs": []
  },
  {
   "metadata": {
    "ExecuteTime": {
     "end_time": "2024-05-29T01:30:11.511442Z",
     "start_time": "2024-05-29T01:30:11.505586Z"
    }
   },
   "cell_type": "code",
   "source": "matrix.reshape(2, 6)",
   "id": "6078c4650c3b3028",
   "execution_count": 188,
   "outputs": []
  },
  {
   "metadata": {
    "ExecuteTime": {
     "end_time": "2024-05-29T01:31:33.891578Z",
     "start_time": "2024-05-29T01:31:33.874641Z"
    }
   },
   "cell_type": "code",
   "source": "matrix.reshape(-1, 1)",
   "id": "2c660f0683142632",
   "execution_count": 190,
   "outputs": []
  },
  {
   "metadata": {
    "ExecuteTime": {
     "end_time": "2024-05-29T01:32:05.334405Z",
     "start_time": "2024-05-29T01:32:05.330173Z"
    }
   },
   "cell_type": "code",
   "source": [
    "# .reshape(rows, columns)\n",
    "# if columns or row is -1 means as many as needed"
   ],
   "id": "2a05d509a65f1881",
   "execution_count": 191,
   "outputs": []
  },
  {
   "metadata": {},
   "cell_type": "code",
   "execution_count": null,
   "source": "",
   "id": "26375438382b4082",
   "outputs": []
  }
 ],
 "metadata": {
  "kernelspec": {
   "display_name": "Python 3",
   "language": "python",
   "name": "python3"
  },
  "language_info": {
   "codemirror_mode": {
    "name": "ipython",
    "version": 2
   },
   "file_extension": ".py",
   "mimetype": "text/x-python",
   "name": "python",
   "nbconvert_exporter": "python",
   "pygments_lexer": "ipython2",
   "version": "2.7.6"
  }
 },
 "nbformat": 4,
 "nbformat_minor": 5
}
