{
 "cells": [
  {
   "cell_type": "code",
   "id": "initial_id",
   "metadata": {
    "collapsed": true,
    "ExecuteTime": {
     "end_time": "2024-06-27T05:43:17.182213Z",
     "start_time": "2024-06-27T05:43:17.180257Z"
    }
   },
   "source": "import numpy as np",
   "outputs": [],
   "execution_count": 1
  },
  {
   "metadata": {},
   "cell_type": "markdown",
   "source": "Vector => 1 dimensional array",
   "id": "cc6a5788e7a89a18"
  },
  {
   "metadata": {
    "ExecuteTime": {
     "end_time": "2024-06-27T05:43:18.776349Z",
     "start_time": "2024-06-27T05:43:18.774279Z"
    }
   },
   "cell_type": "code",
   "source": [
    "# create a numpy array\n",
    "vector = np.array([1, 2, 3, 4, 5, 6, 3])"
   ],
   "id": "8d215dc6374fe65",
   "outputs": [],
   "execution_count": 2
  },
  {
   "metadata": {
    "ExecuteTime": {
     "end_time": "2024-06-27T05:43:29.970761Z",
     "start_time": "2024-06-27T05:43:29.960814Z"
    }
   },
   "cell_type": "code",
   "source": "vector.ndim",
   "id": "69bf88c758a3dbbe",
   "outputs": [
    {
     "data": {
      "text/plain": [
       "1"
      ]
     },
     "execution_count": 6,
     "metadata": {},
     "output_type": "execute_result"
    }
   ],
   "execution_count": 6
  },
  {
   "metadata": {
    "ExecuteTime": {
     "end_time": "2024-06-27T05:43:21.205885Z",
     "start_time": "2024-06-27T05:43:21.202409Z"
    }
   },
   "cell_type": "code",
   "source": "vector",
   "id": "890b0b977a08b956",
   "outputs": [
    {
     "data": {
      "text/plain": [
       "array([1, 2, 3, 4, 5, 6, 3])"
      ]
     },
     "execution_count": 3,
     "metadata": {},
     "output_type": "execute_result"
    }
   ],
   "execution_count": 3
  },
  {
   "metadata": {
    "ExecuteTime": {
     "end_time": "2024-06-27T05:43:22.061591Z",
     "start_time": "2024-06-27T05:43:22.051558Z"
    }
   },
   "cell_type": "code",
   "source": [
    "# select an element from the back\n",
    "vector[-4]"
   ],
   "id": "d933ba9d9e046fc2",
   "outputs": [
    {
     "data": {
      "text/plain": [
       "4"
      ]
     },
     "execution_count": 4,
     "metadata": {},
     "output_type": "execute_result"
    }
   ],
   "execution_count": 4
  },
  {
   "metadata": {
    "ExecuteTime": {
     "end_time": "2024-06-27T05:43:33.525154Z",
     "start_time": "2024-06-27T05:43:33.522724Z"
    }
   },
   "cell_type": "code",
   "source": [
    "# select an element from the front\n",
    "vector[2]"
   ],
   "id": "619af1c311586cb7",
   "outputs": [
    {
     "data": {
      "text/plain": [
       "3"
      ]
     },
     "execution_count": 7,
     "metadata": {},
     "output_type": "execute_result"
    }
   ],
   "execution_count": 7
  },
  {
   "metadata": {
    "ExecuteTime": {
     "end_time": "2024-06-27T05:43:33.983355Z",
     "start_time": "2024-06-27T05:43:33.980098Z"
    }
   },
   "cell_type": "code",
   "source": [
    "# forward slicing\n",
    "vector[2:5]"
   ],
   "id": "3d95a5e3dbb44b3",
   "outputs": [
    {
     "data": {
      "text/plain": [
       "array([3, 4, 5])"
      ]
     },
     "execution_count": 8,
     "metadata": {},
     "output_type": "execute_result"
    }
   ],
   "execution_count": 8
  },
  {
   "metadata": {
    "ExecuteTime": {
     "end_time": "2024-06-27T05:43:35.346810Z",
     "start_time": "2024-06-27T05:43:35.344076Z"
    }
   },
   "cell_type": "code",
   "source": [
    "# backward slicing\n",
    "vector[-4:-1]"
   ],
   "id": "c6f719513b4c9ad4",
   "outputs": [
    {
     "data": {
      "text/plain": [
       "array([4, 5, 6])"
      ]
     },
     "execution_count": 9,
     "metadata": {},
     "output_type": "execute_result"
    }
   ],
   "execution_count": 9
  },
  {
   "metadata": {
    "ExecuteTime": {
     "end_time": "2024-06-27T05:43:37.977083Z",
     "start_time": "2024-06-27T05:43:37.972959Z"
    }
   },
   "cell_type": "code",
   "source": [
    "# get the index of value 3\n",
    "np.where(vector == 3)"
   ],
   "id": "f8a4e7912b157e49",
   "outputs": [
    {
     "data": {
      "text/plain": [
       "(array([2, 6]),)"
      ]
     },
     "execution_count": 10,
     "metadata": {},
     "output_type": "execute_result"
    }
   ],
   "execution_count": 10
  },
  {
   "metadata": {
    "ExecuteTime": {
     "end_time": "2024-06-27T05:43:45.715796Z",
     "start_time": "2024-06-27T05:43:45.712269Z"
    }
   },
   "cell_type": "code",
   "source": [
    "# select every other data in the vector\n",
    "vector[0::2]"
   ],
   "id": "7ad15cd55be2e19a",
   "outputs": [
    {
     "data": {
      "text/plain": [
       "array([1, 3, 5, 3])"
      ]
     },
     "execution_count": 11,
     "metadata": {},
     "output_type": "execute_result"
    }
   ],
   "execution_count": 11
  },
  {
   "metadata": {},
   "cell_type": "markdown",
   "source": "Matrix => 2 dimensional array",
   "id": "24cc5359d70180f4"
  },
  {
   "metadata": {
    "ExecuteTime": {
     "end_time": "2024-06-27T05:43:46.860640Z",
     "start_time": "2024-06-27T05:43:46.858354Z"
    }
   },
   "cell_type": "code",
   "source": "matrix = np.array([[1, 2, 3, 4], [5, 6, 7, 8], [9, 10, 11, 12], [13, 14, 15, 16]])",
   "id": "ab2a3b2f283a9bde",
   "outputs": [],
   "execution_count": 12
  },
  {
   "metadata": {
    "ExecuteTime": {
     "end_time": "2024-06-27T05:43:47.867460Z",
     "start_time": "2024-06-27T05:43:47.865059Z"
    }
   },
   "cell_type": "code",
   "source": "matrix",
   "id": "dcb5c80f2127f0ad",
   "outputs": [
    {
     "data": {
      "text/plain": [
       "array([[ 1,  2,  3,  4],\n",
       "       [ 5,  6,  7,  8],\n",
       "       [ 9, 10, 11, 12],\n",
       "       [13, 14, 15, 16]])"
      ]
     },
     "execution_count": 13,
     "metadata": {},
     "output_type": "execute_result"
    }
   ],
   "execution_count": 13
  },
  {
   "metadata": {
    "ExecuteTime": {
     "end_time": "2024-06-27T05:43:49.631857Z",
     "start_time": "2024-06-27T05:43:49.628641Z"
    }
   },
   "cell_type": "code",
   "source": "matrix[1, 1]",
   "id": "8d04fac52a85ba51",
   "outputs": [
    {
     "data": {
      "text/plain": [
       "6"
      ]
     },
     "execution_count": 14,
     "metadata": {},
     "output_type": "execute_result"
    }
   ],
   "execution_count": 14
  },
  {
   "metadata": {
    "ExecuteTime": {
     "end_time": "2024-06-27T05:44:00.995424Z",
     "start_time": "2024-06-27T05:44:00.992081Z"
    }
   },
   "cell_type": "code",
   "source": "matrix[-3, -3]",
   "id": "c464baf13fe405f1",
   "outputs": [
    {
     "data": {
      "text/plain": [
       "6"
      ]
     },
     "execution_count": 15,
     "metadata": {},
     "output_type": "execute_result"
    }
   ],
   "execution_count": 15
  },
  {
   "metadata": {
    "ExecuteTime": {
     "end_time": "2024-06-27T05:44:11.366676Z",
     "start_time": "2024-06-27T05:44:11.359214Z"
    }
   },
   "cell_type": "code",
   "source": "matrix_2 = np.array([[1, 2, 3], [4, 5, 6], [7, 8, 9]])",
   "id": "c76c357cc5b58a67",
   "outputs": [],
   "execution_count": 17
  },
  {
   "metadata": {
    "ExecuteTime": {
     "end_time": "2024-06-27T05:44:12.036447Z",
     "start_time": "2024-06-27T05:44:12.033323Z"
    }
   },
   "cell_type": "code",
   "source": "matrix_2",
   "id": "65b03db794e833c6",
   "outputs": [
    {
     "data": {
      "text/plain": [
       "array([[1, 2, 3],\n",
       "       [4, 5, 6],\n",
       "       [7, 8, 9]])"
      ]
     },
     "execution_count": 18,
     "metadata": {},
     "output_type": "execute_result"
    }
   ],
   "execution_count": 18
  },
  {
   "metadata": {
    "ExecuteTime": {
     "end_time": "2024-06-27T05:44:13.226666Z",
     "start_time": "2024-06-27T05:44:13.222875Z"
    }
   },
   "cell_type": "code",
   "source": "matrix_2[1:, 1:]",
   "id": "73a1db0fbeb54e9d",
   "outputs": [
    {
     "data": {
      "text/plain": [
       "array([[5, 6],\n",
       "       [8, 9]])"
      ]
     },
     "execution_count": 19,
     "metadata": {},
     "output_type": "execute_result"
    }
   ],
   "execution_count": 19
  },
  {
   "metadata": {
    "ExecuteTime": {
     "end_time": "2024-06-27T05:44:14.410188Z",
     "start_time": "2024-06-27T05:44:14.407126Z"
    }
   },
   "cell_type": "code",
   "source": [
    "# find the index of value 6\n",
    "np.where(matrix_2 == 6)"
   ],
   "id": "3d85bc9d2b5c86c8",
   "outputs": [
    {
     "data": {
      "text/plain": [
       "(array([1]), array([2]))"
      ]
     },
     "execution_count": 20,
     "metadata": {},
     "output_type": "execute_result"
    }
   ],
   "execution_count": 20
  },
  {
   "metadata": {
    "ExecuteTime": {
     "end_time": "2024-06-27T05:44:57.421984Z",
     "start_time": "2024-06-27T05:44:57.415753Z"
    }
   },
   "cell_type": "code",
   "source": [
    "# find the index of value 6\n",
    "np.where(matrix == 6)"
   ],
   "id": "c80c360468678ece",
   "outputs": [
    {
     "data": {
      "text/plain": [
       "(array([1]), array([1]))"
      ]
     },
     "execution_count": 21,
     "metadata": {},
     "output_type": "execute_result"
    }
   ],
   "execution_count": 21
  },
  {
   "metadata": {
    "ExecuteTime": {
     "end_time": "2024-06-27T05:45:06.427504Z",
     "start_time": "2024-06-27T05:45:06.420821Z"
    }
   },
   "cell_type": "code",
   "source": "matrix",
   "id": "8dacc465469525cd",
   "outputs": [
    {
     "data": {
      "text/plain": [
       "array([[ 1,  2,  3,  4],\n",
       "       [ 5,  6,  7,  8],\n",
       "       [ 9, 10, 11, 12],\n",
       "       [13, 14, 15, 16]])"
      ]
     },
     "execution_count": 22,
     "metadata": {},
     "output_type": "execute_result"
    }
   ],
   "execution_count": 22
  },
  {
   "metadata": {
    "ExecuteTime": {
     "end_time": "2024-06-27T05:45:10.111199Z",
     "start_time": "2024-06-27T05:45:10.108522Z"
    }
   },
   "cell_type": "code",
   "source": [
    "# slicing in 4 x 4 matrix\n",
    "matrix[1:, 1:]"
   ],
   "id": "3dedf6be81da9c0",
   "outputs": [
    {
     "data": {
      "text/plain": [
       "array([[ 6,  7,  8],\n",
       "       [10, 11, 12],\n",
       "       [14, 15, 16]])"
      ]
     },
     "execution_count": 23,
     "metadata": {},
     "output_type": "execute_result"
    }
   ],
   "execution_count": 23
  },
  {
   "metadata": {
    "ExecuteTime": {
     "end_time": "2024-06-27T05:45:25.965768Z",
     "start_time": "2024-06-27T05:45:25.940711Z"
    }
   },
   "cell_type": "code",
   "source": [
    "# select every other value in the matrix\n",
    "matrix[0::2, 0::2]"
   ],
   "id": "770fde7c0b172d7d",
   "outputs": [
    {
     "data": {
      "text/plain": [
       "array([[ 1,  3],\n",
       "       [ 9, 11]])"
      ]
     },
     "execution_count": 24,
     "metadata": {},
     "output_type": "execute_result"
    }
   ],
   "execution_count": 24
  },
  {
   "metadata": {
    "ExecuteTime": {
     "end_time": "2024-06-27T05:46:16.666356Z",
     "start_time": "2024-06-27T05:46:16.660957Z"
    }
   },
   "cell_type": "code",
   "source": "matrix",
   "id": "a085c0f6d780b46",
   "outputs": [
    {
     "data": {
      "text/plain": [
       "array([[ 1,  2,  3,  4],\n",
       "       [ 5,  6,  7,  8],\n",
       "       [ 9, 10, 11, 12],\n",
       "       [13, 14, 15, 16]])"
      ]
     },
     "execution_count": 25,
     "metadata": {},
     "output_type": "execute_result"
    }
   ],
   "execution_count": 25
  },
  {
   "metadata": {
    "ExecuteTime": {
     "end_time": "2024-06-27T05:46:18.905483Z",
     "start_time": "2024-06-27T05:46:18.902379Z"
    }
   },
   "cell_type": "code",
   "source": [
    "# get the number of rows and columns in a matrix\n",
    "matrix.shape"
   ],
   "id": "3901f16b64627dc0",
   "outputs": [
    {
     "data": {
      "text/plain": [
       "(4, 4)"
      ]
     },
     "execution_count": 26,
     "metadata": {},
     "output_type": "execute_result"
    }
   ],
   "execution_count": 26
  },
  {
   "metadata": {
    "ExecuteTime": {
     "end_time": "2024-06-27T05:46:19.690531Z",
     "start_time": "2024-06-27T05:46:19.688068Z"
    }
   },
   "cell_type": "code",
   "source": [
    "# get total number of element in a matrix\n",
    "matrix.size"
   ],
   "id": "d99a03dbe6251f62",
   "outputs": [
    {
     "data": {
      "text/plain": [
       "16"
      ]
     },
     "execution_count": 27,
     "metadata": {},
     "output_type": "execute_result"
    }
   ],
   "execution_count": 27
  },
  {
   "metadata": {
    "ExecuteTime": {
     "end_time": "2024-06-27T05:46:20.359469Z",
     "start_time": "2024-06-27T05:46:20.356305Z"
    }
   },
   "cell_type": "code",
   "source": [
    "# to get the number of dimension in a matrix\n",
    "matrix.ndim"
   ],
   "id": "e0e2de5dcacad18e",
   "outputs": [
    {
     "data": {
      "text/plain": [
       "2"
      ]
     },
     "execution_count": 28,
     "metadata": {},
     "output_type": "execute_result"
    }
   ],
   "execution_count": 28
  },
  {
   "metadata": {},
   "cell_type": "markdown",
   "source": "Dot Product of two vector",
   "id": "c459113457471f16"
  },
  {
   "metadata": {
    "ExecuteTime": {
     "end_time": "2024-06-27T05:46:23.073546Z",
     "start_time": "2024-06-27T05:46:23.068906Z"
    }
   },
   "cell_type": "code",
   "source": [
    "vector_a = np.array([1, 2, 3])\n",
    "vector_b = np.array([4, 5, 6])"
   ],
   "id": "d4dbd1f691aaa69a",
   "outputs": [],
   "execution_count": 29
  },
  {
   "metadata": {
    "ExecuteTime": {
     "end_time": "2024-06-27T05:46:59.099482Z",
     "start_time": "2024-06-27T05:46:59.088239Z"
    }
   },
   "cell_type": "code",
   "source": "np.dot(vector_a, vector_b)",
   "id": "c85e410e9d01c8f3",
   "outputs": [
    {
     "data": {
      "text/plain": [
       "32"
      ]
     },
     "execution_count": 30,
     "metadata": {},
     "output_type": "execute_result"
    }
   ],
   "execution_count": 30
  },
  {
   "metadata": {},
   "cell_type": "markdown",
   "source": "Add matrix",
   "id": "1e9e1342ba195a63"
  },
  {
   "metadata": {
    "ExecuteTime": {
     "end_time": "2024-06-27T05:47:16.140850Z",
     "start_time": "2024-06-27T05:47:16.136553Z"
    }
   },
   "cell_type": "code",
   "source": [
    "matrix_a = np.array([[1, 1, 1], [1, 1, 1], [1, 1, 2]])\n",
    "matrix_b = np.array([[1, 3, 1], [1, 3, 1], [1, 3, 8]])"
   ],
   "id": "3624349e3b8b781",
   "outputs": [],
   "execution_count": 31
  },
  {
   "metadata": {
    "ExecuteTime": {
     "end_time": "2024-06-27T05:47:33.961490Z",
     "start_time": "2024-06-27T05:47:33.945717Z"
    }
   },
   "cell_type": "code",
   "source": "np.dot(matrix_a, matrix_b)",
   "id": "2b19ab5e702583ec",
   "outputs": [
    {
     "data": {
      "text/plain": [
       "array([[ 3,  9, 10],\n",
       "       [ 3,  9, 10],\n",
       "       [ 4, 12, 18]])"
      ]
     },
     "execution_count": 33,
     "metadata": {},
     "output_type": "execute_result"
    }
   ],
   "execution_count": 33
  },
  {
   "metadata": {
    "ExecuteTime": {
     "end_time": "2024-06-27T05:48:02.781846Z",
     "start_time": "2024-06-27T05:48:02.775203Z"
    }
   },
   "cell_type": "code",
   "source": "np.add(matrix_a, matrix_b)",
   "id": "6cd4e84f737cd258",
   "outputs": [
    {
     "data": {
      "text/plain": [
       "array([[ 2,  4,  2],\n",
       "       [ 2,  4,  2],\n",
       "       [ 2,  4, 10]])"
      ]
     },
     "execution_count": 34,
     "metadata": {},
     "output_type": "execute_result"
    }
   ],
   "execution_count": 34
  },
  {
   "metadata": {
    "ExecuteTime": {
     "end_time": "2024-06-27T05:48:23.158194Z",
     "start_time": "2024-06-27T05:48:23.151883Z"
    }
   },
   "cell_type": "code",
   "source": "np.subtract(matrix_a, matrix_b)",
   "id": "8cc89754520b4668",
   "outputs": [
    {
     "data": {
      "text/plain": [
       "array([[ 0, -2,  0],\n",
       "       [ 0, -2,  0],\n",
       "       [ 0, -2, -6]])"
      ]
     },
     "execution_count": 36,
     "metadata": {},
     "output_type": "execute_result"
    }
   ],
   "execution_count": 36
  },
  {
   "metadata": {},
   "cell_type": "markdown",
   "source": "Add a value to a np matrix",
   "id": "e2f12ae22a24c920"
  },
  {
   "metadata": {
    "ExecuteTime": {
     "end_time": "2024-06-27T05:52:06.660573Z",
     "start_time": "2024-06-27T05:52:06.656448Z"
    }
   },
   "cell_type": "code",
   "source": "np.array([[1, 2, 3], [4, 5, 6], [7, 8, 9]]) + 100",
   "id": "48b4efbc4043ecbb",
   "outputs": [
    {
     "data": {
      "text/plain": [
       "array([[101, 102, 103],\n",
       "       [104, 105, 106],\n",
       "       [107, 108, 109]])"
      ]
     },
     "execution_count": 38,
     "metadata": {},
     "output_type": "execute_result"
    }
   ],
   "execution_count": 38
  },
  {
   "metadata": {},
   "cell_type": "markdown",
   "source": "Matrix Multiplication",
   "id": "bce0280e543407ea"
  },
  {
   "metadata": {
    "ExecuteTime": {
     "end_time": "2024-06-27T05:52:10.139087Z",
     "start_time": "2024-06-27T05:52:10.134497Z"
    }
   },
   "cell_type": "code",
   "source": [
    "a = [[1, 2], [2, 3]]\n",
    "b = [[3, 5], [5, 9]]\n",
    "\n",
    "# 1 2 | 3 5\n",
    "# 2 3 | 5 9"
   ],
   "id": "e2df60a92daeab7",
   "outputs": [],
   "execution_count": 39
  },
  {
   "metadata": {
    "ExecuteTime": {
     "end_time": "2024-06-27T05:52:10.623384Z",
     "start_time": "2024-06-27T05:52:10.620331Z"
    }
   },
   "cell_type": "code",
   "source": [
    "c = np.matmul(a, b)\n",
    "\n",
    "c"
   ],
   "id": "e1ee1536c7df9655",
   "outputs": [
    {
     "data": {
      "text/plain": [
       "array([[13, 23],\n",
       "       [21, 37]])"
      ]
     },
     "execution_count": 40,
     "metadata": {},
     "output_type": "execute_result"
    }
   ],
   "execution_count": 40
  },
  {
   "metadata": {
    "ExecuteTime": {
     "end_time": "2024-06-27T05:53:41.340766Z",
     "start_time": "2024-06-27T05:53:41.333649Z"
    }
   },
   "cell_type": "code",
   "source": "np.dot(a, b)",
   "id": "8bca237d35502eb1",
   "outputs": [
    {
     "data": {
      "text/plain": [
       "array([[13, 23],\n",
       "       [21, 37]])"
      ]
     },
     "execution_count": 41,
     "metadata": {},
     "output_type": "execute_result"
    }
   ],
   "execution_count": 41
  },
  {
   "metadata": {
    "ExecuteTime": {
     "end_time": "2024-06-27T06:08:28.228881Z",
     "start_time": "2024-06-27T06:08:28.221090Z"
    }
   },
   "cell_type": "code",
   "source": [
    "# Challenge question: Write an algorithm that check if two matrices can be multiplied and multiply it, if it can\n",
    "\n",
    "def can_multiply_matrix(a, b):\n",
    "    # Check dimensions\n",
    "    if len(a[0]) != len(b):\n",
    "        return False\n",
    "    return True\n",
    "\n",
    "\n",
    "def matrix_multiply(a, b):\n",
    "    # Dimensions of matrices\n",
    "    m = len(a)\n",
    "    n = len(a[0])\n",
    "    p = len(b[0])\n",
    "\n",
    "    # Initialize result matrix C with zeros\n",
    "    c = [[0 for _ in range(p)] for _ in range(m)]\n",
    "\n",
    "    # Perform matrix multiplication without using built-in functions\n",
    "    for i in range(m):\n",
    "        for j in range(p):\n",
    "            for k in range(n):\n",
    "                c[i][j] += a[i][k] * b[k][j]\n",
    "\n",
    "    return c\n",
    "\n",
    "\n",
    "# Example matrices A and B\n",
    "A = [\n",
    "    [1, 2, 3],\n",
    "    [4, 5, 6],\n",
    "]\n",
    "\n",
    "B = [\n",
    "    [7, 8],\n",
    "    [9, 10],\n",
    "    [11, 12]\n",
    "]\n",
    "\n",
    "# Check if matrices can be multiplied\n",
    "if can_multiply_matrix(A, B):\n",
    "    # Multiply matrices A and B\n",
    "    result_matrix = matrix_multiply(A, B)\n",
    "    print(\"Result of matrix multiplication:\")\n",
    "    for row in result_matrix:\n",
    "        print(row)\n",
    "else:\n",
    "    print(\"Matrices cannot be multiplied due to incompatible dimensions.\")\n"
   ],
   "id": "357215b810b1591e",
   "outputs": [
    {
     "name": "stdout",
     "output_type": "stream",
     "text": [
      "Result of matrix multiplication:\n",
      "[58, 64]\n",
      "[139, 154]\n"
     ]
    }
   ],
   "execution_count": 44
  },
  {
   "metadata": {},
   "cell_type": "markdown",
   "source": [
    "## Python Lambda\n",
    "\n",
    "Lambda is a small anonymous function"
   ],
   "id": "b0bd2d7e647d20b3"
  },
  {
   "metadata": {
    "ExecuteTime": {
     "end_time": "2024-06-27T06:07:39.265481Z",
     "start_time": "2024-06-27T06:07:39.260820Z"
    }
   },
   "cell_type": "code",
   "source": [
    "x = lambda a: 15 + a\n",
    "\n",
    "print(x(10))"
   ],
   "id": "1f243e3b49435c05",
   "outputs": [
    {
     "name": "stdout",
     "output_type": "stream",
     "text": [
      "25\n"
     ]
    }
   ],
   "execution_count": 43
  },
  {
   "metadata": {
    "ExecuteTime": {
     "end_time": "2024-06-27T06:08:50.822068Z",
     "start_time": "2024-06-27T06:08:50.817530Z"
    }
   },
   "cell_type": "code",
   "source": [
    "x = lambda a, b, c: a * b * c\n",
    "\n",
    "print(x(10, 20, 30))"
   ],
   "id": "a830b2aa392b02d8",
   "outputs": [
    {
     "name": "stdout",
     "output_type": "stream",
     "text": [
      "6000\n"
     ]
    }
   ],
   "execution_count": 45
  },
  {
   "metadata": {},
   "cell_type": "markdown",
   "source": "Adding Operations to Elements",
   "id": "7f97658c7aa3af07"
  },
  {
   "metadata": {
    "ExecuteTime": {
     "end_time": "2024-06-27T06:08:57.942370Z",
     "start_time": "2024-06-27T06:08:57.925188Z"
    }
   },
   "cell_type": "code",
   "source": [
    "matrix = np.array([[1, 2, 3], [4, 5, 6], [7, 8, 9]])\n",
    "print(matrix, '\\n')\n",
    "\n",
    "add_100 = lambda i: i + 100\n",
    "\n",
    "vectorized_100 = np.vectorize(add_100)\n",
    "\n",
    "print(add_100, '\\n')\n",
    "print(vectorized_100(matrix), '\\n')"
   ],
   "id": "6898e854dcd00f0a",
   "outputs": [
    {
     "name": "stdout",
     "output_type": "stream",
     "text": [
      "[[1 2 3]\n",
      " [4 5 6]\n",
      " [7 8 9]] \n",
      "\n",
      "<function <lambda> at 0x128705620> \n",
      "\n",
      "[[101 102 103]\n",
      " [104 105 106]\n",
      " [107 108 109]] \n",
      "\n"
     ]
    }
   ],
   "execution_count": 46
  },
  {
   "metadata": {},
   "cell_type": "markdown",
   "source": "np.vectorize is used to add a function to a numpy matrix",
   "id": "a00a9dda0adedd0d"
  },
  {
   "metadata": {},
   "cell_type": "markdown",
   "source": [
    "## lambda synthax\n",
    "\n",
    "<i>function_name</i> = lambda <i>parameter</i> : <i>expression</i>"
   ],
   "id": "a58bb1d7cff2bcc4"
  },
  {
   "metadata": {},
   "cell_type": "markdown",
   "source": "Finding Maximum and Minimum",
   "id": "e88b46c82762b6cc"
  },
  {
   "metadata": {
    "ExecuteTime": {
     "end_time": "2024-06-27T06:19:30.509493Z",
     "start_time": "2024-06-27T06:19:30.502631Z"
    }
   },
   "cell_type": "code",
   "source": [
    "matrix = np.array([[1, 2, 3], [4, 5, 6], [7, 8, 9]])\n",
    "matrix"
   ],
   "id": "469302bfc7b7513f",
   "outputs": [
    {
     "data": {
      "text/plain": [
       "array([[1, 2, 3],\n",
       "       [4, 5, 6],\n",
       "       [7, 8, 9]])"
      ]
     },
     "execution_count": 101,
     "metadata": {},
     "output_type": "execute_result"
    }
   ],
   "execution_count": 101
  },
  {
   "metadata": {
    "ExecuteTime": {
     "end_time": "2024-06-27T06:09:20.989375Z",
     "start_time": "2024-06-27T06:09:20.986654Z"
    }
   },
   "cell_type": "code",
   "source": "np.max(matrix)",
   "id": "641c9be86e5f5321",
   "outputs": [
    {
     "data": {
      "text/plain": [
       "9"
      ]
     },
     "execution_count": 48,
     "metadata": {},
     "output_type": "execute_result"
    }
   ],
   "execution_count": 48
  },
  {
   "metadata": {
    "ExecuteTime": {
     "end_time": "2024-06-27T06:09:24.722657Z",
     "start_time": "2024-06-27T06:09:24.703144Z"
    }
   },
   "cell_type": "code",
   "source": "np.min(matrix)",
   "id": "487f1467144f2f2d",
   "outputs": [
    {
     "data": {
      "text/plain": [
       "1"
      ]
     },
     "execution_count": 49,
     "metadata": {},
     "output_type": "execute_result"
    }
   ],
   "execution_count": 49
  },
  {
   "metadata": {
    "ExecuteTime": {
     "end_time": "2024-06-27T06:19:07.572169Z",
     "start_time": "2024-06-27T06:19:07.564462Z"
    }
   },
   "cell_type": "code",
   "source": "np.max(matrix, axis=0)",
   "id": "645b09b704fd22d0",
   "outputs": [
    {
     "data": {
      "text/plain": [
       "array([4, 5, 6])"
      ]
     },
     "execution_count": 99,
     "metadata": {},
     "output_type": "execute_result"
    }
   ],
   "execution_count": 99
  },
  {
   "metadata": {
    "ExecuteTime": {
     "end_time": "2024-06-27T06:19:15.158019Z",
     "start_time": "2024-06-27T06:19:15.154978Z"
    }
   },
   "cell_type": "code",
   "source": "np.max(matrix, axis=1)",
   "id": "e82b3b3186a851ed",
   "outputs": [
    {
     "data": {
      "text/plain": [
       "array([3, 6])"
      ]
     },
     "execution_count": 100,
     "metadata": {},
     "output_type": "execute_result"
    }
   ],
   "execution_count": 100
  },
  {
   "metadata": {
    "ExecuteTime": {
     "end_time": "2024-05-29T00:53:13.781055Z",
     "start_time": "2024-05-29T00:53:13.748415Z"
    }
   },
   "cell_type": "code",
   "source": "matrix",
   "id": "eb1d297082bb4aec",
   "execution_count": 107,
   "outputs": []
  },
  {
   "metadata": {
    "ExecuteTime": {
     "end_time": "2024-06-27T06:11:00.368068Z",
     "start_time": "2024-06-27T06:11:00.348819Z"
    }
   },
   "cell_type": "code",
   "source": [
    "# get mean of matrix\n",
    "np.mean(matrix)"
   ],
   "id": "e1998dbcbfa941d3",
   "outputs": [
    {
     "data": {
      "text/plain": [
       "5.0"
      ]
     },
     "execution_count": 54,
     "metadata": {},
     "output_type": "execute_result"
    }
   ],
   "execution_count": 54
  },
  {
   "metadata": {
    "ExecuteTime": {
     "end_time": "2024-06-27T06:11:01.035420Z",
     "start_time": "2024-06-27T06:11:01.030621Z"
    }
   },
   "cell_type": "code",
   "source": [
    "# get variance of matrix\n",
    "np.var(matrix)"
   ],
   "id": "2bea0a8c4ea52865",
   "outputs": [
    {
     "data": {
      "text/plain": [
       "6.666666666666667"
      ]
     },
     "execution_count": 55,
     "metadata": {},
     "output_type": "execute_result"
    }
   ],
   "execution_count": 55
  },
  {
   "metadata": {
    "ExecuteTime": {
     "end_time": "2024-06-27T06:11:02.002171Z",
     "start_time": "2024-06-27T06:11:01.997303Z"
    }
   },
   "cell_type": "code",
   "source": [
    "# get standard deviation of matrix\n",
    "np.std(matrix)"
   ],
   "id": "408137fda400408d",
   "outputs": [
    {
     "data": {
      "text/plain": [
       "2.581988897471611"
      ]
     },
     "execution_count": 56,
     "metadata": {},
     "output_type": "execute_result"
    }
   ],
   "execution_count": 56
  },
  {
   "metadata": {},
   "cell_type": "markdown",
   "source": "using the axis arguments",
   "id": "57e8ab0a4923c639"
  },
  {
   "metadata": {
    "ExecuteTime": {
     "end_time": "2024-06-27T06:11:06.713970Z",
     "start_time": "2024-06-27T06:11:06.704341Z"
    }
   },
   "cell_type": "code",
   "source": "np.mean(matrix, axis=0)",
   "id": "ef93cff5432f6721",
   "outputs": [
    {
     "data": {
      "text/plain": [
       "array([4., 5., 6.])"
      ]
     },
     "execution_count": 57,
     "metadata": {},
     "output_type": "execute_result"
    }
   ],
   "execution_count": 57
  },
  {
   "metadata": {},
   "cell_type": "markdown",
   "source": "Generating random values",
   "id": "a5ec8e90e7ee865f"
  },
  {
   "metadata": {
    "ExecuteTime": {
     "end_time": "2024-06-27T06:12:36.914695Z",
     "start_time": "2024-06-27T06:12:36.890252Z"
    }
   },
   "cell_type": "code",
   "source": [
    "a = np.random.randint(0, 1100, 3000)\n",
    "\n",
    "len(a)"
   ],
   "id": "ba572310ffd4b846",
   "outputs": [
    {
     "data": {
      "text/plain": [
       "3000"
      ]
     },
     "execution_count": 58,
     "metadata": {},
     "output_type": "execute_result"
    }
   ],
   "execution_count": 58
  },
  {
   "metadata": {
    "ExecuteTime": {
     "end_time": "2024-06-27T06:13:22.292137Z",
     "start_time": "2024-06-27T06:13:22.215617Z"
    }
   },
   "cell_type": "code",
   "source": [
    "import plotly.express as px\n",
    "\n",
    "px.histogram(a, nbins=500)"
   ],
   "id": "9764c0a94ec7390d",
   "outputs": [
    {
     "data": {
      "application/vnd.plotly.v1+json": {
       "data": [
        {
         "alignmentgroup": "True",
         "bingroup": "x",
         "hovertemplate": "variable=0<br>value=%{x}<br>count=%{y}<extra></extra>",
         "legendgroup": "0",
         "marker": {
          "color": "#636efa",
          "pattern": {
           "shape": ""
          }
         },
         "name": "0",
         "nbinsx": 500,
         "offsetgroup": "0",
         "orientation": "v",
         "showlegend": true,
         "x": [
          385,
          258,
          243,
          733,
          23,
          664,
          970,
          767,
          458,
          431,
          544,
          1068,
          791,
          1,
          435,
          757,
          899,
          448,
          836,
          943,
          30,
          648,
          190,
          172,
          72,
          527,
          848,
          661,
          253,
          767,
          910,
          503,
          565,
          778,
          111,
          700,
          945,
          591,
          836,
          1004,
          44,
          678,
          755,
          870,
          509,
          651,
          831,
          912,
          541,
          311,
          152,
          651,
          1034,
          633,
          722,
          539,
          995,
          737,
          405,
          519,
          777,
          269,
          990,
          407,
          568,
          825,
          973,
          658,
          300,
          574,
          358,
          679,
          122,
          873,
          870,
          265,
          25,
          838,
          441,
          341,
          644,
          757,
          146,
          883,
          520,
          859,
          920,
          6,
          314,
          343,
          175,
          688,
          53,
          662,
          755,
          861,
          268,
          426,
          218,
          183,
          150,
          49,
          422,
          982,
          529,
          249,
          443,
          964,
          89,
          19,
          185,
          520,
          950,
          807,
          90,
          903,
          776,
          755,
          318,
          454,
          658,
          254,
          799,
          830,
          643,
          285,
          258,
          411,
          669,
          132,
          32,
          0,
          651,
          891,
          164,
          848,
          120,
          214,
          161,
          97,
          1096,
          1045,
          523,
          978,
          1003,
          179,
          236,
          359,
          721,
          887,
          884,
          540,
          42,
          797,
          785,
          704,
          660,
          761,
          834,
          442,
          321,
          315,
          340,
          637,
          191,
          376,
          745,
          877,
          739,
          807,
          195,
          865,
          670,
          817,
          495,
          890,
          414,
          348,
          433,
          418,
          984,
          1091,
          68,
          638,
          528,
          578,
          851,
          1064,
          79,
          747,
          621,
          389,
          334,
          768,
          102,
          980,
          652,
          862,
          307,
          41,
          846,
          911,
          460,
          822,
          587,
          160,
          767,
          836,
          913,
          739,
          566,
          306,
          153,
          493,
          622,
          1074,
          302,
          422,
          77,
          278,
          239,
          104,
          33,
          496,
          16,
          280,
          975,
          514,
          977,
          173,
          535,
          367,
          438,
          276,
          163,
          641,
          292,
          719,
          954,
          968,
          1034,
          613,
          138,
          1048,
          288,
          800,
          685,
          166,
          598,
          1010,
          1041,
          817,
          440,
          1020,
          648,
          1072,
          753,
          769,
          428,
          762,
          382,
          384,
          52,
          72,
          279,
          1001,
          702,
          436,
          693,
          1098,
          652,
          378,
          932,
          296,
          117,
          505,
          776,
          279,
          845,
          477,
          43,
          151,
          371,
          512,
          888,
          895,
          1068,
          677,
          362,
          411,
          653,
          253,
          82,
          487,
          1076,
          254,
          1079,
          316,
          279,
          274,
          567,
          950,
          667,
          858,
          205,
          603,
          87,
          695,
          640,
          130,
          351,
          644,
          769,
          40,
          193,
          14,
          29,
          920,
          867,
          755,
          81,
          916,
          706,
          75,
          369,
          780,
          338,
          29,
          677,
          10,
          263,
          512,
          886,
          562,
          929,
          397,
          653,
          917,
          289,
          525,
          1071,
          393,
          1003,
          975,
          213,
          991,
          196,
          496,
          347,
          10,
          929,
          835,
          545,
          43,
          400,
          479,
          708,
          1018,
          152,
          597,
          1091,
          938,
          510,
          887,
          1089,
          409,
          858,
          917,
          251,
          6,
          941,
          464,
          412,
          307,
          429,
          1031,
          653,
          788,
          645,
          603,
          817,
          203,
          607,
          125,
          475,
          587,
          122,
          808,
          258,
          475,
          286,
          254,
          147,
          565,
          28,
          793,
          239,
          170,
          326,
          999,
          289,
          114,
          1000,
          962,
          816,
          878,
          952,
          655,
          802,
          983,
          357,
          346,
          227,
          1089,
          839,
          791,
          646,
          606,
          634,
          996,
          201,
          670,
          159,
          749,
          364,
          164,
          1060,
          1079,
          1033,
          272,
          649,
          561,
          833,
          545,
          210,
          1056,
          1061,
          705,
          600,
          131,
          190,
          276,
          769,
          459,
          719,
          765,
          951,
          466,
          1083,
          975,
          441,
          381,
          633,
          454,
          668,
          1031,
          1050,
          748,
          130,
          324,
          376,
          475,
          1070,
          559,
          536,
          813,
          60,
          394,
          549,
          1069,
          850,
          896,
          758,
          761,
          772,
          609,
          167,
          395,
          772,
          1005,
          535,
          860,
          63,
          1071,
          401,
          181,
          403,
          764,
          287,
          767,
          456,
          404,
          218,
          718,
          637,
          868,
          442,
          1068,
          83,
          640,
          809,
          21,
          185,
          581,
          1074,
          81,
          906,
          434,
          833,
          720,
          927,
          322,
          685,
          525,
          1082,
          16,
          177,
          1075,
          115,
          10,
          411,
          1003,
          500,
          763,
          598,
          1032,
          259,
          796,
          72,
          368,
          1037,
          773,
          248,
          503,
          745,
          41,
          616,
          285,
          488,
          1048,
          913,
          894,
          785,
          887,
          492,
          698,
          1023,
          495,
          538,
          399,
          175,
          123,
          191,
          61,
          580,
          324,
          196,
          786,
          943,
          955,
          462,
          717,
          835,
          119,
          884,
          365,
          100,
          1069,
          192,
          1010,
          398,
          571,
          6,
          925,
          987,
          861,
          500,
          752,
          1028,
          510,
          386,
          1033,
          584,
          87,
          320,
          505,
          778,
          1063,
          233,
          686,
          835,
          858,
          235,
          117,
          192,
          1002,
          548,
          1043,
          116,
          730,
          684,
          202,
          906,
          62,
          967,
          590,
          210,
          496,
          392,
          957,
          756,
          420,
          362,
          176,
          372,
          64,
          1073,
          1098,
          59,
          954,
          620,
          3,
          639,
          368,
          40,
          90,
          558,
          611,
          1065,
          499,
          66,
          251,
          438,
          447,
          350,
          550,
          255,
          537,
          187,
          645,
          255,
          702,
          667,
          980,
          502,
          530,
          784,
          459,
          909,
          302,
          139,
          284,
          717,
          229,
          288,
          1007,
          489,
          22,
          607,
          579,
          479,
          335,
          161,
          74,
          957,
          585,
          630,
          742,
          886,
          591,
          356,
          721,
          529,
          992,
          34,
          427,
          1002,
          678,
          1067,
          25,
          592,
          816,
          712,
          461,
          954,
          183,
          69,
          75,
          925,
          1009,
          642,
          370,
          549,
          700,
          49,
          600,
          610,
          193,
          302,
          258,
          573,
          819,
          104,
          682,
          468,
          976,
          26,
          208,
          586,
          776,
          993,
          539,
          245,
          52,
          181,
          882,
          1051,
          445,
          585,
          740,
          793,
          842,
          772,
          129,
          1082,
          320,
          480,
          121,
          317,
          698,
          1020,
          375,
          227,
          251,
          623,
          358,
          634,
          826,
          758,
          824,
          722,
          1049,
          501,
          980,
          392,
          950,
          1036,
          544,
          1081,
          63,
          1066,
          891,
          736,
          605,
          984,
          418,
          165,
          322,
          80,
          650,
          620,
          131,
          567,
          571,
          522,
          156,
          833,
          550,
          44,
          302,
          134,
          696,
          204,
          576,
          312,
          698,
          984,
          519,
          582,
          216,
          1011,
          566,
          57,
          1008,
          82,
          1003,
          245,
          367,
          1093,
          141,
          7,
          895,
          473,
          539,
          329,
          470,
          893,
          274,
          353,
          731,
          870,
          323,
          434,
          39,
          386,
          482,
          522,
          623,
          311,
          11,
          536,
          400,
          100,
          747,
          1012,
          523,
          657,
          145,
          891,
          150,
          947,
          182,
          217,
          140,
          604,
          64,
          81,
          130,
          714,
          825,
          370,
          706,
          712,
          192,
          829,
          897,
          604,
          1045,
          402,
          415,
          937,
          679,
          1023,
          783,
          928,
          649,
          144,
          752,
          620,
          677,
          535,
          368,
          104,
          451,
          114,
          869,
          245,
          60,
          621,
          541,
          146,
          951,
          356,
          1002,
          1044,
          69,
          305,
          1081,
          539,
          1039,
          974,
          346,
          551,
          714,
          19,
          826,
          578,
          762,
          271,
          339,
          429,
          239,
          419,
          678,
          443,
          389,
          422,
          968,
          1053,
          550,
          854,
          443,
          932,
          495,
          482,
          314,
          409,
          622,
          643,
          945,
          251,
          1074,
          960,
          374,
          388,
          1073,
          800,
          859,
          349,
          264,
          187,
          645,
          967,
          153,
          414,
          935,
          321,
          589,
          763,
          435,
          265,
          294,
          635,
          1077,
          698,
          84,
          355,
          1001,
          406,
          812,
          108,
          659,
          264,
          183,
          1071,
          131,
          372,
          338,
          132,
          506,
          904,
          653,
          514,
          1037,
          946,
          631,
          471,
          976,
          242,
          581,
          89,
          630,
          181,
          197,
          1082,
          120,
          38,
          837,
          1014,
          513,
          209,
          377,
          176,
          187,
          336,
          81,
          208,
          614,
          737,
          624,
          1051,
          538,
          285,
          402,
          652,
          575,
          721,
          407,
          392,
          1084,
          230,
          160,
          1026,
          683,
          966,
          899,
          719,
          378,
          712,
          465,
          1069,
          250,
          636,
          60,
          166,
          510,
          110,
          607,
          605,
          67,
          704,
          17,
          150,
          859,
          354,
          701,
          107,
          670,
          707,
          508,
          308,
          172,
          322,
          339,
          951,
          563,
          819,
          217,
          803,
          458,
          88,
          337,
          834,
          784,
          329,
          848,
          452,
          485,
          502,
          864,
          661,
          765,
          390,
          305,
          98,
          435,
          611,
          489,
          732,
          878,
          663,
          152,
          759,
          640,
          580,
          918,
          983,
          960,
          218,
          2,
          832,
          809,
          816,
          715,
          184,
          528,
          759,
          891,
          635,
          1021,
          526,
          264,
          45,
          180,
          735,
          973,
          144,
          188,
          872,
          871,
          15,
          586,
          984,
          815,
          784,
          848,
          154,
          192,
          82,
          369,
          287,
          129,
          191,
          829,
          261,
          67,
          742,
          988,
          254,
          738,
          965,
          791,
          132,
          563,
          429,
          624,
          820,
          648,
          396,
          622,
          719,
          1057,
          297,
          196,
          1074,
          647,
          1038,
          685,
          607,
          783,
          1068,
          730,
          767,
          11,
          85,
          225,
          893,
          370,
          524,
          105,
          266,
          538,
          718,
          780,
          908,
          972,
          333,
          253,
          339,
          245,
          516,
          823,
          482,
          532,
          995,
          259,
          583,
          282,
          915,
          568,
          448,
          1053,
          95,
          1025,
          23,
          7,
          76,
          120,
          658,
          860,
          723,
          1017,
          775,
          291,
          302,
          362,
          506,
          164,
          514,
          724,
          230,
          294,
          179,
          1000,
          318,
          360,
          1074,
          859,
          265,
          363,
          231,
          352,
          145,
          395,
          180,
          8,
          342,
          73,
          661,
          526,
          132,
          74,
          222,
          566,
          410,
          725,
          538,
          336,
          779,
          997,
          527,
          925,
          799,
          864,
          944,
          429,
          993,
          307,
          324,
          1038,
          844,
          490,
          503,
          1094,
          1071,
          988,
          1094,
          612,
          1067,
          100,
          189,
          1027,
          63,
          641,
          638,
          1038,
          910,
          333,
          607,
          658,
          141,
          159,
          215,
          989,
          358,
          861,
          116,
          769,
          879,
          564,
          548,
          618,
          833,
          168,
          175,
          206,
          296,
          755,
          40,
          296,
          793,
          321,
          746,
          660,
          69,
          663,
          430,
          986,
          607,
          699,
          232,
          634,
          614,
          1059,
          779,
          454,
          139,
          418,
          547,
          164,
          126,
          412,
          101,
          762,
          1011,
          997,
          572,
          578,
          659,
          816,
          712,
          157,
          1055,
          659,
          633,
          296,
          934,
          93,
          516,
          822,
          141,
          681,
          287,
          387,
          889,
          555,
          283,
          994,
          1003,
          489,
          882,
          580,
          798,
          451,
          908,
          296,
          67,
          890,
          319,
          851,
          303,
          128,
          965,
          943,
          15,
          1026,
          1025,
          847,
          496,
          1078,
          903,
          111,
          175,
          218,
          428,
          960,
          446,
          73,
          118,
          841,
          986,
          407,
          94,
          73,
          255,
          526,
          1002,
          545,
          256,
          1048,
          874,
          922,
          317,
          877,
          1087,
          409,
          482,
          976,
          95,
          69,
          910,
          132,
          934,
          761,
          274,
          826,
          714,
          949,
          675,
          104,
          269,
          989,
          611,
          586,
          996,
          911,
          436,
          991,
          641,
          740,
          222,
          0,
          433,
          668,
          799,
          9,
          1009,
          164,
          1028,
          532,
          407,
          140,
          88,
          261,
          497,
          928,
          622,
          1059,
          965,
          298,
          981,
          1036,
          1037,
          196,
          281,
          921,
          481,
          933,
          994,
          363,
          106,
          337,
          32,
          55,
          642,
          697,
          945,
          1030,
          1098,
          1036,
          206,
          288,
          810,
          304,
          778,
          981,
          954,
          428,
          113,
          1043,
          687,
          578,
          75,
          652,
          797,
          277,
          9,
          570,
          471,
          588,
          942,
          262,
          135,
          34,
          178,
          445,
          533,
          989,
          885,
          1078,
          807,
          1002,
          779,
          370,
          351,
          656,
          330,
          546,
          77,
          2,
          1021,
          299,
          870,
          52,
          266,
          728,
          778,
          867,
          435,
          307,
          132,
          19,
          504,
          24,
          91,
          751,
          474,
          46,
          398,
          866,
          30,
          237,
          96,
          190,
          948,
          251,
          573,
          849,
          975,
          616,
          422,
          14,
          1051,
          966,
          733,
          74,
          739,
          1062,
          251,
          537,
          562,
          881,
          495,
          1055,
          909,
          73,
          210,
          300,
          976,
          19,
          193,
          427,
          1001,
          335,
          261,
          434,
          209,
          829,
          794,
          766,
          423,
          617,
          454,
          450,
          201,
          866,
          818,
          773,
          622,
          1031,
          1020,
          482,
          1047,
          106,
          893,
          576,
          433,
          500,
          369,
          148,
          401,
          695,
          773,
          390,
          185,
          79,
          99,
          462,
          207,
          298,
          1089,
          222,
          702,
          380,
          830,
          21,
          211,
          283,
          158,
          856,
          327,
          851,
          309,
          137,
          722,
          658,
          84,
          217,
          978,
          711,
          570,
          964,
          803,
          6,
          1042,
          1079,
          266,
          815,
          869,
          838,
          755,
          763,
          135,
          970,
          504,
          917,
          67,
          925,
          563,
          36,
          928,
          826,
          1003,
          142,
          696,
          566,
          720,
          53,
          237,
          1074,
          552,
          869,
          687,
          760,
          925,
          292,
          586,
          750,
          154,
          122,
          439,
          1065,
          1038,
          817,
          227,
          1043,
          520,
          742,
          253,
          30,
          110,
          877,
          70,
          1043,
          384,
          376,
          4,
          740,
          1074,
          380,
          135,
          1019,
          846,
          228,
          644,
          484,
          181,
          962,
          933,
          837,
          472,
          171,
          832,
          603,
          406,
          121,
          813,
          749,
          412,
          798,
          680,
          492,
          832,
          836,
          311,
          99,
          329,
          427,
          795,
          684,
          908,
          169,
          782,
          441,
          119,
          233,
          819,
          924,
          860,
          962,
          574,
          772,
          870,
          374,
          666,
          35,
          768,
          542,
          1079,
          130,
          316,
          504,
          601,
          496,
          890,
          625,
          983,
          111,
          2,
          1048,
          1010,
          394,
          382,
          131,
          22,
          880,
          96,
          680,
          691,
          122,
          27,
          943,
          872,
          104,
          786,
          13,
          1098,
          1037,
          302,
          298,
          149,
          43,
          497,
          642,
          537,
          754,
          150,
          129,
          730,
          848,
          86,
          960,
          576,
          145,
          114,
          84,
          737,
          467,
          357,
          628,
          875,
          741,
          106,
          790,
          158,
          206,
          18,
          642,
          611,
          370,
          669,
          920,
          397,
          713,
          1036,
          476,
          1030,
          1003,
          443,
          183,
          1053,
          29,
          854,
          695,
          239,
          201,
          450,
          660,
          369,
          1074,
          976,
          883,
          419,
          528,
          510,
          674,
          293,
          655,
          30,
          203,
          271,
          646,
          273,
          901,
          543,
          163,
          472,
          35,
          586,
          966,
          919,
          34,
          975,
          1055,
          554,
          470,
          817,
          277,
          140,
          1051,
          295,
          431,
          1043,
          330,
          930,
          573,
          21,
          112,
          937,
          217,
          354,
          530,
          932,
          801,
          780,
          225,
          31,
          57,
          124,
          951,
          557,
          442,
          686,
          344,
          747,
          103,
          302,
          227,
          863,
          344,
          484,
          487,
          272,
          402,
          289,
          26,
          740,
          142,
          496,
          631,
          518,
          284,
          768,
          454,
          1,
          1080,
          1008,
          332,
          243,
          293,
          537,
          683,
          484,
          100,
          320,
          625,
          867,
          1036,
          695,
          398,
          150,
          265,
          83,
          385,
          57,
          997,
          487,
          963,
          688,
          737,
          357,
          1063,
          400,
          284,
          22,
          859,
          788,
          58,
          629,
          94,
          2,
          823,
          580,
          209,
          587,
          82,
          783,
          326,
          513,
          727,
          314,
          891,
          76,
          789,
          788,
          307,
          694,
          190,
          982,
          1,
          504,
          406,
          513,
          60,
          248,
          295,
          74,
          223,
          324,
          448,
          335,
          7,
          473,
          583,
          2,
          432,
          904,
          81,
          780,
          909,
          52,
          386,
          132,
          713,
          900,
          206,
          1047,
          328,
          252,
          871,
          432,
          589,
          190,
          688,
          935,
          18,
          533,
          54,
          635,
          979,
          392,
          66,
          615,
          480,
          598,
          636,
          1009,
          313,
          159,
          562,
          448,
          465,
          0,
          809,
          918,
          835,
          785,
          825,
          456,
          638,
          75,
          886,
          795,
          792,
          455,
          402,
          457,
          750,
          440,
          192,
          127,
          2,
          113,
          1095,
          1080,
          480,
          88,
          238,
          592,
          665,
          36,
          799,
          447,
          1021,
          1036,
          1029,
          250,
          369,
          475,
          470,
          1087,
          945,
          693,
          970,
          1054,
          675,
          915,
          838,
          365,
          421,
          385,
          763,
          261,
          1088,
          370,
          881,
          295,
          927,
          844,
          383,
          1079,
          214,
          986,
          183,
          726,
          66,
          29,
          1084,
          35,
          5,
          680,
          785,
          339,
          165,
          617,
          577,
          728,
          159,
          560,
          749,
          168,
          726,
          993,
          1007,
          442,
          877,
          262,
          555,
          565,
          1035,
          807,
          864,
          722,
          415,
          58,
          1093,
          755,
          207,
          899,
          722,
          82,
          107,
          383,
          845,
          1030,
          1038,
          392,
          588,
          53,
          1065,
          969,
          659,
          994,
          672,
          502,
          76,
          799,
          73,
          927,
          946,
          905,
          743,
          403,
          115,
          632,
          764,
          275,
          476,
          794,
          312,
          502,
          870,
          808,
          881,
          447,
          191,
          2,
          1082,
          87,
          462,
          706,
          352,
          1059,
          516,
          178,
          608,
          489,
          743,
          636,
          385,
          826,
          909,
          490,
          487,
          345,
          650,
          16,
          1008,
          392,
          965,
          273,
          715,
          20,
          812,
          571,
          654,
          667,
          790,
          62,
          575,
          685,
          275,
          340,
          964,
          595,
          1076,
          533,
          602,
          1012,
          737,
          635,
          884,
          672,
          424,
          794,
          9,
          527,
          190,
          308,
          482,
          582,
          729,
          240,
          511,
          576,
          9,
          1037,
          976,
          167,
          115,
          791,
          387,
          767,
          152,
          18,
          742,
          1039,
          517,
          808,
          659,
          135,
          923,
          267,
          609,
          415,
          64,
          257,
          157,
          672,
          327,
          969,
          819,
          182,
          766,
          41,
          778,
          854,
          791,
          1068,
          277,
          189,
          930,
          573,
          288,
          1007,
          627,
          398,
          52,
          1029,
          320,
          510,
          384,
          588,
          119,
          392,
          798,
          211,
          736,
          424,
          648,
          469,
          644,
          739,
          240,
          1039,
          377,
          41,
          540,
          842,
          742,
          775,
          1031,
          482,
          861,
          477,
          403,
          876,
          879,
          75,
          92,
          408,
          695,
          572,
          191,
          899,
          632,
          113,
          827,
          232,
          813,
          33,
          365,
          493,
          304,
          1037,
          559,
          908,
          389,
          395,
          377,
          14,
          591,
          30,
          863,
          365,
          346,
          654,
          275,
          990,
          499,
          551,
          861,
          882,
          1087,
          82,
          178,
          891,
          179,
          401,
          967,
          757,
          125,
          906,
          213,
          175,
          285,
          1003,
          996,
          297,
          238,
          775,
          320,
          629,
          1,
          795,
          1010,
          721,
          787,
          611,
          721,
          831,
          547,
          760,
          667,
          738,
          579,
          594,
          854,
          810,
          474,
          718,
          298,
          1050,
          966,
          305,
          189,
          629,
          1064,
          1089,
          102,
          581,
          654,
          853,
          28,
          732,
          1027,
          753,
          267,
          818,
          50,
          972,
          622,
          330,
          401,
          32,
          161,
          244,
          645,
          123,
          395,
          480,
          516,
          865,
          956,
          112,
          255,
          697,
          695,
          1051,
          85,
          845,
          38,
          809,
          412,
          222,
          1037,
          896,
          954,
          645,
          581,
          4,
          383,
          1017,
          782,
          652,
          572,
          284,
          548,
          745,
          458,
          763,
          874,
          82,
          301,
          400,
          152,
          1019,
          219,
          162,
          909,
          423,
          264,
          654,
          499,
          779,
          884,
          369,
          197,
          1024,
          619,
          39,
          12,
          192,
          254,
          67,
          221,
          566,
          373,
          698,
          737,
          743,
          25,
          95,
          1,
          174,
          172,
          770,
          480,
          548,
          652,
          557,
          620,
          922,
          1049,
          45,
          102,
          914,
          470,
          472,
          681,
          255,
          522,
          822,
          1055,
          266,
          696,
          1088,
          537,
          239,
          1055,
          887,
          819,
          770,
          207,
          373,
          452,
          343,
          201,
          535,
          871,
          396,
          825,
          1032,
          883,
          207,
          1008,
          905,
          588,
          1089,
          832,
          1081,
          93,
          326,
          304,
          364,
          32,
          744,
          222,
          530,
          720,
          550,
          618,
          870,
          468,
          221,
          475,
          194,
          596,
          282,
          504,
          1019,
          381,
          856,
          436,
          705,
          886,
          652,
          331,
          790,
          138,
          899,
          169,
          764,
          874,
          748,
          574,
          1015,
          1063,
          1041,
          475,
          564,
          891,
          1036,
          131,
          1021,
          689,
          527,
          271,
          266,
          633,
          256,
          373,
          349,
          1055,
          1053,
          789,
          553,
          939,
          338,
          412,
          954,
          217,
          673,
          1010,
          620,
          231,
          937,
          434,
          771,
          671,
          267,
          540,
          345,
          712,
          295,
          66,
          958,
          193,
          1025,
          963,
          980,
          758,
          1028,
          415,
          368,
          438,
          762,
          195,
          689,
          397,
          481,
          651,
          778,
          222,
          606,
          551,
          1008,
          557,
          962,
          855,
          806,
          408,
          1083,
          130,
          613,
          896,
          485,
          150,
          440,
          996,
          650,
          398,
          1094,
          45,
          1070,
          788,
          324,
          468,
          545,
          670,
          1097,
          420,
          680,
          892,
          172,
          613,
          699,
          354,
          228,
          930,
          422,
          556,
          663,
          681,
          858,
          841,
          594,
          222,
          246,
          484,
          923,
          892,
          485,
          961,
          872,
          353,
          388,
          976,
          664,
          1015,
          945,
          825,
          876,
          221,
          600,
          1079,
          179,
          389,
          720,
          1071,
          954,
          759,
          850,
          247,
          971,
          386,
          613,
          705,
          923,
          446,
          217,
          1044,
          213,
          909,
          361,
          179,
          497,
          54,
          841,
          477,
          422,
          508,
          366,
          102,
          195,
          828,
          1024,
          603,
          17,
          292,
          793,
          337,
          311,
          443,
          209,
          484,
          3,
          713,
          317,
          434,
          598,
          703,
          561,
          1040,
          702,
          854,
          372,
          855,
          790,
          424,
          668,
          646,
          801,
          702,
          575,
          227,
          693,
          331,
          449,
          900,
          536,
          517,
          53,
          416,
          384,
          503,
          91,
          252,
          166,
          386,
          1028,
          954,
          469,
          532,
          797,
          277,
          218,
          499,
          775,
          168,
          877,
          249,
          169,
          287,
          189,
          174,
          441,
          957,
          950,
          769,
          964,
          700,
          954,
          782,
          840,
          494,
          915,
          821,
          128,
          161,
          303,
          995,
          148,
          361,
          1026,
          360,
          530,
          297,
          1001,
          402,
          927,
          459,
          1021,
          422,
          882,
          173,
          387,
          534,
          293,
          1099,
          284,
          71,
          36,
          710,
          597,
          154,
          1078,
          869,
          985,
          319,
          53,
          779,
          742,
          117,
          175,
          1099,
          61,
          153,
          267,
          634,
          509,
          340,
          216,
          142,
          869,
          882,
          683,
          879,
          865,
          548,
          850,
          287,
          414,
          1018,
          748,
          181,
          1095,
          223,
          536,
          900,
          160,
          551,
          64,
          21,
          924,
          220,
          507,
          18,
          570,
          594,
          56,
          865,
          277,
          1046,
          876,
          958,
          811,
          533,
          366,
          292,
          667,
          780,
          891,
          476,
          634,
          691,
          359,
          977,
          403,
          410,
          30,
          259,
          430,
          128,
          441,
          82,
          971,
          1098,
          55,
          361,
          1012,
          1095,
          219,
          279,
          237,
          1093,
          874,
          241,
          371,
          741,
          837,
          930,
          360,
          1031,
          1044,
          556,
          75,
          228,
          93,
          937,
          1055,
          812,
          349,
          416,
          868,
          1048,
          952,
          605,
          467,
          643,
          365,
          414,
          730,
          659,
          1050,
          151,
          932,
          920,
          546,
          407,
          373,
          608,
          382,
          12,
          356,
          560,
          676,
          23,
          199,
          379,
          473,
          84,
          158,
          134,
          309,
          927,
          623,
          170,
          706,
          162,
          380,
          99,
          883,
          890,
          514,
          796,
          815,
          1082,
          422,
          679,
          958,
          399,
          165,
          1032,
          425,
          342,
          482,
          317,
          331,
          1081,
          474,
          565,
          914,
          106,
          49,
          1090,
          636,
          240,
          724,
          669,
          218,
          1092,
          445,
          519,
          64,
          195,
          220,
          749,
          925,
          60,
          976,
          1026,
          522,
          806,
          108,
          136,
          286,
          943,
          282,
          57,
          270,
          838,
          888,
          160,
          390,
          307,
          285,
          292,
          176,
          640,
          243,
          827,
          110,
          940,
          271,
          559,
          42,
          292,
          637,
          334,
          841,
          689,
          344,
          537,
          979,
          923,
          391,
          914,
          995,
          473,
          743,
          487,
          981,
          413,
          592,
          210,
          319,
          262,
          241,
          11,
          832,
          167,
          59,
          79,
          944,
          1041,
          460,
          378,
          698,
          982,
          847,
          590,
          142,
          817,
          898,
          945,
          922,
          998,
          109,
          595,
          31,
          965,
          237,
          113,
          354,
          868,
          788,
          52,
          359,
          1096,
          876,
          298,
          592,
          552,
          268,
          811,
          617,
          269,
          418,
          383,
          890,
          87,
          167,
          521,
          907,
          964,
          809,
          223,
          191,
          1036,
          1027,
          617,
          754,
          1008,
          653,
          160,
          1053,
          281,
          410,
          579,
          185,
          626,
          698,
          497,
          1090,
          395,
          402,
          826,
          499,
          716,
          748,
          641,
          723,
          895,
          895,
          990,
          1080,
          788,
          367,
          787,
          46,
          385,
          289,
          88,
          1047,
          665,
          415,
          530,
          186,
          1011
         ],
         "xaxis": "x",
         "yaxis": "y",
         "type": "histogram"
        }
       ],
       "layout": {
        "template": {
         "data": {
          "histogram2dcontour": [
           {
            "type": "histogram2dcontour",
            "colorbar": {
             "outlinewidth": 0,
             "ticks": ""
            },
            "colorscale": [
             [
              0.0,
              "#0d0887"
             ],
             [
              0.1111111111111111,
              "#46039f"
             ],
             [
              0.2222222222222222,
              "#7201a8"
             ],
             [
              0.3333333333333333,
              "#9c179e"
             ],
             [
              0.4444444444444444,
              "#bd3786"
             ],
             [
              0.5555555555555556,
              "#d8576b"
             ],
             [
              0.6666666666666666,
              "#ed7953"
             ],
             [
              0.7777777777777778,
              "#fb9f3a"
             ],
             [
              0.8888888888888888,
              "#fdca26"
             ],
             [
              1.0,
              "#f0f921"
             ]
            ]
           }
          ],
          "choropleth": [
           {
            "type": "choropleth",
            "colorbar": {
             "outlinewidth": 0,
             "ticks": ""
            }
           }
          ],
          "histogram2d": [
           {
            "type": "histogram2d",
            "colorbar": {
             "outlinewidth": 0,
             "ticks": ""
            },
            "colorscale": [
             [
              0.0,
              "#0d0887"
             ],
             [
              0.1111111111111111,
              "#46039f"
             ],
             [
              0.2222222222222222,
              "#7201a8"
             ],
             [
              0.3333333333333333,
              "#9c179e"
             ],
             [
              0.4444444444444444,
              "#bd3786"
             ],
             [
              0.5555555555555556,
              "#d8576b"
             ],
             [
              0.6666666666666666,
              "#ed7953"
             ],
             [
              0.7777777777777778,
              "#fb9f3a"
             ],
             [
              0.8888888888888888,
              "#fdca26"
             ],
             [
              1.0,
              "#f0f921"
             ]
            ]
           }
          ],
          "heatmap": [
           {
            "type": "heatmap",
            "colorbar": {
             "outlinewidth": 0,
             "ticks": ""
            },
            "colorscale": [
             [
              0.0,
              "#0d0887"
             ],
             [
              0.1111111111111111,
              "#46039f"
             ],
             [
              0.2222222222222222,
              "#7201a8"
             ],
             [
              0.3333333333333333,
              "#9c179e"
             ],
             [
              0.4444444444444444,
              "#bd3786"
             ],
             [
              0.5555555555555556,
              "#d8576b"
             ],
             [
              0.6666666666666666,
              "#ed7953"
             ],
             [
              0.7777777777777778,
              "#fb9f3a"
             ],
             [
              0.8888888888888888,
              "#fdca26"
             ],
             [
              1.0,
              "#f0f921"
             ]
            ]
           }
          ],
          "heatmapgl": [
           {
            "type": "heatmapgl",
            "colorbar": {
             "outlinewidth": 0,
             "ticks": ""
            },
            "colorscale": [
             [
              0.0,
              "#0d0887"
             ],
             [
              0.1111111111111111,
              "#46039f"
             ],
             [
              0.2222222222222222,
              "#7201a8"
             ],
             [
              0.3333333333333333,
              "#9c179e"
             ],
             [
              0.4444444444444444,
              "#bd3786"
             ],
             [
              0.5555555555555556,
              "#d8576b"
             ],
             [
              0.6666666666666666,
              "#ed7953"
             ],
             [
              0.7777777777777778,
              "#fb9f3a"
             ],
             [
              0.8888888888888888,
              "#fdca26"
             ],
             [
              1.0,
              "#f0f921"
             ]
            ]
           }
          ],
          "contourcarpet": [
           {
            "type": "contourcarpet",
            "colorbar": {
             "outlinewidth": 0,
             "ticks": ""
            }
           }
          ],
          "contour": [
           {
            "type": "contour",
            "colorbar": {
             "outlinewidth": 0,
             "ticks": ""
            },
            "colorscale": [
             [
              0.0,
              "#0d0887"
             ],
             [
              0.1111111111111111,
              "#46039f"
             ],
             [
              0.2222222222222222,
              "#7201a8"
             ],
             [
              0.3333333333333333,
              "#9c179e"
             ],
             [
              0.4444444444444444,
              "#bd3786"
             ],
             [
              0.5555555555555556,
              "#d8576b"
             ],
             [
              0.6666666666666666,
              "#ed7953"
             ],
             [
              0.7777777777777778,
              "#fb9f3a"
             ],
             [
              0.8888888888888888,
              "#fdca26"
             ],
             [
              1.0,
              "#f0f921"
             ]
            ]
           }
          ],
          "surface": [
           {
            "type": "surface",
            "colorbar": {
             "outlinewidth": 0,
             "ticks": ""
            },
            "colorscale": [
             [
              0.0,
              "#0d0887"
             ],
             [
              0.1111111111111111,
              "#46039f"
             ],
             [
              0.2222222222222222,
              "#7201a8"
             ],
             [
              0.3333333333333333,
              "#9c179e"
             ],
             [
              0.4444444444444444,
              "#bd3786"
             ],
             [
              0.5555555555555556,
              "#d8576b"
             ],
             [
              0.6666666666666666,
              "#ed7953"
             ],
             [
              0.7777777777777778,
              "#fb9f3a"
             ],
             [
              0.8888888888888888,
              "#fdca26"
             ],
             [
              1.0,
              "#f0f921"
             ]
            ]
           }
          ],
          "mesh3d": [
           {
            "type": "mesh3d",
            "colorbar": {
             "outlinewidth": 0,
             "ticks": ""
            }
           }
          ],
          "scatter": [
           {
            "marker": {
             "line": {
              "color": "#283442"
             }
            },
            "type": "scatter"
           }
          ],
          "parcoords": [
           {
            "type": "parcoords",
            "line": {
             "colorbar": {
              "outlinewidth": 0,
              "ticks": ""
             }
            }
           }
          ],
          "scatterpolargl": [
           {
            "type": "scatterpolargl",
            "marker": {
             "colorbar": {
              "outlinewidth": 0,
              "ticks": ""
             }
            }
           }
          ],
          "bar": [
           {
            "error_x": {
             "color": "#f2f5fa"
            },
            "error_y": {
             "color": "#f2f5fa"
            },
            "marker": {
             "line": {
              "color": "rgb(17,17,17)",
              "width": 0.5
             },
             "pattern": {
              "fillmode": "overlay",
              "size": 10,
              "solidity": 0.2
             }
            },
            "type": "bar"
           }
          ],
          "scattergeo": [
           {
            "type": "scattergeo",
            "marker": {
             "colorbar": {
              "outlinewidth": 0,
              "ticks": ""
             }
            }
           }
          ],
          "scatterpolar": [
           {
            "type": "scatterpolar",
            "marker": {
             "colorbar": {
              "outlinewidth": 0,
              "ticks": ""
             }
            }
           }
          ],
          "histogram": [
           {
            "marker": {
             "pattern": {
              "fillmode": "overlay",
              "size": 10,
              "solidity": 0.2
             }
            },
            "type": "histogram"
           }
          ],
          "scattergl": [
           {
            "marker": {
             "line": {
              "color": "#283442"
             }
            },
            "type": "scattergl"
           }
          ],
          "scatter3d": [
           {
            "type": "scatter3d",
            "line": {
             "colorbar": {
              "outlinewidth": 0,
              "ticks": ""
             }
            },
            "marker": {
             "colorbar": {
              "outlinewidth": 0,
              "ticks": ""
             }
            }
           }
          ],
          "scattermapbox": [
           {
            "type": "scattermapbox",
            "marker": {
             "colorbar": {
              "outlinewidth": 0,
              "ticks": ""
             }
            }
           }
          ],
          "scatterternary": [
           {
            "type": "scatterternary",
            "marker": {
             "colorbar": {
              "outlinewidth": 0,
              "ticks": ""
             }
            }
           }
          ],
          "scattercarpet": [
           {
            "type": "scattercarpet",
            "marker": {
             "colorbar": {
              "outlinewidth": 0,
              "ticks": ""
             }
            }
           }
          ],
          "carpet": [
           {
            "aaxis": {
             "endlinecolor": "#A2B1C6",
             "gridcolor": "#506784",
             "linecolor": "#506784",
             "minorgridcolor": "#506784",
             "startlinecolor": "#A2B1C6"
            },
            "baxis": {
             "endlinecolor": "#A2B1C6",
             "gridcolor": "#506784",
             "linecolor": "#506784",
             "minorgridcolor": "#506784",
             "startlinecolor": "#A2B1C6"
            },
            "type": "carpet"
           }
          ],
          "table": [
           {
            "cells": {
             "fill": {
              "color": "#506784"
             },
             "line": {
              "color": "rgb(17,17,17)"
             }
            },
            "header": {
             "fill": {
              "color": "#2a3f5f"
             },
             "line": {
              "color": "rgb(17,17,17)"
             }
            },
            "type": "table"
           }
          ],
          "barpolar": [
           {
            "marker": {
             "line": {
              "color": "rgb(17,17,17)",
              "width": 0.5
             },
             "pattern": {
              "fillmode": "overlay",
              "size": 10,
              "solidity": 0.2
             }
            },
            "type": "barpolar"
           }
          ],
          "pie": [
           {
            "automargin": true,
            "type": "pie"
           }
          ]
         },
         "layout": {
          "autotypenumbers": "strict",
          "colorway": [
           "#636efa",
           "#EF553B",
           "#00cc96",
           "#ab63fa",
           "#FFA15A",
           "#19d3f3",
           "#FF6692",
           "#B6E880",
           "#FF97FF",
           "#FECB52"
          ],
          "font": {
           "color": "#f2f5fa"
          },
          "hovermode": "closest",
          "hoverlabel": {
           "align": "left"
          },
          "paper_bgcolor": "rgb(17,17,17)",
          "plot_bgcolor": "rgb(17,17,17)",
          "polar": {
           "bgcolor": "rgb(17,17,17)",
           "angularaxis": {
            "gridcolor": "#506784",
            "linecolor": "#506784",
            "ticks": ""
           },
           "radialaxis": {
            "gridcolor": "#506784",
            "linecolor": "#506784",
            "ticks": ""
           }
          },
          "ternary": {
           "bgcolor": "rgb(17,17,17)",
           "aaxis": {
            "gridcolor": "#506784",
            "linecolor": "#506784",
            "ticks": ""
           },
           "baxis": {
            "gridcolor": "#506784",
            "linecolor": "#506784",
            "ticks": ""
           },
           "caxis": {
            "gridcolor": "#506784",
            "linecolor": "#506784",
            "ticks": ""
           }
          },
          "coloraxis": {
           "colorbar": {
            "outlinewidth": 0,
            "ticks": ""
           }
          },
          "colorscale": {
           "sequential": [
            [
             0.0,
             "#0d0887"
            ],
            [
             0.1111111111111111,
             "#46039f"
            ],
            [
             0.2222222222222222,
             "#7201a8"
            ],
            [
             0.3333333333333333,
             "#9c179e"
            ],
            [
             0.4444444444444444,
             "#bd3786"
            ],
            [
             0.5555555555555556,
             "#d8576b"
            ],
            [
             0.6666666666666666,
             "#ed7953"
            ],
            [
             0.7777777777777778,
             "#fb9f3a"
            ],
            [
             0.8888888888888888,
             "#fdca26"
            ],
            [
             1.0,
             "#f0f921"
            ]
           ],
           "sequentialminus": [
            [
             0.0,
             "#0d0887"
            ],
            [
             0.1111111111111111,
             "#46039f"
            ],
            [
             0.2222222222222222,
             "#7201a8"
            ],
            [
             0.3333333333333333,
             "#9c179e"
            ],
            [
             0.4444444444444444,
             "#bd3786"
            ],
            [
             0.5555555555555556,
             "#d8576b"
            ],
            [
             0.6666666666666666,
             "#ed7953"
            ],
            [
             0.7777777777777778,
             "#fb9f3a"
            ],
            [
             0.8888888888888888,
             "#fdca26"
            ],
            [
             1.0,
             "#f0f921"
            ]
           ],
           "diverging": [
            [
             0,
             "#8e0152"
            ],
            [
             0.1,
             "#c51b7d"
            ],
            [
             0.2,
             "#de77ae"
            ],
            [
             0.3,
             "#f1b6da"
            ],
            [
             0.4,
             "#fde0ef"
            ],
            [
             0.5,
             "#f7f7f7"
            ],
            [
             0.6,
             "#e6f5d0"
            ],
            [
             0.7,
             "#b8e186"
            ],
            [
             0.8,
             "#7fbc41"
            ],
            [
             0.9,
             "#4d9221"
            ],
            [
             1,
             "#276419"
            ]
           ]
          },
          "xaxis": {
           "gridcolor": "#283442",
           "linecolor": "#506784",
           "ticks": "",
           "title": {
            "standoff": 15
           },
           "zerolinecolor": "#283442",
           "automargin": true,
           "zerolinewidth": 2
          },
          "yaxis": {
           "gridcolor": "#283442",
           "linecolor": "#506784",
           "ticks": "",
           "title": {
            "standoff": 15
           },
           "zerolinecolor": "#283442",
           "automargin": true,
           "zerolinewidth": 2
          },
          "scene": {
           "xaxis": {
            "backgroundcolor": "rgb(17,17,17)",
            "gridcolor": "#506784",
            "linecolor": "#506784",
            "showbackground": true,
            "ticks": "",
            "zerolinecolor": "#C8D4E3",
            "gridwidth": 2
           },
           "yaxis": {
            "backgroundcolor": "rgb(17,17,17)",
            "gridcolor": "#506784",
            "linecolor": "#506784",
            "showbackground": true,
            "ticks": "",
            "zerolinecolor": "#C8D4E3",
            "gridwidth": 2
           },
           "zaxis": {
            "backgroundcolor": "rgb(17,17,17)",
            "gridcolor": "#506784",
            "linecolor": "#506784",
            "showbackground": true,
            "ticks": "",
            "zerolinecolor": "#C8D4E3",
            "gridwidth": 2
           }
          },
          "shapedefaults": {
           "line": {
            "color": "#f2f5fa"
           }
          },
          "annotationdefaults": {
           "arrowcolor": "#f2f5fa",
           "arrowhead": 0,
           "arrowwidth": 1
          },
          "geo": {
           "bgcolor": "rgb(17,17,17)",
           "landcolor": "rgb(17,17,17)",
           "subunitcolor": "#506784",
           "showland": true,
           "showlakes": true,
           "lakecolor": "rgb(17,17,17)"
          },
          "title": {
           "x": 0.05
          },
          "updatemenudefaults": {
           "bgcolor": "#506784",
           "borderwidth": 0
          },
          "sliderdefaults": {
           "bgcolor": "#C8D4E3",
           "borderwidth": 1,
           "bordercolor": "rgb(17,17,17)",
           "tickwidth": 0
          },
          "mapbox": {
           "style": "dark"
          }
         }
        },
        "xaxis": {
         "anchor": "y",
         "domain": [
          0.0,
          1.0
         ],
         "title": {
          "text": "value"
         }
        },
        "yaxis": {
         "anchor": "x",
         "domain": [
          0.0,
          1.0
         ],
         "title": {
          "text": "count"
         }
        },
        "legend": {
         "title": {
          "text": "variable"
         },
         "tracegroupgap": 0
        },
        "margin": {
         "t": 60
        },
        "barmode": "relative"
       },
       "config": {
        "plotlyServerURL": "https://plot.ly"
       }
      },
      "text/html": [
       "<div>                            <div id=\"8b2af68f-3933-4029-899c-5c7e97ef1ed7\" class=\"plotly-graph-div\" style=\"height:525px; width:100%;\"></div>            <script type=\"text/javascript\">                require([\"plotly\"], function(Plotly) {                    window.PLOTLYENV=window.PLOTLYENV || {};                                    if (document.getElementById(\"8b2af68f-3933-4029-899c-5c7e97ef1ed7\")) {                    Plotly.newPlot(                        \"8b2af68f-3933-4029-899c-5c7e97ef1ed7\",                        [{\"alignmentgroup\":\"True\",\"bingroup\":\"x\",\"hovertemplate\":\"variable=0<br>value=%{x}<br>count=%{y}<extra></extra>\",\"legendgroup\":\"0\",\"marker\":{\"color\":\"#636efa\",\"pattern\":{\"shape\":\"\"}},\"name\":\"0\",\"nbinsx\":500,\"offsetgroup\":\"0\",\"orientation\":\"v\",\"showlegend\":true,\"x\":[385,258,243,733,23,664,970,767,458,431,544,1068,791,1,435,757,899,448,836,943,30,648,190,172,72,527,848,661,253,767,910,503,565,778,111,700,945,591,836,1004,44,678,755,870,509,651,831,912,541,311,152,651,1034,633,722,539,995,737,405,519,777,269,990,407,568,825,973,658,300,574,358,679,122,873,870,265,25,838,441,341,644,757,146,883,520,859,920,6,314,343,175,688,53,662,755,861,268,426,218,183,150,49,422,982,529,249,443,964,89,19,185,520,950,807,90,903,776,755,318,454,658,254,799,830,643,285,258,411,669,132,32,0,651,891,164,848,120,214,161,97,1096,1045,523,978,1003,179,236,359,721,887,884,540,42,797,785,704,660,761,834,442,321,315,340,637,191,376,745,877,739,807,195,865,670,817,495,890,414,348,433,418,984,1091,68,638,528,578,851,1064,79,747,621,389,334,768,102,980,652,862,307,41,846,911,460,822,587,160,767,836,913,739,566,306,153,493,622,1074,302,422,77,278,239,104,33,496,16,280,975,514,977,173,535,367,438,276,163,641,292,719,954,968,1034,613,138,1048,288,800,685,166,598,1010,1041,817,440,1020,648,1072,753,769,428,762,382,384,52,72,279,1001,702,436,693,1098,652,378,932,296,117,505,776,279,845,477,43,151,371,512,888,895,1068,677,362,411,653,253,82,487,1076,254,1079,316,279,274,567,950,667,858,205,603,87,695,640,130,351,644,769,40,193,14,29,920,867,755,81,916,706,75,369,780,338,29,677,10,263,512,886,562,929,397,653,917,289,525,1071,393,1003,975,213,991,196,496,347,10,929,835,545,43,400,479,708,1018,152,597,1091,938,510,887,1089,409,858,917,251,6,941,464,412,307,429,1031,653,788,645,603,817,203,607,125,475,587,122,808,258,475,286,254,147,565,28,793,239,170,326,999,289,114,1000,962,816,878,952,655,802,983,357,346,227,1089,839,791,646,606,634,996,201,670,159,749,364,164,1060,1079,1033,272,649,561,833,545,210,1056,1061,705,600,131,190,276,769,459,719,765,951,466,1083,975,441,381,633,454,668,1031,1050,748,130,324,376,475,1070,559,536,813,60,394,549,1069,850,896,758,761,772,609,167,395,772,1005,535,860,63,1071,401,181,403,764,287,767,456,404,218,718,637,868,442,1068,83,640,809,21,185,581,1074,81,906,434,833,720,927,322,685,525,1082,16,177,1075,115,10,411,1003,500,763,598,1032,259,796,72,368,1037,773,248,503,745,41,616,285,488,1048,913,894,785,887,492,698,1023,495,538,399,175,123,191,61,580,324,196,786,943,955,462,717,835,119,884,365,100,1069,192,1010,398,571,6,925,987,861,500,752,1028,510,386,1033,584,87,320,505,778,1063,233,686,835,858,235,117,192,1002,548,1043,116,730,684,202,906,62,967,590,210,496,392,957,756,420,362,176,372,64,1073,1098,59,954,620,3,639,368,40,90,558,611,1065,499,66,251,438,447,350,550,255,537,187,645,255,702,667,980,502,530,784,459,909,302,139,284,717,229,288,1007,489,22,607,579,479,335,161,74,957,585,630,742,886,591,356,721,529,992,34,427,1002,678,1067,25,592,816,712,461,954,183,69,75,925,1009,642,370,549,700,49,600,610,193,302,258,573,819,104,682,468,976,26,208,586,776,993,539,245,52,181,882,1051,445,585,740,793,842,772,129,1082,320,480,121,317,698,1020,375,227,251,623,358,634,826,758,824,722,1049,501,980,392,950,1036,544,1081,63,1066,891,736,605,984,418,165,322,80,650,620,131,567,571,522,156,833,550,44,302,134,696,204,576,312,698,984,519,582,216,1011,566,57,1008,82,1003,245,367,1093,141,7,895,473,539,329,470,893,274,353,731,870,323,434,39,386,482,522,623,311,11,536,400,100,747,1012,523,657,145,891,150,947,182,217,140,604,64,81,130,714,825,370,706,712,192,829,897,604,1045,402,415,937,679,1023,783,928,649,144,752,620,677,535,368,104,451,114,869,245,60,621,541,146,951,356,1002,1044,69,305,1081,539,1039,974,346,551,714,19,826,578,762,271,339,429,239,419,678,443,389,422,968,1053,550,854,443,932,495,482,314,409,622,643,945,251,1074,960,374,388,1073,800,859,349,264,187,645,967,153,414,935,321,589,763,435,265,294,635,1077,698,84,355,1001,406,812,108,659,264,183,1071,131,372,338,132,506,904,653,514,1037,946,631,471,976,242,581,89,630,181,197,1082,120,38,837,1014,513,209,377,176,187,336,81,208,614,737,624,1051,538,285,402,652,575,721,407,392,1084,230,160,1026,683,966,899,719,378,712,465,1069,250,636,60,166,510,110,607,605,67,704,17,150,859,354,701,107,670,707,508,308,172,322,339,951,563,819,217,803,458,88,337,834,784,329,848,452,485,502,864,661,765,390,305,98,435,611,489,732,878,663,152,759,640,580,918,983,960,218,2,832,809,816,715,184,528,759,891,635,1021,526,264,45,180,735,973,144,188,872,871,15,586,984,815,784,848,154,192,82,369,287,129,191,829,261,67,742,988,254,738,965,791,132,563,429,624,820,648,396,622,719,1057,297,196,1074,647,1038,685,607,783,1068,730,767,11,85,225,893,370,524,105,266,538,718,780,908,972,333,253,339,245,516,823,482,532,995,259,583,282,915,568,448,1053,95,1025,23,7,76,120,658,860,723,1017,775,291,302,362,506,164,514,724,230,294,179,1000,318,360,1074,859,265,363,231,352,145,395,180,8,342,73,661,526,132,74,222,566,410,725,538,336,779,997,527,925,799,864,944,429,993,307,324,1038,844,490,503,1094,1071,988,1094,612,1067,100,189,1027,63,641,638,1038,910,333,607,658,141,159,215,989,358,861,116,769,879,564,548,618,833,168,175,206,296,755,40,296,793,321,746,660,69,663,430,986,607,699,232,634,614,1059,779,454,139,418,547,164,126,412,101,762,1011,997,572,578,659,816,712,157,1055,659,633,296,934,93,516,822,141,681,287,387,889,555,283,994,1003,489,882,580,798,451,908,296,67,890,319,851,303,128,965,943,15,1026,1025,847,496,1078,903,111,175,218,428,960,446,73,118,841,986,407,94,73,255,526,1002,545,256,1048,874,922,317,877,1087,409,482,976,95,69,910,132,934,761,274,826,714,949,675,104,269,989,611,586,996,911,436,991,641,740,222,0,433,668,799,9,1009,164,1028,532,407,140,88,261,497,928,622,1059,965,298,981,1036,1037,196,281,921,481,933,994,363,106,337,32,55,642,697,945,1030,1098,1036,206,288,810,304,778,981,954,428,113,1043,687,578,75,652,797,277,9,570,471,588,942,262,135,34,178,445,533,989,885,1078,807,1002,779,370,351,656,330,546,77,2,1021,299,870,52,266,728,778,867,435,307,132,19,504,24,91,751,474,46,398,866,30,237,96,190,948,251,573,849,975,616,422,14,1051,966,733,74,739,1062,251,537,562,881,495,1055,909,73,210,300,976,19,193,427,1001,335,261,434,209,829,794,766,423,617,454,450,201,866,818,773,622,1031,1020,482,1047,106,893,576,433,500,369,148,401,695,773,390,185,79,99,462,207,298,1089,222,702,380,830,21,211,283,158,856,327,851,309,137,722,658,84,217,978,711,570,964,803,6,1042,1079,266,815,869,838,755,763,135,970,504,917,67,925,563,36,928,826,1003,142,696,566,720,53,237,1074,552,869,687,760,925,292,586,750,154,122,439,1065,1038,817,227,1043,520,742,253,30,110,877,70,1043,384,376,4,740,1074,380,135,1019,846,228,644,484,181,962,933,837,472,171,832,603,406,121,813,749,412,798,680,492,832,836,311,99,329,427,795,684,908,169,782,441,119,233,819,924,860,962,574,772,870,374,666,35,768,542,1079,130,316,504,601,496,890,625,983,111,2,1048,1010,394,382,131,22,880,96,680,691,122,27,943,872,104,786,13,1098,1037,302,298,149,43,497,642,537,754,150,129,730,848,86,960,576,145,114,84,737,467,357,628,875,741,106,790,158,206,18,642,611,370,669,920,397,713,1036,476,1030,1003,443,183,1053,29,854,695,239,201,450,660,369,1074,976,883,419,528,510,674,293,655,30,203,271,646,273,901,543,163,472,35,586,966,919,34,975,1055,554,470,817,277,140,1051,295,431,1043,330,930,573,21,112,937,217,354,530,932,801,780,225,31,57,124,951,557,442,686,344,747,103,302,227,863,344,484,487,272,402,289,26,740,142,496,631,518,284,768,454,1,1080,1008,332,243,293,537,683,484,100,320,625,867,1036,695,398,150,265,83,385,57,997,487,963,688,737,357,1063,400,284,22,859,788,58,629,94,2,823,580,209,587,82,783,326,513,727,314,891,76,789,788,307,694,190,982,1,504,406,513,60,248,295,74,223,324,448,335,7,473,583,2,432,904,81,780,909,52,386,132,713,900,206,1047,328,252,871,432,589,190,688,935,18,533,54,635,979,392,66,615,480,598,636,1009,313,159,562,448,465,0,809,918,835,785,825,456,638,75,886,795,792,455,402,457,750,440,192,127,2,113,1095,1080,480,88,238,592,665,36,799,447,1021,1036,1029,250,369,475,470,1087,945,693,970,1054,675,915,838,365,421,385,763,261,1088,370,881,295,927,844,383,1079,214,986,183,726,66,29,1084,35,5,680,785,339,165,617,577,728,159,560,749,168,726,993,1007,442,877,262,555,565,1035,807,864,722,415,58,1093,755,207,899,722,82,107,383,845,1030,1038,392,588,53,1065,969,659,994,672,502,76,799,73,927,946,905,743,403,115,632,764,275,476,794,312,502,870,808,881,447,191,2,1082,87,462,706,352,1059,516,178,608,489,743,636,385,826,909,490,487,345,650,16,1008,392,965,273,715,20,812,571,654,667,790,62,575,685,275,340,964,595,1076,533,602,1012,737,635,884,672,424,794,9,527,190,308,482,582,729,240,511,576,9,1037,976,167,115,791,387,767,152,18,742,1039,517,808,659,135,923,267,609,415,64,257,157,672,327,969,819,182,766,41,778,854,791,1068,277,189,930,573,288,1007,627,398,52,1029,320,510,384,588,119,392,798,211,736,424,648,469,644,739,240,1039,377,41,540,842,742,775,1031,482,861,477,403,876,879,75,92,408,695,572,191,899,632,113,827,232,813,33,365,493,304,1037,559,908,389,395,377,14,591,30,863,365,346,654,275,990,499,551,861,882,1087,82,178,891,179,401,967,757,125,906,213,175,285,1003,996,297,238,775,320,629,1,795,1010,721,787,611,721,831,547,760,667,738,579,594,854,810,474,718,298,1050,966,305,189,629,1064,1089,102,581,654,853,28,732,1027,753,267,818,50,972,622,330,401,32,161,244,645,123,395,480,516,865,956,112,255,697,695,1051,85,845,38,809,412,222,1037,896,954,645,581,4,383,1017,782,652,572,284,548,745,458,763,874,82,301,400,152,1019,219,162,909,423,264,654,499,779,884,369,197,1024,619,39,12,192,254,67,221,566,373,698,737,743,25,95,1,174,172,770,480,548,652,557,620,922,1049,45,102,914,470,472,681,255,522,822,1055,266,696,1088,537,239,1055,887,819,770,207,373,452,343,201,535,871,396,825,1032,883,207,1008,905,588,1089,832,1081,93,326,304,364,32,744,222,530,720,550,618,870,468,221,475,194,596,282,504,1019,381,856,436,705,886,652,331,790,138,899,169,764,874,748,574,1015,1063,1041,475,564,891,1036,131,1021,689,527,271,266,633,256,373,349,1055,1053,789,553,939,338,412,954,217,673,1010,620,231,937,434,771,671,267,540,345,712,295,66,958,193,1025,963,980,758,1028,415,368,438,762,195,689,397,481,651,778,222,606,551,1008,557,962,855,806,408,1083,130,613,896,485,150,440,996,650,398,1094,45,1070,788,324,468,545,670,1097,420,680,892,172,613,699,354,228,930,422,556,663,681,858,841,594,222,246,484,923,892,485,961,872,353,388,976,664,1015,945,825,876,221,600,1079,179,389,720,1071,954,759,850,247,971,386,613,705,923,446,217,1044,213,909,361,179,497,54,841,477,422,508,366,102,195,828,1024,603,17,292,793,337,311,443,209,484,3,713,317,434,598,703,561,1040,702,854,372,855,790,424,668,646,801,702,575,227,693,331,449,900,536,517,53,416,384,503,91,252,166,386,1028,954,469,532,797,277,218,499,775,168,877,249,169,287,189,174,441,957,950,769,964,700,954,782,840,494,915,821,128,161,303,995,148,361,1026,360,530,297,1001,402,927,459,1021,422,882,173,387,534,293,1099,284,71,36,710,597,154,1078,869,985,319,53,779,742,117,175,1099,61,153,267,634,509,340,216,142,869,882,683,879,865,548,850,287,414,1018,748,181,1095,223,536,900,160,551,64,21,924,220,507,18,570,594,56,865,277,1046,876,958,811,533,366,292,667,780,891,476,634,691,359,977,403,410,30,259,430,128,441,82,971,1098,55,361,1012,1095,219,279,237,1093,874,241,371,741,837,930,360,1031,1044,556,75,228,93,937,1055,812,349,416,868,1048,952,605,467,643,365,414,730,659,1050,151,932,920,546,407,373,608,382,12,356,560,676,23,199,379,473,84,158,134,309,927,623,170,706,162,380,99,883,890,514,796,815,1082,422,679,958,399,165,1032,425,342,482,317,331,1081,474,565,914,106,49,1090,636,240,724,669,218,1092,445,519,64,195,220,749,925,60,976,1026,522,806,108,136,286,943,282,57,270,838,888,160,390,307,285,292,176,640,243,827,110,940,271,559,42,292,637,334,841,689,344,537,979,923,391,914,995,473,743,487,981,413,592,210,319,262,241,11,832,167,59,79,944,1041,460,378,698,982,847,590,142,817,898,945,922,998,109,595,31,965,237,113,354,868,788,52,359,1096,876,298,592,552,268,811,617,269,418,383,890,87,167,521,907,964,809,223,191,1036,1027,617,754,1008,653,160,1053,281,410,579,185,626,698,497,1090,395,402,826,499,716,748,641,723,895,895,990,1080,788,367,787,46,385,289,88,1047,665,415,530,186,1011],\"xaxis\":\"x\",\"yaxis\":\"y\",\"type\":\"histogram\"}],                        {\"template\":{\"data\":{\"histogram2dcontour\":[{\"type\":\"histogram2dcontour\",\"colorbar\":{\"outlinewidth\":0,\"ticks\":\"\"},\"colorscale\":[[0.0,\"#0d0887\"],[0.1111111111111111,\"#46039f\"],[0.2222222222222222,\"#7201a8\"],[0.3333333333333333,\"#9c179e\"],[0.4444444444444444,\"#bd3786\"],[0.5555555555555556,\"#d8576b\"],[0.6666666666666666,\"#ed7953\"],[0.7777777777777778,\"#fb9f3a\"],[0.8888888888888888,\"#fdca26\"],[1.0,\"#f0f921\"]]}],\"choropleth\":[{\"type\":\"choropleth\",\"colorbar\":{\"outlinewidth\":0,\"ticks\":\"\"}}],\"histogram2d\":[{\"type\":\"histogram2d\",\"colorbar\":{\"outlinewidth\":0,\"ticks\":\"\"},\"colorscale\":[[0.0,\"#0d0887\"],[0.1111111111111111,\"#46039f\"],[0.2222222222222222,\"#7201a8\"],[0.3333333333333333,\"#9c179e\"],[0.4444444444444444,\"#bd3786\"],[0.5555555555555556,\"#d8576b\"],[0.6666666666666666,\"#ed7953\"],[0.7777777777777778,\"#fb9f3a\"],[0.8888888888888888,\"#fdca26\"],[1.0,\"#f0f921\"]]}],\"heatmap\":[{\"type\":\"heatmap\",\"colorbar\":{\"outlinewidth\":0,\"ticks\":\"\"},\"colorscale\":[[0.0,\"#0d0887\"],[0.1111111111111111,\"#46039f\"],[0.2222222222222222,\"#7201a8\"],[0.3333333333333333,\"#9c179e\"],[0.4444444444444444,\"#bd3786\"],[0.5555555555555556,\"#d8576b\"],[0.6666666666666666,\"#ed7953\"],[0.7777777777777778,\"#fb9f3a\"],[0.8888888888888888,\"#fdca26\"],[1.0,\"#f0f921\"]]}],\"heatmapgl\":[{\"type\":\"heatmapgl\",\"colorbar\":{\"outlinewidth\":0,\"ticks\":\"\"},\"colorscale\":[[0.0,\"#0d0887\"],[0.1111111111111111,\"#46039f\"],[0.2222222222222222,\"#7201a8\"],[0.3333333333333333,\"#9c179e\"],[0.4444444444444444,\"#bd3786\"],[0.5555555555555556,\"#d8576b\"],[0.6666666666666666,\"#ed7953\"],[0.7777777777777778,\"#fb9f3a\"],[0.8888888888888888,\"#fdca26\"],[1.0,\"#f0f921\"]]}],\"contourcarpet\":[{\"type\":\"contourcarpet\",\"colorbar\":{\"outlinewidth\":0,\"ticks\":\"\"}}],\"contour\":[{\"type\":\"contour\",\"colorbar\":{\"outlinewidth\":0,\"ticks\":\"\"},\"colorscale\":[[0.0,\"#0d0887\"],[0.1111111111111111,\"#46039f\"],[0.2222222222222222,\"#7201a8\"],[0.3333333333333333,\"#9c179e\"],[0.4444444444444444,\"#bd3786\"],[0.5555555555555556,\"#d8576b\"],[0.6666666666666666,\"#ed7953\"],[0.7777777777777778,\"#fb9f3a\"],[0.8888888888888888,\"#fdca26\"],[1.0,\"#f0f921\"]]}],\"surface\":[{\"type\":\"surface\",\"colorbar\":{\"outlinewidth\":0,\"ticks\":\"\"},\"colorscale\":[[0.0,\"#0d0887\"],[0.1111111111111111,\"#46039f\"],[0.2222222222222222,\"#7201a8\"],[0.3333333333333333,\"#9c179e\"],[0.4444444444444444,\"#bd3786\"],[0.5555555555555556,\"#d8576b\"],[0.6666666666666666,\"#ed7953\"],[0.7777777777777778,\"#fb9f3a\"],[0.8888888888888888,\"#fdca26\"],[1.0,\"#f0f921\"]]}],\"mesh3d\":[{\"type\":\"mesh3d\",\"colorbar\":{\"outlinewidth\":0,\"ticks\":\"\"}}],\"scatter\":[{\"marker\":{\"line\":{\"color\":\"#283442\"}},\"type\":\"scatter\"}],\"parcoords\":[{\"type\":\"parcoords\",\"line\":{\"colorbar\":{\"outlinewidth\":0,\"ticks\":\"\"}}}],\"scatterpolargl\":[{\"type\":\"scatterpolargl\",\"marker\":{\"colorbar\":{\"outlinewidth\":0,\"ticks\":\"\"}}}],\"bar\":[{\"error_x\":{\"color\":\"#f2f5fa\"},\"error_y\":{\"color\":\"#f2f5fa\"},\"marker\":{\"line\":{\"color\":\"rgb(17,17,17)\",\"width\":0.5},\"pattern\":{\"fillmode\":\"overlay\",\"size\":10,\"solidity\":0.2}},\"type\":\"bar\"}],\"scattergeo\":[{\"type\":\"scattergeo\",\"marker\":{\"colorbar\":{\"outlinewidth\":0,\"ticks\":\"\"}}}],\"scatterpolar\":[{\"type\":\"scatterpolar\",\"marker\":{\"colorbar\":{\"outlinewidth\":0,\"ticks\":\"\"}}}],\"histogram\":[{\"marker\":{\"pattern\":{\"fillmode\":\"overlay\",\"size\":10,\"solidity\":0.2}},\"type\":\"histogram\"}],\"scattergl\":[{\"marker\":{\"line\":{\"color\":\"#283442\"}},\"type\":\"scattergl\"}],\"scatter3d\":[{\"type\":\"scatter3d\",\"line\":{\"colorbar\":{\"outlinewidth\":0,\"ticks\":\"\"}},\"marker\":{\"colorbar\":{\"outlinewidth\":0,\"ticks\":\"\"}}}],\"scattermapbox\":[{\"type\":\"scattermapbox\",\"marker\":{\"colorbar\":{\"outlinewidth\":0,\"ticks\":\"\"}}}],\"scatterternary\":[{\"type\":\"scatterternary\",\"marker\":{\"colorbar\":{\"outlinewidth\":0,\"ticks\":\"\"}}}],\"scattercarpet\":[{\"type\":\"scattercarpet\",\"marker\":{\"colorbar\":{\"outlinewidth\":0,\"ticks\":\"\"}}}],\"carpet\":[{\"aaxis\":{\"endlinecolor\":\"#A2B1C6\",\"gridcolor\":\"#506784\",\"linecolor\":\"#506784\",\"minorgridcolor\":\"#506784\",\"startlinecolor\":\"#A2B1C6\"},\"baxis\":{\"endlinecolor\":\"#A2B1C6\",\"gridcolor\":\"#506784\",\"linecolor\":\"#506784\",\"minorgridcolor\":\"#506784\",\"startlinecolor\":\"#A2B1C6\"},\"type\":\"carpet\"}],\"table\":[{\"cells\":{\"fill\":{\"color\":\"#506784\"},\"line\":{\"color\":\"rgb(17,17,17)\"}},\"header\":{\"fill\":{\"color\":\"#2a3f5f\"},\"line\":{\"color\":\"rgb(17,17,17)\"}},\"type\":\"table\"}],\"barpolar\":[{\"marker\":{\"line\":{\"color\":\"rgb(17,17,17)\",\"width\":0.5},\"pattern\":{\"fillmode\":\"overlay\",\"size\":10,\"solidity\":0.2}},\"type\":\"barpolar\"}],\"pie\":[{\"automargin\":true,\"type\":\"pie\"}]},\"layout\":{\"autotypenumbers\":\"strict\",\"colorway\":[\"#636efa\",\"#EF553B\",\"#00cc96\",\"#ab63fa\",\"#FFA15A\",\"#19d3f3\",\"#FF6692\",\"#B6E880\",\"#FF97FF\",\"#FECB52\"],\"font\":{\"color\":\"#f2f5fa\"},\"hovermode\":\"closest\",\"hoverlabel\":{\"align\":\"left\"},\"paper_bgcolor\":\"rgb(17,17,17)\",\"plot_bgcolor\":\"rgb(17,17,17)\",\"polar\":{\"bgcolor\":\"rgb(17,17,17)\",\"angularaxis\":{\"gridcolor\":\"#506784\",\"linecolor\":\"#506784\",\"ticks\":\"\"},\"radialaxis\":{\"gridcolor\":\"#506784\",\"linecolor\":\"#506784\",\"ticks\":\"\"}},\"ternary\":{\"bgcolor\":\"rgb(17,17,17)\",\"aaxis\":{\"gridcolor\":\"#506784\",\"linecolor\":\"#506784\",\"ticks\":\"\"},\"baxis\":{\"gridcolor\":\"#506784\",\"linecolor\":\"#506784\",\"ticks\":\"\"},\"caxis\":{\"gridcolor\":\"#506784\",\"linecolor\":\"#506784\",\"ticks\":\"\"}},\"coloraxis\":{\"colorbar\":{\"outlinewidth\":0,\"ticks\":\"\"}},\"colorscale\":{\"sequential\":[[0.0,\"#0d0887\"],[0.1111111111111111,\"#46039f\"],[0.2222222222222222,\"#7201a8\"],[0.3333333333333333,\"#9c179e\"],[0.4444444444444444,\"#bd3786\"],[0.5555555555555556,\"#d8576b\"],[0.6666666666666666,\"#ed7953\"],[0.7777777777777778,\"#fb9f3a\"],[0.8888888888888888,\"#fdca26\"],[1.0,\"#f0f921\"]],\"sequentialminus\":[[0.0,\"#0d0887\"],[0.1111111111111111,\"#46039f\"],[0.2222222222222222,\"#7201a8\"],[0.3333333333333333,\"#9c179e\"],[0.4444444444444444,\"#bd3786\"],[0.5555555555555556,\"#d8576b\"],[0.6666666666666666,\"#ed7953\"],[0.7777777777777778,\"#fb9f3a\"],[0.8888888888888888,\"#fdca26\"],[1.0,\"#f0f921\"]],\"diverging\":[[0,\"#8e0152\"],[0.1,\"#c51b7d\"],[0.2,\"#de77ae\"],[0.3,\"#f1b6da\"],[0.4,\"#fde0ef\"],[0.5,\"#f7f7f7\"],[0.6,\"#e6f5d0\"],[0.7,\"#b8e186\"],[0.8,\"#7fbc41\"],[0.9,\"#4d9221\"],[1,\"#276419\"]]},\"xaxis\":{\"gridcolor\":\"#283442\",\"linecolor\":\"#506784\",\"ticks\":\"\",\"title\":{\"standoff\":15},\"zerolinecolor\":\"#283442\",\"automargin\":true,\"zerolinewidth\":2},\"yaxis\":{\"gridcolor\":\"#283442\",\"linecolor\":\"#506784\",\"ticks\":\"\",\"title\":{\"standoff\":15},\"zerolinecolor\":\"#283442\",\"automargin\":true,\"zerolinewidth\":2},\"scene\":{\"xaxis\":{\"backgroundcolor\":\"rgb(17,17,17)\",\"gridcolor\":\"#506784\",\"linecolor\":\"#506784\",\"showbackground\":true,\"ticks\":\"\",\"zerolinecolor\":\"#C8D4E3\",\"gridwidth\":2},\"yaxis\":{\"backgroundcolor\":\"rgb(17,17,17)\",\"gridcolor\":\"#506784\",\"linecolor\":\"#506784\",\"showbackground\":true,\"ticks\":\"\",\"zerolinecolor\":\"#C8D4E3\",\"gridwidth\":2},\"zaxis\":{\"backgroundcolor\":\"rgb(17,17,17)\",\"gridcolor\":\"#506784\",\"linecolor\":\"#506784\",\"showbackground\":true,\"ticks\":\"\",\"zerolinecolor\":\"#C8D4E3\",\"gridwidth\":2}},\"shapedefaults\":{\"line\":{\"color\":\"#f2f5fa\"}},\"annotationdefaults\":{\"arrowcolor\":\"#f2f5fa\",\"arrowhead\":0,\"arrowwidth\":1},\"geo\":{\"bgcolor\":\"rgb(17,17,17)\",\"landcolor\":\"rgb(17,17,17)\",\"subunitcolor\":\"#506784\",\"showland\":true,\"showlakes\":true,\"lakecolor\":\"rgb(17,17,17)\"},\"title\":{\"x\":0.05},\"updatemenudefaults\":{\"bgcolor\":\"#506784\",\"borderwidth\":0},\"sliderdefaults\":{\"bgcolor\":\"#C8D4E3\",\"borderwidth\":1,\"bordercolor\":\"rgb(17,17,17)\",\"tickwidth\":0},\"mapbox\":{\"style\":\"dark\"}}},\"xaxis\":{\"anchor\":\"y\",\"domain\":[0.0,1.0],\"title\":{\"text\":\"value\"}},\"yaxis\":{\"anchor\":\"x\",\"domain\":[0.0,1.0],\"title\":{\"text\":\"count\"}},\"legend\":{\"title\":{\"text\":\"variable\"},\"tracegroupgap\":0},\"margin\":{\"t\":60},\"barmode\":\"relative\"},                        {\"responsive\": true}                    ).then(function(){\n",
       "                            \n",
       "var gd = document.getElementById('8b2af68f-3933-4029-899c-5c7e97ef1ed7');\n",
       "var x = new MutationObserver(function (mutations, observer) {{\n",
       "        var display = window.getComputedStyle(gd).display;\n",
       "        if (!display || display === 'none') {{\n",
       "            console.log([gd, 'removed!']);\n",
       "            Plotly.purge(gd);\n",
       "            observer.disconnect();\n",
       "        }}\n",
       "}});\n",
       "\n",
       "// Listen for the removal of the full notebook cells\n",
       "var notebookContainer = gd.closest('#notebook-container');\n",
       "if (notebookContainer) {{\n",
       "    x.observe(notebookContainer, {childList: true});\n",
       "}}\n",
       "\n",
       "// Listen for the clearing of the current output cell\n",
       "var outputEl = gd.closest('.output');\n",
       "if (outputEl) {{\n",
       "    x.observe(outputEl, {childList: true});\n",
       "}}\n",
       "\n",
       "                        })                };                });            </script>        </div>"
      ]
     },
     "metadata": {},
     "output_type": "display_data"
    }
   ],
   "execution_count": 63
  },
  {
   "metadata": {
    "ExecuteTime": {
     "end_time": "2024-06-27T06:13:27.910626Z",
     "start_time": "2024-06-27T06:13:27.424673Z"
    }
   },
   "cell_type": "code",
   "source": [
    "import seaborn as sns\n",
    "\n",
    "sns.distplot(a, bins=2)"
   ],
   "id": "b482ae1612d5d815",
   "outputs": [
    {
     "name": "stderr",
     "output_type": "stream",
     "text": [
      "/var/folders/sb/_wglw_tj2s33qkd3sqbydk480000gn/T/ipykernel_95735/1844050864.py:3: UserWarning:\n",
      "\n",
      "\n",
      "\n",
      "`distplot` is a deprecated function and will be removed in seaborn v0.14.0.\n",
      "\n",
      "Please adapt your code to use either `displot` (a figure-level function with\n",
      "similar flexibility) or `histplot` (an axes-level function for histograms).\n",
      "\n",
      "For a guide to updating your code to use the new functions, please see\n",
      "https://gist.github.com/mwaskom/de44147ed2974457ad6372750bbe5751\n",
      "\n",
      "\n"
     ]
    },
    {
     "data": {
      "text/plain": [
       "<Axes: ylabel='Density'>"
      ]
     },
     "execution_count": 64,
     "metadata": {},
     "output_type": "execute_result"
    },
    {
     "data": {
      "text/plain": [
       "<Figure size 640x480 with 1 Axes>"
      ],
      "image/png": "[encoded data removed]"
     },
     "metadata": {},
     "output_type": "display_data"
    }
   ],
   "execution_count": 64
  },
  {
   "metadata": {
    "ExecuteTime": {
     "end_time": "2024-06-27T06:13:30.131579Z",
     "start_time": "2024-06-27T06:13:30.127059Z"
    }
   },
   "cell_type": "code",
   "source": [
    "b = np.random.normal(0.0, 1.0, 3)\n",
    "b"
   ],
   "id": "1eff6a70ee89f8bc",
   "outputs": [
    {
     "data": {
      "text/plain": [
       "array([ 0.47861143, -1.5247442 , -2.08241911])"
      ]
     },
     "execution_count": 65,
     "metadata": {},
     "output_type": "execute_result"
    }
   ],
   "execution_count": 65
  },
  {
   "metadata": {
    "ExecuteTime": {
     "end_time": "2024-06-27T06:14:12.558556Z",
     "start_time": "2024-06-27T06:14:12.496594Z"
    }
   },
   "cell_type": "code",
   "source": "px.histogram(b, nbins=5)",
   "id": "465af11850819a81",
   "outputs": [
    {
     "data": {
      "application/vnd.plotly.v1+json": {
       "data": [
        {
         "alignmentgroup": "True",
         "bingroup": "x",
         "hovertemplate": "variable=0<br>value=%{x}<br>count=%{y}<extra></extra>",
         "legendgroup": "0",
         "marker": {
          "color": "#636efa",
          "pattern": {
           "shape": ""
          }
         },
         "name": "0",
         "nbinsx": 5,
         "offsetgroup": "0",
         "orientation": "v",
         "showlegend": true,
         "x": [
          0.47861142715669736,
          -1.524744198461028,
          -2.0824191095124007
         ],
         "xaxis": "x",
         "yaxis": "y",
         "type": "histogram"
        }
       ],
       "layout": {
        "template": {
         "data": {
          "histogram2dcontour": [
           {
            "type": "histogram2dcontour",
            "colorbar": {
             "outlinewidth": 0,
             "ticks": ""
            },
            "colorscale": [
             [
              0.0,
              "#0d0887"
             ],
             [
              0.1111111111111111,
              "#46039f"
             ],
             [
              0.2222222222222222,
              "#7201a8"
             ],
             [
              0.3333333333333333,
              "#9c179e"
             ],
             [
              0.4444444444444444,
              "#bd3786"
             ],
             [
              0.5555555555555556,
              "#d8576b"
             ],
             [
              0.6666666666666666,
              "#ed7953"
             ],
             [
              0.7777777777777778,
              "#fb9f3a"
             ],
             [
              0.8888888888888888,
              "#fdca26"
             ],
             [
              1.0,
              "#f0f921"
             ]
            ]
           }
          ],
          "choropleth": [
           {
            "type": "choropleth",
            "colorbar": {
             "outlinewidth": 0,
             "ticks": ""
            }
           }
          ],
          "histogram2d": [
           {
            "type": "histogram2d",
            "colorbar": {
             "outlinewidth": 0,
             "ticks": ""
            },
            "colorscale": [
             [
              0.0,
              "#0d0887"
             ],
             [
              0.1111111111111111,
              "#46039f"
             ],
             [
              0.2222222222222222,
              "#7201a8"
             ],
             [
              0.3333333333333333,
              "#9c179e"
             ],
             [
              0.4444444444444444,
              "#bd3786"
             ],
             [
              0.5555555555555556,
              "#d8576b"
             ],
             [
              0.6666666666666666,
              "#ed7953"
             ],
             [
              0.7777777777777778,
              "#fb9f3a"
             ],
             [
              0.8888888888888888,
              "#fdca26"
             ],
             [
              1.0,
              "#f0f921"
             ]
            ]
           }
          ],
          "heatmap": [
           {
            "type": "heatmap",
            "colorbar": {
             "outlinewidth": 0,
             "ticks": ""
            },
            "colorscale": [
             [
              0.0,
              "#0d0887"
             ],
             [
              0.1111111111111111,
              "#46039f"
             ],
             [
              0.2222222222222222,
              "#7201a8"
             ],
             [
              0.3333333333333333,
              "#9c179e"
             ],
             [
              0.4444444444444444,
              "#bd3786"
             ],
             [
              0.5555555555555556,
              "#d8576b"
             ],
             [
              0.6666666666666666,
              "#ed7953"
             ],
             [
              0.7777777777777778,
              "#fb9f3a"
             ],
             [
              0.8888888888888888,
              "#fdca26"
             ],
             [
              1.0,
              "#f0f921"
             ]
            ]
           }
          ],
          "heatmapgl": [
           {
            "type": "heatmapgl",
            "colorbar": {
             "outlinewidth": 0,
             "ticks": ""
            },
            "colorscale": [
             [
              0.0,
              "#0d0887"
             ],
             [
              0.1111111111111111,
              "#46039f"
             ],
             [
              0.2222222222222222,
              "#7201a8"
             ],
             [
              0.3333333333333333,
              "#9c179e"
             ],
             [
              0.4444444444444444,
              "#bd3786"
             ],
             [
              0.5555555555555556,
              "#d8576b"
             ],
             [
              0.6666666666666666,
              "#ed7953"
             ],
             [
              0.7777777777777778,
              "#fb9f3a"
             ],
             [
              0.8888888888888888,
              "#fdca26"
             ],
             [
              1.0,
              "#f0f921"
             ]
            ]
           }
          ],
          "contourcarpet": [
           {
            "type": "contourcarpet",
            "colorbar": {
             "outlinewidth": 0,
             "ticks": ""
            }
           }
          ],
          "contour": [
           {
            "type": "contour",
            "colorbar": {
             "outlinewidth": 0,
             "ticks": ""
            },
            "colorscale": [
             [
              0.0,
              "#0d0887"
             ],
             [
              0.1111111111111111,
              "#46039f"
             ],
             [
              0.2222222222222222,
              "#7201a8"
             ],
             [
              0.3333333333333333,
              "#9c179e"
             ],
             [
              0.4444444444444444,
              "#bd3786"
             ],
             [
              0.5555555555555556,
              "#d8576b"
             ],
             [
              0.6666666666666666,
              "#ed7953"
             ],
             [
              0.7777777777777778,
              "#fb9f3a"
             ],
             [
              0.8888888888888888,
              "#fdca26"
             ],
             [
              1.0,
              "#f0f921"
             ]
            ]
           }
          ],
          "surface": [
           {
            "type": "surface",
            "colorbar": {
             "outlinewidth": 0,
             "ticks": ""
            },
            "colorscale": [
             [
              0.0,
              "#0d0887"
             ],
             [
              0.1111111111111111,
              "#46039f"
             ],
             [
              0.2222222222222222,
              "#7201a8"
             ],
             [
              0.3333333333333333,
              "#9c179e"
             ],
             [
              0.4444444444444444,
              "#bd3786"
             ],
             [
              0.5555555555555556,
              "#d8576b"
             ],
             [
              0.6666666666666666,
              "#ed7953"
             ],
             [
              0.7777777777777778,
              "#fb9f3a"
             ],
             [
              0.8888888888888888,
              "#fdca26"
             ],
             [
              1.0,
              "#f0f921"
             ]
            ]
           }
          ],
          "mesh3d": [
           {
            "type": "mesh3d",
            "colorbar": {
             "outlinewidth": 0,
             "ticks": ""
            }
           }
          ],
          "scatter": [
           {
            "marker": {
             "line": {
              "color": "#283442"
             }
            },
            "type": "scatter"
           }
          ],
          "parcoords": [
           {
            "type": "parcoords",
            "line": {
             "colorbar": {
              "outlinewidth": 0,
              "ticks": ""
             }
            }
           }
          ],
          "scatterpolargl": [
           {
            "type": "scatterpolargl",
            "marker": {
             "colorbar": {
              "outlinewidth": 0,
              "ticks": ""
             }
            }
           }
          ],
          "bar": [
           {
            "error_x": {
             "color": "#f2f5fa"
            },
            "error_y": {
             "color": "#f2f5fa"
            },
            "marker": {
             "line": {
              "color": "rgb(17,17,17)",
              "width": 0.5
             },
             "pattern": {
              "fillmode": "overlay",
              "size": 10,
              "solidity": 0.2
             }
            },
            "type": "bar"
           }
          ],
          "scattergeo": [
           {
            "type": "scattergeo",
            "marker": {
             "colorbar": {
              "outlinewidth": 0,
              "ticks": ""
             }
            }
           }
          ],
          "scatterpolar": [
           {
            "type": "scatterpolar",
            "marker": {
             "colorbar": {
              "outlinewidth": 0,
              "ticks": ""
             }
            }
           }
          ],
          "histogram": [
           {
            "marker": {
             "pattern": {
              "fillmode": "overlay",
              "size": 10,
              "solidity": 0.2
             }
            },
            "type": "histogram"
           }
          ],
          "scattergl": [
           {
            "marker": {
             "line": {
              "color": "#283442"
             }
            },
            "type": "scattergl"
           }
          ],
          "scatter3d": [
           {
            "type": "scatter3d",
            "line": {
             "colorbar": {
              "outlinewidth": 0,
              "ticks": ""
             }
            },
            "marker": {
             "colorbar": {
              "outlinewidth": 0,
              "ticks": ""
             }
            }
           }
          ],
          "scattermapbox": [
           {
            "type": "scattermapbox",
            "marker": {
             "colorbar": {
              "outlinewidth": 0,
              "ticks": ""
             }
            }
           }
          ],
          "scatterternary": [
           {
            "type": "scatterternary",
            "marker": {
             "colorbar": {
              "outlinewidth": 0,
              "ticks": ""
             }
            }
           }
          ],
          "scattercarpet": [
           {
            "type": "scattercarpet",
            "marker": {
             "colorbar": {
              "outlinewidth": 0,
              "ticks": ""
             }
            }
           }
          ],
          "carpet": [
           {
            "aaxis": {
             "endlinecolor": "#A2B1C6",
             "gridcolor": "#506784",
             "linecolor": "#506784",
             "minorgridcolor": "#506784",
             "startlinecolor": "#A2B1C6"
            },
            "baxis": {
             "endlinecolor": "#A2B1C6",
             "gridcolor": "#506784",
             "linecolor": "#506784",
             "minorgridcolor": "#506784",
             "startlinecolor": "#A2B1C6"
            },
            "type": "carpet"
           }
          ],
          "table": [
           {
            "cells": {
             "fill": {
              "color": "#506784"
             },
             "line": {
              "color": "rgb(17,17,17)"
             }
            },
            "header": {
             "fill": {
              "color": "#2a3f5f"
             },
             "line": {
              "color": "rgb(17,17,17)"
             }
            },
            "type": "table"
           }
          ],
          "barpolar": [
           {
            "marker": {
             "line": {
              "color": "rgb(17,17,17)",
              "width": 0.5
             },
             "pattern": {
              "fillmode": "overlay",
              "size": 10,
              "solidity": 0.2
             }
            },
            "type": "barpolar"
           }
          ],
          "pie": [
           {
            "automargin": true,
            "type": "pie"
           }
          ]
         },
         "layout": {
          "autotypenumbers": "strict",
          "colorway": [
           "#636efa",
           "#EF553B",
           "#00cc96",
           "#ab63fa",
           "#FFA15A",
           "#19d3f3",
           "#FF6692",
           "#B6E880",
           "#FF97FF",
           "#FECB52"
          ],
          "font": {
           "color": "#f2f5fa"
          },
          "hovermode": "closest",
          "hoverlabel": {
           "align": "left"
          },
          "paper_bgcolor": "rgb(17,17,17)",
          "plot_bgcolor": "rgb(17,17,17)",
          "polar": {
           "bgcolor": "rgb(17,17,17)",
           "angularaxis": {
            "gridcolor": "#506784",
            "linecolor": "#506784",
            "ticks": ""
           },
           "radialaxis": {
            "gridcolor": "#506784",
            "linecolor": "#506784",
            "ticks": ""
           }
          },
          "ternary": {
           "bgcolor": "rgb(17,17,17)",
           "aaxis": {
            "gridcolor": "#506784",
            "linecolor": "#506784",
            "ticks": ""
           },
           "baxis": {
            "gridcolor": "#506784",
            "linecolor": "#506784",
            "ticks": ""
           },
           "caxis": {
            "gridcolor": "#506784",
            "linecolor": "#506784",
            "ticks": ""
           }
          },
          "coloraxis": {
           "colorbar": {
            "outlinewidth": 0,
            "ticks": ""
           }
          },
          "colorscale": {
           "sequential": [
            [
             0.0,
             "#0d0887"
            ],
            [
             0.1111111111111111,
             "#46039f"
            ],
            [
             0.2222222222222222,
             "#7201a8"
            ],
            [
             0.3333333333333333,
             "#9c179e"
            ],
            [
             0.4444444444444444,
             "#bd3786"
            ],
            [
             0.5555555555555556,
             "#d8576b"
            ],
            [
             0.6666666666666666,
             "#ed7953"
            ],
            [
             0.7777777777777778,
             "#fb9f3a"
            ],
            [
             0.8888888888888888,
             "#fdca26"
            ],
            [
             1.0,
             "#f0f921"
            ]
           ],
           "sequentialminus": [
            [
             0.0,
             "#0d0887"
            ],
            [
             0.1111111111111111,
             "#46039f"
            ],
            [
             0.2222222222222222,
             "#7201a8"
            ],
            [
             0.3333333333333333,
             "#9c179e"
            ],
            [
             0.4444444444444444,
             "#bd3786"
            ],
            [
             0.5555555555555556,
             "#d8576b"
            ],
            [
             0.6666666666666666,
             "#ed7953"
            ],
            [
             0.7777777777777778,
             "#fb9f3a"
            ],
            [
             0.8888888888888888,
             "#fdca26"
            ],
            [
             1.0,
             "#f0f921"
            ]
           ],
           "diverging": [
            [
             0,
             "#8e0152"
            ],
            [
             0.1,
             "#c51b7d"
            ],
            [
             0.2,
             "#de77ae"
            ],
            [
             0.3,
             "#f1b6da"
            ],
            [
             0.4,
             "#fde0ef"
            ],
            [
             0.5,
             "#f7f7f7"
            ],
            [
             0.6,
             "#e6f5d0"
            ],
            [
             0.7,
             "#b8e186"
            ],
            [
             0.8,
             "#7fbc41"
            ],
            [
             0.9,
             "#4d9221"
            ],
            [
             1,
             "#276419"
            ]
           ]
          },
          "xaxis": {
           "gridcolor": "#283442",
           "linecolor": "#506784",
           "ticks": "",
           "title": {
            "standoff": 15
           },
           "zerolinecolor": "#283442",
           "automargin": true,
           "zerolinewidth": 2
          },
          "yaxis": {
           "gridcolor": "#283442",
           "linecolor": "#506784",
           "ticks": "",
           "title": {
            "standoff": 15
           },
           "zerolinecolor": "#283442",
           "automargin": true,
           "zerolinewidth": 2
          },
          "scene": {
           "xaxis": {
            "backgroundcolor": "rgb(17,17,17)",
            "gridcolor": "#506784",
            "linecolor": "#506784",
            "showbackground": true,
            "ticks": "",
            "zerolinecolor": "#C8D4E3",
            "gridwidth": 2
           },
           "yaxis": {
            "backgroundcolor": "rgb(17,17,17)",
            "gridcolor": "#506784",
            "linecolor": "#506784",
            "showbackground": true,
            "ticks": "",
            "zerolinecolor": "#C8D4E3",
            "gridwidth": 2
           },
           "zaxis": {
            "backgroundcolor": "rgb(17,17,17)",
            "gridcolor": "#506784",
            "linecolor": "#506784",
            "showbackground": true,
            "ticks": "",
            "zerolinecolor": "#C8D4E3",
            "gridwidth": 2
           }
          },
          "shapedefaults": {
           "line": {
            "color": "#f2f5fa"
           }
          },
          "annotationdefaults": {
           "arrowcolor": "#f2f5fa",
           "arrowhead": 0,
           "arrowwidth": 1
          },
          "geo": {
           "bgcolor": "rgb(17,17,17)",
           "landcolor": "rgb(17,17,17)",
           "subunitcolor": "#506784",
           "showland": true,
           "showlakes": true,
           "lakecolor": "rgb(17,17,17)"
          },
          "title": {
           "x": 0.05
          },
          "updatemenudefaults": {
           "bgcolor": "#506784",
           "borderwidth": 0
          },
          "sliderdefaults": {
           "bgcolor": "#C8D4E3",
           "borderwidth": 1,
           "bordercolor": "rgb(17,17,17)",
           "tickwidth": 0
          },
          "mapbox": {
           "style": "dark"
          }
         }
        },
        "xaxis": {
         "anchor": "y",
         "domain": [
          0.0,
          1.0
         ],
         "title": {
          "text": "value"
         }
        },
        "yaxis": {
         "anchor": "x",
         "domain": [
          0.0,
          1.0
         ],
         "title": {
          "text": "count"
         }
        },
        "legend": {
         "title": {
          "text": "variable"
         },
         "tracegroupgap": 0
        },
        "margin": {
         "t": 60
        },
        "barmode": "relative"
       },
       "config": {
        "plotlyServerURL": "https://plot.ly"
       }
      },
      "text/html": [
       "<div>                            <div id=\"7600f0e3-e345-4942-88fa-85ef70e977f3\" class=\"plotly-graph-div\" style=\"height:525px; width:100%;\"></div>            <script type=\"text/javascript\">                require([\"plotly\"], function(Plotly) {                    window.PLOTLYENV=window.PLOTLYENV || {};                                    if (document.getElementById(\"7600f0e3-e345-4942-88fa-85ef70e977f3\")) {                    Plotly.newPlot(                        \"7600f0e3-e345-4942-88fa-85ef70e977f3\",                        [{\"alignmentgroup\":\"True\",\"bingroup\":\"x\",\"hovertemplate\":\"variable=0<br>value=%{x}<br>count=%{y}<extra></extra>\",\"legendgroup\":\"0\",\"marker\":{\"color\":\"#636efa\",\"pattern\":{\"shape\":\"\"}},\"name\":\"0\",\"nbinsx\":5,\"offsetgroup\":\"0\",\"orientation\":\"v\",\"showlegend\":true,\"x\":[0.47861142715669736,-1.524744198461028,-2.0824191095124007],\"xaxis\":\"x\",\"yaxis\":\"y\",\"type\":\"histogram\"}],                        {\"template\":{\"data\":{\"histogram2dcontour\":[{\"type\":\"histogram2dcontour\",\"colorbar\":{\"outlinewidth\":0,\"ticks\":\"\"},\"colorscale\":[[0.0,\"#0d0887\"],[0.1111111111111111,\"#46039f\"],[0.2222222222222222,\"#7201a8\"],[0.3333333333333333,\"#9c179e\"],[0.4444444444444444,\"#bd3786\"],[0.5555555555555556,\"#d8576b\"],[0.6666666666666666,\"#ed7953\"],[0.7777777777777778,\"#fb9f3a\"],[0.8888888888888888,\"#fdca26\"],[1.0,\"#f0f921\"]]}],\"choropleth\":[{\"type\":\"choropleth\",\"colorbar\":{\"outlinewidth\":0,\"ticks\":\"\"}}],\"histogram2d\":[{\"type\":\"histogram2d\",\"colorbar\":{\"outlinewidth\":0,\"ticks\":\"\"},\"colorscale\":[[0.0,\"#0d0887\"],[0.1111111111111111,\"#46039f\"],[0.2222222222222222,\"#7201a8\"],[0.3333333333333333,\"#9c179e\"],[0.4444444444444444,\"#bd3786\"],[0.5555555555555556,\"#d8576b\"],[0.6666666666666666,\"#ed7953\"],[0.7777777777777778,\"#fb9f3a\"],[0.8888888888888888,\"#fdca26\"],[1.0,\"#f0f921\"]]}],\"heatmap\":[{\"type\":\"heatmap\",\"colorbar\":{\"outlinewidth\":0,\"ticks\":\"\"},\"colorscale\":[[0.0,\"#0d0887\"],[0.1111111111111111,\"#46039f\"],[0.2222222222222222,\"#7201a8\"],[0.3333333333333333,\"#9c179e\"],[0.4444444444444444,\"#bd3786\"],[0.5555555555555556,\"#d8576b\"],[0.6666666666666666,\"#ed7953\"],[0.7777777777777778,\"#fb9f3a\"],[0.8888888888888888,\"#fdca26\"],[1.0,\"#f0f921\"]]}],\"heatmapgl\":[{\"type\":\"heatmapgl\",\"colorbar\":{\"outlinewidth\":0,\"ticks\":\"\"},\"colorscale\":[[0.0,\"#0d0887\"],[0.1111111111111111,\"#46039f\"],[0.2222222222222222,\"#7201a8\"],[0.3333333333333333,\"#9c179e\"],[0.4444444444444444,\"#bd3786\"],[0.5555555555555556,\"#d8576b\"],[0.6666666666666666,\"#ed7953\"],[0.7777777777777778,\"#fb9f3a\"],[0.8888888888888888,\"#fdca26\"],[1.0,\"#f0f921\"]]}],\"contourcarpet\":[{\"type\":\"contourcarpet\",\"colorbar\":{\"outlinewidth\":0,\"ticks\":\"\"}}],\"contour\":[{\"type\":\"contour\",\"colorbar\":{\"outlinewidth\":0,\"ticks\":\"\"},\"colorscale\":[[0.0,\"#0d0887\"],[0.1111111111111111,\"#46039f\"],[0.2222222222222222,\"#7201a8\"],[0.3333333333333333,\"#9c179e\"],[0.4444444444444444,\"#bd3786\"],[0.5555555555555556,\"#d8576b\"],[0.6666666666666666,\"#ed7953\"],[0.7777777777777778,\"#fb9f3a\"],[0.8888888888888888,\"#fdca26\"],[1.0,\"#f0f921\"]]}],\"surface\":[{\"type\":\"surface\",\"colorbar\":{\"outlinewidth\":0,\"ticks\":\"\"},\"colorscale\":[[0.0,\"#0d0887\"],[0.1111111111111111,\"#46039f\"],[0.2222222222222222,\"#7201a8\"],[0.3333333333333333,\"#9c179e\"],[0.4444444444444444,\"#bd3786\"],[0.5555555555555556,\"#d8576b\"],[0.6666666666666666,\"#ed7953\"],[0.7777777777777778,\"#fb9f3a\"],[0.8888888888888888,\"#fdca26\"],[1.0,\"#f0f921\"]]}],\"mesh3d\":[{\"type\":\"mesh3d\",\"colorbar\":{\"outlinewidth\":0,\"ticks\":\"\"}}],\"scatter\":[{\"marker\":{\"line\":{\"color\":\"#283442\"}},\"type\":\"scatter\"}],\"parcoords\":[{\"type\":\"parcoords\",\"line\":{\"colorbar\":{\"outlinewidth\":0,\"ticks\":\"\"}}}],\"scatterpolargl\":[{\"type\":\"scatterpolargl\",\"marker\":{\"colorbar\":{\"outlinewidth\":0,\"ticks\":\"\"}}}],\"bar\":[{\"error_x\":{\"color\":\"#f2f5fa\"},\"error_y\":{\"color\":\"#f2f5fa\"},\"marker\":{\"line\":{\"color\":\"rgb(17,17,17)\",\"width\":0.5},\"pattern\":{\"fillmode\":\"overlay\",\"size\":10,\"solidity\":0.2}},\"type\":\"bar\"}],\"scattergeo\":[{\"type\":\"scattergeo\",\"marker\":{\"colorbar\":{\"outlinewidth\":0,\"ticks\":\"\"}}}],\"scatterpolar\":[{\"type\":\"scatterpolar\",\"marker\":{\"colorbar\":{\"outlinewidth\":0,\"ticks\":\"\"}}}],\"histogram\":[{\"marker\":{\"pattern\":{\"fillmode\":\"overlay\",\"size\":10,\"solidity\":0.2}},\"type\":\"histogram\"}],\"scattergl\":[{\"marker\":{\"line\":{\"color\":\"#283442\"}},\"type\":\"scattergl\"}],\"scatter3d\":[{\"type\":\"scatter3d\",\"line\":{\"colorbar\":{\"outlinewidth\":0,\"ticks\":\"\"}},\"marker\":{\"colorbar\":{\"outlinewidth\":0,\"ticks\":\"\"}}}],\"scattermapbox\":[{\"type\":\"scattermapbox\",\"marker\":{\"colorbar\":{\"outlinewidth\":0,\"ticks\":\"\"}}}],\"scatterternary\":[{\"type\":\"scatterternary\",\"marker\":{\"colorbar\":{\"outlinewidth\":0,\"ticks\":\"\"}}}],\"scattercarpet\":[{\"type\":\"scattercarpet\",\"marker\":{\"colorbar\":{\"outlinewidth\":0,\"ticks\":\"\"}}}],\"carpet\":[{\"aaxis\":{\"endlinecolor\":\"#A2B1C6\",\"gridcolor\":\"#506784\",\"linecolor\":\"#506784\",\"minorgridcolor\":\"#506784\",\"startlinecolor\":\"#A2B1C6\"},\"baxis\":{\"endlinecolor\":\"#A2B1C6\",\"gridcolor\":\"#506784\",\"linecolor\":\"#506784\",\"minorgridcolor\":\"#506784\",\"startlinecolor\":\"#A2B1C6\"},\"type\":\"carpet\"}],\"table\":[{\"cells\":{\"fill\":{\"color\":\"#506784\"},\"line\":{\"color\":\"rgb(17,17,17)\"}},\"header\":{\"fill\":{\"color\":\"#2a3f5f\"},\"line\":{\"color\":\"rgb(17,17,17)\"}},\"type\":\"table\"}],\"barpolar\":[{\"marker\":{\"line\":{\"color\":\"rgb(17,17,17)\",\"width\":0.5},\"pattern\":{\"fillmode\":\"overlay\",\"size\":10,\"solidity\":0.2}},\"type\":\"barpolar\"}],\"pie\":[{\"automargin\":true,\"type\":\"pie\"}]},\"layout\":{\"autotypenumbers\":\"strict\",\"colorway\":[\"#636efa\",\"#EF553B\",\"#00cc96\",\"#ab63fa\",\"#FFA15A\",\"#19d3f3\",\"#FF6692\",\"#B6E880\",\"#FF97FF\",\"#FECB52\"],\"font\":{\"color\":\"#f2f5fa\"},\"hovermode\":\"closest\",\"hoverlabel\":{\"align\":\"left\"},\"paper_bgcolor\":\"rgb(17,17,17)\",\"plot_bgcolor\":\"rgb(17,17,17)\",\"polar\":{\"bgcolor\":\"rgb(17,17,17)\",\"angularaxis\":{\"gridcolor\":\"#506784\",\"linecolor\":\"#506784\",\"ticks\":\"\"},\"radialaxis\":{\"gridcolor\":\"#506784\",\"linecolor\":\"#506784\",\"ticks\":\"\"}},\"ternary\":{\"bgcolor\":\"rgb(17,17,17)\",\"aaxis\":{\"gridcolor\":\"#506784\",\"linecolor\":\"#506784\",\"ticks\":\"\"},\"baxis\":{\"gridcolor\":\"#506784\",\"linecolor\":\"#506784\",\"ticks\":\"\"},\"caxis\":{\"gridcolor\":\"#506784\",\"linecolor\":\"#506784\",\"ticks\":\"\"}},\"coloraxis\":{\"colorbar\":{\"outlinewidth\":0,\"ticks\":\"\"}},\"colorscale\":{\"sequential\":[[0.0,\"#0d0887\"],[0.1111111111111111,\"#46039f\"],[0.2222222222222222,\"#7201a8\"],[0.3333333333333333,\"#9c179e\"],[0.4444444444444444,\"#bd3786\"],[0.5555555555555556,\"#d8576b\"],[0.6666666666666666,\"#ed7953\"],[0.7777777777777778,\"#fb9f3a\"],[0.8888888888888888,\"#fdca26\"],[1.0,\"#f0f921\"]],\"sequentialminus\":[[0.0,\"#0d0887\"],[0.1111111111111111,\"#46039f\"],[0.2222222222222222,\"#7201a8\"],[0.3333333333333333,\"#9c179e\"],[0.4444444444444444,\"#bd3786\"],[0.5555555555555556,\"#d8576b\"],[0.6666666666666666,\"#ed7953\"],[0.7777777777777778,\"#fb9f3a\"],[0.8888888888888888,\"#fdca26\"],[1.0,\"#f0f921\"]],\"diverging\":[[0,\"#8e0152\"],[0.1,\"#c51b7d\"],[0.2,\"#de77ae\"],[0.3,\"#f1b6da\"],[0.4,\"#fde0ef\"],[0.5,\"#f7f7f7\"],[0.6,\"#e6f5d0\"],[0.7,\"#b8e186\"],[0.8,\"#7fbc41\"],[0.9,\"#4d9221\"],[1,\"#276419\"]]},\"xaxis\":{\"gridcolor\":\"#283442\",\"linecolor\":\"#506784\",\"ticks\":\"\",\"title\":{\"standoff\":15},\"zerolinecolor\":\"#283442\",\"automargin\":true,\"zerolinewidth\":2},\"yaxis\":{\"gridcolor\":\"#283442\",\"linecolor\":\"#506784\",\"ticks\":\"\",\"title\":{\"standoff\":15},\"zerolinecolor\":\"#283442\",\"automargin\":true,\"zerolinewidth\":2},\"scene\":{\"xaxis\":{\"backgroundcolor\":\"rgb(17,17,17)\",\"gridcolor\":\"#506784\",\"linecolor\":\"#506784\",\"showbackground\":true,\"ticks\":\"\",\"zerolinecolor\":\"#C8D4E3\",\"gridwidth\":2},\"yaxis\":{\"backgroundcolor\":\"rgb(17,17,17)\",\"gridcolor\":\"#506784\",\"linecolor\":\"#506784\",\"showbackground\":true,\"ticks\":\"\",\"zerolinecolor\":\"#C8D4E3\",\"gridwidth\":2},\"zaxis\":{\"backgroundcolor\":\"rgb(17,17,17)\",\"gridcolor\":\"#506784\",\"linecolor\":\"#506784\",\"showbackground\":true,\"ticks\":\"\",\"zerolinecolor\":\"#C8D4E3\",\"gridwidth\":2}},\"shapedefaults\":{\"line\":{\"color\":\"#f2f5fa\"}},\"annotationdefaults\":{\"arrowcolor\":\"#f2f5fa\",\"arrowhead\":0,\"arrowwidth\":1},\"geo\":{\"bgcolor\":\"rgb(17,17,17)\",\"landcolor\":\"rgb(17,17,17)\",\"subunitcolor\":\"#506784\",\"showland\":true,\"showlakes\":true,\"lakecolor\":\"rgb(17,17,17)\"},\"title\":{\"x\":0.05},\"updatemenudefaults\":{\"bgcolor\":\"#506784\",\"borderwidth\":0},\"sliderdefaults\":{\"bgcolor\":\"#C8D4E3\",\"borderwidth\":1,\"bordercolor\":\"rgb(17,17,17)\",\"tickwidth\":0},\"mapbox\":{\"style\":\"dark\"}}},\"xaxis\":{\"anchor\":\"y\",\"domain\":[0.0,1.0],\"title\":{\"text\":\"value\"}},\"yaxis\":{\"anchor\":\"x\",\"domain\":[0.0,1.0],\"title\":{\"text\":\"count\"}},\"legend\":{\"title\":{\"text\":\"variable\"},\"tracegroupgap\":0},\"margin\":{\"t\":60},\"barmode\":\"relative\"},                        {\"responsive\": true}                    ).then(function(){\n",
       "                            \n",
       "var gd = document.getElementById('7600f0e3-e345-4942-88fa-85ef70e977f3');\n",
       "var x = new MutationObserver(function (mutations, observer) {{\n",
       "        var display = window.getComputedStyle(gd).display;\n",
       "        if (!display || display === 'none') {{\n",
       "            console.log([gd, 'removed!']);\n",
       "            Plotly.purge(gd);\n",
       "            observer.disconnect();\n",
       "        }}\n",
       "}});\n",
       "\n",
       "// Listen for the removal of the full notebook cells\n",
       "var notebookContainer = gd.closest('#notebook-container');\n",
       "if (notebookContainer) {{\n",
       "    x.observe(notebookContainer, {childList: true});\n",
       "}}\n",
       "\n",
       "// Listen for the clearing of the current output cell\n",
       "var outputEl = gd.closest('.output');\n",
       "if (outputEl) {{\n",
       "    x.observe(outputEl, {childList: true});\n",
       "}}\n",
       "\n",
       "                        })                };                });            </script>        </div>"
      ]
     },
     "metadata": {},
     "output_type": "display_data"
    }
   ],
   "execution_count": 73
  },
  {
   "metadata": {
    "ExecuteTime": {
     "end_time": "2024-06-27T06:15:18.277619Z",
     "start_time": "2024-06-27T06:15:18.254386Z"
    }
   },
   "cell_type": "code",
   "source": [
    "a = np.random.randint(0, 1100, 1_000_000)\n",
    "\n",
    "less_than_minus_6 = a[a < -6]\n",
    "greater_than_6 = a[a > 6]\n",
    "\n",
    "len(greater_than_6), len(less_than_minus_6)"
   ],
   "id": "4e2b23b2c75ffe38",
   "outputs": [
    {
     "data": {
      "text/plain": [
       "(993775, 0)"
      ]
     },
     "execution_count": 78,
     "metadata": {},
     "output_type": "execute_result"
    }
   ],
   "execution_count": 78
  },
  {
   "metadata": {
    "ExecuteTime": {
     "end_time": "2024-06-27T06:16:41.071805Z",
     "start_time": "2024-06-27T06:16:41.065479Z"
    }
   },
   "cell_type": "code",
   "source": "d = np.random.logistic(0.0, 1.0, 3000)",
   "id": "711193f25f11efb5",
   "outputs": [],
   "execution_count": 85
  },
  {
   "metadata": {
    "ExecuteTime": {
     "end_time": "2024-06-27T06:16:49.485560Z",
     "start_time": "2024-06-27T06:16:49.134894Z"
    }
   },
   "cell_type": "code",
   "source": "sns.distplot(d)",
   "id": "d6000e30abe91cff",
   "outputs": [
    {
     "name": "stderr",
     "output_type": "stream",
     "text": [
      "/var/folders/sb/_wglw_tj2s33qkd3sqbydk480000gn/T/ipykernel_95735/528219514.py:1: UserWarning:\n",
      "\n",
      "\n",
      "\n",
      "`distplot` is a deprecated function and will be removed in seaborn v0.14.0.\n",
      "\n",
      "Please adapt your code to use either `displot` (a figure-level function with\n",
      "similar flexibility) or `histplot` (an axes-level function for histograms).\n",
      "\n",
      "For a guide to updating your code to use the new functions, please see\n",
      "https://gist.github.com/mwaskom/de44147ed2974457ad6372750bbe5751\n",
      "\n",
      "\n"
     ]
    },
    {
     "data": {
      "text/plain": [
       "<Axes: ylabel='Density'>"
      ]
     },
     "execution_count": 86,
     "metadata": {},
     "output_type": "execute_result"
    },
    {
     "data": {
      "text/plain": [
       "<Figure size 640x480 with 1 Axes>"
      ],
      "image/png": "[encoded data removed]"
     },
     "metadata": {},
     "output_type": "display_data"
    }
   ],
   "execution_count": 86
  },
  {
   "metadata": {
    "ExecuteTime": {
     "end_time": "2024-06-27T06:16:51.879142Z",
     "start_time": "2024-06-27T06:16:51.874043Z"
    }
   },
   "cell_type": "code",
   "source": "e = np.random.uniform(1.0, 2.0, 3000)",
   "id": "d5190b8165de1347",
   "outputs": [],
   "execution_count": 87
  },
  {
   "metadata": {
    "ExecuteTime": {
     "end_time": "2024-06-27T06:16:52.967827Z",
     "start_time": "2024-06-27T06:16:52.639552Z"
    }
   },
   "cell_type": "code",
   "source": "sns.distplot(e)",
   "id": "4e30a839875c2c5e",
   "outputs": [
    {
     "name": "stderr",
     "output_type": "stream",
     "text": [
      "/var/folders/sb/_wglw_tj2s33qkd3sqbydk480000gn/T/ipykernel_95735/749713740.py:1: UserWarning:\n",
      "\n",
      "\n",
      "\n",
      "`distplot` is a deprecated function and will be removed in seaborn v0.14.0.\n",
      "\n",
      "Please adapt your code to use either `displot` (a figure-level function with\n",
      "similar flexibility) or `histplot` (an axes-level function for histograms).\n",
      "\n",
      "For a guide to updating your code to use the new functions, please see\n",
      "https://gist.github.com/mwaskom/de44147ed2974457ad6372750bbe5751\n",
      "\n",
      "\n"
     ]
    },
    {
     "data": {
      "text/plain": [
       "<Axes: ylabel='Density'>"
      ]
     },
     "execution_count": 88,
     "metadata": {},
     "output_type": "execute_result"
    },
    {
     "data": {
      "text/plain": [
       "<Figure size 640x480 with 1 Axes>"
      ],
      "image/png": "[encoded data removed]"
     },
     "metadata": {},
     "output_type": "display_data"
    }
   ],
   "execution_count": 88
  },
  {
   "metadata": {
    "ExecuteTime": {
     "end_time": "2024-06-27T06:17:07.370519Z",
     "start_time": "2024-06-27T06:17:07.344042Z"
    }
   },
   "cell_type": "code",
   "source": [
    "f = np.random.rand(5)\n",
    "\n",
    "f\n",
    "\n",
    "# EXAM question"
   ],
   "id": "d47a34b350054ad",
   "outputs": [
    {
     "data": {
      "text/plain": [
       "array([0.88013734, 0.44132973, 0.57233675, 0.19196736, 0.75073648])"
      ]
     },
     "execution_count": 90,
     "metadata": {},
     "output_type": "execute_result"
    }
   ],
   "execution_count": 90
  },
  {
   "metadata": {
    "ExecuteTime": {
     "end_time": "2024-06-27T06:17:20.897252Z",
     "start_time": "2024-06-27T06:17:20.894083Z"
    }
   },
   "cell_type": "code",
   "source": [
    "# to get same value \n",
    "np.random.seed(25)"
   ],
   "id": "74d24340661a1dca",
   "outputs": [],
   "execution_count": 94
  },
  {
   "metadata": {},
   "cell_type": "markdown",
   "source": "### Reshaping Arrays",
   "id": "b8854e409a03e162"
  },
  {
   "metadata": {
    "ExecuteTime": {
     "end_time": "2024-06-27T06:17:14.847061Z",
     "start_time": "2024-06-27T06:17:14.843914Z"
    }
   },
   "cell_type": "code",
   "source": [
    "matrix = np.array([[1, 2, 3], [4, 5, 6], [7, 8, 9], [10, 11, 12]])\n",
    "matrix"
   ],
   "id": "62d657c3aea999df",
   "outputs": [
    {
     "data": {
      "text/plain": [
       "array([[ 1,  2,  3],\n",
       "       [ 4,  5,  6],\n",
       "       [ 7,  8,  9],\n",
       "       [10, 11, 12]])"
      ]
     },
     "execution_count": 93,
     "metadata": {},
     "output_type": "execute_result"
    }
   ],
   "execution_count": 93
  },
  {
   "metadata": {
    "ExecuteTime": {
     "end_time": "2024-06-27T06:17:27.643896Z",
     "start_time": "2024-06-27T06:17:27.629792Z"
    }
   },
   "cell_type": "code",
   "source": "matrix.reshape(2, 6)",
   "id": "6078c4650c3b3028",
   "outputs": [
    {
     "data": {
      "text/plain": [
       "array([[ 1,  2,  3,  4,  5,  6],\n",
       "       [ 7,  8,  9, 10, 11, 12]])"
      ]
     },
     "execution_count": 95,
     "metadata": {},
     "output_type": "execute_result"
    }
   ],
   "execution_count": 95
  },
  {
   "metadata": {
    "ExecuteTime": {
     "end_time": "2024-06-27T06:17:30.631052Z",
     "start_time": "2024-06-27T06:17:30.628509Z"
    }
   },
   "cell_type": "code",
   "source": "matrix.reshape(-1, 1)",
   "id": "2c660f0683142632",
   "outputs": [
    {
     "data": {
      "text/plain": [
       "array([[ 1],\n",
       "       [ 2],\n",
       "       [ 3],\n",
       "       [ 4],\n",
       "       [ 5],\n",
       "       [ 6],\n",
       "       [ 7],\n",
       "       [ 8],\n",
       "       [ 9],\n",
       "       [10],\n",
       "       [11],\n",
       "       [12]])"
      ]
     },
     "execution_count": 96,
     "metadata": {},
     "output_type": "execute_result"
    }
   ],
   "execution_count": 96
  },
  {
   "metadata": {
    "ExecuteTime": {
     "end_time": "2024-05-29T01:32:05.334405Z",
     "start_time": "2024-05-29T01:32:05.330173Z"
    }
   },
   "cell_type": "code",
   "source": [
    "# .reshape(rows, columns)\n",
    "# if columns or row is -1 means as many as needed"
   ],
   "id": "2a05d509a65f1881",
   "execution_count": 191,
   "outputs": []
  },
  {
   "metadata": {},
   "cell_type": "code",
   "execution_count": null,
   "source": "",
   "id": "26375438382b4082",
   "outputs": []
  }
 ],
 "metadata": {
  "kernelspec": {
   "display_name": "Python 3",
   "language": "python",
   "name": "python3"
  },
  "language_info": {
   "codemirror_mode": {
    "name": "ipython",
    "version": 2
   },
   "file_extension": ".py",
   "mimetype": "text/x-python",
   "name": "python",
   "nbconvert_exporter": "python",
   "pygments_lexer": "ipython2",
   "version": "2.7.6"
  }
 },
 "nbformat": 4,
 "nbformat_minor": 5
}
