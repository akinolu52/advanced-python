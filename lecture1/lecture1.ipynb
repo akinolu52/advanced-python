{
 "cells": [
  {
   "cell_type": "code",
   "id": "initial_id",
   "metadata": {
    "collapsed": true,
    "ExecuteTime": {
     "end_time": "2024-05-08T03:13:39.115600Z",
     "start_time": "2024-05-08T03:13:39.085913Z"
    }
   },
   "source": [
    "import pandas as pd\n",
    "\n",
    "df = pd.read_csv('mtcars.csv')"
   ],
   "execution_count": 389,
   "outputs": []
  },
  {
   "metadata": {
    "ExecuteTime": {
     "end_time": "2024-05-08T03:13:39.137726Z",
     "start_time": "2024-05-08T03:13:39.117240Z"
    }
   },
   "cell_type": "code",
   "source": "df.head()",
   "id": "bf61bb5c3fc757be",
   "execution_count": 390,
   "outputs": []
  },
  {
   "metadata": {
    "ExecuteTime": {
     "end_time": "2024-05-08T03:13:39.192958Z",
     "start_time": "2024-05-08T03:13:39.185999Z"
    }
   },
   "cell_type": "code",
   "source": "df.tail()",
   "id": "b4761029e2afb801",
   "execution_count": 391,
   "outputs": []
  },
  {
   "metadata": {
    "ExecuteTime": {
     "end_time": "2024-05-08T03:13:39.204192Z",
     "start_time": "2024-05-08T03:13:39.202014Z"
    }
   },
   "cell_type": "code",
   "source": [
    "# to print number of rows and columns in the dataFrame\n",
    "\n",
    "df.shape"
   ],
   "id": "aa6ae9bec129d809",
   "execution_count": 392,
   "outputs": []
  },
  {
   "metadata": {
    "ExecuteTime": {
     "end_time": "2024-05-08T03:13:39.213973Z",
     "start_time": "2024-05-08T03:13:39.211533Z"
    }
   },
   "cell_type": "code",
   "source": [
    "# to print number of rows in the dataFrame\n",
    "\n",
    "df.shape[0]"
   ],
   "id": "ad80c4736161fff1",
   "execution_count": 393,
   "outputs": []
  },
  {
   "metadata": {
    "ExecuteTime": {
     "end_time": "2024-05-08T03:13:39.298685Z",
     "start_time": "2024-05-08T03:13:39.280901Z"
    }
   },
   "cell_type": "code",
   "source": [
    "# get numerical column statistics about the dataFrame\n",
    "\n",
    "df.describe()"
   ],
   "id": "cb23a752aca8e974",
   "execution_count": 394,
   "outputs": []
  },
  {
   "metadata": {
    "ExecuteTime": {
     "end_time": "2024-05-08T03:13:39.377488Z",
     "start_time": "2024-05-08T03:13:39.373864Z"
    }
   },
   "cell_type": "code",
   "source": [
    "# to get the number (count) of missing values in a dataFrame\n",
    "\n",
    "df.isna().sum()"
   ],
   "id": "90b169bc0361e67e",
   "execution_count": 395,
   "outputs": []
  },
  {
   "metadata": {
    "ExecuteTime": {
     "end_time": "2024-05-08T03:13:39.459894Z",
     "start_time": "2024-05-08T03:13:39.456305Z"
    }
   },
   "cell_type": "code",
   "source": [
    "# to get the ratio of missing values in a data frame\n",
    "\n",
    "df.isna().mean() * 100"
   ],
   "id": "5eaab07b67d3cc7b",
   "execution_count": 396,
   "outputs": []
  },
  {
   "metadata": {
    "ExecuteTime": {
     "end_time": "2024-05-08T03:13:39.566563Z",
     "start_time": "2024-05-08T03:13:39.562945Z"
    }
   },
   "cell_type": "code",
   "source": "df.dtypes",
   "id": "d5449e22fb32df2d",
   "execution_count": 397,
   "outputs": []
  },
  {
   "metadata": {
    "ExecuteTime": {
     "end_time": "2024-05-08T03:13:39.635691Z",
     "start_time": "2024-05-08T03:13:39.621896Z"
    }
   },
   "cell_type": "code",
   "source": [
    "# create a duplicate of the dataFrame\n",
    "\n",
    "df_copy1 = df.copy()\n",
    "df_copy2 = df.copy()\n",
    "\n",
    "df_copy1"
   ],
   "id": "43a70cc3b8c72e37",
   "execution_count": 398,
   "outputs": []
  },
  {
   "metadata": {
    "ExecuteTime": {
     "end_time": "2024-05-08T03:13:39.653908Z",
     "start_time": "2024-05-08T03:13:39.650448Z"
    }
   },
   "cell_type": "code",
   "source": "df_copy1.dtypes",
   "id": "f695a7817203d7b4",
   "execution_count": 399,
   "outputs": []
  },
  {
   "metadata": {
    "ExecuteTime": {
     "end_time": "2024-05-08T03:16:23.589798Z",
     "start_time": "2024-05-08T03:16:23.570171Z"
    }
   },
   "cell_type": "code",
   "source": [
    "# replace missing values with mean\n",
    "df_copy1 = df_copy1.fillna(df_copy1.mean)\n",
    "\n",
    "df_copy1.isna().sum()"
   ],
   "id": "bf78bc6a8ac4cc93",
   "execution_count": 410,
   "outputs": []
  },
  {
   "metadata": {
    "ExecuteTime": {
     "end_time": "2024-05-08T03:16:34.293567Z",
     "start_time": "2024-05-08T03:16:34.269080Z"
    }
   },
   "cell_type": "code",
   "source": [
    "# replace missing values with mode\n",
    "df_copy2.fillna(df_copy2.mode().iloc[0], inplace=True)\n",
    "\n",
    "df_copy2.isna().sum()\n"
   ],
   "id": "b4c30271d2a889c2",
   "execution_count": 411,
   "outputs": []
  },
  {
   "metadata": {
    "ExecuteTime": {
     "end_time": "2024-05-08T03:17:00.788051Z",
     "start_time": "2024-05-08T03:17:00.769956Z"
    }
   },
   "cell_type": "code",
   "source": [
    "# to separate categorical and numerical columns\n",
    "\n",
    "categorical_columns = df.select_dtypes(include=['object']).columns\n",
    "numerical_columns = df.select_dtypes(include=['number']).columns\n",
    "\n",
    "df_cat = df[categorical_columns]\n",
    "df_num = df[numerical_columns]\n",
    "\n",
    "df_cat, df_num"
   ],
   "id": "19a262936ccf70f8",
   "execution_count": 415,
   "outputs": []
  },
  {
   "metadata": {},
   "cell_type": "code",
   "source": [
    "name = ['carb', 'milk', 'eggs', 'bicycle']\n",
    "deg = ['MBA', 'BCA', 'M.Tech', 'MBA']\n",
    "scr = [90, 40, 80, 98]\n",
    "\n",
    "dict_xyz = {'name': name, 'deg': deg, 'scr': scr}\n",
    "\n",
    "df1 = pd.DataFrame(dict_xyz)\n",
    "\n",
    "df1"
   ],
   "id": "ad639c9b43356032",
   "execution_count": null,
   "outputs": []
  },
  {
   "metadata": {
    "ExecuteTime": {
     "end_time": "2024-05-08T03:17:29.011194Z",
     "start_time": "2024-05-08T03:17:29.003950Z"
    }
   },
   "cell_type": "code",
   "source": "df1.index.name",
   "id": "7e9aeae8db8a676e",
   "execution_count": 416,
   "outputs": []
  },
  {
   "metadata": {
    "ExecuteTime": {
     "end_time": "2024-05-08T03:13:39.897094Z",
     "start_time": "2024-05-08T03:13:39.890397Z"
    }
   },
   "cell_type": "code",
   "source": "df1.index.name = 'my_index'",
   "id": "66f085a54bd91dec",
   "execution_count": 402,
   "outputs": []
  },
  {
   "metadata": {
    "ExecuteTime": {
     "end_time": "2024-05-08T03:13:39.940709Z",
     "start_time": "2024-05-08T03:13:39.936568Z"
    }
   },
   "cell_type": "code",
   "source": "df1",
   "id": "8d83f5d536acbda",
   "execution_count": 403,
   "outputs": []
  },
  {
   "metadata": {
    "ExecuteTime": {
     "end_time": "2024-05-08T03:13:39.966408Z",
     "start_time": "2024-05-08T03:13:39.962186Z"
    }
   },
   "cell_type": "code",
   "source": [
    "# to save as csv file\n",
    "\n",
    "df1.to_csv('./file1.csv')"
   ],
   "id": "89ac19ec2cb8d1d3",
   "execution_count": 404,
   "outputs": []
  },
  {
   "metadata": {
    "ExecuteTime": {
     "end_time": "2024-05-08T03:13:39.998461Z",
     "start_time": "2024-05-08T03:13:39.995457Z"
    }
   },
   "cell_type": "code",
   "source": [
    "# to save as json file\n",
    "\n",
    "df1.to_json('./file1.json')"
   ],
   "id": "2ab740c6922030fa",
   "execution_count": 405,
   "outputs": []
  },
  {
   "metadata": {
    "ExecuteTime": {
     "end_time": "2024-05-08T03:13:40.150308Z",
     "start_time": "2024-05-08T03:13:40.146013Z"
    }
   },
   "cell_type": "code",
   "source": [
    "# read json file with pandas\n",
    "\n",
    "df2 = pd.read_json('./file1.json')"
   ],
   "id": "974db4073a449826",
   "execution_count": 406,
   "outputs": []
  },
  {
   "metadata": {
    "ExecuteTime": {
     "end_time": "2024-05-08T03:13:40.199218Z",
     "start_time": "2024-05-08T03:13:40.195304Z"
    }
   },
   "cell_type": "code",
   "source": "df2",
   "id": "e527390821671c80",
   "execution_count": 407,
   "outputs": []
  },
  {
   "metadata": {
    "ExecuteTime": {
     "end_time": "2024-05-14T23:20:28.131085Z",
     "start_time": "2024-05-14T23:20:27.020936Z"
    }
   },
   "cell_type": "code",
   "source": [
    "# create 100 samples with 3 features\n",
    "\n",
    "from sklearn.datasets import make_regression\n",
    "\n",
    "# n_samples = number of rows\n",
    "# n_features = number of features you want to generate for this regression\n",
    "# n_informative = number of features used to build the linear model used to generate the output\n",
    "# n_target = the number of target features you want to work with\n",
    "# noise = if you want noise in your values\n",
    "# coefficient = in linear regression (y = B1X1 + B2X2) here B1 & B2 is the coefficient\n",
    "# random state = if you want to use random data in your regression values\n",
    "\n",
    "features, target, coefficient = make_regression(\n",
    "    n_samples=100, n_features=3, n_informative=3, n_targets=1, noise=0.0, coef=True, random_state=1\n",
    ")\n",
    "\n",
    "print('Feature Matrix  \\n', features[:3])\n",
    "print('\\nTarget Vector  \\n', target[:3])\n",
    "print('\\nCoefficient Vector  \\n', coefficient[:3])\n"
   ],
   "id": "f6928742b3014981",
   "execution_count": 1,
   "outputs": []
  },
  {
   "metadata": {},
   "cell_type": "code",
   "execution_count": null,
   "source": "",
   "id": "fa8bfd507ef78a53",
   "outputs": []
  }
 ],
 "metadata": {
  "kernelspec": {
   "display_name": "Python 3",
   "language": "python",
   "name": "python3"
  },
  "language_info": {
   "codemirror_mode": {
    "name": "ipython",
    "version": 2
   },
   "file_extension": ".py",
   "mimetype": "text/x-python",
   "name": "python",
   "nbconvert_exporter": "python",
   "pygments_lexer": "ipython2",
   "version": "2.7.6"
  }
 },
 "nbformat": 4,
 "nbformat_minor": 5
}
