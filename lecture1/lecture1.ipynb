{
 "cells": [
  {
   "cell_type": "code",
   "id": "initial_id",
   "metadata": {
    "collapsed": true,
    "ExecuteTime": {
     "end_time": "2024-06-27T02:09:02.371059Z",
     "start_time": "2024-06-27T02:09:02.317665Z"
    }
   },
   "source": [
    "import pandas as pd\n",
    "\n",
    "df = pd.read_csv('mtcars.csv')"
   ],
   "outputs": [],
   "execution_count": 6
  },
  {
   "metadata": {
    "ExecuteTime": {
     "end_time": "2024-06-27T02:09:12.126430Z",
     "start_time": "2024-06-27T02:09:12.115776Z"
    }
   },
   "cell_type": "code",
   "source": "df.head()",
   "id": "bf61bb5c3fc757be",
   "outputs": [
    {
     "data": {
      "text/plain": [
       "   Unnamed: 0       vichle_names   mpg  cyl   disp     hp  drat     wt   qsec  \\\n",
       "0           0          Mazda RX4  21.0    6  160.0  110.0  3.90  2.620  16.46   \n",
       "1           1      Mazda RX4 Wag  21.0    6  160.0  110.0  3.90  2.875  17.02   \n",
       "2           2         Datsun 710   NaN    4  108.0   93.0  3.85  2.320  18.61   \n",
       "3           3     Hornet 4 Drive  21.4    6  258.0    NaN  3.08  3.215  19.44   \n",
       "4           4  Hornet Sportabout  18.7    8  360.0  175.0  3.15  3.440  17.02   \n",
       "\n",
       "   v_Shape   am  gear  carb  \n",
       "0      0.0  1.0   4.0     4  \n",
       "1      0.0  1.0   4.0     4  \n",
       "2      1.0  1.0   4.0     1  \n",
       "3      1.0  0.0   3.0     1  \n",
       "4      0.0  0.0   NaN     2  "
      ],
      "text/html": [
       "<div>\n",
       "<style scoped>\n",
       "    .dataframe tbody tr th:only-of-type {\n",
       "        vertical-align: middle;\n",
       "    }\n",
       "\n",
       "    .dataframe tbody tr th {\n",
       "        vertical-align: top;\n",
       "    }\n",
       "\n",
       "    .dataframe thead th {\n",
       "        text-align: right;\n",
       "    }\n",
       "</style>\n",
       "<table border=\"1\" class=\"dataframe\">\n",
       "  <thead>\n",
       "    <tr style=\"text-align: right;\">\n",
       "      <th></th>\n",
       "      <th>Unnamed: 0</th>\n",
       "      <th>vichle_names</th>\n",
       "      <th>mpg</th>\n",
       "      <th>cyl</th>\n",
       "      <th>disp</th>\n",
       "      <th>hp</th>\n",
       "      <th>drat</th>\n",
       "      <th>wt</th>\n",
       "      <th>qsec</th>\n",
       "      <th>v_Shape</th>\n",
       "      <th>am</th>\n",
       "      <th>gear</th>\n",
       "      <th>carb</th>\n",
       "    </tr>\n",
       "  </thead>\n",
       "  <tbody>\n",
       "    <tr>\n",
       "      <th>0</th>\n",
       "      <td>0</td>\n",
       "      <td>Mazda RX4</td>\n",
       "      <td>21.0</td>\n",
       "      <td>6</td>\n",
       "      <td>160.0</td>\n",
       "      <td>110.0</td>\n",
       "      <td>3.90</td>\n",
       "      <td>2.620</td>\n",
       "      <td>16.46</td>\n",
       "      <td>0.0</td>\n",
       "      <td>1.0</td>\n",
       "      <td>4.0</td>\n",
       "      <td>4</td>\n",
       "    </tr>\n",
       "    <tr>\n",
       "      <th>1</th>\n",
       "      <td>1</td>\n",
       "      <td>Mazda RX4 Wag</td>\n",
       "      <td>21.0</td>\n",
       "      <td>6</td>\n",
       "      <td>160.0</td>\n",
       "      <td>110.0</td>\n",
       "      <td>3.90</td>\n",
       "      <td>2.875</td>\n",
       "      <td>17.02</td>\n",
       "      <td>0.0</td>\n",
       "      <td>1.0</td>\n",
       "      <td>4.0</td>\n",
       "      <td>4</td>\n",
       "    </tr>\n",
       "    <tr>\n",
       "      <th>2</th>\n",
       "      <td>2</td>\n",
       "      <td>Datsun 710</td>\n",
       "      <td>NaN</td>\n",
       "      <td>4</td>\n",
       "      <td>108.0</td>\n",
       "      <td>93.0</td>\n",
       "      <td>3.85</td>\n",
       "      <td>2.320</td>\n",
       "      <td>18.61</td>\n",
       "      <td>1.0</td>\n",
       "      <td>1.0</td>\n",
       "      <td>4.0</td>\n",
       "      <td>1</td>\n",
       "    </tr>\n",
       "    <tr>\n",
       "      <th>3</th>\n",
       "      <td>3</td>\n",
       "      <td>Hornet 4 Drive</td>\n",
       "      <td>21.4</td>\n",
       "      <td>6</td>\n",
       "      <td>258.0</td>\n",
       "      <td>NaN</td>\n",
       "      <td>3.08</td>\n",
       "      <td>3.215</td>\n",
       "      <td>19.44</td>\n",
       "      <td>1.0</td>\n",
       "      <td>0.0</td>\n",
       "      <td>3.0</td>\n",
       "      <td>1</td>\n",
       "    </tr>\n",
       "    <tr>\n",
       "      <th>4</th>\n",
       "      <td>4</td>\n",
       "      <td>Hornet Sportabout</td>\n",
       "      <td>18.7</td>\n",
       "      <td>8</td>\n",
       "      <td>360.0</td>\n",
       "      <td>175.0</td>\n",
       "      <td>3.15</td>\n",
       "      <td>3.440</td>\n",
       "      <td>17.02</td>\n",
       "      <td>0.0</td>\n",
       "      <td>0.0</td>\n",
       "      <td>NaN</td>\n",
       "      <td>2</td>\n",
       "    </tr>\n",
       "  </tbody>\n",
       "</table>\n",
       "</div>"
      ]
     },
     "execution_count": 8,
     "metadata": {},
     "output_type": "execute_result"
    }
   ],
   "execution_count": 8
  },
  {
   "metadata": {
    "ExecuteTime": {
     "end_time": "2024-06-27T02:09:14.433710Z",
     "start_time": "2024-06-27T02:09:14.427390Z"
    }
   },
   "cell_type": "code",
   "source": "df.tail()",
   "id": "b4761029e2afb801",
   "outputs": [
    {
     "data": {
      "text/plain": [
       "    Unnamed: 0    vichle_names   mpg  cyl   disp     hp  drat     wt  qsec  \\\n",
       "27          27    Lotus Europa  30.4    4   95.1  113.0  3.77  1.513  16.9   \n",
       "28          28  Ford Pantera L  15.8    8  351.0  264.0  4.22  3.170  14.5   \n",
       "29          29    Ferrari Dino  19.7    6  145.0  175.0  3.62  2.770  15.5   \n",
       "30          30   Maserati Bora  15.0    8  301.0  335.0  3.54  3.570  14.6   \n",
       "31          31      Volvo 142E  21.4    4  121.0  109.0  4.11  2.780  18.6   \n",
       "\n",
       "    v_Shape   am  gear  carb  \n",
       "27      1.0  1.0   5.0     2  \n",
       "28      0.0  1.0   5.0     4  \n",
       "29      0.0  1.0   5.0     6  \n",
       "30      0.0  1.0   5.0     8  \n",
       "31      1.0  1.0   4.0     2  "
      ],
      "text/html": [
       "<div>\n",
       "<style scoped>\n",
       "    .dataframe tbody tr th:only-of-type {\n",
       "        vertical-align: middle;\n",
       "    }\n",
       "\n",
       "    .dataframe tbody tr th {\n",
       "        vertical-align: top;\n",
       "    }\n",
       "\n",
       "    .dataframe thead th {\n",
       "        text-align: right;\n",
       "    }\n",
       "</style>\n",
       "<table border=\"1\" class=\"dataframe\">\n",
       "  <thead>\n",
       "    <tr style=\"text-align: right;\">\n",
       "      <th></th>\n",
       "      <th>Unnamed: 0</th>\n",
       "      <th>vichle_names</th>\n",
       "      <th>mpg</th>\n",
       "      <th>cyl</th>\n",
       "      <th>disp</th>\n",
       "      <th>hp</th>\n",
       "      <th>drat</th>\n",
       "      <th>wt</th>\n",
       "      <th>qsec</th>\n",
       "      <th>v_Shape</th>\n",
       "      <th>am</th>\n",
       "      <th>gear</th>\n",
       "      <th>carb</th>\n",
       "    </tr>\n",
       "  </thead>\n",
       "  <tbody>\n",
       "    <tr>\n",
       "      <th>27</th>\n",
       "      <td>27</td>\n",
       "      <td>Lotus Europa</td>\n",
       "      <td>30.4</td>\n",
       "      <td>4</td>\n",
       "      <td>95.1</td>\n",
       "      <td>113.0</td>\n",
       "      <td>3.77</td>\n",
       "      <td>1.513</td>\n",
       "      <td>16.9</td>\n",
       "      <td>1.0</td>\n",
       "      <td>1.0</td>\n",
       "      <td>5.0</td>\n",
       "      <td>2</td>\n",
       "    </tr>\n",
       "    <tr>\n",
       "      <th>28</th>\n",
       "      <td>28</td>\n",
       "      <td>Ford Pantera L</td>\n",
       "      <td>15.8</td>\n",
       "      <td>8</td>\n",
       "      <td>351.0</td>\n",
       "      <td>264.0</td>\n",
       "      <td>4.22</td>\n",
       "      <td>3.170</td>\n",
       "      <td>14.5</td>\n",
       "      <td>0.0</td>\n",
       "      <td>1.0</td>\n",
       "      <td>5.0</td>\n",
       "      <td>4</td>\n",
       "    </tr>\n",
       "    <tr>\n",
       "      <th>29</th>\n",
       "      <td>29</td>\n",
       "      <td>Ferrari Dino</td>\n",
       "      <td>19.7</td>\n",
       "      <td>6</td>\n",
       "      <td>145.0</td>\n",
       "      <td>175.0</td>\n",
       "      <td>3.62</td>\n",
       "      <td>2.770</td>\n",
       "      <td>15.5</td>\n",
       "      <td>0.0</td>\n",
       "      <td>1.0</td>\n",
       "      <td>5.0</td>\n",
       "      <td>6</td>\n",
       "    </tr>\n",
       "    <tr>\n",
       "      <th>30</th>\n",
       "      <td>30</td>\n",
       "      <td>Maserati Bora</td>\n",
       "      <td>15.0</td>\n",
       "      <td>8</td>\n",
       "      <td>301.0</td>\n",
       "      <td>335.0</td>\n",
       "      <td>3.54</td>\n",
       "      <td>3.570</td>\n",
       "      <td>14.6</td>\n",
       "      <td>0.0</td>\n",
       "      <td>1.0</td>\n",
       "      <td>5.0</td>\n",
       "      <td>8</td>\n",
       "    </tr>\n",
       "    <tr>\n",
       "      <th>31</th>\n",
       "      <td>31</td>\n",
       "      <td>Volvo 142E</td>\n",
       "      <td>21.4</td>\n",
       "      <td>4</td>\n",
       "      <td>121.0</td>\n",
       "      <td>109.0</td>\n",
       "      <td>4.11</td>\n",
       "      <td>2.780</td>\n",
       "      <td>18.6</td>\n",
       "      <td>1.0</td>\n",
       "      <td>1.0</td>\n",
       "      <td>4.0</td>\n",
       "      <td>2</td>\n",
       "    </tr>\n",
       "  </tbody>\n",
       "</table>\n",
       "</div>"
      ]
     },
     "execution_count": 9,
     "metadata": {},
     "output_type": "execute_result"
    }
   ],
   "execution_count": 9
  },
  {
   "metadata": {
    "ExecuteTime": {
     "end_time": "2024-06-27T02:09:17.984116Z",
     "start_time": "2024-06-27T02:09:17.980597Z"
    }
   },
   "cell_type": "code",
   "source": [
    "# to print number of rows and columns in the dataFrame\n",
    "\n",
    "df.shape"
   ],
   "id": "aa6ae9bec129d809",
   "outputs": [
    {
     "data": {
      "text/plain": [
       "(32, 13)"
      ]
     },
     "execution_count": 10,
     "metadata": {},
     "output_type": "execute_result"
    }
   ],
   "execution_count": 10
  },
  {
   "metadata": {
    "ExecuteTime": {
     "end_time": "2024-06-27T02:09:19.676877Z",
     "start_time": "2024-06-27T02:09:19.673704Z"
    }
   },
   "cell_type": "code",
   "source": [
    "# to print number of rows in the dataFrame\n",
    "\n",
    "df.shape[0]"
   ],
   "id": "ad80c4736161fff1",
   "outputs": [
    {
     "data": {
      "text/plain": [
       "32"
      ]
     },
     "execution_count": 11,
     "metadata": {},
     "output_type": "execute_result"
    }
   ],
   "execution_count": 11
  },
  {
   "metadata": {
    "ExecuteTime": {
     "end_time": "2024-06-27T02:09:26.135457Z",
     "start_time": "2024-06-27T02:09:26.107369Z"
    }
   },
   "cell_type": "code",
   "source": [
    "# get numerical column statistics about the dataFrame\n",
    "\n",
    "df.describe()"
   ],
   "id": "cb23a752aca8e974",
   "outputs": [
    {
     "data": {
      "text/plain": [
       "       Unnamed: 0        mpg        cyl        disp          hp       drat  \\\n",
       "count   32.000000  30.000000  32.000000   32.000000   31.000000  31.000000   \n",
       "mean    15.500000  20.076667   6.187500  230.721875  147.870968   3.609032   \n",
       "std      9.380832   6.196366   1.785922  123.938694   69.363171   0.538766   \n",
       "min      0.000000  10.400000   4.000000   71.100000   52.000000   2.760000   \n",
       "25%      7.750000  15.275000   4.000000  120.825000   96.000000   3.080000   \n",
       "50%     15.500000  19.200000   6.000000  196.300000  123.000000   3.700000   \n",
       "75%     23.250000  22.475000   8.000000  326.000000  180.000000   3.920000   \n",
       "max     31.000000  33.900000   8.000000  472.000000  335.000000   4.930000   \n",
       "\n",
       "              wt       qsec    v_Shape         am       gear     carb  \n",
       "count  32.000000  29.000000  30.000000  28.000000  29.000000  32.0000  \n",
       "mean    3.217250  17.601379   0.433333   0.428571   3.724138   2.8125  \n",
       "std     0.978457   1.535459   0.504007   0.503953   0.751026   1.6152  \n",
       "min     1.513000  14.500000   0.000000   0.000000   3.000000   1.0000  \n",
       "25%     2.581250  16.870000   0.000000   0.000000   3.000000   2.0000  \n",
       "50%     3.325000  17.420000   0.000000   0.000000   4.000000   2.0000  \n",
       "75%     3.610000  18.610000   1.000000   1.000000   4.000000   4.0000  \n",
       "max     5.424000  20.010000   1.000000   1.000000   5.000000   8.0000  "
      ],
      "text/html": [
       "<div>\n",
       "<style scoped>\n",
       "    .dataframe tbody tr th:only-of-type {\n",
       "        vertical-align: middle;\n",
       "    }\n",
       "\n",
       "    .dataframe tbody tr th {\n",
       "        vertical-align: top;\n",
       "    }\n",
       "\n",
       "    .dataframe thead th {\n",
       "        text-align: right;\n",
       "    }\n",
       "</style>\n",
       "<table border=\"1\" class=\"dataframe\">\n",
       "  <thead>\n",
       "    <tr style=\"text-align: right;\">\n",
       "      <th></th>\n",
       "      <th>Unnamed: 0</th>\n",
       "      <th>mpg</th>\n",
       "      <th>cyl</th>\n",
       "      <th>disp</th>\n",
       "      <th>hp</th>\n",
       "      <th>drat</th>\n",
       "      <th>wt</th>\n",
       "      <th>qsec</th>\n",
       "      <th>v_Shape</th>\n",
       "      <th>am</th>\n",
       "      <th>gear</th>\n",
       "      <th>carb</th>\n",
       "    </tr>\n",
       "  </thead>\n",
       "  <tbody>\n",
       "    <tr>\n",
       "      <th>count</th>\n",
       "      <td>32.000000</td>\n",
       "      <td>30.000000</td>\n",
       "      <td>32.000000</td>\n",
       "      <td>32.000000</td>\n",
       "      <td>31.000000</td>\n",
       "      <td>31.000000</td>\n",
       "      <td>32.000000</td>\n",
       "      <td>29.000000</td>\n",
       "      <td>30.000000</td>\n",
       "      <td>28.000000</td>\n",
       "      <td>29.000000</td>\n",
       "      <td>32.0000</td>\n",
       "    </tr>\n",
       "    <tr>\n",
       "      <th>mean</th>\n",
       "      <td>15.500000</td>\n",
       "      <td>20.076667</td>\n",
       "      <td>6.187500</td>\n",
       "      <td>230.721875</td>\n",
       "      <td>147.870968</td>\n",
       "      <td>3.609032</td>\n",
       "      <td>3.217250</td>\n",
       "      <td>17.601379</td>\n",
       "      <td>0.433333</td>\n",
       "      <td>0.428571</td>\n",
       "      <td>3.724138</td>\n",
       "      <td>2.8125</td>\n",
       "    </tr>\n",
       "    <tr>\n",
       "      <th>std</th>\n",
       "      <td>9.380832</td>\n",
       "      <td>6.196366</td>\n",
       "      <td>1.785922</td>\n",
       "      <td>123.938694</td>\n",
       "      <td>69.363171</td>\n",
       "      <td>0.538766</td>\n",
       "      <td>0.978457</td>\n",
       "      <td>1.535459</td>\n",
       "      <td>0.504007</td>\n",
       "      <td>0.503953</td>\n",
       "      <td>0.751026</td>\n",
       "      <td>1.6152</td>\n",
       "    </tr>\n",
       "    <tr>\n",
       "      <th>min</th>\n",
       "      <td>0.000000</td>\n",
       "      <td>10.400000</td>\n",
       "      <td>4.000000</td>\n",
       "      <td>71.100000</td>\n",
       "      <td>52.000000</td>\n",
       "      <td>2.760000</td>\n",
       "      <td>1.513000</td>\n",
       "      <td>14.500000</td>\n",
       "      <td>0.000000</td>\n",
       "      <td>0.000000</td>\n",
       "      <td>3.000000</td>\n",
       "      <td>1.0000</td>\n",
       "    </tr>\n",
       "    <tr>\n",
       "      <th>25%</th>\n",
       "      <td>7.750000</td>\n",
       "      <td>15.275000</td>\n",
       "      <td>4.000000</td>\n",
       "      <td>120.825000</td>\n",
       "      <td>96.000000</td>\n",
       "      <td>3.080000</td>\n",
       "      <td>2.581250</td>\n",
       "      <td>16.870000</td>\n",
       "      <td>0.000000</td>\n",
       "      <td>0.000000</td>\n",
       "      <td>3.000000</td>\n",
       "      <td>2.0000</td>\n",
       "    </tr>\n",
       "    <tr>\n",
       "      <th>50%</th>\n",
       "      <td>15.500000</td>\n",
       "      <td>19.200000</td>\n",
       "      <td>6.000000</td>\n",
       "      <td>196.300000</td>\n",
       "      <td>123.000000</td>\n",
       "      <td>3.700000</td>\n",
       "      <td>3.325000</td>\n",
       "      <td>17.420000</td>\n",
       "      <td>0.000000</td>\n",
       "      <td>0.000000</td>\n",
       "      <td>4.000000</td>\n",
       "      <td>2.0000</td>\n",
       "    </tr>\n",
       "    <tr>\n",
       "      <th>75%</th>\n",
       "      <td>23.250000</td>\n",
       "      <td>22.475000</td>\n",
       "      <td>8.000000</td>\n",
       "      <td>326.000000</td>\n",
       "      <td>180.000000</td>\n",
       "      <td>3.920000</td>\n",
       "      <td>3.610000</td>\n",
       "      <td>18.610000</td>\n",
       "      <td>1.000000</td>\n",
       "      <td>1.000000</td>\n",
       "      <td>4.000000</td>\n",
       "      <td>4.0000</td>\n",
       "    </tr>\n",
       "    <tr>\n",
       "      <th>max</th>\n",
       "      <td>31.000000</td>\n",
       "      <td>33.900000</td>\n",
       "      <td>8.000000</td>\n",
       "      <td>472.000000</td>\n",
       "      <td>335.000000</td>\n",
       "      <td>4.930000</td>\n",
       "      <td>5.424000</td>\n",
       "      <td>20.010000</td>\n",
       "      <td>1.000000</td>\n",
       "      <td>1.000000</td>\n",
       "      <td>5.000000</td>\n",
       "      <td>8.0000</td>\n",
       "    </tr>\n",
       "  </tbody>\n",
       "</table>\n",
       "</div>"
      ]
     },
     "execution_count": 12,
     "metadata": {},
     "output_type": "execute_result"
    }
   ],
   "execution_count": 12
  },
  {
   "metadata": {
    "ExecuteTime": {
     "end_time": "2024-06-27T02:09:39.676408Z",
     "start_time": "2024-06-27T02:09:39.647028Z"
    }
   },
   "cell_type": "code",
   "source": [
    "# to get the number (count) of missing values in a dataFrame\n",
    "\n",
    "df.isna().sum()"
   ],
   "id": "90b169bc0361e67e",
   "outputs": [
    {
     "data": {
      "text/plain": [
       "Unnamed: 0      0\n",
       "vichle_names    0\n",
       "mpg             2\n",
       "cyl             0\n",
       "disp            0\n",
       "hp              1\n",
       "drat            1\n",
       "wt              0\n",
       "qsec            3\n",
       "v_Shape         2\n",
       "am              4\n",
       "gear            3\n",
       "carb            0\n",
       "dtype: int64"
      ]
     },
     "execution_count": 13,
     "metadata": {},
     "output_type": "execute_result"
    }
   ],
   "execution_count": 13
  },
  {
   "metadata": {
    "ExecuteTime": {
     "end_time": "2024-06-27T02:09:45.144475Z",
     "start_time": "2024-06-27T02:09:45.140978Z"
    }
   },
   "cell_type": "code",
   "source": [
    "# to get the ratio of missing values in a data frame\n",
    "\n",
    "df.isna().mean() * 100"
   ],
   "id": "5eaab07b67d3cc7b",
   "outputs": [
    {
     "data": {
      "text/plain": [
       "Unnamed: 0       0.000\n",
       "vichle_names     0.000\n",
       "mpg              6.250\n",
       "cyl              0.000\n",
       "disp             0.000\n",
       "hp               3.125\n",
       "drat             3.125\n",
       "wt               0.000\n",
       "qsec             9.375\n",
       "v_Shape          6.250\n",
       "am              12.500\n",
       "gear             9.375\n",
       "carb             0.000\n",
       "dtype: float64"
      ]
     },
     "execution_count": 14,
     "metadata": {},
     "output_type": "execute_result"
    }
   ],
   "execution_count": 14
  },
  {
   "metadata": {
    "ExecuteTime": {
     "end_time": "2024-06-27T02:10:19.971936Z",
     "start_time": "2024-06-27T02:10:19.968520Z"
    }
   },
   "cell_type": "code",
   "source": "df.dtypes",
   "id": "d5449e22fb32df2d",
   "outputs": [
    {
     "data": {
      "text/plain": [
       "Unnamed: 0        int64\n",
       "vichle_names     object\n",
       "mpg             float64\n",
       "cyl               int64\n",
       "disp            float64\n",
       "hp              float64\n",
       "drat            float64\n",
       "wt              float64\n",
       "qsec            float64\n",
       "v_Shape         float64\n",
       "am              float64\n",
       "gear            float64\n",
       "carb              int64\n",
       "dtype: object"
      ]
     },
     "execution_count": 15,
     "metadata": {},
     "output_type": "execute_result"
    }
   ],
   "execution_count": 15
  },
  {
   "metadata": {
    "ExecuteTime": {
     "end_time": "2024-06-27T02:10:42.187158Z",
     "start_time": "2024-06-27T02:10:42.168180Z"
    }
   },
   "cell_type": "code",
   "source": [
    "# create a duplicate of the dataFrame\n",
    "\n",
    "df_copy1 = df.copy()\n",
    "df_copy2 = df.copy()\n",
    "\n",
    "df_copy1.head()"
   ],
   "id": "43a70cc3b8c72e37",
   "outputs": [
    {
     "data": {
      "text/plain": [
       "   Unnamed: 0       vichle_names   mpg  cyl   disp     hp  drat     wt   qsec  \\\n",
       "0           0          Mazda RX4  21.0    6  160.0  110.0  3.90  2.620  16.46   \n",
       "1           1      Mazda RX4 Wag  21.0    6  160.0  110.0  3.90  2.875  17.02   \n",
       "2           2         Datsun 710   NaN    4  108.0   93.0  3.85  2.320  18.61   \n",
       "3           3     Hornet 4 Drive  21.4    6  258.0    NaN  3.08  3.215  19.44   \n",
       "4           4  Hornet Sportabout  18.7    8  360.0  175.0  3.15  3.440  17.02   \n",
       "\n",
       "   v_Shape   am  gear  carb  \n",
       "0      0.0  1.0   4.0     4  \n",
       "1      0.0  1.0   4.0     4  \n",
       "2      1.0  1.0   4.0     1  \n",
       "3      1.0  0.0   3.0     1  \n",
       "4      0.0  0.0   NaN     2  "
      ],
      "text/html": [
       "<div>\n",
       "<style scoped>\n",
       "    .dataframe tbody tr th:only-of-type {\n",
       "        vertical-align: middle;\n",
       "    }\n",
       "\n",
       "    .dataframe tbody tr th {\n",
       "        vertical-align: top;\n",
       "    }\n",
       "\n",
       "    .dataframe thead th {\n",
       "        text-align: right;\n",
       "    }\n",
       "</style>\n",
       "<table border=\"1\" class=\"dataframe\">\n",
       "  <thead>\n",
       "    <tr style=\"text-align: right;\">\n",
       "      <th></th>\n",
       "      <th>Unnamed: 0</th>\n",
       "      <th>vichle_names</th>\n",
       "      <th>mpg</th>\n",
       "      <th>cyl</th>\n",
       "      <th>disp</th>\n",
       "      <th>hp</th>\n",
       "      <th>drat</th>\n",
       "      <th>wt</th>\n",
       "      <th>qsec</th>\n",
       "      <th>v_Shape</th>\n",
       "      <th>am</th>\n",
       "      <th>gear</th>\n",
       "      <th>carb</th>\n",
       "    </tr>\n",
       "  </thead>\n",
       "  <tbody>\n",
       "    <tr>\n",
       "      <th>0</th>\n",
       "      <td>0</td>\n",
       "      <td>Mazda RX4</td>\n",
       "      <td>21.0</td>\n",
       "      <td>6</td>\n",
       "      <td>160.0</td>\n",
       "      <td>110.0</td>\n",
       "      <td>3.90</td>\n",
       "      <td>2.620</td>\n",
       "      <td>16.46</td>\n",
       "      <td>0.0</td>\n",
       "      <td>1.0</td>\n",
       "      <td>4.0</td>\n",
       "      <td>4</td>\n",
       "    </tr>\n",
       "    <tr>\n",
       "      <th>1</th>\n",
       "      <td>1</td>\n",
       "      <td>Mazda RX4 Wag</td>\n",
       "      <td>21.0</td>\n",
       "      <td>6</td>\n",
       "      <td>160.0</td>\n",
       "      <td>110.0</td>\n",
       "      <td>3.90</td>\n",
       "      <td>2.875</td>\n",
       "      <td>17.02</td>\n",
       "      <td>0.0</td>\n",
       "      <td>1.0</td>\n",
       "      <td>4.0</td>\n",
       "      <td>4</td>\n",
       "    </tr>\n",
       "    <tr>\n",
       "      <th>2</th>\n",
       "      <td>2</td>\n",
       "      <td>Datsun 710</td>\n",
       "      <td>NaN</td>\n",
       "      <td>4</td>\n",
       "      <td>108.0</td>\n",
       "      <td>93.0</td>\n",
       "      <td>3.85</td>\n",
       "      <td>2.320</td>\n",
       "      <td>18.61</td>\n",
       "      <td>1.0</td>\n",
       "      <td>1.0</td>\n",
       "      <td>4.0</td>\n",
       "      <td>1</td>\n",
       "    </tr>\n",
       "    <tr>\n",
       "      <th>3</th>\n",
       "      <td>3</td>\n",
       "      <td>Hornet 4 Drive</td>\n",
       "      <td>21.4</td>\n",
       "      <td>6</td>\n",
       "      <td>258.0</td>\n",
       "      <td>NaN</td>\n",
       "      <td>3.08</td>\n",
       "      <td>3.215</td>\n",
       "      <td>19.44</td>\n",
       "      <td>1.0</td>\n",
       "      <td>0.0</td>\n",
       "      <td>3.0</td>\n",
       "      <td>1</td>\n",
       "    </tr>\n",
       "    <tr>\n",
       "      <th>4</th>\n",
       "      <td>4</td>\n",
       "      <td>Hornet Sportabout</td>\n",
       "      <td>18.7</td>\n",
       "      <td>8</td>\n",
       "      <td>360.0</td>\n",
       "      <td>175.0</td>\n",
       "      <td>3.15</td>\n",
       "      <td>3.440</td>\n",
       "      <td>17.02</td>\n",
       "      <td>0.0</td>\n",
       "      <td>0.0</td>\n",
       "      <td>NaN</td>\n",
       "      <td>2</td>\n",
       "    </tr>\n",
       "  </tbody>\n",
       "</table>\n",
       "</div>"
      ]
     },
     "execution_count": 17,
     "metadata": {},
     "output_type": "execute_result"
    }
   ],
   "execution_count": 17
  },
  {
   "metadata": {
    "ExecuteTime": {
     "end_time": "2024-06-27T02:10:52.709283Z",
     "start_time": "2024-06-27T02:10:52.704632Z"
    }
   },
   "cell_type": "code",
   "source": "df_copy1.dtypes",
   "id": "f695a7817203d7b4",
   "outputs": [
    {
     "data": {
      "text/plain": [
       "Unnamed: 0        int64\n",
       "vichle_names     object\n",
       "mpg             float64\n",
       "cyl               int64\n",
       "disp            float64\n",
       "hp              float64\n",
       "drat            float64\n",
       "wt              float64\n",
       "qsec            float64\n",
       "v_Shape         float64\n",
       "am              float64\n",
       "gear            float64\n",
       "carb              int64\n",
       "dtype: object"
      ]
     },
     "execution_count": 18,
     "metadata": {},
     "output_type": "execute_result"
    }
   ],
   "execution_count": 18
  },
  {
   "metadata": {
    "ExecuteTime": {
     "end_time": "2024-06-27T02:10:56.801254Z",
     "start_time": "2024-06-27T02:10:56.790259Z"
    }
   },
   "cell_type": "code",
   "source": [
    "# replace missing values with mean\n",
    "df_copy1 = df_copy1.fillna(df_copy1.mean)\n",
    "\n",
    "df_copy1.isna().sum()"
   ],
   "id": "bf78bc6a8ac4cc93",
   "outputs": [
    {
     "data": {
      "text/plain": [
       "Unnamed: 0      0\n",
       "vichle_names    0\n",
       "mpg             0\n",
       "cyl             0\n",
       "disp            0\n",
       "hp              0\n",
       "drat            0\n",
       "wt              0\n",
       "qsec            0\n",
       "v_Shape         0\n",
       "am              0\n",
       "gear            0\n",
       "carb            0\n",
       "dtype: int64"
      ]
     },
     "execution_count": 19,
     "metadata": {},
     "output_type": "execute_result"
    }
   ],
   "execution_count": 19
  },
  {
   "metadata": {
    "ExecuteTime": {
     "end_time": "2024-06-27T02:11:06.002366Z",
     "start_time": "2024-06-27T02:11:05.990021Z"
    }
   },
   "cell_type": "code",
   "source": [
    "# replace missing values with mode\n",
    "df_copy2.fillna(df_copy2.mode().iloc[0], inplace=True)\n",
    "\n",
    "df_copy2.isna().sum()\n"
   ],
   "id": "b4c30271d2a889c2",
   "outputs": [
    {
     "data": {
      "text/plain": [
       "Unnamed: 0      0\n",
       "vichle_names    0\n",
       "mpg             0\n",
       "cyl             0\n",
       "disp            0\n",
       "hp              0\n",
       "drat            0\n",
       "wt              0\n",
       "qsec            0\n",
       "v_Shape         0\n",
       "am              0\n",
       "gear            0\n",
       "carb            0\n",
       "dtype: int64"
      ]
     },
     "execution_count": 20,
     "metadata": {},
     "output_type": "execute_result"
    }
   ],
   "execution_count": 20
  },
  {
   "metadata": {
    "ExecuteTime": {
     "end_time": "2024-06-27T02:11:53.473484Z",
     "start_time": "2024-06-27T02:11:53.458382Z"
    }
   },
   "cell_type": "code",
   "source": [
    "# to separate categorical and numerical columns\n",
    "\n",
    "categorical_columns = df.select_dtypes(include=['object']).columns\n",
    "numerical_columns = df.select_dtypes(include=['number']).columns\n",
    "\n",
    "df_cat = df[categorical_columns]\n",
    "df_num = df[numerical_columns]\n",
    "\n",
    "df_cat.head(), df_num.head()"
   ],
   "id": "19a262936ccf70f8",
   "outputs": [
    {
     "data": {
      "text/plain": [
       "(        vichle_names\n",
       " 0          Mazda RX4\n",
       " 1      Mazda RX4 Wag\n",
       " 2         Datsun 710\n",
       " 3     Hornet 4 Drive\n",
       " 4  Hornet Sportabout,\n",
       "    Unnamed: 0   mpg  cyl   disp     hp  drat     wt   qsec  v_Shape   am  \\\n",
       " 0           0  21.0    6  160.0  110.0  3.90  2.620  16.46      0.0  1.0   \n",
       " 1           1  21.0    6  160.0  110.0  3.90  2.875  17.02      0.0  1.0   \n",
       " 2           2   NaN    4  108.0   93.0  3.85  2.320  18.61      1.0  1.0   \n",
       " 3           3  21.4    6  258.0    NaN  3.08  3.215  19.44      1.0  0.0   \n",
       " 4           4  18.7    8  360.0  175.0  3.15  3.440  17.02      0.0  0.0   \n",
       " \n",
       "    gear  carb  \n",
       " 0   4.0     4  \n",
       " 1   4.0     4  \n",
       " 2   4.0     1  \n",
       " 3   3.0     1  \n",
       " 4   NaN     2  )"
      ]
     },
     "execution_count": 22,
     "metadata": {},
     "output_type": "execute_result"
    }
   ],
   "execution_count": 22
  },
  {
   "metadata": {
    "ExecuteTime": {
     "end_time": "2024-06-27T02:12:09.828912Z",
     "start_time": "2024-06-27T02:12:09.798549Z"
    }
   },
   "cell_type": "code",
   "source": [
    "name = ['carb', 'milk', 'eggs', 'bicycle']\n",
    "deg = ['MBA', 'BCA', 'M.Tech', 'MBA']\n",
    "scr = [90, 40, 80, 98]\n",
    "\n",
    "dict_xyz = {'name': name, 'deg': deg, 'scr': scr}\n",
    "\n",
    "df1 = pd.DataFrame(dict_xyz)\n",
    "\n",
    "df1"
   ],
   "id": "ad639c9b43356032",
   "outputs": [
    {
     "data": {
      "text/plain": [
       "      name     deg  scr\n",
       "0     carb     MBA   90\n",
       "1     milk     BCA   40\n",
       "2     eggs  M.Tech   80\n",
       "3  bicycle     MBA   98"
      ],
      "text/html": [
       "<div>\n",
       "<style scoped>\n",
       "    .dataframe tbody tr th:only-of-type {\n",
       "        vertical-align: middle;\n",
       "    }\n",
       "\n",
       "    .dataframe tbody tr th {\n",
       "        vertical-align: top;\n",
       "    }\n",
       "\n",
       "    .dataframe thead th {\n",
       "        text-align: right;\n",
       "    }\n",
       "</style>\n",
       "<table border=\"1\" class=\"dataframe\">\n",
       "  <thead>\n",
       "    <tr style=\"text-align: right;\">\n",
       "      <th></th>\n",
       "      <th>name</th>\n",
       "      <th>deg</th>\n",
       "      <th>scr</th>\n",
       "    </tr>\n",
       "  </thead>\n",
       "  <tbody>\n",
       "    <tr>\n",
       "      <th>0</th>\n",
       "      <td>carb</td>\n",
       "      <td>MBA</td>\n",
       "      <td>90</td>\n",
       "    </tr>\n",
       "    <tr>\n",
       "      <th>1</th>\n",
       "      <td>milk</td>\n",
       "      <td>BCA</td>\n",
       "      <td>40</td>\n",
       "    </tr>\n",
       "    <tr>\n",
       "      <th>2</th>\n",
       "      <td>eggs</td>\n",
       "      <td>M.Tech</td>\n",
       "      <td>80</td>\n",
       "    </tr>\n",
       "    <tr>\n",
       "      <th>3</th>\n",
       "      <td>bicycle</td>\n",
       "      <td>MBA</td>\n",
       "      <td>98</td>\n",
       "    </tr>\n",
       "  </tbody>\n",
       "</table>\n",
       "</div>"
      ]
     },
     "execution_count": 23,
     "metadata": {},
     "output_type": "execute_result"
    }
   ],
   "execution_count": 23
  },
  {
   "metadata": {
    "ExecuteTime": {
     "end_time": "2024-06-27T02:12:53.922795Z",
     "start_time": "2024-06-27T02:12:53.920627Z"
    }
   },
   "cell_type": "code",
   "source": "df1.index.name",
   "id": "7e9aeae8db8a676e",
   "outputs": [],
   "execution_count": 26
  },
  {
   "metadata": {
    "ExecuteTime": {
     "end_time": "2024-06-27T02:13:08.138644Z",
     "start_time": "2024-06-27T02:13:08.136789Z"
    }
   },
   "cell_type": "code",
   "source": "df1.index.name = 'my_index'",
   "id": "66f085a54bd91dec",
   "outputs": [],
   "execution_count": 28
  },
  {
   "metadata": {
    "ExecuteTime": {
     "end_time": "2024-06-27T02:13:08.983389Z",
     "start_time": "2024-06-27T02:13:08.979768Z"
    }
   },
   "cell_type": "code",
   "source": "df1.index.name",
   "id": "c07ce551a5c1b2c",
   "outputs": [
    {
     "data": {
      "text/plain": [
       "'my_index'"
      ]
     },
     "execution_count": 29,
     "metadata": {},
     "output_type": "execute_result"
    }
   ],
   "execution_count": 29
  },
  {
   "metadata": {
    "ExecuteTime": {
     "end_time": "2024-06-27T02:13:20.791863Z",
     "start_time": "2024-06-27T02:13:20.761397Z"
    }
   },
   "cell_type": "code",
   "source": "df1",
   "id": "8d83f5d536acbda",
   "outputs": [
    {
     "data": {
      "text/plain": [
       "             name     deg  scr\n",
       "my_index                      \n",
       "0            carb     MBA   90\n",
       "1            milk     BCA   40\n",
       "2            eggs  M.Tech   80\n",
       "3         bicycle     MBA   98"
      ],
      "text/html": [
       "<div>\n",
       "<style scoped>\n",
       "    .dataframe tbody tr th:only-of-type {\n",
       "        vertical-align: middle;\n",
       "    }\n",
       "\n",
       "    .dataframe tbody tr th {\n",
       "        vertical-align: top;\n",
       "    }\n",
       "\n",
       "    .dataframe thead th {\n",
       "        text-align: right;\n",
       "    }\n",
       "</style>\n",
       "<table border=\"1\" class=\"dataframe\">\n",
       "  <thead>\n",
       "    <tr style=\"text-align: right;\">\n",
       "      <th></th>\n",
       "      <th>name</th>\n",
       "      <th>deg</th>\n",
       "      <th>scr</th>\n",
       "    </tr>\n",
       "    <tr>\n",
       "      <th>my_index</th>\n",
       "      <th></th>\n",
       "      <th></th>\n",
       "      <th></th>\n",
       "    </tr>\n",
       "  </thead>\n",
       "  <tbody>\n",
       "    <tr>\n",
       "      <th>0</th>\n",
       "      <td>carb</td>\n",
       "      <td>MBA</td>\n",
       "      <td>90</td>\n",
       "    </tr>\n",
       "    <tr>\n",
       "      <th>1</th>\n",
       "      <td>milk</td>\n",
       "      <td>BCA</td>\n",
       "      <td>40</td>\n",
       "    </tr>\n",
       "    <tr>\n",
       "      <th>2</th>\n",
       "      <td>eggs</td>\n",
       "      <td>M.Tech</td>\n",
       "      <td>80</td>\n",
       "    </tr>\n",
       "    <tr>\n",
       "      <th>3</th>\n",
       "      <td>bicycle</td>\n",
       "      <td>MBA</td>\n",
       "      <td>98</td>\n",
       "    </tr>\n",
       "  </tbody>\n",
       "</table>\n",
       "</div>"
      ]
     },
     "execution_count": 30,
     "metadata": {},
     "output_type": "execute_result"
    }
   ],
   "execution_count": 30
  },
  {
   "metadata": {
    "ExecuteTime": {
     "end_time": "2024-05-08T03:13:39.966408Z",
     "start_time": "2024-05-08T03:13:39.962186Z"
    }
   },
   "cell_type": "code",
   "source": [
    "# to save as csv file\n",
    "\n",
    "df1.to_csv('./file1.csv')"
   ],
   "id": "89ac19ec2cb8d1d3",
   "execution_count": 404,
   "outputs": []
  },
  {
   "metadata": {
    "ExecuteTime": {
     "end_time": "2024-05-08T03:13:39.998461Z",
     "start_time": "2024-05-08T03:13:39.995457Z"
    }
   },
   "cell_type": "code",
   "source": [
    "# to save as json file\n",
    "\n",
    "df1.to_json('./file1.json')"
   ],
   "id": "2ab740c6922030fa",
   "execution_count": 405,
   "outputs": []
  },
  {
   "metadata": {
    "ExecuteTime": {
     "end_time": "2024-06-27T02:14:32.788179Z",
     "start_time": "2024-06-27T02:14:32.759500Z"
    }
   },
   "cell_type": "code",
   "source": [
    "# read json file with pandas\n",
    "\n",
    "df2 = pd.read_json('./file1.json')"
   ],
   "id": "974db4073a449826",
   "outputs": [],
   "execution_count": 31
  },
  {
   "metadata": {
    "ExecuteTime": {
     "end_time": "2024-06-27T02:14:33.688643Z",
     "start_time": "2024-06-27T02:14:33.684195Z"
    }
   },
   "cell_type": "code",
   "source": "df2",
   "id": "e527390821671c80",
   "outputs": [
    {
     "data": {
      "text/plain": [
       "      name     deg  scr\n",
       "0     carb     MBA   90\n",
       "1     milk     BCA   40\n",
       "2     eggs  M.Tech   80\n",
       "3  bicycle     MBA   98"
      ],
      "text/html": [
       "<div>\n",
       "<style scoped>\n",
       "    .dataframe tbody tr th:only-of-type {\n",
       "        vertical-align: middle;\n",
       "    }\n",
       "\n",
       "    .dataframe tbody tr th {\n",
       "        vertical-align: top;\n",
       "    }\n",
       "\n",
       "    .dataframe thead th {\n",
       "        text-align: right;\n",
       "    }\n",
       "</style>\n",
       "<table border=\"1\" class=\"dataframe\">\n",
       "  <thead>\n",
       "    <tr style=\"text-align: right;\">\n",
       "      <th></th>\n",
       "      <th>name</th>\n",
       "      <th>deg</th>\n",
       "      <th>scr</th>\n",
       "    </tr>\n",
       "  </thead>\n",
       "  <tbody>\n",
       "    <tr>\n",
       "      <th>0</th>\n",
       "      <td>carb</td>\n",
       "      <td>MBA</td>\n",
       "      <td>90</td>\n",
       "    </tr>\n",
       "    <tr>\n",
       "      <th>1</th>\n",
       "      <td>milk</td>\n",
       "      <td>BCA</td>\n",
       "      <td>40</td>\n",
       "    </tr>\n",
       "    <tr>\n",
       "      <th>2</th>\n",
       "      <td>eggs</td>\n",
       "      <td>M.Tech</td>\n",
       "      <td>80</td>\n",
       "    </tr>\n",
       "    <tr>\n",
       "      <th>3</th>\n",
       "      <td>bicycle</td>\n",
       "      <td>MBA</td>\n",
       "      <td>98</td>\n",
       "    </tr>\n",
       "  </tbody>\n",
       "</table>\n",
       "</div>"
      ]
     },
     "execution_count": 32,
     "metadata": {},
     "output_type": "execute_result"
    }
   ],
   "execution_count": 32
  },
  {
   "metadata": {
    "ExecuteTime": {
     "end_time": "2024-06-27T02:04:42.100303Z",
     "start_time": "2024-06-27T02:04:41.149781Z"
    }
   },
   "cell_type": "code",
   "source": [
    "# create 100 samples with 3 features\n",
    "\n",
    "from sklearn.datasets import make_regression\n",
    "\n",
    "# n_samples = number of rows\n",
    "# n_features = number of features you want to generate for this regression\n",
    "# n_informative = number of features used to build the linear model used to generate the output\n",
    "# n_target = the number of target features you want to work with\n",
    "# noise = if you want noise in your values\n",
    "# coefficient = in linear regression (y = B1X1 + B2X2) here B1 & B2 is the coefficient\n",
    "# random state = if you want to use random data in your regression values\n",
    "\n",
    "features, target, coefficient = make_regression(\n",
    "    n_samples=100, n_features=3, n_informative=3, n_targets=1, noise=0.0, coef=True, random_state=1\n",
    ")\n",
    "\n",
    "print('Feature Matrix  \\n', features[:3])\n",
    "print('\\nTarget Vector  \\n', target[:3])\n",
    "print('\\nCoefficient Vector  \\n', coefficient[:3])\n"
   ],
   "id": "f6928742b3014981",
   "outputs": [
    {
     "name": "stdout",
     "output_type": "stream",
     "text": [
      "Feature Matrix  \n",
      " [[ 1.29322588 -0.61736206 -0.11044703]\n",
      " [-2.793085    0.36633201  1.93752881]\n",
      " [ 0.80186103 -0.18656977  0.0465673 ]]\n",
      "\n",
      "Target Vector  \n",
      " [-10.37865986  25.5124503   19.67705609]\n",
      "\n",
      "Coefficient Vector  \n",
      " [44.19042807 98.97517077 58.15774073]\n"
     ]
    }
   ],
   "execution_count": 2
  },
  {
   "metadata": {
    "ExecuteTime": {
     "end_time": "2024-06-27T02:05:05.782795Z",
     "start_time": "2024-06-27T02:05:05.777483Z"
    }
   },
   "cell_type": "code",
   "source": "type(coefficient)",
   "id": "fa8bfd507ef78a53",
   "outputs": [
    {
     "data": {
      "text/plain": [
       "numpy.ndarray"
      ]
     },
     "execution_count": 5,
     "metadata": {},
     "output_type": "execute_result"
    }
   ],
   "execution_count": 5
  },
  {
   "metadata": {},
   "cell_type": "code",
   "outputs": [],
   "execution_count": null,
   "source": "",
   "id": "2d0d4b039528a745"
  }
 ],
 "metadata": {
  "kernelspec": {
   "display_name": "Python 3",
   "language": "python",
   "name": "python3"
  },
  "language_info": {
   "codemirror_mode": {
    "name": "ipython",
    "version": 2
   },
   "file_extension": ".py",
   "mimetype": "text/x-python",
   "name": "python",
   "nbconvert_exporter": "python",
   "pygments_lexer": "ipython2",
   "version": "2.7.6"
  }
 },
 "nbformat": 4,
 "nbformat_minor": 5
}
