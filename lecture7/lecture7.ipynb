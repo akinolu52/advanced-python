{
 "cells": [
  {
   "metadata": {},
   "cell_type": "markdown",
   "source": "Feature engineering ",
   "id": "96bad8b3c684bc3"
  },
  {
   "metadata": {},
   "cell_type": "markdown",
   "source": "#### Normalization",
   "id": "b22f35245f44daee"
  },
  {
   "cell_type": "code",
   "id": "initial_id",
   "metadata": {
    "collapsed": true,
    "ExecuteTime": {
     "end_time": "2024-06-12T01:26:42.265373Z",
     "start_time": "2024-06-12T01:26:42.254012Z"
    }
   },
   "source": [
    "import numpy as np\n",
    "from sklearn import preprocessing"
   ],
   "outputs": [],
   "execution_count": 94
  },
  {
   "metadata": {
    "ExecuteTime": {
     "end_time": "2024-06-12T01:26:42.382004Z",
     "start_time": "2024-06-12T01:26:42.376797Z"
    }
   },
   "cell_type": "code",
   "source": [
    "feature = np.array([[-500.5], [-100.1], [0], [100.1], [900.9]])\n",
    "\n",
    "feature"
   ],
   "id": "d54c74f7edf80ed4",
   "outputs": [
    {
     "data": {
      "text/plain": [
       "array([[-500.5],\n",
       "       [-100.1],\n",
       "       [   0. ],\n",
       "       [ 100.1],\n",
       "       [ 900.9]])"
      ]
     },
     "execution_count": 95,
     "metadata": {},
     "output_type": "execute_result"
    }
   ],
   "execution_count": 95
  },
  {
   "metadata": {
    "ExecuteTime": {
     "end_time": "2024-06-12T01:26:42.402984Z",
     "start_time": "2024-06-12T01:26:42.388625Z"
    }
   },
   "cell_type": "code",
   "source": [
    "minmax_scale = preprocessing.MinMaxScaler(feature_range=(0, 1))\n",
    "\n",
    "minmax_scale"
   ],
   "id": "93ca750b761fb35",
   "outputs": [
    {
     "data": {
      "text/plain": [
       "MinMaxScaler()"
      ],
      "text/html": [
       "<style>#sk-container-id-3 {color: black;}#sk-container-id-3 pre{padding: 0;}#sk-container-id-3 div.sk-toggleable {background-color: white;}#sk-container-id-3 label.sk-toggleable__label {cursor: pointer;display: block;width: 100%;margin-bottom: 0;padding: 0.3em;box-sizing: border-box;text-align: center;}#sk-container-id-3 label.sk-toggleable__label-arrow:before {content: \"▸\";float: left;margin-right: 0.25em;color: #696969;}#sk-container-id-3 label.sk-toggleable__label-arrow:hover:before {color: black;}#sk-container-id-3 div.sk-estimator:hover label.sk-toggleable__label-arrow:before {color: black;}#sk-container-id-3 div.sk-toggleable__content {max-height: 0;max-width: 0;overflow: hidden;text-align: left;background-color: #f0f8ff;}#sk-container-id-3 div.sk-toggleable__content pre {margin: 0.2em;color: black;border-radius: 0.25em;background-color: #f0f8ff;}#sk-container-id-3 input.sk-toggleable__control:checked~div.sk-toggleable__content {max-height: 200px;max-width: 100%;overflow: auto;}#sk-container-id-3 input.sk-toggleable__control:checked~label.sk-toggleable__label-arrow:before {content: \"▾\";}#sk-container-id-3 div.sk-estimator input.sk-toggleable__control:checked~label.sk-toggleable__label {background-color: #d4ebff;}#sk-container-id-3 div.sk-label input.sk-toggleable__control:checked~label.sk-toggleable__label {background-color: #d4ebff;}#sk-container-id-3 input.sk-hidden--visually {border: 0;clip: rect(1px 1px 1px 1px);clip: rect(1px, 1px, 1px, 1px);height: 1px;margin: -1px;overflow: hidden;padding: 0;position: absolute;width: 1px;}#sk-container-id-3 div.sk-estimator {font-family: monospace;background-color: #f0f8ff;border: 1px dotted black;border-radius: 0.25em;box-sizing: border-box;margin-bottom: 0.5em;}#sk-container-id-3 div.sk-estimator:hover {background-color: #d4ebff;}#sk-container-id-3 div.sk-parallel-item::after {content: \"\";width: 100%;border-bottom: 1px solid gray;flex-grow: 1;}#sk-container-id-3 div.sk-label:hover label.sk-toggleable__label {background-color: #d4ebff;}#sk-container-id-3 div.sk-serial::before {content: \"\";position: absolute;border-left: 1px solid gray;box-sizing: border-box;top: 0;bottom: 0;left: 50%;z-index: 0;}#sk-container-id-3 div.sk-serial {display: flex;flex-direction: column;align-items: center;background-color: white;padding-right: 0.2em;padding-left: 0.2em;position: relative;}#sk-container-id-3 div.sk-item {position: relative;z-index: 1;}#sk-container-id-3 div.sk-parallel {display: flex;align-items: stretch;justify-content: center;background-color: white;position: relative;}#sk-container-id-3 div.sk-item::before, #sk-container-id-3 div.sk-parallel-item::before {content: \"\";position: absolute;border-left: 1px solid gray;box-sizing: border-box;top: 0;bottom: 0;left: 50%;z-index: -1;}#sk-container-id-3 div.sk-parallel-item {display: flex;flex-direction: column;z-index: 1;position: relative;background-color: white;}#sk-container-id-3 div.sk-parallel-item:first-child::after {align-self: flex-end;width: 50%;}#sk-container-id-3 div.sk-parallel-item:last-child::after {align-self: flex-start;width: 50%;}#sk-container-id-3 div.sk-parallel-item:only-child::after {width: 0;}#sk-container-id-3 div.sk-dashed-wrapped {border: 1px dashed gray;margin: 0 0.4em 0.5em 0.4em;box-sizing: border-box;padding-bottom: 0.4em;background-color: white;}#sk-container-id-3 div.sk-label label {font-family: monospace;font-weight: bold;display: inline-block;line-height: 1.2em;}#sk-container-id-3 div.sk-label-container {text-align: center;}#sk-container-id-3 div.sk-container {/* jupyter's `normalize.less` sets `[hidden] { display: none; }` but bootstrap.min.css set `[hidden] { display: none !important; }` so we also need the `!important` here to be able to override the default hidden behavior on the sphinx rendered scikit-learn.org. See: https://github.com/scikit-learn/scikit-learn/issues/21755 */display: inline-block !important;position: relative;}#sk-container-id-3 div.sk-text-repr-fallback {display: none;}</style><div id=\"sk-container-id-3\" class=\"sk-top-container\"><div class=\"sk-text-repr-fallback\"><pre>MinMaxScaler()</pre><b>In a Jupyter environment, please rerun this cell to show the HTML representation or trust the notebook. <br />On GitHub, the HTML representation is unable to render, please try loading this page with nbviewer.org.</b></div><div class=\"sk-container\" hidden><div class=\"sk-item\"><div class=\"sk-estimator sk-toggleable\"><input class=\"sk-toggleable__control sk-hidden--visually\" id=\"sk-estimator-id-3\" type=\"checkbox\" checked><label for=\"sk-estimator-id-3\" class=\"sk-toggleable__label sk-toggleable__label-arrow\">MinMaxScaler</label><div class=\"sk-toggleable__content\"><pre>MinMaxScaler()</pre></div></div></div></div></div>"
      ]
     },
     "execution_count": 96,
     "metadata": {},
     "output_type": "execute_result"
    }
   ],
   "execution_count": 96
  },
  {
   "metadata": {
    "ExecuteTime": {
     "end_time": "2024-06-12T01:26:42.436129Z",
     "start_time": "2024-06-12T01:26:42.413306Z"
    }
   },
   "cell_type": "code",
   "source": [
    "scaled_feature = minmax_scale.fit_transform(feature)\n",
    "\n",
    "scaled_feature"
   ],
   "id": "19c56ef028d6e72c",
   "outputs": [
    {
     "data": {
      "text/plain": [
       "array([[0.        ],\n",
       "       [0.28571429],\n",
       "       [0.35714286],\n",
       "       [0.42857143],\n",
       "       [1.        ]])"
      ]
     },
     "execution_count": 97,
     "metadata": {},
     "output_type": "execute_result"
    }
   ],
   "execution_count": 97
  },
  {
   "metadata": {},
   "cell_type": "markdown",
   "source": [
    "Standardization\n",
    "\n",
    "(mostly preferred)\n",
    "\n",
    "here average is 0 & standard deviation is 1"
   ],
   "id": "603add1e9ec91266"
  },
  {
   "metadata": {
    "ExecuteTime": {
     "end_time": "2024-06-12T01:26:42.439815Z",
     "start_time": "2024-06-12T01:26:42.438262Z"
    }
   },
   "cell_type": "code",
   "source": [
    "import numpy as np\n",
    "from sklearn import preprocessing"
   ],
   "id": "bf6a576731b1013",
   "outputs": [],
   "execution_count": 98
  },
  {
   "metadata": {
    "ExecuteTime": {
     "end_time": "2024-06-12T01:26:42.454078Z",
     "start_time": "2024-06-12T01:26:42.450531Z"
    }
   },
   "cell_type": "code",
   "source": [
    "x = np.array([[-1000.1], [-200.2], [500.5], [600.6], [9000.9]])\n",
    "\n",
    "x"
   ],
   "id": "449bf98f144fec41",
   "outputs": [
    {
     "data": {
      "text/plain": [
       "array([[-1000.1],\n",
       "       [ -200.2],\n",
       "       [  500.5],\n",
       "       [  600.6],\n",
       "       [ 9000.9]])"
      ]
     },
     "execution_count": 99,
     "metadata": {},
     "output_type": "execute_result"
    }
   ],
   "execution_count": 99
  },
  {
   "metadata": {
    "ExecuteTime": {
     "end_time": "2024-06-12T01:26:42.478304Z",
     "start_time": "2024-06-12T01:26:42.475728Z"
    }
   },
   "cell_type": "code",
   "source": [
    "scaler = preprocessing.StandardScaler()\n",
    "\n",
    "scaler"
   ],
   "id": "b9d01fb509f253cd",
   "outputs": [
    {
     "data": {
      "text/plain": [
       "StandardScaler()"
      ],
      "text/html": [
       "<style>#sk-container-id-4 {color: black;}#sk-container-id-4 pre{padding: 0;}#sk-container-id-4 div.sk-toggleable {background-color: white;}#sk-container-id-4 label.sk-toggleable__label {cursor: pointer;display: block;width: 100%;margin-bottom: 0;padding: 0.3em;box-sizing: border-box;text-align: center;}#sk-container-id-4 label.sk-toggleable__label-arrow:before {content: \"▸\";float: left;margin-right: 0.25em;color: #696969;}#sk-container-id-4 label.sk-toggleable__label-arrow:hover:before {color: black;}#sk-container-id-4 div.sk-estimator:hover label.sk-toggleable__label-arrow:before {color: black;}#sk-container-id-4 div.sk-toggleable__content {max-height: 0;max-width: 0;overflow: hidden;text-align: left;background-color: #f0f8ff;}#sk-container-id-4 div.sk-toggleable__content pre {margin: 0.2em;color: black;border-radius: 0.25em;background-color: #f0f8ff;}#sk-container-id-4 input.sk-toggleable__control:checked~div.sk-toggleable__content {max-height: 200px;max-width: 100%;overflow: auto;}#sk-container-id-4 input.sk-toggleable__control:checked~label.sk-toggleable__label-arrow:before {content: \"▾\";}#sk-container-id-4 div.sk-estimator input.sk-toggleable__control:checked~label.sk-toggleable__label {background-color: #d4ebff;}#sk-container-id-4 div.sk-label input.sk-toggleable__control:checked~label.sk-toggleable__label {background-color: #d4ebff;}#sk-container-id-4 input.sk-hidden--visually {border: 0;clip: rect(1px 1px 1px 1px);clip: rect(1px, 1px, 1px, 1px);height: 1px;margin: -1px;overflow: hidden;padding: 0;position: absolute;width: 1px;}#sk-container-id-4 div.sk-estimator {font-family: monospace;background-color: #f0f8ff;border: 1px dotted black;border-radius: 0.25em;box-sizing: border-box;margin-bottom: 0.5em;}#sk-container-id-4 div.sk-estimator:hover {background-color: #d4ebff;}#sk-container-id-4 div.sk-parallel-item::after {content: \"\";width: 100%;border-bottom: 1px solid gray;flex-grow: 1;}#sk-container-id-4 div.sk-label:hover label.sk-toggleable__label {background-color: #d4ebff;}#sk-container-id-4 div.sk-serial::before {content: \"\";position: absolute;border-left: 1px solid gray;box-sizing: border-box;top: 0;bottom: 0;left: 50%;z-index: 0;}#sk-container-id-4 div.sk-serial {display: flex;flex-direction: column;align-items: center;background-color: white;padding-right: 0.2em;padding-left: 0.2em;position: relative;}#sk-container-id-4 div.sk-item {position: relative;z-index: 1;}#sk-container-id-4 div.sk-parallel {display: flex;align-items: stretch;justify-content: center;background-color: white;position: relative;}#sk-container-id-4 div.sk-item::before, #sk-container-id-4 div.sk-parallel-item::before {content: \"\";position: absolute;border-left: 1px solid gray;box-sizing: border-box;top: 0;bottom: 0;left: 50%;z-index: -1;}#sk-container-id-4 div.sk-parallel-item {display: flex;flex-direction: column;z-index: 1;position: relative;background-color: white;}#sk-container-id-4 div.sk-parallel-item:first-child::after {align-self: flex-end;width: 50%;}#sk-container-id-4 div.sk-parallel-item:last-child::after {align-self: flex-start;width: 50%;}#sk-container-id-4 div.sk-parallel-item:only-child::after {width: 0;}#sk-container-id-4 div.sk-dashed-wrapped {border: 1px dashed gray;margin: 0 0.4em 0.5em 0.4em;box-sizing: border-box;padding-bottom: 0.4em;background-color: white;}#sk-container-id-4 div.sk-label label {font-family: monospace;font-weight: bold;display: inline-block;line-height: 1.2em;}#sk-container-id-4 div.sk-label-container {text-align: center;}#sk-container-id-4 div.sk-container {/* jupyter's `normalize.less` sets `[hidden] { display: none; }` but bootstrap.min.css set `[hidden] { display: none !important; }` so we also need the `!important` here to be able to override the default hidden behavior on the sphinx rendered scikit-learn.org. See: https://github.com/scikit-learn/scikit-learn/issues/21755 */display: inline-block !important;position: relative;}#sk-container-id-4 div.sk-text-repr-fallback {display: none;}</style><div id=\"sk-container-id-4\" class=\"sk-top-container\"><div class=\"sk-text-repr-fallback\"><pre>StandardScaler()</pre><b>In a Jupyter environment, please rerun this cell to show the HTML representation or trust the notebook. <br />On GitHub, the HTML representation is unable to render, please try loading this page with nbviewer.org.</b></div><div class=\"sk-container\" hidden><div class=\"sk-item\"><div class=\"sk-estimator sk-toggleable\"><input class=\"sk-toggleable__control sk-hidden--visually\" id=\"sk-estimator-id-4\" type=\"checkbox\" checked><label for=\"sk-estimator-id-4\" class=\"sk-toggleable__label sk-toggleable__label-arrow\">StandardScaler</label><div class=\"sk-toggleable__content\"><pre>StandardScaler()</pre></div></div></div></div></div>"
      ]
     },
     "execution_count": 100,
     "metadata": {},
     "output_type": "execute_result"
    }
   ],
   "execution_count": 100
  },
  {
   "metadata": {
    "ExecuteTime": {
     "end_time": "2024-06-12T01:26:42.504505Z",
     "start_time": "2024-06-12T01:26:42.495299Z"
    }
   },
   "cell_type": "code",
   "source": [
    "standardized = scaler.fit_transform(x)\n",
    "\n",
    "standardized"
   ],
   "id": "49bdc488f76eb8e2",
   "outputs": [
    {
     "data": {
      "text/plain": [
       "array([[-0.76058269],\n",
       "       [-0.54177196],\n",
       "       [-0.35009716],\n",
       "       [-0.32271504],\n",
       "       [ 1.97516685]])"
      ]
     },
     "execution_count": 101,
     "metadata": {},
     "output_type": "execute_result"
    }
   ],
   "execution_count": 101
  },
  {
   "metadata": {},
   "cell_type": "markdown",
   "source": "standardization => distance based",
   "id": "85f4129723186346"
  },
  {
   "metadata": {},
   "cell_type": "markdown",
   "source": "### Outliers",
   "id": "5bdfefd4d8502a8f"
  },
  {
   "metadata": {
    "ExecuteTime": {
     "end_time": "2024-06-12T01:26:42.519245Z",
     "start_time": "2024-06-12T01:26:42.516338Z"
    }
   },
   "cell_type": "code",
   "source": "import pandas as pd",
   "id": "9b167a4449b68884",
   "outputs": [],
   "execution_count": 102
  },
  {
   "metadata": {
    "ExecuteTime": {
     "end_time": "2024-06-12T01:26:42.594806Z",
     "start_time": "2024-06-12T01:26:42.549156Z"
    }
   },
   "cell_type": "code",
   "source": [
    "df = pd.read_csv('./Practice_File.csv', usecols=['LotArea', 'SalePrice'])\n",
    "\n",
    "df.head()"
   ],
   "id": "d933d2899b69c6be",
   "outputs": [
    {
     "data": {
      "text/plain": [
       "   LotArea  SalePrice\n",
       "0     8450     208500\n",
       "1     9600     181500\n",
       "2    11250     223500\n",
       "3     9550     140000\n",
       "4    14260     250000"
      ],
      "text/html": [
       "<div>\n",
       "<style scoped>\n",
       "    .dataframe tbody tr th:only-of-type {\n",
       "        vertical-align: middle;\n",
       "    }\n",
       "\n",
       "    .dataframe tbody tr th {\n",
       "        vertical-align: top;\n",
       "    }\n",
       "\n",
       "    .dataframe thead th {\n",
       "        text-align: right;\n",
       "    }\n",
       "</style>\n",
       "<table border=\"1\" class=\"dataframe\">\n",
       "  <thead>\n",
       "    <tr style=\"text-align: right;\">\n",
       "      <th></th>\n",
       "      <th>LotArea</th>\n",
       "      <th>SalePrice</th>\n",
       "    </tr>\n",
       "  </thead>\n",
       "  <tbody>\n",
       "    <tr>\n",
       "      <th>0</th>\n",
       "      <td>8450</td>\n",
       "      <td>208500</td>\n",
       "    </tr>\n",
       "    <tr>\n",
       "      <th>1</th>\n",
       "      <td>9600</td>\n",
       "      <td>181500</td>\n",
       "    </tr>\n",
       "    <tr>\n",
       "      <th>2</th>\n",
       "      <td>11250</td>\n",
       "      <td>223500</td>\n",
       "    </tr>\n",
       "    <tr>\n",
       "      <th>3</th>\n",
       "      <td>9550</td>\n",
       "      <td>140000</td>\n",
       "    </tr>\n",
       "    <tr>\n",
       "      <th>4</th>\n",
       "      <td>14260</td>\n",
       "      <td>250000</td>\n",
       "    </tr>\n",
       "  </tbody>\n",
       "</table>\n",
       "</div>"
      ]
     },
     "execution_count": 103,
     "metadata": {},
     "output_type": "execute_result"
    }
   ],
   "execution_count": 103
  },
  {
   "metadata": {
    "ExecuteTime": {
     "end_time": "2024-06-12T01:26:42.607858Z",
     "start_time": "2024-06-12T01:26:42.596012Z"
    }
   },
   "cell_type": "code",
   "source": "df.describe()",
   "id": "6e8387490f3c2fac",
   "outputs": [
    {
     "data": {
      "text/plain": [
       "             LotArea      SalePrice\n",
       "count    1460.000000    1460.000000\n",
       "mean    10516.828082  180921.195890\n",
       "std      9981.264932   79442.502883\n",
       "min      1300.000000   34900.000000\n",
       "25%      7553.500000  129975.000000\n",
       "50%      9478.500000  163000.000000\n",
       "75%     11601.500000  214000.000000\n",
       "max    215245.000000  755000.000000"
      ],
      "text/html": [
       "<div>\n",
       "<style scoped>\n",
       "    .dataframe tbody tr th:only-of-type {\n",
       "        vertical-align: middle;\n",
       "    }\n",
       "\n",
       "    .dataframe tbody tr th {\n",
       "        vertical-align: top;\n",
       "    }\n",
       "\n",
       "    .dataframe thead th {\n",
       "        text-align: right;\n",
       "    }\n",
       "</style>\n",
       "<table border=\"1\" class=\"dataframe\">\n",
       "  <thead>\n",
       "    <tr style=\"text-align: right;\">\n",
       "      <th></th>\n",
       "      <th>LotArea</th>\n",
       "      <th>SalePrice</th>\n",
       "    </tr>\n",
       "  </thead>\n",
       "  <tbody>\n",
       "    <tr>\n",
       "      <th>count</th>\n",
       "      <td>1460.000000</td>\n",
       "      <td>1460.000000</td>\n",
       "    </tr>\n",
       "    <tr>\n",
       "      <th>mean</th>\n",
       "      <td>10516.828082</td>\n",
       "      <td>180921.195890</td>\n",
       "    </tr>\n",
       "    <tr>\n",
       "      <th>std</th>\n",
       "      <td>9981.264932</td>\n",
       "      <td>79442.502883</td>\n",
       "    </tr>\n",
       "    <tr>\n",
       "      <th>min</th>\n",
       "      <td>1300.000000</td>\n",
       "      <td>34900.000000</td>\n",
       "    </tr>\n",
       "    <tr>\n",
       "      <th>25%</th>\n",
       "      <td>7553.500000</td>\n",
       "      <td>129975.000000</td>\n",
       "    </tr>\n",
       "    <tr>\n",
       "      <th>50%</th>\n",
       "      <td>9478.500000</td>\n",
       "      <td>163000.000000</td>\n",
       "    </tr>\n",
       "    <tr>\n",
       "      <th>75%</th>\n",
       "      <td>11601.500000</td>\n",
       "      <td>214000.000000</td>\n",
       "    </tr>\n",
       "    <tr>\n",
       "      <th>max</th>\n",
       "      <td>215245.000000</td>\n",
       "      <td>755000.000000</td>\n",
       "    </tr>\n",
       "  </tbody>\n",
       "</table>\n",
       "</div>"
      ]
     },
     "execution_count": 104,
     "metadata": {},
     "output_type": "execute_result"
    }
   ],
   "execution_count": 104
  },
  {
   "metadata": {
    "ExecuteTime": {
     "end_time": "2024-06-12T01:26:42.621908Z",
     "start_time": "2024-06-12T01:26:42.615527Z"
    }
   },
   "cell_type": "code",
   "source": "df.isna().sum()",
   "id": "c4e2ccbfecac9ca",
   "outputs": [
    {
     "data": {
      "text/plain": [
       "LotArea      0\n",
       "SalePrice    0\n",
       "dtype: int64"
      ]
     },
     "execution_count": 105,
     "metadata": {},
     "output_type": "execute_result"
    }
   ],
   "execution_count": 105
  },
  {
   "metadata": {
    "ExecuteTime": {
     "end_time": "2024-06-12T01:26:42.639103Z",
     "start_time": "2024-06-12T01:26:42.635626Z"
    }
   },
   "cell_type": "code",
   "source": "df.shape",
   "id": "1c6a1fe873c30956",
   "outputs": [
    {
     "data": {
      "text/plain": [
       "(1460, 2)"
      ]
     },
     "execution_count": 106,
     "metadata": {},
     "output_type": "execute_result"
    }
   ],
   "execution_count": 106
  },
  {
   "metadata": {},
   "cell_type": "markdown",
   "source": "Outlier detection - IQR (Inter-Quantile Range)",
   "id": "420bc7bf43b54457"
  },
  {
   "metadata": {
    "ExecuteTime": {
     "end_time": "2024-06-12T01:26:42.670918Z",
     "start_time": "2024-06-12T01:26:42.665583Z"
    }
   },
   "cell_type": "code",
   "source": [
    "q1 = df['SalePrice'].quantile(.25)\n",
    "q3 = df['SalePrice'].quantile(.75)\n",
    "\n",
    "iqr = q3 - q1\n",
    "\n",
    "print('q1 : ', q1)\n",
    "print('q3 : ', q3)\n",
    "print('IQR : ', iqr)"
   ],
   "id": "814d2c19520ce4ff",
   "outputs": [
    {
     "name": "stdout",
     "output_type": "stream",
     "text": [
      "q1 :  129975.0\n",
      "q3 :  214000.0\n",
      "IQR :  84025.0\n"
     ]
    }
   ],
   "execution_count": 107
  },
  {
   "metadata": {
    "ExecuteTime": {
     "end_time": "2024-06-12T01:26:42.710984Z",
     "start_time": "2024-06-12T01:26:42.708764Z"
    }
   },
   "cell_type": "code",
   "source": [
    "lower_whisker = q1 - (1.5 * iqr)\n",
    "upper_whisker = q3 + (1.5 * iqr)\n",
    "\n",
    "print('lower whisker : ', lower_whisker)\n",
    "print('upper whisker : ', upper_whisker)"
   ],
   "id": "9a6dff70cf8fb64d",
   "outputs": [
    {
     "name": "stdout",
     "output_type": "stream",
     "text": [
      "lower whisker :  3937.5\n",
      "upper whisker :  340037.5\n"
     ]
    }
   ],
   "execution_count": 108
  },
  {
   "metadata": {
    "ExecuteTime": {
     "end_time": "2024-06-12T01:26:42.784555Z",
     "start_time": "2024-06-12T01:26:42.780950Z"
    }
   },
   "cell_type": "code",
   "source": "print((df['SalePrice'] < lower_whisker) | (df['SalePrice'] > upper_whisker))",
   "id": "647eacb3f5b06b7c",
   "outputs": [
    {
     "name": "stdout",
     "output_type": "stream",
     "text": [
      "0       False\n",
      "1       False\n",
      "2       False\n",
      "3       False\n",
      "4       False\n",
      "        ...  \n",
      "1455    False\n",
      "1456    False\n",
      "1457    False\n",
      "1458    False\n",
      "1459    False\n",
      "Name: SalePrice, Length: 1460, dtype: bool\n"
     ]
    }
   ],
   "execution_count": 109
  },
  {
   "metadata": {
    "ExecuteTime": {
     "end_time": "2024-06-12T01:26:42.849360Z",
     "start_time": "2024-06-12T01:26:42.843805Z"
    }
   },
   "cell_type": "code",
   "source": [
    "# outlier calculation\n",
    "\n",
    "new_df = df[(df['SalePrice'] > lower_whisker) & (df['SalePrice'] < upper_whisker)]\n",
    "\n",
    "new_df.shape"
   ],
   "id": "24159d0e3756a658",
   "outputs": [
    {
     "data": {
      "text/plain": [
       "(1399, 2)"
      ]
     },
     "execution_count": 110,
     "metadata": {},
     "output_type": "execute_result"
    }
   ],
   "execution_count": 110
  },
  {
   "metadata": {
    "ExecuteTime": {
     "end_time": "2024-06-12T01:26:42.870711Z",
     "start_time": "2024-06-12T01:26:42.865911Z"
    }
   },
   "cell_type": "code",
   "source": [
    "q1 = df.quantile(.25)\n",
    "q3 = df.quantile(.75)\n",
    "\n",
    "iqr = q3 - q1\n",
    "\n",
    "print('q1 : ')\n",
    "print(q1)\n",
    "print('q3 : ')\n",
    "print(q3)\n",
    "print('IQR : ')\n",
    "print(iqr)"
   ],
   "id": "5730b34e669055fc",
   "outputs": [
    {
     "name": "stdout",
     "output_type": "stream",
     "text": [
      "q1 : \n",
      "LotArea        7553.5\n",
      "SalePrice    129975.0\n",
      "Name: 0.25, dtype: float64\n",
      "q3 : \n",
      "LotArea       11601.5\n",
      "SalePrice    214000.0\n",
      "Name: 0.75, dtype: float64\n",
      "IQR : \n",
      "LotArea       4048.0\n",
      "SalePrice    84025.0\n",
      "dtype: float64\n"
     ]
    }
   ],
   "execution_count": 111
  },
  {
   "metadata": {
    "ExecuteTime": {
     "end_time": "2024-06-12T01:26:42.881651Z",
     "start_time": "2024-06-12T01:26:42.879135Z"
    }
   },
   "cell_type": "code",
   "source": [
    "lower_whisker = q1 - (1.5 * iqr)\n",
    "upper_whisker = q3 + (1.5 * iqr)\n",
    "\n",
    "print('lower whisker : ', lower_whisker)\n",
    "print('upper whisker : ', upper_whisker)"
   ],
   "id": "ef9914f450e73ad8",
   "outputs": [
    {
     "name": "stdout",
     "output_type": "stream",
     "text": [
      "lower whisker :  LotArea      1481.5\n",
      "SalePrice    3937.5\n",
      "dtype: float64\n",
      "upper whisker :  LotArea       17673.5\n",
      "SalePrice    340037.5\n",
      "dtype: float64\n"
     ]
    }
   ],
   "execution_count": 112
  },
  {
   "metadata": {
    "ExecuteTime": {
     "end_time": "2024-06-12T01:26:42.887755Z",
     "start_time": "2024-06-12T01:26:42.885418Z"
    }
   },
   "cell_type": "code",
   "source": "1460 - 1391",
   "id": "d1206778a59e010d",
   "outputs": [
    {
     "data": {
      "text/plain": [
       "69"
      ]
     },
     "execution_count": 113,
     "metadata": {},
     "output_type": "execute_result"
    }
   ],
   "execution_count": 113
  },
  {
   "metadata": {
    "ExecuteTime": {
     "end_time": "2024-06-12T01:26:42.902497Z",
     "start_time": "2024-06-12T01:26:42.899050Z"
    }
   },
   "cell_type": "code",
   "source": [
    "# outlier calculation\n",
    "\n",
    "new_df_2 = df[(df['SalePrice'] > lower_whisker['SalePrice']) & (df['SalePrice'] < upper_whisker['SalePrice'])]\n",
    "\n",
    "new_df_2.shape"
   ],
   "id": "ebb8768b70a4c09f",
   "outputs": [
    {
     "data": {
      "text/plain": [
       "(1399, 2)"
      ]
     },
     "execution_count": 114,
     "metadata": {},
     "output_type": "execute_result"
    }
   ],
   "execution_count": 114
  },
  {
   "metadata": {
    "ExecuteTime": {
     "end_time": "2024-06-12T01:26:42.937912Z",
     "start_time": "2024-06-12T01:26:42.934655Z"
    }
   },
   "cell_type": "code",
   "source": [
    "new_df_2 = df[(df['LotArea'] > lower_whisker['LotArea']) & (df['LotArea'] < upper_whisker['LotArea'])]\n",
    "\n",
    "new_df_2.shape"
   ],
   "id": "171e5ff49d9e3121",
   "outputs": [
    {
     "data": {
      "text/plain": [
       "(1391, 2)"
      ]
     },
     "execution_count": 115,
     "metadata": {},
     "output_type": "execute_result"
    }
   ],
   "execution_count": 115
  },
  {
   "metadata": {
    "ExecuteTime": {
     "end_time": "2024-06-12T01:26:42.992123Z",
     "start_time": "2024-06-12T01:26:42.946057Z"
    }
   },
   "cell_type": "code",
   "source": [
    "import matplotlib.pyplot as plt\n",
    "\n",
    "plt.boxplot(df['LotArea'], vert=False)\n",
    "plt.xlabel('Lot Area')\n",
    "plt.ylabel('Count')\n",
    "plt.show()"
   ],
   "id": "6dbaee1ed8968349",
   "outputs": [
    {
     "data": {
      "text/plain": [
       "<Figure size 640x480 with 1 Axes>"
      ],
      "image/png": "[encoded data removed]"
     },
     "metadata": {},
     "output_type": "display_data"
    }
   ],
   "execution_count": 116
  },
  {
   "metadata": {
    "ExecuteTime": {
     "end_time": "2024-06-12T01:26:43.043091Z",
     "start_time": "2024-06-12T01:26:42.997276Z"
    }
   },
   "cell_type": "code",
   "source": [
    "plt.boxplot(df['SalePrice'], vert=True)\n",
    "plt.ylabel('Sale Price')\n",
    "plt.xlabel('Count')\n",
    "plt.show()"
   ],
   "id": "875f688fde9793e",
   "outputs": [
    {
     "data": {
      "text/plain": [
       "<Figure size 640x480 with 1 Axes>"
      ],
      "image/png": "[encoded data removed]"
     },
     "metadata": {},
     "output_type": "display_data"
    }
   ],
   "execution_count": 117
  },
  {
   "metadata": {
    "ExecuteTime": {
     "end_time": "2024-06-12T01:26:43.119718Z",
     "start_time": "2024-06-12T01:26:43.043970Z"
    }
   },
   "cell_type": "code",
   "source": [
    "df['SalePrice'].hist()\n",
    "\n",
    "# right skewed"
   ],
   "id": "49c43d9d45f0356b",
   "outputs": [
    {
     "data": {
      "text/plain": [
       "<Axes: >"
      ]
     },
     "execution_count": 118,
     "metadata": {},
     "output_type": "execute_result"
    },
    {
     "data": {
      "text/plain": [
       "<Figure size 640x480 with 1 Axes>"
      ],
      "image/png": "[encoded data removed]"
     },
     "metadata": {},
     "output_type": "display_data"
    }
   ],
   "execution_count": 118
  },
  {
   "metadata": {
    "ExecuteTime": {
     "end_time": "2024-06-12T01:26:43.196758Z",
     "start_time": "2024-06-12T01:26:43.121980Z"
    }
   },
   "cell_type": "code",
   "source": [
    "fig, ax = plt.subplots(figsize=(10, 6))\n",
    "ax.scatter(df['LotArea'], df['SalePrice'])\n",
    "ax.set_xlabel('Lot Area')\n",
    "ax.set_ylabel('Sale Price')\n",
    "plt.show()"
   ],
   "id": "e986d38c6088f930",
   "outputs": [
    {
     "data": {
      "text/plain": [
       "<Figure size 1000x600 with 1 Axes>"
      ],
      "image/png": "[encoded data removed]"
     },
     "metadata": {},
     "output_type": "display_data"
    }
   ],
   "execution_count": 119
  },
  {
   "metadata": {},
   "cell_type": "markdown",
   "source": [
    "Quantile-based Flooring and Capping\n",
    "\n",
    "find the min & max acceptable values and cap \n",
    "\n",
    "replace values < min or > max with min & max respectively"
   ],
   "id": "51d005376ef48307"
  },
  {
   "metadata": {
    "ExecuteTime": {
     "end_time": "2024-06-12T01:26:43.200849Z",
     "start_time": "2024-06-12T01:26:43.197411Z"
    }
   },
   "cell_type": "code",
   "source": [
    "floor = df['SalePrice'].quantile(.01)\n",
    "ceil = df['SalePrice'].quantile(.99)\n",
    "\n",
    "print('floor: ', floor)\n",
    "print('ceil: ', ceil)"
   ],
   "id": "811c4eec7cd4a322",
   "outputs": [
    {
     "name": "stdout",
     "output_type": "stream",
     "text": [
      "floor:  61815.97\n",
      "ceil:  442567.01000000053\n"
     ]
    }
   ],
   "execution_count": 120
  },
  {
   "metadata": {
    "ExecuteTime": {
     "end_time": "2024-06-12T01:26:43.204621Z",
     "start_time": "2024-06-12T01:26:43.201643Z"
    }
   },
   "cell_type": "code",
   "source": [
    "import numpy as np\n",
    "\n",
    "df1 = df.copy()\n",
    "df1['SalePrice'] = np.where(df1['SalePrice'] < floor, floor, df1['SalePrice'])\n",
    "df1['SalePrice'] = np.where(df1['SalePrice'] > ceil, ceil, df1['SalePrice'])"
   ],
   "id": "88dbde5fbc4ec3ea",
   "outputs": [],
   "execution_count": 121
  },
  {
   "metadata": {
    "ExecuteTime": {
     "end_time": "2024-06-12T01:26:43.257847Z",
     "start_time": "2024-06-12T01:26:43.205472Z"
    }
   },
   "cell_type": "code",
   "source": [
    "plt.boxplot(df['SalePrice'])\n",
    "plt.show()"
   ],
   "id": "af858fc7bf43bb5e",
   "outputs": [
    {
     "data": {
      "text/plain": [
       "<Figure size 640x480 with 1 Axes>"
      ],
      "image/png": "[encoded data removed]"
     },
     "metadata": {},
     "output_type": "display_data"
    }
   ],
   "execution_count": 122
  },
  {
   "metadata": {
    "ExecuteTime": {
     "end_time": "2024-06-12T01:26:43.297242Z",
     "start_time": "2024-06-12T01:26:43.258578Z"
    }
   },
   "cell_type": "code",
   "source": [
    "plt.boxplot(df1['SalePrice'])\n",
    "plt.show()"
   ],
   "id": "bad1dde8831b1662",
   "outputs": [
    {
     "data": {
      "text/plain": [
       "<Figure size 640x480 with 1 Axes>"
      ],
      "image/png": "[encoded data removed]"
     },
     "metadata": {},
     "output_type": "display_data"
    }
   ],
   "execution_count": 123
  },
  {
   "metadata": {},
   "cell_type": "markdown",
   "source": "Trimming -> delete / remove outliers from dataframe",
   "id": "28545dbad235fe68"
  },
  {
   "metadata": {
    "ExecuteTime": {
     "end_time": "2024-06-12T01:27:29.768353Z",
     "start_time": "2024-06-12T01:27:29.707118Z"
    }
   },
   "cell_type": "code",
   "source": [
    "df2 = df.copy()\n",
    "print('Number of records in the table : ', df.shape)\n",
    "\n",
    "index = df2[(df['SalePrice'] > upper_whisker) | (df['SalePrice'] < lower_whisker)].index\n",
    "\n",
    "index.shape"
   ],
   "id": "92338a5710711602",
   "outputs": [
    {
     "name": "stdout",
     "output_type": "stream",
     "text": [
      "Number of records in the table :  (1460, 2)\n"
     ]
    },
    {
     "ename": "ValueError",
     "evalue": "Can only compare identically-labeled Series objects",
     "output_type": "error",
     "traceback": [
      "\u001B[0;31m---------------------------------------------------------------------------\u001B[0m",
      "\u001B[0;31mValueError\u001B[0m                                Traceback (most recent call last)",
      "Cell \u001B[0;32mIn[126], line 4\u001B[0m\n\u001B[1;32m      1\u001B[0m df2 \u001B[38;5;241m=\u001B[39m df\u001B[38;5;241m.\u001B[39mcopy()\n\u001B[1;32m      2\u001B[0m \u001B[38;5;28mprint\u001B[39m(\u001B[38;5;124m'\u001B[39m\u001B[38;5;124mNumber of records in the table : \u001B[39m\u001B[38;5;124m'\u001B[39m, df\u001B[38;5;241m.\u001B[39mshape)\n\u001B[0;32m----> 4\u001B[0m index \u001B[38;5;241m=\u001B[39m df2[(df[\u001B[38;5;124m'\u001B[39m\u001B[38;5;124mSalePrice\u001B[39m\u001B[38;5;124m'\u001B[39m] \u001B[38;5;241m>\u001B[39m upper_whisker) \u001B[38;5;241m|\u001B[39m (df[\u001B[38;5;124m'\u001B[39m\u001B[38;5;124mSalePrice\u001B[39m\u001B[38;5;124m'\u001B[39m] \u001B[38;5;241m<\u001B[39m lower_whisker)]\u001B[38;5;241m.\u001B[39mindex\n\u001B[1;32m      6\u001B[0m index\u001B[38;5;241m.\u001B[39mshape\n",
      "File \u001B[0;32m~/anaconda3/lib/python3.11/site-packages/pandas/core/ops/common.py:81\u001B[0m, in \u001B[0;36m_unpack_zerodim_and_defer.<locals>.new_method\u001B[0;34m(self, other)\u001B[0m\n\u001B[1;32m     77\u001B[0m             \u001B[38;5;28;01mreturn\u001B[39;00m \u001B[38;5;28mNotImplemented\u001B[39m\n\u001B[1;32m     79\u001B[0m other \u001B[38;5;241m=\u001B[39m item_from_zerodim(other)\n\u001B[0;32m---> 81\u001B[0m \u001B[38;5;28;01mreturn\u001B[39;00m method(\u001B[38;5;28mself\u001B[39m, other)\n",
      "File \u001B[0;32m~/anaconda3/lib/python3.11/site-packages/pandas/core/arraylike.py:56\u001B[0m, in \u001B[0;36mOpsMixin.__gt__\u001B[0;34m(self, other)\u001B[0m\n\u001B[1;32m     54\u001B[0m \u001B[38;5;129m@unpack_zerodim_and_defer\u001B[39m(\u001B[38;5;124m\"\u001B[39m\u001B[38;5;124m__gt__\u001B[39m\u001B[38;5;124m\"\u001B[39m)\n\u001B[1;32m     55\u001B[0m \u001B[38;5;28;01mdef\u001B[39;00m \u001B[38;5;21m__gt__\u001B[39m(\u001B[38;5;28mself\u001B[39m, other):\n\u001B[0;32m---> 56\u001B[0m     \u001B[38;5;28;01mreturn\u001B[39;00m \u001B[38;5;28mself\u001B[39m\u001B[38;5;241m.\u001B[39m_cmp_method(other, operator\u001B[38;5;241m.\u001B[39mgt)\n",
      "File \u001B[0;32m~/anaconda3/lib/python3.11/site-packages/pandas/core/series.py:6090\u001B[0m, in \u001B[0;36mSeries._cmp_method\u001B[0;34m(self, other, op)\u001B[0m\n\u001B[1;32m   6087\u001B[0m res_name \u001B[38;5;241m=\u001B[39m ops\u001B[38;5;241m.\u001B[39mget_op_result_name(\u001B[38;5;28mself\u001B[39m, other)\n\u001B[1;32m   6089\u001B[0m \u001B[38;5;28;01mif\u001B[39;00m \u001B[38;5;28misinstance\u001B[39m(other, Series) \u001B[38;5;129;01mand\u001B[39;00m \u001B[38;5;129;01mnot\u001B[39;00m \u001B[38;5;28mself\u001B[39m\u001B[38;5;241m.\u001B[39m_indexed_same(other):\n\u001B[0;32m-> 6090\u001B[0m     \u001B[38;5;28;01mraise\u001B[39;00m \u001B[38;5;167;01mValueError\u001B[39;00m(\u001B[38;5;124m\"\u001B[39m\u001B[38;5;124mCan only compare identically-labeled Series objects\u001B[39m\u001B[38;5;124m\"\u001B[39m)\n\u001B[1;32m   6092\u001B[0m lvalues \u001B[38;5;241m=\u001B[39m \u001B[38;5;28mself\u001B[39m\u001B[38;5;241m.\u001B[39m_values\n\u001B[1;32m   6093\u001B[0m rvalues \u001B[38;5;241m=\u001B[39m extract_array(other, extract_numpy\u001B[38;5;241m=\u001B[39m\u001B[38;5;28;01mTrue\u001B[39;00m, extract_range\u001B[38;5;241m=\u001B[39m\u001B[38;5;28;01mTrue\u001B[39;00m)\n",
      "\u001B[0;31mValueError\u001B[0m: Can only compare identically-labeled Series objects"
     ]
    }
   ],
   "execution_count": 126
  },
  {
   "metadata": {
    "ExecuteTime": {
     "end_time": "2024-06-12T01:26:43.348012Z",
     "start_time": "2024-06-12T01:26:43.347933Z"
    }
   },
   "cell_type": "code",
   "source": [
    "df2.drop(index, inplace=True)\n",
    "df2.shape"
   ],
   "id": "8f0978aa7c779c7c",
   "outputs": [],
   "execution_count": null
  },
  {
   "metadata": {},
   "cell_type": "markdown",
   "source": "Log Transformation (common and best method)",
   "id": "ce7f85a0bddd9b60"
  },
  {
   "metadata": {
    "ExecuteTime": {
     "end_time": "2024-06-12T01:29:34.072904Z",
     "start_time": "2024-06-12T01:29:34.057399Z"
    }
   },
   "cell_type": "code",
   "source": "print(df['SalePrice'].skew().round(2))",
   "id": "2cb19f97a1fe7945",
   "outputs": [
    {
     "name": "stdout",
     "output_type": "stream",
     "text": [
      "1.88\n"
     ]
    }
   ],
   "execution_count": 130
  },
  {
   "metadata": {
    "ExecuteTime": {
     "end_time": "2024-06-12T01:31:02.851467Z",
     "start_time": "2024-06-12T01:31:02.839354Z"
    }
   },
   "cell_type": "code",
   "source": [
    "# my method\n",
    "df['log_sale_2'] = df['SalePrice'].apply(np.log)\n",
    "\n",
    "print((df['log_sale_2'].skew().round(2)))"
   ],
   "id": "9309c6a693cf4ef7",
   "outputs": [
    {
     "name": "stdout",
     "output_type": "stream",
     "text": [
      "0.12\n"
     ]
    }
   ],
   "execution_count": 132
  },
  {
   "metadata": {
    "ExecuteTime": {
     "end_time": "2024-06-12T01:30:53.661865Z",
     "start_time": "2024-06-12T01:30:53.636663Z"
    }
   },
   "cell_type": "code",
   "source": [
    "df['log_sale'] = df['SalePrice'].map(lambda i: np.log(i) if i > 0 else 0)\n",
    "\n",
    "print((df['log_sale'].skew().round(2)))"
   ],
   "id": "f0b941c499995b81",
   "outputs": [
    {
     "name": "stdout",
     "output_type": "stream",
     "text": [
      "0.12\n"
     ]
    }
   ],
   "execution_count": 131
  },
  {
   "metadata": {
    "ExecuteTime": {
     "end_time": "2024-06-12T01:43:14.622277Z",
     "start_time": "2024-06-12T01:43:14.488003Z"
    }
   },
   "cell_type": "code",
   "source": [
    "df['log_sale'].hist(bins=25)\n",
    "plt.show()"
   ],
   "id": "e387cd5b7a865d6a",
   "outputs": [
    {
     "data": {
      "text/plain": [
       "<Figure size 640x480 with 1 Axes>"
      ],
      "image/png": "[encoded data removed]"
     },
     "metadata": {},
     "output_type": "display_data"
    }
   ],
   "execution_count": 142
  },
  {
   "metadata": {
    "ExecuteTime": {
     "end_time": "2024-06-12T01:39:12.843261Z",
     "start_time": "2024-06-12T01:39:12.643474Z"
    }
   },
   "cell_type": "code",
   "source": [
    "df['SalePrice'].hist(bins=25)\n",
    "plt.show()"
   ],
   "id": "8706e0c00ac5581d",
   "outputs": [
    {
     "data": {
      "text/plain": [
       "<Figure size 640x480 with 1 Axes>"
      ],
      "image/png": "[encoded data removed]"
     },
     "metadata": {},
     "output_type": "display_data"
    }
   ],
   "execution_count": 137
  },
  {
   "metadata": {},
   "cell_type": "markdown",
   "source": [
    "Discretization \n",
    "\n",
    "transform continuous variables to discrete form"
   ],
   "id": "2431769ccd7ffb34"
  },
  {
   "metadata": {},
   "cell_type": "markdown",
   "source": "using `Binarizer`",
   "id": "9cae2555a9299c70"
  },
  {
   "metadata": {
    "ExecuteTime": {
     "end_time": "2024-07-02T19:05:44.389098Z",
     "start_time": "2024-07-02T19:05:43.457383Z"
    }
   },
   "cell_type": "code",
   "source": [
    "import numpy as np\n",
    "from sklearn.preprocessing import Binarizer"
   ],
   "id": "ec73749c90a4f1d",
   "outputs": [],
   "execution_count": 1
  },
  {
   "metadata": {
    "ExecuteTime": {
     "end_time": "2024-07-02T19:06:37.646686Z",
     "start_time": "2024-07-02T19:06:37.636103Z"
    }
   },
   "cell_type": "code",
   "source": "age = np.array([[6], [12], [18], [20], [36], [65]])",
   "id": "e5ed02901ec2d14e",
   "outputs": [],
   "execution_count": 10
  },
  {
   "metadata": {
    "ExecuteTime": {
     "end_time": "2024-07-02T19:06:23.625027Z",
     "start_time": "2024-07-02T19:06:23.622994Z"
    }
   },
   "cell_type": "code",
   "source": "binarizer = Binarizer(threshold=18)",
   "id": "5cd57c74f1fcf984",
   "outputs": [],
   "execution_count": 8
  },
  {
   "metadata": {
    "ExecuteTime": {
     "end_time": "2024-07-02T19:06:24.524253Z",
     "start_time": "2024-07-02T19:06:24.507749Z"
    }
   },
   "cell_type": "code",
   "source": "binarizer.fit_transform(age)",
   "id": "9b480025fb950f10",
   "outputs": [
    {
     "data": {
      "text/plain": [
       "array([[0],\n",
       "       [0],\n",
       "       [0],\n",
       "       [1],\n",
       "       [1],\n",
       "       [1],\n",
       "       [1]])"
      ]
     },
     "execution_count": 9,
     "metadata": {},
     "output_type": "execute_result"
    }
   ],
   "execution_count": 9
  },
  {
   "metadata": {},
   "cell_type": "markdown",
   "source": "using `digitize`",
   "id": "be759e5ea5836ea6"
  },
  {
   "metadata": {
    "ExecuteTime": {
     "end_time": "2024-07-02T19:06:42.976843Z",
     "start_time": "2024-07-02T19:06:42.971873Z"
    }
   },
   "cell_type": "code",
   "source": "import numpy as np",
   "id": "c06dddb3cd18c585",
   "outputs": [],
   "execution_count": 11
  },
  {
   "metadata": {
    "ExecuteTime": {
     "end_time": "2024-07-02T19:07:42.391591Z",
     "start_time": "2024-07-02T19:07:42.386612Z"
    }
   },
   "cell_type": "code",
   "source": "age = np.array([[6], [12], [20], [30], [36], [64], [65]])",
   "id": "c85ddddcb4a33be4",
   "outputs": [],
   "execution_count": 16
  },
  {
   "metadata": {
    "ExecuteTime": {
     "end_time": "2024-07-02T19:09:37.385008Z",
     "start_time": "2024-07-02T19:09:37.363058Z"
    }
   },
   "cell_type": "code",
   "source": "np.digitize(age, bins=[20, 30, 64])",
   "id": "6bdb9987f381c11f",
   "outputs": [
    {
     "data": {
      "text/plain": [
       "array([[0],\n",
       "       [0],\n",
       "       [1],\n",
       "       [2],\n",
       "       [2],\n",
       "       [3],\n",
       "       [3]])"
      ]
     },
     "execution_count": 20,
     "metadata": {},
     "output_type": "execute_result"
    }
   ],
   "execution_count": 20
  },
  {
   "metadata": {},
   "cell_type": "code",
   "outputs": [],
   "execution_count": null,
   "source": [
    "# how many pins\n",
    "# below 20 -> 2\n",
    "# 20-30 -> 1\n",
    "# 30-64 -> 1\n",
    "# more 64 -> 1"
   ],
   "id": "eade0594ee3cdf51"
  }
 ],
 "metadata": {
  "kernelspec": {
   "display_name": "Python 3",
   "language": "python",
   "name": "python3"
  },
  "language_info": {
   "codemirror_mode": {
    "name": "ipython",
    "version": 2
   },
   "file_extension": ".py",
   "mimetype": "text/x-python",
   "name": "python",
   "nbconvert_exporter": "python",
   "pygments_lexer": "ipython2",
   "version": "2.7.6"
  }
 },
 "nbformat": 4,
 "nbformat_minor": 5
}
