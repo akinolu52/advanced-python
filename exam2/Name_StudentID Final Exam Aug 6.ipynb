{
 "cells": [
  {
   "cell_type": "markdown",
   "metadata": {},
   "source": [
    "# Question 1 (10 marks)"
   ]
  },
  {
   "cell_type": "markdown",
   "metadata": {},
   "source": [
    "You are given a large integer represented as an integer array digits, where each digits[i] is the ith digit of the integer. The digits are ordered from most significant to least significant in left-to-right order. The large integer does not contain any leading 0's.\n",
    "\n",
    "Increment the large integer by one and return the resulting array of digits.\n",
    "\n",
    "Example 1:\n",
    "\n",
    "Input: digits = [1,2,3]\n",
    "\n",
    "Output: [1,2,4]\n",
    "\n",
    "Explanation: The array represents the integer 123.\n",
    "\n",
    "Incrementing by one gives 123 + 1 = 124.\n",
    "\n",
    "Thus, the result should be [1,2,4].\n",
    "\n",
    "Use function and input method\n",
    "\n"
   ]
  },
  {
   "cell_type": "code",
   "execution_count": null,
   "metadata": {},
   "outputs": [],
   "source": [
    "#Answer"
   ]
  },
  {
   "cell_type": "code",
   "execution_count": 36,
   "metadata": {},
   "outputs": [],
   "source": [
    "import re\n",
    "\n",
    "def increment_digit(num):\n",
    "    num_str = num.replace(',', '')\n",
    "    \n",
    "    plus_one = int(num_str) + 1\n",
    "\n",
    "    res = []\n",
    "    for ch in str(plus_one):\n",
    "        res.append(int(ch))\n",
    "    \n",
    "    \n",
    "\n",
    "    return res"
   ]
  },
  {
   "cell_type": "code",
   "execution_count": 39,
   "metadata": {},
   "outputs": [
    {
     "name": "stdin",
     "output_type": "stream",
     "text": [
      "Enter the numbers in your array as: x,y,z: 1,2,3\n"
     ]
    },
    {
     "name": "stdout",
     "output_type": "stream",
     "text": [
      "[1, 2, 4]\n"
     ]
    }
   ],
   "source": [
    "num = input('Enter the numbers in your array as: x,y,z:')\n",
    "\n",
    "print(increment_digit(num))"
   ]
  },
  {
   "cell_type": "code",
   "execution_count": null,
   "metadata": {},
   "outputs": [],
   "source": [
    "# 1,2,3"
   ]
  },
  {
   "cell_type": "markdown",
   "metadata": {},
   "source": [
    "# Question 2 (15 marks)\n",
    "Given an m x n matrix mat, return an array of all the elements of the array in a diagonal order.\n",
    "\n",
    "To understand the question better, print out the input matrix below and compare that to the output.\n",
    "\n",
    "Example 1:\n",
    "\n",
    "Input: mat = [[1,2,3],[4,5,6],[7,8,9]]\n",
    "\n",
    "Output: [1,2,4,7,5,3,6,8,9]\n",
    "\n",
    "Example 2:\n",
    "\n",
    "Input: mat = [[1,2],[3,4]]\n",
    "\n",
    "Output: [1,2,3,4]\n"
   ]
  },
  {
   "cell_type": "code",
   "execution_count": 131,
   "metadata": {},
   "outputs": [],
   "source": [
    "import numpy as np\n",
    "def diagonal_matrix(nums):\n",
    "    res = []\n",
    "\n",
    "    for idx, m in enumerate(nums):\n",
    "        start = 1\n",
    "        r = []\n",
    "        q = []\n",
    "        for idx2, n in enumerate(nums[idx]):\n",
    "            # print(idx, idx2, m, n)\n",
    "            r.append(n * start)\n",
    "            start = 0 if start == 1 else 1\n",
    "            # print(r, n , start)\n",
    "\n",
    "        res.append(np.sum(r))\n",
    "        for idx3, p in enumerate(nums[idx - 1]):\n",
    "            q.append(n * start)\n",
    "            start = 0 if start == 1 else 1\n",
    "            # print(r, n , start)\n",
    "\n",
    "        # start = 0 if start == 1 else 1\n",
    "        res.append(np.sum(q))\n",
    "        # res.extend([np.sum(r), np.sum(q)])\n",
    "        # print(res, idx)\n",
    "\n",
    "    return res"
   ]
  },
  {
   "cell_type": "code",
   "execution_count": null,
   "metadata": {},
   "outputs": [],
   "source": [
    "mat = input('Enter your input as [[x,y],[a,b]]: ')\n",
    "\n",
    "# diagonal_matrix(process_input(mat))"
   ]
  },
  {
   "cell_type": "code",
   "execution_count": 125,
   "metadata": {},
   "outputs": [
    {
     "name": "stdout",
     "output_type": "stream",
     "text": [
      "[1, 2, 3, 4]\n"
     ]
    }
   ],
   "source": [
    "diagonal_matrix([[1,2],[3,4]])\n",
    "# diagonal_matrix([[1,2,3],[4,5,6],[7,8,9]])"
   ]
  },
  {
   "cell_type": "markdown",
   "metadata": {},
   "source": [
    "# Question 3 (15 Marks)"
   ]
  },
  {
   "cell_type": "markdown",
   "metadata": {},
   "source": [
    "Given a rows x cols binary matrix filled with 0's and 1's, write a function and use input method to find the largest rectangle containing only 1's and return its area. your output must also print out the part of the matrix with maximum area corresponding to part 1.\n",
    "\n",
    "Input: matrix = [[\"1\",\"0\",\"1\",\"0\",\"0\"],[\"1\",\"0\",\"1\",\"1\",\"1\"],[\"1\",\"1\",\"1\",\"1\",\"1\"],[\"1\",\"0\",\"0\",\"1\",\"0\"]]\n",
    "\n",
    "Output: \n",
    "\n",
    "part a: 6\n",
    "\n",
    "part b: [['1', '1', '1'],\n",
    "         ['1', '1', '1']]\n",
    "\n",
    "\n",
    "\n",
    "\n",
    "you can print the example matrix above to get better visual understanding of the quesion\n",
    "\n",
    "Use function and input method!"
   ]
  },
  {
   "cell_type": "code",
   "execution_count": 57,
   "metadata": {},
   "outputs": [],
   "source": [
    "def largest_rectange(nums):\n",
    "    m = len(nums)\n",
    "    n = len(nums[0])\n",
    "\n",
    "    print(m, n)\n",
    "    res = [] # array of tupple\n",
    "\n",
    "    for idx, m in enumerate(nums):\n",
    "        # print(idx, m)\n",
    "        count = 0\n",
    "        for idx2, n in enumerate(nums[idx]):\n",
    "            # 0 is not needed for the counting\n",
    "            if n == '0':\n",
    "                count == 0\n",
    "                continue\n",
    "            \n",
    "            count += 1\n",
    "            \n",
    "            \n",
    "            print(idx, idx2, m, n)\n",
    "    \n",
    "\n",
    "    return nums"
   ]
  },
  {
   "cell_type": "code",
   "execution_count": 58,
   "metadata": {},
   "outputs": [
    {
     "name": "stdout",
     "output_type": "stream",
     "text": [
      "4 5\n",
      "0 0 ['1', '0', '1', '0', '0'] 1\n",
      "0 2 ['1', '0', '1', '0', '0'] 1\n",
      "1 0 ['1', '0', '1', '1', '1'] 1\n",
      "1 2 ['1', '0', '1', '1', '1'] 1\n",
      "1 3 ['1', '0', '1', '1', '1'] 1\n",
      "1 4 ['1', '0', '1', '1', '1'] 1\n",
      "2 0 ['1', '1', '1', '1', '1'] 1\n",
      "2 1 ['1', '1', '1', '1', '1'] 1\n",
      "2 2 ['1', '1', '1', '1', '1'] 1\n",
      "2 3 ['1', '1', '1', '1', '1'] 1\n",
      "2 4 ['1', '1', '1', '1', '1'] 1\n",
      "3 0 ['1', '0', '0', '1', '0'] 1\n",
      "3 3 ['1', '0', '0', '1', '0'] 1\n",
      "[['1', '0', '1', '0', '0'], ['1', '0', '1', '1', '1'], ['1', '1', '1', '1', '1'], ['1', '0', '0', '1', '0']]\n"
     ]
    }
   ],
   "source": [
    "print(largest_rectange([[\"1\",\"0\",\"1\",\"0\",\"0\"],[\"1\",\"0\",\"1\",\"1\",\"1\"],[\"1\",\"1\",\"1\",\"1\",\"1\"],[\"1\",\"0\",\"0\",\"1\",\"0\"]]))"
   ]
  },
  {
   "cell_type": "code",
   "execution_count": null,
   "metadata": {},
   "outputs": [],
   "source": []
  },
  {
   "cell_type": "markdown",
   "metadata": {},
   "source": [
    "# Good Luck "
   ]
  },
  {
   "cell_type": "code",
   "execution_count": null,
   "metadata": {},
   "outputs": [],
   "source": []
  }
 ],
 "metadata": {
  "kernelspec": {
   "display_name": "Python 3 (ipykernel)",
   "language": "python",
   "name": "python3"
  },
  "language_info": {
   "codemirror_mode": {
    "name": "ipython",
    "version": 3
   },
   "file_extension": ".py",
   "mimetype": "text/x-python",
   "name": "python",
   "nbconvert_exporter": "python",
   "pygments_lexer": "ipython3",
   "version": "3.11.5"
  }
 },
 "nbformat": 4,
 "nbformat_minor": 4
}
