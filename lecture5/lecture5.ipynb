{
 "cells": [
  {
   "metadata": {},
   "cell_type": "markdown",
   "source": "### Data Wrangling",
   "id": "96eaafe6672369f9"
  },
  {
   "cell_type": "code",
   "id": "initial_id",
   "metadata": {
    "collapsed": true,
    "ExecuteTime": {
     "end_time": "2024-06-27T06:20:39.764880Z",
     "start_time": "2024-06-27T06:20:39.054993Z"
    }
   },
   "source": "import pandas as pd",
   "outputs": [],
   "execution_count": 1
  },
  {
   "metadata": {
    "ExecuteTime": {
     "end_time": "2024-06-27T06:20:39.778607Z",
     "start_time": "2024-06-27T06:20:39.766134Z"
    }
   },
   "cell_type": "code",
   "source": [
    "df = pd.read_csv('./titanic.csv')\n",
    "\n",
    "df.shape"
   ],
   "id": "9eded7db2c9a6c03",
   "outputs": [
    {
     "data": {
      "text/plain": [
       "(2207, 11)"
      ]
     },
     "execution_count": 2,
     "metadata": {},
     "output_type": "execute_result"
    }
   ],
   "execution_count": 2
  },
  {
   "metadata": {
    "ExecuteTime": {
     "end_time": "2024-06-27T06:31:56.873631Z",
     "start_time": "2024-06-27T06:31:56.853078Z"
    }
   },
   "cell_type": "code",
   "source": "df.head(4)",
   "id": "41b31740bafcb527",
   "outputs": [
    {
     "data": {
      "text/plain": [
       "                             name  gender   age class embarked        country  \\\n",
       "0             Abbing, Mr. Anthony    male  42.0   3rd        S  United States   \n",
       "1       Abbott, Mr. Eugene Joseph    male  13.0   3rd        S  United States   \n",
       "2     Abbott, Mr. Rossmore Edward    male  16.0   3rd        S  United States   \n",
       "3  Abbott, Mrs. Rhoda Mary 'Rosa'  female  39.0   3rd        S        England   \n",
       "\n",
       "   ticketno   fare  sibsp  parch survived  \n",
       "0    5547.0   7.11    0.0    0.0       no  \n",
       "1    2673.0  20.05    0.0    2.0       no  \n",
       "2    2673.0  20.05    1.0    1.0       no  \n",
       "3    2673.0  20.05    1.0    1.0      yes  "
      ],
      "text/html": [
       "<div>\n",
       "<style scoped>\n",
       "    .dataframe tbody tr th:only-of-type {\n",
       "        vertical-align: middle;\n",
       "    }\n",
       "\n",
       "    .dataframe tbody tr th {\n",
       "        vertical-align: top;\n",
       "    }\n",
       "\n",
       "    .dataframe thead th {\n",
       "        text-align: right;\n",
       "    }\n",
       "</style>\n",
       "<table border=\"1\" class=\"dataframe\">\n",
       "  <thead>\n",
       "    <tr style=\"text-align: right;\">\n",
       "      <th></th>\n",
       "      <th>name</th>\n",
       "      <th>gender</th>\n",
       "      <th>age</th>\n",
       "      <th>class</th>\n",
       "      <th>embarked</th>\n",
       "      <th>country</th>\n",
       "      <th>ticketno</th>\n",
       "      <th>fare</th>\n",
       "      <th>sibsp</th>\n",
       "      <th>parch</th>\n",
       "      <th>survived</th>\n",
       "    </tr>\n",
       "  </thead>\n",
       "  <tbody>\n",
       "    <tr>\n",
       "      <th>0</th>\n",
       "      <td>Abbing, Mr. Anthony</td>\n",
       "      <td>male</td>\n",
       "      <td>42.0</td>\n",
       "      <td>3rd</td>\n",
       "      <td>S</td>\n",
       "      <td>United States</td>\n",
       "      <td>5547.0</td>\n",
       "      <td>7.11</td>\n",
       "      <td>0.0</td>\n",
       "      <td>0.0</td>\n",
       "      <td>no</td>\n",
       "    </tr>\n",
       "    <tr>\n",
       "      <th>1</th>\n",
       "      <td>Abbott, Mr. Eugene Joseph</td>\n",
       "      <td>male</td>\n",
       "      <td>13.0</td>\n",
       "      <td>3rd</td>\n",
       "      <td>S</td>\n",
       "      <td>United States</td>\n",
       "      <td>2673.0</td>\n",
       "      <td>20.05</td>\n",
       "      <td>0.0</td>\n",
       "      <td>2.0</td>\n",
       "      <td>no</td>\n",
       "    </tr>\n",
       "    <tr>\n",
       "      <th>2</th>\n",
       "      <td>Abbott, Mr. Rossmore Edward</td>\n",
       "      <td>male</td>\n",
       "      <td>16.0</td>\n",
       "      <td>3rd</td>\n",
       "      <td>S</td>\n",
       "      <td>United States</td>\n",
       "      <td>2673.0</td>\n",
       "      <td>20.05</td>\n",
       "      <td>1.0</td>\n",
       "      <td>1.0</td>\n",
       "      <td>no</td>\n",
       "    </tr>\n",
       "    <tr>\n",
       "      <th>3</th>\n",
       "      <td>Abbott, Mrs. Rhoda Mary 'Rosa'</td>\n",
       "      <td>female</td>\n",
       "      <td>39.0</td>\n",
       "      <td>3rd</td>\n",
       "      <td>S</td>\n",
       "      <td>England</td>\n",
       "      <td>2673.0</td>\n",
       "      <td>20.05</td>\n",
       "      <td>1.0</td>\n",
       "      <td>1.0</td>\n",
       "      <td>yes</td>\n",
       "    </tr>\n",
       "  </tbody>\n",
       "</table>\n",
       "</div>"
      ]
     },
     "execution_count": 3,
     "metadata": {},
     "output_type": "execute_result"
    }
   ],
   "execution_count": 3
  },
  {
   "metadata": {
    "ExecuteTime": {
     "end_time": "2024-06-27T06:31:57.983550Z",
     "start_time": "2024-06-27T06:31:57.977241Z"
    }
   },
   "cell_type": "code",
   "source": "df.isna().mean()",
   "id": "73a9143e57df3021",
   "outputs": [
    {
     "data": {
      "text/plain": [
       "name        0.000000\n",
       "gender      0.000000\n",
       "age         0.000906\n",
       "class       0.000000\n",
       "embarked    0.000000\n",
       "country     0.036701\n",
       "ticketno    0.403715\n",
       "fare        0.415043\n",
       "sibsp       0.407793\n",
       "parch       0.407793\n",
       "survived    0.000000\n",
       "dtype: float64"
      ]
     },
     "execution_count": 4,
     "metadata": {},
     "output_type": "execute_result"
    }
   ],
   "execution_count": 4
  },
  {
   "metadata": {
    "ExecuteTime": {
     "end_time": "2024-06-27T06:31:59.283174Z",
     "start_time": "2024-06-27T06:31:59.251546Z"
    }
   },
   "cell_type": "code",
   "source": "df.describe()",
   "id": "86dcc2984e1ae9e1",
   "outputs": [
    {
     "data": {
      "text/plain": [
       "               age      ticketno         fare        sibsp        parch\n",
       "count  2205.000000  1.316000e+03  1291.000000  1307.000000  1307.000000\n",
       "mean     30.444444  2.842157e+05    33.404760     0.499617     0.385616\n",
       "std      12.151764  6.334726e+05    52.227592     1.042273     0.866092\n",
       "min       0.166667  2.000000e+00     3.030500     0.000000     0.000000\n",
       "25%      22.000000  1.426225e+04     7.180600     0.000000     0.000000\n",
       "50%      29.000000  1.114265e+05    14.090200     0.000000     0.000000\n",
       "75%      38.000000  3.470770e+05    31.060750     1.000000     0.000000\n",
       "max      74.000000  3.101317e+06   512.060700     8.000000     9.000000"
      ],
      "text/html": [
       "<div>\n",
       "<style scoped>\n",
       "    .dataframe tbody tr th:only-of-type {\n",
       "        vertical-align: middle;\n",
       "    }\n",
       "\n",
       "    .dataframe tbody tr th {\n",
       "        vertical-align: top;\n",
       "    }\n",
       "\n",
       "    .dataframe thead th {\n",
       "        text-align: right;\n",
       "    }\n",
       "</style>\n",
       "<table border=\"1\" class=\"dataframe\">\n",
       "  <thead>\n",
       "    <tr style=\"text-align: right;\">\n",
       "      <th></th>\n",
       "      <th>age</th>\n",
       "      <th>ticketno</th>\n",
       "      <th>fare</th>\n",
       "      <th>sibsp</th>\n",
       "      <th>parch</th>\n",
       "    </tr>\n",
       "  </thead>\n",
       "  <tbody>\n",
       "    <tr>\n",
       "      <th>count</th>\n",
       "      <td>2205.000000</td>\n",
       "      <td>1.316000e+03</td>\n",
       "      <td>1291.000000</td>\n",
       "      <td>1307.000000</td>\n",
       "      <td>1307.000000</td>\n",
       "    </tr>\n",
       "    <tr>\n",
       "      <th>mean</th>\n",
       "      <td>30.444444</td>\n",
       "      <td>2.842157e+05</td>\n",
       "      <td>33.404760</td>\n",
       "      <td>0.499617</td>\n",
       "      <td>0.385616</td>\n",
       "    </tr>\n",
       "    <tr>\n",
       "      <th>std</th>\n",
       "      <td>12.151764</td>\n",
       "      <td>6.334726e+05</td>\n",
       "      <td>52.227592</td>\n",
       "      <td>1.042273</td>\n",
       "      <td>0.866092</td>\n",
       "    </tr>\n",
       "    <tr>\n",
       "      <th>min</th>\n",
       "      <td>0.166667</td>\n",
       "      <td>2.000000e+00</td>\n",
       "      <td>3.030500</td>\n",
       "      <td>0.000000</td>\n",
       "      <td>0.000000</td>\n",
       "    </tr>\n",
       "    <tr>\n",
       "      <th>25%</th>\n",
       "      <td>22.000000</td>\n",
       "      <td>1.426225e+04</td>\n",
       "      <td>7.180600</td>\n",
       "      <td>0.000000</td>\n",
       "      <td>0.000000</td>\n",
       "    </tr>\n",
       "    <tr>\n",
       "      <th>50%</th>\n",
       "      <td>29.000000</td>\n",
       "      <td>1.114265e+05</td>\n",
       "      <td>14.090200</td>\n",
       "      <td>0.000000</td>\n",
       "      <td>0.000000</td>\n",
       "    </tr>\n",
       "    <tr>\n",
       "      <th>75%</th>\n",
       "      <td>38.000000</td>\n",
       "      <td>3.470770e+05</td>\n",
       "      <td>31.060750</td>\n",
       "      <td>1.000000</td>\n",
       "      <td>0.000000</td>\n",
       "    </tr>\n",
       "    <tr>\n",
       "      <th>max</th>\n",
       "      <td>74.000000</td>\n",
       "      <td>3.101317e+06</td>\n",
       "      <td>512.060700</td>\n",
       "      <td>8.000000</td>\n",
       "      <td>9.000000</td>\n",
       "    </tr>\n",
       "  </tbody>\n",
       "</table>\n",
       "</div>"
      ]
     },
     "execution_count": 5,
     "metadata": {},
     "output_type": "execute_result"
    }
   ],
   "execution_count": 5
  },
  {
   "metadata": {
    "ExecuteTime": {
     "end_time": "2024-06-27T06:32:12.434112Z",
     "start_time": "2024-06-27T06:32:12.381357Z"
    }
   },
   "cell_type": "code",
   "source": "df.describe(percentiles=[0.01, 0.1, 0.2, 0.3, 0.4, 0.5, 0.6, 0.7, 0.8, 0.9, 0.99])",
   "id": "19242d2ab3fd75f4",
   "outputs": [
    {
     "data": {
      "text/plain": [
       "               age      ticketno         fare        sibsp        parch\n",
       "count  2205.000000  1.316000e+03  1291.000000  1307.000000  1307.000000\n",
       "mean     30.444444  2.842157e+05    33.404760     0.499617     0.385616\n",
       "std      12.151764  6.334726e+05    52.227592     1.042273     0.866092\n",
       "min       0.166667  2.000000e+00     3.030500     0.000000     0.000000\n",
       "1%        2.000000  7.668500e+02     6.150000     0.000000     0.000000\n",
       "10%      18.000000  2.668000e+03     7.140800     0.000000     0.000000\n",
       "20%      21.000000  1.166800e+04     7.170600     0.000000     0.000000\n",
       "30%      24.000000  1.758100e+04     8.010000     0.000000     0.000000\n",
       "40%      26.000000  2.840300e+04    11.020800     0.000000     0.000000\n",
       "50%      29.000000  1.114265e+05    14.090200     0.000000     0.000000\n",
       "60%      32.000000  2.376680e+05    22.070200     0.000000     0.000000\n",
       "70%      36.000000  3.309755e+05    27.140500     1.000000     0.000000\n",
       "80%      40.000000  3.492170e+05    42.080000     1.000000     1.000000\n",
       "90%      46.000000  3.686375e+05    78.050400     1.000000     2.000000\n",
       "99%      63.000000  3.101304e+06   262.070600     5.000000     4.000000\n",
       "max      74.000000  3.101317e+06   512.060700     8.000000     9.000000"
      ],
      "text/html": [
       "<div>\n",
       "<style scoped>\n",
       "    .dataframe tbody tr th:only-of-type {\n",
       "        vertical-align: middle;\n",
       "    }\n",
       "\n",
       "    .dataframe tbody tr th {\n",
       "        vertical-align: top;\n",
       "    }\n",
       "\n",
       "    .dataframe thead th {\n",
       "        text-align: right;\n",
       "    }\n",
       "</style>\n",
       "<table border=\"1\" class=\"dataframe\">\n",
       "  <thead>\n",
       "    <tr style=\"text-align: right;\">\n",
       "      <th></th>\n",
       "      <th>age</th>\n",
       "      <th>ticketno</th>\n",
       "      <th>fare</th>\n",
       "      <th>sibsp</th>\n",
       "      <th>parch</th>\n",
       "    </tr>\n",
       "  </thead>\n",
       "  <tbody>\n",
       "    <tr>\n",
       "      <th>count</th>\n",
       "      <td>2205.000000</td>\n",
       "      <td>1.316000e+03</td>\n",
       "      <td>1291.000000</td>\n",
       "      <td>1307.000000</td>\n",
       "      <td>1307.000000</td>\n",
       "    </tr>\n",
       "    <tr>\n",
       "      <th>mean</th>\n",
       "      <td>30.444444</td>\n",
       "      <td>2.842157e+05</td>\n",
       "      <td>33.404760</td>\n",
       "      <td>0.499617</td>\n",
       "      <td>0.385616</td>\n",
       "    </tr>\n",
       "    <tr>\n",
       "      <th>std</th>\n",
       "      <td>12.151764</td>\n",
       "      <td>6.334726e+05</td>\n",
       "      <td>52.227592</td>\n",
       "      <td>1.042273</td>\n",
       "      <td>0.866092</td>\n",
       "    </tr>\n",
       "    <tr>\n",
       "      <th>min</th>\n",
       "      <td>0.166667</td>\n",
       "      <td>2.000000e+00</td>\n",
       "      <td>3.030500</td>\n",
       "      <td>0.000000</td>\n",
       "      <td>0.000000</td>\n",
       "    </tr>\n",
       "    <tr>\n",
       "      <th>1%</th>\n",
       "      <td>2.000000</td>\n",
       "      <td>7.668500e+02</td>\n",
       "      <td>6.150000</td>\n",
       "      <td>0.000000</td>\n",
       "      <td>0.000000</td>\n",
       "    </tr>\n",
       "    <tr>\n",
       "      <th>10%</th>\n",
       "      <td>18.000000</td>\n",
       "      <td>2.668000e+03</td>\n",
       "      <td>7.140800</td>\n",
       "      <td>0.000000</td>\n",
       "      <td>0.000000</td>\n",
       "    </tr>\n",
       "    <tr>\n",
       "      <th>20%</th>\n",
       "      <td>21.000000</td>\n",
       "      <td>1.166800e+04</td>\n",
       "      <td>7.170600</td>\n",
       "      <td>0.000000</td>\n",
       "      <td>0.000000</td>\n",
       "    </tr>\n",
       "    <tr>\n",
       "      <th>30%</th>\n",
       "      <td>24.000000</td>\n",
       "      <td>1.758100e+04</td>\n",
       "      <td>8.010000</td>\n",
       "      <td>0.000000</td>\n",
       "      <td>0.000000</td>\n",
       "    </tr>\n",
       "    <tr>\n",
       "      <th>40%</th>\n",
       "      <td>26.000000</td>\n",
       "      <td>2.840300e+04</td>\n",
       "      <td>11.020800</td>\n",
       "      <td>0.000000</td>\n",
       "      <td>0.000000</td>\n",
       "    </tr>\n",
       "    <tr>\n",
       "      <th>50%</th>\n",
       "      <td>29.000000</td>\n",
       "      <td>1.114265e+05</td>\n",
       "      <td>14.090200</td>\n",
       "      <td>0.000000</td>\n",
       "      <td>0.000000</td>\n",
       "    </tr>\n",
       "    <tr>\n",
       "      <th>60%</th>\n",
       "      <td>32.000000</td>\n",
       "      <td>2.376680e+05</td>\n",
       "      <td>22.070200</td>\n",
       "      <td>0.000000</td>\n",
       "      <td>0.000000</td>\n",
       "    </tr>\n",
       "    <tr>\n",
       "      <th>70%</th>\n",
       "      <td>36.000000</td>\n",
       "      <td>3.309755e+05</td>\n",
       "      <td>27.140500</td>\n",
       "      <td>1.000000</td>\n",
       "      <td>0.000000</td>\n",
       "    </tr>\n",
       "    <tr>\n",
       "      <th>80%</th>\n",
       "      <td>40.000000</td>\n",
       "      <td>3.492170e+05</td>\n",
       "      <td>42.080000</td>\n",
       "      <td>1.000000</td>\n",
       "      <td>1.000000</td>\n",
       "    </tr>\n",
       "    <tr>\n",
       "      <th>90%</th>\n",
       "      <td>46.000000</td>\n",
       "      <td>3.686375e+05</td>\n",
       "      <td>78.050400</td>\n",
       "      <td>1.000000</td>\n",
       "      <td>2.000000</td>\n",
       "    </tr>\n",
       "    <tr>\n",
       "      <th>99%</th>\n",
       "      <td>63.000000</td>\n",
       "      <td>3.101304e+06</td>\n",
       "      <td>262.070600</td>\n",
       "      <td>5.000000</td>\n",
       "      <td>4.000000</td>\n",
       "    </tr>\n",
       "    <tr>\n",
       "      <th>max</th>\n",
       "      <td>74.000000</td>\n",
       "      <td>3.101317e+06</td>\n",
       "      <td>512.060700</td>\n",
       "      <td>8.000000</td>\n",
       "      <td>9.000000</td>\n",
       "    </tr>\n",
       "  </tbody>\n",
       "</table>\n",
       "</div>"
      ]
     },
     "execution_count": 6,
     "metadata": {},
     "output_type": "execute_result"
    }
   ],
   "execution_count": 6
  },
  {
   "metadata": {
    "ExecuteTime": {
     "end_time": "2024-06-27T06:32:26.681561Z",
     "start_time": "2024-06-27T06:32:26.670432Z"
    }
   },
   "cell_type": "code",
   "source": "df['age'].quantile(0.01)",
   "id": "e56bc1c039ff20c3",
   "outputs": [
    {
     "data": {
      "text/plain": [
       "2.0"
      ]
     },
     "execution_count": 7,
     "metadata": {},
     "output_type": "execute_result"
    }
   ],
   "execution_count": 7
  },
  {
   "metadata": {},
   "cell_type": "markdown",
   "source": "Remove unnecessary columns",
   "id": "7125d1aaf2474f3a"
  },
  {
   "metadata": {
    "ExecuteTime": {
     "end_time": "2024-06-27T06:32:40.017066Z",
     "start_time": "2024-06-27T06:32:40.003159Z"
    }
   },
   "cell_type": "code",
   "source": "df.drop('ticketno', axis=1).head(1)",
   "id": "b3b878fabe737d51",
   "outputs": [
    {
     "data": {
      "text/plain": [
       "                  name gender   age class embarked        country  fare  \\\n",
       "0  Abbing, Mr. Anthony   male  42.0   3rd        S  United States  7.11   \n",
       "\n",
       "   sibsp  parch survived  \n",
       "0    0.0    0.0       no  "
      ],
      "text/html": [
       "<div>\n",
       "<style scoped>\n",
       "    .dataframe tbody tr th:only-of-type {\n",
       "        vertical-align: middle;\n",
       "    }\n",
       "\n",
       "    .dataframe tbody tr th {\n",
       "        vertical-align: top;\n",
       "    }\n",
       "\n",
       "    .dataframe thead th {\n",
       "        text-align: right;\n",
       "    }\n",
       "</style>\n",
       "<table border=\"1\" class=\"dataframe\">\n",
       "  <thead>\n",
       "    <tr style=\"text-align: right;\">\n",
       "      <th></th>\n",
       "      <th>name</th>\n",
       "      <th>gender</th>\n",
       "      <th>age</th>\n",
       "      <th>class</th>\n",
       "      <th>embarked</th>\n",
       "      <th>country</th>\n",
       "      <th>fare</th>\n",
       "      <th>sibsp</th>\n",
       "      <th>parch</th>\n",
       "      <th>survived</th>\n",
       "    </tr>\n",
       "  </thead>\n",
       "  <tbody>\n",
       "    <tr>\n",
       "      <th>0</th>\n",
       "      <td>Abbing, Mr. Anthony</td>\n",
       "      <td>male</td>\n",
       "      <td>42.0</td>\n",
       "      <td>3rd</td>\n",
       "      <td>S</td>\n",
       "      <td>United States</td>\n",
       "      <td>7.11</td>\n",
       "      <td>0.0</td>\n",
       "      <td>0.0</td>\n",
       "      <td>no</td>\n",
       "    </tr>\n",
       "  </tbody>\n",
       "</table>\n",
       "</div>"
      ]
     },
     "execution_count": 8,
     "metadata": {},
     "output_type": "execute_result"
    }
   ],
   "execution_count": 8
  },
  {
   "metadata": {
    "ExecuteTime": {
     "end_time": "2024-06-27T06:33:07.821221Z",
     "start_time": "2024-06-27T06:33:07.801705Z"
    }
   },
   "cell_type": "code",
   "source": "del df['ticketno']",
   "id": "b1958b9afc71bbe1",
   "outputs": [],
   "execution_count": 9
  },
  {
   "metadata": {},
   "cell_type": "code",
   "execution_count": null,
   "source": "",
   "id": "34a32a0254a6d105",
   "outputs": []
  }
 ],
 "metadata": {
  "kernelspec": {
   "display_name": "Python 3",
   "language": "python",
   "name": "python3"
  },
  "language_info": {
   "codemirror_mode": {
    "name": "ipython",
    "version": 2
   },
   "file_extension": ".py",
   "mimetype": "text/x-python",
   "name": "python",
   "nbconvert_exporter": "python",
   "pygments_lexer": "ipython2",
   "version": "2.7.6"
  }
 },
 "nbformat": 4,
 "nbformat_minor": 5
}
