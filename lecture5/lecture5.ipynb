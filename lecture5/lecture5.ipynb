{
 "cells": [
  {
   "metadata": {},
   "cell_type": "markdown",
   "source": "### Data Wrangling",
   "id": "96eaafe6672369f9"
  },
  {
   "cell_type": "code",
   "id": "initial_id",
   "metadata": {
    "collapsed": true,
    "ExecuteTime": {
     "end_time": "2024-05-29T01:34:33.776696Z",
     "start_time": "2024-05-29T01:34:33.774745Z"
    }
   },
   "source": "import pandas as pd",
   "execution_count": 2,
   "outputs": []
  },
  {
   "metadata": {
    "ExecuteTime": {
     "end_time": "2024-05-29T01:34:40.485056Z",
     "start_time": "2024-05-29T01:34:40.453454Z"
    }
   },
   "cell_type": "code",
   "source": [
    "df = pd.read_csv('./titanic.csv')\n",
    "\n",
    "df.shape"
   ],
   "id": "9eded7db2c9a6c03",
   "execution_count": 4,
   "outputs": []
  },
  {
   "metadata": {
    "ExecuteTime": {
     "end_time": "2024-05-29T01:34:45.899249Z",
     "start_time": "2024-05-29T01:34:45.882771Z"
    }
   },
   "cell_type": "code",
   "source": "df.head(4)",
   "id": "41b31740bafcb527",
   "execution_count": 5,
   "outputs": []
  },
  {
   "metadata": {
    "ExecuteTime": {
     "end_time": "2024-05-29T01:34:58.713081Z",
     "start_time": "2024-05-29T01:34:58.702837Z"
    }
   },
   "cell_type": "code",
   "source": "df.isna().mean()",
   "id": "73a9143e57df3021",
   "execution_count": 6,
   "outputs": []
  },
  {
   "metadata": {
    "ExecuteTime": {
     "end_time": "2024-05-29T01:35:08.430907Z",
     "start_time": "2024-05-29T01:35:08.413553Z"
    }
   },
   "cell_type": "code",
   "source": "df.describe()",
   "id": "86dcc2984e1ae9e1",
   "execution_count": 7,
   "outputs": []
  },
  {
   "metadata": {
    "ExecuteTime": {
     "end_time": "2024-05-29T01:35:56.384406Z",
     "start_time": "2024-05-29T01:35:56.358777Z"
    }
   },
   "cell_type": "code",
   "source": "df.describe(percentiles=[0.01, 0.1, 0.2, 0.3, 0.4, 0.5, 0.6, 0.7, 0.8, 0.9, 0.99])",
   "id": "19242d2ab3fd75f4",
   "execution_count": 9,
   "outputs": []
  },
  {
   "metadata": {
    "ExecuteTime": {
     "end_time": "2024-05-29T01:36:18.899545Z",
     "start_time": "2024-05-29T01:36:18.881984Z"
    }
   },
   "cell_type": "code",
   "source": "df['age'].quantile(0.01)",
   "id": "e56bc1c039ff20c3",
   "execution_count": 10,
   "outputs": []
  },
  {
   "metadata": {},
   "cell_type": "markdown",
   "source": "Remove unnecessary columns",
   "id": "7125d1aaf2474f3a"
  },
  {
   "metadata": {
    "ExecuteTime": {
     "end_time": "2024-05-29T01:39:50.283883Z",
     "start_time": "2024-05-29T01:39:50.270518Z"
    }
   },
   "cell_type": "code",
   "source": "df.drop('ticketno', axis=1).head(1)",
   "id": "b3b878fabe737d51",
   "execution_count": 12,
   "outputs": []
  },
  {
   "metadata": {
    "ExecuteTime": {
     "end_time": "2024-05-29T01:39:54.510688Z",
     "start_time": "2024-05-29T01:39:54.508615Z"
    }
   },
   "cell_type": "code",
   "source": "del df['ticketno']",
   "id": "b1958b9afc71bbe1",
   "execution_count": 13,
   "outputs": []
  },
  {
   "metadata": {},
   "cell_type": "code",
   "execution_count": null,
   "source": "",
   "id": "34a32a0254a6d105",
   "outputs": []
  }
 ],
 "metadata": {
  "kernelspec": {
   "display_name": "Python 3",
   "language": "python",
   "name": "python3"
  },
  "language_info": {
   "codemirror_mode": {
    "name": "ipython",
    "version": 2
   },
   "file_extension": ".py",
   "mimetype": "text/x-python",
   "name": "python",
   "nbconvert_exporter": "python",
   "pygments_lexer": "ipython2",
   "version": "2.7.6"
  }
 },
 "nbformat": 4,
 "nbformat_minor": 5
}
