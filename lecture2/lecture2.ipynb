{
 "cells": [
  {
   "cell_type": "code",
   "id": "initial_id",
   "metadata": {
    "collapsed": true,
    "ExecuteTime": {
     "end_time": "2024-05-14T23:33:34.710616Z",
     "start_time": "2024-05-14T23:33:34.706744Z"
    }
   },
   "source": [
    "# generating data for regression\n",
    "\n",
    "from sklearn.datasets import make_regression, make_classification\n",
    "\n",
    "features, target, coefficients = make_regression(\n",
    "    n_samples=100,\n",
    "    n_features=3,\n",
    "    n_informative=3,\n",
    "    n_targets=1,\n",
    "    noise=0.0,\n",
    "    coef=1,\n",
    "    random_state=1\n",
    ")\n",
    "\n",
    "print(features[:3], \"\\n\")\n",
    "\n",
    "print(target[:3], \"\\n\")\n",
    "\n",
    "print(coefficients)"
   ],
   "outputs": [
    {
     "name": "stdout",
     "output_type": "stream",
     "text": [
      "[[ 1.29322588 -0.61736206 -0.11044703]\n",
      " [-2.793085    0.36633201  1.93752881]\n",
      " [ 0.80186103 -0.18656977  0.0465673 ]] \n",
      "\n",
      "[-10.37865986  25.5124503   19.67705609] \n",
      "\n",
      "[44.19042807 98.97517077 58.15774073]\n"
     ]
    }
   ],
   "execution_count": 23
  },
  {
   "metadata": {},
   "cell_type": "markdown",
   "source": [
    "#### Explanation:\n",
    "\n",
    "here we've 3 features and 1 target <br /><br />\n",
    "and out of these 3 features we want to use the whole 3 to build our model hence <br /> <br />\n",
    "`n_informative=3`"
   ],
   "id": "73bd601c82436302"
  },
  {
   "metadata": {
    "ExecuteTime": {
     "end_time": "2024-05-14T23:34:45.824601Z",
     "start_time": "2024-05-14T23:34:45.821295Z"
    }
   },
   "cell_type": "code",
   "source": [
    "# generating data for classification\n",
    "\n",
    "features, target = make_classification(\n",
    "    n_samples=100,\n",
    "    n_features=3,\n",
    "    n_informative=3,\n",
    "    n_redundant=0,\n",
    "    n_classes=2,\n",
    "    weights=[0.25, 0.75],\n",
    "    random_state=1,\n",
    ")\n",
    "\n",
    "print('Feature Matrix  \\n', features[:3])\n",
    "print('\\nTarget Vector  \\n', target[:3])"
   ],
   "id": "ec00037f9e3e55da",
   "outputs": [
    {
     "name": "stdout",
     "output_type": "stream",
     "text": [
      "Feature Matrix  \n",
      " [[ 1.06354768 -1.42632219  1.02163151]\n",
      " [ 0.23156977  1.49535261  0.33251578]\n",
      " [ 0.15972951  0.83533515 -0.40869554]]\n",
      "\n",
      "Target Vector  \n",
      " [1 0 0]\n"
     ]
    }
   ],
   "execution_count": 31
  },
  {
   "metadata": {
    "ExecuteTime": {
     "end_time": "2024-05-14T23:36:43.839015Z",
     "start_time": "2024-05-14T23:36:43.836854Z"
    }
   },
   "cell_type": "code",
   "source": [
    "# to check the data type for features and target\n",
    "\n",
    "print(type(features), \"\\n\")\n",
    "print(type(target), \"\\n\")"
   ],
   "id": "a4513b57aa362e0f",
   "outputs": [
    {
     "name": "stdout",
     "output_type": "stream",
     "text": [
      "<class 'numpy.ndarray'> \n",
      "\n",
      "<class 'numpy.ndarray'> \n",
      "\n"
     ]
    }
   ],
   "execution_count": 36
  },
  {
   "metadata": {
    "ExecuteTime": {
     "end_time": "2024-05-14T23:46:22.693934Z",
     "start_time": "2024-05-14T23:46:22.668283Z"
    }
   },
   "cell_type": "code",
   "source": [
    "# create a dataframe including features and target\n",
    "\n",
    "import pandas as pd\n",
    "import numpy as np\n",
    "\n",
    "data = np.hstack((features, np.reshape(target, (-1, 1))))\n",
    "\n",
    "df = pd.DataFrame(data, columns=['a', 'b', 'c', 'd'])\n",
    "df"
   ],
   "id": "2fa6e1678d3e8dbd",
   "outputs": [
    {
     "data": {
      "text/plain": [
       "           a         b         c    d\n",
       "0   1.063548 -1.426322  1.021632  1.0\n",
       "1   0.231570  1.495353  0.332516  0.0\n",
       "2   0.159730  0.835335 -0.408696  0.0\n",
       "3  -0.706121 -1.032810  1.394780  1.0\n",
       "4   0.844490 -0.619972  1.087911  1.0\n",
       "..       ...       ...       ...  ...\n",
       "95  1.106411 -1.615516  1.603296  1.0\n",
       "96 -2.438623 -1.784630  0.500376  1.0\n",
       "97 -1.304690 -1.652926  0.992340  1.0\n",
       "98  1.190208 -0.961064  0.292125  1.0\n",
       "99 -1.088047  0.828038 -0.566882  0.0\n",
       "\n",
       "[100 rows x 4 columns]"
      ],
      "text/html": [
       "<div>\n",
       "<style scoped>\n",
       "    .dataframe tbody tr th:only-of-type {\n",
       "        vertical-align: middle;\n",
       "    }\n",
       "\n",
       "    .dataframe tbody tr th {\n",
       "        vertical-align: top;\n",
       "    }\n",
       "\n",
       "    .dataframe thead th {\n",
       "        text-align: right;\n",
       "    }\n",
       "</style>\n",
       "<table border=\"1\" class=\"dataframe\">\n",
       "  <thead>\n",
       "    <tr style=\"text-align: right;\">\n",
       "      <th></th>\n",
       "      <th>a</th>\n",
       "      <th>b</th>\n",
       "      <th>c</th>\n",
       "      <th>d</th>\n",
       "    </tr>\n",
       "  </thead>\n",
       "  <tbody>\n",
       "    <tr>\n",
       "      <th>0</th>\n",
       "      <td>1.063548</td>\n",
       "      <td>-1.426322</td>\n",
       "      <td>1.021632</td>\n",
       "      <td>1.0</td>\n",
       "    </tr>\n",
       "    <tr>\n",
       "      <th>1</th>\n",
       "      <td>0.231570</td>\n",
       "      <td>1.495353</td>\n",
       "      <td>0.332516</td>\n",
       "      <td>0.0</td>\n",
       "    </tr>\n",
       "    <tr>\n",
       "      <th>2</th>\n",
       "      <td>0.159730</td>\n",
       "      <td>0.835335</td>\n",
       "      <td>-0.408696</td>\n",
       "      <td>0.0</td>\n",
       "    </tr>\n",
       "    <tr>\n",
       "      <th>3</th>\n",
       "      <td>-0.706121</td>\n",
       "      <td>-1.032810</td>\n",
       "      <td>1.394780</td>\n",
       "      <td>1.0</td>\n",
       "    </tr>\n",
       "    <tr>\n",
       "      <th>4</th>\n",
       "      <td>0.844490</td>\n",
       "      <td>-0.619972</td>\n",
       "      <td>1.087911</td>\n",
       "      <td>1.0</td>\n",
       "    </tr>\n",
       "    <tr>\n",
       "      <th>...</th>\n",
       "      <td>...</td>\n",
       "      <td>...</td>\n",
       "      <td>...</td>\n",
       "      <td>...</td>\n",
       "    </tr>\n",
       "    <tr>\n",
       "      <th>95</th>\n",
       "      <td>1.106411</td>\n",
       "      <td>-1.615516</td>\n",
       "      <td>1.603296</td>\n",
       "      <td>1.0</td>\n",
       "    </tr>\n",
       "    <tr>\n",
       "      <th>96</th>\n",
       "      <td>-2.438623</td>\n",
       "      <td>-1.784630</td>\n",
       "      <td>0.500376</td>\n",
       "      <td>1.0</td>\n",
       "    </tr>\n",
       "    <tr>\n",
       "      <th>97</th>\n",
       "      <td>-1.304690</td>\n",
       "      <td>-1.652926</td>\n",
       "      <td>0.992340</td>\n",
       "      <td>1.0</td>\n",
       "    </tr>\n",
       "    <tr>\n",
       "      <th>98</th>\n",
       "      <td>1.190208</td>\n",
       "      <td>-0.961064</td>\n",
       "      <td>0.292125</td>\n",
       "      <td>1.0</td>\n",
       "    </tr>\n",
       "    <tr>\n",
       "      <th>99</th>\n",
       "      <td>-1.088047</td>\n",
       "      <td>0.828038</td>\n",
       "      <td>-0.566882</td>\n",
       "      <td>0.0</td>\n",
       "    </tr>\n",
       "  </tbody>\n",
       "</table>\n",
       "<p>100 rows × 4 columns</p>\n",
       "</div>"
      ]
     },
     "execution_count": 50,
     "metadata": {},
     "output_type": "execute_result"
    }
   ],
   "execution_count": 50
  },
  {
   "metadata": {
    "ExecuteTime": {
     "end_time": "2024-05-14T23:51:58.390846Z",
     "start_time": "2024-05-14T23:51:58.351212Z"
    }
   },
   "cell_type": "code",
   "source": [
    "# create a dataframe including features and target\n",
    "\n",
    "import pandas as pd\n",
    "\n",
    "df = pd.DataFrame(features, columns=['feature_a', 'feature_b', 'feature_c'])\n",
    "df['target'] = target\n",
    "\n",
    "df"
   ],
   "id": "6871711cb98f5805",
   "outputs": [
    {
     "data": {
      "text/plain": [
       "    feature_a  feature_b  feature_c  target\n",
       "0    1.063548  -1.426322   1.021632       1\n",
       "1    0.231570   1.495353   0.332516       0\n",
       "2    0.159730   0.835335  -0.408696       0\n",
       "3   -0.706121  -1.032810   1.394780       1\n",
       "4    0.844490  -0.619972   1.087911       1\n",
       "..        ...        ...        ...     ...\n",
       "95   1.106411  -1.615516   1.603296       1\n",
       "96  -2.438623  -1.784630   0.500376       1\n",
       "97  -1.304690  -1.652926   0.992340       1\n",
       "98   1.190208  -0.961064   0.292125       1\n",
       "99  -1.088047   0.828038  -0.566882       0\n",
       "\n",
       "[100 rows x 4 columns]"
      ],
      "text/html": [
       "<div>\n",
       "<style scoped>\n",
       "    .dataframe tbody tr th:only-of-type {\n",
       "        vertical-align: middle;\n",
       "    }\n",
       "\n",
       "    .dataframe tbody tr th {\n",
       "        vertical-align: top;\n",
       "    }\n",
       "\n",
       "    .dataframe thead th {\n",
       "        text-align: right;\n",
       "    }\n",
       "</style>\n",
       "<table border=\"1\" class=\"dataframe\">\n",
       "  <thead>\n",
       "    <tr style=\"text-align: right;\">\n",
       "      <th></th>\n",
       "      <th>feature_a</th>\n",
       "      <th>feature_b</th>\n",
       "      <th>feature_c</th>\n",
       "      <th>target</th>\n",
       "    </tr>\n",
       "  </thead>\n",
       "  <tbody>\n",
       "    <tr>\n",
       "      <th>0</th>\n",
       "      <td>1.063548</td>\n",
       "      <td>-1.426322</td>\n",
       "      <td>1.021632</td>\n",
       "      <td>1</td>\n",
       "    </tr>\n",
       "    <tr>\n",
       "      <th>1</th>\n",
       "      <td>0.231570</td>\n",
       "      <td>1.495353</td>\n",
       "      <td>0.332516</td>\n",
       "      <td>0</td>\n",
       "    </tr>\n",
       "    <tr>\n",
       "      <th>2</th>\n",
       "      <td>0.159730</td>\n",
       "      <td>0.835335</td>\n",
       "      <td>-0.408696</td>\n",
       "      <td>0</td>\n",
       "    </tr>\n",
       "    <tr>\n",
       "      <th>3</th>\n",
       "      <td>-0.706121</td>\n",
       "      <td>-1.032810</td>\n",
       "      <td>1.394780</td>\n",
       "      <td>1</td>\n",
       "    </tr>\n",
       "    <tr>\n",
       "      <th>4</th>\n",
       "      <td>0.844490</td>\n",
       "      <td>-0.619972</td>\n",
       "      <td>1.087911</td>\n",
       "      <td>1</td>\n",
       "    </tr>\n",
       "    <tr>\n",
       "      <th>...</th>\n",
       "      <td>...</td>\n",
       "      <td>...</td>\n",
       "      <td>...</td>\n",
       "      <td>...</td>\n",
       "    </tr>\n",
       "    <tr>\n",
       "      <th>95</th>\n",
       "      <td>1.106411</td>\n",
       "      <td>-1.615516</td>\n",
       "      <td>1.603296</td>\n",
       "      <td>1</td>\n",
       "    </tr>\n",
       "    <tr>\n",
       "      <th>96</th>\n",
       "      <td>-2.438623</td>\n",
       "      <td>-1.784630</td>\n",
       "      <td>0.500376</td>\n",
       "      <td>1</td>\n",
       "    </tr>\n",
       "    <tr>\n",
       "      <th>97</th>\n",
       "      <td>-1.304690</td>\n",
       "      <td>-1.652926</td>\n",
       "      <td>0.992340</td>\n",
       "      <td>1</td>\n",
       "    </tr>\n",
       "    <tr>\n",
       "      <th>98</th>\n",
       "      <td>1.190208</td>\n",
       "      <td>-0.961064</td>\n",
       "      <td>0.292125</td>\n",
       "      <td>1</td>\n",
       "    </tr>\n",
       "    <tr>\n",
       "      <th>99</th>\n",
       "      <td>-1.088047</td>\n",
       "      <td>0.828038</td>\n",
       "      <td>-0.566882</td>\n",
       "      <td>0</td>\n",
       "    </tr>\n",
       "  </tbody>\n",
       "</table>\n",
       "<p>100 rows × 4 columns</p>\n",
       "</div>"
      ]
     },
     "execution_count": 53,
     "metadata": {},
     "output_type": "execute_result"
    }
   ],
   "execution_count": 53
  },
  {
   "metadata": {
    "ExecuteTime": {
     "end_time": "2024-05-14T23:59:52.276031Z",
     "start_time": "2024-05-14T23:59:52.272557Z"
    }
   },
   "cell_type": "code",
   "source": [
    "from sklearn.datasets import make_blobs\n",
    "\n",
    "# generating data for clustering\n",
    "\n",
    "features, classes = make_blobs(\n",
    "    n_samples=100,\n",
    "    centers=3,\n",
    "    n_features=2,\n",
    "    random_state=0\n",
    ")\n",
    "\n",
    "print('Feature Matrix  \\n', features[:3])\n",
    "print('\\nTarget Vector  \\n', classes[:3])"
   ],
   "id": "18e26149bfaddcae",
   "outputs": [
    {
     "name": "stdout",
     "output_type": "stream",
     "text": [
      "Feature Matrix  \n",
      " [[2.63185834 0.6893649 ]\n",
      " [0.08080352 4.69068983]\n",
      " [3.00251949 0.74265357]]\n",
      "\n",
      "Target Vector  \n",
      " [1 0 1]\n"
     ]
    }
   ],
   "execution_count": 66
  },
  {
   "metadata": {
    "ExecuteTime": {
     "end_time": "2024-05-14T23:59:53.264992Z",
     "start_time": "2024-05-14T23:59:53.249444Z"
    }
   },
   "cell_type": "code",
   "source": [
    "df = pd.DataFrame(features, columns=['features1', 'features2'])\n",
    "df['cluster_id'] = classes\n",
    "\n",
    "df"
   ],
   "id": "302477be2ce6cb06",
   "outputs": [
    {
     "data": {
      "text/plain": [
       "    features1  features2  cluster_id\n",
       "0    2.631858   0.689365           1\n",
       "1    0.080804   4.690690           0\n",
       "2    3.002519   0.742654           1\n",
       "3   -0.637628   4.091047           0\n",
       "4   -0.072283   2.883769           0\n",
       "..        ...        ...         ...\n",
       "95  -0.338874   3.234825           2\n",
       "96   1.289338   3.449692           0\n",
       "97   1.840706   3.561622           0\n",
       "98  -0.901673   1.315825           2\n",
       "99  -2.752340   3.762245           2\n",
       "\n",
       "[100 rows x 3 columns]"
      ],
      "text/html": [
       "<div>\n",
       "<style scoped>\n",
       "    .dataframe tbody tr th:only-of-type {\n",
       "        vertical-align: middle;\n",
       "    }\n",
       "\n",
       "    .dataframe tbody tr th {\n",
       "        vertical-align: top;\n",
       "    }\n",
       "\n",
       "    .dataframe thead th {\n",
       "        text-align: right;\n",
       "    }\n",
       "</style>\n",
       "<table border=\"1\" class=\"dataframe\">\n",
       "  <thead>\n",
       "    <tr style=\"text-align: right;\">\n",
       "      <th></th>\n",
       "      <th>features1</th>\n",
       "      <th>features2</th>\n",
       "      <th>cluster_id</th>\n",
       "    </tr>\n",
       "  </thead>\n",
       "  <tbody>\n",
       "    <tr>\n",
       "      <th>0</th>\n",
       "      <td>2.631858</td>\n",
       "      <td>0.689365</td>\n",
       "      <td>1</td>\n",
       "    </tr>\n",
       "    <tr>\n",
       "      <th>1</th>\n",
       "      <td>0.080804</td>\n",
       "      <td>4.690690</td>\n",
       "      <td>0</td>\n",
       "    </tr>\n",
       "    <tr>\n",
       "      <th>2</th>\n",
       "      <td>3.002519</td>\n",
       "      <td>0.742654</td>\n",
       "      <td>1</td>\n",
       "    </tr>\n",
       "    <tr>\n",
       "      <th>3</th>\n",
       "      <td>-0.637628</td>\n",
       "      <td>4.091047</td>\n",
       "      <td>0</td>\n",
       "    </tr>\n",
       "    <tr>\n",
       "      <th>4</th>\n",
       "      <td>-0.072283</td>\n",
       "      <td>2.883769</td>\n",
       "      <td>0</td>\n",
       "    </tr>\n",
       "    <tr>\n",
       "      <th>...</th>\n",
       "      <td>...</td>\n",
       "      <td>...</td>\n",
       "      <td>...</td>\n",
       "    </tr>\n",
       "    <tr>\n",
       "      <th>95</th>\n",
       "      <td>-0.338874</td>\n",
       "      <td>3.234825</td>\n",
       "      <td>2</td>\n",
       "    </tr>\n",
       "    <tr>\n",
       "      <th>96</th>\n",
       "      <td>1.289338</td>\n",
       "      <td>3.449692</td>\n",
       "      <td>0</td>\n",
       "    </tr>\n",
       "    <tr>\n",
       "      <th>97</th>\n",
       "      <td>1.840706</td>\n",
       "      <td>3.561622</td>\n",
       "      <td>0</td>\n",
       "    </tr>\n",
       "    <tr>\n",
       "      <th>98</th>\n",
       "      <td>-0.901673</td>\n",
       "      <td>1.315825</td>\n",
       "      <td>2</td>\n",
       "    </tr>\n",
       "    <tr>\n",
       "      <th>99</th>\n",
       "      <td>-2.752340</td>\n",
       "      <td>3.762245</td>\n",
       "      <td>2</td>\n",
       "    </tr>\n",
       "  </tbody>\n",
       "</table>\n",
       "<p>100 rows × 3 columns</p>\n",
       "</div>"
      ]
     },
     "execution_count": 67,
     "metadata": {},
     "output_type": "execute_result"
    }
   ],
   "execution_count": 67
  },
  {
   "metadata": {
    "ExecuteTime": {
     "end_time": "2024-05-14T23:59:57.796286Z",
     "start_time": "2024-05-14T23:59:57.739958Z"
    }
   },
   "cell_type": "code",
   "source": [
    "import plotly.express as px\n",
    "\n",
    "fig = px.scatter(df, x='features1', y='features2', color='cluster_id')\n",
    "fig.show()"
   ],
   "id": "6b0ed7b24313b355",
   "outputs": [
    {
     "data": {
      "application/vnd.plotly.v1+json": {
       "data": [
        {
         "hovertemplate": "features1=%{x}<br>features2=%{y}<br>cluster_id=%{marker.color}<extra></extra>",
         "legendgroup": "",
         "marker": {
          "color": [
           1,
           0,
           1,
           0,
           0,
           0,
           2,
           2,
           1,
           0,
           0,
           0,
           1,
           0,
           2,
           1,
           2,
           0,
           2,
           2,
           2,
           2,
           2,
           0,
           1,
           1,
           1,
           1,
           2,
           2,
           0,
           1,
           1,
           0,
           2,
           2,
           0,
           1,
           1,
           2,
           2,
           1,
           1,
           0,
           0,
           0,
           1,
           1,
           2,
           2,
           2,
           1,
           0,
           1,
           2,
           2,
           1,
           1,
           0,
           1,
           1,
           2,
           2,
           2,
           2,
           1,
           0,
           2,
           1,
           0,
           2,
           0,
           0,
           1,
           1,
           0,
           0,
           0,
           2,
           1,
           0,
           0,
           1,
           0,
           1,
           0,
           0,
           0,
           1,
           0,
           1,
           1,
           2,
           2,
           2,
           2,
           0,
           0,
           2,
           2
          ],
          "coloraxis": "coloraxis",
          "symbol": "circle"
         },
         "mode": "markers",
         "name": "",
         "orientation": "v",
         "showlegend": false,
         "x": [
          2.6318583380478184,
          0.08080351735281943,
          3.0025194892066254,
          -0.6376277690114565,
          -0.07228288652059756,
          0.6283579292203425,
          -2.6743726656330082,
          -0.577483206296145,
          2.727562278445313,
          0.34194798486553146,
          1.7053606407240318,
          2.206560759274216,
          2.520929961163337,
          2.509049292904953,
          -2.2716588352703457,
          3.922826481859447,
          -1.6253565376473382,
          0.163123796502041,
          -1.5951456185465371,
          -2.6312873526503564,
          -2.1705224160547965,
          -1.5661868314494014,
          -0.8867724871243138,
          0.0884843309163823,
          0.9845148999223348,
          2.1821796141364973,
          1.285351446987561,
          0.890117680649521,
          -1.8960858511643495,
          -0.7551134620082385,
          1.1203136497073731,
          3.543519715228477,
          1.6416485406731303,
          2.4703491517041014,
          -1.982436516739249,
          0.8562407616420362,
          0.8730512267529372,
          1.3809348607755014,
          2.4116339186072793,
          -2.266467009613219,
          -0.40026809111539885,
          2.4576091626104266,
          2.3535056956389333,
          -0.7300001120785176,
          1.1312175042434114,
          0.46661789679484156,
          1.1844703722509957,
          1.3606996617015121,
          -2.4397262386660645,
          -1.003627352690152,
          0.636331936058784,
          1.4194214430539964,
          0.06897171416325287,
          2.2635424995097377,
          -2.024936463914211,
          -0.6700734013192147,
          3.234047092592528,
          2.065767542153698,
          1.0220285958479411,
          3.938418218489132,
          0.7847825229471439,
          -2.8197609229453544,
          -2.330313677395747,
          -1.3602305178493768,
          -3.0181616059275114,
          1.6520905744596979,
          1.7373078036934886,
          -2.5271193606114704,
          1.7437149893055048,
          1.9263584960720843,
          -0.6060451894410869,
          3.2460247025341027,
          -1.5767197372875836,
          3.978209547913263,
          1.194041836378175,
          2.1156707630897955,
          1.153696220800248,
          0.303809630770544,
          -1.8808979244753898,
          2.431693052588507,
          -0.27652528150343136,
          1.0427873009296629,
          1.7872641504814972,
          -0.6539282684195495,
          0.8821441163187176,
          1.4201333112919208,
          0.9480878502078401,
          0.46546494097762203,
          2.669346891778958,
          0.5889432611385428,
          1.62011396971124,
          2.4512742340945226,
          -0.4272444173347927,
          -2.5611468550063705,
          -2.8428114237334268,
          -0.33887422086960406,
          1.2893377801973964,
          1.8407062774060006,
          -0.9016725621947184,
          -2.7523395320520736
         ],
         "xaxis": "x",
         "y": [
          0.6893649043599424,
          4.690689825307652,
          0.742653566847103,
          4.091047047234421,
          2.883769390269415,
          4.46013629655237,
          2.4800622165886885,
          3.005433502718313,
          1.3051254961790477,
          3.941046161461252,
          4.4327702382058005,
          5.506167176232801,
          -0.6385800263392865,
          5.7731460973486755,
          2.091443722674108,
          1.8037083182133227,
          2.254403974971015,
          2.577504725116713,
          4.631224982982489,
          2.9700473405940966,
          0.6944791091086953,
          1.749788763591925,
          1.300926217022288,
          2.322990859224463,
          1.9521153868690742,
          1.2996530233826389,
          1.4369128512297547,
          1.7984901468921244,
          2.678503083757196,
          3.7413864152968537,
          5.758060834411365,
          2.79355283596852,
          0.15020884849717953,
          4.098629063682589,
          2.9353614203581793,
          3.8623617483235364,
          4.714385829386762,
          0.9294942182122885,
          1.6042368281298853,
          4.460896856739858,
          1.837950752969699,
          0.2128535689976241,
          2.2240495566249674,
          6.25456272268018,
          4.681949847050563,
          3.8657130258372034,
          0.3188139951735218,
          0.7480291196102665,
          4.034898549428975,
          2.7463359301108743,
          4.254410210769514,
          1.574096954884437,
          4.355732723244529,
          1.8743026964216503,
          4.847414315150108,
          2.2668566680329754,
          0.7177388241255864,
          2.6835341538437723,
          4.116603477422556,
          -0.4500954012045091,
          1.8670603680959483,
          3.184933130682305,
          2.2283324835829217,
          3.552913698225229,
          3.357273962597659,
          2.1201087303203647,
          4.425462343941218,
          1.3731111645555107,
          0.9538290021676827,
          4.152430119150692,
          3.2366099142761433,
          2.8494216528496255,
          4.957405922888751,
          2.378178451372362,
          2.807728613036971,
          3.0689615070947376,
          3.902006391240128,
          3.9442341659078486,
          1.5429309679151035,
          -0.20173713064625742,
          5.0812776832803,
          4.606259225188172,
          1.7001200557343323,
          4.7665695829741646,
          2.84128484558723,
          4.637461654822657,
          4.7321191979788075,
          3.123155143325978,
          1.8198703315044642,
          4.001484576873055,
          2.746927388417279,
          -0.1953978487925685,
          3.57314599205572,
          3.5994767796147493,
          2.4562976565184136,
          3.234824873257972,
          3.449691588146665,
          3.561622307041948,
          1.3158246057263747,
          3.7622452377346693
         ],
         "yaxis": "y",
         "type": "scatter"
        }
       ],
       "layout": {
        "template": {
         "data": {
          "histogram2dcontour": [
           {
            "type": "histogram2dcontour",
            "colorbar": {
             "outlinewidth": 0,
             "ticks": ""
            },
            "colorscale": [
             [
              0.0,
              "#0d0887"
             ],
             [
              0.1111111111111111,
              "#46039f"
             ],
             [
              0.2222222222222222,
              "#7201a8"
             ],
             [
              0.3333333333333333,
              "#9c179e"
             ],
             [
              0.4444444444444444,
              "#bd3786"
             ],
             [
              0.5555555555555556,
              "#d8576b"
             ],
             [
              0.6666666666666666,
              "#ed7953"
             ],
             [
              0.7777777777777778,
              "#fb9f3a"
             ],
             [
              0.8888888888888888,
              "#fdca26"
             ],
             [
              1.0,
              "#f0f921"
             ]
            ]
           }
          ],
          "choropleth": [
           {
            "type": "choropleth",
            "colorbar": {
             "outlinewidth": 0,
             "ticks": ""
            }
           }
          ],
          "histogram2d": [
           {
            "type": "histogram2d",
            "colorbar": {
             "outlinewidth": 0,
             "ticks": ""
            },
            "colorscale": [
             [
              0.0,
              "#0d0887"
             ],
             [
              0.1111111111111111,
              "#46039f"
             ],
             [
              0.2222222222222222,
              "#7201a8"
             ],
             [
              0.3333333333333333,
              "#9c179e"
             ],
             [
              0.4444444444444444,
              "#bd3786"
             ],
             [
              0.5555555555555556,
              "#d8576b"
             ],
             [
              0.6666666666666666,
              "#ed7953"
             ],
             [
              0.7777777777777778,
              "#fb9f3a"
             ],
             [
              0.8888888888888888,
              "#fdca26"
             ],
             [
              1.0,
              "#f0f921"
             ]
            ]
           }
          ],
          "heatmap": [
           {
            "type": "heatmap",
            "colorbar": {
             "outlinewidth": 0,
             "ticks": ""
            },
            "colorscale": [
             [
              0.0,
              "#0d0887"
             ],
             [
              0.1111111111111111,
              "#46039f"
             ],
             [
              0.2222222222222222,
              "#7201a8"
             ],
             [
              0.3333333333333333,
              "#9c179e"
             ],
             [
              0.4444444444444444,
              "#bd3786"
             ],
             [
              0.5555555555555556,
              "#d8576b"
             ],
             [
              0.6666666666666666,
              "#ed7953"
             ],
             [
              0.7777777777777778,
              "#fb9f3a"
             ],
             [
              0.8888888888888888,
              "#fdca26"
             ],
             [
              1.0,
              "#f0f921"
             ]
            ]
           }
          ],
          "heatmapgl": [
           {
            "type": "heatmapgl",
            "colorbar": {
             "outlinewidth": 0,
             "ticks": ""
            },
            "colorscale": [
             [
              0.0,
              "#0d0887"
             ],
             [
              0.1111111111111111,
              "#46039f"
             ],
             [
              0.2222222222222222,
              "#7201a8"
             ],
             [
              0.3333333333333333,
              "#9c179e"
             ],
             [
              0.4444444444444444,
              "#bd3786"
             ],
             [
              0.5555555555555556,
              "#d8576b"
             ],
             [
              0.6666666666666666,
              "#ed7953"
             ],
             [
              0.7777777777777778,
              "#fb9f3a"
             ],
             [
              0.8888888888888888,
              "#fdca26"
             ],
             [
              1.0,
              "#f0f921"
             ]
            ]
           }
          ],
          "contourcarpet": [
           {
            "type": "contourcarpet",
            "colorbar": {
             "outlinewidth": 0,
             "ticks": ""
            }
           }
          ],
          "contour": [
           {
            "type": "contour",
            "colorbar": {
             "outlinewidth": 0,
             "ticks": ""
            },
            "colorscale": [
             [
              0.0,
              "#0d0887"
             ],
             [
              0.1111111111111111,
              "#46039f"
             ],
             [
              0.2222222222222222,
              "#7201a8"
             ],
             [
              0.3333333333333333,
              "#9c179e"
             ],
             [
              0.4444444444444444,
              "#bd3786"
             ],
             [
              0.5555555555555556,
              "#d8576b"
             ],
             [
              0.6666666666666666,
              "#ed7953"
             ],
             [
              0.7777777777777778,
              "#fb9f3a"
             ],
             [
              0.8888888888888888,
              "#fdca26"
             ],
             [
              1.0,
              "#f0f921"
             ]
            ]
           }
          ],
          "surface": [
           {
            "type": "surface",
            "colorbar": {
             "outlinewidth": 0,
             "ticks": ""
            },
            "colorscale": [
             [
              0.0,
              "#0d0887"
             ],
             [
              0.1111111111111111,
              "#46039f"
             ],
             [
              0.2222222222222222,
              "#7201a8"
             ],
             [
              0.3333333333333333,
              "#9c179e"
             ],
             [
              0.4444444444444444,
              "#bd3786"
             ],
             [
              0.5555555555555556,
              "#d8576b"
             ],
             [
              0.6666666666666666,
              "#ed7953"
             ],
             [
              0.7777777777777778,
              "#fb9f3a"
             ],
             [
              0.8888888888888888,
              "#fdca26"
             ],
             [
              1.0,
              "#f0f921"
             ]
            ]
           }
          ],
          "mesh3d": [
           {
            "type": "mesh3d",
            "colorbar": {
             "outlinewidth": 0,
             "ticks": ""
            }
           }
          ],
          "scatter": [
           {
            "fillpattern": {
             "fillmode": "overlay",
             "size": 10,
             "solidity": 0.2
            },
            "type": "scatter"
           }
          ],
          "parcoords": [
           {
            "type": "parcoords",
            "line": {
             "colorbar": {
              "outlinewidth": 0,
              "ticks": ""
             }
            }
           }
          ],
          "scatterpolargl": [
           {
            "type": "scatterpolargl",
            "marker": {
             "colorbar": {
              "outlinewidth": 0,
              "ticks": ""
             }
            }
           }
          ],
          "bar": [
           {
            "error_x": {
             "color": "#2a3f5f"
            },
            "error_y": {
             "color": "#2a3f5f"
            },
            "marker": {
             "line": {
              "color": "#E5ECF6",
              "width": 0.5
             },
             "pattern": {
              "fillmode": "overlay",
              "size": 10,
              "solidity": 0.2
             }
            },
            "type": "bar"
           }
          ],
          "scattergeo": [
           {
            "type": "scattergeo",
            "marker": {
             "colorbar": {
              "outlinewidth": 0,
              "ticks": ""
             }
            }
           }
          ],
          "scatterpolar": [
           {
            "type": "scatterpolar",
            "marker": {
             "colorbar": {
              "outlinewidth": 0,
              "ticks": ""
             }
            }
           }
          ],
          "histogram": [
           {
            "marker": {
             "pattern": {
              "fillmode": "overlay",
              "size": 10,
              "solidity": 0.2
             }
            },
            "type": "histogram"
           }
          ],
          "scattergl": [
           {
            "type": "scattergl",
            "marker": {
             "colorbar": {
              "outlinewidth": 0,
              "ticks": ""
             }
            }
           }
          ],
          "scatter3d": [
           {
            "type": "scatter3d",
            "line": {
             "colorbar": {
              "outlinewidth": 0,
              "ticks": ""
             }
            },
            "marker": {
             "colorbar": {
              "outlinewidth": 0,
              "ticks": ""
             }
            }
           }
          ],
          "scattermapbox": [
           {
            "type": "scattermapbox",
            "marker": {
             "colorbar": {
              "outlinewidth": 0,
              "ticks": ""
             }
            }
           }
          ],
          "scatterternary": [
           {
            "type": "scatterternary",
            "marker": {
             "colorbar": {
              "outlinewidth": 0,
              "ticks": ""
             }
            }
           }
          ],
          "scattercarpet": [
           {
            "type": "scattercarpet",
            "marker": {
             "colorbar": {
              "outlinewidth": 0,
              "ticks": ""
             }
            }
           }
          ],
          "carpet": [
           {
            "aaxis": {
             "endlinecolor": "#2a3f5f",
             "gridcolor": "white",
             "linecolor": "white",
             "minorgridcolor": "white",
             "startlinecolor": "#2a3f5f"
            },
            "baxis": {
             "endlinecolor": "#2a3f5f",
             "gridcolor": "white",
             "linecolor": "white",
             "minorgridcolor": "white",
             "startlinecolor": "#2a3f5f"
            },
            "type": "carpet"
           }
          ],
          "table": [
           {
            "cells": {
             "fill": {
              "color": "#EBF0F8"
             },
             "line": {
              "color": "white"
             }
            },
            "header": {
             "fill": {
              "color": "#C8D4E3"
             },
             "line": {
              "color": "white"
             }
            },
            "type": "table"
           }
          ],
          "barpolar": [
           {
            "marker": {
             "line": {
              "color": "#E5ECF6",
              "width": 0.5
             },
             "pattern": {
              "fillmode": "overlay",
              "size": 10,
              "solidity": 0.2
             }
            },
            "type": "barpolar"
           }
          ],
          "pie": [
           {
            "automargin": true,
            "type": "pie"
           }
          ]
         },
         "layout": {
          "autotypenumbers": "strict",
          "colorway": [
           "#636efa",
           "#EF553B",
           "#00cc96",
           "#ab63fa",
           "#FFA15A",
           "#19d3f3",
           "#FF6692",
           "#B6E880",
           "#FF97FF",
           "#FECB52"
          ],
          "font": {
           "color": "#2a3f5f"
          },
          "hovermode": "closest",
          "hoverlabel": {
           "align": "left"
          },
          "paper_bgcolor": "white",
          "plot_bgcolor": "#E5ECF6",
          "polar": {
           "bgcolor": "#E5ECF6",
           "angularaxis": {
            "gridcolor": "white",
            "linecolor": "white",
            "ticks": ""
           },
           "radialaxis": {
            "gridcolor": "white",
            "linecolor": "white",
            "ticks": ""
           }
          },
          "ternary": {
           "bgcolor": "#E5ECF6",
           "aaxis": {
            "gridcolor": "white",
            "linecolor": "white",
            "ticks": ""
           },
           "baxis": {
            "gridcolor": "white",
            "linecolor": "white",
            "ticks": ""
           },
           "caxis": {
            "gridcolor": "white",
            "linecolor": "white",
            "ticks": ""
           }
          },
          "coloraxis": {
           "colorbar": {
            "outlinewidth": 0,
            "ticks": ""
           }
          },
          "colorscale": {
           "sequential": [
            [
             0.0,
             "#0d0887"
            ],
            [
             0.1111111111111111,
             "#46039f"
            ],
            [
             0.2222222222222222,
             "#7201a8"
            ],
            [
             0.3333333333333333,
             "#9c179e"
            ],
            [
             0.4444444444444444,
             "#bd3786"
            ],
            [
             0.5555555555555556,
             "#d8576b"
            ],
            [
             0.6666666666666666,
             "#ed7953"
            ],
            [
             0.7777777777777778,
             "#fb9f3a"
            ],
            [
             0.8888888888888888,
             "#fdca26"
            ],
            [
             1.0,
             "#f0f921"
            ]
           ],
           "sequentialminus": [
            [
             0.0,
             "#0d0887"
            ],
            [
             0.1111111111111111,
             "#46039f"
            ],
            [
             0.2222222222222222,
             "#7201a8"
            ],
            [
             0.3333333333333333,
             "#9c179e"
            ],
            [
             0.4444444444444444,
             "#bd3786"
            ],
            [
             0.5555555555555556,
             "#d8576b"
            ],
            [
             0.6666666666666666,
             "#ed7953"
            ],
            [
             0.7777777777777778,
             "#fb9f3a"
            ],
            [
             0.8888888888888888,
             "#fdca26"
            ],
            [
             1.0,
             "#f0f921"
            ]
           ],
           "diverging": [
            [
             0,
             "#8e0152"
            ],
            [
             0.1,
             "#c51b7d"
            ],
            [
             0.2,
             "#de77ae"
            ],
            [
             0.3,
             "#f1b6da"
            ],
            [
             0.4,
             "#fde0ef"
            ],
            [
             0.5,
             "#f7f7f7"
            ],
            [
             0.6,
             "#e6f5d0"
            ],
            [
             0.7,
             "#b8e186"
            ],
            [
             0.8,
             "#7fbc41"
            ],
            [
             0.9,
             "#4d9221"
            ],
            [
             1,
             "#276419"
            ]
           ]
          },
          "xaxis": {
           "gridcolor": "white",
           "linecolor": "white",
           "ticks": "",
           "title": {
            "standoff": 15
           },
           "zerolinecolor": "white",
           "automargin": true,
           "zerolinewidth": 2
          },
          "yaxis": {
           "gridcolor": "white",
           "linecolor": "white",
           "ticks": "",
           "title": {
            "standoff": 15
           },
           "zerolinecolor": "white",
           "automargin": true,
           "zerolinewidth": 2
          },
          "scene": {
           "xaxis": {
            "backgroundcolor": "#E5ECF6",
            "gridcolor": "white",
            "linecolor": "white",
            "showbackground": true,
            "ticks": "",
            "zerolinecolor": "white",
            "gridwidth": 2
           },
           "yaxis": {
            "backgroundcolor": "#E5ECF6",
            "gridcolor": "white",
            "linecolor": "white",
            "showbackground": true,
            "ticks": "",
            "zerolinecolor": "white",
            "gridwidth": 2
           },
           "zaxis": {
            "backgroundcolor": "#E5ECF6",
            "gridcolor": "white",
            "linecolor": "white",
            "showbackground": true,
            "ticks": "",
            "zerolinecolor": "white",
            "gridwidth": 2
           }
          },
          "shapedefaults": {
           "line": {
            "color": "#2a3f5f"
           }
          },
          "annotationdefaults": {
           "arrowcolor": "#2a3f5f",
           "arrowhead": 0,
           "arrowwidth": 1
          },
          "geo": {
           "bgcolor": "white",
           "landcolor": "#E5ECF6",
           "subunitcolor": "white",
           "showland": true,
           "showlakes": true,
           "lakecolor": "white"
          },
          "title": {
           "x": 0.05
          },
          "mapbox": {
           "style": "light"
          }
         }
        },
        "xaxis": {
         "anchor": "y",
         "domain": [
          0.0,
          1.0
         ],
         "title": {
          "text": "features1"
         }
        },
        "yaxis": {
         "anchor": "x",
         "domain": [
          0.0,
          1.0
         ],
         "title": {
          "text": "features2"
         }
        },
        "coloraxis": {
         "colorbar": {
          "title": {
           "text": "cluster_id"
          }
         },
         "colorscale": [
          [
           0.0,
           "#0d0887"
          ],
          [
           0.1111111111111111,
           "#46039f"
          ],
          [
           0.2222222222222222,
           "#7201a8"
          ],
          [
           0.3333333333333333,
           "#9c179e"
          ],
          [
           0.4444444444444444,
           "#bd3786"
          ],
          [
           0.5555555555555556,
           "#d8576b"
          ],
          [
           0.6666666666666666,
           "#ed7953"
          ],
          [
           0.7777777777777778,
           "#fb9f3a"
          ],
          [
           0.8888888888888888,
           "#fdca26"
          ],
          [
           1.0,
           "#f0f921"
          ]
         ]
        },
        "legend": {
         "tracegroupgap": 0
        },
        "margin": {
         "t": 60
        }
       },
       "config": {
        "plotlyServerURL": "https://plot.ly"
       }
      },
      "text/html": [
       "<div>                            <div id=\"38dd1435-75a2-43a2-995e-4e32a2bf34bc\" class=\"plotly-graph-div\" style=\"height:525px; width:100%;\"></div>            <script type=\"text/javascript\">                require([\"plotly\"], function(Plotly) {                    window.PLOTLYENV=window.PLOTLYENV || {};                                    if (document.getElementById(\"38dd1435-75a2-43a2-995e-4e32a2bf34bc\")) {                    Plotly.newPlot(                        \"38dd1435-75a2-43a2-995e-4e32a2bf34bc\",                        [{\"hovertemplate\":\"features1=%{x}<br>features2=%{y}<br>cluster_id=%{marker.color}<extra></extra>\",\"legendgroup\":\"\",\"marker\":{\"color\":[1,0,1,0,0,0,2,2,1,0,0,0,1,0,2,1,2,0,2,2,2,2,2,0,1,1,1,1,2,2,0,1,1,0,2,2,0,1,1,2,2,1,1,0,0,0,1,1,2,2,2,1,0,1,2,2,1,1,0,1,1,2,2,2,2,1,0,2,1,0,2,0,0,1,1,0,0,0,2,1,0,0,1,0,1,0,0,0,1,0,1,1,2,2,2,2,0,0,2,2],\"coloraxis\":\"coloraxis\",\"symbol\":\"circle\"},\"mode\":\"markers\",\"name\":\"\",\"orientation\":\"v\",\"showlegend\":false,\"x\":[2.6318583380478184,0.08080351735281943,3.0025194892066254,-0.6376277690114565,-0.07228288652059756,0.6283579292203425,-2.6743726656330082,-0.577483206296145,2.727562278445313,0.34194798486553146,1.7053606407240318,2.206560759274216,2.520929961163337,2.509049292904953,-2.2716588352703457,3.922826481859447,-1.6253565376473382,0.163123796502041,-1.5951456185465371,-2.6312873526503564,-2.1705224160547965,-1.5661868314494014,-0.8867724871243138,0.0884843309163823,0.9845148999223348,2.1821796141364973,1.285351446987561,0.890117680649521,-1.8960858511643495,-0.7551134620082385,1.1203136497073731,3.543519715228477,1.6416485406731303,2.4703491517041014,-1.982436516739249,0.8562407616420362,0.8730512267529372,1.3809348607755014,2.4116339186072793,-2.266467009613219,-0.40026809111539885,2.4576091626104266,2.3535056956389333,-0.7300001120785176,1.1312175042434114,0.46661789679484156,1.1844703722509957,1.3606996617015121,-2.4397262386660645,-1.003627352690152,0.636331936058784,1.4194214430539964,0.06897171416325287,2.2635424995097377,-2.024936463914211,-0.6700734013192147,3.234047092592528,2.065767542153698,1.0220285958479411,3.938418218489132,0.7847825229471439,-2.8197609229453544,-2.330313677395747,-1.3602305178493768,-3.0181616059275114,1.6520905744596979,1.7373078036934886,-2.5271193606114704,1.7437149893055048,1.9263584960720843,-0.6060451894410869,3.2460247025341027,-1.5767197372875836,3.978209547913263,1.194041836378175,2.1156707630897955,1.153696220800248,0.303809630770544,-1.8808979244753898,2.431693052588507,-0.27652528150343136,1.0427873009296629,1.7872641504814972,-0.6539282684195495,0.8821441163187176,1.4201333112919208,0.9480878502078401,0.46546494097762203,2.669346891778958,0.5889432611385428,1.62011396971124,2.4512742340945226,-0.4272444173347927,-2.5611468550063705,-2.8428114237334268,-0.33887422086960406,1.2893377801973964,1.8407062774060006,-0.9016725621947184,-2.7523395320520736],\"xaxis\":\"x\",\"y\":[0.6893649043599424,4.690689825307652,0.742653566847103,4.091047047234421,2.883769390269415,4.46013629655237,2.4800622165886885,3.005433502718313,1.3051254961790477,3.941046161461252,4.4327702382058005,5.506167176232801,-0.6385800263392865,5.7731460973486755,2.091443722674108,1.8037083182133227,2.254403974971015,2.577504725116713,4.631224982982489,2.9700473405940966,0.6944791091086953,1.749788763591925,1.300926217022288,2.322990859224463,1.9521153868690742,1.2996530233826389,1.4369128512297547,1.7984901468921244,2.678503083757196,3.7413864152968537,5.758060834411365,2.79355283596852,0.15020884849717953,4.098629063682589,2.9353614203581793,3.8623617483235364,4.714385829386762,0.9294942182122885,1.6042368281298853,4.460896856739858,1.837950752969699,0.2128535689976241,2.2240495566249674,6.25456272268018,4.681949847050563,3.8657130258372034,0.3188139951735218,0.7480291196102665,4.034898549428975,2.7463359301108743,4.254410210769514,1.574096954884437,4.355732723244529,1.8743026964216503,4.847414315150108,2.2668566680329754,0.7177388241255864,2.6835341538437723,4.116603477422556,-0.4500954012045091,1.8670603680959483,3.184933130682305,2.2283324835829217,3.552913698225229,3.357273962597659,2.1201087303203647,4.425462343941218,1.3731111645555107,0.9538290021676827,4.152430119150692,3.2366099142761433,2.8494216528496255,4.957405922888751,2.378178451372362,2.807728613036971,3.0689615070947376,3.902006391240128,3.9442341659078486,1.5429309679151035,-0.20173713064625742,5.0812776832803,4.606259225188172,1.7001200557343323,4.7665695829741646,2.84128484558723,4.637461654822657,4.7321191979788075,3.123155143325978,1.8198703315044642,4.001484576873055,2.746927388417279,-0.1953978487925685,3.57314599205572,3.5994767796147493,2.4562976565184136,3.234824873257972,3.449691588146665,3.561622307041948,1.3158246057263747,3.7622452377346693],\"yaxis\":\"y\",\"type\":\"scatter\"}],                        {\"template\":{\"data\":{\"histogram2dcontour\":[{\"type\":\"histogram2dcontour\",\"colorbar\":{\"outlinewidth\":0,\"ticks\":\"\"},\"colorscale\":[[0.0,\"#0d0887\"],[0.1111111111111111,\"#46039f\"],[0.2222222222222222,\"#7201a8\"],[0.3333333333333333,\"#9c179e\"],[0.4444444444444444,\"#bd3786\"],[0.5555555555555556,\"#d8576b\"],[0.6666666666666666,\"#ed7953\"],[0.7777777777777778,\"#fb9f3a\"],[0.8888888888888888,\"#fdca26\"],[1.0,\"#f0f921\"]]}],\"choropleth\":[{\"type\":\"choropleth\",\"colorbar\":{\"outlinewidth\":0,\"ticks\":\"\"}}],\"histogram2d\":[{\"type\":\"histogram2d\",\"colorbar\":{\"outlinewidth\":0,\"ticks\":\"\"},\"colorscale\":[[0.0,\"#0d0887\"],[0.1111111111111111,\"#46039f\"],[0.2222222222222222,\"#7201a8\"],[0.3333333333333333,\"#9c179e\"],[0.4444444444444444,\"#bd3786\"],[0.5555555555555556,\"#d8576b\"],[0.6666666666666666,\"#ed7953\"],[0.7777777777777778,\"#fb9f3a\"],[0.8888888888888888,\"#fdca26\"],[1.0,\"#f0f921\"]]}],\"heatmap\":[{\"type\":\"heatmap\",\"colorbar\":{\"outlinewidth\":0,\"ticks\":\"\"},\"colorscale\":[[0.0,\"#0d0887\"],[0.1111111111111111,\"#46039f\"],[0.2222222222222222,\"#7201a8\"],[0.3333333333333333,\"#9c179e\"],[0.4444444444444444,\"#bd3786\"],[0.5555555555555556,\"#d8576b\"],[0.6666666666666666,\"#ed7953\"],[0.7777777777777778,\"#fb9f3a\"],[0.8888888888888888,\"#fdca26\"],[1.0,\"#f0f921\"]]}],\"heatmapgl\":[{\"type\":\"heatmapgl\",\"colorbar\":{\"outlinewidth\":0,\"ticks\":\"\"},\"colorscale\":[[0.0,\"#0d0887\"],[0.1111111111111111,\"#46039f\"],[0.2222222222222222,\"#7201a8\"],[0.3333333333333333,\"#9c179e\"],[0.4444444444444444,\"#bd3786\"],[0.5555555555555556,\"#d8576b\"],[0.6666666666666666,\"#ed7953\"],[0.7777777777777778,\"#fb9f3a\"],[0.8888888888888888,\"#fdca26\"],[1.0,\"#f0f921\"]]}],\"contourcarpet\":[{\"type\":\"contourcarpet\",\"colorbar\":{\"outlinewidth\":0,\"ticks\":\"\"}}],\"contour\":[{\"type\":\"contour\",\"colorbar\":{\"outlinewidth\":0,\"ticks\":\"\"},\"colorscale\":[[0.0,\"#0d0887\"],[0.1111111111111111,\"#46039f\"],[0.2222222222222222,\"#7201a8\"],[0.3333333333333333,\"#9c179e\"],[0.4444444444444444,\"#bd3786\"],[0.5555555555555556,\"#d8576b\"],[0.6666666666666666,\"#ed7953\"],[0.7777777777777778,\"#fb9f3a\"],[0.8888888888888888,\"#fdca26\"],[1.0,\"#f0f921\"]]}],\"surface\":[{\"type\":\"surface\",\"colorbar\":{\"outlinewidth\":0,\"ticks\":\"\"},\"colorscale\":[[0.0,\"#0d0887\"],[0.1111111111111111,\"#46039f\"],[0.2222222222222222,\"#7201a8\"],[0.3333333333333333,\"#9c179e\"],[0.4444444444444444,\"#bd3786\"],[0.5555555555555556,\"#d8576b\"],[0.6666666666666666,\"#ed7953\"],[0.7777777777777778,\"#fb9f3a\"],[0.8888888888888888,\"#fdca26\"],[1.0,\"#f0f921\"]]}],\"mesh3d\":[{\"type\":\"mesh3d\",\"colorbar\":{\"outlinewidth\":0,\"ticks\":\"\"}}],\"scatter\":[{\"fillpattern\":{\"fillmode\":\"overlay\",\"size\":10,\"solidity\":0.2},\"type\":\"scatter\"}],\"parcoords\":[{\"type\":\"parcoords\",\"line\":{\"colorbar\":{\"outlinewidth\":0,\"ticks\":\"\"}}}],\"scatterpolargl\":[{\"type\":\"scatterpolargl\",\"marker\":{\"colorbar\":{\"outlinewidth\":0,\"ticks\":\"\"}}}],\"bar\":[{\"error_x\":{\"color\":\"#2a3f5f\"},\"error_y\":{\"color\":\"#2a3f5f\"},\"marker\":{\"line\":{\"color\":\"#E5ECF6\",\"width\":0.5},\"pattern\":{\"fillmode\":\"overlay\",\"size\":10,\"solidity\":0.2}},\"type\":\"bar\"}],\"scattergeo\":[{\"type\":\"scattergeo\",\"marker\":{\"colorbar\":{\"outlinewidth\":0,\"ticks\":\"\"}}}],\"scatterpolar\":[{\"type\":\"scatterpolar\",\"marker\":{\"colorbar\":{\"outlinewidth\":0,\"ticks\":\"\"}}}],\"histogram\":[{\"marker\":{\"pattern\":{\"fillmode\":\"overlay\",\"size\":10,\"solidity\":0.2}},\"type\":\"histogram\"}],\"scattergl\":[{\"type\":\"scattergl\",\"marker\":{\"colorbar\":{\"outlinewidth\":0,\"ticks\":\"\"}}}],\"scatter3d\":[{\"type\":\"scatter3d\",\"line\":{\"colorbar\":{\"outlinewidth\":0,\"ticks\":\"\"}},\"marker\":{\"colorbar\":{\"outlinewidth\":0,\"ticks\":\"\"}}}],\"scattermapbox\":[{\"type\":\"scattermapbox\",\"marker\":{\"colorbar\":{\"outlinewidth\":0,\"ticks\":\"\"}}}],\"scatterternary\":[{\"type\":\"scatterternary\",\"marker\":{\"colorbar\":{\"outlinewidth\":0,\"ticks\":\"\"}}}],\"scattercarpet\":[{\"type\":\"scattercarpet\",\"marker\":{\"colorbar\":{\"outlinewidth\":0,\"ticks\":\"\"}}}],\"carpet\":[{\"aaxis\":{\"endlinecolor\":\"#2a3f5f\",\"gridcolor\":\"white\",\"linecolor\":\"white\",\"minorgridcolor\":\"white\",\"startlinecolor\":\"#2a3f5f\"},\"baxis\":{\"endlinecolor\":\"#2a3f5f\",\"gridcolor\":\"white\",\"linecolor\":\"white\",\"minorgridcolor\":\"white\",\"startlinecolor\":\"#2a3f5f\"},\"type\":\"carpet\"}],\"table\":[{\"cells\":{\"fill\":{\"color\":\"#EBF0F8\"},\"line\":{\"color\":\"white\"}},\"header\":{\"fill\":{\"color\":\"#C8D4E3\"},\"line\":{\"color\":\"white\"}},\"type\":\"table\"}],\"barpolar\":[{\"marker\":{\"line\":{\"color\":\"#E5ECF6\",\"width\":0.5},\"pattern\":{\"fillmode\":\"overlay\",\"size\":10,\"solidity\":0.2}},\"type\":\"barpolar\"}],\"pie\":[{\"automargin\":true,\"type\":\"pie\"}]},\"layout\":{\"autotypenumbers\":\"strict\",\"colorway\":[\"#636efa\",\"#EF553B\",\"#00cc96\",\"#ab63fa\",\"#FFA15A\",\"#19d3f3\",\"#FF6692\",\"#B6E880\",\"#FF97FF\",\"#FECB52\"],\"font\":{\"color\":\"#2a3f5f\"},\"hovermode\":\"closest\",\"hoverlabel\":{\"align\":\"left\"},\"paper_bgcolor\":\"white\",\"plot_bgcolor\":\"#E5ECF6\",\"polar\":{\"bgcolor\":\"#E5ECF6\",\"angularaxis\":{\"gridcolor\":\"white\",\"linecolor\":\"white\",\"ticks\":\"\"},\"radialaxis\":{\"gridcolor\":\"white\",\"linecolor\":\"white\",\"ticks\":\"\"}},\"ternary\":{\"bgcolor\":\"#E5ECF6\",\"aaxis\":{\"gridcolor\":\"white\",\"linecolor\":\"white\",\"ticks\":\"\"},\"baxis\":{\"gridcolor\":\"white\",\"linecolor\":\"white\",\"ticks\":\"\"},\"caxis\":{\"gridcolor\":\"white\",\"linecolor\":\"white\",\"ticks\":\"\"}},\"coloraxis\":{\"colorbar\":{\"outlinewidth\":0,\"ticks\":\"\"}},\"colorscale\":{\"sequential\":[[0.0,\"#0d0887\"],[0.1111111111111111,\"#46039f\"],[0.2222222222222222,\"#7201a8\"],[0.3333333333333333,\"#9c179e\"],[0.4444444444444444,\"#bd3786\"],[0.5555555555555556,\"#d8576b\"],[0.6666666666666666,\"#ed7953\"],[0.7777777777777778,\"#fb9f3a\"],[0.8888888888888888,\"#fdca26\"],[1.0,\"#f0f921\"]],\"sequentialminus\":[[0.0,\"#0d0887\"],[0.1111111111111111,\"#46039f\"],[0.2222222222222222,\"#7201a8\"],[0.3333333333333333,\"#9c179e\"],[0.4444444444444444,\"#bd3786\"],[0.5555555555555556,\"#d8576b\"],[0.6666666666666666,\"#ed7953\"],[0.7777777777777778,\"#fb9f3a\"],[0.8888888888888888,\"#fdca26\"],[1.0,\"#f0f921\"]],\"diverging\":[[0,\"#8e0152\"],[0.1,\"#c51b7d\"],[0.2,\"#de77ae\"],[0.3,\"#f1b6da\"],[0.4,\"#fde0ef\"],[0.5,\"#f7f7f7\"],[0.6,\"#e6f5d0\"],[0.7,\"#b8e186\"],[0.8,\"#7fbc41\"],[0.9,\"#4d9221\"],[1,\"#276419\"]]},\"xaxis\":{\"gridcolor\":\"white\",\"linecolor\":\"white\",\"ticks\":\"\",\"title\":{\"standoff\":15},\"zerolinecolor\":\"white\",\"automargin\":true,\"zerolinewidth\":2},\"yaxis\":{\"gridcolor\":\"white\",\"linecolor\":\"white\",\"ticks\":\"\",\"title\":{\"standoff\":15},\"zerolinecolor\":\"white\",\"automargin\":true,\"zerolinewidth\":2},\"scene\":{\"xaxis\":{\"backgroundcolor\":\"#E5ECF6\",\"gridcolor\":\"white\",\"linecolor\":\"white\",\"showbackground\":true,\"ticks\":\"\",\"zerolinecolor\":\"white\",\"gridwidth\":2},\"yaxis\":{\"backgroundcolor\":\"#E5ECF6\",\"gridcolor\":\"white\",\"linecolor\":\"white\",\"showbackground\":true,\"ticks\":\"\",\"zerolinecolor\":\"white\",\"gridwidth\":2},\"zaxis\":{\"backgroundcolor\":\"#E5ECF6\",\"gridcolor\":\"white\",\"linecolor\":\"white\",\"showbackground\":true,\"ticks\":\"\",\"zerolinecolor\":\"white\",\"gridwidth\":2}},\"shapedefaults\":{\"line\":{\"color\":\"#2a3f5f\"}},\"annotationdefaults\":{\"arrowcolor\":\"#2a3f5f\",\"arrowhead\":0,\"arrowwidth\":1},\"geo\":{\"bgcolor\":\"white\",\"landcolor\":\"#E5ECF6\",\"subunitcolor\":\"white\",\"showland\":true,\"showlakes\":true,\"lakecolor\":\"white\"},\"title\":{\"x\":0.05},\"mapbox\":{\"style\":\"light\"}}},\"xaxis\":{\"anchor\":\"y\",\"domain\":[0.0,1.0],\"title\":{\"text\":\"features1\"}},\"yaxis\":{\"anchor\":\"x\",\"domain\":[0.0,1.0],\"title\":{\"text\":\"features2\"}},\"coloraxis\":{\"colorbar\":{\"title\":{\"text\":\"cluster_id\"}},\"colorscale\":[[0.0,\"#0d0887\"],[0.1111111111111111,\"#46039f\"],[0.2222222222222222,\"#7201a8\"],[0.3333333333333333,\"#9c179e\"],[0.4444444444444444,\"#bd3786\"],[0.5555555555555556,\"#d8576b\"],[0.6666666666666666,\"#ed7953\"],[0.7777777777777778,\"#fb9f3a\"],[0.8888888888888888,\"#fdca26\"],[1.0,\"#f0f921\"]]},\"legend\":{\"tracegroupgap\":0},\"margin\":{\"t\":60}},                        {\"responsive\": true}                    ).then(function(){\n",
       "                            \n",
       "var gd = document.getElementById('38dd1435-75a2-43a2-995e-4e32a2bf34bc');\n",
       "var x = new MutationObserver(function (mutations, observer) {{\n",
       "        var display = window.getComputedStyle(gd).display;\n",
       "        if (!display || display === 'none') {{\n",
       "            console.log([gd, 'removed!']);\n",
       "            Plotly.purge(gd);\n",
       "            observer.disconnect();\n",
       "        }}\n",
       "}});\n",
       "\n",
       "// Listen for the removal of the full notebook cells\n",
       "var notebookContainer = gd.closest('#notebook-container');\n",
       "if (notebookContainer) {{\n",
       "    x.observe(notebookContainer, {childList: true});\n",
       "}}\n",
       "\n",
       "// Listen for the clearing of the current output cell\n",
       "var outputEl = gd.closest('.output');\n",
       "if (outputEl) {{\n",
       "    x.observe(outputEl, {childList: true});\n",
       "}}\n",
       "\n",
       "                        })                };                });            </script>        </div>"
      ]
     },
     "metadata": {},
     "output_type": "display_data"
    }
   ],
   "execution_count": 68
  },
  {
   "metadata": {
    "ExecuteTime": {
     "end_time": "2024-05-15T01:30:27.944608Z",
     "start_time": "2024-05-15T01:30:27.940346Z"
    }
   },
   "cell_type": "code",
   "source": [
    "# using sqlite3 in python\n",
    "\n",
    "# import sqlite3\n",
    "import sqlite3\n",
    "\n",
    "# establish a connection to sqlite3\n",
    "conn = sqlite3.connect('example.db')\n",
    "\n",
    "# create cursor object\n",
    "cursor = conn.cursor()"
   ],
   "id": "6fd55c5897557cd9",
   "outputs": [],
   "execution_count": 117
  },
  {
   "metadata": {
    "ExecuteTime": {
     "end_time": "2024-05-15T01:30:28.843434Z",
     "start_time": "2024-05-15T01:30:28.839941Z"
    }
   },
   "cell_type": "code",
   "source": [
    "# create a table\n",
    "\n",
    "query = '''CREATE TABLE EMPLOYEE(\n",
    "    FIRST_NAME  CHAR(20)    NOT NULL,\n",
    "    LAST_NAME   CHAR(20)    NOT NULL,\n",
    "    AGE         INT         NOT NULL,\n",
    "    SEX         CHAR(1),\n",
    "    INCOME      FLOAT\n",
    ")'''\n",
    "\n",
    "cursor.execute(query)\n",
    "conn.commit()"
   ],
   "id": "bebfc36fbabed3bc",
   "outputs": [],
   "execution_count": 118
  },
  {
   "metadata": {
    "ExecuteTime": {
     "end_time": "2024-05-15T01:30:29.727446Z",
     "start_time": "2024-05-15T01:30:29.725037Z"
    }
   },
   "cell_type": "code",
   "source": [
    "# a lookup on the table\n",
    "query = '''SELECT * FROM EMPLOYEE'''\n",
    "\n",
    "cursor.execute(query)\n",
    "conn.commit()\n",
    "\n",
    "print(cursor.description)"
   ],
   "id": "2a610d903adc597a",
   "outputs": [
    {
     "name": "stdout",
     "output_type": "stream",
     "text": [
      "(('FIRST_NAME', None, None, None, None, None, None), ('LAST_NAME', None, None, None, None, None, None), ('AGE', None, None, None, None, None, None), ('SEX', None, None, None, None, None, None), ('INCOME', None, None, None, None, None, None))\n"
     ]
    }
   ],
   "execution_count": 119
  },
  {
   "metadata": {
    "ExecuteTime": {
     "end_time": "2024-05-15T01:47:18.041903Z",
     "start_time": "2024-05-15T01:47:18.038892Z"
    }
   },
   "cell_type": "code",
   "source": [
    "# creating multiple insert into table\n",
    "\n",
    "cursor.execute('''\n",
    "    INSERT INTO EMPLOYEE(FIRST_NAME, LAST_NAME, AGE, SEX, INCOME) \n",
    "    VALUES('John', 'Smith', 23, 'M', 3000)\n",
    "''')\n",
    "cursor.execute('''\n",
    "    INSERT INTO EMPLOYEE(FIRST_NAME, LAST_NAME, AGE, SEX, INCOME) \n",
    "    VALUES('Janet', 'DOe', 123, 'M', 3000)\n",
    "''')\n",
    "cursor.execute('''\n",
    "    INSERT INTO EMPLOYEE(FIRST_NAME, LAST_NAME, AGE, SEX, INCOME) \n",
    "    VALUES('Xander', 'Phlip', 30, 'F', 45000)\n",
    "''')\n",
    "cursor.execute('''\n",
    "    INSERT INTO EMPLOYEE(FIRST_NAME, LAST_NAME, AGE, SEX, INCOME) \n",
    "    VALUES('Ola', 'Mide', 15, 'M', 900000)\n",
    "''')\n",
    "cursor.execute('''\n",
    "    INSERT INTO EMPLOYEE(FIRST_NAME, LAST_NAME, AGE, SEX, INCOME) \n",
    "    VALUES('Akin', 'Olu', 28, 'M', 3000)\n",
    "''')\n",
    "cursor.execute('''\n",
    "    INSERT INTO EMPLOYEE(FIRST_NAME, LAST_NAME, AGE, SEX, INCOME) \n",
    "    VALUES('Emmanuel', 'Akinyemi', 28, 'M', 10000)\n",
    "''')\n",
    "\n",
    "conn.commit()"
   ],
   "id": "bcf61d3a343fae89",
   "outputs": [],
   "execution_count": 143
  },
  {
   "metadata": {
    "ExecuteTime": {
     "end_time": "2024-05-15T01:47:21.248800Z",
     "start_time": "2024-05-15T01:47:21.243652Z"
    }
   },
   "cell_type": "code",
   "source": [
    "# a lookup on the table\n",
    "query = '''SELECT * FROM EMPLOYEE'''\n",
    "\n",
    "cursor.execute(query)\n",
    "conn.commit()\n",
    "\n",
    "result = cursor.fetchall()\n",
    "\n",
    "print(result)"
   ],
   "id": "29d03d285253ff0e",
   "outputs": [
    {
     "name": "stdout",
     "output_type": "stream",
     "text": [
      "[('John', 'Smith', 24, 'M', 3000.0), ('Ola', 'Mide', 16, 'M', 900000.0), ('John', 'Smith', 23, 'M', 3000.0), ('Janet', 'DOe', 123, 'M', 3000.0), ('Xander', 'Phlip', 30, 'F', 45000.0), ('Ola', 'Mide', 15, 'M', 900000.0), ('Akin', 'Olu', 28, 'M', 3000.0), ('Emmanuel', 'Akinyemi', 28, 'M', 10000.0)]\n"
     ]
    }
   ],
   "execution_count": 144
  },
  {
   "metadata": {
    "ExecuteTime": {
     "end_time": "2024-05-15T01:47:22.363885Z",
     "start_time": "2024-05-15T01:47:22.360415Z"
    }
   },
   "cell_type": "code",
   "source": [
    "# insert many\n",
    "\n",
    "data = [\n",
    "    ('Chadwick', 'Clerk', 26, 'M', 3000),\n",
    "    ('Gotham', 'Test', 26, 'M', 3000),\n",
    "    ('Sourab', 'Test', 26, 'M', 3000),\n",
    "    ('Sarala', 'Test', 26, 'M', 3000),\n",
    "]\n",
    "\n",
    "cursor.executemany('''\n",
    "    INSERT INTO EMPLOYEE (FIRST_NAME, LAST_NAME, AGE, SEX, INCOME) \n",
    "    VALUES (?, ?, ?, ?, ?) \n",
    "''', data)\n",
    "\n",
    "conn.commit()"
   ],
   "id": "9b36e14bc4b49b72",
   "outputs": [],
   "execution_count": 145
  },
  {
   "metadata": {
    "ExecuteTime": {
     "end_time": "2024-05-15T01:47:23.242591Z",
     "start_time": "2024-05-15T01:47:23.240020Z"
    }
   },
   "cell_type": "code",
   "source": [
    "# a lookup on the table\n",
    "query = '''SELECT * FROM EMPLOYEE'''\n",
    "\n",
    "cursor.execute(query)\n",
    "conn.commit()\n",
    "\n",
    "result = cursor.fetchall()\n",
    "\n",
    "print(result)"
   ],
   "id": "f9f957e287085e59",
   "outputs": [
    {
     "name": "stdout",
     "output_type": "stream",
     "text": [
      "[('John', 'Smith', 24, 'M', 3000.0), ('Ola', 'Mide', 16, 'M', 900000.0), ('John', 'Smith', 23, 'M', 3000.0), ('Janet', 'DOe', 123, 'M', 3000.0), ('Xander', 'Phlip', 30, 'F', 45000.0), ('Ola', 'Mide', 15, 'M', 900000.0), ('Akin', 'Olu', 28, 'M', 3000.0), ('Emmanuel', 'Akinyemi', 28, 'M', 10000.0), ('Chadwick', 'Clerk', 26, 'M', 3000.0), ('Gotham', 'Test', 26, 'M', 3000.0), ('Sourab', 'Test', 26, 'M', 3000.0), ('Sarala', 'Test', 26, 'M', 3000.0)]\n"
     ]
    }
   ],
   "execution_count": 146
  },
  {
   "metadata": {
    "ExecuteTime": {
     "end_time": "2024-05-15T01:47:24.124432Z",
     "start_time": "2024-05-15T01:47:24.122440Z"
    }
   },
   "cell_type": "code",
   "source": [
    "cursor.execute('''SELECT * FROM EMPLOYEE''')\n",
    "result = cursor.fetchone()\n",
    "\n",
    "print(result)"
   ],
   "id": "e6bb6f056819ba9c",
   "outputs": [
    {
     "name": "stdout",
     "output_type": "stream",
     "text": [
      "('John', 'Smith', 24, 'M', 3000.0)\n"
     ]
    }
   ],
   "execution_count": 147
  },
  {
   "metadata": {
    "ExecuteTime": {
     "end_time": "2024-05-15T01:47:25.201123Z",
     "start_time": "2024-05-15T01:47:25.199012Z"
    }
   },
   "cell_type": "code",
   "source": [
    "result = cursor.fetchmany(2)\n",
    "print(result)"
   ],
   "id": "4534cb60e54b2431",
   "outputs": [
    {
     "name": "stdout",
     "output_type": "stream",
     "text": [
      "[('Ola', 'Mide', 16, 'M', 900000.0), ('John', 'Smith', 23, 'M', 3000.0)]\n"
     ]
    }
   ],
   "execution_count": 148
  },
  {
   "metadata": {
    "ExecuteTime": {
     "end_time": "2024-05-15T01:47:25.861286Z",
     "start_time": "2024-05-15T01:47:25.859268Z"
    }
   },
   "cell_type": "code",
   "source": [
    "result = cursor.fetchall()\n",
    "print(result)"
   ],
   "id": "571efa509ed09c51",
   "outputs": [
    {
     "name": "stdout",
     "output_type": "stream",
     "text": [
      "[('Janet', 'DOe', 123, 'M', 3000.0), ('Xander', 'Phlip', 30, 'F', 45000.0), ('Ola', 'Mide', 15, 'M', 900000.0), ('Akin', 'Olu', 28, 'M', 3000.0), ('Emmanuel', 'Akinyemi', 28, 'M', 10000.0), ('Chadwick', 'Clerk', 26, 'M', 3000.0), ('Gotham', 'Test', 26, 'M', 3000.0), ('Sourab', 'Test', 26, 'M', 3000.0), ('Sarala', 'Test', 26, 'M', 3000.0)]\n"
     ]
    }
   ],
   "execution_count": 149
  },
  {
   "metadata": {
    "ExecuteTime": {
     "end_time": "2024-05-15T01:47:26.855225Z",
     "start_time": "2024-05-15T01:47:26.852389Z"
    }
   },
   "cell_type": "code",
   "source": [
    "# update column value\n",
    "\n",
    "query = '''UPDATE EMPLOYEE SET AGE = AGE + 1 WHERE SEX = 'M';'''\n",
    "cursor.execute(query)\n",
    "conn.commit()"
   ],
   "id": "3a53a617832cfc38",
   "outputs": [],
   "execution_count": 150
  },
  {
   "metadata": {
    "ExecuteTime": {
     "end_time": "2024-05-15T01:47:32.419169Z",
     "start_time": "2024-05-15T01:47:32.416954Z"
    }
   },
   "cell_type": "code",
   "source": [
    "# a lookup on the table\n",
    "query = '''SELECT * FROM EMPLOYEE'''\n",
    "\n",
    "cursor.execute(query)\n",
    "conn.commit()\n",
    "\n",
    "result = cursor.fetchall()\n",
    "\n",
    "print(result)"
   ],
   "id": "5b3bf5d938a350c6",
   "outputs": [
    {
     "name": "stdout",
     "output_type": "stream",
     "text": [
      "[('John', 'Smith', 25, 'M', 3000.0), ('Ola', 'Mide', 17, 'M', 900000.0), ('John', 'Smith', 24, 'M', 3000.0), ('Janet', 'DOe', 124, 'M', 3000.0), ('Xander', 'Phlip', 30, 'F', 45000.0), ('Ola', 'Mide', 16, 'M', 900000.0), ('Akin', 'Olu', 29, 'M', 3000.0), ('Emmanuel', 'Akinyemi', 29, 'M', 10000.0), ('Chadwick', 'Clerk', 27, 'M', 3000.0), ('Gotham', 'Test', 27, 'M', 3000.0), ('Sourab', 'Test', 27, 'M', 3000.0), ('Sarala', 'Test', 27, 'M', 3000.0)]\n"
     ]
    }
   ],
   "execution_count": 151
  },
  {
   "metadata": {
    "ExecuteTime": {
     "end_time": "2024-05-15T01:47:35.427350Z",
     "start_time": "2024-05-15T01:47:35.424020Z"
    }
   },
   "cell_type": "code",
   "source": [
    "# Delete row from table\n",
    "\n",
    "query = '''DELETE FROM EMPLOYEE WHERE AGE > 100'''\n",
    "cursor.execute(query)\n",
    "conn.commit()"
   ],
   "id": "cc5adf6a2029f25b",
   "outputs": [],
   "execution_count": 152
  },
  {
   "metadata": {
    "ExecuteTime": {
     "end_time": "2024-05-15T01:47:38.589241Z",
     "start_time": "2024-05-15T01:47:38.586764Z"
    }
   },
   "cell_type": "code",
   "source": [
    "# a lookup on the table\n",
    "query = '''SELECT * FROM EMPLOYEE'''\n",
    "\n",
    "cursor.execute(query)\n",
    "conn.commit()\n",
    "\n",
    "result = cursor.fetchall()\n",
    "\n",
    "print(result)"
   ],
   "id": "6021e7127721e37d",
   "outputs": [
    {
     "name": "stdout",
     "output_type": "stream",
     "text": [
      "[('John', 'Smith', 25, 'M', 3000.0), ('Ola', 'Mide', 17, 'M', 900000.0), ('John', 'Smith', 24, 'M', 3000.0), ('Xander', 'Phlip', 30, 'F', 45000.0), ('Ola', 'Mide', 16, 'M', 900000.0), ('Akin', 'Olu', 29, 'M', 3000.0), ('Emmanuel', 'Akinyemi', 29, 'M', 10000.0), ('Chadwick', 'Clerk', 27, 'M', 3000.0), ('Gotham', 'Test', 27, 'M', 3000.0), ('Sourab', 'Test', 27, 'M', 3000.0), ('Sarala', 'Test', 27, 'M', 3000.0)]\n"
     ]
    }
   ],
   "execution_count": 153
  },
  {
   "metadata": {},
   "cell_type": "code",
   "outputs": [],
   "execution_count": null,
   "source": [
    "# DELETE one column from the table\n",
    "# alter table"
   ],
   "id": "6acd43e06d8d8563"
  },
  {
   "metadata": {},
   "cell_type": "code",
   "outputs": [],
   "execution_count": null,
   "source": [
    "# rename column sex to gender\n",
    "# rename the table to my name 'Emmanuel'"
   ],
   "id": "d17566565f3d2da5"
  }
 ],
 "metadata": {
  "kernelspec": {
   "display_name": "Python 3",
   "language": "python",
   "name": "python3"
  },
  "language_info": {
   "codemirror_mode": {
    "name": "ipython",
    "version": 2
   },
   "file_extension": ".py",
   "mimetype": "text/x-python",
   "name": "python",
   "nbconvert_exporter": "python",
   "pygments_lexer": "ipython2",
   "version": "2.7.6"
  }
 },
 "nbformat": 4,
 "nbformat_minor": 5
}
